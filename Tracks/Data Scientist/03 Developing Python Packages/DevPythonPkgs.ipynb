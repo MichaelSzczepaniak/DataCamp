{
 "cells": [
  {
   "cell_type": "markdown",
   "id": "4265335e-9600-42ce-b05f-69726466d84c",
   "metadata": {},
   "source": [
    "## Scripts, modules and Packages\n",
    "\n",
    "+ Scripts - A Python file which is run line `python myscripts.py`\n",
    "+ Package - A directory full of Python code to imported\n",
    "  + e.g. `numpy`\n",
    "+ Subpackage - A smalleter package inside a package\n",
    "  + e.g. `numpy.random` and `numpy.linalg`\n",
    "+ Module - A python file **inside a package** which stores the package code.\n",
    "+ Library - Refers to either a package, or a collection of packages\n",
    "  + e.g. the Python standard library (math, os, datetime, ...)\n"
   ]
  },
  {
   "cell_type": "code",
   "execution_count": 1,
   "id": "a26e0e19-01de-4e2b-859e-3331667d154e",
   "metadata": {},
   "outputs": [
    {
     "name": "stdout",
     "output_type": "stream",
     "text": [
      "18816 positive words.\n",
      "1706 negative words.\n"
     ]
    }
   ],
   "source": [
    "from textanalysis.textanalysis import count_words\n",
    "\n",
    "# Count the number of positive words\n",
    "nb_positive_words = count_words('./data/hotel-reviews.txt', ['good', 'great'])\n",
    "\n",
    "# Count the number of negative words\n",
    "nb_negative_words = count_words('./data/hotel-reviews.txt', ['bad', 'awful'])\n",
    "\n",
    "print(\"{} positive words.\".format(nb_positive_words))\n",
    "print(\"{} negative words.\".format(nb_negative_words))"
   ]
  },
  {
   "cell_type": "markdown",
   "id": "7894dca8-1b19-425d-b8bb-9ae1990d46e9",
   "metadata": {},
   "source": [
    "## Documentation\n",
    "\n",
    "+ Makes it easier for others to use your code\n",
    "+ Should document each:\n",
    "  + Function, Class and Class method\n",
    "+ **Package** documentation goes in `__init__.py` in the package directory\n",
    "+ **Subpackage** documentation goes in `__init__.py` in the subpackage directory\n",
    "+ **Module** documentation is written at the top of the module files\n",
    "+ `pyment` can be used to generate docstrings in one of the 4 styles:\n",
    "  + Google\n",
    "  + Numpydoc\n",
    "  + reST (i.e. reStructured-text)\n",
    "  + Javadoc (i.e. epytext)\n",
    "  + Can be used to modify documentation from one style to another\n",
    "  + e.g., from the termial: `pyment -w -o numpydoc textanalysis.py`\n",
    "    + `-w` - overwrite file\n",
    "    + `-o numpydoc` - output in NumPy style"
   ]
  },
  {
   "cell_type": "markdown",
   "id": "ade957c3-d758-4d2c-a9b4-1ca48a845bc1",
   "metadata": {},
   "source": [
    "## Writing function documentation with pyment on Windows\n",
    "\n",
    "The course materials assume one is working in a **Linux** environment. In a **Windows** environment, you can run the same commands from a the python shell by running `python` from the CLI (command line interface) within a virtual environment or locally after installing python and all you needed packages including `pyment`."
   ]
  },
  {
   "cell_type": "markdown",
   "id": "ce15b589-cb35-43cc-a16f-3aea254b8464",
   "metadata": {},
   "source": [
    "## Sibling Imports\n",
    "\n",
    "Let's say we are developing a package called `impyrial` that has the following structure:\n",
    "\n",
    "<img src=\"./graphics/impyrial_dir_structure.png\"></img>\n",
    "\n",
    "The functions in `core.py` are intended to only be used as **private** functions that are used to make the **public** function work properly. The public-facing function is `convert_unit` in the `api.py` module.\n",
    "\n",
    "If we comment out the imports in lines 2-6 in `api.py`, we'll see the following errory when we try to run the `convert_unit function`:\n",
    "\n",
    "<img src=\"./graphics/name_error1.png\"></img>\n",
    "\n",
    "However, after we add back the imports in these lines, the function works as expected as shown below."
   ]
  },
  {
   "cell_type": "code",
   "execution_count": 2,
   "id": "c6f6c9f1-0848-4104-b063-de5b696b3054",
   "metadata": {},
   "outputs": [
    {
     "name": "stdout",
     "output_type": "stream",
     "text": [
      "0.2777777777777778\n"
     ]
    }
   ],
   "source": [
    "from impyrial.length.api import convert_unit\n",
    "\n",
    "result = convert_unit(10, 'in', 'yd')\n",
    "print(result)"
   ]
  },
  {
   "cell_type": "code",
   "execution_count": 3,
   "id": "7342312d-0337-49f5-8548-3cbf8c155be7",
   "metadata": {},
   "outputs": [
    {
     "name": "stdout",
     "output_type": "stream",
     "text": [
      "0.2777777777777778\n"
     ]
    }
   ],
   "source": [
    "# the same code is the impyrial_p1_test.py test script\n",
    "%run impyrial_p1_test.py"
   ]
  },
  {
   "cell_type": "markdown",
   "id": "43da15c5-dd0d-4a12-8f1e-79236c699441",
   "metadata": {},
   "source": [
    "## Importing from parents\n",
    "\n",
    "Say that we want to import a function from the `utils.py` module at the top of your package. A `utils` module is usually used for small, often unrelated, pieces of code each of which which aren't enough to justify their own module.\n",
    "\n",
    "We'll do this by importing a function for checking the units passed to the `convert_units()` function. We'll use this checking function in another subpackage later. That's why we don't just put this function in one of the modules in the length subpackage."
   ]
  },
  {
   "cell_type": "code",
   "execution_count": 4,
   "id": "10d054f3-e3f7-4932-a6e2-8ffa7f846325",
   "metadata": {},
   "outputs": [
    {
     "name": "stdout",
     "output_type": "stream",
     "text": [
      "The following line should run:\n",
      "0.2777777777777778\n",
      "The following line should cause an error:\n"
     ]
    },
    {
     "ename": "UnboundLocalError",
     "evalue": "cannot access local variable 'inches' where it is not associated with a value",
     "output_type": "error",
     "traceback": [
      "\u001b[31m---------------------------------------------------------------------------\u001b[39m",
      "\u001b[31mUnboundLocalError\u001b[39m                         Traceback (most recent call last)",
      "\u001b[36mCell\u001b[39m\u001b[36m \u001b[39m\u001b[32mIn[4]\u001b[39m\u001b[32m, line 9\u001b[39m\n\u001b[32m      6\u001b[39m \u001b[38;5;28mprint\u001b[39m(result1)\n\u001b[32m      8\u001b[39m \u001b[38;5;28mprint\u001b[39m(\u001b[33m'\u001b[39m\u001b[33mThe following line should cause an error:\u001b[39m\u001b[33m'\u001b[39m)\n\u001b[32m----> \u001b[39m\u001b[32m9\u001b[39m result2 = \u001b[43mconvert_unit\u001b[49m\u001b[43m(\u001b[49m\u001b[32;43m10\u001b[39;49m\u001b[43m,\u001b[49m\u001b[43m \u001b[49m\u001b[33;43m'\u001b[39;49m\u001b[33;43mlb\u001b[39;49m\u001b[33;43m'\u001b[39;49m\u001b[43m,\u001b[49m\u001b[43m \u001b[49m\u001b[33;43m'\u001b[39;49m\u001b[33;43myd\u001b[39;49m\u001b[33;43m'\u001b[39;49m\u001b[43m)\u001b[49m\n\u001b[32m     10\u001b[39m \u001b[38;5;28mprint\u001b[39m(result2)\n",
      "\u001b[36mFile \u001b[39m\u001b[32mD:\\Sync\\ds_ml\\Data Camp\\Track - Data Scientist\\03 Developing Python Packages\\impyrial\\length\\api.py:42\u001b[39m, in \u001b[36mconvert_unit\u001b[39m\u001b[34m(x, from_unit, to_unit)\u001b[39m\n\u001b[32m     40\u001b[39m     value = inches_to_feet(inches)\n\u001b[32m     41\u001b[39m \u001b[38;5;28;01melif\u001b[39;00m to_unit == \u001b[33m\"\u001b[39m\u001b[33myd\u001b[39m\u001b[33m\"\u001b[39m:\n\u001b[32m---> \u001b[39m\u001b[32m42\u001b[39m     value = inches_to_yards(\u001b[43minches\u001b[49m)\n\u001b[32m     44\u001b[39m \u001b[38;5;28;01mreturn\u001b[39;00m value\n",
      "\u001b[31mUnboundLocalError\u001b[39m: cannot access local variable 'inches' where it is not associated with a value"
     ]
    }
   ],
   "source": [
    "from impyrial.length.api import convert_unit\n",
    "\n",
    "# Make sure unit checking is working by trying examples\n",
    "print('The following line should run:')\n",
    "result1 = convert_unit(10, 'in', 'yd')\n",
    "print(result1)\n",
    "\n",
    "print('The following line should cause an error:')\n",
    "result2 = convert_unit(10, 'lb', 'yd')\n",
    "print(result2)\n"
   ]
  },
  {
   "cell_type": "code",
   "execution_count": 5,
   "id": "0fa87fde-19a9-43a4-9edb-54248b85fe23",
   "metadata": {},
   "outputs": [
    {
     "name": "stdout",
     "output_type": "stream",
     "text": [
      "The following line should run:\n",
      "0.2777777777777778\n",
      "The following line should cause an error:\n"
     ]
    },
    {
     "ename": "UnboundLocalError",
     "evalue": "cannot access local variable 'inches' where it is not associated with a value",
     "output_type": "error",
     "traceback": [
      "\u001b[31m---------------------------------------------------------------------------\u001b[39m",
      "\u001b[31mUnboundLocalError\u001b[39m                         Traceback (most recent call last)",
      "\u001b[36mFile \u001b[39m\u001b[32mD:\\Sync\\ds_ml\\Data Camp\\Track - Data Scientist\\03 Developing Python Packages\\impyrial_p2_test.py:9\u001b[39m\n\u001b[32m      6\u001b[39m \u001b[38;5;28mprint\u001b[39m(result1)\n\u001b[32m      8\u001b[39m \u001b[38;5;28mprint\u001b[39m(\u001b[33m'\u001b[39m\u001b[33mThe following line should cause an error:\u001b[39m\u001b[33m'\u001b[39m)\n\u001b[32m----> \u001b[39m\u001b[32m9\u001b[39m result2 = \u001b[43mconvert_unit\u001b[49m\u001b[43m(\u001b[49m\u001b[32;43m10\u001b[39;49m\u001b[43m,\u001b[49m\u001b[43m \u001b[49m\u001b[33;43m'\u001b[39;49m\u001b[33;43mlb\u001b[39;49m\u001b[33;43m'\u001b[39;49m\u001b[43m,\u001b[49m\u001b[43m \u001b[49m\u001b[33;43m'\u001b[39;49m\u001b[33;43myd\u001b[39;49m\u001b[33;43m'\u001b[39;49m\u001b[43m)\u001b[49m\n\u001b[32m     10\u001b[39m \u001b[38;5;28mprint\u001b[39m(result2)\n",
      "\u001b[36mFile \u001b[39m\u001b[32mD:\\Sync\\ds_ml\\Data Camp\\Track - Data Scientist\\03 Developing Python Packages\\impyrial\\length\\api.py:42\u001b[39m, in \u001b[36mconvert_unit\u001b[39m\u001b[34m(x, from_unit, to_unit)\u001b[39m\n\u001b[32m     40\u001b[39m     value = inches_to_feet(inches)\n\u001b[32m     41\u001b[39m \u001b[38;5;28;01melif\u001b[39;00m to_unit == \u001b[33m\"\u001b[39m\u001b[33myd\u001b[39m\u001b[33m\"\u001b[39m:\n\u001b[32m---> \u001b[39m\u001b[32m42\u001b[39m     value = inches_to_yards(\u001b[43minches\u001b[49m)\n\u001b[32m     44\u001b[39m \u001b[38;5;28;01mreturn\u001b[39;00m value\n",
      "\u001b[31mUnboundLocalError\u001b[39m: cannot access local variable 'inches' where it is not associated with a value"
     ]
    }
   ],
   "source": [
    "# the same code is the impyrial_p2_test.py test script\n",
    "%run impyrial_p2_test.py"
   ]
  },
  {
   "cell_type": "code",
   "execution_count": null,
   "id": "cba178f0-c519-4b02-8513-b40e6ce62888",
   "metadata": {},
   "outputs": [],
   "source": []
  },
  {
   "cell_type": "code",
   "execution_count": null,
   "id": "22d00d99-6c69-4e79-829d-5b4c7e4dd139",
   "metadata": {},
   "outputs": [],
   "source": []
  },
  {
   "cell_type": "code",
   "execution_count": null,
   "id": "f298938b-e76c-4f6e-a256-36b87058b096",
   "metadata": {},
   "outputs": [],
   "source": []
  },
  {
   "cell_type": "code",
   "execution_count": null,
   "id": "77a7a3fb-71c8-4adc-a1aa-de5471acb0d6",
   "metadata": {},
   "outputs": [],
   "source": []
  },
  {
   "cell_type": "code",
   "execution_count": null,
   "id": "c067f892-9455-497d-9af4-628b8673e3ce",
   "metadata": {},
   "outputs": [],
   "source": []
  },
  {
   "cell_type": "code",
   "execution_count": null,
   "id": "68241042-b915-4f71-8563-188d08e60ad4",
   "metadata": {},
   "outputs": [],
   "source": []
  },
  {
   "cell_type": "code",
   "execution_count": null,
   "id": "4c2d3a53-a00d-45d1-a2f9-d98afad35e99",
   "metadata": {},
   "outputs": [],
   "source": []
  }
 ],
 "metadata": {
  "kernelspec": {
   "display_name": "Python 3 (ipykernel)",
   "language": "python",
   "name": "python3"
  },
  "language_info": {
   "codemirror_mode": {
    "name": "ipython",
    "version": 3
   },
   "file_extension": ".py",
   "mimetype": "text/x-python",
   "name": "python",
   "nbconvert_exporter": "python",
   "pygments_lexer": "ipython3",
   "version": "3.13.7"
  }
 },
 "nbformat": 4,
 "nbformat_minor": 5
}
