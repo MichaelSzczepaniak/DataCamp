{
 "cells": [
  {
   "cell_type": "markdown",
   "id": "4265335e-9600-42ce-b05f-69726466d84c",
   "metadata": {},
   "source": [
    "## Scripts, modules and Packages\n",
    "\n",
    "+ Scripts - A Python file which is run line `python myscripts.py`\n",
    "+ Package - A directory full of Python code to imported\n",
    "  + e.g. `numpy`\n",
    "+ Subpackage - A smalleter package inside a package\n",
    "  + e.g. `numpy.random` and `numpy.linalg`\n",
    "+ Module - A python file **inside a package** which stores the package code.\n",
    "+ Library - Refers to either a package, or a collection of packages\n",
    "  + e.g. the Python standard library (math, os, datetime, ...)\n"
   ]
  },
  {
   "cell_type": "code",
   "execution_count": 1,
   "id": "a26e0e19-01de-4e2b-859e-3331667d154e",
   "metadata": {},
   "outputs": [
    {
     "name": "stdout",
     "output_type": "stream",
     "text": [
      "18816 positive words.\n",
      "1706 negative words.\n"
     ]
    }
   ],
   "source": [
    "from textanalysis.textanalysis import count_words\n",
    "\n",
    "# Count the number of positive words\n",
    "nb_positive_words = count_words('./data/hotel-reviews.txt', ['good', 'great'])\n",
    "\n",
    "# Count the number of negative words\n",
    "nb_negative_words = count_words('./data/hotel-reviews.txt', ['bad', 'awful'])\n",
    "\n",
    "print(\"{} positive words.\".format(nb_positive_words))\n",
    "print(\"{} negative words.\".format(nb_negative_words))"
   ]
  },
  {
   "cell_type": "markdown",
   "id": "7894dca8-1b19-425d-b8bb-9ae1990d46e9",
   "metadata": {},
   "source": [
    "## Documentation\n",
    "\n",
    "+ Makes it easier for others to use your code\n",
    "+ Should document each:\n",
    "  + Function, Class and Class method\n",
    "+ **Package** documentation goes in `__init__.py` in the package directory\n",
    "+ **Subpackage** documentation goes in `__init__.py` in the subpackage directory\n",
    "+ **Module** documentation is written at the top of the module files\n",
    "+ `pyment` can be used to generate docstrings in one of the 4 styles:\n",
    "  + Google\n",
    "  + Numpydoc\n",
    "  + reST (i.e. reStructured-text)\n",
    "  + Javadoc (i.e. epytext)\n",
    "  + Can be used to modify documentation from one style to another\n",
    "  + e.g., from the termial: `pyment -w -o numpydoc textanalysis.py`\n",
    "    + `-w` - overwrite file\n",
    "    + `-o numpydoc` - output in NumPy style"
   ]
  },
  {
   "cell_type": "markdown",
   "id": "ade957c3-d758-4d2c-a9b4-1ca48a845bc1",
   "metadata": {},
   "source": [
    "## Writing function documentation with pyment on Windows\n",
    "\n",
    "The course materials assume one is working in a **Linux** environment. In a **Windows** environment, you can run the same commands from a the python shell by running `python` from the CLI (command line interface) within a virtual environment or locally after installing python and all you needed packages including `pyment`."
   ]
  },
  {
   "cell_type": "code",
   "execution_count": null,
   "id": "7342312d-0337-49f5-8548-3cbf8c155be7",
   "metadata": {},
   "outputs": [],
   "source": []
  },
  {
   "cell_type": "code",
   "execution_count": null,
   "id": "6fe8617b-f17a-4bb7-9418-d03739bcb3d0",
   "metadata": {},
   "outputs": [],
   "source": []
  },
  {
   "cell_type": "code",
   "execution_count": null,
   "id": "0fa87fde-19a9-43a4-9edb-54248b85fe23",
   "metadata": {},
   "outputs": [],
   "source": []
  },
  {
   "cell_type": "code",
   "execution_count": null,
   "id": "cba178f0-c519-4b02-8513-b40e6ce62888",
   "metadata": {},
   "outputs": [],
   "source": []
  },
  {
   "cell_type": "code",
   "execution_count": null,
   "id": "22d00d99-6c69-4e79-829d-5b4c7e4dd139",
   "metadata": {},
   "outputs": [],
   "source": []
  },
  {
   "cell_type": "code",
   "execution_count": null,
   "id": "f298938b-e76c-4f6e-a256-36b87058b096",
   "metadata": {},
   "outputs": [],
   "source": []
  },
  {
   "cell_type": "code",
   "execution_count": null,
   "id": "77a7a3fb-71c8-4adc-a1aa-de5471acb0d6",
   "metadata": {},
   "outputs": [],
   "source": []
  },
  {
   "cell_type": "code",
   "execution_count": null,
   "id": "c067f892-9455-497d-9af4-628b8673e3ce",
   "metadata": {},
   "outputs": [],
   "source": []
  },
  {
   "cell_type": "code",
   "execution_count": null,
   "id": "68241042-b915-4f71-8563-188d08e60ad4",
   "metadata": {},
   "outputs": [],
   "source": []
  },
  {
   "cell_type": "code",
   "execution_count": null,
   "id": "4c2d3a53-a00d-45d1-a2f9-d98afad35e99",
   "metadata": {},
   "outputs": [],
   "source": []
  }
 ],
 "metadata": {
  "kernelspec": {
   "display_name": "Python 3 (ipykernel)",
   "language": "python",
   "name": "python3"
  },
  "language_info": {
   "codemirror_mode": {
    "name": "ipython",
    "version": 3
   },
   "file_extension": ".py",
   "mimetype": "text/x-python",
   "name": "python",
   "nbconvert_exporter": "python",
   "pygments_lexer": "ipython3",
   "version": "3.13.7"
  }
 },
 "nbformat": 4,
 "nbformat_minor": 5
}
