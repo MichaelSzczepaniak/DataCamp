{
 "cells": [
  {
   "cell_type": "markdown",
   "id": "3ed0edb2-696b-49ab-9db0-681defcce695",
   "metadata": {},
   "source": [
    "![A soccer pitch for an international match.](soccer-pitch.jpg)\n",
    "\n",
    "***Scenario:*** You're working as a sports journalist at a major online sports media company, specializing in soccer analysis and reporting. You've been watching both men's and women's international soccer matches for a number of years, and your gut instinct tells you that more goals are scored in women's international football matches than men's. This would make an interesting investigative article that your subscribers are bound to love, but you'll need to perform a valid statistical hypothesis test to be sure!\n",
    "\n",
    "While scoping this project, you acknowledge that the sport has changed a lot over the years, and performances likely vary a lot depending on the tournament, so you decide to limit the data used in the analysis to only official `FIFA World Cup` matches (not including qualifiers) since `2002-01-01`.\n",
    "\n",
    "You create two datasets containing the results of every official men's and women's international football match since the 19th century, which you scraped from a reliable online source. This data is stored in two CSV files: `women_results.csv` and `men_results.csv`.\n",
    "\n",
    "The question we are trying to determine the answer to is:\n",
    "\n",
    "> Are more goals scored in women's international soccer matches than men's?\n",
    "\n",
    "You assume a **10% significance level**, and use the following null and alternative hypotheses:\n",
    "\n",
    "$H_0$ : The mean number of goals scored in women's international soccer matches is the same as men's.\n",
    "\n",
    "$H_A$ : The mean number of goals scored in women's international soccer matches is greater than men's."
   ]
  },
  {
   "cell_type": "code",
   "execution_count": 1,
   "id": "f2379d67-7439-4ddc-a017-a451362aa8ea",
   "metadata": {},
   "outputs": [
    {
     "name": "stdout",
     "output_type": "stream",
     "text": [
      "Index(['Unnamed: 0', 'date', 'home_team', 'away_team', 'home_score',\n",
      "       'away_score', 'tournament'],\n",
      "      dtype='object')\n",
      "Index(['Unnamed: 0', 'date', 'home_team', 'away_team', 'home_score',\n",
      "       'away_score', 'tournament'],\n",
      "      dtype='object')\n"
     ]
    }
   ],
   "source": [
    "import pandas as pd\n",
    "\n",
    "# read data\n",
    "df_men_socc = pd.read_csv('./data/men_results.csv')\n",
    "df_women_socc = pd.read_csv('./data/women_results.csv')\n",
    "# check the columns\n",
    "print(df_men_socc.columns)\n",
    "print(df_women_socc.columns)"
   ]
  },
  {
   "cell_type": "code",
   "execution_count": 2,
   "id": "a34a9e61-7d8f-4a07-be98-c7f79780cdc8",
   "metadata": {},
   "outputs": [
    {
     "name": "stdout",
     "output_type": "stream",
     "text": [
      "shape BEFORE any filtering: (49237, 7)\n"
     ]
    },
    {
     "data": {
      "text/html": [
       "<div>\n",
       "<style scoped>\n",
       "    .dataframe tbody tr th:only-of-type {\n",
       "        vertical-align: middle;\n",
       "    }\n",
       "\n",
       "    .dataframe tbody tr th {\n",
       "        vertical-align: top;\n",
       "    }\n",
       "\n",
       "    .dataframe thead th {\n",
       "        text-align: right;\n",
       "    }\n",
       "</style>\n",
       "<table border=\"1\" class=\"dataframe\">\n",
       "  <thead>\n",
       "    <tr style=\"text-align: right;\">\n",
       "      <th></th>\n",
       "      <th>date</th>\n",
       "      <th>home_team</th>\n",
       "      <th>away_team</th>\n",
       "      <th>home_score</th>\n",
       "      <th>away_score</th>\n",
       "      <th>tournament</th>\n",
       "      <th>gender</th>\n",
       "    </tr>\n",
       "  </thead>\n",
       "  <tbody>\n",
       "    <tr>\n",
       "      <th>0</th>\n",
       "      <td>1872-11-30</td>\n",
       "      <td>Scotland</td>\n",
       "      <td>England</td>\n",
       "      <td>0</td>\n",
       "      <td>0</td>\n",
       "      <td>Friendly</td>\n",
       "      <td>men</td>\n",
       "    </tr>\n",
       "    <tr>\n",
       "      <th>1</th>\n",
       "      <td>1873-03-08</td>\n",
       "      <td>England</td>\n",
       "      <td>Scotland</td>\n",
       "      <td>4</td>\n",
       "      <td>2</td>\n",
       "      <td>Friendly</td>\n",
       "      <td>men</td>\n",
       "    </tr>\n",
       "    <tr>\n",
       "      <th>2</th>\n",
       "      <td>1874-03-07</td>\n",
       "      <td>Scotland</td>\n",
       "      <td>England</td>\n",
       "      <td>2</td>\n",
       "      <td>1</td>\n",
       "      <td>Friendly</td>\n",
       "      <td>men</td>\n",
       "    </tr>\n",
       "    <tr>\n",
       "      <th>3</th>\n",
       "      <td>1875-03-06</td>\n",
       "      <td>England</td>\n",
       "      <td>Scotland</td>\n",
       "      <td>2</td>\n",
       "      <td>2</td>\n",
       "      <td>Friendly</td>\n",
       "      <td>men</td>\n",
       "    </tr>\n",
       "    <tr>\n",
       "      <th>4</th>\n",
       "      <td>1876-03-04</td>\n",
       "      <td>Scotland</td>\n",
       "      <td>England</td>\n",
       "      <td>3</td>\n",
       "      <td>0</td>\n",
       "      <td>Friendly</td>\n",
       "      <td>men</td>\n",
       "    </tr>\n",
       "  </tbody>\n",
       "</table>\n",
       "</div>"
      ],
      "text/plain": [
       "         date home_team away_team  home_score  away_score tournament gender\n",
       "0  1872-11-30  Scotland   England           0           0   Friendly    men\n",
       "1  1873-03-08   England  Scotland           4           2   Friendly    men\n",
       "2  1874-03-07  Scotland   England           2           1   Friendly    men\n",
       "3  1875-03-06   England  Scotland           2           2   Friendly    men\n",
       "4  1876-03-04  Scotland   England           3           0   Friendly    men"
      ]
     },
     "execution_count": 2,
     "metadata": {},
     "output_type": "execute_result"
    }
   ],
   "source": [
    "# drop the redundant index column\n",
    "df_men_socc.drop('Unnamed: 0', axis='columns', inplace=True)\n",
    "df_women_socc.drop('Unnamed: 0', axis='columns', inplace=True)\n",
    "# add gender column so we can combine\n",
    "df_men_socc['gender'] = \"men\"\n",
    "df_women_socc['gender'] = \"women\"\n",
    "# combine\n",
    "df_all = pd.concat([df_men_socc, df_women_socc], ignore_index=True)\n",
    "print(f\"shape BEFORE any filtering: {df_all.shape}\")\n",
    "df_all.head()"
   ]
  },
  {
   "cell_type": "code",
   "execution_count": 3,
   "id": "04a1196d-279c-41e6-b1ba-5b2d3d5cd743",
   "metadata": {},
   "outputs": [
    {
     "name": "stdout",
     "output_type": "stream",
     "text": [
      "shape BEFORE removing matches before 2002-01-01: (49237, 7)\n",
      "shape AFTER removing matches before 2002-01-01: (23009, 7)\n"
     ]
    },
    {
     "data": {
      "text/html": [
       "<div>\n",
       "<style scoped>\n",
       "    .dataframe tbody tr th:only-of-type {\n",
       "        vertical-align: middle;\n",
       "    }\n",
       "\n",
       "    .dataframe tbody tr th {\n",
       "        vertical-align: top;\n",
       "    }\n",
       "\n",
       "    .dataframe thead th {\n",
       "        text-align: right;\n",
       "    }\n",
       "</style>\n",
       "<table border=\"1\" class=\"dataframe\">\n",
       "  <thead>\n",
       "    <tr style=\"text-align: right;\">\n",
       "      <th></th>\n",
       "      <th>date</th>\n",
       "      <th>home_team</th>\n",
       "      <th>away_team</th>\n",
       "      <th>home_score</th>\n",
       "      <th>away_score</th>\n",
       "      <th>tournament</th>\n",
       "      <th>gender</th>\n",
       "    </tr>\n",
       "  </thead>\n",
       "  <tbody>\n",
       "    <tr>\n",
       "      <th>24863</th>\n",
       "      <td>2002-01-04</td>\n",
       "      <td>Bahrain</td>\n",
       "      <td>Finland</td>\n",
       "      <td>0</td>\n",
       "      <td>2</td>\n",
       "      <td>Prime Minister's Cup</td>\n",
       "      <td>men</td>\n",
       "    </tr>\n",
       "    <tr>\n",
       "      <th>24864</th>\n",
       "      <td>2002-01-04</td>\n",
       "      <td>Egypt</td>\n",
       "      <td>Ghana</td>\n",
       "      <td>2</td>\n",
       "      <td>0</td>\n",
       "      <td>Friendly</td>\n",
       "      <td>men</td>\n",
       "    </tr>\n",
       "    <tr>\n",
       "      <th>24865</th>\n",
       "      <td>2002-01-04</td>\n",
       "      <td>Martinique</td>\n",
       "      <td>Guadeloupe</td>\n",
       "      <td>1</td>\n",
       "      <td>3</td>\n",
       "      <td>Friendly</td>\n",
       "      <td>men</td>\n",
       "    </tr>\n",
       "    <tr>\n",
       "      <th>24866</th>\n",
       "      <td>2002-01-05</td>\n",
       "      <td>Albania</td>\n",
       "      <td>North Macedonia</td>\n",
       "      <td>0</td>\n",
       "      <td>0</td>\n",
       "      <td>Prime Minister's Cup</td>\n",
       "      <td>men</td>\n",
       "    </tr>\n",
       "    <tr>\n",
       "      <th>24867</th>\n",
       "      <td>2002-01-05</td>\n",
       "      <td>Kuwait</td>\n",
       "      <td>Zimbabwe</td>\n",
       "      <td>3</td>\n",
       "      <td>0</td>\n",
       "      <td>Friendly</td>\n",
       "      <td>men</td>\n",
       "    </tr>\n",
       "  </tbody>\n",
       "</table>\n",
       "</div>"
      ],
      "text/plain": [
       "             date   home_team        away_team  home_score  away_score  \\\n",
       "24863  2002-01-04     Bahrain          Finland           0           2   \n",
       "24864  2002-01-04       Egypt            Ghana           2           0   \n",
       "24865  2002-01-04  Martinique       Guadeloupe           1           3   \n",
       "24866  2002-01-05     Albania  North Macedonia           0           0   \n",
       "24867  2002-01-05      Kuwait         Zimbabwe           3           0   \n",
       "\n",
       "                 tournament gender  \n",
       "24863  Prime Minister's Cup    men  \n",
       "24864              Friendly    men  \n",
       "24865              Friendly    men  \n",
       "24866  Prime Minister's Cup    men  \n",
       "24867              Friendly    men  "
      ]
     },
     "execution_count": 3,
     "metadata": {},
     "output_type": "execute_result"
    }
   ],
   "source": [
    "# remove all rows before 2002-01-01\n",
    "print(f\"shape BEFORE removing matches before 2002-01-01: {df_all.shape}\")\n",
    "df_all = df_all.loc[df_all['date'] >= '2002-01-01'].copy()\n",
    "print(f\"shape AFTER removing matches before 2002-01-01: {df_all.shape}\")\n",
    "df_all.head()"
   ]
  },
  {
   "cell_type": "markdown",
   "id": "bfe9cba3-bd5a-4837-898a-b8a64da3d4b3",
   "metadata": {},
   "source": [
    "## Remove qualifier matches"
   ]
  },
  {
   "cell_type": "code",
   "execution_count": 4,
   "id": "378a5c1c-e102-43e4-8573-db00a8974454",
   "metadata": {},
   "outputs": [
    {
     "name": "stdout",
     "output_type": "stream",
     "text": [
      "tournament\n",
      "Friendly                                6936\n",
      "FIFA World Cup qualification            4340\n",
      "UEFA Euro qualification                 2149\n",
      "African Cup of Nations qualification     968\n",
      "FIFA World Cup                           584\n",
      "                                        ... \n",
      "Copa América qualification                 2\n",
      "Atlantic Heritage Cup                      2\n",
      "Copa Confraternidad                        1\n",
      "TIFOCO Tournament                          1\n",
      "CONMEBOL–UEFA Cup of Champions             1\n",
      "Name: count, Length: 100, dtype: int64 \n",
      "\n",
      "tournament\n",
      "Friendly                          6936\n",
      "FIFA World Cup                     584\n",
      "UEFA Nations League                468\n",
      "Algarve Cup                        430\n",
      "African Cup of Nations             405\n",
      "                                  ... \n",
      "Copa Paz del Chaco                   2\n",
      "Atlantic Heritage Cup                2\n",
      "Copa Confraternidad                  1\n",
      "TIFOCO Tournament                    1\n",
      "CONMEBOL–UEFA Cup of Champions       1\n",
      "Name: count, Length: 82, dtype: int64 \n",
      "\n",
      "total count of tournament types BEFORE filtering: 100\n",
      "total count of tournament types  AFTER filtering: 82 \n",
      "\n"
     ]
    }
   ],
   "source": [
    "tournaments = df_all[\"tournament\"].value_counts()\n",
    "is_qual = tournaments.index.str.contains(\"qualification\")\n",
    "non_quals = tournaments[~is_qual]\n",
    "# print(is_qual, '\\n')\n",
    "print(tournaments, '\\n')\n",
    "print(non_quals, '\\n')\n",
    "print(f\"total count of tournament types BEFORE filtering: {len(tournaments)}\")\n",
    "print(f\"total count of tournament types  AFTER filtering: {len(non_quals)} \\n\")"
   ]
  },
  {
   "cell_type": "code",
   "execution_count": 5,
   "id": "d0419ea7-45f4-4b02-90e5-22da88142780",
   "metadata": {},
   "outputs": [
    {
     "name": "stdout",
     "output_type": "stream",
     "text": [
      "shape BEFORE removing qualification matches: (23009, 7)\n",
      "shape AFTER removing qualification matches: (14060, 7)\n"
     ]
    },
    {
     "data": {
      "text/html": [
       "<div>\n",
       "<style scoped>\n",
       "    .dataframe tbody tr th:only-of-type {\n",
       "        vertical-align: middle;\n",
       "    }\n",
       "\n",
       "    .dataframe tbody tr th {\n",
       "        vertical-align: top;\n",
       "    }\n",
       "\n",
       "    .dataframe thead th {\n",
       "        text-align: right;\n",
       "    }\n",
       "</style>\n",
       "<table border=\"1\" class=\"dataframe\">\n",
       "  <thead>\n",
       "    <tr style=\"text-align: right;\">\n",
       "      <th></th>\n",
       "      <th>date</th>\n",
       "      <th>home_team</th>\n",
       "      <th>away_team</th>\n",
       "      <th>home_score</th>\n",
       "      <th>away_score</th>\n",
       "      <th>tournament</th>\n",
       "      <th>gender</th>\n",
       "    </tr>\n",
       "  </thead>\n",
       "  <tbody>\n",
       "    <tr>\n",
       "      <th>24863</th>\n",
       "      <td>2002-01-04</td>\n",
       "      <td>Bahrain</td>\n",
       "      <td>Finland</td>\n",
       "      <td>0</td>\n",
       "      <td>2</td>\n",
       "      <td>Prime Minister's Cup</td>\n",
       "      <td>men</td>\n",
       "    </tr>\n",
       "    <tr>\n",
       "      <th>24864</th>\n",
       "      <td>2002-01-04</td>\n",
       "      <td>Egypt</td>\n",
       "      <td>Ghana</td>\n",
       "      <td>2</td>\n",
       "      <td>0</td>\n",
       "      <td>Friendly</td>\n",
       "      <td>men</td>\n",
       "    </tr>\n",
       "    <tr>\n",
       "      <th>24865</th>\n",
       "      <td>2002-01-04</td>\n",
       "      <td>Martinique</td>\n",
       "      <td>Guadeloupe</td>\n",
       "      <td>1</td>\n",
       "      <td>3</td>\n",
       "      <td>Friendly</td>\n",
       "      <td>men</td>\n",
       "    </tr>\n",
       "    <tr>\n",
       "      <th>24866</th>\n",
       "      <td>2002-01-05</td>\n",
       "      <td>Albania</td>\n",
       "      <td>North Macedonia</td>\n",
       "      <td>0</td>\n",
       "      <td>0</td>\n",
       "      <td>Prime Minister's Cup</td>\n",
       "      <td>men</td>\n",
       "    </tr>\n",
       "    <tr>\n",
       "      <th>24867</th>\n",
       "      <td>2002-01-05</td>\n",
       "      <td>Kuwait</td>\n",
       "      <td>Zimbabwe</td>\n",
       "      <td>3</td>\n",
       "      <td>0</td>\n",
       "      <td>Friendly</td>\n",
       "      <td>men</td>\n",
       "    </tr>\n",
       "  </tbody>\n",
       "</table>\n",
       "</div>"
      ],
      "text/plain": [
       "             date   home_team        away_team  home_score  away_score  \\\n",
       "24863  2002-01-04     Bahrain          Finland           0           2   \n",
       "24864  2002-01-04       Egypt            Ghana           2           0   \n",
       "24865  2002-01-04  Martinique       Guadeloupe           1           3   \n",
       "24866  2002-01-05     Albania  North Macedonia           0           0   \n",
       "24867  2002-01-05      Kuwait         Zimbabwe           3           0   \n",
       "\n",
       "                 tournament gender  \n",
       "24863  Prime Minister's Cup    men  \n",
       "24864              Friendly    men  \n",
       "24865              Friendly    men  \n",
       "24866  Prime Minister's Cup    men  \n",
       "24867              Friendly    men  "
      ]
     },
     "execution_count": 5,
     "metadata": {},
     "output_type": "execute_result"
    }
   ],
   "source": [
    "# remove all rows of qualification matches\n",
    "print(f\"shape BEFORE removing qualification matches: {df_all.shape}\")\n",
    "df_all = df_all.loc[df_all['tournament'].isin(non_quals.index)].copy()\n",
    "print(f\"shape AFTER removing qualification matches: {df_all.shape}\")\n",
    "df_all.head()"
   ]
  },
  {
   "cell_type": "markdown",
   "id": "c281653e-1de8-4afb-b064-1de7c2e621f6",
   "metadata": {},
   "source": [
    "## Remove all non-FIFA matches"
   ]
  },
  {
   "cell_type": "code",
   "execution_count": 6,
   "id": "4544f964-df65-4ced-9753-4d035449ced0",
   "metadata": {},
   "outputs": [
    {
     "name": "stdout",
     "output_type": "stream",
     "text": [
      "584\n",
      "(584, 7)\n"
     ]
    },
    {
     "data": {
      "text/plain": [
       "gender\n",
       "men      384\n",
       "women    200\n",
       "Name: count, dtype: int64"
      ]
     },
     "execution_count": 6,
     "metadata": {},
     "output_type": "execute_result"
    }
   ],
   "source": [
    "print(df_all[\"tournament\"].value_counts()[\"FIFA World Cup\"])  # 584\n",
    "df_all_fifa = df_all[df_all['tournament'] == \"FIFA World Cup\"].copy()  # avoids SettingWithCopyWarning 2 cells down\n",
    "print(df_all_fifa.shape)  # should be 584\n",
    "df_all_fifa[\"gender\"].value_counts()  # not horribly lopsided..."
   ]
  },
  {
   "cell_type": "code",
   "execution_count": 7,
   "id": "f6603945-74fd-4fc3-bb78-799a9299f476",
   "metadata": {},
   "outputs": [
    {
     "name": "stdout",
     "output_type": "stream",
     "text": [
      "       home_score  away_score  total_goals\n",
      "count  384.000000  384.000000   384.000000\n",
      "mean     1.375000    1.138021     2.513021\n",
      "std      1.328538    1.107398     1.652544\n",
      "min      0.000000    0.000000     0.000000\n",
      "25%      0.000000    0.000000     1.000000\n",
      "50%      1.000000    1.000000     2.000000\n",
      "75%      2.000000    2.000000     3.000000\n",
      "max      8.000000    7.000000     8.000000 \n",
      "\n",
      "       home_score  away_score  total_goals\n",
      "count  200.000000  200.000000   200.000000\n",
      "mean     1.805000    1.175000     2.980000\n",
      "std      1.937977    1.289453     2.022387\n",
      "min      0.000000    0.000000     0.000000\n",
      "25%      1.000000    0.000000     2.000000\n",
      "50%      1.000000    1.000000     3.000000\n",
      "75%      2.000000    2.000000     4.000000\n",
      "max     13.000000    7.000000    13.000000 \n",
      "\n"
     ]
    },
    {
     "data": {
      "text/html": [
       "<div>\n",
       "<style scoped>\n",
       "    .dataframe tbody tr th:only-of-type {\n",
       "        vertical-align: middle;\n",
       "    }\n",
       "\n",
       "    .dataframe tbody tr th {\n",
       "        vertical-align: top;\n",
       "    }\n",
       "\n",
       "    .dataframe thead th {\n",
       "        text-align: right;\n",
       "    }\n",
       "</style>\n",
       "<table border=\"1\" class=\"dataframe\">\n",
       "  <thead>\n",
       "    <tr style=\"text-align: right;\">\n",
       "      <th></th>\n",
       "      <th>date</th>\n",
       "      <th>home_team</th>\n",
       "      <th>away_team</th>\n",
       "      <th>home_score</th>\n",
       "      <th>away_score</th>\n",
       "      <th>tournament</th>\n",
       "      <th>gender</th>\n",
       "      <th>total_goals</th>\n",
       "    </tr>\n",
       "  </thead>\n",
       "  <tbody>\n",
       "    <tr>\n",
       "      <th>25164</th>\n",
       "      <td>2002-05-31</td>\n",
       "      <td>France</td>\n",
       "      <td>Senegal</td>\n",
       "      <td>0</td>\n",
       "      <td>1</td>\n",
       "      <td>FIFA World Cup</td>\n",
       "      <td>men</td>\n",
       "      <td>1</td>\n",
       "    </tr>\n",
       "    <tr>\n",
       "      <th>25165</th>\n",
       "      <td>2002-06-01</td>\n",
       "      <td>Germany</td>\n",
       "      <td>Saudi Arabia</td>\n",
       "      <td>8</td>\n",
       "      <td>0</td>\n",
       "      <td>FIFA World Cup</td>\n",
       "      <td>men</td>\n",
       "      <td>8</td>\n",
       "    </tr>\n",
       "    <tr>\n",
       "      <th>25166</th>\n",
       "      <td>2002-06-01</td>\n",
       "      <td>Republic of Ireland</td>\n",
       "      <td>Cameroon</td>\n",
       "      <td>1</td>\n",
       "      <td>1</td>\n",
       "      <td>FIFA World Cup</td>\n",
       "      <td>men</td>\n",
       "      <td>2</td>\n",
       "    </tr>\n",
       "    <tr>\n",
       "      <th>25167</th>\n",
       "      <td>2002-06-01</td>\n",
       "      <td>Uruguay</td>\n",
       "      <td>Denmark</td>\n",
       "      <td>1</td>\n",
       "      <td>2</td>\n",
       "      <td>FIFA World Cup</td>\n",
       "      <td>men</td>\n",
       "      <td>3</td>\n",
       "    </tr>\n",
       "    <tr>\n",
       "      <th>25168</th>\n",
       "      <td>2002-06-02</td>\n",
       "      <td>Argentina</td>\n",
       "      <td>Nigeria</td>\n",
       "      <td>1</td>\n",
       "      <td>0</td>\n",
       "      <td>FIFA World Cup</td>\n",
       "      <td>men</td>\n",
       "      <td>1</td>\n",
       "    </tr>\n",
       "  </tbody>\n",
       "</table>\n",
       "</div>"
      ],
      "text/plain": [
       "             date            home_team     away_team  home_score  away_score  \\\n",
       "25164  2002-05-31               France       Senegal           0           1   \n",
       "25165  2002-06-01              Germany  Saudi Arabia           8           0   \n",
       "25166  2002-06-01  Republic of Ireland      Cameroon           1           1   \n",
       "25167  2002-06-01              Uruguay       Denmark           1           2   \n",
       "25168  2002-06-02            Argentina       Nigeria           1           0   \n",
       "\n",
       "           tournament gender  total_goals  \n",
       "25164  FIFA World Cup    men            1  \n",
       "25165  FIFA World Cup    men            8  \n",
       "25166  FIFA World Cup    men            2  \n",
       "25167  FIFA World Cup    men            3  \n",
       "25168  FIFA World Cup    men            1  "
      ]
     },
     "execution_count": 7,
     "metadata": {},
     "output_type": "execute_result"
    }
   ],
   "source": [
    "# add column of total goals scored needed for comparison\n",
    "df_all_fifa[\"total_goals\"] = df_all_fifa['home_score'] + df_all_fifa['away_score']\n",
    "\n",
    "print(df_all_fifa[df_all_fifa[\"gender\"] == \"men\"].describe(), '\\n')    # 384\n",
    "print(df_all_fifa[df_all_fifa[\"gender\"] == \"women\"].describe(), '\\n')  # 200\n",
    "\n",
    "# df_all_fifa.to_csv(\"./data/df_fifa.csv\")\n",
    "\n",
    "df_all_fifa.head()"
   ]
  },
  {
   "cell_type": "markdown",
   "id": "2c78fd3a-19dd-4567-951f-a764d5e47fe9",
   "metadata": {},
   "source": [
    "## Goal distributions\n",
    "\n",
    "Before selecting a test to test our hypothesis, let's looks at the shape of the total goals distributions. It is not obvious from the visual below that women matches score more goals on average. We can also see that these distributions clearly are **not** normal which we knew in advance to be the case because it is a discrete distribution with the left side being bounded by zero (i.e. can not go below zero)."
   ]
  },
  {
   "cell_type": "code",
   "execution_count": 8,
   "id": "9757a1f5-97d0-46da-b68a-9c21c514cdec",
   "metadata": {},
   "outputs": [
    {
     "data": {
      "image/png": "[encoded data removed]",
      "text/plain": [
       "<Figure size 640x480 with 1 Axes>"
      ]
     },
     "metadata": {},
     "output_type": "display_data"
    }
   ],
   "source": [
    "import matplotlib.pyplot as plt\n",
    "import seaborn as sns\n",
    "\n",
    "goal_bins = range(14)\n",
    "men_mean = df_all_fifa[df_all_fifa['gender'] == 'men']['total_goals'].mean()\n",
    "women_mean = df_all_fifa[df_all_fifa['gender'] == 'women']['total_goals'].mean()\n",
    "\n",
    "fig, ax = plt.subplots()\n",
    "ax.hist(df_all_fifa[df_all_fifa['gender'] == 'women']['total_goals'],\n",
    "        label=\"women\", bins=goal_bins, histtype=\"step\", density=True, color='orange')\n",
    "ax.hist(df_all_fifa[df_all_fifa['gender'] == 'men']['total_goals'],\n",
    "        label=\"men\", bins=goal_bins, histtype=\"step\", density=True, color='blue')\n",
    "ax.set_xlabel(\"Total Goals\")\n",
    "ax.set_ylabel(\"Total Match Goal Count\")\n",
    "ax.legend()\n",
    "plt.axvline(x=men_mean, color='blue', linestyle='--')     # men mean\n",
    "plt.axvline(x=women_mean, color='orange', linestyle='--') # women mean\n",
    "\n",
    "plt.show()"
   ]
  },
  {
   "cell_type": "markdown",
   "id": "b712e6c1-9457-4fff-9bb4-045ff0a8049b",
   "metadata": {},
   "source": [
    "## Difference distribution\n",
    "\n",
    "What we are really after is whether or not women's matches score more goals than men's matches. Since the data is not paired, we can create pairs of all the combinations of women and men's matches with a Cartesian product, generate the distribution of differences and use that distribution to test the null hypothesis against the altenative. This is somewhat computationally expensive, but is not too back because we are dealing with a relatively small number of matches.\n",
    "\n",
    "A less computationally expensive approach would be to create a bootstrap distribution of these differences. We'll do both and compare the results.\n",
    "\n",
    "The above results imply that we should fail to reject $H_0$. Let's see if we get the same results if we create a bootstrap distribution of the differences between men and women's matches."
   ]
  },
  {
   "cell_type": "code",
   "execution_count": 9,
   "id": "be4d87c7-ed53-4013-a08a-7de68a5b032f",
   "metadata": {},
   "outputs": [
    {
     "name": "stdout",
     "output_type": "stream",
     "text": [
      "total (men, women) match combinations: 76800\n"
     ]
    }
   ],
   "source": [
    "total_men_women_match_combinations = 384 * 200\n",
    "print(f\"total (men, women) match combinations: {total_men_women_match_combinations}\")"
   ]
  },
  {
   "cell_type": "code",
   "execution_count": 10,
   "id": "12034da4-c01a-4031-9c0d-391b97b41437",
   "metadata": {},
   "outputs": [
    {
     "name": "stdout",
     "output_type": "stream",
     "text": [
      "76800\n",
      "76800\n"
     ]
    },
    {
     "data": {
      "image/png": "[encoded data removed]",
      "text/plain": [
       "<Figure size 640x480 with 1 Axes>"
      ]
     },
     "metadata": {},
     "output_type": "display_data"
    }
   ],
   "source": [
    "import itertools\n",
    "import numpy as np\n",
    "# Cartesian product of all men and women matches\n",
    "total_women_men_match_scores = tuple(\n",
    "    itertools.product(\n",
    "        df_all_fifa[df_all_fifa[\"gender\"] == \"women\"]['total_goals'],\n",
    "        df_all_fifa[df_all_fifa[\"gender\"] == \"men\"]['total_goals']\n",
    "    )\n",
    ")\n",
    "\n",
    "score_diffs = [x[0] - x[1] for x in total_women_men_match_scores]\n",
    "\n",
    "bin_intervals = list(range(min(score_diffs), max(score_diffs)+1))\n",
    "\n",
    "print(len(total_women_men_match_scores))  # should be 76800, check\n",
    "print(len(score_diffs))                   # should be 76800, check\n",
    "\n",
    "# What does the distribution of these diff look like?\n",
    "fig, ax = plt.subplots()\n",
    "ax.hist(score_diffs,\n",
    "        label=\"score diffs\",\n",
    "        bins=bin_intervals)\n",
    "# add reference lines\n",
    "act_mean_cart = np.mean(score_diffs)\n",
    "plt.axvline(x=act_mean_cart, color='yellow')  # actual mean\n",
    "plt.axvline(x=0, color='red')            # hypothesized mean\n",
    "plt.show()"
   ]
  },
  {
   "cell_type": "markdown",
   "id": "fbc241e1-f208-47ef-8e1b-d2b5bc1a70d1",
   "metadata": {},
   "source": [
    "The above distribution is clearly shifted to the right of 0, but it is not clear whether the yellow line is significantly different from the red line."
   ]
  },
  {
   "cell_type": "code",
   "execution_count": 11,
   "id": "06bcb0a9-7056-449c-baef-fb1ff145ae4d",
   "metadata": {},
   "outputs": [
    {
     "name": "stdout",
     "output_type": "stream",
     "text": [
      "mean of cartesian product diffs = 0.46697916666666667, std error = 2.6064299814051477 | z score = 0.17916428601504744 | p-value = 0.4289043527857148\n"
     ]
    }
   ],
   "source": [
    "from scipy.stats import norm\n",
    "\n",
    "hyp_mean = 0\n",
    "std_error_cart = np.std(score_diffs, ddof=1)\n",
    "z_score_cart = (act_mean_cart - hyp_mean) / std_error_cart\n",
    "p_value_cart = 1 - norm.cdf(z_score_cart, loc=0, scale=1)  # HA: women goals > men goals\n",
    "print(f\"mean of cartesian product diffs = {act_mean_cart}, std error = {std_error_cart} | z score = {z_score_cart} | p-value = {p_value_cart}\")"
   ]
  },
  {
   "cell_type": "markdown",
   "id": "c30b7f20-772e-4671-aeab-b35c6e54afa8",
   "metadata": {},
   "source": [
    "## The z-test implies rejecting the null hypothesis\n",
    "\n",
    "The above results imply that we should fail to reject $H_0$ in favor of $H_A$. Let's see if we get the same results if we create a bootstrap distribution of the differences between men and women's matches."
   ]
  },
  {
   "cell_type": "code",
   "execution_count": 12,
   "id": "ad68d28b-8f2a-42ce-8010-adbf4d261aa5",
   "metadata": {},
   "outputs": [
    {
     "name": "stdout",
     "output_type": "stream",
     "text": [
      "<class 'pandas.core.series.Series'> <class 'pandas.core.series.Series'> 200 384\n",
      "count    200.000000\n",
      "mean       2.980000\n",
      "std        2.022387\n",
      "min        0.000000\n",
      "25%        2.000000\n",
      "50%        3.000000\n",
      "75%        4.000000\n",
      "max       13.000000\n",
      "Name: total_goals, dtype: float64 \n",
      "\n",
      "count    384.000000\n",
      "mean       2.513021\n",
      "std        1.652544\n",
      "min        0.000000\n",
      "25%        1.000000\n",
      "50%        2.000000\n",
      "75%        3.000000\n",
      "max        8.000000\n",
      "Name: total_goals, dtype: float64 \n",
      "\n"
     ]
    }
   ],
   "source": [
    "goals_women = df_all_fifa[df_all_fifa[\"gender\"] == \"women\"]['total_goals']\n",
    "goals_men = df_all_fifa[df_all_fifa[\"gender\"] == \"men\"]['total_goals']\n",
    "\n",
    "print(type(goals_women), type(goals_men), len(goals_women), len(goals_men))\n",
    "print(goals_women.describe(), '\\n')\n",
    "print(goals_men.describe(), '\\n')\n",
    "\n",
    "sample_diffs = []\n",
    "goals_women.head()\n",
    "for i in range(10000):\n",
    "    sample_women = goals_women.sample(n=1, replace=True).values[0]\n",
    "    sample_men = goals_men.sample(n=1, replace=True).values[0]\n",
    "    sample_diffs.append(sample_women - sample_men)\n",
    "\n",
    "# print(sample_diffs)"
   ]
  },
  {
   "cell_type": "code",
   "execution_count": 13,
   "id": "2a0f3bf8-f1b5-4b79-87ca-2ca00594a353",
   "metadata": {},
   "outputs": [
    {
     "data": {
      "image/png": "[encoded data removed]",
      "text/plain": [
       "<Figure size 640x480 with 1 Axes>"
      ]
     },
     "metadata": {},
     "output_type": "display_data"
    }
   ],
   "source": [
    "# What does the bootstrap distribution of these diff look like?\n",
    "fig, ax = plt.subplots()\n",
    "ax.hist(sample_diffs,\n",
    "        label=\"bootstap_score_diffs\",\n",
    "        bins=bin_intervals)\n",
    "# add reference lines\n",
    "act_mean_boot = np.mean(sample_diffs)\n",
    "plt.axvline(x=act_mean_boot, color='yellow')  # actual mean\n",
    "plt.axvline(x=0, color='red')                 # hypothesized mean\n",
    "plt.show()"
   ]
  },
  {
   "cell_type": "markdown",
   "id": "3373a441-2d25-426d-be62-277ac30b0039",
   "metadata": {},
   "source": [
    "### Bootstrap distribution of diff's look almost identical to the distribution of diff's generated from the Cartesian product of all men and women FIFA matches\n",
    "\n",
    "The z-test on this distribution give almost idential results as shown below."
   ]
  },
  {
   "cell_type": "code",
   "execution_count": 14,
   "id": "bd964d53-054d-46e2-875c-d841dde782c7",
   "metadata": {},
   "outputs": [
    {
     "name": "stdout",
     "output_type": "stream",
     "text": [
      "mean of bootstrap diffs = 0.4661, std error = 2.6036759980593374 | z score = 0.179016129636487 | p-value = 0.4289625183291652\n"
     ]
    }
   ],
   "source": [
    "hyp_mean = 0\n",
    "std_error_boot = np.std(sample_diffs, ddof=1)\n",
    "z_score_boot = (act_mean_boot - hyp_mean) / std_error_boot\n",
    "p_value_boot = 1 - norm.cdf(z_score_boot, loc=0, scale=1)  # HA: women goals > men goals\n",
    "print(f\"mean of bootstrap diffs = {act_mean_boot}, std error = {std_error_boot} | z score = {z_score_boot} | p-value = {p_value_boot}\")"
   ]
  },
  {
   "cell_type": "markdown",
   "id": "ce61e9aa-16d6-4fe6-9be6-b766e8b6b756",
   "metadata": {},
   "source": [
    "## Comparing distributions\n",
    "\n",
    "The distribution of differences constructed from the Cartesian product of all women and men's matches looks very similar to a 10000-sample bootstrap distribution of differences. Of note, the later used roughly 8x less samples (76800 vs 1,000)"
   ]
  },
  {
   "cell_type": "code",
   "execution_count": 15,
   "id": "93249683-3bc7-41d9-ac0e-a41c3a0c0a36",
   "metadata": {},
   "outputs": [],
   "source": [
    "alpha = 0.10\n",
    "\n",
    "def test_hypothesis(alpha, p_val):\n",
    "    \"\"\" Evaluates a test of a hypothesis\n",
    "\n",
    "    Args:\n",
    "      alpha (float): significance level of the hypothesis test\n",
    "      p_val (float): probability that the null hypothesis is true\n",
    "    \n",
    "    \"\"\"\n",
    "    if p_val < alpha:\n",
    "        result = \"reject\"\n",
    "    else:\n",
    "        result = \"fail to reject\"\n",
    "\n",
    "    return {\"p_val\": p_val, \"result\": result}"
   ]
  },
  {
   "cell_type": "code",
   "execution_count": 16,
   "id": "205a518d-5159-4fa1-ab02-5fcc422ba35d",
   "metadata": {},
   "outputs": [
    {
     "name": "stdout",
     "output_type": "stream",
     "text": [
      "z-score test p-value: 0.4289043527857148\n",
      "At alpha = 0.1, we fail to reject the null hypothesis that means are the same in favor of the alternative hypothesis\n"
     ]
    }
   ],
   "source": [
    "result_dict = test_hypothesis(alpha, p_value_cart)\n",
    "\n",
    "print(f\"z-score test p-value: {result_dict['p_val']}\")\n",
    "print(f\"At alpha = {alpha}, we {result_dict['result']} the null hypothesis that means are the same in favor of the alternative hypothesis\")"
   ]
  },
  {
   "cell_type": "markdown",
   "id": "9400ec93-0fbc-4b36-b8dd-08e6fe2e429e",
   "metadata": {},
   "source": [
    "## Mann-Whitney U rank test\n",
    "\n",
    "Since the distibution of goals in FIFA matches is not normal (because it's Poisson), we should run a non-parametric test such as the *Mann-Whitney U rank test*."
   ]
  },
  {
   "cell_type": "code",
   "execution_count": 18,
   "id": "5b68bd7b-5fbd-4e77-a4b3-d0e9800cc4df",
   "metadata": {},
   "outputs": [
    {
     "name": "stdout",
     "output_type": "stream",
     "text": [
      "Mann-Whitney U test p-value: 0.005106609825443641\n",
      "At alpha = 0.1, we reject the null hypothesis that means are the same in favor of the alternative hypothesis\n"
     ]
    }
   ],
   "source": [
    "from scipy.stats import mannwhitneyu\n",
    "\n",
    "alpha = 0.10\n",
    "\n",
    "stat, p_val_mannwh = mannwhitneyu(\n",
    "    df_all_fifa[df_all_fifa['gender'] == 'women']['total_goals'],\n",
    "    df_all_fifa[df_all_fifa['gender'] == 'men']['total_goals'],\n",
    "    alternative='greater'  # HA: women score more goals\n",
    ")\n",
    "\n",
    "def test_hypothesis(alpha, p_val):\n",
    "    if p_val < alpha:\n",
    "        result = \"reject\"\n",
    "    else:\n",
    "        result = \"fail to reject\"\n",
    "\n",
    "    return {\"p_val\": p_val, \"result\": result}\n",
    "\n",
    "result_dict = test_hypothesis(alpha, p_val_mannwh)\n",
    "\n",
    "print(f\"Mann-Whitney U test p-value: {result_dict['p_val']}\")\n",
    "print(f\"At alpha = {alpha}, we {result_dict['result']} the null hypothesis that means are the same in favor of the alternative hypothesis\")"
   ]
  },
  {
   "cell_type": "markdown",
   "id": "2986f0de-8ee8-4570-88ee-a69364970811",
   "metadata": {},
   "source": [
    "## Open question...\n",
    "\n",
    "Why does constructing a distribution of differences from the Cartesian product of all matches and doing a z-test on this distribution give different results from a *Mann-Whitney U rank test*?"
   ]
  },
  {
   "cell_type": "code",
   "execution_count": null,
   "id": "bb2fd618-4da6-4e96-8642-54d12e374708",
   "metadata": {},
   "outputs": [],
   "source": []
  },
  {
   "cell_type": "code",
   "execution_count": null,
   "id": "142bf7ff-f047-4e89-966a-f716bd39f26a",
   "metadata": {},
   "outputs": [],
   "source": []
  },
  {
   "cell_type": "code",
   "execution_count": null,
   "id": "a9459489-f324-4881-bd44-9508d7175ebb",
   "metadata": {},
   "outputs": [],
   "source": []
  },
  {
   "cell_type": "code",
   "execution_count": null,
   "id": "acc2e583-ace5-416a-8729-8b75d8ea673a",
   "metadata": {},
   "outputs": [],
   "source": []
  },
  {
   "cell_type": "code",
   "execution_count": null,
   "id": "8ef83992-2763-4b04-a098-d9613c019586",
   "metadata": {},
   "outputs": [],
   "source": []
  },
  {
   "cell_type": "code",
   "execution_count": null,
   "id": "0564a1de-c485-4819-a88d-9ef96a53e6c1",
   "metadata": {},
   "outputs": [],
   "source": []
  },
  {
   "cell_type": "code",
   "execution_count": null,
   "id": "ff1c89b9-87d0-4aff-a577-081904912011",
   "metadata": {},
   "outputs": [],
   "source": []
  },
  {
   "cell_type": "code",
   "execution_count": null,
   "id": "a8b97746-7d38-43ee-8f6f-d16d1b1551ec",
   "metadata": {},
   "outputs": [],
   "source": []
  },
  {
   "cell_type": "code",
   "execution_count": null,
   "id": "02e6dd56-4ac7-4383-867f-7aa0790a1b34",
   "metadata": {},
   "outputs": [],
   "source": []
  },
  {
   "cell_type": "code",
   "execution_count": null,
   "id": "4b914fbf-772e-4bb2-b389-654d5bfb392f",
   "metadata": {},
   "outputs": [],
   "source": []
  },
  {
   "cell_type": "code",
   "execution_count": null,
   "id": "9c710a6f-f757-480d-9927-5abc2f659c4c",
   "metadata": {},
   "outputs": [],
   "source": []
  },
  {
   "cell_type": "code",
   "execution_count": null,
   "id": "8d4e7b5a-5236-4f14-b60a-b23a207fa181",
   "metadata": {},
   "outputs": [],
   "source": []
  }
 ],
 "metadata": {
  "colab": {
   "name": "Welcome to DataCamp Workspaces.ipynb",
   "provenance": []
  },
  "kernelspec": {
   "display_name": "Python 3 (ipykernel)",
   "language": "python",
   "name": "python3"
  },
  "language_info": {
   "codemirror_mode": {
    "name": "ipython",
    "version": 3
   },
   "file_extension": ".py",
   "mimetype": "text/x-python",
   "name": "python",
   "nbconvert_exporter": "python",
   "pygments_lexer": "ipython3",
   "version": "3.11.6"
  }
 },
 "nbformat": 4,
 "nbformat_minor": 5
}
