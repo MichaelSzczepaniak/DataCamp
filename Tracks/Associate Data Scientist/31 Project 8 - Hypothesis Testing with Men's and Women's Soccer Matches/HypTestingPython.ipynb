{
 "cells": [
  {
   "cell_type": "markdown",
   "id": "3ed0edb2-696b-49ab-9db0-681defcce695",
   "metadata": {},
   "source": [
    "![A soccer pitch for an international match.](soccer-pitch.jpg)\n",
    "\n",
    "***Scenario:*** You're working as a sports journalist at a major online sports media company, specializing in soccer analysis and reporting. You've been watching both men's and women's international soccer matches for a number of years, and your gut instinct tells you that more goals are scored in women's international football matches than men's. This would make an interesting investigative article that your subscribers are bound to love, but you'll need to perform a valid statistical hypothesis test to be sure!\n",
    "\n",
    "While scoping this project, you acknowledge that the sport has changed a lot over the years, and performances likely vary a lot depending on the tournament, so you decide to limit the data used in the analysis to only official `FIFA World Cup` matches (not including qualifiers) since `2002-01-01`.\n",
    "\n",
    "You create two datasets containing the results of every official men's and women's international football match since the 19th century, which you scraped from a reliable online source. This data is stored in two CSV files: `women_results.csv` and `men_results.csv`.\n",
    "\n",
    "The question we are trying to determine the answer to is:\n",
    "\n",
    "> Are more goals scored in women's international soccer matches than men's?\n",
    "\n",
    "You assume a **10% significance level**, and use the following null and alternative hypotheses:\n",
    "\n",
    "$H_0$ : The mean number of goals scored in women's international soccer matches is the same as men's.\n",
    "\n",
    "$H_A$ : The mean number of goals scored in women's international soccer matches is greater than men's."
   ]
  },
  {
   "cell_type": "code",
   "execution_count": 1,
   "id": "f2379d67-7439-4ddc-a017-a451362aa8ea",
   "metadata": {},
   "outputs": [
    {
     "name": "stdout",
     "output_type": "stream",
     "text": [
      "Index(['Unnamed: 0', 'date', 'home_team', 'away_team', 'home_score',\n",
      "       'away_score', 'tournament'],\n",
      "      dtype='object')\n",
      "Index(['Unnamed: 0', 'date', 'home_team', 'away_team', 'home_score',\n",
      "       'away_score', 'tournament'],\n",
      "      dtype='object')\n"
     ]
    }
   ],
   "source": [
    "import pandas as pd\n",
    "\n",
    "# read data\n",
    "df_men_socc = pd.read_csv('./data/men_results.csv')\n",
    "df_women_socc = pd.read_csv('./data/women_results.csv')\n",
    "print(df_men_socc.columns)\n",
    "print(df_women_socc.columns)"
   ]
  },
  {
   "cell_type": "code",
   "execution_count": 2,
   "id": "a34a9e61-7d8f-4a07-be98-c7f79780cdc8",
   "metadata": {},
   "outputs": [
    {
     "name": "stdout",
     "output_type": "stream",
     "text": [
      "shape BEFORE removing qualifier matches: (49237, 7)\n"
     ]
    },
    {
     "data": {
      "text/html": [
       "<div>\n",
       "<style scoped>\n",
       "    .dataframe tbody tr th:only-of-type {\n",
       "        vertical-align: middle;\n",
       "    }\n",
       "\n",
       "    .dataframe tbody tr th {\n",
       "        vertical-align: top;\n",
       "    }\n",
       "\n",
       "    .dataframe thead th {\n",
       "        text-align: right;\n",
       "    }\n",
       "</style>\n",
       "<table border=\"1\" class=\"dataframe\">\n",
       "  <thead>\n",
       "    <tr style=\"text-align: right;\">\n",
       "      <th></th>\n",
       "      <th>date</th>\n",
       "      <th>home_team</th>\n",
       "      <th>away_team</th>\n",
       "      <th>home_score</th>\n",
       "      <th>away_score</th>\n",
       "      <th>tournament</th>\n",
       "      <th>gender</th>\n",
       "    </tr>\n",
       "  </thead>\n",
       "  <tbody>\n",
       "    <tr>\n",
       "      <th>0</th>\n",
       "      <td>1872-11-30</td>\n",
       "      <td>Scotland</td>\n",
       "      <td>England</td>\n",
       "      <td>0</td>\n",
       "      <td>0</td>\n",
       "      <td>Friendly</td>\n",
       "      <td>men</td>\n",
       "    </tr>\n",
       "    <tr>\n",
       "      <th>1</th>\n",
       "      <td>1873-03-08</td>\n",
       "      <td>England</td>\n",
       "      <td>Scotland</td>\n",
       "      <td>4</td>\n",
       "      <td>2</td>\n",
       "      <td>Friendly</td>\n",
       "      <td>men</td>\n",
       "    </tr>\n",
       "    <tr>\n",
       "      <th>2</th>\n",
       "      <td>1874-03-07</td>\n",
       "      <td>Scotland</td>\n",
       "      <td>England</td>\n",
       "      <td>2</td>\n",
       "      <td>1</td>\n",
       "      <td>Friendly</td>\n",
       "      <td>men</td>\n",
       "    </tr>\n",
       "    <tr>\n",
       "      <th>3</th>\n",
       "      <td>1875-03-06</td>\n",
       "      <td>England</td>\n",
       "      <td>Scotland</td>\n",
       "      <td>2</td>\n",
       "      <td>2</td>\n",
       "      <td>Friendly</td>\n",
       "      <td>men</td>\n",
       "    </tr>\n",
       "    <tr>\n",
       "      <th>4</th>\n",
       "      <td>1876-03-04</td>\n",
       "      <td>Scotland</td>\n",
       "      <td>England</td>\n",
       "      <td>3</td>\n",
       "      <td>0</td>\n",
       "      <td>Friendly</td>\n",
       "      <td>men</td>\n",
       "    </tr>\n",
       "  </tbody>\n",
       "</table>\n",
       "</div>"
      ],
      "text/plain": [
       "         date home_team away_team  home_score  away_score tournament gender\n",
       "0  1872-11-30  Scotland   England           0           0   Friendly    men\n",
       "1  1873-03-08   England  Scotland           4           2   Friendly    men\n",
       "2  1874-03-07  Scotland   England           2           1   Friendly    men\n",
       "3  1875-03-06   England  Scotland           2           2   Friendly    men\n",
       "4  1876-03-04  Scotland   England           3           0   Friendly    men"
      ]
     },
     "execution_count": 2,
     "metadata": {},
     "output_type": "execute_result"
    }
   ],
   "source": [
    "# drop the redundant index column\n",
    "df_men_socc.drop('Unnamed: 0', axis='columns', inplace=True)\n",
    "df_women_socc.drop('Unnamed: 0', axis='columns', inplace=True)\n",
    "# add gender column so we can combine\n",
    "df_men_socc['gender'] = \"men\"\n",
    "df_women_socc['gender'] = \"women\"\n",
    "# combine\n",
    "df_all = pd.concat([df_men_socc, df_women_socc], ignore_index=True)\n",
    "print(f\"shape BEFORE removing qualifier matches: {df_all.shape}\")\n",
    "df_all.head()"
   ]
  },
  {
   "cell_type": "code",
   "execution_count": 3,
   "id": "04a1196d-279c-41e6-b1ba-5b2d3d5cd743",
   "metadata": {},
   "outputs": [
    {
     "name": "stdout",
     "output_type": "stream",
     "text": [
      "shape AFTER removing qualifier matches: (23009, 7)\n"
     ]
    },
    {
     "data": {
      "text/html": [
       "<div>\n",
       "<style scoped>\n",
       "    .dataframe tbody tr th:only-of-type {\n",
       "        vertical-align: middle;\n",
       "    }\n",
       "\n",
       "    .dataframe tbody tr th {\n",
       "        vertical-align: top;\n",
       "    }\n",
       "\n",
       "    .dataframe thead th {\n",
       "        text-align: right;\n",
       "    }\n",
       "</style>\n",
       "<table border=\"1\" class=\"dataframe\">\n",
       "  <thead>\n",
       "    <tr style=\"text-align: right;\">\n",
       "      <th></th>\n",
       "      <th>date</th>\n",
       "      <th>home_team</th>\n",
       "      <th>away_team</th>\n",
       "      <th>home_score</th>\n",
       "      <th>away_score</th>\n",
       "      <th>tournament</th>\n",
       "      <th>gender</th>\n",
       "    </tr>\n",
       "  </thead>\n",
       "  <tbody>\n",
       "    <tr>\n",
       "      <th>24863</th>\n",
       "      <td>2002-01-04</td>\n",
       "      <td>Bahrain</td>\n",
       "      <td>Finland</td>\n",
       "      <td>0</td>\n",
       "      <td>2</td>\n",
       "      <td>Prime Minister's Cup</td>\n",
       "      <td>men</td>\n",
       "    </tr>\n",
       "    <tr>\n",
       "      <th>24864</th>\n",
       "      <td>2002-01-04</td>\n",
       "      <td>Egypt</td>\n",
       "      <td>Ghana</td>\n",
       "      <td>2</td>\n",
       "      <td>0</td>\n",
       "      <td>Friendly</td>\n",
       "      <td>men</td>\n",
       "    </tr>\n",
       "    <tr>\n",
       "      <th>24865</th>\n",
       "      <td>2002-01-04</td>\n",
       "      <td>Martinique</td>\n",
       "      <td>Guadeloupe</td>\n",
       "      <td>1</td>\n",
       "      <td>3</td>\n",
       "      <td>Friendly</td>\n",
       "      <td>men</td>\n",
       "    </tr>\n",
       "    <tr>\n",
       "      <th>24866</th>\n",
       "      <td>2002-01-05</td>\n",
       "      <td>Albania</td>\n",
       "      <td>North Macedonia</td>\n",
       "      <td>0</td>\n",
       "      <td>0</td>\n",
       "      <td>Prime Minister's Cup</td>\n",
       "      <td>men</td>\n",
       "    </tr>\n",
       "    <tr>\n",
       "      <th>24867</th>\n",
       "      <td>2002-01-05</td>\n",
       "      <td>Kuwait</td>\n",
       "      <td>Zimbabwe</td>\n",
       "      <td>3</td>\n",
       "      <td>0</td>\n",
       "      <td>Friendly</td>\n",
       "      <td>men</td>\n",
       "    </tr>\n",
       "  </tbody>\n",
       "</table>\n",
       "</div>"
      ],
      "text/plain": [
       "             date   home_team        away_team  home_score  away_score  \\\n",
       "24863  2002-01-04     Bahrain          Finland           0           2   \n",
       "24864  2002-01-04       Egypt            Ghana           2           0   \n",
       "24865  2002-01-04  Martinique       Guadeloupe           1           3   \n",
       "24866  2002-01-05     Albania  North Macedonia           0           0   \n",
       "24867  2002-01-05      Kuwait         Zimbabwe           3           0   \n",
       "\n",
       "                 tournament gender  \n",
       "24863  Prime Minister's Cup    men  \n",
       "24864              Friendly    men  \n",
       "24865              Friendly    men  \n",
       "24866  Prime Minister's Cup    men  \n",
       "24867              Friendly    men  "
      ]
     },
     "execution_count": 3,
     "metadata": {},
     "output_type": "execute_result"
    }
   ],
   "source": [
    "# remove all rows before 2002-01-01\n",
    "df_all = df_all.loc[df_all['date'] >= '2002-01-01'].copy()\n",
    "print(f\"shape AFTER removing qualifier matches: {df_all.shape}\")\n",
    "df_all.head()"
   ]
  },
  {
   "cell_type": "code",
   "execution_count": 4,
   "id": "f6603945-74fd-4fc3-bb78-799a9299f476",
   "metadata": {},
   "outputs": [
    {
     "name": "stdout",
     "output_type": "stream",
     "text": [
      "         home_score    away_score   total_goals\n",
      "count  19490.000000  19490.000000  19490.000000\n",
      "mean       1.613905      1.099795      2.713699\n",
      "std        1.655043      1.346312      1.939837\n",
      "min        0.000000      0.000000      0.000000\n",
      "25%        0.000000      0.000000      1.000000\n",
      "50%        1.000000      1.000000      2.000000\n",
      "75%        2.000000      2.000000      4.000000\n",
      "max       21.000000     21.000000     22.000000 \n",
      "\n",
      "        home_score   away_score  total_goals\n",
      "count  3519.000000  3519.000000  3519.000000\n",
      "mean      2.094913     1.460358     3.555271\n",
      "std       2.437992     1.992326     2.578996\n",
      "min       0.000000     0.000000     0.000000\n",
      "25%       0.000000     0.000000     2.000000\n",
      "50%       1.000000     1.000000     3.000000\n",
      "75%       3.000000     2.000000     5.000000\n",
      "max      21.000000    24.000000    26.000000 \n",
      "\n"
     ]
    },
    {
     "data": {
      "text/html": [
       "<div>\n",
       "<style scoped>\n",
       "    .dataframe tbody tr th:only-of-type {\n",
       "        vertical-align: middle;\n",
       "    }\n",
       "\n",
       "    .dataframe tbody tr th {\n",
       "        vertical-align: top;\n",
       "    }\n",
       "\n",
       "    .dataframe thead th {\n",
       "        text-align: right;\n",
       "    }\n",
       "</style>\n",
       "<table border=\"1\" class=\"dataframe\">\n",
       "  <thead>\n",
       "    <tr style=\"text-align: right;\">\n",
       "      <th></th>\n",
       "      <th>date</th>\n",
       "      <th>home_team</th>\n",
       "      <th>away_team</th>\n",
       "      <th>home_score</th>\n",
       "      <th>away_score</th>\n",
       "      <th>tournament</th>\n",
       "      <th>gender</th>\n",
       "      <th>total_goals</th>\n",
       "    </tr>\n",
       "  </thead>\n",
       "  <tbody>\n",
       "    <tr>\n",
       "      <th>24863</th>\n",
       "      <td>2002-01-04</td>\n",
       "      <td>Bahrain</td>\n",
       "      <td>Finland</td>\n",
       "      <td>0</td>\n",
       "      <td>2</td>\n",
       "      <td>Prime Minister's Cup</td>\n",
       "      <td>men</td>\n",
       "      <td>2</td>\n",
       "    </tr>\n",
       "    <tr>\n",
       "      <th>24864</th>\n",
       "      <td>2002-01-04</td>\n",
       "      <td>Egypt</td>\n",
       "      <td>Ghana</td>\n",
       "      <td>2</td>\n",
       "      <td>0</td>\n",
       "      <td>Friendly</td>\n",
       "      <td>men</td>\n",
       "      <td>2</td>\n",
       "    </tr>\n",
       "    <tr>\n",
       "      <th>24865</th>\n",
       "      <td>2002-01-04</td>\n",
       "      <td>Martinique</td>\n",
       "      <td>Guadeloupe</td>\n",
       "      <td>1</td>\n",
       "      <td>3</td>\n",
       "      <td>Friendly</td>\n",
       "      <td>men</td>\n",
       "      <td>4</td>\n",
       "    </tr>\n",
       "    <tr>\n",
       "      <th>24866</th>\n",
       "      <td>2002-01-05</td>\n",
       "      <td>Albania</td>\n",
       "      <td>North Macedonia</td>\n",
       "      <td>0</td>\n",
       "      <td>0</td>\n",
       "      <td>Prime Minister's Cup</td>\n",
       "      <td>men</td>\n",
       "      <td>0</td>\n",
       "    </tr>\n",
       "    <tr>\n",
       "      <th>24867</th>\n",
       "      <td>2002-01-05</td>\n",
       "      <td>Kuwait</td>\n",
       "      <td>Zimbabwe</td>\n",
       "      <td>3</td>\n",
       "      <td>0</td>\n",
       "      <td>Friendly</td>\n",
       "      <td>men</td>\n",
       "      <td>3</td>\n",
       "    </tr>\n",
       "  </tbody>\n",
       "</table>\n",
       "</div>"
      ],
      "text/plain": [
       "             date   home_team        away_team  home_score  away_score  \\\n",
       "24863  2002-01-04     Bahrain          Finland           0           2   \n",
       "24864  2002-01-04       Egypt            Ghana           2           0   \n",
       "24865  2002-01-04  Martinique       Guadeloupe           1           3   \n",
       "24866  2002-01-05     Albania  North Macedonia           0           0   \n",
       "24867  2002-01-05      Kuwait         Zimbabwe           3           0   \n",
       "\n",
       "                 tournament gender  total_goals  \n",
       "24863  Prime Minister's Cup    men            2  \n",
       "24864              Friendly    men            2  \n",
       "24865              Friendly    men            4  \n",
       "24866  Prime Minister's Cup    men            0  \n",
       "24867              Friendly    men            3  "
      ]
     },
     "execution_count": 4,
     "metadata": {},
     "output_type": "execute_result"
    }
   ],
   "source": [
    "# add column of total goals scored needed for comparison\n",
    "df_all[\"total_goals\"] = df_all['home_score'] + df_all['away_score']\n",
    "\n",
    "print(df_all[df_all[\"gender\"] == \"men\"].describe(), '\\n')    # 19490\n",
    "print(df_all[df_all[\"gender\"] == \"women\"].describe(), '\\n')  #  3519\n",
    "\n",
    "df_all.head()"
   ]
  },
  {
   "cell_type": "code",
   "execution_count": 9,
   "id": "be4d87c7-ed53-4013-a08a-7de68a5b032f",
   "metadata": {},
   "outputs": [
    {
     "name": "stdout",
     "output_type": "stream",
     "text": [
      "total (men, women) match combinations: 68585310\n"
     ]
    }
   ],
   "source": [
    "total_men_women_match_combinations = 19490 * 3519\n",
    "print(f\"total (men, women) match combinations: {total_men_women_match_combinations}\")"
   ]
  },
  {
   "cell_type": "code",
   "execution_count": 18,
   "id": "12034da4-c01a-4031-9c0d-391b97b41437",
   "metadata": {},
   "outputs": [
    {
     "name": "stdout",
     "output_type": "stream",
     "text": [
      "68585310\n",
      "68585310\n"
     ]
    },
    {
     "data": {
      "image/png": "[encoded data removed]",
      "text/plain": [
       "<Figure size 640x480 with 1 Axes>"
      ]
     },
     "metadata": {},
     "output_type": "display_data"
    }
   ],
   "source": [
    "import matplotlib.pyplot as plt\n",
    "import itertools\n",
    "total_women_men_match_scores = tuple(\n",
    "    itertools.product(\n",
    "        df_all[df_all[\"gender\"] == \"women\"]['total_goals'],\n",
    "        df_all[df_all[\"gender\"] == \"men\"]['total_goals']\n",
    "    )\n",
    ")\n",
    "\n",
    "score_diffs = [x[0] - x[1] for x in total_women_men_match_scores]\n",
    "\n",
    "print(len(total_men_women_match_scores))  # should be 68585310, check\n",
    "print(len(score_diffs))                   # should be 68585310, check\n",
    "\n",
    "# What the distribution of these diff look like?\n",
    "fig, ax = plt.subplots()\n",
    "ax.hist(score_diffs,\n",
    "        label=\"score diffs\")\n",
    "plt.show()"
   ]
  },
  {
   "cell_type": "markdown",
   "id": "eca11f37-2f35-468f-9e80-f6ec6be46a98",
   "metadata": {},
   "source": [
    "## Goal distributions\n",
    "\n",
    "Before selecting a test to test our hypothesis, let's looks at the shape of the total goals distributions. It is not obvious from the visual below that women matches score more goals on average. We can also see that these distributions clearlly are **not** normal which we knew in advance to be case because it is a discrete distribution with the left side being bounded by zero (i.e. can not go below zero).\n",
    "\n",
    "Because of the data is not normally distributed, a non-parametric test such as the ***Mann-Whitney U Test*** makes sense here."
   ]
  },
  {
   "cell_type": "code",
   "execution_count": 7,
   "id": "babb0782-2eda-4ccf-bf22-e9a1a41d2cee",
   "metadata": {},
   "outputs": [
    {
     "data": {
      "image/png": "[encoded data removed]",
      "text/plain": [
       "<Figure size 640x480 with 1 Axes>"
      ]
     },
     "metadata": {},
     "output_type": "display_data"
    }
   ],
   "source": [
    "import seaborn as sns\n",
    "\n",
    "goal_bins = range(27) #list(range(16))\n",
    "\n",
    "fig, ax = plt.subplots()\n",
    "ax.hist(df_all[df_all['gender'] == 'women']['total_goals'],\n",
    "        label=\"women\", bins=goal_bins, histtype=\"step\")\n",
    "ax.hist(df_all[df_all['gender'] == 'men']['total_goals'],\n",
    "        label=\"men\", bins=goal_bins, histtype=\"step\")\n",
    "ax.set_xlabel(\"Total Goals\")\n",
    "ax.set_ylabel(\"Goal Count\")\n",
    "ax.legend()\n",
    "# plt.xlim(0, 15)\n",
    "plt.show()"
   ]
  },
  {
   "cell_type": "code",
   "execution_count": 8,
   "id": "5b68bd7b-5fbd-4e77-a4b3-d0e9800cc4df",
   "metadata": {},
   "outputs": [
    {
     "name": "stdout",
     "output_type": "stream",
     "text": [
      "Mann-Whitney U test p-value: 7.703140811178407e-75\n",
      "At alpha = 0.1, we reject the null hypothesis that means are the same in favor of the alternative hypothesis\n"
     ]
    }
   ],
   "source": [
    "from scipy.stats import mannwhitneyu\n",
    "\n",
    "alpha = 0.10\n",
    "\n",
    "stat, p_val = mannwhitneyu(\n",
    "    df_all[df_all['gender'] == 'women']['total_goals'],\n",
    "    df_all[df_all['gender'] == 'men']['total_goals'],\n",
    "    alternative='greater'  # HA: women score more goals\n",
    ")\n",
    "\n",
    "def test_hypothesis(alpha, p_val):\n",
    "    if p_val < alpha:\n",
    "        result = \"reject\"\n",
    "    else:\n",
    "        result = \"fail to reject\"\n",
    "\n",
    "    return {\"p_val\": p_val, \"result\": result}\n",
    "\n",
    "result_dict = test_hypothesis(alpha, p_val)\n",
    "\n",
    "print(f\"Mann-Whitney U test p-value: {result_dict['p_val']}\")\n",
    "print(f\"At alpha = {alpha}, we {result_dict['result']} the null hypothesis that means are the same in favor of the alternative hypothesis\")"
   ]
  },
  {
   "cell_type": "code",
   "execution_count": null,
   "id": "c50c0d09-127f-420b-b6b8-bc67850d50c5",
   "metadata": {},
   "outputs": [],
   "source": []
  },
  {
   "cell_type": "code",
   "execution_count": null,
   "id": "bb2fd618-4da6-4e96-8642-54d12e374708",
   "metadata": {},
   "outputs": [],
   "source": [
    "df_all['date'].min(), df_all['date'].max()"
   ]
  },
  {
   "cell_type": "code",
   "execution_count": null,
   "id": "142bf7ff-f047-4e89-966a-f716bd39f26a",
   "metadata": {},
   "outputs": [],
   "source": []
  },
  {
   "cell_type": "code",
   "execution_count": null,
   "id": "a9459489-f324-4881-bd44-9508d7175ebb",
   "metadata": {},
   "outputs": [],
   "source": []
  },
  {
   "cell_type": "code",
   "execution_count": null,
   "id": "acc2e583-ace5-416a-8729-8b75d8ea673a",
   "metadata": {},
   "outputs": [],
   "source": []
  },
  {
   "cell_type": "code",
   "execution_count": null,
   "id": "8ef83992-2763-4b04-a098-d9613c019586",
   "metadata": {},
   "outputs": [],
   "source": []
  },
  {
   "cell_type": "code",
   "execution_count": null,
   "id": "0564a1de-c485-4819-a88d-9ef96a53e6c1",
   "metadata": {},
   "outputs": [],
   "source": []
  },
  {
   "cell_type": "code",
   "execution_count": null,
   "id": "ff1c89b9-87d0-4aff-a577-081904912011",
   "metadata": {},
   "outputs": [],
   "source": []
  },
  {
   "cell_type": "code",
   "execution_count": null,
   "id": "a8b97746-7d38-43ee-8f6f-d16d1b1551ec",
   "metadata": {},
   "outputs": [],
   "source": []
  },
  {
   "cell_type": "code",
   "execution_count": null,
   "id": "02e6dd56-4ac7-4383-867f-7aa0790a1b34",
   "metadata": {},
   "outputs": [],
   "source": []
  },
  {
   "cell_type": "code",
   "execution_count": null,
   "id": "4b914fbf-772e-4bb2-b389-654d5bfb392f",
   "metadata": {},
   "outputs": [],
   "source": []
  },
  {
   "cell_type": "code",
   "execution_count": null,
   "id": "9c710a6f-f757-480d-9927-5abc2f659c4c",
   "metadata": {},
   "outputs": [],
   "source": []
  },
  {
   "cell_type": "code",
   "execution_count": null,
   "id": "8d4e7b5a-5236-4f14-b60a-b23a207fa181",
   "metadata": {},
   "outputs": [],
   "source": []
  }
 ],
 "metadata": {
  "colab": {
   "name": "Welcome to DataCamp Workspaces.ipynb",
   "provenance": []
  },
  "kernelspec": {
   "display_name": "Python 3 (ipykernel)",
   "language": "python",
   "name": "python3"
  },
  "language_info": {
   "codemirror_mode": {
    "name": "ipython",
    "version": 3
   },
   "file_extension": ".py",
   "mimetype": "text/x-python",
   "name": "python",
   "nbconvert_exporter": "python",
   "pygments_lexer": "ipython3",
   "version": "3.11.6"
  }
 },
 "nbformat": 4,
 "nbformat_minor": 5
}
