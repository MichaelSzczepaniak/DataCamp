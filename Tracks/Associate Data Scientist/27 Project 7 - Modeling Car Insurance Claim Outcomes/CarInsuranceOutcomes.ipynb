{
 "cells": [
  {
   "attachments": {},
   "cell_type": "markdown",
   "id": "c3f0e974-faf8-458f-bf2a-06a469d0ea5e",
   "metadata": {
    "collapsed": false,
    "jupyter": {
     "outputs_hidden": false,
     "source_hidden": false
    }
   },
   "source": [
    "<center><img src=\"car.jpg\" width=500></center>\n",
    "\n",
    "\n",
    "Insurance companies invest a lot of time and money into optimizing their pricing and accurately estimating the likelihood that customers will make a claim. In many countries it is a legal requirement to have car insurance in order to drive a vehicle on public roads, so the market is very large!\n",
    "\n",
    "(`Source: https://www.accenture.com/_acnmedia/pdf-84/accenture-machine-leaning-insurance.pdf`) \n",
    "\n",
    "**Scenario:**, ***On the Road*** car insurance has requested your services in building a model to predict whether a customer will make a claim on their insurance during the policy period. As they have very little expertise and infrastructure for deploying and monitoring machine learning models, they've asked you to identify the single feature that results in the best performing model, as measured by accuracy, so they can start with a simple model in production.\n",
    "\n",
    "### Objective\n",
    "\n",
    "Identify the single feature of the data that is the best predictor of whether a customer will put in a claim (the \"outcome\" column), excluding the \"id\" column.\n",
    "\n",
    "They have supplied you with their customer data as a csv file called `car_insurance.csv`, along with a table detailing the column names and descriptions below."
   ]
  },
  {
   "cell_type": "markdown",
   "id": "8928ffdf-25d6-4ad9-909f-0dd8d10b9a42",
   "metadata": {},
   "source": [
    "\n",
    "\n",
    "## The dataset\n",
    "\n",
    "| Column | Description |\n",
    "|--------|-------------|\n",
    "| `id` | Unique client identifier |\n",
    "| `age` | Client's age: <br> <ul><li>`0`: 16-25</li><li>`1`: 26-39</li><li>`2`: 40-64</li><li>`3`: 65+</li></ul> |\n",
    "| `gender` | Client's gender: <br> <ul><li>`0`: Female</li><li>`1`: Male</li></ul> |\n",
    "| `driving_experience` | Years the client has been driving: <br> <ul><li>`0`: 0-9</li><li>`1`: 10-19</li><li>`2`: 20-29</li><li>`3`: 30+</li></ul> |\n",
    "| `education` | Client's level of education: <br> <ul><li>`0`: No education</li><li>`1`: High school</li><li>`2`: University</li></ul> |\n",
    "| `income` | Client's income level: <br> <ul><li>`0`: Poverty</li><li>`1`: Working class</li><li>`2`: Middle class</li><li>`3`: Upper class</li></ul> |\n",
    "| `credit_score` | Client's credit score (between zero and one) |\n",
    "| `vehicle_ownership` | Client's vehicle ownership status: <br><ul><li>`0`: Does not own their vehilce (paying off finance)</li><li>`1`: Owns their vehicle</li></ul> |\n",
    "| `vehcile_year` | Year of vehicle registration: <br><ul><li>`0`: Before 2015</li><li>`1`: 2015 or later</li></ul> |\n",
    "| `married` | Client's marital status: <br><ul><li>`0`: Not married</li><li>`1`: Married</li></ul> |\n",
    "| `children` | Client's number of children |\n",
    "| `postal_code` | Client's postal code | \n",
    "| `annual_mileage` | Number of miles driven by the client each year |\n",
    "| `vehicle_type` | Type of car: <br> <ul><li>`0`: Sedan</li><li>`1`: Sports car</li></ul> |\n",
    "| `speeding_violations` | Total number of speeding violations received by the client | \n",
    "| `duis` | Number of times the client has been caught driving under the influence of alcohol |\n",
    "| `past_accidents` | Total number of previous accidents the client has been involved in |\n",
    "| `outcome` | Whether the client made a claim on their car insurance (response variable): <br><ul><li>`0`: No claim</li><li>`1`: Made a claim</li></ul> |"
   ]
  },
  {
   "cell_type": "code",
   "execution_count": 1,
   "id": "5c9e8f6b-1499-4c55-88c2-3ddc9be9c54b",
   "metadata": {
    "executionTime": 11,
    "id": "bA5ajAmk7XH6",
    "lastSuccessfullyExecutedCode": "# Import required modules\nimport pandas as pd\nimport numpy as np\nfrom statsmodels.formula.api import logit"
   },
   "outputs": [],
   "source": [
    "# Import required modules\n",
    "import pandas as pd\n",
    "import numpy as np\n",
    "from statsmodels.formula.api import logit"
   ]
  },
  {
   "cell_type": "code",
   "execution_count": 2,
   "id": "e03c7eeb-538f-4866-a20b-2649a1b348fd",
   "metadata": {},
   "outputs": [
    {
     "name": "stdout",
     "output_type": "stream",
     "text": [
      "<class 'pandas.core.frame.DataFrame'>\n",
      "RangeIndex: 10000 entries, 0 to 9999\n",
      "Data columns (total 18 columns):\n",
      " #   Column               Non-Null Count  Dtype  \n",
      "---  ------               --------------  -----  \n",
      " 0   id                   10000 non-null  int64  \n",
      " 1   age                  10000 non-null  int64  \n",
      " 2   gender               10000 non-null  int64  \n",
      " 3   driving_experience   10000 non-null  object \n",
      " 4   education            10000 non-null  object \n",
      " 5   income               10000 non-null  object \n",
      " 6   credit_score         9018 non-null   float64\n",
      " 7   vehicle_ownership    10000 non-null  float64\n",
      " 8   vehicle_year         10000 non-null  object \n",
      " 9   married              10000 non-null  float64\n",
      " 10  children             10000 non-null  float64\n",
      " 11  postal_code          10000 non-null  int64  \n",
      " 12  annual_mileage       9043 non-null   float64\n",
      " 13  vehicle_type         10000 non-null  object \n",
      " 14  speeding_violations  10000 non-null  int64  \n",
      " 15  duis                 10000 non-null  int64  \n",
      " 16  past_accidents       10000 non-null  int64  \n",
      " 17  outcome              10000 non-null  float64\n",
      "dtypes: float64(6), int64(7), object(5)\n",
      "memory usage: 1.4+ MB\n"
     ]
    }
   ],
   "source": [
    "df_car_ins = pd.read_csv(\"car_insurance.csv\")\n",
    "df_car_ins.info()"
   ]
  },
  {
   "cell_type": "code",
   "execution_count": 3,
   "id": "b79b4fdc-85f7-4d64-b27f-5fae781fb640",
   "metadata": {
    "executionTime": 11,
    "id": "bA5ajAmk7XH6",
    "lastSuccessfullyExecutedCode": "# Import required modules\nimport pandas as pd\nimport numpy as np\nfrom statsmodels.formula.api import logit"
   },
   "outputs": [
    {
     "data": {
      "text/html": [
       "<div>\n",
       "<style scoped>\n",
       "    .dataframe tbody tr th:only-of-type {\n",
       "        vertical-align: middle;\n",
       "    }\n",
       "\n",
       "    .dataframe tbody tr th {\n",
       "        vertical-align: top;\n",
       "    }\n",
       "\n",
       "    .dataframe thead th {\n",
       "        text-align: right;\n",
       "    }\n",
       "</style>\n",
       "<table border=\"1\" class=\"dataframe\">\n",
       "  <thead>\n",
       "    <tr style=\"text-align: right;\">\n",
       "      <th></th>\n",
       "      <th>id</th>\n",
       "      <th>age</th>\n",
       "      <th>gender</th>\n",
       "      <th>driving_experience</th>\n",
       "      <th>education</th>\n",
       "      <th>income</th>\n",
       "      <th>credit_score</th>\n",
       "      <th>vehicle_ownership</th>\n",
       "      <th>vehicle_year</th>\n",
       "      <th>married</th>\n",
       "      <th>children</th>\n",
       "      <th>postal_code</th>\n",
       "      <th>annual_mileage</th>\n",
       "      <th>vehicle_type</th>\n",
       "      <th>speeding_violations</th>\n",
       "      <th>duis</th>\n",
       "      <th>past_accidents</th>\n",
       "      <th>outcome</th>\n",
       "    </tr>\n",
       "  </thead>\n",
       "  <tbody>\n",
       "    <tr>\n",
       "      <th>0</th>\n",
       "      <td>569520</td>\n",
       "      <td>3</td>\n",
       "      <td>0</td>\n",
       "      <td>0-9y</td>\n",
       "      <td>high school</td>\n",
       "      <td>upper class</td>\n",
       "      <td>0.629027</td>\n",
       "      <td>1.0</td>\n",
       "      <td>after 2015</td>\n",
       "      <td>0.0</td>\n",
       "      <td>1.0</td>\n",
       "      <td>10238</td>\n",
       "      <td>12000.0</td>\n",
       "      <td>sedan</td>\n",
       "      <td>0</td>\n",
       "      <td>0</td>\n",
       "      <td>0</td>\n",
       "      <td>0.0</td>\n",
       "    </tr>\n",
       "    <tr>\n",
       "      <th>1</th>\n",
       "      <td>750365</td>\n",
       "      <td>0</td>\n",
       "      <td>1</td>\n",
       "      <td>0-9y</td>\n",
       "      <td>none</td>\n",
       "      <td>poverty</td>\n",
       "      <td>0.357757</td>\n",
       "      <td>0.0</td>\n",
       "      <td>before 2015</td>\n",
       "      <td>0.0</td>\n",
       "      <td>0.0</td>\n",
       "      <td>10238</td>\n",
       "      <td>16000.0</td>\n",
       "      <td>sedan</td>\n",
       "      <td>0</td>\n",
       "      <td>0</td>\n",
       "      <td>0</td>\n",
       "      <td>1.0</td>\n",
       "    </tr>\n",
       "    <tr>\n",
       "      <th>2</th>\n",
       "      <td>199901</td>\n",
       "      <td>0</td>\n",
       "      <td>0</td>\n",
       "      <td>0-9y</td>\n",
       "      <td>high school</td>\n",
       "      <td>working class</td>\n",
       "      <td>0.493146</td>\n",
       "      <td>1.0</td>\n",
       "      <td>before 2015</td>\n",
       "      <td>0.0</td>\n",
       "      <td>0.0</td>\n",
       "      <td>10238</td>\n",
       "      <td>11000.0</td>\n",
       "      <td>sedan</td>\n",
       "      <td>0</td>\n",
       "      <td>0</td>\n",
       "      <td>0</td>\n",
       "      <td>0.0</td>\n",
       "    </tr>\n",
       "    <tr>\n",
       "      <th>3</th>\n",
       "      <td>478866</td>\n",
       "      <td>0</td>\n",
       "      <td>1</td>\n",
       "      <td>0-9y</td>\n",
       "      <td>university</td>\n",
       "      <td>working class</td>\n",
       "      <td>0.206013</td>\n",
       "      <td>1.0</td>\n",
       "      <td>before 2015</td>\n",
       "      <td>0.0</td>\n",
       "      <td>1.0</td>\n",
       "      <td>32765</td>\n",
       "      <td>11000.0</td>\n",
       "      <td>sedan</td>\n",
       "      <td>0</td>\n",
       "      <td>0</td>\n",
       "      <td>0</td>\n",
       "      <td>0.0</td>\n",
       "    </tr>\n",
       "    <tr>\n",
       "      <th>4</th>\n",
       "      <td>731664</td>\n",
       "      <td>1</td>\n",
       "      <td>1</td>\n",
       "      <td>10-19y</td>\n",
       "      <td>none</td>\n",
       "      <td>working class</td>\n",
       "      <td>0.388366</td>\n",
       "      <td>1.0</td>\n",
       "      <td>before 2015</td>\n",
       "      <td>0.0</td>\n",
       "      <td>0.0</td>\n",
       "      <td>32765</td>\n",
       "      <td>12000.0</td>\n",
       "      <td>sedan</td>\n",
       "      <td>2</td>\n",
       "      <td>0</td>\n",
       "      <td>1</td>\n",
       "      <td>1.0</td>\n",
       "    </tr>\n",
       "  </tbody>\n",
       "</table>\n",
       "</div>"
      ],
      "text/plain": [
       "       id  age  gender driving_experience    education         income  \\\n",
       "0  569520    3       0               0-9y  high school    upper class   \n",
       "1  750365    0       1               0-9y         none        poverty   \n",
       "2  199901    0       0               0-9y  high school  working class   \n",
       "3  478866    0       1               0-9y   university  working class   \n",
       "4  731664    1       1             10-19y         none  working class   \n",
       "\n",
       "   credit_score  vehicle_ownership vehicle_year  married  children  \\\n",
       "0      0.629027                1.0   after 2015      0.0       1.0   \n",
       "1      0.357757                0.0  before 2015      0.0       0.0   \n",
       "2      0.493146                1.0  before 2015      0.0       0.0   \n",
       "3      0.206013                1.0  before 2015      0.0       1.0   \n",
       "4      0.388366                1.0  before 2015      0.0       0.0   \n",
       "\n",
       "   postal_code  annual_mileage vehicle_type  speeding_violations  duis  \\\n",
       "0        10238         12000.0        sedan                    0     0   \n",
       "1        10238         16000.0        sedan                    0     0   \n",
       "2        10238         11000.0        sedan                    0     0   \n",
       "3        32765         11000.0        sedan                    0     0   \n",
       "4        32765         12000.0        sedan                    2     0   \n",
       "\n",
       "   past_accidents  outcome  \n",
       "0               0      0.0  \n",
       "1               0      1.0  \n",
       "2               0      0.0  \n",
       "3               0      0.0  \n",
       "4               1      1.0  "
      ]
     },
     "execution_count": 3,
     "metadata": {},
     "output_type": "execute_result"
    }
   ],
   "source": [
    "df_car_ins.head()"
   ]
  },
  {
   "cell_type": "markdown",
   "id": "56386a89-4d83-4777-9e98-4a71229c201a",
   "metadata": {},
   "source": [
    "## `age`\n",
    "\n",
    "Age is encoded as a categorical variable with 4 levels 0-4. These levels are ordinal in that the higher the level, the higher the age range being represented in that bucket. Because of this oridinality, we can treat these as continuous variables for analysis purposes.\n",
    "\n",
    "| Column | Description |\n",
    "|--------|-------------|\n",
    "| `age` | Client's age: <br> <ul><li>`0`: 16-25</li><li>`1`: 26-39</li><li>`2`: 40-64</li><li>`3`: 65+</li></ul> |\n",
    "\n"
   ]
  },
  {
   "cell_type": "code",
   "execution_count": 4,
   "id": "94488413-7836-4694-a757-04dff779df32",
   "metadata": {},
   "outputs": [
    {
     "data": {
      "text/html": [
       "<div>\n",
       "<style scoped>\n",
       "    .dataframe tbody tr th:only-of-type {\n",
       "        vertical-align: middle;\n",
       "    }\n",
       "\n",
       "    .dataframe tbody tr th {\n",
       "        vertical-align: top;\n",
       "    }\n",
       "\n",
       "    .dataframe thead th {\n",
       "        text-align: right;\n",
       "    }\n",
       "</style>\n",
       "<table border=\"1\" class=\"dataframe\">\n",
       "  <thead>\n",
       "    <tr style=\"text-align: right;\">\n",
       "      <th></th>\n",
       "      <th>age</th>\n",
       "      <th>outcome</th>\n",
       "    </tr>\n",
       "  </thead>\n",
       "  <tbody>\n",
       "    <tr>\n",
       "      <th>0</th>\n",
       "      <td>3</td>\n",
       "      <td>0.0</td>\n",
       "    </tr>\n",
       "    <tr>\n",
       "      <th>1</th>\n",
       "      <td>0</td>\n",
       "      <td>1.0</td>\n",
       "    </tr>\n",
       "    <tr>\n",
       "      <th>2</th>\n",
       "      <td>0</td>\n",
       "      <td>0.0</td>\n",
       "    </tr>\n",
       "    <tr>\n",
       "      <th>3</th>\n",
       "      <td>0</td>\n",
       "      <td>0.0</td>\n",
       "    </tr>\n",
       "    <tr>\n",
       "      <th>4</th>\n",
       "      <td>1</td>\n",
       "      <td>1.0</td>\n",
       "    </tr>\n",
       "  </tbody>\n",
       "</table>\n",
       "</div>"
      ],
      "text/plain": [
       "   age  outcome\n",
       "0    3      0.0\n",
       "1    0      1.0\n",
       "2    0      0.0\n",
       "3    0      0.0\n",
       "4    1      1.0"
      ]
     },
     "execution_count": 4,
     "metadata": {},
     "output_type": "execute_result"
    }
   ],
   "source": [
    "# start by getting just the data we need for this predictor\n",
    "df_age = df_car_ins.loc[:, ['age', 'outcome']]\n",
    "df_age.head()  # age is encoded, no need to convert"
   ]
  },
  {
   "cell_type": "code",
   "execution_count": 5,
   "id": "f9f94413-5e3a-4ed9-9afe-9becd5d4eb1a",
   "metadata": {},
   "outputs": [
    {
     "name": "stdout",
     "output_type": "stream",
     "text": [
      "outcome   0.0   1.0    All\n",
      "age                       \n",
      "0         568  1448   2016\n",
      "1        2031  1032   3063\n",
      "2        2474   457   2931\n",
      "3        1794   196   1990\n",
      "All      6867  3133  10000 \n",
      "\n",
      "outcome       0.0       1.0\n",
      "age                        \n",
      "0        0.281746  0.718254\n",
      "1        0.663075  0.336925\n",
      "2        0.844081  0.155919\n",
      "3        0.901508  0.098492\n",
      "All      0.686700  0.313300\n"
     ]
    }
   ],
   "source": [
    "# contingency table\n",
    "contingency_age = pd.crosstab(df_age['age'], df_age['outcome'], margins=True)\n",
    "print(contingency_age, \"\\n\")\n",
    "\n",
    "contingency_age_norm = pd.crosstab(df_age['age'], df_age['outcome'], margins=True, normalize='index')\n",
    "print(contingency_age_norm)"
   ]
  },
  {
   "cell_type": "markdown",
   "id": "09ad2a6c-e012-4308-bfa6-23b018bbf1fb",
   "metadata": {},
   "source": [
    "+ As we'd expect, the older the drive, the less likely they are to file a claim.\n",
    "+ Model will predict **Made a claim** for the first age bucket (16-25), but predict **No claim** for the other 3 age buckets."
   ]
  },
  {
   "cell_type": "code",
   "execution_count": 6,
   "id": "1da025f1-7c81-4b7d-a60c-0182a59f9b6c",
   "metadata": {},
   "outputs": [
    {
     "name": "stdout",
     "output_type": "stream",
     "text": [
      "Optimization terminated successfully.\n",
      "         Current function value: 0.511794\n",
      "         Iterations 6\n"
     ]
    }
   ],
   "source": [
    "threshold = 0.5  # make threshold explicit\n",
    "\n",
    "mdl_age = logit(\"outcome ~ age\", data=df_age).fit()\n",
    "\n",
    "exploratory_data = pd.DataFrame({\"age\": np.arange(0, 4, 1)})\n",
    "prediction_data = exploratory_data.assign(\n",
    "    prob_filed = mdl_age.predict(exploratory_data)\n",
    ")\n",
    "\n",
    "prediction_data['pred_outcome'] = (prediction_data['prob_filed'] > threshold).astype(float)"
   ]
  },
  {
   "cell_type": "code",
   "execution_count": 7,
   "id": "c21e7312-01a6-466e-8c6c-09272d0bd490",
   "metadata": {},
   "outputs": [
    {
     "data": {
      "image/png": "[encoded data removed]",
      "text/plain": [
       "<Figure size 640x480 with 1 Axes>"
      ]
     },
     "metadata": {},
     "output_type": "display_data"
    }
   ],
   "source": [
    "import seaborn as sns\n",
    "import matplotlib.pyplot as plt\n",
    "\n",
    "def plot_log_reg(x_act, x_pred, y_act, y_pred, df_act, df_pred):\n",
    "    \"\"\" plots the results of a binary logistic regression model\n",
    "\n",
    "    Args:\n",
    "        x_act (str): name of the \n",
    "        x_pred (str):\n",
    "        y_act (str):\n",
    "        y_pred (str):\n",
    "        df_act (Dataframe):\n",
    "        df_pred (Dataframe):\n",
    "    \"\"\"\n",
    "    sns.regplot(x=x_act, \n",
    "                y=y_act, \n",
    "                data=df_act, \n",
    "                ci=None, \n",
    "                logistic=True)\n",
    "\n",
    "    sns.scatterplot(x=x_pred, \n",
    "                    y=y_pred, \n",
    "                    data=df_pred, \n",
    "                    color=\"red\")\n",
    "\n",
    "    plt.show()\n",
    "\n",
    "# print(df_age.columns)\n",
    "# print(prediction_data.columns)\n",
    "\n",
    "plot_log_reg(\"age\", \"age\", \"outcome\", \"pred_outcome\", df_age, prediction_data)"
   ]
  },
  {
   "cell_type": "markdown",
   "id": "68164ab1-4e84-4883-b919-b8edfcaab60c",
   "metadata": {},
   "source": [
    "This plot looks like what we should expect:\n",
    "+ *as age increase, probability of making a claim drops*\n",
    "+ Model predicts a claim filing only in `age` = 0 bucket (red dot in the top part of the plot)\n",
    "+ Model predicts `No claim` if `age` > 0"
   ]
  },
  {
   "cell_type": "code",
   "execution_count": 8,
   "id": "42a5047f-c3e1-4a80-8c28-432aa12d4cd4",
   "metadata": {},
   "outputs": [
    {
     "name": "stdout",
     "output_type": "stream",
     "text": [
      "[[6299.  568.]\n",
      " [1685. 1448.]]\n"
     ]
    }
   ],
   "source": [
    "# compute confusion matrix\n",
    "df_age['prob_file'] = mdl_age.predict(df_age['age'])\n",
    "df_age['pred_file'] = (df_age['prob_file'] > threshold).astype(float)\n",
    "conf_matrix = mdl_age.pred_table()\n",
    "print(conf_matrix)\n",
    "# print(type(conf_matrix))"
   ]
  },
  {
   "cell_type": "code",
   "execution_count": 9,
   "id": "fd5101de-efd2-4b8f-8d31-a06d150d943b",
   "metadata": {},
   "outputs": [
    {
     "name": "stdout",
     "output_type": "stream",
     "text": [
      "\n",
      "Accuracy using age only: 0.7747\n"
     ]
    }
   ],
   "source": [
    "# extract TN, TP, FN and FP from confusion matix\n",
    "def get_accuracy(confusion_matrix):\n",
    "    \"\"\" Calculated the accuracy from the confusion matrix\n",
    "\n",
    "    Args:\n",
    "        confusion_matrix (ndarray) - confusion matrix with rows as the actual values and columns as the predict values\n",
    "\n",
    "    Returns:\n",
    "        float: accuracy based on the confusion matrix\n",
    "    \"\"\"\n",
    "    TN = confusion_matrix[0, 0]\n",
    "    TP = confusion_matrix[1, 1]\n",
    "    FN = confusion_matrix[1, 0]\n",
    "    FP = confusion_matrix[0, 1]\n",
    "\n",
    "    # print(f\"TN = {TN}, TP = {TP}, FN = {FN}, \"FP = {FP}\")\n",
    "    \n",
    "    return ((TN + TP) / (TN + TP + FN + FP))\n",
    "\n",
    "accuracy_age = get_accuracy(conf_matrix)\n",
    "print(f\"\\nAccuracy using age only: {accuracy_age}\")"
   ]
  },
  {
   "cell_type": "markdown",
   "id": "3f094926-88a7-46bc-9a08-e9f60590d968",
   "metadata": {},
   "source": [
    "## `gender`\n",
    "\n",
    "Gender is a binary categorical variable.\n",
    "\n",
    "| Column | Description |\n",
    "|--------|-------------|\n",
    "| `gender` | Client's gender: <br> <ul><li>`0`: Female</li><li>`1`: Male</li></ul> |"
   ]
  },
  {
   "cell_type": "code",
   "execution_count": 10,
   "id": "718a7c46-9832-4a67-8196-d0c50d98a026",
   "metadata": {},
   "outputs": [
    {
     "name": "stdout",
     "output_type": "stream",
     "text": [
      "outcome   0.0   1.0    All\n",
      "gender                    \n",
      "0        3689  1321   5010\n",
      "1        3178  1812   4990\n",
      "All      6867  3133  10000 \n",
      "\n",
      "outcome   0.0   1.0    All  prob_file\n",
      "gender                               \n",
      "0        3689  1321   5010   0.263673\n",
      "1        3178  1812   4990   0.363126\n",
      "All      6867  3133  10000   0.313300\n"
     ]
    }
   ],
   "source": [
    "# start by getting just the data we need for this predictor\n",
    "df_gender = df_car_ins.loc[:, ['gender', 'outcome']]\n",
    "# contingency table\n",
    "contingency_table = pd.crosstab(df_gender['gender'], df_gender['outcome'], margins=True)\n",
    "print(contingency_table, \"\\n\")\n",
    "contingency_table['prob_file'] = contingency_table[1.0] / contingency_table[\"All\"]\n",
    "print(contingency_table)"
   ]
  },
  {
   "cell_type": "markdown",
   "id": "68580ca7-9171-4734-a67e-d8bba1903612",
   "metadata": {},
   "source": [
    "Data suggest that women will file claims 26.4% of the time. Men will file 36.3% of the time. This is not a big difference, so we shouldn't expect this predictor to do very well."
   ]
  },
  {
   "cell_type": "code",
   "execution_count": 11,
   "id": "9aa86c95-8c6a-4982-9b38-b71e4891b5f6",
   "metadata": {},
   "outputs": [
    {
     "name": "stdout",
     "output_type": "stream",
     "text": [
      "Optimization terminated successfully.\n",
      "         Current function value: 0.615951\n",
      "         Iterations 5\n"
     ]
    }
   ],
   "source": [
    "mdl_gender = logit(\"outcome ~ gender\", data=df_gender).fit()\n",
    "\n",
    "exploratory_data = pd.DataFrame({\"gender\": np.array([0, 1])})\n",
    "prediction_data = exploratory_data.assign(\n",
    "    prob_filed = mdl_gender.predict(exploratory_data)\n",
    ")\n",
    "\n",
    "prediction_data['pred_outcome'] = (prediction_data['prob_filed'] > threshold).astype(float)"
   ]
  },
  {
   "cell_type": "code",
   "execution_count": 12,
   "id": "aac93d99-9951-4a38-afbb-51f94352f01d",
   "metadata": {},
   "outputs": [
    {
     "name": "stdout",
     "output_type": "stream",
     "text": [
      "[[6867.    0.]\n",
      " [3133.    0.]]\n",
      "\n",
      "Accuracy using gender only: 0.6867\n",
      "\n"
     ]
    },
    {
     "data": {
      "image/png": "[encoded data removed]",
      "text/plain": [
       "<Figure size 640x480 with 1 Axes>"
      ]
     },
     "metadata": {},
     "output_type": "display_data"
    }
   ],
   "source": [
    "# compute confusion matrix\n",
    "df_gender['prob_file'] = mdl_gender.predict(df_gender['gender'])\n",
    "# df_age['prob_file'].unique()  # array([0.26367265, 0.36312625]) which are the values we computed above\n",
    "df_gender['pred_file'] = (df_gender['prob_file'] > threshold).astype(float)\n",
    "conf_matrix = mdl_gender.pred_table()\n",
    "print(conf_matrix)  # neither gender shows > 50% probability of filing, so model will always predict \"No claim\"\n",
    "\n",
    "accuracy_gender = get_accuracy(conf_matrix)\n",
    "print(f\"\\nAccuracy using gender only: {accuracy_gender}\\n\")\n",
    "\n",
    "plot_log_reg(\"gender\", \"gender\", \"outcome\", \"pred_outcome\", df_gender, prediction_data)"
   ]
  },
  {
   "cell_type": "markdown",
   "id": "dec392e0-9458-44aa-ace4-c33ae1f0c662",
   "metadata": {},
   "source": [
    "+ The plot above looks a little funny because we're looking at a binary predictor, but is what we expect: *slightly high probability of filing if you are male*.\n",
    "+ Since the probability of filing a claim is less than the threshold (50%) regardless of the `gender`, a model using this as the only predictor will always predict **No claim**."
   ]
  },
  {
   "cell_type": "markdown",
   "id": "5e1ab61b-7d28-4e5e-9903-9e17b6d847f2",
   "metadata": {},
   "source": [
    "### but what if we lowered the threshold and predicted all men would file a claim?\n",
    "\n",
    "In this case, the `gender` column would be the same as the prediction."
   ]
  },
  {
   "cell_type": "code",
   "execution_count": 13,
   "id": "c8c6552c-c9cb-4471-aa04-299fea49a451",
   "metadata": {},
   "outputs": [
    {
     "name": "stdout",
     "output_type": "stream",
     "text": [
      "[[3689 3178]\n",
      " [1321 1812]] \n",
      "\n",
      "\n",
      "Accuracy predicting all men file: 0.5501\n",
      "\n"
     ]
    }
   ],
   "source": [
    "from sklearn.metrics import confusion_matrix\n",
    "\n",
    "confusion_matrix_all_men = confusion_matrix(df_gender['outcome'], df_gender['gender'])\n",
    "print(confusion_matrix_all_men, \"\\n\")\n",
    "\n",
    "accuracy_all_men = get_accuracy(confusion_matrix_all_men)\n",
    "print(f\"\\nAccuracy predicting all men file: {accuracy_all_men}\\n\")  # as suspected, this model would does even worse..."
   ]
  },
  {
   "cell_type": "markdown",
   "id": "74f855bb-ffa5-4d2d-bd14-90adde21bb93",
   "metadata": {},
   "source": [
    "## `driving_experience`\n",
    "\n",
    "Like `age`, `driving_experience` is encoded as a categorical variable with 4 levels 0-4. These levels are also ordinal in that the higher the level, the more driving exprience being represented in that bucket. Because of this oridinality, we can treat these as continuous variables for analysis purposes.\n",
    "\n",
    "| Column | Description |\n",
    "|--------|-------------|\n",
    "| `driving_experience` | Years the client has been driving: <br> <ul><li>`0`: 0-9</li><li>`1`: 10-19</li><li>`2`: 20-29</li><li>`3`: 30+</li></ul> |\n",
    "\n",
    "This predictor may be **correlated** with the `age` predictor. Let's do a quick visual check."
   ]
  },
  {
   "cell_type": "code",
   "execution_count": 14,
   "id": "4bd0d4ca-88a0-4a49-9b39-ea7801b31bac",
   "metadata": {},
   "outputs": [
    {
     "data": {
      "text/plain": [
       "array(['0-9y', '10-19y', '20-29y', '30y+'], dtype=object)"
      ]
     },
     "execution_count": 14,
     "metadata": {},
     "output_type": "execute_result"
    }
   ],
   "source": [
    "df_age_drex = df_car_ins.loc[:, ['age', 'driving_experience', 'outcome']]\n",
    "df_age_drex['driving_experience'].unique()"
   ]
  },
  {
   "cell_type": "code",
   "execution_count": 15,
   "id": "3cf52963-2106-41d7-9704-7aaf45aa1c07",
   "metadata": {},
   "outputs": [
    {
     "data": {
      "text/plain": [
       "array([0., 1., 2., 3.])"
      ]
     },
     "execution_count": 15,
     "metadata": {},
     "output_type": "execute_result"
    }
   ],
   "source": [
    "df_age_drex = df_car_ins.loc[:, ['age', 'driving_experience', 'outcome']]\n",
    "# need to convert driving_experience into an int representing the oridinality of the data\n",
    "df_age_drex['encoded_drex'] = df_age_drex['driving_experience']\n",
    "df_age_drex['encoded_drex'] = df_age_drex['encoded_drex'].str.replace('0-9y', '0')\n",
    "df_age_drex['encoded_drex'] = df_age_drex['encoded_drex'].str.replace('10-19y', '1')\n",
    "df_age_drex['encoded_drex'] = df_age_drex['encoded_drex'].str.replace('20-29y', '2')\n",
    "df_age_drex['encoded_drex'] = df_age_drex['encoded_drex'].str.replace('30y+', '3')\n",
    "df_age_drex['encoded_drex'] = df_age_drex['encoded_drex'].astype(float)\n",
    "\n",
    "df_age_drex['encoded_drex'].unique()"
   ]
  },
  {
   "cell_type": "code",
   "execution_count": 16,
   "id": "6e934510-00e2-45f7-99f8-8c8c17c14563",
   "metadata": {},
   "outputs": [
    {
     "data": {
      "image/png": "[encoded data removed]",
      "text/plain": [
       "<Figure size 640x480 with 1 Axes>"
      ]
     },
     "metadata": {},
     "output_type": "display_data"
    }
   ],
   "source": [
    "sns.regplot(data=df_age_drex, x='age', y='encoded_drex', fit_reg = False, x_jitter = 0.3, y_jitter = 0.3, scatter_kws = {'alpha' : 1/20})\n",
    "plt.show()  # looks strong on the diagonal, but there are some older drivers with less experience"
   ]
  },
  {
   "cell_type": "code",
   "execution_count": 17,
   "id": "005c817b-c522-485d-b612-75bbc9a2af2f",
   "metadata": {},
   "outputs": [
    {
     "name": "stdout",
     "output_type": "stream",
     "text": [
      "outcome              0.0   1.0    All  prob_file\n",
      "driving_experience                              \n",
      "0-9y                1313  2217   3530   0.628045\n",
      "10-19y              2512   787   3299   0.238557\n",
      "20-29y              2010   109   2119   0.051439\n",
      "30y+                1032    20   1052   0.019011\n",
      "All                 6867  3133  10000   0.313300\n"
     ]
    }
   ],
   "source": [
    "# contingency table\n",
    "contingency_table = pd.crosstab(df_age_drex['driving_experience'], df_age_drex['outcome'], margins=True)\n",
    "# print(contingency_table)\n",
    "contingency_table['prob_file'] = contingency_table[1.0] / contingency_table[\"All\"]\n",
    "# print(contingency_table.index)\n",
    "# print(print(contingency_table.columns))\n",
    "print(contingency_table)"
   ]
  },
  {
   "cell_type": "markdown",
   "id": "660e58ce-699d-42d2-873c-bd19cbbfac84",
   "metadata": {},
   "source": [
    "Like the `age` predictor, we have one bucket (`0-9y`) that will be predicted as `Made a claim` and the others will not."
   ]
  },
  {
   "cell_type": "code",
   "execution_count": 18,
   "id": "393b397f-6f6c-4d61-ac83-4455c943b979",
   "metadata": {},
   "outputs": [
    {
     "name": "stdout",
     "output_type": "stream",
     "text": [
      "Optimization terminated successfully.\n",
      "         Current function value: 0.467390\n",
      "         Iterations 7\n"
     ]
    },
    {
     "data": {
      "image/png": "[encoded data removed]",
      "text/plain": [
       "<Figure size 640x480 with 1 Axes>"
      ]
     },
     "metadata": {},
     "output_type": "display_data"
    }
   ],
   "source": [
    "mdl_drex = logit(\"outcome ~ encoded_drex\", data=df_age_drex).fit()\n",
    "\n",
    "exploratory_data = pd.DataFrame({\"encoded_drex\": np.arange(0, 4, 1)})  # 4 buckets 0, 1, 2, 3\n",
    "prediction_data = exploratory_data.assign(\n",
    "    pred_outcome = mdl_drex.predict(exploratory_data)\n",
    ")\n",
    "\n",
    "prediction_data['pred_outcome'] = (prediction_data['pred_outcome'] > threshold).astype(float)\n",
    "plot_log_reg(\"encoded_drex\", \"encoded_drex\", \"outcome\", \"pred_outcome\", df_age_drex, prediction_data)  # similar shape to age plot"
   ]
  },
  {
   "cell_type": "code",
   "execution_count": 19,
   "id": "7ee4ef09-6261-404f-ad99-028c57ec0cde",
   "metadata": {},
   "outputs": [
    {
     "name": "stdout",
     "output_type": "stream",
     "text": [
      "[[5554. 1313.]\n",
      " [ 916. 2217.]]\n"
     ]
    }
   ],
   "source": [
    "# compute confusion matrix\n",
    "df_age_drex['prob_file'] = mdl_drex.predict(df_age_drex['encoded_drex'])\n",
    "df_age_drex['pred_file'] = (df_age_drex['prob_file'] > threshold).astype(float)\n",
    "conf_matrix = mdl_drex.pred_table()\n",
    "print(conf_matrix)"
   ]
  },
  {
   "cell_type": "code",
   "execution_count": 20,
   "id": "b6a5b08a-95c6-44ee-b32f-16ceca5a994e",
   "metadata": {},
   "outputs": [
    {
     "name": "stdout",
     "output_type": "stream",
     "text": [
      "\n",
      "Accuracy using driving experience only: 0.7771\n"
     ]
    }
   ],
   "source": [
    "accuracy_drex = get_accuracy(conf_matrix)\n",
    "print(f\"\\nAccuracy using driving experience only: {accuracy_drex}\")  # a little better than age (0.7747 vs 0.7771), **BEST SO FAR**"
   ]
  },
  {
   "cell_type": "markdown",
   "id": "376a5ee6-15a0-4801-99cf-34e064b10b2b",
   "metadata": {},
   "source": [
    "## `education`\n",
    "\n",
    "This is a 3-level categorical variable:\n",
    "+ 0: No education\n",
    "+ 1: High school\n",
    "+ 2: University\n",
    "\n",
    "The `no education` class showed the highest rate of filing and over twice the rate of the `University` class as shown in the contigency table below. Similar to what was found with `gender`, all levels have a probability of making a claim that is under 50%, so this variable alone has limited predictive power."
   ]
  },
  {
   "cell_type": "code",
   "execution_count": 21,
   "id": "d5d7114b-f1f0-4952-8dd3-d00f321a4ec0",
   "metadata": {},
   "outputs": [],
   "source": [
    "df_ed = df_car_ins.loc[:, ['education', 'outcome']]\n",
    "# df_ed['education'].unique()  # array(['high school', 'none', 'university'], dtype=object), need encoding"
   ]
  },
  {
   "cell_type": "code",
   "execution_count": 22,
   "id": "4a9ba1ac-6858-47d3-99da-f0d84466109a",
   "metadata": {},
   "outputs": [
    {
     "data": {
      "text/html": [
       "<div>\n",
       "<style scoped>\n",
       "    .dataframe tbody tr th:only-of-type {\n",
       "        vertical-align: middle;\n",
       "    }\n",
       "\n",
       "    .dataframe tbody tr th {\n",
       "        vertical-align: top;\n",
       "    }\n",
       "\n",
       "    .dataframe thead th {\n",
       "        text-align: right;\n",
       "    }\n",
       "</style>\n",
       "<table border=\"1\" class=\"dataframe\">\n",
       "  <thead>\n",
       "    <tr style=\"text-align: right;\">\n",
       "      <th></th>\n",
       "      <th>education</th>\n",
       "      <th>outcome</th>\n",
       "    </tr>\n",
       "  </thead>\n",
       "  <tbody>\n",
       "    <tr>\n",
       "      <th>0</th>\n",
       "      <td>1.0</td>\n",
       "      <td>0.0</td>\n",
       "    </tr>\n",
       "    <tr>\n",
       "      <th>1</th>\n",
       "      <td>0.0</td>\n",
       "      <td>1.0</td>\n",
       "    </tr>\n",
       "    <tr>\n",
       "      <th>2</th>\n",
       "      <td>1.0</td>\n",
       "      <td>0.0</td>\n",
       "    </tr>\n",
       "    <tr>\n",
       "      <th>3</th>\n",
       "      <td>2.0</td>\n",
       "      <td>0.0</td>\n",
       "    </tr>\n",
       "    <tr>\n",
       "      <th>4</th>\n",
       "      <td>0.0</td>\n",
       "      <td>1.0</td>\n",
       "    </tr>\n",
       "  </tbody>\n",
       "</table>\n",
       "</div>"
      ],
      "text/plain": [
       "   education  outcome\n",
       "0        1.0      0.0\n",
       "1        0.0      1.0\n",
       "2        1.0      0.0\n",
       "3        2.0      0.0\n",
       "4        0.0      1.0"
      ]
     },
     "execution_count": 22,
     "metadata": {},
     "output_type": "execute_result"
    }
   ],
   "source": [
    "# encode education levels\n",
    "df_ed['education'] = df_ed['education'].replace({'none': '0', 'high school': '1', 'university': '2'})\n",
    "df_ed['education'] = df_ed['education'].astype(float)\n",
    "df_ed.head()"
   ]
  },
  {
   "cell_type": "code",
   "execution_count": 23,
   "id": "9332df17-3019-4ba8-80fe-e4f526a89321",
   "metadata": {},
   "outputs": [
    {
     "data": {
      "text/html": [
       "<div>\n",
       "<style scoped>\n",
       "    .dataframe tbody tr th:only-of-type {\n",
       "        vertical-align: middle;\n",
       "    }\n",
       "\n",
       "    .dataframe tbody tr th {\n",
       "        vertical-align: top;\n",
       "    }\n",
       "\n",
       "    .dataframe thead th {\n",
       "        text-align: right;\n",
       "    }\n",
       "</style>\n",
       "<table border=\"1\" class=\"dataframe\">\n",
       "  <thead>\n",
       "    <tr style=\"text-align: right;\">\n",
       "      <th>outcome</th>\n",
       "      <th>0.0</th>\n",
       "      <th>1.0</th>\n",
       "      <th>All</th>\n",
       "      <th>prob_file</th>\n",
       "    </tr>\n",
       "    <tr>\n",
       "      <th>education</th>\n",
       "      <th></th>\n",
       "      <th></th>\n",
       "      <th></th>\n",
       "      <th></th>\n",
       "    </tr>\n",
       "  </thead>\n",
       "  <tbody>\n",
       "    <tr>\n",
       "      <th>0.0</th>\n",
       "      <td>1012</td>\n",
       "      <td>903</td>\n",
       "      <td>1915</td>\n",
       "      <td>0.47154</td>\n",
       "    </tr>\n",
       "    <tr>\n",
       "      <th>1.0</th>\n",
       "      <td>2813</td>\n",
       "      <td>1344</td>\n",
       "      <td>4157</td>\n",
       "      <td>0.32331</td>\n",
       "    </tr>\n",
       "    <tr>\n",
       "      <th>2.0</th>\n",
       "      <td>3042</td>\n",
       "      <td>886</td>\n",
       "      <td>3928</td>\n",
       "      <td>0.22556</td>\n",
       "    </tr>\n",
       "    <tr>\n",
       "      <th>All</th>\n",
       "      <td>6867</td>\n",
       "      <td>3133</td>\n",
       "      <td>10000</td>\n",
       "      <td>0.31330</td>\n",
       "    </tr>\n",
       "  </tbody>\n",
       "</table>\n",
       "</div>"
      ],
      "text/plain": [
       "outcome     0.0   1.0    All  prob_file\n",
       "education                              \n",
       "0.0        1012   903   1915    0.47154\n",
       "1.0        2813  1344   4157    0.32331\n",
       "2.0        3042   886   3928    0.22556\n",
       "All        6867  3133  10000    0.31330"
      ]
     },
     "execution_count": 23,
     "metadata": {},
     "output_type": "execute_result"
    }
   ],
   "source": [
    "contingency_ed = pd.crosstab(df_ed['education'], df_ed['outcome'], margins=True)\n",
    "contingency_ed['prob_file'] = contingency_ed[1.0] / contingency_ed[\"All\"]\n",
    "contingency_ed  # all three level below 50%, so model will always predict  `No claim` and results will be similar to gender (accuracy = 0.6867)"
   ]
  },
  {
   "cell_type": "markdown",
   "id": "31da1aee-dc70-41bc-a30e-0ab3a117ced5",
   "metadata": {},
   "source": [
    "## `income`\n",
    "\n",
    "Similar to `age` and `drivign_experience`, this is a 4-level categorical variable"
   ]
  },
  {
   "cell_type": "code",
   "execution_count": 24,
   "id": "342622c9-0785-4995-acd6-63945e0e065b",
   "metadata": {},
   "outputs": [
    {
     "name": "stdout",
     "output_type": "stream",
     "text": [
      "['upper class' 'poverty' 'working class' 'middle class'] \n",
      "\n"
     ]
    },
    {
     "data": {
      "text/html": [
       "<div>\n",
       "<style scoped>\n",
       "    .dataframe tbody tr th:only-of-type {\n",
       "        vertical-align: middle;\n",
       "    }\n",
       "\n",
       "    .dataframe tbody tr th {\n",
       "        vertical-align: top;\n",
       "    }\n",
       "\n",
       "    .dataframe thead th {\n",
       "        text-align: right;\n",
       "    }\n",
       "</style>\n",
       "<table border=\"1\" class=\"dataframe\">\n",
       "  <thead>\n",
       "    <tr style=\"text-align: right;\">\n",
       "      <th>outcome</th>\n",
       "      <th>0.0</th>\n",
       "      <th>1.0</th>\n",
       "      <th>All</th>\n",
       "      <th>prob_file</th>\n",
       "    </tr>\n",
       "    <tr>\n",
       "      <th>income</th>\n",
       "      <th></th>\n",
       "      <th></th>\n",
       "      <th></th>\n",
       "      <th></th>\n",
       "    </tr>\n",
       "  </thead>\n",
       "  <tbody>\n",
       "    <tr>\n",
       "      <th>0.0</th>\n",
       "      <td>628</td>\n",
       "      <td>1186</td>\n",
       "      <td>1814</td>\n",
       "      <td>0.653804</td>\n",
       "    </tr>\n",
       "    <tr>\n",
       "      <th>1.0</th>\n",
       "      <td>936</td>\n",
       "      <td>776</td>\n",
       "      <td>1712</td>\n",
       "      <td>0.453271</td>\n",
       "    </tr>\n",
       "    <tr>\n",
       "      <th>2.0</th>\n",
       "      <td>1546</td>\n",
       "      <td>592</td>\n",
       "      <td>2138</td>\n",
       "      <td>0.276894</td>\n",
       "    </tr>\n",
       "    <tr>\n",
       "      <th>3.0</th>\n",
       "      <td>3757</td>\n",
       "      <td>579</td>\n",
       "      <td>4336</td>\n",
       "      <td>0.133533</td>\n",
       "    </tr>\n",
       "    <tr>\n",
       "      <th>All</th>\n",
       "      <td>6867</td>\n",
       "      <td>3133</td>\n",
       "      <td>10000</td>\n",
       "      <td>0.313300</td>\n",
       "    </tr>\n",
       "  </tbody>\n",
       "</table>\n",
       "</div>"
      ],
      "text/plain": [
       "outcome   0.0   1.0    All  prob_file\n",
       "income                               \n",
       "0.0       628  1186   1814   0.653804\n",
       "1.0       936   776   1712   0.453271\n",
       "2.0      1546   592   2138   0.276894\n",
       "3.0      3757   579   4336   0.133533\n",
       "All      6867  3133  10000   0.313300"
      ]
     },
     "execution_count": 24,
     "metadata": {},
     "output_type": "execute_result"
    }
   ],
   "source": [
    "df_inc = df_car_ins.loc[:, ['income', 'outcome']]\n",
    "print(df_inc['income'].unique(), \"\\n\")  # ['upper class' 'poverty' 'working class' 'middle class'], need encoding\n",
    "# pd.set_option('future.no_silent_downcasting', True)\n",
    "df_inc['income'] = df_inc['income'].replace({'poverty': '0', 'working class': '1', 'middle class': '2', 'upper class': '3'})\n",
    "df_inc['income'] = df_inc['income'].astype(float)\n",
    "\n",
    "contingency_inc = pd.crosstab(df_inc['income'], df_inc['outcome'], margins=True)\n",
    "contingency_inc['prob_file'] = contingency_inc[1.0] / contingency_inc[\"All\"]\n",
    "contingency_inc"
   ]
  },
  {
   "cell_type": "code",
   "execution_count": 25,
   "id": "caf3ef5a-bbea-442f-a26c-ca41070782c3",
   "metadata": {},
   "outputs": [
    {
     "name": "stdout",
     "output_type": "stream",
     "text": [
      "Optimization terminated successfully.\n",
      "         Current function value: 0.531580\n",
      "         Iterations 5\n"
     ]
    },
    {
     "data": {
      "image/png": "[encoded data removed]",
      "text/plain": [
       "<Figure size 640x480 with 1 Axes>"
      ]
     },
     "metadata": {},
     "output_type": "display_data"
    }
   ],
   "source": [
    "mdl_inc = logit(\"outcome ~ income\", data=df_inc).fit()\n",
    "\n",
    "exploratory_data = pd.DataFrame({\"income\": np.arange(0, 4, 1)})  # 4 buckets 0, 1, 2, 3\n",
    "prediction_data = exploratory_data.assign(\n",
    "    pred_outcome = mdl_inc.predict(exploratory_data)\n",
    ")\n",
    "\n",
    "prediction_data['pred_outcome'] = (prediction_data['pred_outcome'] > threshold).astype(float)\n",
    "plot_log_reg(\"income\", \"income\", \"outcome\", \"pred_outcome\", df_inc, prediction_data)  # similar shape to age plot"
   ]
  },
  {
   "cell_type": "code",
   "execution_count": 26,
   "id": "7fe235ac-ef9f-4d84-80b5-6e5438e57a10",
   "metadata": {},
   "outputs": [
    {
     "name": "stdout",
     "output_type": "stream",
     "text": [
      "[[6239.  628.]\n",
      " [1947. 1186.]] \n",
      "\n",
      "\n",
      "Accuracy using income only: 0.7425\n"
     ]
    }
   ],
   "source": [
    "# compute confusion matrix\n",
    "df_inc['prob_file'] = mdl_inc.predict(df_inc['income'])\n",
    "df_inc['pred_file'] = (df_inc['prob_file'] > threshold).astype(float)\n",
    "conf_matrix = mdl_inc.pred_table()\n",
    "print(conf_matrix, \"\\n\")\n",
    "\n",
    "# compute accuracy\n",
    "accuracy_inc = get_accuracy(conf_matrix)\n",
    "print(f\"\\nAccuracy using income only: {accuracy_inc}\")  # simliar to, but a little worse than age and driving experience: 0.7425 vs (0.7747, 0.7771)"
   ]
  },
  {
   "cell_type": "markdown",
   "id": "22c4dd77-f264-4931-bc6a-6f9233848c91",
   "metadata": {},
   "source": [
    "## `credit_score`\n",
    "\n",
    "This is continuous variable..."
   ]
  },
  {
   "cell_type": "code",
   "execution_count": 27,
   "id": "cd179095-5e40-43b4-8c8c-a181d5a97ca4",
   "metadata": {},
   "outputs": [
    {
     "data": {
      "text/plain": [
       "count    9018.000000\n",
       "mean        0.515813\n",
       "std         0.137688\n",
       "min         0.053358\n",
       "25%         0.417191\n",
       "50%         0.525033\n",
       "75%         0.618312\n",
       "max         0.960819\n",
       "Name: credit_score, dtype: float64"
      ]
     },
     "execution_count": 27,
     "metadata": {},
     "output_type": "execute_result"
    }
   ],
   "source": [
    "df_credit = df_car_ins.loc[:, ['credit_score', 'outcome']]\n",
    "df_credit['credit_score'].describe()  # looks like just under 10% of these values are missing"
   ]
  },
  {
   "cell_type": "code",
   "execution_count": 28,
   "id": "3ff19804-5229-48b7-9360-f076383a2036",
   "metadata": {},
   "outputs": [
    {
     "name": "stdout",
     "output_type": "stream",
     "text": [
      "Optimization terminated successfully.\n",
      "         Current function value: 0.567469\n",
      "         Iterations 6\n"
     ]
    },
    {
     "data": {
      "image/png": "[encoded data removed]",
      "text/plain": [
       "<Figure size 640x480 with 1 Axes>"
      ]
     },
     "metadata": {},
     "output_type": "display_data"
    }
   ],
   "source": [
    "mdl_credit = logit(\"outcome ~ credit_score\", data=df_credit).fit()\n",
    "\n",
    "exploratory_data = pd.DataFrame({\"credit_score\": np.arange(0, 1, 0.01)})  # \n",
    "prediction_data = exploratory_data.assign(\n",
    "    pred_outcome = mdl_credit.predict(exploratory_data)\n",
    ")\n",
    "\n",
    "prediction_data['pred_outcome'] = (prediction_data['pred_outcome'] > threshold).astype(float)\n",
    "plot_log_reg(\"credit_score\", \"credit_score\", \"outcome\", \"pred_outcome\", df_credit, prediction_data)  # similar shape to age plot"
   ]
  },
  {
   "cell_type": "code",
   "execution_count": 29,
   "id": "6becf672-40c6-4f86-89f2-1519a43bca45",
   "metadata": {},
   "outputs": [
    {
     "name": "stdout",
     "output_type": "stream",
     "text": [
      "[[5650.  539.]\n",
      " [2106.  723.]] \n",
      "\n",
      "\n",
      "Accuracy using credit score only: 0.7066977156797516\n"
     ]
    }
   ],
   "source": [
    "# compute confusion matrix\n",
    "df_credit['prob_file'] = mdl_credit.predict(df_credit['credit_score'])\n",
    "df_credit['pred_file'] = (df_credit['prob_file'] > threshold).astype(float)\n",
    "conf_matrix = mdl_credit.pred_table()\n",
    "print(conf_matrix, \"\\n\")\n",
    "\n",
    "# compute accuracy\n",
    "accuracy_credit = get_accuracy(conf_matrix)\n",
    "print(f\"\\nAccuracy using credit score only: {accuracy_credit}\")  # simliar to, but a little worse than income, age and driving experience (0.7425, 0.7747, 0.7771)"
   ]
  },
  {
   "cell_type": "markdown",
   "id": "0ac45bfa-6307-46e3-bb31-0b1b9258f6e5",
   "metadata": {},
   "source": [
    "## `vehicle_ownership`\n",
    "\n",
    "Binary categorical:\n",
    "+ 0: Does not own their vehilce (paying off finance)\n",
    "+ 1: Owns their vehicle"
   ]
  },
  {
   "cell_type": "code",
   "execution_count": 30,
   "id": "45732b24-12f5-4706-a2fc-b4e2f8779357",
   "metadata": {},
   "outputs": [
    {
     "name": "stdout",
     "output_type": "stream",
     "text": [
      "outcome             0.0   1.0    All  prob_file\n",
      "vehicle_ownership                              \n",
      "0.0                1273  1757   3030   0.579868\n",
      "1.0                5594  1376   6970   0.197418\n",
      "All                6867  3133  10000   0.313300\n"
     ]
    }
   ],
   "source": [
    "df_owns = df_car_ins.loc[:, ['vehicle_ownership', 'outcome']]\n",
    "# df_owns.head()  # looks like it's already encoded\n",
    "contingency_table = pd.crosstab(df_owns['vehicle_ownership'], df_owns['outcome'], margins=True)\n",
    "contingency_table['prob_file'] = contingency_table[1.0] / contingency_table[\"All\"]\n",
    "print(contingency_table)"
   ]
  },
  {
   "cell_type": "code",
   "execution_count": 31,
   "id": "0d4dd9e7-fcbd-4e04-a356-2b1f9a2c0b6e",
   "metadata": {},
   "outputs": [],
   "source": [
    "# predict all non owners file - no need for logistic regression model\n",
    "df_owns[\"pred_outcome\"] = (df_owns[\"vehicle_ownership\"] - 1).abs()"
   ]
  },
  {
   "cell_type": "code",
   "execution_count": 32,
   "id": "bf1523d7-a446-4113-b47f-c11079c6fc6f",
   "metadata": {},
   "outputs": [
    {
     "name": "stdout",
     "output_type": "stream",
     "text": [
      "[[5594 1273]\n",
      " [1376 1757]] \n",
      "\n",
      "\n",
      "Accuracy predicting all non-owners file: 0.7351\n",
      "\n"
     ]
    }
   ],
   "source": [
    "confusion_matrix_not_owns = confusion_matrix(df_owns['outcome'], df_owns['pred_outcome'])\n",
    "print(confusion_matrix_not_owns, \"\\n\")\n",
    "\n",
    "accuracy_not_owns = get_accuracy(confusion_matrix_not_owns)\n",
    "print(f\"\\nAccuracy predicting all non-owners file: {accuracy_not_owns}\\n\")  # similar, but driving experience still best (0.7771)"
   ]
  },
  {
   "cell_type": "markdown",
   "id": "daf0b603-527a-413a-90a0-99ace75db1bd",
   "metadata": {},
   "source": [
    "## `vehicle_year`\n",
    "\n",
    "Like other binary predictor variables we've seen so far, one level sticks out. In this case it's `Before 2015`."
   ]
  },
  {
   "cell_type": "code",
   "execution_count": 33,
   "id": "e3c4899c-ccc3-4854-89e9-134e38acf6d5",
   "metadata": {},
   "outputs": [
    {
     "name": "stdout",
     "output_type": "stream",
     "text": [
      "outcome            0.0   1.0    All  prob_file\n",
      "encoded_veh_year                              \n",
      "0.0               4157  2810   6967   0.403330\n",
      "1.0               2710   323   3033   0.106495\n",
      "All               6867  3133  10000   0.313300\n"
     ]
    }
   ],
   "source": [
    "df_vyear = df_car_ins.loc[:, ['vehicle_year', 'outcome']]\n",
    "df_vyear['vehicle_year'].unique()  # needs encoding\n",
    "df_vyear[\"encoded_veh_year\"] = df_vyear['vehicle_year'].replace({'before 2015': '0', 'after 2015': '1'})\n",
    "df_vyear[\"encoded_veh_year\"] = df_vyear[\"encoded_veh_year\"].astype(float)\n",
    "contingency_table = pd.crosstab(df_vyear['encoded_veh_year'], df_vyear['outcome'], margins=True)\n",
    "contingency_table['prob_file'] = contingency_table[1.0] / contingency_table[\"All\"]\n",
    "print(contingency_table)"
   ]
  },
  {
   "cell_type": "code",
   "execution_count": 34,
   "id": "f7f82b6a-23df-4687-a223-91af8d4405d9",
   "metadata": {},
   "outputs": [
    {
     "name": "stdout",
     "output_type": "stream",
     "text": [
      "[[2710 4157]\n",
      " [ 323 2810]] \n",
      "\n",
      "\n",
      "Accuracy predicting all people with vehicles registered before 2015 file: 0.552\n",
      "\n"
     ]
    }
   ],
   "source": [
    "# predict all people with vehicles registered before 2015 file - no need for logistic regression model\n",
    "df_vyear[\"pred_outcome\"] = (df_vyear[\"encoded_veh_year\"] - 1).abs()\n",
    "confusion_matrix_vyear = confusion_matrix(df_vyear['outcome'], df_vyear['pred_outcome'])\n",
    "print(confusion_matrix_vyear, \"\\n\")\n",
    "\n",
    "accuracy_vyear = get_accuracy(confusion_matrix_vyear)\n",
    "print(f\"\\nAccuracy predicting all people with vehicles registered before 2015 file: {accuracy_vyear}\\n\")  # better to predict that none will file, driving experience still best (0.7771)"
   ]
  },
  {
   "cell_type": "markdown",
   "id": "305a832c-3a8b-47c2-a9f3-f8723595d3d0",
   "metadata": {},
   "source": [
    "## `married`\n",
    "\n",
    "Binary categorical:\n",
    "+ 0: Not married\n",
    "+ 1: Married"
   ]
  },
  {
   "cell_type": "code",
   "execution_count": 35,
   "id": "8f18f212-d67f-45f9-a6cb-4bc8b115cce4",
   "metadata": {},
   "outputs": [
    {
     "name": "stdout",
     "output_type": "stream",
     "text": [
      "outcome   0.0   1.0    All  prob_file\n",
      "married                              \n",
      "0.0      2838  2180   5018   0.434436\n",
      "1.0      4029   953   4982   0.191289\n",
      "All      6867  3133  10000   0.313300\n"
     ]
    }
   ],
   "source": [
    "df_married = df_car_ins.loc[:, ['married', 'outcome']]\n",
    "# df_married['married'].unique()  # alread encoded\n",
    "contingency_table = pd.crosstab(df_married['married'], df_married['outcome'], margins=True)\n",
    "contingency_table['prob_file'] = contingency_table[1.0] / contingency_table[\"All\"]\n",
    "print(contingency_table)"
   ]
  },
  {
   "cell_type": "code",
   "execution_count": 36,
   "id": "3d289e27-5ea7-4068-bda0-3e019a00aee4",
   "metadata": {},
   "outputs": [
    {
     "name": "stdout",
     "output_type": "stream",
     "text": [
      "[[4029 2838]\n",
      " [ 953 2180]] \n",
      "\n",
      "\n",
      "Accuracy predicting all un-married people file: 0.6209\n",
      "\n"
     ]
    }
   ],
   "source": [
    "# predict all unmarried file - no need for logistic regression model\n",
    "df_married[\"pred_outcome\"] = (df_married[\"married\"] - 1).abs()  # again, need to flip the bits of this binary column\n",
    "confusion_matrix_married = confusion_matrix(df_married['outcome'], df_married['pred_outcome'])\n",
    "print(confusion_matrix_married, \"\\n\")\n",
    "\n",
    "accuracy_married = get_accuracy(confusion_matrix_married)\n",
    "print(f\"\\nAccuracy predicting all un-married people file: {accuracy_married}\\n\")  # better to predict that none will file (0.6867), driving experience still best (0.7771)"
   ]
  },
  {
   "cell_type": "markdown",
   "id": "686f38a3-d841-4887-920b-78af5aee548c",
   "metadata": {},
   "source": [
    "## `children`\n",
    "\n",
    "This is supposed to be the number of children, but the variable looks binary. Probable (assumed) meaning: **1 = client has children, 0 = client has not children**"
   ]
  },
  {
   "cell_type": "code",
   "execution_count": 37,
   "id": "94fe593d-462d-484f-a876-8ae5eb283fdc",
   "metadata": {},
   "outputs": [
    {
     "name": "stdout",
     "output_type": "stream",
     "text": [
      "outcome    0.0   1.0    All  prob_file\n",
      "children                              \n",
      "0.0       1637  1475   3112   0.473972\n",
      "1.0       5230  1658   6888   0.240708\n",
      "All       6867  3133  10000   0.313300\n"
     ]
    }
   ],
   "source": [
    "df_kids = df_car_ins.loc[:, ['children', 'outcome']]\n",
    "# df_kids['children'].unique()  # appears to binary, not really the number of kids\n",
    "contingency_table = pd.crosstab(df_kids['children'], df_kids['outcome'], margins=True)\n",
    "contingency_table['prob_file'] = contingency_table[1.0] / contingency_table[\"All\"]\n",
    "print(contingency_table)"
   ]
  },
  {
   "cell_type": "code",
   "execution_count": 38,
   "id": "bcd0281d-6cdd-44c0-be06-30fe4e1bcd4d",
   "metadata": {},
   "outputs": [
    {
     "name": "stdout",
     "output_type": "stream",
     "text": [
      "[[5230 1637]\n",
      " [1658 1475]] \n",
      "\n",
      "\n",
      "Accuracy predicting all childless people file: 0.6705\n",
      "\n"
     ]
    }
   ],
   "source": [
    "# predict all childless file - no need for logistic regression model\n",
    "df_kids[\"pred_outcome\"] = (df_kids[\"children\"] - 1).abs()  # again, need to flip the bits of this binary column\n",
    "confusion_matrix_kids = confusion_matrix(df_kids['outcome'], df_kids['pred_outcome'])\n",
    "print(confusion_matrix_kids, \"\\n\")\n",
    "\n",
    "accuracy_kids = get_accuracy(confusion_matrix_kids)\n",
    "print(f\"\\nAccuracy predicting all childless people file: {accuracy_kids}\\n\")  # better to predict that none will file (0.6867), driving experience still best (0.7771)"
   ]
  },
  {
   "cell_type": "markdown",
   "id": "ad6398c5-124b-4abf-8def-f9c8f7039429",
   "metadata": {},
   "source": [
    "## `postal_code`\n",
    "\n",
    "This is a 4-level categorical variable encoded as an integer. This is **NOT** ordinal, so we need to change the type.\n",
    "\n",
    "Looks like every client in one of the levels (postal code 21217) filed a claim. However, this is small number relative to the total claims (120 vs 3133). The othe postal codes show a fairly even distribution, we don't need to build a model to know this isn't going to be a very good predictor."
   ]
  },
  {
   "cell_type": "code",
   "execution_count": 39,
   "id": "1c1453ce-36d3-4c90-ae83-5dd6873b23d0",
   "metadata": {},
   "outputs": [
    {
     "data": {
      "text/plain": [
       "array([10238, 32765, 92101, 21217], dtype=int64)"
      ]
     },
     "execution_count": 39,
     "metadata": {},
     "output_type": "execute_result"
    }
   ],
   "source": [
    "df_car_ins[\"postal_code\"].unique()"
   ]
  },
  {
   "cell_type": "code",
   "execution_count": 40,
   "id": "fe9e75d8-9f8e-4951-bebc-4a613517e153",
   "metadata": {},
   "outputs": [
    {
     "name": "stdout",
     "output_type": "stream",
     "text": [
      "outcome       0.0   1.0    All  prob_file\n",
      "postal_code                              \n",
      "10238        5054  1886   6940   0.271758\n",
      "21217           0   120    120   1.000000\n",
      "32765        1529   927   2456   0.377443\n",
      "92101         284   200    484   0.413223\n",
      "All          6867  3133  10000   0.313300\n"
     ]
    }
   ],
   "source": [
    "df_zip = df_car_ins.loc[:, ['postal_code', 'outcome']]\n",
    "df_zip['postal_code'] = df_zip['postal_code'].astype('category')\n",
    "\n",
    "contingency_table = pd.crosstab(df_zip['postal_code'], df_zip['outcome'], margins=True)\n",
    "contingency_table['prob_file'] = contingency_table[1.0] / contingency_table[\"All\"]\n",
    "print(contingency_table)"
   ]
  },
  {
   "cell_type": "markdown",
   "id": "17b5a806-c867-466d-804c-f0facccab7c9",
   "metadata": {},
   "source": [
    "## `annual_mileage`\n",
    "\n",
    "Another continuous variable..."
   ]
  },
  {
   "cell_type": "code",
   "execution_count": 41,
   "id": "edcb6186-e9ce-4120-89c7-ae531bfcc9b7",
   "metadata": {},
   "outputs": [
    {
     "data": {
      "text/plain": [
       "count     9043.000000\n",
       "mean     11697.003207\n",
       "std       2818.434528\n",
       "min       2000.000000\n",
       "25%      10000.000000\n",
       "50%      12000.000000\n",
       "75%      14000.000000\n",
       "max      22000.000000\n",
       "Name: annual_mileage, dtype: float64"
      ]
     },
     "execution_count": 41,
     "metadata": {},
     "output_type": "execute_result"
    }
   ],
   "source": [
    "df_car_ins['annual_mileage'].describe()  # about 10% of values are missing here as well"
   ]
  },
  {
   "cell_type": "code",
   "execution_count": 42,
   "id": "d7c8c1c3-c415-4a68-b038-9dd996ac9603",
   "metadata": {},
   "outputs": [
    {
     "name": "stdout",
     "output_type": "stream",
     "text": [
      "Optimization terminated successfully.\n",
      "         Current function value: 0.601906\n",
      "         Iterations 5\n"
     ]
    },
    {
     "data": {
      "image/png": "[encoded data removed]",
      "text/plain": [
       "<Figure size 640x480 with 1 Axes>"
      ]
     },
     "metadata": {},
     "output_type": "display_data"
    }
   ],
   "source": [
    "mdl_miles = logit(\"outcome ~ annual_mileage\", data=df_car_ins).fit()\n",
    "\n",
    "exploratory_data = pd.DataFrame({\"annual_mileage\": np.arange(2000, 22500, 500)})  # \n",
    "prediction_data = exploratory_data.assign(\n",
    "    pred_outcome = mdl_miles.predict(exploratory_data)\n",
    ")\n",
    "\n",
    "prediction_data['pred_outcome'] = (prediction_data['pred_outcome'] > threshold).astype(float)\n",
    "plot_log_reg(\"annual_mileage\", \"annual_mileage\", \"outcome\", \"pred_outcome\", df_car_ins, prediction_data)"
   ]
  },
  {
   "cell_type": "code",
   "execution_count": 43,
   "id": "e79e5671-5290-4f3a-8757-2eb5b1d18baf",
   "metadata": {},
   "outputs": [
    {
     "name": "stdout",
     "output_type": "stream",
     "text": [
      "[[6167.   66.]\n",
      " [2707.  103.]] \n",
      "\n",
      "\n",
      "Accuracy using annual vehicle mileage only: 0.6933539754506248\n"
     ]
    }
   ],
   "source": [
    "# compute confusion matrix\n",
    "miles_prob_file = mdl_miles.predict(df_car_ins['annual_mileage'])\n",
    "miles_pred_file = (miles_prob_file > threshold).astype(float)\n",
    "conf_matrix = mdl_miles.pred_table()\n",
    "print(conf_matrix, \"\\n\")\n",
    "\n",
    "# compute accuracy\n",
    "accuracy_miles = get_accuracy(conf_matrix)\n",
    "print(f\"\\nAccuracy using annual vehicle mileage only: {accuracy_miles}\")  # not so hot, driving experience still best (0.7771)"
   ]
  },
  {
   "cell_type": "markdown",
   "id": "ae32ef97-bdda-420b-9cac-ecf6c9d83d4c",
   "metadata": {},
   "source": [
    "## `vehicle_type`\n",
    "\n",
    "Binary categorical:\n",
    "+ 0: Sedan\n",
    "+ 1: Sports car\n",
    "\n",
    "Most vehicles are sedan in this data set, so most of the claims will naturally come from this class. Not very informative as a predictor by itself."
   ]
  },
  {
   "cell_type": "code",
   "execution_count": 44,
   "id": "f52a16e0-7c5a-40fe-a4b3-126fff507658",
   "metadata": {},
   "outputs": [
    {
     "name": "stdout",
     "output_type": "stream",
     "text": [
      "outcome        0.0   1.0    All  prob_file\n",
      "vehicle_type                              \n",
      "sedan         6545  2978   9523   0.312717\n",
      "sports car     322   155    477   0.324948\n",
      "All           6867  3133  10000   0.313300\n"
     ]
    }
   ],
   "source": [
    "df_vtype = df_car_ins.loc[:, ['vehicle_type', 'outcome']]\n",
    "# df_kids['children'].unique()  # appears to binary, not really the number of kids\n",
    "contingency_table = pd.crosstab(df_vtype['vehicle_type'], df_vtype['outcome'], margins=True)\n",
    "contingency_table['prob_file'] = contingency_table[1.0] / contingency_table[\"All\"]\n",
    "print(contingency_table)"
   ]
  },
  {
   "cell_type": "markdown",
   "id": "2798bfe2-9d05-48f5-845f-39800f72a315",
   "metadata": {},
   "source": [
    "## `speeding_violations`\n",
    "\n",
    "As shown in the plot, this variable alone has no predictive power."
   ]
  },
  {
   "cell_type": "code",
   "execution_count": 45,
   "id": "9e4c80ed-8265-4313-9dbc-89086502b934",
   "metadata": {},
   "outputs": [
    {
     "name": "stdout",
     "output_type": "stream",
     "text": [
      "Optimization terminated successfully.\n",
      "         Current function value: 0.558922\n",
      "         Iterations 7\n"
     ]
    },
    {
     "data": {
      "image/png": "[encoded data removed]",
      "text/plain": [
       "<Figure size 640x480 with 1 Axes>"
      ]
     },
     "metadata": {},
     "output_type": "display_data"
    }
   ],
   "source": [
    "df_speed = df_car_ins.loc[:, ['speeding_violations', 'outcome']]\n",
    "# np.sort(df_speed['speeding_violations'].unique())  # 21 values, treat as continuous\n",
    "mdl_speed = logit(\"outcome ~ speeding_violations\", data=df_speed).fit()\n",
    "\n",
    "exploratory_data = pd.DataFrame({\"speeding_violations\": np.arange(0, 23, 1)})  # \n",
    "prediction_data = exploratory_data.assign(\n",
    "    pred_outcome = mdl_speed.predict(exploratory_data)\n",
    ")\n",
    "\n",
    "prediction_data['pred_outcome'] = (prediction_data['pred_outcome'] > threshold).astype(float)\n",
    "plot_log_reg(\"speeding_violations\", \"speeding_violations\", \"outcome\", \"pred_outcome\", df_speed, prediction_data)"
   ]
  },
  {
   "cell_type": "markdown",
   "id": "68d60e5a-a7d8-49b3-b970-15abfe61cefc",
   "metadata": {},
   "source": [
    "## duis\n",
    "\n",
    "Number of times the client has been caught driving under the influence of alcohol. Large majority of sample have 0 duis and is where most of the filings come from, so this won't be very useful predictor by itself either."
   ]
  },
  {
   "cell_type": "code",
   "execution_count": 46,
   "id": "8e7dc627-567e-4a4a-b445-ca6365e33eca",
   "metadata": {},
   "outputs": [
    {
     "data": {
      "text/plain": [
       "array([0, 1, 2, 3, 4, 5, 6], dtype=int64)"
      ]
     },
     "execution_count": 46,
     "metadata": {},
     "output_type": "execute_result"
    }
   ],
   "source": [
    "df_dui = df_car_ins.loc[:, ['duis', 'outcome']]\n",
    "np.sort(df_dui['duis'].unique())  # [0, 1, 2, 3, 4, 5, 6]"
   ]
  },
  {
   "cell_type": "code",
   "execution_count": 47,
   "id": "8c7c23f5-2403-443b-b8ec-a0aa50d1081c",
   "metadata": {},
   "outputs": [
    {
     "name": "stdout",
     "output_type": "stream",
     "text": [
      "outcome   0.0   1.0    All  prob_file\n",
      "duis                                 \n",
      "0        5204  2914   8118   0.358955\n",
      "1        1282   188   1470   0.127891\n",
      "2         309    22    331   0.066465\n",
      "3          62     6     68   0.088235\n",
      "4           7     3     10   0.300000\n",
      "5           2     0      2   0.000000\n",
      "6           1     0      1   0.000000\n",
      "All      6867  3133  10000   0.313300\n"
     ]
    }
   ],
   "source": [
    "contingency_table = pd.crosstab(df_dui['duis'], df_dui['outcome'], margins=True)\n",
    "contingency_table['prob_file'] = contingency_table[1.0] / contingency_table[\"All\"]\n",
    "print(contingency_table)"
   ]
  },
  {
   "cell_type": "markdown",
   "id": "c24efdff-f646-4719-be00-0ffd7625d0bc",
   "metadata": {},
   "source": [
    "## past_accidents\n",
    "\n",
    "This is not a good predictor for similar reasons described as to why `speeding_violations` is not a good predictor."
   ]
  },
  {
   "cell_type": "code",
   "execution_count": 48,
   "id": "0fbf2e24-08c4-4eae-a2d8-6a9a09edcb66",
   "metadata": {},
   "outputs": [
    {
     "data": {
      "text/plain": [
       "array([ 0,  1,  2,  3,  4,  5,  6,  7,  8,  9, 10, 11, 12, 14, 15],\n",
       "      dtype=int64)"
      ]
     },
     "execution_count": 48,
     "metadata": {},
     "output_type": "execute_result"
    }
   ],
   "source": [
    "df_accs = df_car_ins.loc[:, ['past_accidents', 'outcome']]\n",
    "np.sort(df_accs['past_accidents'].unique())  # [ 0, 1, 2, 3, 4, 5, 6, 7, 8, 9, 10, 11, 12, 14, 15]"
   ]
  },
  {
   "cell_type": "code",
   "execution_count": 49,
   "id": "6ee6d631-6aff-42ad-8260-58345741bd9c",
   "metadata": {},
   "outputs": [
    {
     "name": "stdout",
     "output_type": "stream",
     "text": [
      "Optimization terminated successfully.\n",
      "         Current function value: 0.549220\n",
      "         Iterations 7\n"
     ]
    },
    {
     "data": {
      "image/png": "[encoded data removed]",
      "text/plain": [
       "<Figure size 640x480 with 1 Axes>"
      ]
     },
     "metadata": {},
     "output_type": "display_data"
    }
   ],
   "source": [
    "mdl_accs = logit(\"outcome ~ past_accidents\", data=df_accs).fit()\n",
    "\n",
    "exploratory_data = pd.DataFrame({\"past_accidents\": np.arange(0, 16, 1)})  # \n",
    "prediction_data = exploratory_data.assign(\n",
    "    pred_outcome = mdl_accs.predict(exploratory_data)\n",
    ")\n",
    "\n",
    "prediction_data['pred_outcome'] = (prediction_data['pred_outcome'] > threshold).astype(float)\n",
    "plot_log_reg(\"past_accidents\", \"past_accidents\", \"outcome\", \"pred_outcome\", df_accs, prediction_data)"
   ]
  },
  {
   "cell_type": "markdown",
   "id": "5dabc5d4-10b8-4347-9bb4-2389be208eda",
   "metadata": {},
   "source": [
    "## Best Feature\n",
    "\n",
    "`driving_experience` is the best single feature for predicting claim filing."
   ]
  },
  {
   "cell_type": "code",
   "execution_count": 50,
   "id": "edc7d505-1ea6-4d8b-9a79-2d01d63f66ee",
   "metadata": {},
   "outputs": [
    {
     "name": "stdout",
     "output_type": "stream",
     "text": [
      "         best_feature  best_accuracy\n",
      "0  driving_experience         0.7771\n"
     ]
    }
   ],
   "source": [
    "best_feature_df = pd.DataFrame({\"best_feature\": [\"driving_experience\"], \"best_accuracy\": [accuracy_drex]})\n",
    "print(best_feature_df)"
   ]
  }
 ],
 "metadata": {
  "editor": "DataLab",
  "kernelspec": {
   "display_name": "Python 3 (ipykernel)",
   "language": "python",
   "name": "python3"
  },
  "language_info": {
   "codemirror_mode": {
    "name": "ipython",
    "version": 3
   },
   "file_extension": ".py",
   "mimetype": "text/x-python",
   "name": "python",
   "nbconvert_exporter": "python",
   "pygments_lexer": "ipython3",
   "version": "3.11.6"
  }
 },
 "nbformat": 4,
 "nbformat_minor": 5
}
