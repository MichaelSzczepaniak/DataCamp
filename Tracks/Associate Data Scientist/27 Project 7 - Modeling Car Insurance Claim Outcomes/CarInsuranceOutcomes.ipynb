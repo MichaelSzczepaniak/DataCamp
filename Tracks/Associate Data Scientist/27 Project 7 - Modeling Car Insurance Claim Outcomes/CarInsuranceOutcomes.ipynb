{
 "cells": [
  {
   "attachments": {},
   "cell_type": "markdown",
   "id": "c3f0e974-faf8-458f-bf2a-06a469d0ea5e",
   "metadata": {
    "collapsed": false,
    "jupyter": {
     "outputs_hidden": false,
     "source_hidden": false
    }
   },
   "source": [
    "<center><img src=\"car.jpg\" width=500></center>\n",
    "\n",
    "\n",
    "Insurance companies invest a lot of time and money into optimizing their pricing and accurately estimating the likelihood that customers will make a claim. In many countries it is a legal requirement to have car insurance in order to drive a vehicle on public roads, so the market is very large!\n",
    "\n",
    "(`Source: https://www.accenture.com/_acnmedia/pdf-84/accenture-machine-leaning-insurance.pdf`) \n",
    "\n",
    "**Scenario:**, ***On the Road*** car insurance has requested your services in building a model to predict whether a customer will make a claim on their insurance during the policy period. As they have very little expertise and infrastructure for deploying and monitoring machine learning models, they've asked you to identify the single feature that results in the best performing model, as measured by accuracy, so they can start with a simple model in production.\n",
    "\n",
    "### Objective\n",
    "\n",
    "Identify the single feature of the data that is the best predictor of whether a customer will put in a claim (the \"outcome\" column), excluding the \"id\" column.\n",
    "\n",
    "They have supplied you with their customer data as a csv file called `car_insurance.csv`, along with a table detailing the column names and descriptions below."
   ]
  },
  {
   "cell_type": "markdown",
   "id": "8928ffdf-25d6-4ad9-909f-0dd8d10b9a42",
   "metadata": {},
   "source": [
    "\n",
    "\n",
    "## The dataset\n",
    "\n",
    "| Column | Description |\n",
    "|--------|-------------|\n",
    "| `id` | Unique client identifier |\n",
    "| `age` | Client's age: <br> <ul><li>`0`: 16-25</li><li>`1`: 26-39</li><li>`2`: 40-64</li><li>`3`: 65+</li></ul> |\n",
    "| `gender` | Client's gender: <br> <ul><li>`0`: Female</li><li>`1`: Male</li></ul> |\n",
    "| `driving_experience` | Years the client has been driving: <br> <ul><li>`0`: 0-9</li><li>`1`: 10-19</li><li>`2`: 20-29</li><li>`3`: 30+</li></ul> |\n",
    "| `education` | Client's level of education: <br> <ul><li>`0`: No education</li><li>`1`: High school</li><li>`2`: University</li></ul> |\n",
    "| `income` | Client's income level: <br> <ul><li>`0`: Poverty</li><li>`1`: Working class</li><li>`2`: Middle class</li><li>`3`: Upper class</li></ul> |\n",
    "| `credit_score` | Client's credit score (between zero and one) |\n",
    "| `vehicle_ownership` | Client's vehicle ownership status: <br><ul><li>`0`: Does not own their vehilce (paying off finance)</li><li>`1`: Owns their vehicle</li></ul> |\n",
    "| `vehcile_year` | Year of vehicle registration: <br><ul><li>`0`: Before 2015</li><li>`1`: 2015 or later</li></ul> |\n",
    "| `married` | Client's marital status: <br><ul><li>`0`: Not married</li><li>`1`: Married</li></ul> |\n",
    "| `children` | Client's number of children |\n",
    "| `postal_code` | Client's postal code | \n",
    "| `annual_mileage` | Number of miles driven by the client each year |\n",
    "| `vehicle_type` | Type of car: <br> <ul><li>`0`: Sedan</li><li>`1`: Sports car</li></ul> |\n",
    "| `speeding_violations` | Total number of speeding violations received by the client | \n",
    "| `duis` | Number of times the client has been caught driving under the influence of alcohol |\n",
    "| `past_accidents` | Total number of previous accidents the client has been involved in |\n",
    "| `outcome` | Whether the client made a claim on their car insurance (response variable): <br><ul><li>`0`: No claim</li><li>`1`: Made a claim</li></ul> |"
   ]
  },
  {
   "cell_type": "code",
   "execution_count": 1,
   "id": "5c9e8f6b-1499-4c55-88c2-3ddc9be9c54b",
   "metadata": {
    "executionTime": 11,
    "id": "bA5ajAmk7XH6",
    "lastSuccessfullyExecutedCode": "# Import required modules\nimport pandas as pd\nimport numpy as np\nfrom statsmodels.formula.api import logit"
   },
   "outputs": [],
   "source": [
    "# Import required modules\n",
    "import pandas as pd\n",
    "import numpy as np\n",
    "from statsmodels.formula.api import logit"
   ]
  },
  {
   "cell_type": "code",
   "execution_count": 2,
   "id": "e03c7eeb-538f-4866-a20b-2649a1b348fd",
   "metadata": {},
   "outputs": [
    {
     "name": "stdout",
     "output_type": "stream",
     "text": [
      "<class 'pandas.core.frame.DataFrame'>\n",
      "RangeIndex: 10000 entries, 0 to 9999\n",
      "Data columns (total 18 columns):\n",
      " #   Column               Non-Null Count  Dtype  \n",
      "---  ------               --------------  -----  \n",
      " 0   id                   10000 non-null  int64  \n",
      " 1   age                  10000 non-null  int64  \n",
      " 2   gender               10000 non-null  int64  \n",
      " 3   driving_experience   10000 non-null  object \n",
      " 4   education            10000 non-null  object \n",
      " 5   income               10000 non-null  object \n",
      " 6   credit_score         9018 non-null   float64\n",
      " 7   vehicle_ownership    10000 non-null  float64\n",
      " 8   vehicle_year         10000 non-null  object \n",
      " 9   married              10000 non-null  float64\n",
      " 10  children             10000 non-null  float64\n",
      " 11  postal_code          10000 non-null  int64  \n",
      " 12  annual_mileage       9043 non-null   float64\n",
      " 13  vehicle_type         10000 non-null  object \n",
      " 14  speeding_violations  10000 non-null  int64  \n",
      " 15  duis                 10000 non-null  int64  \n",
      " 16  past_accidents       10000 non-null  int64  \n",
      " 17  outcome              10000 non-null  float64\n",
      "dtypes: float64(6), int64(7), object(5)\n",
      "memory usage: 1.4+ MB\n"
     ]
    }
   ],
   "source": [
    "df_car_ins = pd.read_csv(\"car_insurance.csv\")\n",
    "df_car_ins.info()"
   ]
  },
  {
   "cell_type": "code",
   "execution_count": 3,
   "id": "b79b4fdc-85f7-4d64-b27f-5fae781fb640",
   "metadata": {
    "executionTime": 11,
    "id": "bA5ajAmk7XH6",
    "lastSuccessfullyExecutedCode": "# Import required modules\nimport pandas as pd\nimport numpy as np\nfrom statsmodels.formula.api import logit"
   },
   "outputs": [
    {
     "data": {
      "text/html": [
       "<div>\n",
       "<style scoped>\n",
       "    .dataframe tbody tr th:only-of-type {\n",
       "        vertical-align: middle;\n",
       "    }\n",
       "\n",
       "    .dataframe tbody tr th {\n",
       "        vertical-align: top;\n",
       "    }\n",
       "\n",
       "    .dataframe thead th {\n",
       "        text-align: right;\n",
       "    }\n",
       "</style>\n",
       "<table border=\"1\" class=\"dataframe\">\n",
       "  <thead>\n",
       "    <tr style=\"text-align: right;\">\n",
       "      <th></th>\n",
       "      <th>id</th>\n",
       "      <th>age</th>\n",
       "      <th>gender</th>\n",
       "      <th>driving_experience</th>\n",
       "      <th>education</th>\n",
       "      <th>income</th>\n",
       "      <th>credit_score</th>\n",
       "      <th>vehicle_ownership</th>\n",
       "      <th>vehicle_year</th>\n",
       "      <th>married</th>\n",
       "      <th>children</th>\n",
       "      <th>postal_code</th>\n",
       "      <th>annual_mileage</th>\n",
       "      <th>vehicle_type</th>\n",
       "      <th>speeding_violations</th>\n",
       "      <th>duis</th>\n",
       "      <th>past_accidents</th>\n",
       "      <th>outcome</th>\n",
       "    </tr>\n",
       "  </thead>\n",
       "  <tbody>\n",
       "    <tr>\n",
       "      <th>0</th>\n",
       "      <td>569520</td>\n",
       "      <td>3</td>\n",
       "      <td>0</td>\n",
       "      <td>0-9y</td>\n",
       "      <td>high school</td>\n",
       "      <td>upper class</td>\n",
       "      <td>0.629027</td>\n",
       "      <td>1.0</td>\n",
       "      <td>after 2015</td>\n",
       "      <td>0.0</td>\n",
       "      <td>1.0</td>\n",
       "      <td>10238</td>\n",
       "      <td>12000.0</td>\n",
       "      <td>sedan</td>\n",
       "      <td>0</td>\n",
       "      <td>0</td>\n",
       "      <td>0</td>\n",
       "      <td>0.0</td>\n",
       "    </tr>\n",
       "    <tr>\n",
       "      <th>1</th>\n",
       "      <td>750365</td>\n",
       "      <td>0</td>\n",
       "      <td>1</td>\n",
       "      <td>0-9y</td>\n",
       "      <td>none</td>\n",
       "      <td>poverty</td>\n",
       "      <td>0.357757</td>\n",
       "      <td>0.0</td>\n",
       "      <td>before 2015</td>\n",
       "      <td>0.0</td>\n",
       "      <td>0.0</td>\n",
       "      <td>10238</td>\n",
       "      <td>16000.0</td>\n",
       "      <td>sedan</td>\n",
       "      <td>0</td>\n",
       "      <td>0</td>\n",
       "      <td>0</td>\n",
       "      <td>1.0</td>\n",
       "    </tr>\n",
       "    <tr>\n",
       "      <th>2</th>\n",
       "      <td>199901</td>\n",
       "      <td>0</td>\n",
       "      <td>0</td>\n",
       "      <td>0-9y</td>\n",
       "      <td>high school</td>\n",
       "      <td>working class</td>\n",
       "      <td>0.493146</td>\n",
       "      <td>1.0</td>\n",
       "      <td>before 2015</td>\n",
       "      <td>0.0</td>\n",
       "      <td>0.0</td>\n",
       "      <td>10238</td>\n",
       "      <td>11000.0</td>\n",
       "      <td>sedan</td>\n",
       "      <td>0</td>\n",
       "      <td>0</td>\n",
       "      <td>0</td>\n",
       "      <td>0.0</td>\n",
       "    </tr>\n",
       "    <tr>\n",
       "      <th>3</th>\n",
       "      <td>478866</td>\n",
       "      <td>0</td>\n",
       "      <td>1</td>\n",
       "      <td>0-9y</td>\n",
       "      <td>university</td>\n",
       "      <td>working class</td>\n",
       "      <td>0.206013</td>\n",
       "      <td>1.0</td>\n",
       "      <td>before 2015</td>\n",
       "      <td>0.0</td>\n",
       "      <td>1.0</td>\n",
       "      <td>32765</td>\n",
       "      <td>11000.0</td>\n",
       "      <td>sedan</td>\n",
       "      <td>0</td>\n",
       "      <td>0</td>\n",
       "      <td>0</td>\n",
       "      <td>0.0</td>\n",
       "    </tr>\n",
       "    <tr>\n",
       "      <th>4</th>\n",
       "      <td>731664</td>\n",
       "      <td>1</td>\n",
       "      <td>1</td>\n",
       "      <td>10-19y</td>\n",
       "      <td>none</td>\n",
       "      <td>working class</td>\n",
       "      <td>0.388366</td>\n",
       "      <td>1.0</td>\n",
       "      <td>before 2015</td>\n",
       "      <td>0.0</td>\n",
       "      <td>0.0</td>\n",
       "      <td>32765</td>\n",
       "      <td>12000.0</td>\n",
       "      <td>sedan</td>\n",
       "      <td>2</td>\n",
       "      <td>0</td>\n",
       "      <td>1</td>\n",
       "      <td>1.0</td>\n",
       "    </tr>\n",
       "  </tbody>\n",
       "</table>\n",
       "</div>"
      ],
      "text/plain": [
       "       id  age  gender driving_experience    education         income  \\\n",
       "0  569520    3       0               0-9y  high school    upper class   \n",
       "1  750365    0       1               0-9y         none        poverty   \n",
       "2  199901    0       0               0-9y  high school  working class   \n",
       "3  478866    0       1               0-9y   university  working class   \n",
       "4  731664    1       1             10-19y         none  working class   \n",
       "\n",
       "   credit_score  vehicle_ownership vehicle_year  married  children  \\\n",
       "0      0.629027                1.0   after 2015      0.0       1.0   \n",
       "1      0.357757                0.0  before 2015      0.0       0.0   \n",
       "2      0.493146                1.0  before 2015      0.0       0.0   \n",
       "3      0.206013                1.0  before 2015      0.0       1.0   \n",
       "4      0.388366                1.0  before 2015      0.0       0.0   \n",
       "\n",
       "   postal_code  annual_mileage vehicle_type  speeding_violations  duis  \\\n",
       "0        10238         12000.0        sedan                    0     0   \n",
       "1        10238         16000.0        sedan                    0     0   \n",
       "2        10238         11000.0        sedan                    0     0   \n",
       "3        32765         11000.0        sedan                    0     0   \n",
       "4        32765         12000.0        sedan                    2     0   \n",
       "\n",
       "   past_accidents  outcome  \n",
       "0               0      0.0  \n",
       "1               0      1.0  \n",
       "2               0      0.0  \n",
       "3               0      0.0  \n",
       "4               1      1.0  "
      ]
     },
     "execution_count": 3,
     "metadata": {},
     "output_type": "execute_result"
    }
   ],
   "source": [
    "df_car_ins.head()"
   ]
  },
  {
   "cell_type": "markdown",
   "id": "56386a89-4d83-4777-9e98-4a71229c201a",
   "metadata": {},
   "source": [
    "## `age`\n",
    "\n",
    "Age is encoded as a categorical variable with 4 levels 0-4. These levels are ordinal in that the higher the level, the higher the age range being represented in that bucket. Because of this oridinality, we can treat these as continuous variables for analysis purposes.\n",
    "\n",
    "| Column | Description |\n",
    "|--------|-------------|\n",
    "| `age` | Client's age: <br> <ul><li>`0`: 16-25</li><li>`1`: 26-39</li><li>`2`: 40-64</li><li>`3`: 65+</li></ul> |\n",
    "\n"
   ]
  },
  {
   "cell_type": "code",
   "execution_count": 4,
   "id": "94488413-7836-4694-a757-04dff779df32",
   "metadata": {},
   "outputs": [
    {
     "data": {
      "text/html": [
       "<div>\n",
       "<style scoped>\n",
       "    .dataframe tbody tr th:only-of-type {\n",
       "        vertical-align: middle;\n",
       "    }\n",
       "\n",
       "    .dataframe tbody tr th {\n",
       "        vertical-align: top;\n",
       "    }\n",
       "\n",
       "    .dataframe thead th {\n",
       "        text-align: right;\n",
       "    }\n",
       "</style>\n",
       "<table border=\"1\" class=\"dataframe\">\n",
       "  <thead>\n",
       "    <tr style=\"text-align: right;\">\n",
       "      <th></th>\n",
       "      <th>age</th>\n",
       "      <th>outcome</th>\n",
       "    </tr>\n",
       "  </thead>\n",
       "  <tbody>\n",
       "    <tr>\n",
       "      <th>0</th>\n",
       "      <td>3</td>\n",
       "      <td>0.0</td>\n",
       "    </tr>\n",
       "    <tr>\n",
       "      <th>1</th>\n",
       "      <td>0</td>\n",
       "      <td>1.0</td>\n",
       "    </tr>\n",
       "    <tr>\n",
       "      <th>2</th>\n",
       "      <td>0</td>\n",
       "      <td>0.0</td>\n",
       "    </tr>\n",
       "    <tr>\n",
       "      <th>3</th>\n",
       "      <td>0</td>\n",
       "      <td>0.0</td>\n",
       "    </tr>\n",
       "    <tr>\n",
       "      <th>4</th>\n",
       "      <td>1</td>\n",
       "      <td>1.0</td>\n",
       "    </tr>\n",
       "  </tbody>\n",
       "</table>\n",
       "</div>"
      ],
      "text/plain": [
       "   age  outcome\n",
       "0    3      0.0\n",
       "1    0      1.0\n",
       "2    0      0.0\n",
       "3    0      0.0\n",
       "4    1      1.0"
      ]
     },
     "execution_count": 4,
     "metadata": {},
     "output_type": "execute_result"
    }
   ],
   "source": [
    "# start by getting just the data we need for this predictor\n",
    "df_age = df_car_ins.loc[:, ['age', 'outcome']]\n",
    "df_age.head()"
   ]
  },
  {
   "cell_type": "code",
   "execution_count": 5,
   "id": "f9f94413-5e3a-4ed9-9afe-9becd5d4eb1a",
   "metadata": {},
   "outputs": [
    {
     "data": {
      "text/html": [
       "<div>\n",
       "<style scoped>\n",
       "    .dataframe tbody tr th:only-of-type {\n",
       "        vertical-align: middle;\n",
       "    }\n",
       "\n",
       "    .dataframe tbody tr th {\n",
       "        vertical-align: top;\n",
       "    }\n",
       "\n",
       "    .dataframe thead th {\n",
       "        text-align: right;\n",
       "    }\n",
       "</style>\n",
       "<table border=\"1\" class=\"dataframe\">\n",
       "  <thead>\n",
       "    <tr style=\"text-align: right;\">\n",
       "      <th>outcome</th>\n",
       "      <th>0.0</th>\n",
       "      <th>1.0</th>\n",
       "      <th>All</th>\n",
       "    </tr>\n",
       "    <tr>\n",
       "      <th>age</th>\n",
       "      <th></th>\n",
       "      <th></th>\n",
       "      <th></th>\n",
       "    </tr>\n",
       "  </thead>\n",
       "  <tbody>\n",
       "    <tr>\n",
       "      <th>0</th>\n",
       "      <td>568</td>\n",
       "      <td>1448</td>\n",
       "      <td>2016</td>\n",
       "    </tr>\n",
       "    <tr>\n",
       "      <th>1</th>\n",
       "      <td>2031</td>\n",
       "      <td>1032</td>\n",
       "      <td>3063</td>\n",
       "    </tr>\n",
       "    <tr>\n",
       "      <th>2</th>\n",
       "      <td>2474</td>\n",
       "      <td>457</td>\n",
       "      <td>2931</td>\n",
       "    </tr>\n",
       "    <tr>\n",
       "      <th>3</th>\n",
       "      <td>1794</td>\n",
       "      <td>196</td>\n",
       "      <td>1990</td>\n",
       "    </tr>\n",
       "    <tr>\n",
       "      <th>All</th>\n",
       "      <td>6867</td>\n",
       "      <td>3133</td>\n",
       "      <td>10000</td>\n",
       "    </tr>\n",
       "  </tbody>\n",
       "</table>\n",
       "</div>"
      ],
      "text/plain": [
       "outcome   0.0   1.0    All\n",
       "age                       \n",
       "0         568  1448   2016\n",
       "1        2031  1032   3063\n",
       "2        2474   457   2931\n",
       "3        1794   196   1990\n",
       "All      6867  3133  10000"
      ]
     },
     "execution_count": 5,
     "metadata": {},
     "output_type": "execute_result"
    }
   ],
   "source": [
    "# contingency table\n",
    "pd.crosstab(df_age['age'], df_age['outcome'], margins=True)"
   ]
  },
  {
   "cell_type": "markdown",
   "id": "09ad2a6c-e012-4308-bfa6-23b018bbf1fb",
   "metadata": {},
   "source": [
    "As we'd expect, the older the drive, the less likely they are to file a claim"
   ]
  },
  {
   "cell_type": "code",
   "execution_count": 6,
   "id": "1da025f1-7c81-4b7d-a60c-0182a59f9b6c",
   "metadata": {},
   "outputs": [
    {
     "name": "stdout",
     "output_type": "stream",
     "text": [
      "Optimization terminated successfully.\n",
      "         Current function value: 0.511794\n",
      "         Iterations 6\n"
     ]
    }
   ],
   "source": [
    "threshold = 0.5  # make threshold explicit\n",
    "\n",
    "mdl_age = logit(\"outcome ~ age\", data=df_age).fit()\n",
    "\n",
    "exploratory_data = pd.DataFrame({\"age\": np.arange(0, 5, 1)})\n",
    "prediction_data = exploratory_data.assign(\n",
    "    prob_filed = mdl_age.predict(exploratory_data)\n",
    ")\n",
    "\n",
    "prediction_data['pred_outcome'] = (prediction_data['prob_filed'] > threshold).astype(float)"
   ]
  },
  {
   "cell_type": "code",
   "execution_count": 7,
   "id": "c21e7312-01a6-466e-8c6c-09272d0bd490",
   "metadata": {},
   "outputs": [
    {
     "data": {
      "image/png": "[encoded data removed]",
      "text/plain": [
       "<Figure size 640x480 with 1 Axes>"
      ]
     },
     "metadata": {},
     "output_type": "display_data"
    }
   ],
   "source": [
    "import seaborn as sns\n",
    "import matplotlib.pyplot as plt\n",
    "\n",
    "sns.regplot(x=\"age\", \n",
    "            y=\"outcome\", \n",
    "            data=df_age, \n",
    "            ci=None, \n",
    "            logistic=True)\n",
    "\n",
    "sns.scatterplot(x=\"age\", \n",
    "                y=\"pred_outcome\", \n",
    "                data=prediction_data, \n",
    "                color=\"red\")\n",
    "plt.show() "
   ]
  },
  {
   "cell_type": "markdown",
   "id": "68164ab1-4e84-4883-b919-b8edfcaab60c",
   "metadata": {},
   "source": [
    "This plot looks like what we should expect: *as age increase, probability of making a claim drops*"
   ]
  },
  {
   "cell_type": "code",
   "execution_count": 8,
   "id": "2099ccac-aa9d-4c51-947d-291faca46ac1",
   "metadata": {},
   "outputs": [
    {
     "name": "stdout",
     "output_type": "stream",
     "text": [
      "[[6299.  568.]\n",
      " [1685. 1448.]]\n",
      "\n",
      "Accuracy using age only: 0.7747\n"
     ]
    }
   ],
   "source": [
    "# compute confusion matrix\n",
    "df_age['prob_file'] = mdl_age.predict(df_age['age'])\n",
    "df_age['pred_file'] = (df_age['prob_file'] > threshold).astype(float)\n",
    "conf_matrix = mdl_age.pred_table()\n",
    "print(conf_matrix)\n",
    "# print(type(conf_matrix))\n",
    "\n",
    "# extract TN, TP, FN and FP from confusion matix\n",
    "def get_confusion_cells(conf_matrix):\n",
    "    TN = conf_matrix[0, 0]\n",
    "    TP = conf_matrix[1, 1]\n",
    "    FN = conf_matrix[1, 0]\n",
    "    FP = conf_matrix[0, 1]\n",
    "    return ((TN, TP, FN, FP))\n",
    "\n",
    "def calc_accuracy(TN, TP, FN, FP):\n",
    "    return ((TN + TP) / (TN + TP + FN +FP))\n",
    "\n",
    "conf_cells = get_confusion_cells(conf_matrix)\n",
    "accuracy_age = calc_accuracy(conf_cells[0], conf_cells[1], conf_cells[2], conf_cells[3])\n",
    "print(f\"\\nAccuracy using age only: {accuracy_age}\")"
   ]
  },
  {
   "cell_type": "markdown",
   "id": "3f094926-88a7-46bc-9a08-e9f60590d968",
   "metadata": {},
   "source": [
    "## `gender`\n",
    "\n",
    "Gender is a binary categorical variable.\n",
    "\n",
    "| Column | Description |\n",
    "|--------|-------------|\n",
    "| `gender` | Client's gender: <br> <ul><li>`0`: Female</li><li>`1`: Male</li></ul> |"
   ]
  },
  {
   "cell_type": "code",
   "execution_count": 9,
   "id": "718a7c46-9832-4a67-8196-d0c50d98a026",
   "metadata": {},
   "outputs": [
    {
     "name": "stdout",
     "output_type": "stream",
     "text": [
      "outcome   0.0   1.0    All\n",
      "gender                    \n",
      "0        3689  1321   5010\n",
      "1        3178  1812   4990\n",
      "All      6867  3133  10000\n",
      "outcome   0.0   1.0    All  prob_file\n",
      "gender                               \n",
      "0        3689  1321   5010   0.263673\n",
      "1        3178  1812   4990   0.363126\n",
      "All      6867  3133  10000   0.313300\n"
     ]
    }
   ],
   "source": [
    "# start by getting just the data we need for this predictor\n",
    "df_age = df_car_ins.loc[:, ['gender', 'outcome']]\n",
    "# contingency table\n",
    "contingency_table = pd.crosstab(df_age['gender'], df_age['outcome'], margins=True)\n",
    "print(contingency_table)\n",
    "contingency_table['prob_file'] = contingency_table[1.0] / contingency_table[\"All\"]\n",
    "# print(contingency_table.index)\n",
    "# print(print(contingency_table.columns))\n",
    "print(contingency_table)"
   ]
  },
  {
   "cell_type": "markdown",
   "id": "68580ca7-9171-4734-a67e-d8bba1903612",
   "metadata": {},
   "source": [
    "Data suggest that women will file claims 26.4% of the time. Men will file 36.3% of the time. This is not a big difference, so we shouldn't expect this predictor to do very well."
   ]
  },
  {
   "cell_type": "code",
   "execution_count": 10,
   "id": "9aa86c95-8c6a-4982-9b38-b71e4891b5f6",
   "metadata": {},
   "outputs": [
    {
     "name": "stdout",
     "output_type": "stream",
     "text": [
      "Optimization terminated successfully.\n",
      "         Current function value: 0.615951\n",
      "         Iterations 5\n"
     ]
    }
   ],
   "source": [
    "mdl_gender = logit(\"outcome ~ gender\", data=df_age).fit()\n",
    "\n",
    "exploratory_data = pd.DataFrame({\"gender\": np.array([0, 1])})\n",
    "prediction_data = exploratory_data.assign(\n",
    "    prob_filed = mdl_gender.predict(exploratory_data)\n",
    ")\n",
    "\n",
    "prediction_data['pred_outcome'] = (prediction_data['prob_filed'] > threshold).astype(float)"
   ]
  },
  {
   "cell_type": "code",
   "execution_count": 11,
   "id": "aac93d99-9951-4a38-afbb-51f94352f01d",
   "metadata": {},
   "outputs": [
    {
     "data": {
      "image/png": "[encoded data removed]",
      "text/plain": [
       "<Figure size 640x480 with 1 Axes>"
      ]
     },
     "metadata": {},
     "output_type": "display_data"
    }
   ],
   "source": [
    "sns.regplot(x=\"gender\", \n",
    "            y=\"outcome\", \n",
    "            data=df_age, \n",
    "            ci=None, \n",
    "            logistic=True)\n",
    "\n",
    "sns.scatterplot(x=\"gender\", \n",
    "                y=\"pred_outcome\", \n",
    "                data=prediction_data, \n",
    "                color=\"red\")\n",
    "plt.show() "
   ]
  },
  {
   "cell_type": "markdown",
   "id": "dec392e0-9458-44aa-ace4-c33ae1f0c662",
   "metadata": {},
   "source": [
    "Looks a little funny because we're looking at a binary predictor, but is what we expect: *slightly high probability of filing if you are male*"
   ]
  },
  {
   "cell_type": "code",
   "execution_count": 14,
   "id": "3bd28ce8-e101-4330-a8cb-1bbe77a44a19",
   "metadata": {},
   "outputs": [
    {
     "name": "stdout",
     "output_type": "stream",
     "text": [
      "[[6867.    0.]\n",
      " [3133.    0.]]\n"
     ]
    }
   ],
   "source": [
    "# compute confusion matrix\n",
    "df_age['prob_file'] = mdl_gender.predict(df_age['gender'])\n",
    "df_age['pred_file'] = (df_age['prob_file'] > threshold).astype(float)\n",
    "conf_matrix = mdl_gender.pred_table()\n",
    "print(conf_matrix)  # neither gender shows > 50% probability of filing, so this is not going to be a useful predictor"
   ]
  },
  {
   "cell_type": "markdown",
   "id": "74f855bb-ffa5-4d2d-bd14-90adde21bb93",
   "metadata": {},
   "source": [
    "## `driving_experience`\n",
    "\n",
    "Like `age`, `driving_experience` is encoded as a categorical variable with 4 levels 0-4. These levels are also ordinal in that the higher the level, the more driving exprience being represented in that bucket. Because of this oridinality, we can treat these as continuous variables for analysis purposes.\n",
    "\n",
    "| Column | Description |\n",
    "|--------|-------------|\n",
    "| `driving_experience` | Years the client has been driving: <br> <ul><li>`0`: 0-9</li><li>`1`: 10-19</li><li>`2`: 20-29</li><li>`3`: 30+</li></ul> |"
   ]
  },
  {
   "cell_type": "code",
   "execution_count": null,
   "id": "005c817b-c522-485d-b612-75bbc9a2af2f",
   "metadata": {},
   "outputs": [],
   "source": []
  },
  {
   "cell_type": "code",
   "execution_count": null,
   "id": "0fbf2e24-08c4-4eae-a2d8-6a9a09edcb66",
   "metadata": {},
   "outputs": [],
   "source": []
  },
  {
   "cell_type": "code",
   "execution_count": null,
   "id": "6ee6d631-6aff-42ad-8260-58345741bd9c",
   "metadata": {},
   "outputs": [],
   "source": []
  },
  {
   "cell_type": "code",
   "execution_count": null,
   "id": "60d1c743-468e-4d1c-b15f-33292d25e2c0",
   "metadata": {},
   "outputs": [],
   "source": []
  },
  {
   "cell_type": "code",
   "execution_count": null,
   "id": "edc7d505-1ea6-4d8b-9a79-2d01d63f66ee",
   "metadata": {},
   "outputs": [],
   "source": []
  }
 ],
 "metadata": {
  "editor": "DataLab",
  "kernelspec": {
   "display_name": "Python 3 (ipykernel)",
   "language": "python",
   "name": "python3"
  },
  "language_info": {
   "codemirror_mode": {
    "name": "ipython",
    "version": 3
   },
   "file_extension": ".py",
   "mimetype": "text/x-python",
   "name": "python",
   "nbconvert_exporter": "python",
   "pygments_lexer": "ipython3",
   "version": "3.11.6"
  }
 },
 "nbformat": 4,
 "nbformat_minor": 5
}
