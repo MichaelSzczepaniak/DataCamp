{
 "cells": [
  {
   "cell_type": "markdown",
   "id": "9cd16878-7907-49f9-8b3f-649632e6b7a1",
   "metadata": {},
   "source": [
    "## Datetime objects"
   ]
  },
  {
   "cell_type": "code",
   "execution_count": 1,
   "id": "87a520a5-d7a6-46f9-b526-92d75fb54e08",
   "metadata": {},
   "outputs": [
    {
     "name": "stdout",
     "output_type": "stream",
     "text": [
      "0\n"
     ]
    }
   ],
   "source": [
    "# Import date from datetime\n",
    "from datetime import date\n",
    "\n",
    "# Create a date object\n",
    "hurricane_andrew = date(1992, 8, 24)\n",
    "# Which day of the week is the date?\n",
    "print(hurricane_andrew.weekday())  #  0 = Monday, 1 = Tuesday, ..."
   ]
  },
  {
   "cell_type": "code",
   "execution_count": 2,
   "id": "1cb6988b-b676-4b9c-b7e0-a01a5c8f22f4",
   "metadata": {},
   "outputs": [
    {
     "data": {
      "text/html": [
       "<div>\n",
       "<style scoped>\n",
       "    .dataframe tbody tr th:only-of-type {\n",
       "        vertical-align: middle;\n",
       "    }\n",
       "\n",
       "    .dataframe tbody tr th {\n",
       "        vertical-align: top;\n",
       "    }\n",
       "\n",
       "    .dataframe thead th {\n",
       "        text-align: right;\n",
       "    }\n",
       "</style>\n",
       "<table border=\"1\" class=\"dataframe\">\n",
       "  <thead>\n",
       "    <tr style=\"text-align: right;\">\n",
       "      <th></th>\n",
       "      <th>year</th>\n",
       "      <th>month</th>\n",
       "      <th>day</th>\n",
       "    </tr>\n",
       "  </thead>\n",
       "  <tbody>\n",
       "    <tr>\n",
       "      <th>0</th>\n",
       "      <td>1950</td>\n",
       "      <td>8</td>\n",
       "      <td>31</td>\n",
       "    </tr>\n",
       "    <tr>\n",
       "      <th>1</th>\n",
       "      <td>1950</td>\n",
       "      <td>9</td>\n",
       "      <td>5</td>\n",
       "    </tr>\n",
       "    <tr>\n",
       "      <th>2</th>\n",
       "      <td>1950</td>\n",
       "      <td>10</td>\n",
       "      <td>18</td>\n",
       "    </tr>\n",
       "    <tr>\n",
       "      <th>3</th>\n",
       "      <td>1950</td>\n",
       "      <td>10</td>\n",
       "      <td>21</td>\n",
       "    </tr>\n",
       "    <tr>\n",
       "      <th>4</th>\n",
       "      <td>1951</td>\n",
       "      <td>5</td>\n",
       "      <td>18</td>\n",
       "    </tr>\n",
       "  </tbody>\n",
       "</table>\n",
       "</div>"
      ],
      "text/plain": [
       "   year  month  day\n",
       "0  1950      8   31\n",
       "1  1950      9    5\n",
       "2  1950     10   18\n",
       "3  1950     10   21\n",
       "4  1951      5   18"
      ]
     },
     "execution_count": 2,
     "metadata": {},
     "output_type": "execute_result"
    }
   ],
   "source": [
    "import pandas as pd\n",
    "df_ex1_dates = pd.read_csv(\"./data/exercise_dates.csv\")\n",
    "df_ex1_dates.head()"
   ]
  },
  {
   "cell_type": "code",
   "execution_count": 3,
   "id": "f6b76491-e087-449e-9aba-6128f0114e98",
   "metadata": {},
   "outputs": [],
   "source": [
    "\"\"\"\n",
    "Creates a list of datetime objects from a dateframe with year, month and day columns\n",
    "\"\"\"\n",
    "def get_date_list(df):\n",
    "    # create list of datetime objects\n",
    "    df[\"str_dates\"] = df[\"year\"].astype('string') + \"-\" +\\\n",
    "                                df[\"month\"].astype('string') + \"-\" +\\\n",
    "                                df[\"day\"].astype('string')\n",
    "    df[\"dt_dates\"] = pd.to_datetime(df[\"str_dates\"])  # creates Timestamp objects\n",
    "    df[\"dt_dates\"] = df[\"dt_dates\"].apply(lambda x: x.date())\n",
    "    \n",
    "    return(df[\"dt_dates\"].to_list())\n",
    "\n",
    "# test, expects: length of list: 235, first_item: 1950-08-31, last item: 2017-10-29\n",
    "florida_hurricane_dates = get_date_list(df_ex1_dates)\n",
    "# print(f\"length of list: {len(florida_hurricane_dates)}, first_item: {florida_hurricane_dates[0]}, last item: {florida_hurricane_dates[-1]}\")"
   ]
  },
  {
   "cell_type": "code",
   "execution_count": 4,
   "id": "cf6bee6a-3ef3-4f6f-93ec-4e603eb329a4",
   "metadata": {},
   "outputs": [
    {
     "name": "stdout",
     "output_type": "stream",
     "text": [
      "10\n"
     ]
    }
   ],
   "source": [
    "# Counter for how many before June 1\n",
    "early_hurricanes = 0\n",
    "\n",
    "# iterate over the dates\n",
    "for hurricane in florida_hurricane_dates:\n",
    "  # Check if the month is before June (month number 6)\n",
    "  if hurricane.month < 6:\n",
    "    early_hurricanes = early_hurricanes + 1\n",
    "    \n",
    "print(early_hurricanes)"
   ]
  },
  {
   "cell_type": "markdown",
   "id": "8e7b4fb8-ec9c-41ce-a936-2900b43401e9",
   "metadata": {},
   "source": [
    "## Date math"
   ]
  },
  {
   "cell_type": "code",
   "execution_count": 5,
   "id": "dc42b2ec-8dc4-4820-a7a2-52f322e9e4f0",
   "metadata": {},
   "outputs": [
    {
     "name": "stdout",
     "output_type": "stream",
     "text": [
      "218\n"
     ]
    }
   ],
   "source": [
    "# Import date\n",
    "from datetime import date\n",
    "\n",
    "# Create a date object for May 9th, 2007\n",
    "start = date(2007, 5, 9)\n",
    "\n",
    "# Create a date object for December 13th, 2007\n",
    "end = date(2007, 12, 13)\n",
    "\n",
    "# Subtract the two dates and print the number of days\n",
    "print((end - start).days)"
   ]
  },
  {
   "cell_type": "code",
   "execution_count": 6,
   "id": "13b2605a-eb63-40ec-b584-bbcac65eca90",
   "metadata": {},
   "outputs": [
    {
     "name": "stdout",
     "output_type": "stream",
     "text": [
      "{1: 0, 2: 1, 3: 0, 4: 1, 5: 8, 6: 32, 7: 21, 8: 49, 9: 70, 10: 43, 11: 9, 12: 1}\n"
     ]
    }
   ],
   "source": [
    "# A dictionary to count hurricanes per calendar month\n",
    "hurricanes_each_month = {1: 0, 2: 0, 3: 0, 4: 0, 5: 0, 6:0,\n",
    "\t\t  \t\t\t\t 7: 0, 8:0, 9:0, 10:0, 11:0, 12:0}\n",
    "\n",
    "# iterate over all hurricanes\n",
    "for hurricane in florida_hurricane_dates:\n",
    "  # extract the month\n",
    "  month = hurricane.month\n",
    "  # update the count in dict\n",
    "  hurricanes_each_month[month] += 1\n",
    "  \n",
    "print(hurricanes_each_month)"
   ]
  },
  {
   "cell_type": "code",
   "execution_count": 7,
   "id": "6aafba9d-6107-431b-aca7-2e69767a5d8e",
   "metadata": {},
   "outputs": [
    {
     "name": "stdout",
     "output_type": "stream",
     "text": [
      "1988-08-04\n",
      "2011-07-18 \n",
      "\n",
      "1950-08-31\n",
      "2017-10-29\n"
     ]
    }
   ],
   "source": [
    "df_dates_scrambled = pd.read_csv('./data/scrambled_dates.csv')\n",
    "dates_scrambled = get_date_list(df_dates_scrambled)\n",
    "\n",
    "# print first and last scrambled dates\n",
    "print(dates_scrambled[0])\n",
    "print(dates_scrambled[-1], \"\\n\")\n",
    "\n",
    "# sort the list of dates\n",
    "dates_ordered = sorted(dates_scrambled)\n",
    "\n",
    "# print first and last ordered dates\n",
    "print(dates_ordered[0])\n",
    "print(dates_ordered[-1])"
   ]
  },
  {
   "cell_type": "markdown",
   "id": "b76b127f-953e-413d-bb67-b84acc4cdd3e",
   "metadata": {},
   "source": [
    "## Turning dates into strings"
   ]
  },
  {
   "cell_type": "code",
   "execution_count": 8,
   "id": "78fc50b3-d492-4e9e-9cf4-3a7598f98925",
   "metadata": {},
   "outputs": [
    {
     "name": "stdout",
     "output_type": "stream",
     "text": [
      "2017-11-05 \n",
      "\n",
      "['2017-11-05']\n"
     ]
    }
   ],
   "source": [
    "from datetime import date \n",
    "# Example date \n",
    "d = date(2017, 11, 5)  \n",
    "# ISO 8601 format by default: YYYY-MM-DD \n",
    "print(d, \"\\n\")\n",
    "\n",
    "# Express the date in ISO 8601 format explicitly and put it in a list \n",
    "print([d.isoformat()]) "
   ]
  },
  {
   "cell_type": "code",
   "execution_count": 9,
   "id": "fa78a9b1-95c8-43ef-a669-fdda0cbcf5c3",
   "metadata": {},
   "outputs": [
    {
     "name": "stdout",
     "output_type": "stream",
     "text": [
      "['1999-12-31', '2000-01-01']\n"
     ]
    }
   ],
   "source": [
    " # A few dates that computers once had trouble with \n",
    "some_dates = ['2000-01-01', '1999-12-31']  \n",
    "# Print them in order - sorted function sorts ISO 8601 formatted dates correctly if they are expressed as strings\n",
    "print(sorted(some_dates)) "
   ]
  },
  {
   "cell_type": "code",
   "execution_count": 10,
   "id": "85c76555-4239-4b72-812b-af870aa658f3",
   "metadata": {},
   "outputs": [
    {
     "name": "stdout",
     "output_type": "stream",
     "text": [
      "ISO: Our earliest hurricane date: 1950-08-31\n",
      "US: Our earliest hurricane date: 08/31/1950\n"
     ]
    }
   ],
   "source": [
    "# Assign the earliest date to first_date\n",
    "first_date = sorted(florida_hurricane_dates)[0]\n",
    "\n",
    "# Convert to ISO and US formats\n",
    "iso = \"Our earliest hurricane date: \" + first_date.isoformat()\n",
    "us = \"Our earliest hurricane date: \" + first_date.strftime(\"%m/%d/%Y\")\n",
    "\n",
    "print(\"ISO: \" + iso)\n",
    "print(\"US: \" + us)"
   ]
  },
  {
   "cell_type": "code",
   "execution_count": 11,
   "id": "047804fe-3d00-45ae-a570-b7478b048e05",
   "metadata": {},
   "outputs": [
    {
     "name": "stdout",
     "output_type": "stream",
     "text": [
      "1992-08\n"
     ]
    }
   ],
   "source": [
    "# Create a date object\n",
    "andrew = date(1992, 8, 26)\n",
    "\n",
    "# Print the date in the format 'YYYY-MM'\n",
    "print(andrew.strftime(\"%Y-%m\"))"
   ]
  },
  {
   "cell_type": "code",
   "execution_count": 12,
   "id": "7a574ccd-9667-409a-bfe7-868ddc70916b",
   "metadata": {},
   "outputs": [
    {
     "name": "stdout",
     "output_type": "stream",
     "text": [
      "August (1992)\n"
     ]
    }
   ],
   "source": [
    "# Create a date object\n",
    "andrew = date(1992, 8, 26)\n",
    "\n",
    "# Print the date in the format 'MONTH (YYYY)'\n",
    "print(andrew.strftime(\"%B (%Y)\"))"
   ]
  },
  {
   "cell_type": "code",
   "execution_count": 13,
   "id": "e78776e3-0a39-4fc4-b396-6934b1a3ef4e",
   "metadata": {},
   "outputs": [
    {
     "name": "stdout",
     "output_type": "stream",
     "text": [
      "1992-239\n"
     ]
    }
   ],
   "source": [
    "# Create a date object\n",
    "andrew = date(1992, 8, 26)\n",
    "\n",
    "# Print the date in the format 'YYYY-DDD'\n",
    "print(andrew.strftime(\"%Y-%j\"))"
   ]
  },
  {
   "cell_type": "markdown",
   "id": "240d86a2-7d8e-48d3-b285-88bc4abbba1c",
   "metadata": {},
   "source": [
    "## Analyzing Bike Sharing Data"
   ]
  },
  {
   "cell_type": "code",
   "execution_count": 14,
   "id": "bd58f34b-d252-4ae0-adc1-108260e2f090",
   "metadata": {},
   "outputs": [
    {
     "name": "stdout",
     "output_type": "stream",
     "text": [
      "Index(['Start date', 'End date'], dtype='object')\n",
      "dtype of Start date column: datetime64[ns], dtype of End date column: datetime64[ns]\n"
     ]
    },
    {
     "data": {
      "text/html": [
       "<div>\n",
       "<style scoped>\n",
       "    .dataframe tbody tr th:only-of-type {\n",
       "        vertical-align: middle;\n",
       "    }\n",
       "\n",
       "    .dataframe tbody tr th {\n",
       "        vertical-align: top;\n",
       "    }\n",
       "\n",
       "    .dataframe thead th {\n",
       "        text-align: right;\n",
       "    }\n",
       "</style>\n",
       "<table border=\"1\" class=\"dataframe\">\n",
       "  <thead>\n",
       "    <tr style=\"text-align: right;\">\n",
       "      <th></th>\n",
       "      <th>Start date</th>\n",
       "      <th>End date</th>\n",
       "    </tr>\n",
       "  </thead>\n",
       "  <tbody>\n",
       "    <tr>\n",
       "      <th>0</th>\n",
       "      <td>2017-10-01 15:23:25</td>\n",
       "      <td>2017-10-01 15:26:26</td>\n",
       "    </tr>\n",
       "    <tr>\n",
       "      <th>1</th>\n",
       "      <td>2017-10-01 15:42:57</td>\n",
       "      <td>2017-10-01 17:49:59</td>\n",
       "    </tr>\n",
       "    <tr>\n",
       "      <th>2</th>\n",
       "      <td>2017-10-02 06:37:10</td>\n",
       "      <td>2017-10-02 06:42:53</td>\n",
       "    </tr>\n",
       "    <tr>\n",
       "      <th>3</th>\n",
       "      <td>2017-10-02 08:56:45</td>\n",
       "      <td>2017-10-02 09:18:03</td>\n",
       "    </tr>\n",
       "    <tr>\n",
       "      <th>4</th>\n",
       "      <td>2017-10-02 18:23:48</td>\n",
       "      <td>2017-10-02 18:45:05</td>\n",
       "    </tr>\n",
       "  </tbody>\n",
       "</table>\n",
       "</div>"
      ],
      "text/plain": [
       "           Start date            End date\n",
       "0 2017-10-01 15:23:25 2017-10-01 15:26:26\n",
       "1 2017-10-01 15:42:57 2017-10-01 17:49:59\n",
       "2 2017-10-02 06:37:10 2017-10-02 06:42:53\n",
       "3 2017-10-02 08:56:45 2017-10-02 09:18:03\n",
       "4 2017-10-02 18:23:48 2017-10-02 18:45:05"
      ]
     },
     "execution_count": 14,
     "metadata": {},
     "output_type": "execute_result"
    }
   ],
   "source": [
    "# read just the start and end date columns of capital bike csv data\n",
    "df_bike = pd.read_csv('./data/capital-onebike.csv', usecols=[0, 1], parse_dates=[0, 1])\n",
    "print(df_bike.columns)\n",
    "print(f\"dtype of Start date column: {df_bike['Start date'].dtype}, dtype of End date column: {df_bike['End date'].dtype}\")\n",
    "df_bike.head()"
   ]
  },
  {
   "cell_type": "code",
   "execution_count": 15,
   "id": "a089f07f-2c87-42fb-b259-fb43d2a78150",
   "metadata": {},
   "outputs": [
    {
     "data": {
      "text/plain": [
       "[{'start': Timestamp('2017-10-01 15:23:25'),\n",
       "  'end': Timestamp('2017-10-01 15:23:25')},\n",
       " {'start': Timestamp('2017-10-01 15:42:57'),\n",
       "  'end': Timestamp('2017-10-01 15:42:57')},\n",
       " {'start': Timestamp('2017-10-02 06:37:10'),\n",
       "  'end': Timestamp('2017-10-02 06:37:10')},\n",
       " {'start': Timestamp('2017-10-02 08:56:45'),\n",
       "  'end': Timestamp('2017-10-02 08:56:45')}]"
      ]
     },
     "execution_count": 15,
     "metadata": {},
     "output_type": "execute_result"
    }
   ],
   "source": [
    "from datetime import datetime\n",
    "\n",
    "# convert to datetime63[s], see third example here:\n",
    "# https://numpy.org/doc/stable/reference/arrays.datetime.html#datetime-and-timedelta-arithmetic\n",
    "df_bike[\"Start date\"] = df_bike[\"Start date\"].astype('datetime64[s]')\n",
    "df_bike[\"End date\"] = df_bike[\"Start date\"].astype('datetime64[s]')\n",
    "# df_bike.head()\n",
    "onebike_datetimes = []\n",
    "\n",
    "# iterate through the rows\n",
    "for row in df_bike.itertuples(index=False, name=None):\n",
    "    item = {\"start\": row[0], \"end\": row[1]}\n",
    "    onebike_datetimes.append(item)\n",
    "\n",
    "onebike_datetimes[0:4]"
   ]
  },
  {
   "cell_type": "markdown",
   "id": "3653792d-7317-48c2-ad20-3cdc75ac7ac7",
   "metadata": {},
   "source": [
    "### How many trips before and after noon?"
   ]
  },
  {
   "cell_type": "code",
   "execution_count": 16,
   "id": "71450e8d-f711-466c-ab9b-5f3a7f9ed3aa",
   "metadata": {},
   "outputs": [
    {
     "name": "stdout",
     "output_type": "stream",
     "text": [
      "{'AM': 94, 'PM': 196}\n"
     ]
    }
   ],
   "source": [
    "# Create dictionary to hold results\n",
    "trip_counts = {'AM': 0, 'PM': 0}\n",
    "  \n",
    "# Loop over all trips\n",
    "for trip in onebike_datetimes:\n",
    "  # Check to see if the trip starts before noon\n",
    "  if trip['start'].hour < 12:\n",
    "    # Increment the counter for before noon\n",
    "    trip_counts['AM'] += 1\n",
    "  else:\n",
    "    # Increment the counter for after noon\n",
    "    trip_counts['PM'] += 1\n",
    "  \n",
    "print(trip_counts)"
   ]
  },
  {
   "cell_type": "markdown",
   "id": "45a3811e-7092-4bad-84b9-a835936cb286",
   "metadata": {},
   "source": [
    "## Printing and parsing datetimes\n",
    "\n",
    "`strftime` codes can be found here:\n",
    "+ https://docs.python.org/3/library/datetime.html#strftime-and-strptime-format-codes  or\n",
    "+ https://strftime.org/"
   ]
  },
  {
   "cell_type": "code",
   "execution_count": 17,
   "id": "ec62a71d-0696-42c2-819d-f3b6b036b699",
   "metadata": {},
   "outputs": [
    {
     "name": "stdout",
     "output_type": "stream",
     "text": [
      "2017-12-30 15:19:13\n",
      "<class 'datetime.datetime'>\n"
     ]
    }
   ],
   "source": [
    "dt = datetime.strptime(\"12/30/2017 15:19:13\",  \n",
    "                       \"%m/%d/%Y %H:%M:%S\")\n",
    "print(dt)\n",
    "print(type(dt))"
   ]
  },
  {
   "cell_type": "code",
   "execution_count": 18,
   "id": "622c5e8e-fedc-4bb6-b989-0645ff015e6a",
   "metadata": {},
   "outputs": [
    {
     "name": "stdout",
     "output_type": "stream",
     "text": [
      "2017-02-03 00:00:01\n"
     ]
    }
   ],
   "source": [
    "# Starting string, in YYYY-MM-DD HH:MM:SS format\n",
    "s = '2017-02-03 00:00:01'\n",
    "\n",
    "# Write a format string to parse s\n",
    "fmt = '%Y-%m-%d %H:%M:%S'\n",
    "\n",
    "# Create a datetime object d\n",
    "d = datetime.strptime(s, fmt)\n",
    "\n",
    "# Print d\n",
    "print(d)"
   ]
  },
  {
   "cell_type": "code",
   "execution_count": 19,
   "id": "e85935ce-643f-45ce-a7db-fe73309e738a",
   "metadata": {},
   "outputs": [
    {
     "name": "stdout",
     "output_type": "stream",
     "text": [
      "2030-10-15 00:00:00\n"
     ]
    }
   ],
   "source": [
    "# Starting string, in YYYY-MM-DD format\n",
    "s = '2030-10-15'\n",
    "\n",
    "# Write a format string to parse s\n",
    "fmt = '%Y-%m-%d'\n",
    "\n",
    "# Create a datetime object d\n",
    "d = datetime.strptime(s, fmt)\n",
    "\n",
    "# Print d\n",
    "print(d)"
   ]
  },
  {
   "cell_type": "code",
   "execution_count": 20,
   "id": "9ea2d009-2393-4178-9416-fb899e68919c",
   "metadata": {},
   "outputs": [
    {
     "name": "stdout",
     "output_type": "stream",
     "text": [
      "1986-12-15 08:00:00\n"
     ]
    }
   ],
   "source": [
    "# Starting string, in MM/DD/YYYY HH:MM:SS format\n",
    "s = '12/15/1986 08:00:00'\n",
    "\n",
    "# Write a format string to parse s\n",
    "fmt = '%m/%d/%Y %H:%M:%S'\n",
    "\n",
    "# Create a datetime object d\n",
    "d = datetime.strptime(s, fmt)\n",
    "\n",
    "# Print d\n",
    "print(d)"
   ]
  },
  {
   "cell_type": "code",
   "execution_count": 27,
   "id": "b1e0e8be-e6aa-4b9d-8713-e63b927bc5e0",
   "metadata": {},
   "outputs": [
    {
     "data": {
      "text/plain": [
       "[('2017-10-01 15:23:25', '2017-10-01 15:26:26'),\n",
       " ('2017-10-01 15:42:57', '2017-10-01 17:49:59'),\n",
       " ('2017-10-02 06:37:10', '2017-10-02 06:42:53')]"
      ]
     },
     "execution_count": 27,
     "metadata": {},
     "output_type": "execute_result"
    }
   ],
   "source": [
    "# read in the exercise date string\n",
    "df_datetime_strings = pd.read_csv('./data/onebike_datetime_strings.csv', usecols=[0, 1], dtype={\"start\": str, \"end\": str})\n",
    "onebike_datetime_strings = []\n",
    "for row in df_datetime_strings.itertuples(index=False, name=None):\n",
    "    onebike_datetime_strings.append((row[0], row[1]))\n",
    "\n",
    "onebike_datetime_strings[:3]"
   ]
  },
  {
   "cell_type": "code",
   "execution_count": 28,
   "id": "7b959ba8-a1cd-4d0c-927a-da1bb6ffe569",
   "metadata": {},
   "outputs": [],
   "source": [
    "# write out the format string\n",
    "fmt = \"%Y-%m-%d %H:%M:%S\"\n",
    "\n",
    "# Initialize a list for holding the pairs of datetime objects\n",
    "onebike_datetimes = []\n",
    "\n",
    "# Loop over all trips\n",
    "for (start, end) in onebike_datetime_strings:\n",
    "  trip = {'start': datetime.strptime(start, fmt),\n",
    "          'end': datetime.strptime(end, fmt)}\n",
    "  \n",
    "  # Append the trip\n",
    "  onebike_datetimes.append(trip)"
   ]
  },
  {
   "cell_type": "code",
   "execution_count": 29,
   "id": "474bef74-6eb3-4c68-b596-2be05f71877f",
   "metadata": {},
   "outputs": [
    {
     "name": "stdout",
     "output_type": "stream",
     "text": [
      "2017-10-01T15:23:25\n",
      "2017-10-01T15:23:25\n"
     ]
    }
   ],
   "source": [
    "# Pull out the start of the first trip\n",
    "first_start = onebike_datetimes[0]['start']\n",
    "\n",
    "# Format to feed to strftime()\n",
    "fmt = \"%Y-%m-%dT%H:%M:%S\"\n",
    "\n",
    "# Print out date with .isoformat(), then with .strftime() to compare\n",
    "print(first_start.isoformat())\n",
    "print(first_start.strftime(fmt))"
   ]
  },
  {
   "cell_type": "code",
   "execution_count": 30,
   "id": "ec75f7c5-58d9-461b-97e6-e1af0d0b5d6c",
   "metadata": {},
   "outputs": [
    {
     "name": "stdout",
     "output_type": "stream",
     "text": [
      "[datetime.datetime(2017, 12, 30, 13, 19, 13), datetime.datetime(2017, 12, 30, 13, 9, 3)]\n"
     ]
    }
   ],
   "source": [
    "# Starting timestamps\n",
    "timestamps = [1514665153, 1514664543]\n",
    "\n",
    "# Datetime objects\n",
    "dts = []\n",
    "\n",
    "# Loop\n",
    "for ts in timestamps:\n",
    "  dts.append(datetime.fromtimestamp(ts))\n",
    "  \n",
    "# Print results\n",
    "print(dts)"
   ]
  },
  {
   "cell_type": "markdown",
   "id": "0b221bc4-d923-4509-9210-e7b91dda403e",
   "metadata": {},
   "source": [
    "## Working with durations"
   ]
  },
  {
   "cell_type": "code",
   "execution_count": null,
   "id": "ee9885fd-f94c-4019-84d5-10e9b2c7888b",
   "metadata": {},
   "outputs": [],
   "source": []
  },
  {
   "cell_type": "code",
   "execution_count": null,
   "id": "227fc928-33cc-4876-b9c3-ccf23af36178",
   "metadata": {},
   "outputs": [],
   "source": []
  },
  {
   "cell_type": "code",
   "execution_count": null,
   "id": "bed7d5ab-5a18-4746-b035-81d8336bc808",
   "metadata": {},
   "outputs": [],
   "source": []
  },
  {
   "cell_type": "code",
   "execution_count": null,
   "id": "d0b54e31-4f03-40bd-93a0-ed7918d7484b",
   "metadata": {},
   "outputs": [],
   "source": []
  },
  {
   "cell_type": "code",
   "execution_count": null,
   "id": "2c38c436-ce5b-4fc0-ae2e-0c623a853cbf",
   "metadata": {},
   "outputs": [],
   "source": []
  },
  {
   "cell_type": "code",
   "execution_count": null,
   "id": "0eed31d2-a59f-4ca9-b2fb-37d5275c7df9",
   "metadata": {},
   "outputs": [],
   "source": []
  },
  {
   "cell_type": "code",
   "execution_count": null,
   "id": "6149300c-5a90-4c82-b61f-5f7f70ba794c",
   "metadata": {},
   "outputs": [],
   "source": []
  },
  {
   "cell_type": "code",
   "execution_count": null,
   "id": "d902c424-7326-4cbe-ae9b-efde9b7d8a49",
   "metadata": {},
   "outputs": [],
   "source": []
  }
 ],
 "metadata": {
  "kernelspec": {
   "display_name": "Python 3 (ipykernel)",
   "language": "python",
   "name": "python3"
  },
  "language_info": {
   "codemirror_mode": {
    "name": "ipython",
    "version": 3
   },
   "file_extension": ".py",
   "mimetype": "text/x-python",
   "name": "python",
   "nbconvert_exporter": "python",
   "pygments_lexer": "ipython3",
   "version": "3.11.6"
  }
 },
 "nbformat": 4,
 "nbformat_minor": 5
}
