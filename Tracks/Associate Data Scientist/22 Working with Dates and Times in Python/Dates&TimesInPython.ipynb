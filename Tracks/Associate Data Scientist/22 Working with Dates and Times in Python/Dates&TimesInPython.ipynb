{
 "cells": [
  {
   "cell_type": "code",
   "execution_count": null,
   "id": "54bc2716-71d7-4723-a103-92e7b8d67284",
   "metadata": {},
   "outputs": [],
   "source": []
  },
  {
   "cell_type": "code",
   "execution_count": 3,
   "id": "87a520a5-d7a6-46f9-b526-92d75fb54e08",
   "metadata": {},
   "outputs": [
    {
     "name": "stdout",
     "output_type": "stream",
     "text": [
      "0\n"
     ]
    }
   ],
   "source": [
    "# Import date from datetime\n",
    "from datetime import date\n",
    "\n",
    "# Create a date object\n",
    "hurricane_andrew = date(1992, 8, 24)\n",
    "# Which day of the week is the date?\n",
    "print(hurricane_andrew.weekday())  #  0 = Monday, 1 = Tuesday, ..."
   ]
  },
  {
   "cell_type": "code",
   "execution_count": 5,
   "id": "1cb6988b-b676-4b9c-b7e0-a01a5c8f22f4",
   "metadata": {},
   "outputs": [
    {
     "data": {
      "text/html": [
       "<div>\n",
       "<style scoped>\n",
       "    .dataframe tbody tr th:only-of-type {\n",
       "        vertical-align: middle;\n",
       "    }\n",
       "\n",
       "    .dataframe tbody tr th {\n",
       "        vertical-align: top;\n",
       "    }\n",
       "\n",
       "    .dataframe thead th {\n",
       "        text-align: right;\n",
       "    }\n",
       "</style>\n",
       "<table border=\"1\" class=\"dataframe\">\n",
       "  <thead>\n",
       "    <tr style=\"text-align: right;\">\n",
       "      <th></th>\n",
       "      <th>year</th>\n",
       "      <th>month</th>\n",
       "      <th>day</th>\n",
       "    </tr>\n",
       "  </thead>\n",
       "  <tbody>\n",
       "    <tr>\n",
       "      <th>0</th>\n",
       "      <td>1950</td>\n",
       "      <td>8</td>\n",
       "      <td>31</td>\n",
       "    </tr>\n",
       "    <tr>\n",
       "      <th>1</th>\n",
       "      <td>1950</td>\n",
       "      <td>9</td>\n",
       "      <td>5</td>\n",
       "    </tr>\n",
       "    <tr>\n",
       "      <th>2</th>\n",
       "      <td>1950</td>\n",
       "      <td>10</td>\n",
       "      <td>18</td>\n",
       "    </tr>\n",
       "    <tr>\n",
       "      <th>3</th>\n",
       "      <td>1950</td>\n",
       "      <td>10</td>\n",
       "      <td>21</td>\n",
       "    </tr>\n",
       "    <tr>\n",
       "      <th>4</th>\n",
       "      <td>1951</td>\n",
       "      <td>5</td>\n",
       "      <td>18</td>\n",
       "    </tr>\n",
       "  </tbody>\n",
       "</table>\n",
       "</div>"
      ],
      "text/plain": [
       "   year  month  day\n",
       "0  1950      8   31\n",
       "1  1950      9    5\n",
       "2  1950     10   18\n",
       "3  1950     10   21\n",
       "4  1951      5   18"
      ]
     },
     "execution_count": 5,
     "metadata": {},
     "output_type": "execute_result"
    }
   ],
   "source": [
    "import pandas as pd\n",
    "df_ex1_dates = pd.read_csv(\"./data/ex01_dates.csv\")\n",
    "df_ex1_dates.head()"
   ]
  },
  {
   "cell_type": "code",
   "execution_count": 19,
   "id": "f6b76491-e087-449e-9aba-6128f0114e98",
   "metadata": {},
   "outputs": [],
   "source": [
    "# create list of datetime objects\n",
    "df_ex1_dates[\"str_dates\"] = df_ex1_dates[\"year\"].astype('string') + \"-\" +\\\n",
    "                            df_ex1_dates[\"month\"].astype('string') + \"-\" +\\\n",
    "                            df_ex1_dates[\"day\"].astype('string')\n",
    "df_ex1_dates[\"dt_dates\"] = pd.to_datetime(df_ex1_dates[\"str_dates\"])  # creates Timestamp objects\n",
    "df_ex1_dates[\"dt_dates\"] = df_ex1_dates[\"dt_dates\"].apply(lambda x: x.date())\n",
    "florida_hurricane_dates = df_ex1_dates[\"dt_dates\"].to_list()"
   ]
  },
  {
   "cell_type": "code",
   "execution_count": 20,
   "id": "cf6bee6a-3ef3-4f6f-93ec-4e603eb329a4",
   "metadata": {},
   "outputs": [
    {
     "name": "stdout",
     "output_type": "stream",
     "text": [
      "10\n"
     ]
    }
   ],
   "source": [
    "# Counter for how many before June 1\n",
    "early_hurricanes = 0\n",
    "\n",
    "# We loop over the dates\n",
    "for hurricane in florida_hurricane_dates:\n",
    "  # Check if the month is before June (month number 6)\n",
    "  if hurricane.month < 6:\n",
    "    early_hurricanes = early_hurricanes + 1\n",
    "    \n",
    "print(early_hurricanes)"
   ]
  },
  {
   "cell_type": "code",
   "execution_count": null,
   "id": "dc42b2ec-8dc4-4820-a7a2-52f322e9e4f0",
   "metadata": {},
   "outputs": [],
   "source": []
  },
  {
   "cell_type": "code",
   "execution_count": null,
   "id": "13b2605a-eb63-40ec-b584-bbcac65eca90",
   "metadata": {},
   "outputs": [],
   "source": []
  },
  {
   "cell_type": "code",
   "execution_count": null,
   "id": "6aafba9d-6107-431b-aca7-2e69767a5d8e",
   "metadata": {},
   "outputs": [],
   "source": []
  },
  {
   "cell_type": "code",
   "execution_count": null,
   "id": "d902c424-7326-4cbe-ae9b-efde9b7d8a49",
   "metadata": {},
   "outputs": [],
   "source": []
  }
 ],
 "metadata": {
  "kernelspec": {
   "display_name": "Python 3 (ipykernel)",
   "language": "python",
   "name": "python3"
  },
  "language_info": {
   "codemirror_mode": {
    "name": "ipython",
    "version": 3
   },
   "file_extension": ".py",
   "mimetype": "text/x-python",
   "name": "python",
   "nbconvert_exporter": "python",
   "pygments_lexer": "ipython3",
   "version": "3.11.6"
  }
 },
 "nbformat": 4,
 "nbformat_minor": 5
}
