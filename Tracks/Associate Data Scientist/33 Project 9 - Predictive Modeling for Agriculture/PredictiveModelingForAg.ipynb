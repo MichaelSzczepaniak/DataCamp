{
 "cells": [
  {
   "cell_type": "markdown",
   "id": "d3d001b0-2e2f-4b58-8442-99520bad831f",
   "metadata": {},
   "source": [
    "# Sowing Success: How Machine Learning Helps Farmers Select the Best Crops\n",
    "\n",
    "![Farmer in a field](farmer_in_a_field.jpg)\n",
    "\n",
    "Measuring essential soil metrics such as nitrogen, phosphorous, potassium levels, and pH value is an important aspect of assessing soil condition. However, it can be an expensive and time-consuming process, which can cause farmers to prioritize which metrics to measure based on their budget constraints.\n",
    "\n",
    "Farmers have various options when it comes to deciding which crop to plant each season. Their primary objective is to maximize the yield of their crops, taking into account different factors. One crucial factor that affects crop growth is the condition of the soil in the field, which can be assessed by measuring basic elements such as nitrogen and potassium levels. Each crop has an ideal soil condition that ensures optimal growth and maximum yield.\n",
    "\n",
    "A farmer reached out to you as a machine learning expert for assistance in selecting the best crop for his field. They've provided you with a dataset called `soil_measures.csv`, which contains:\n",
    "\n",
    "- `\"N\"`: Nitrogen content ratio in the soil\n",
    "- `\"P\"`: Phosphorous content ratio in the soil\n",
    "- `\"K\"`: Potassium content ratio in the soil\n",
    "- `\"pH\"` value of the soil\n",
    "- `\"crop\"`: categorical values that contain various crops (target variable).\n",
    "\n",
    "Each row in this dataset represents various measures of the soil in a particular field. Based on these measurements, the crop specified in the `\"crop\"` column is the optimal choice for that field.  \n",
    "\n",
    "In this project, you will build multi-class classification models to predict the type of `\"crop\"` and identify the single most importance feature for predictive performance."
   ]
  },
  {
   "cell_type": "code",
   "execution_count": 1,
   "id": "d0eb4f16-5a99-460d-a5ba-706b7ef0bbe7",
   "metadata": {
    "executionCancelledAt": null,
    "executionTime": 14,
    "id": "bA5ajAmk7XH6",
    "lastExecutedAt": 1707317470036,
    "lastScheduledRunId": null,
    "lastSuccessfullyExecutedCode": "# All required libraries are imported here for you.\nimport pandas as pd\nfrom sklearn.linear_model import LogisticRegression\nfrom sklearn.ensemble import RandomForestClassifier\nfrom sklearn.model_selection import train_test_split\nfrom sklearn import metrics\n\n# Load the dataset\ncrops = pd.read_csv(\"soil_measures.csv\")\n\n# Write your code here"
   },
   "outputs": [
    {
     "name": "stdout",
     "output_type": "stream",
     "text": [
      "(2200, 5)\n"
     ]
    },
    {
     "data": {
      "text/html": [
       "<div>\n",
       "<style scoped>\n",
       "    .dataframe tbody tr th:only-of-type {\n",
       "        vertical-align: middle;\n",
       "    }\n",
       "\n",
       "    .dataframe tbody tr th {\n",
       "        vertical-align: top;\n",
       "    }\n",
       "\n",
       "    .dataframe thead th {\n",
       "        text-align: right;\n",
       "    }\n",
       "</style>\n",
       "<table border=\"1\" class=\"dataframe\">\n",
       "  <thead>\n",
       "    <tr style=\"text-align: right;\">\n",
       "      <th></th>\n",
       "      <th>N</th>\n",
       "      <th>P</th>\n",
       "      <th>K</th>\n",
       "      <th>ph</th>\n",
       "      <th>crop</th>\n",
       "    </tr>\n",
       "  </thead>\n",
       "  <tbody>\n",
       "    <tr>\n",
       "      <th>0</th>\n",
       "      <td>90</td>\n",
       "      <td>42</td>\n",
       "      <td>43</td>\n",
       "      <td>6.502985</td>\n",
       "      <td>rice</td>\n",
       "    </tr>\n",
       "    <tr>\n",
       "      <th>1</th>\n",
       "      <td>85</td>\n",
       "      <td>58</td>\n",
       "      <td>41</td>\n",
       "      <td>7.038096</td>\n",
       "      <td>rice</td>\n",
       "    </tr>\n",
       "    <tr>\n",
       "      <th>2</th>\n",
       "      <td>60</td>\n",
       "      <td>55</td>\n",
       "      <td>44</td>\n",
       "      <td>7.840207</td>\n",
       "      <td>rice</td>\n",
       "    </tr>\n",
       "    <tr>\n",
       "      <th>3</th>\n",
       "      <td>74</td>\n",
       "      <td>35</td>\n",
       "      <td>40</td>\n",
       "      <td>6.980401</td>\n",
       "      <td>rice</td>\n",
       "    </tr>\n",
       "    <tr>\n",
       "      <th>4</th>\n",
       "      <td>78</td>\n",
       "      <td>42</td>\n",
       "      <td>42</td>\n",
       "      <td>7.628473</td>\n",
       "      <td>rice</td>\n",
       "    </tr>\n",
       "  </tbody>\n",
       "</table>\n",
       "</div>"
      ],
      "text/plain": [
       "    N   P   K        ph  crop\n",
       "0  90  42  43  6.502985  rice\n",
       "1  85  58  41  7.038096  rice\n",
       "2  60  55  44  7.840207  rice\n",
       "3  74  35  40  6.980401  rice\n",
       "4  78  42  42  7.628473  rice"
      ]
     },
     "execution_count": 1,
     "metadata": {},
     "output_type": "execute_result"
    }
   ],
   "source": [
    "# All required libraries are imported here for you.\n",
    "import pandas as pd\n",
    "import numpy as np\n",
    "from sklearn.linear_model import LogisticRegression\n",
    "from sklearn.model_selection import train_test_split, cross_val_score, KFold\n",
    "from sklearn import metrics\n",
    "\n",
    "# Load the dataset\n",
    "crops = pd.read_csv(\"./data/soil_measures.csv\")\n",
    "print(crops.shape)\n",
    "crops.head()"
   ]
  },
  {
   "cell_type": "markdown",
   "id": "3d238391-ac26-406f-bd9f-e7d5de11570d",
   "metadata": {},
   "source": [
    "## Class balance\n",
    "\n",
    "From the counts below, it looks like we have perfect balance between the classes."
   ]
  },
  {
   "cell_type": "code",
   "execution_count": 2,
   "id": "03b24f8b-1d4a-4393-9046-fcaca2fe9f99",
   "metadata": {},
   "outputs": [
    {
     "data": {
      "text/plain": [
       "crop\n",
       "rice           100\n",
       "maize          100\n",
       "jute           100\n",
       "cotton         100\n",
       "coconut        100\n",
       "papaya         100\n",
       "orange         100\n",
       "apple          100\n",
       "muskmelon      100\n",
       "watermelon     100\n",
       "grapes         100\n",
       "mango          100\n",
       "banana         100\n",
       "pomegranate    100\n",
       "lentil         100\n",
       "blackgram      100\n",
       "mungbean       100\n",
       "mothbeans      100\n",
       "pigeonpeas     100\n",
       "kidneybeans    100\n",
       "chickpea       100\n",
       "coffee         100\n",
       "Name: count, dtype: int64"
      ]
     },
     "execution_count": 2,
     "metadata": {},
     "output_type": "execute_result"
    }
   ],
   "source": [
    "crops['crop'].value_counts()"
   ]
  },
  {
   "cell_type": "markdown",
   "id": "a831ac44-7bb2-40ed-86ee-85cf2da57f72",
   "metadata": {},
   "source": [
    "## Missing values\n",
    "\n",
    "Doesn't look like there are any missing values."
   ]
  },
  {
   "cell_type": "code",
   "execution_count": 3,
   "id": "ad323112-a786-4432-8a03-ce65bdc71827",
   "metadata": {},
   "outputs": [
    {
     "name": "stdout",
     "output_type": "stream",
     "text": [
      "N       0\n",
      "P       0\n",
      "K       0\n",
      "ph      0\n",
      "crop    0\n",
      "dtype: int64\n"
     ]
    }
   ],
   "source": [
    "print(crops.isna().sum().sort_values())"
   ]
  },
  {
   "cell_type": "markdown",
   "id": "058ae8c1-887e-4ae0-aa30-ca5bb1bdb1ed",
   "metadata": {},
   "source": [
    "## Encode the target column\n",
    "\n",
    "The `crop` column is categorical and needs to be encoded."
   ]
  },
  {
   "cell_type": "code",
   "execution_count": 4,
   "id": "ea981fe6-51ad-405e-b670-76819c375005",
   "metadata": {},
   "outputs": [
    {
     "name": "stdout",
     "output_type": "stream",
     "text": [
      "    N   P   K        ph  crop  crop_code\n",
      "0  90  42  43  6.502985  rice         20\n",
      "1  85  58  41  7.038096  rice         20\n",
      "2  60  55  44  7.840207  rice         20\n",
      "3  74  35  40  6.980401  rice         20\n",
      "4  78  42  42  7.628473  rice         20 \n",
      "\n",
      "        N   P   K        ph    crop  crop_code\n",
      "2195  107  34  32  6.780064  coffee          5\n",
      "2196   99  15  27  6.086922  coffee          5\n",
      "2197  118  33  30  6.362608  coffee          5\n",
      "2198  117  32  34  6.758793  coffee          5\n",
      "2199  104  18  30  6.779833  coffee          5 \n",
      "\n"
     ]
    },
    {
     "data": {
      "text/plain": [
       "crop_code\n",
       "20    100\n",
       "11    100\n",
       "8     100\n",
       "6     100\n",
       "4     100\n",
       "17    100\n",
       "16    100\n",
       "0     100\n",
       "15    100\n",
       "21    100\n",
       "7     100\n",
       "12    100\n",
       "1     100\n",
       "19    100\n",
       "10    100\n",
       "2     100\n",
       "14    100\n",
       "13    100\n",
       "18    100\n",
       "9     100\n",
       "3     100\n",
       "5     100\n",
       "Name: count, dtype: int64"
      ]
     },
     "execution_count": 4,
     "metadata": {},
     "output_type": "execute_result"
    }
   ],
   "source": [
    "crops['crop'] = crops['crop'].astype(\"category\")\n",
    "crops['crop_code'] = crops['crop'].cat.codes\n",
    "print(crops.head(), '\\n')\n",
    "print(crops.tail(), '\\n')\n",
    "crops['crop_code'].value_counts()"
   ]
  },
  {
   "cell_type": "markdown",
   "id": "9e3acafb-6066-4dbd-a466-30c59f8a7050",
   "metadata": {},
   "source": [
    "## Strategy\n",
    "\n",
    "### Metric\n",
    "\n",
    "The *negative log likelihood* or *cross-entropy* is used as the loss function for logistic regression in scikit, so this would be the most natural choice for the metric we use to evaluate model performance.\n",
    "\n",
    "### Workflow\n",
    "\n",
    "1. Build a set of single parameter logistic regression models\n",
    "2. Evaluate each set of models using 5-Fold CV and cross-entropy as the metric\n",
    "3. Create a boxplot with each predictor on the x-axis and cross-entropy of the y-axis\n",
    "\n",
    "The boxplot will allow us to see how each of the single-predictor models relative to each other. From this plot, the best model will be selected as the parameter with the most importance feature for predictive performance."
   ]
  },
  {
   "cell_type": "code",
   "execution_count": 5,
   "id": "be1cbf58-e349-43dc-b984-145f7f78ced9",
   "metadata": {},
   "outputs": [
    {
     "data": {
      "text/html": [
       "<div>\n",
       "<style scoped>\n",
       "    .dataframe tbody tr th:only-of-type {\n",
       "        vertical-align: middle;\n",
       "    }\n",
       "\n",
       "    .dataframe tbody tr th {\n",
       "        vertical-align: top;\n",
       "    }\n",
       "\n",
       "    .dataframe thead th {\n",
       "        text-align: right;\n",
       "    }\n",
       "</style>\n",
       "<table border=\"1\" class=\"dataframe\">\n",
       "  <thead>\n",
       "    <tr style=\"text-align: right;\">\n",
       "      <th></th>\n",
       "      <th>N</th>\n",
       "      <th>P</th>\n",
       "      <th>K</th>\n",
       "      <th>ph</th>\n",
       "    </tr>\n",
       "  </thead>\n",
       "  <tbody>\n",
       "    <tr>\n",
       "      <th>0</th>\n",
       "      <td>90</td>\n",
       "      <td>42</td>\n",
       "      <td>43</td>\n",
       "      <td>6.502985</td>\n",
       "    </tr>\n",
       "    <tr>\n",
       "      <th>1</th>\n",
       "      <td>85</td>\n",
       "      <td>58</td>\n",
       "      <td>41</td>\n",
       "      <td>7.038096</td>\n",
       "    </tr>\n",
       "    <tr>\n",
       "      <th>2</th>\n",
       "      <td>60</td>\n",
       "      <td>55</td>\n",
       "      <td>44</td>\n",
       "      <td>7.840207</td>\n",
       "    </tr>\n",
       "    <tr>\n",
       "      <th>3</th>\n",
       "      <td>74</td>\n",
       "      <td>35</td>\n",
       "      <td>40</td>\n",
       "      <td>6.980401</td>\n",
       "    </tr>\n",
       "    <tr>\n",
       "      <th>4</th>\n",
       "      <td>78</td>\n",
       "      <td>42</td>\n",
       "      <td>42</td>\n",
       "      <td>7.628473</td>\n",
       "    </tr>\n",
       "  </tbody>\n",
       "</table>\n",
       "</div>"
      ],
      "text/plain": [
       "    N   P   K        ph\n",
       "0  90  42  43  6.502985\n",
       "1  85  58  41  7.038096\n",
       "2  60  55  44  7.840207\n",
       "3  74  35  40  6.980401\n",
       "4  78  42  42  7.628473"
      ]
     },
     "execution_count": 5,
     "metadata": {},
     "output_type": "execute_result"
    }
   ],
   "source": [
    "rand_state = 711  # for reproducibility\n",
    "X = crops.drop([\"crop\", \"crop_code\"], axis=\"columns\")\n",
    "y = crops['crop_code']\n",
    "\n",
    "# split to train and test sets - dol BEFORE scaling\n",
    "X_train, X_test, y_train, y_test = train_test_split(X, y, random_state=rand_state)\n",
    "\n",
    "X.head()"
   ]
  },
  {
   "cell_type": "code",
   "execution_count": 6,
   "id": "20889b5a-4a68-47af-9d16-7d36b6f1c553",
   "metadata": {},
   "outputs": [
    {
     "data": {
      "text/html": [
       "<div>\n",
       "<style scoped>\n",
       "    .dataframe tbody tr th:only-of-type {\n",
       "        vertical-align: middle;\n",
       "    }\n",
       "\n",
       "    .dataframe tbody tr th {\n",
       "        vertical-align: top;\n",
       "    }\n",
       "\n",
       "    .dataframe thead th {\n",
       "        text-align: right;\n",
       "    }\n",
       "</style>\n",
       "<table border=\"1\" class=\"dataframe\">\n",
       "  <thead>\n",
       "    <tr style=\"text-align: right;\">\n",
       "      <th></th>\n",
       "      <th>N</th>\n",
       "      <th>P</th>\n",
       "      <th>K</th>\n",
       "      <th>ph</th>\n",
       "    </tr>\n",
       "  </thead>\n",
       "  <tbody>\n",
       "    <tr>\n",
       "      <th>1830</th>\n",
       "      <td>16</td>\n",
       "      <td>6</td>\n",
       "      <td>29</td>\n",
       "      <td>5.868285</td>\n",
       "    </tr>\n",
       "    <tr>\n",
       "      <th>1573</th>\n",
       "      <td>7</td>\n",
       "      <td>141</td>\n",
       "      <td>195</td>\n",
       "      <td>5.514253</td>\n",
       "    </tr>\n",
       "    <tr>\n",
       "      <th>386</th>\n",
       "      <td>17</td>\n",
       "      <td>64</td>\n",
       "      <td>17</td>\n",
       "      <td>5.662699</td>\n",
       "    </tr>\n",
       "    <tr>\n",
       "      <th>141</th>\n",
       "      <td>60</td>\n",
       "      <td>44</td>\n",
       "      <td>23</td>\n",
       "      <td>5.722580</td>\n",
       "    </tr>\n",
       "    <tr>\n",
       "      <th>2044</th>\n",
       "      <td>94</td>\n",
       "      <td>37</td>\n",
       "      <td>41</td>\n",
       "      <td>6.463539</td>\n",
       "    </tr>\n",
       "  </tbody>\n",
       "</table>\n",
       "</div>"
      ],
      "text/plain": [
       "       N    P    K        ph\n",
       "1830  16    6   29  5.868285\n",
       "1573   7  141  195  5.514253\n",
       "386   17   64   17  5.662699\n",
       "141   60   44   23  5.722580\n",
       "2044  94   37   41  6.463539"
      ]
     },
     "execution_count": 6,
     "metadata": {},
     "output_type": "execute_result"
    }
   ],
   "source": [
    "X_train.head()"
   ]
  },
  {
   "cell_type": "code",
   "execution_count": 7,
   "id": "c9ee43f1-7140-4db2-b320-78b243718554",
   "metadata": {},
   "outputs": [
    {
     "name": "stdout",
     "output_type": "stream",
     "text": [
      "N     50.551818\n",
      "P     53.362727\n",
      "K     48.149091\n",
      "ph     6.469480\n",
      "dtype: float64 \n",
      "\n",
      "N     36.917334\n",
      "P     32.985883\n",
      "K     50.647931\n",
      "ph     0.773938\n",
      "dtype: float64 \n",
      "\n",
      "X_train_scaled type is <class 'numpy.ndarray'>, shape is (1650, 4)\n",
      "X_test_scaled type is <class 'numpy.ndarray'>, shape is (550, 4)  \n",
      "\n",
      "[1.29189588e-17 8.28966525e-17 0.00000000e+00 5.16758353e-16]\n",
      "[1. 1. 1. 1.]\n"
     ]
    }
   ],
   "source": [
    "from sklearn.preprocessing import StandardScaler\n",
    "scaler = StandardScaler()\n",
    "X_train_scaled = scaler.fit_transform(X_train)\n",
    "X_test_scaled = scaler.transform(X_test)\n",
    "# check to unscaled values\n",
    "print(X.mean(), '\\n')\n",
    "print(X.std(), '\\n')\n",
    "# check to scaled values - note: scaling converts to numpy array\n",
    "print(f\"X_train_scaled type is {type(X_train_scaled)}, shape is {X_train_scaled.shape}\")\n",
    "print(f\"X_test_scaled type is {type(X_test_scaled)}, shape is {X_test_scaled.shape}  \\n\")\n",
    "\n",
    "print(X_train_scaled.mean(axis=0))  # 4 value that should be close to 0\n",
    "print(X_train_scaled.std(axis=0))   # 4 value that should be close to 1"
   ]
  },
  {
   "cell_type": "code",
   "execution_count": 8,
   "id": "20de096d-4d81-4fc5-83a4-c3adf12526aa",
   "metadata": {},
   "outputs": [
    {
     "name": "stdout",
     "output_type": "stream",
     "text": [
      "shape of scaled training predictor vector: (1650, 1) | shape of target training target vector: (1650,)\n",
      "0.10727272727272727\n"
     ]
    }
   ],
   "source": [
    "cv_folds = 5      # specified above\n",
    "\n",
    "# test building and testing a single model\n",
    "predictors = list(crops.columns)[:-1]\n",
    "\n",
    "pred = predictors[0]  # N\n",
    "kf = KFold(n_splits=cv_folds, random_state=rand_state, shuffle=True)\n",
    "logreg_model = LogisticRegression()\n",
    "# get the predictor vector and scale it\n",
    "X_train_scaled = scaler.fit_transform(X_train[pred].to_numpy().reshape(-1, 1))\n",
    "X_test_scaled = scaler.fit_transform(X_test[pred].to_numpy().reshape(-1, 1))\n",
    "# get encoded target vector\n",
    "y_train_vec = y_train.values\n",
    "y_test_vec = y_test.values\n",
    "print(f\"shape of scaled training predictor vector: {X_train_scaled.shape} | shape of target training target vector: {y_train_vec.shape}\")\n",
    "\n",
    "# fit on a single predictor\n",
    "logreg_model.fit(X_train_scaled, y_train_vec)\n",
    "# predict on the test set\n",
    "preds = logreg_model.predict(X_test_scaled)\n",
    "print(logreg_model.score(X_test_scaled, y_test_vec))"
   ]
  },
  {
   "cell_type": "code",
   "execution_count": null,
   "id": "00775736-b523-42d6-94ac-e21db5402526",
   "metadata": {},
   "outputs": [],
   "source": []
  },
  {
   "cell_type": "code",
   "execution_count": null,
   "id": "cc656e9c-b4ab-472b-8894-5f7d6d36c128",
   "metadata": {},
   "outputs": [],
   "source": []
  },
  {
   "cell_type": "code",
   "execution_count": null,
   "id": "9c898b8f-68a5-4d9c-8382-a2a922266314",
   "metadata": {},
   "outputs": [],
   "source": []
  },
  {
   "cell_type": "code",
   "execution_count": null,
   "id": "4acfe18b-437b-466a-9635-6f19d3ad99ea",
   "metadata": {},
   "outputs": [],
   "source": [
    "import matplotlib.pyplot as plt\n",
    "\n",
    "\n",
    "# print(predictors)  # ['N', 'P', 'K', 'ph']\n",
    "results = []\n",
    "mod_labels = []\n"
   ]
  },
  {
   "cell_type": "code",
   "execution_count": null,
   "id": "0e06ab07-cf19-4554-9b28-db75e5598129",
   "metadata": {},
   "outputs": [],
   "source": []
  },
  {
   "cell_type": "code",
   "execution_count": null,
   "id": "8605d613-9103-45bc-885f-0f8f0aa4e433",
   "metadata": {},
   "outputs": [],
   "source": [
    "# test a single model build\n",
    "\n",
    "\n",
    "pred = predictors[0]  # N\n",
    "kf = KFold(n_splits=cv_folds, random_state=rand_state, shuffle=True)\n",
    "logreg_model = LogisticRegression()\n",
    "X_train_vec = X_train[pred].to_numpy().reshape(-1, 1)\n",
    "y_train_vec = y_train.values\n",
    "print(f\"shape of training predictor vector: {X_train_vec.shape} | shape of training target vector: {y_train_vec.shape}\")\n",
    "\n",
    "# fit on a single predictor\n",
    "logreg_model.fit(X_train_vec, y_train_vec)\n",
    "# y_pred = model.predict(X_test[pred])\n",
    "\n",
    "# print(type(y_pred))"
   ]
  },
  {
   "cell_type": "code",
   "execution_count": null,
   "id": "0cdc6256-03a2-4bef-a19d-7a0dc09a0e92",
   "metadata": {},
   "outputs": [],
   "source": [
    "for pred in predictors:\n",
    "    kf = KFold(n_splits=cv_folds, random_state=rand_state, shuffle=True)\n",
    "    model = LogisticRegression()\n",
    "    X_train_pred = X_train[pred]\n",
    "    cv_results = cross_val_score(estimator=model, X=X_train_pred, y=y_train.values, scoring='neg_log_loss', cv=kf)\n",
    "    mod_labels.append(pred + \" predictor\")\n",
    "    results.append(cv_results)\n",
    "\n",
    "plt.boxplot(results, labels=mod_labels)"
   ]
  },
  {
   "cell_type": "code",
   "execution_count": null,
   "id": "1fc63631-4558-497a-bdc6-a2dfa52a819c",
   "metadata": {},
   "outputs": [],
   "source": []
  },
  {
   "cell_type": "code",
   "execution_count": null,
   "id": "2ad5b80f-469d-46c3-9c87-b09a800737cb",
   "metadata": {},
   "outputs": [],
   "source": []
  },
  {
   "cell_type": "code",
   "execution_count": null,
   "id": "7e160901-3380-461e-a123-1a1711fd1570",
   "metadata": {},
   "outputs": [],
   "source": []
  },
  {
   "cell_type": "code",
   "execution_count": null,
   "id": "3b95e805-df7d-430e-a542-1bbb18d7fe6a",
   "metadata": {},
   "outputs": [],
   "source": []
  },
  {
   "cell_type": "code",
   "execution_count": null,
   "id": "59898d4d-1c07-4d3d-8261-d7f58031497a",
   "metadata": {},
   "outputs": [],
   "source": []
  }
 ],
 "metadata": {
  "colab": {
   "name": "Welcome to DataCamp Workspaces.ipynb",
   "provenance": []
  },
  "kernelspec": {
   "display_name": "Python 3 (ipykernel)",
   "language": "python",
   "name": "python3"
  },
  "language_info": {
   "codemirror_mode": {
    "name": "ipython",
    "version": 3
   },
   "file_extension": ".py",
   "mimetype": "text/x-python",
   "name": "python",
   "nbconvert_exporter": "python",
   "pygments_lexer": "ipython3",
   "version": "3.11.6"
  }
 },
 "nbformat": 4,
 "nbformat_minor": 5
}
