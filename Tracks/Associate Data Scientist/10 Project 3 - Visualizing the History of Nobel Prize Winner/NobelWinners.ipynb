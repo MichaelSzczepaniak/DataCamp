{
 "cells": [
  {
   "cell_type": "markdown",
   "id": "db5bd2ce-918a-4f7d-a927-a3ea74c4b456",
   "metadata": {},
   "source": [
    "The Nobel Prize has been among the most prestigious international awards since 1901. Each year, awards are bestowed in chemistry, literature, physics, physiology or medicine, economics, and peace. In addition to the honor, prestige, and substantial prize money, the recipient also gets a gold medal with an image of Alfred Nobel (1833 - 1896), who established the prize.\n",
    "\n",
    "![](Nobel_Prize.png)\n",
    "\n",
    "The Nobel Foundation has made a dataset available of all prize winners from the outset of the awards from 1901 to 2023. The dataset used in this project is from the Nobel Prize API and is available in the `nobel.csv` file in the `data` folder.\n",
    "\n",
    "In this project, you'll get a chance to explore and answer several questions related to this prizewinning data. And we encourage you then to explore further questions that you're interested in!"
   ]
  },
  {
   "cell_type": "code",
   "execution_count": 1,
   "id": "11fd5946-7bd1-495c-aa7f-ff6e7e4a350b",
   "metadata": {
    "collapsed": false,
    "executionCancelledAt": null,
    "executionTime": 55,
    "jupyter": {
     "outputs_hidden": false,
     "source_hidden": false
    },
    "lastExecutedAt": 1738723478027,
    "lastExecutedByKernel": "d17e7ac8-8fd8-468e-bffd-de8bfdf63503",
    "lastScheduledRunId": null,
    "lastSuccessfullyExecutedCode": "# Loading in required libraries\nimport pandas as pd\nimport seaborn as sns\nimport numpy as np\n\n# read the data file, check columns and inspect 1st few records\ndf_nobel = pd.read_csv('./data/nobel.csv')\nprint(df_nobel.columns)\ndf_nobel.head()",
    "outputsMetadata": {
     "0": {
      "height": 125,
      "type": "stream"
     },
     "1": {
      "height": 241,
      "tableState": {
       "customFilter": {
        "const": {
         "type": "boolean",
         "valid": true,
         "value": true
        },
        "id": "78fe06fd-3a9d-41fe-86f1-bcf4e4315218",
        "nodeType": "const"
       },
       "quickFilterText": ""
      },
      "type": "dataFrame"
     }
    }
   },
   "outputs": [
    {
     "name": "stdout",
     "output_type": "stream",
     "text": [
      "Index(['year', 'category', 'prize', 'motivation', 'prize_share', 'laureate_id',\n",
      "       'laureate_type', 'full_name', 'birth_date', 'birth_city',\n",
      "       'birth_country', 'sex', 'organization_name', 'organization_city',\n",
      "       'organization_country', 'death_date', 'death_city', 'death_country'],\n",
      "      dtype='object')\n"
     ]
    },
    {
     "data": {
      "text/html": [
       "<div>\n",
       "<style scoped>\n",
       "    .dataframe tbody tr th:only-of-type {\n",
       "        vertical-align: middle;\n",
       "    }\n",
       "\n",
       "    .dataframe tbody tr th {\n",
       "        vertical-align: top;\n",
       "    }\n",
       "\n",
       "    .dataframe thead th {\n",
       "        text-align: right;\n",
       "    }\n",
       "</style>\n",
       "<table border=\"1\" class=\"dataframe\">\n",
       "  <thead>\n",
       "    <tr style=\"text-align: right;\">\n",
       "      <th></th>\n",
       "      <th>year</th>\n",
       "      <th>category</th>\n",
       "      <th>prize</th>\n",
       "      <th>motivation</th>\n",
       "      <th>prize_share</th>\n",
       "      <th>laureate_id</th>\n",
       "      <th>laureate_type</th>\n",
       "      <th>full_name</th>\n",
       "      <th>birth_date</th>\n",
       "      <th>birth_city</th>\n",
       "      <th>birth_country</th>\n",
       "      <th>sex</th>\n",
       "      <th>organization_name</th>\n",
       "      <th>organization_city</th>\n",
       "      <th>organization_country</th>\n",
       "      <th>death_date</th>\n",
       "      <th>death_city</th>\n",
       "      <th>death_country</th>\n",
       "    </tr>\n",
       "  </thead>\n",
       "  <tbody>\n",
       "    <tr>\n",
       "      <th>0</th>\n",
       "      <td>1901</td>\n",
       "      <td>Chemistry</td>\n",
       "      <td>The Nobel Prize in Chemistry 1901</td>\n",
       "      <td>\"in recognition of the extraordinary services ...</td>\n",
       "      <td>1/1</td>\n",
       "      <td>160</td>\n",
       "      <td>Individual</td>\n",
       "      <td>Jacobus Henricus van 't Hoff</td>\n",
       "      <td>1852-08-30</td>\n",
       "      <td>Rotterdam</td>\n",
       "      <td>Netherlands</td>\n",
       "      <td>Male</td>\n",
       "      <td>Berlin University</td>\n",
       "      <td>Berlin</td>\n",
       "      <td>Germany</td>\n",
       "      <td>1911-03-01</td>\n",
       "      <td>Berlin</td>\n",
       "      <td>Germany</td>\n",
       "    </tr>\n",
       "    <tr>\n",
       "      <th>1</th>\n",
       "      <td>1901</td>\n",
       "      <td>Literature</td>\n",
       "      <td>The Nobel Prize in Literature 1901</td>\n",
       "      <td>\"in special recognition of his poetic composit...</td>\n",
       "      <td>1/1</td>\n",
       "      <td>569</td>\n",
       "      <td>Individual</td>\n",
       "      <td>Sully Prudhomme</td>\n",
       "      <td>1839-03-16</td>\n",
       "      <td>Paris</td>\n",
       "      <td>France</td>\n",
       "      <td>Male</td>\n",
       "      <td>NaN</td>\n",
       "      <td>NaN</td>\n",
       "      <td>NaN</td>\n",
       "      <td>1907-09-07</td>\n",
       "      <td>Châtenay</td>\n",
       "      <td>France</td>\n",
       "    </tr>\n",
       "    <tr>\n",
       "      <th>2</th>\n",
       "      <td>1901</td>\n",
       "      <td>Medicine</td>\n",
       "      <td>The Nobel Prize in Physiology or Medicine 1901</td>\n",
       "      <td>\"for his work on serum therapy, especially its...</td>\n",
       "      <td>1/1</td>\n",
       "      <td>293</td>\n",
       "      <td>Individual</td>\n",
       "      <td>Emil Adolf von Behring</td>\n",
       "      <td>1854-03-15</td>\n",
       "      <td>Hansdorf (Lawice)</td>\n",
       "      <td>Prussia (Poland)</td>\n",
       "      <td>Male</td>\n",
       "      <td>Marburg University</td>\n",
       "      <td>Marburg</td>\n",
       "      <td>Germany</td>\n",
       "      <td>1917-03-31</td>\n",
       "      <td>Marburg</td>\n",
       "      <td>Germany</td>\n",
       "    </tr>\n",
       "    <tr>\n",
       "      <th>3</th>\n",
       "      <td>1901</td>\n",
       "      <td>Peace</td>\n",
       "      <td>The Nobel Peace Prize 1901</td>\n",
       "      <td>NaN</td>\n",
       "      <td>1/2</td>\n",
       "      <td>462</td>\n",
       "      <td>Individual</td>\n",
       "      <td>Jean Henry Dunant</td>\n",
       "      <td>1828-05-08</td>\n",
       "      <td>Geneva</td>\n",
       "      <td>Switzerland</td>\n",
       "      <td>Male</td>\n",
       "      <td>NaN</td>\n",
       "      <td>NaN</td>\n",
       "      <td>NaN</td>\n",
       "      <td>1910-10-30</td>\n",
       "      <td>Heiden</td>\n",
       "      <td>Switzerland</td>\n",
       "    </tr>\n",
       "    <tr>\n",
       "      <th>4</th>\n",
       "      <td>1901</td>\n",
       "      <td>Peace</td>\n",
       "      <td>The Nobel Peace Prize 1901</td>\n",
       "      <td>NaN</td>\n",
       "      <td>1/2</td>\n",
       "      <td>463</td>\n",
       "      <td>Individual</td>\n",
       "      <td>Frédéric Passy</td>\n",
       "      <td>1822-05-20</td>\n",
       "      <td>Paris</td>\n",
       "      <td>France</td>\n",
       "      <td>Male</td>\n",
       "      <td>NaN</td>\n",
       "      <td>NaN</td>\n",
       "      <td>NaN</td>\n",
       "      <td>1912-06-12</td>\n",
       "      <td>Paris</td>\n",
       "      <td>France</td>\n",
       "    </tr>\n",
       "  </tbody>\n",
       "</table>\n",
       "</div>"
      ],
      "text/plain": [
       "   year    category                                           prize  \\\n",
       "0  1901   Chemistry               The Nobel Prize in Chemistry 1901   \n",
       "1  1901  Literature              The Nobel Prize in Literature 1901   \n",
       "2  1901    Medicine  The Nobel Prize in Physiology or Medicine 1901   \n",
       "3  1901       Peace                      The Nobel Peace Prize 1901   \n",
       "4  1901       Peace                      The Nobel Peace Prize 1901   \n",
       "\n",
       "                                          motivation prize_share  laureate_id  \\\n",
       "0  \"in recognition of the extraordinary services ...         1/1          160   \n",
       "1  \"in special recognition of his poetic composit...         1/1          569   \n",
       "2  \"for his work on serum therapy, especially its...         1/1          293   \n",
       "3                                                NaN         1/2          462   \n",
       "4                                                NaN         1/2          463   \n",
       "\n",
       "  laureate_type                     full_name  birth_date         birth_city  \\\n",
       "0    Individual  Jacobus Henricus van 't Hoff  1852-08-30          Rotterdam   \n",
       "1    Individual               Sully Prudhomme  1839-03-16              Paris   \n",
       "2    Individual        Emil Adolf von Behring  1854-03-15  Hansdorf (Lawice)   \n",
       "3    Individual             Jean Henry Dunant  1828-05-08             Geneva   \n",
       "4    Individual                Frédéric Passy  1822-05-20              Paris   \n",
       "\n",
       "      birth_country   sex   organization_name organization_city  \\\n",
       "0       Netherlands  Male   Berlin University            Berlin   \n",
       "1            France  Male                 NaN               NaN   \n",
       "2  Prussia (Poland)  Male  Marburg University           Marburg   \n",
       "3       Switzerland  Male                 NaN               NaN   \n",
       "4            France  Male                 NaN               NaN   \n",
       "\n",
       "  organization_country  death_date death_city death_country  \n",
       "0              Germany  1911-03-01     Berlin       Germany  \n",
       "1                  NaN  1907-09-07   Châtenay        France  \n",
       "2              Germany  1917-03-31    Marburg       Germany  \n",
       "3                  NaN  1910-10-30     Heiden   Switzerland  \n",
       "4                  NaN  1912-06-12      Paris        France  "
      ]
     },
     "execution_count": 1,
     "metadata": {},
     "output_type": "execute_result"
    }
   ],
   "source": [
    "# Loading in required libraries\n",
    "import pandas as pd\n",
    "import seaborn as sns\n",
    "import numpy as np\n",
    "\n",
    "# read the data file, check columns and inspect 1st few records\n",
    "df_nobel = pd.read_csv('./data/nobel.csv')\n",
    "print(df_nobel.columns)\n",
    "df_nobel.head()"
   ]
  },
  {
   "cell_type": "code",
   "execution_count": 2,
   "id": "1f66ee71-7902-4b37-8de6-169d2713bf37",
   "metadata": {
    "executionCancelledAt": null,
    "executionTime": 49,
    "lastExecutedAt": 1738723478076,
    "lastExecutedByKernel": "d17e7ac8-8fd8-468e-bffd-de8bfdf63503",
    "lastScheduledRunId": null,
    "lastSuccessfullyExecutedCode": "# What is the most commonly awarded gender?\ndf_gender_country = df_nobel.loc[:, [\"birth_country\", \"sex\"]]\n# df_gender_country.head()\ngender_count_m = df_gender_country[df_gender_country[\"sex\"] == \"Male\"][\"sex\"].count()\ngender_count_w = df_gender_country[df_gender_country[\"sex\"] == \"Female\"][\"sex\"].count()\ngender_counts = [(gender_count_m, \"Male\"), (gender_count_w, \"Female\")]\ngender_counts.sort(key=lambda x:x[0], reverse=True)  # sort tuples inplace on the counts of each gender\nprint(gender_counts)\ntop_gender = gender_counts[0][1]  # top gender is 1st tuple in list\ntop_gender",
    "outputsMetadata": {
     "0": {
      "height": 39,
      "type": "stream"
     }
    }
   },
   "outputs": [
    {
     "name": "stdout",
     "output_type": "stream",
     "text": [
      "[(905, 'Male'), (65, 'Female')]\n"
     ]
    },
    {
     "data": {
      "text/plain": [
       "'Male'"
      ]
     },
     "execution_count": 2,
     "metadata": {},
     "output_type": "execute_result"
    }
   ],
   "source": [
    "# What is the most commonly awarded gender?\n",
    "df_gender_country = df_nobel.loc[:, [\"birth_country\", \"sex\"]]\n",
    "# df_gender_country.head()\n",
    "gender_count_m = df_gender_country[df_gender_country[\"sex\"] == \"Male\"][\"sex\"].count()\n",
    "gender_count_w = df_gender_country[df_gender_country[\"sex\"] == \"Female\"][\"sex\"].count()\n",
    "gender_counts = [(gender_count_m, \"Male\"), (gender_count_w, \"Female\")]\n",
    "gender_counts.sort(key=lambda x:x[0], reverse=True)  # sort tuples inplace on the counts of each gender\n",
    "print(gender_counts)\n",
    "top_gender = gender_counts[0][1]  # top gender is 1st tuple in list\n",
    "top_gender"
   ]
  },
  {
   "cell_type": "code",
   "execution_count": 3,
   "id": "6a5f5e10-a89f-4adf-814c-fbf02728d764",
   "metadata": {
    "executionCancelledAt": null,
    "executionTime": 50,
    "lastExecutedAt": 1738723478126,
    "lastExecutedByKernel": "d17e7ac8-8fd8-468e-bffd-de8bfdf63503",
    "lastScheduledRunId": null,
    "lastSuccessfullyExecutedCode": "# What is the most commonly awarded birth country?\ndf_country = df_nobel.loc[:, [\"birth_country\"]].sort_values(by=\"birth_country\")\ndf_country[\"value\"] = 1\ndf_country_grouped = df_country.groupby(\"birth_country\")[\"value\"].sum()\n# print(type(df_country_grouped))  # <class 'pandas.core.series.Series'>\ncountry_grouped_sorted = df_country_grouped.sort_values(ascending=False)\ntop_country = country_grouped_sorted.index[0]\ntop_country",
    "outputsMetadata": {
     "0": {
      "height": 550,
      "tableState": {
       "quickFilterText": ""
      },
      "type": "dataFrame"
     },
     "1": {
      "height": 500,
      "tableState": {
       "quickFilterText": ""
      },
      "type": "dataFrame"
     }
    }
   },
   "outputs": [
    {
     "data": {
      "text/plain": [
       "'United States of America'"
      ]
     },
     "execution_count": 3,
     "metadata": {},
     "output_type": "execute_result"
    }
   ],
   "source": [
    "# What is the most commonly awarded birth country?\n",
    "df_country = df_nobel.loc[:, [\"birth_country\"]].sort_values(by=\"birth_country\")\n",
    "df_country[\"value\"] = 1\n",
    "df_country_grouped = df_country.groupby(\"birth_country\")[\"value\"].sum()\n",
    "# print(type(df_country_grouped))  # <class 'pandas.core.series.Series'>\n",
    "country_grouped_sorted = df_country_grouped.sort_values(ascending=False)\n",
    "top_country = country_grouped_sorted.index[0]\n",
    "top_country"
   ]
  },
  {
   "cell_type": "markdown",
   "id": "9dc2666d-e4be-4971-b30a-1f0cbe13e7e7",
   "metadata": {},
   "source": [
    "## Which decade had the highest ratio of US-born Nobel Prize winners to total winners in all categories?\n",
    "\n",
    "+ Create count of USA winners over each decade\n",
    "+ Create count of all winners over each decade\n",
    "+ Join the USA and all winner dataframes together\n",
    "+ Computer the ratio column in the combined dataframe"
   ]
  },
  {
   "cell_type": "code",
   "execution_count": 4,
   "id": "bcdea925-8888-4206-87af-ee04784857c3",
   "metadata": {
    "executionCancelledAt": null,
    "executionTime": 52,
    "lastExecutedAt": 1738723478179,
    "lastExecutedByKernel": "d17e7ac8-8fd8-468e-bffd-de8bfdf63503",
    "lastScheduledRunId": null,
    "lastSuccessfullyExecutedCode": "# Create count of USA winners over each decade\ndf_over_time = df_nobel.loc[:, [\"year\", \"birth_country\"]].sort_values(by=[\"year\", \"birth_country\"])\n# create decade column\ndf_over_time['decade'] = df_over_time[\"year\"].astype(str).str[:3] + \"0\"\ndf_over_time['value'] = 1\ndf_usa = df_over_time.loc[df_over_time['birth_country'] == \"United States of America\", :]\nusa_decades = df_usa.groupby(\"decade\")[\"value\"].sum()\nusa_decades.sort_index(inplace=True)\nprint(usa_decades.shape)\nusa_decades.head()",
    "outputsMetadata": {
     "0": {
      "height": 39,
      "type": "stream"
     },
     "1": {
      "height": 550,
      "tableState": {
       "customFilter": {
        "const": {
         "type": "boolean",
         "valid": true,
         "value": true
        },
        "id": "78fe06fd-3a9d-41fe-86f1-bcf4e4315218",
        "nodeType": "const"
       },
       "quickFilterText": ""
      },
      "type": "dataFrame"
     }
    }
   },
   "outputs": [
    {
     "name": "stdout",
     "output_type": "stream",
     "text": [
      "(13,)\n"
     ]
    },
    {
     "data": {
      "text/plain": [
       "decade\n",
       "1900     1\n",
       "1910     3\n",
       "1920     4\n",
       "1930    14\n",
       "1940    13\n",
       "Name: value, dtype: int64"
      ]
     },
     "execution_count": 4,
     "metadata": {},
     "output_type": "execute_result"
    }
   ],
   "source": [
    "# Create count of USA winners over each decade\n",
    "df_over_time = df_nobel.loc[:, [\"year\", \"birth_country\"]].sort_values(by=[\"year\", \"birth_country\"])\n",
    "# create decade column\n",
    "df_over_time['decade'] = df_over_time[\"year\"].astype(str).str[:3] + \"0\"\n",
    "df_over_time['value'] = 1\n",
    "df_usa = df_over_time.loc[df_over_time['birth_country'] == \"United States of America\", :]\n",
    "usa_decades = df_usa.groupby(\"decade\")[\"value\"].sum()\n",
    "usa_decades.sort_index(inplace=True)\n",
    "print(usa_decades.shape)\n",
    "usa_decades.head()"
   ]
  },
  {
   "cell_type": "code",
   "execution_count": 5,
   "id": "d5a7eac3-b86e-4516-97d3-344d2c48b54d",
   "metadata": {
    "executionCancelledAt": null,
    "executionTime": 51,
    "lastExecutedAt": 1738723478230,
    "lastExecutedByKernel": "d17e7ac8-8fd8-468e-bffd-de8bfdf63503",
    "lastScheduledRunId": null,
    "lastSuccessfullyExecutedCode": "# Create count of all winners over each decade\ndf_over_time = df_nobel.loc[:, [\"year\", \"birth_country\"]].sort_values(by=[\"year\", \"birth_country\"])\n# create decade column\ndf_over_time['decade'] = df_over_time[\"year\"].astype(str).str[:3] + \"0\"\ndf_over_time['value'] = 1\nall_win = df_over_time.groupby(\"decade\")[\"value\"].sum()\nall_win.sort_index(inplace=True)\nprint(all_win.shape)\nall_win.head()",
    "outputsMetadata": {
     "0": {
      "height": 39,
      "type": "stream"
     },
     "1": {
      "height": 550,
      "tableState": {
       "customFilter": {
        "const": {
         "type": "boolean",
         "valid": true,
         "value": true
        },
        "id": "78fe06fd-3a9d-41fe-86f1-bcf4e4315218",
        "nodeType": "const"
       },
       "quickFilterText": ""
      },
      "type": "dataFrame"
     }
    }
   },
   "outputs": [
    {
     "name": "stdout",
     "output_type": "stream",
     "text": [
      "(13,)\n"
     ]
    },
    {
     "data": {
      "text/plain": [
       "decade\n",
       "1900    57\n",
       "1910    40\n",
       "1920    54\n",
       "1930    56\n",
       "1940    43\n",
       "Name: value, dtype: int64"
      ]
     },
     "execution_count": 5,
     "metadata": {},
     "output_type": "execute_result"
    }
   ],
   "source": [
    "# Create count of all winners over each decade\n",
    "df_over_time = df_nobel.loc[:, [\"year\", \"birth_country\"]].sort_values(by=[\"year\", \"birth_country\"])\n",
    "# create decade column\n",
    "df_over_time['decade'] = df_over_time[\"year\"].astype(str).str[:3] + \"0\"\n",
    "df_over_time['value'] = 1\n",
    "all_win = df_over_time.groupby(\"decade\")[\"value\"].sum()\n",
    "all_win.sort_index(inplace=True)\n",
    "print(all_win.shape)\n",
    "all_win.head()"
   ]
  },
  {
   "cell_type": "code",
   "execution_count": 6,
   "id": "e1ec2c2d-bf5c-4d48-bcd9-ea9285b3f2ea",
   "metadata": {
    "executionCancelledAt": null,
    "executionTime": 52,
    "lastExecutedAt": 1738723478282,
    "lastExecutedByKernel": "d17e7ac8-8fd8-468e-bffd-de8bfdf63503",
    "lastScheduledRunId": null,
    "lastSuccessfullyExecutedCode": "# Join the USA and all winner dataframes together\ndf_usa_all = pd.merge(all_win, usa_decades, left_index=True, right_index=True, suffixes=(\"_all\", \"_usa\"))\n# Computer the ratio column in the combined dataframe\ndf_usa_all[\"usa_ratio\"] = df_usa_all[\"value_usa\"] / df_usa_all[\"value_all\"]\ndf_usa_all.sort_values(\"usa_ratio\", ascending=False, inplace=True)\nmax_decade_usa = int(df_usa_all.index[0])\nprint(max_decade_usa)\n# df_usa_all",
    "outputsMetadata": {
     "0": {
      "height": 39,
      "type": "stream"
     }
    }
   },
   "outputs": [
    {
     "name": "stdout",
     "output_type": "stream",
     "text": [
      "2000\n"
     ]
    }
   ],
   "source": [
    "# Join the USA and all winner dataframes together\n",
    "df_usa_all = pd.merge(all_win, usa_decades, left_index=True, right_index=True, suffixes=(\"_all\", \"_usa\"))\n",
    "# Computer the ratio column in the combined dataframe\n",
    "df_usa_all[\"usa_ratio\"] = df_usa_all[\"value_usa\"] / df_usa_all[\"value_all\"]\n",
    "df_usa_all.sort_values(\"usa_ratio\", ascending=False, inplace=True)\n",
    "max_decade_usa = int(df_usa_all.index[0])\n",
    "print(max_decade_usa)\n",
    "# df_usa_all"
   ]
  },
  {
   "cell_type": "markdown",
   "id": "0f6b24d9-c8ce-43c5-88e7-2c668e7c7a89",
   "metadata": {},
   "source": [
    "## Which decade and Nobel Prize category combination had the highest proportion of female laureates?\n",
    "\n",
    "+ Create dataframe with count of female winners in each category for each decade\n",
    "+ Create dataframe with count of all winners in each category for each decade\n",
    "+ Join the female and all winner dataframes together\n",
    "+ Computer the ratio column in the combined dataframe"
   ]
  },
  {
   "cell_type": "code",
   "execution_count": 7,
   "id": "067f4925-0ecf-4d13-b6da-98143e6f3a3d",
   "metadata": {
    "executionCancelledAt": null,
    "executionTime": 52,
    "lastExecutedAt": 1738723478334,
    "lastExecutedByKernel": "d17e7ac8-8fd8-468e-bffd-de8bfdf63503",
    "lastScheduledRunId": null,
    "lastSuccessfullyExecutedCode": "# Create dataframe with count of female winners in each category for each decade\ndf_sex_cat = df_nobel.loc[:, [\"year\", \"sex\", \"category\"]]\n# create decade column\ndf_sex_cat['decade'] = df_sex_cat[\"year\"].astype(str).str[:3] + \"0\"\ndf_sex_cat['value'] = 1\n# filter for women\ndf_fem_cat = df_sex_cat.loc[df_sex_cat['sex'] == \"Female\", [\"decade\", \"category\", \"value\"]]\ndf_fem_cat.head(10)\n",
    "outputsMetadata": {
     "0": {
      "height": 550,
      "tableState": {
       "customFilter": {
        "const": {
         "type": "boolean",
         "valid": true,
         "value": true
        },
        "id": "78fe06fd-3a9d-41fe-86f1-bcf4e4315218",
        "nodeType": "const"
       },
       "quickFilterText": ""
      },
      "type": "dataFrame"
     },
     "1": {
      "height": 50,
      "tableState": {
       "customFilter": {
        "const": {
         "type": "boolean",
         "valid": true,
         "value": true
        },
        "id": "78fe06fd-3a9d-41fe-86f1-bcf4e4315218",
        "nodeType": "const"
       },
       "quickFilterText": ""
      },
      "type": "dataFrame"
     }
    }
   },
   "outputs": [
    {
     "data": {
      "text/html": [
       "<div>\n",
       "<style scoped>\n",
       "    .dataframe tbody tr th:only-of-type {\n",
       "        vertical-align: middle;\n",
       "    }\n",
       "\n",
       "    .dataframe tbody tr th {\n",
       "        vertical-align: top;\n",
       "    }\n",
       "\n",
       "    .dataframe thead th {\n",
       "        text-align: right;\n",
       "    }\n",
       "</style>\n",
       "<table border=\"1\" class=\"dataframe\">\n",
       "  <thead>\n",
       "    <tr style=\"text-align: right;\">\n",
       "      <th></th>\n",
       "      <th>decade</th>\n",
       "      <th>category</th>\n",
       "      <th>value</th>\n",
       "    </tr>\n",
       "  </thead>\n",
       "  <tbody>\n",
       "    <tr>\n",
       "      <th>19</th>\n",
       "      <td>1900</td>\n",
       "      <td>Physics</td>\n",
       "      <td>1</td>\n",
       "    </tr>\n",
       "    <tr>\n",
       "      <th>29</th>\n",
       "      <td>1900</td>\n",
       "      <td>Peace</td>\n",
       "      <td>1</td>\n",
       "    </tr>\n",
       "    <tr>\n",
       "      <th>51</th>\n",
       "      <td>1900</td>\n",
       "      <td>Literature</td>\n",
       "      <td>1</td>\n",
       "    </tr>\n",
       "    <tr>\n",
       "      <th>62</th>\n",
       "      <td>1910</td>\n",
       "      <td>Chemistry</td>\n",
       "      <td>1</td>\n",
       "    </tr>\n",
       "    <tr>\n",
       "      <th>128</th>\n",
       "      <td>1920</td>\n",
       "      <td>Literature</td>\n",
       "      <td>1</td>\n",
       "    </tr>\n",
       "    <tr>\n",
       "      <th>141</th>\n",
       "      <td>1920</td>\n",
       "      <td>Literature</td>\n",
       "      <td>1</td>\n",
       "    </tr>\n",
       "    <tr>\n",
       "      <th>160</th>\n",
       "      <td>1930</td>\n",
       "      <td>Peace</td>\n",
       "      <td>1</td>\n",
       "    </tr>\n",
       "    <tr>\n",
       "      <th>179</th>\n",
       "      <td>1930</td>\n",
       "      <td>Chemistry</td>\n",
       "      <td>1</td>\n",
       "    </tr>\n",
       "    <tr>\n",
       "      <th>198</th>\n",
       "      <td>1930</td>\n",
       "      <td>Literature</td>\n",
       "      <td>1</td>\n",
       "    </tr>\n",
       "    <tr>\n",
       "      <th>218</th>\n",
       "      <td>1940</td>\n",
       "      <td>Literature</td>\n",
       "      <td>1</td>\n",
       "    </tr>\n",
       "  </tbody>\n",
       "</table>\n",
       "</div>"
      ],
      "text/plain": [
       "    decade    category  value\n",
       "19    1900     Physics      1\n",
       "29    1900       Peace      1\n",
       "51    1900  Literature      1\n",
       "62    1910   Chemistry      1\n",
       "128   1920  Literature      1\n",
       "141   1920  Literature      1\n",
       "160   1930       Peace      1\n",
       "179   1930   Chemistry      1\n",
       "198   1930  Literature      1\n",
       "218   1940  Literature      1"
      ]
     },
     "execution_count": 7,
     "metadata": {},
     "output_type": "execute_result"
    }
   ],
   "source": [
    "# Create dataframe with count of female winners in each category for each decade\n",
    "df_sex_cat = df_nobel.loc[:, [\"year\", \"sex\", \"category\"]]\n",
    "# create decade column\n",
    "df_sex_cat['decade'] = df_sex_cat[\"year\"].astype(str).str[:3] + \"0\"\n",
    "df_sex_cat['value'] = 1\n",
    "# filter for women\n",
    "df_fem_cat = df_sex_cat.loc[df_sex_cat['sex'] == \"Female\", [\"decade\", \"category\", \"value\"]]\n",
    "df_fem_cat.head(10)\n"
   ]
  },
  {
   "cell_type": "code",
   "execution_count": 8,
   "id": "48e6e868-7bdd-4d2a-845f-540f3879d3b9",
   "metadata": {
    "executionCancelledAt": null,
    "executionTime": 54,
    "lastExecutedAt": 1738723478388,
    "lastExecutedByKernel": "d17e7ac8-8fd8-468e-bffd-de8bfdf63503",
    "lastScheduledRunId": null,
    "lastSuccessfullyExecutedCode": "# aggegate to get counts per decade and category, but groupby creates a series with a multi-index\nfem_cat_decades = df_fem_cat.groupby([\"decade\", \"category\"])[\"value\"].sum()\ndec_cat = fem_cat_decades.index.to_list()\ndec_cat[0:10]",
    "outputsMetadata": {
     "0": {
      "height": 50,
      "tableState": {
       "customFilter": {
        "const": {
         "type": "boolean",
         "valid": true,
         "value": true
        },
        "id": "78fe06fd-3a9d-41fe-86f1-bcf4e4315218",
        "nodeType": "const"
       },
       "quickFilterText": ""
      },
      "type": "dataFrame"
     }
    }
   },
   "outputs": [
    {
     "data": {
      "text/plain": [
       "[('1900', 'Literature'),\n",
       " ('1900', 'Peace'),\n",
       " ('1900', 'Physics'),\n",
       " ('1910', 'Chemistry'),\n",
       " ('1920', 'Literature'),\n",
       " ('1930', 'Chemistry'),\n",
       " ('1930', 'Literature'),\n",
       " ('1930', 'Peace'),\n",
       " ('1940', 'Literature'),\n",
       " ('1940', 'Medicine')]"
      ]
     },
     "execution_count": 8,
     "metadata": {},
     "output_type": "execute_result"
    }
   ],
   "source": [
    "# aggegate to get counts per decade and category, but groupby creates a series with a multi-index\n",
    "fem_cat_decades = df_fem_cat.groupby([\"decade\", \"category\"])[\"value\"].sum()\n",
    "dec_cat = fem_cat_decades.index.to_list()\n",
    "dec_cat[0:10]"
   ]
  },
  {
   "cell_type": "code",
   "execution_count": 9,
   "id": "6fedc4cc-dae3-4d88-9869-e311eeb47a3f",
   "metadata": {
    "executionCancelledAt": null,
    "executionTime": 59,
    "lastExecutedAt": 1738723478447,
    "lastExecutedByKernel": "d17e7ac8-8fd8-468e-bffd-de8bfdf63503",
    "lastScheduledRunId": null,
    "lastSuccessfullyExecutedCode": "# break the multi-index apart so we can create a dataframe which can be joined\ndecades = [dec_cat[i][0] for i in range(len(dec_cat))]\ncategories = [dec_cat[i][1] for i in range(len(dec_cat))]\ndf_fem_cat_decs = pd.DataFrame({\"decade\": decades, \"category\": categories, \"count_women\": fem_cat_decades.values})\nprint(df_fem_cat_decs.shape)\ndf_fem_cat_decs.head()",
    "outputsMetadata": {
     "0": {
      "height": 39,
      "type": "stream"
     },
     "1": {
      "height": 550,
      "tableState": {
       "customFilter": {
        "const": {
         "type": "boolean",
         "valid": true,
         "value": true
        },
        "id": "78fe06fd-3a9d-41fe-86f1-bcf4e4315218",
        "nodeType": "const"
       },
       "quickFilterText": ""
      },
      "type": "dataFrame"
     }
    }
   },
   "outputs": [
    {
     "name": "stdout",
     "output_type": "stream",
     "text": [
      "(38, 3)\n"
     ]
    },
    {
     "data": {
      "text/html": [
       "<div>\n",
       "<style scoped>\n",
       "    .dataframe tbody tr th:only-of-type {\n",
       "        vertical-align: middle;\n",
       "    }\n",
       "\n",
       "    .dataframe tbody tr th {\n",
       "        vertical-align: top;\n",
       "    }\n",
       "\n",
       "    .dataframe thead th {\n",
       "        text-align: right;\n",
       "    }\n",
       "</style>\n",
       "<table border=\"1\" class=\"dataframe\">\n",
       "  <thead>\n",
       "    <tr style=\"text-align: right;\">\n",
       "      <th></th>\n",
       "      <th>decade</th>\n",
       "      <th>category</th>\n",
       "      <th>count_women</th>\n",
       "    </tr>\n",
       "  </thead>\n",
       "  <tbody>\n",
       "    <tr>\n",
       "      <th>0</th>\n",
       "      <td>1900</td>\n",
       "      <td>Literature</td>\n",
       "      <td>1</td>\n",
       "    </tr>\n",
       "    <tr>\n",
       "      <th>1</th>\n",
       "      <td>1900</td>\n",
       "      <td>Peace</td>\n",
       "      <td>1</td>\n",
       "    </tr>\n",
       "    <tr>\n",
       "      <th>2</th>\n",
       "      <td>1900</td>\n",
       "      <td>Physics</td>\n",
       "      <td>1</td>\n",
       "    </tr>\n",
       "    <tr>\n",
       "      <th>3</th>\n",
       "      <td>1910</td>\n",
       "      <td>Chemistry</td>\n",
       "      <td>1</td>\n",
       "    </tr>\n",
       "    <tr>\n",
       "      <th>4</th>\n",
       "      <td>1920</td>\n",
       "      <td>Literature</td>\n",
       "      <td>2</td>\n",
       "    </tr>\n",
       "  </tbody>\n",
       "</table>\n",
       "</div>"
      ],
      "text/plain": [
       "  decade    category  count_women\n",
       "0   1900  Literature            1\n",
       "1   1900       Peace            1\n",
       "2   1900     Physics            1\n",
       "3   1910   Chemistry            1\n",
       "4   1920  Literature            2"
      ]
     },
     "execution_count": 9,
     "metadata": {},
     "output_type": "execute_result"
    }
   ],
   "source": [
    "# break the multi-index apart so we can create a dataframe which can be joined\n",
    "decades = [dec_cat[i][0] for i in range(len(dec_cat))]\n",
    "categories = [dec_cat[i][1] for i in range(len(dec_cat))]\n",
    "df_fem_cat_decs = pd.DataFrame({\"decade\": decades, \"category\": categories, \"count_women\": fem_cat_decades.values})\n",
    "print(df_fem_cat_decs.shape)\n",
    "df_fem_cat_decs.head()"
   ]
  },
  {
   "cell_type": "code",
   "execution_count": 10,
   "id": "cf1c5878-5d62-437c-92d0-880f0917a2f7",
   "metadata": {
    "executionCancelledAt": null,
    "executionTime": 51,
    "lastExecutedAt": 1738723478498,
    "lastExecutedByKernel": "d17e7ac8-8fd8-468e-bffd-de8bfdf63503",
    "lastScheduledRunId": null,
    "lastSuccessfullyExecutedCode": "df_all_cat = df_nobel.loc[:, [\"year\", \"category\"]]\n# create decade column\ndf_all_cat['decade'] = df_all_cat[\"year\"].astype(str).str[:3] + \"0\"\ndf_all_cat['value'] = 1\ndf_all_cat.head()\nall_cat_decades = df_all_cat.groupby([\"decade\", \"category\"])[\"value\"].sum()\nall_cat_decades.head()",
    "outputsMetadata": {
     "0": {
      "height": 550,
      "tableState": {
       "customFilter": {
        "const": {
         "type": "boolean",
         "valid": true,
         "value": true
        },
        "id": "78fe06fd-3a9d-41fe-86f1-bcf4e4315218",
        "nodeType": "const"
       },
       "quickFilterText": ""
      },
      "type": "dataFrame"
     }
    }
   },
   "outputs": [
    {
     "data": {
      "text/plain": [
       "decade  category  \n",
       "1900    Chemistry      9\n",
       "        Literature    10\n",
       "        Medicine      11\n",
       "        Peace         14\n",
       "        Physics       13\n",
       "Name: value, dtype: int64"
      ]
     },
     "execution_count": 10,
     "metadata": {},
     "output_type": "execute_result"
    }
   ],
   "source": [
    "df_all_cat = df_nobel.loc[:, [\"year\", \"category\"]]\n",
    "# create decade column\n",
    "df_all_cat['decade'] = df_all_cat[\"year\"].astype(str).str[:3] + \"0\"\n",
    "df_all_cat['value'] = 1\n",
    "df_all_cat.head()\n",
    "all_cat_decades = df_all_cat.groupby([\"decade\", \"category\"])[\"value\"].sum()\n",
    "all_cat_decades.head()"
   ]
  },
  {
   "cell_type": "code",
   "execution_count": 11,
   "id": "895a7b75-d4d9-4ce4-9c82-ba955f8cd0c7",
   "metadata": {
    "executionCancelledAt": null,
    "executionTime": 57,
    "lastExecutedAt": 1738723478555,
    "lastExecutedByKernel": "d17e7ac8-8fd8-468e-bffd-de8bfdf63503",
    "lastScheduledRunId": null,
    "lastSuccessfullyExecutedCode": "dec_cat_all = all_cat_decades.index.to_list()\n# dec_cat_all[0:10]\n\n# break the multi-index apart so we can create a dataframe which can be joined\ndecades_all = [dec_cat_all[i][0] for i in range(len(dec_cat_all))]\ncategories_all = [dec_cat_all[i][1] for i in range(len(dec_cat_all))]\n# print(len(decades_all), len(categories_all), len(all_cat_decades.values))\ndf_all_cat_decs = pd.DataFrame({\"decade\": decades_all, \"category\": categories_all, \"count_all\": all_cat_decades.values})\n# print(df_all_cat_decs.shape)\ndf_all_cat_decs.head()",
    "outputsMetadata": {
     "0": {
      "height": 550,
      "tableState": {
       "customFilter": {
        "const": {
         "type": "boolean",
         "valid": true,
         "value": true
        },
        "id": "78fe06fd-3a9d-41fe-86f1-bcf4e4315218",
        "nodeType": "const"
       },
       "quickFilterText": ""
      },
      "type": "dataFrame"
     }
    }
   },
   "outputs": [
    {
     "data": {
      "text/html": [
       "<div>\n",
       "<style scoped>\n",
       "    .dataframe tbody tr th:only-of-type {\n",
       "        vertical-align: middle;\n",
       "    }\n",
       "\n",
       "    .dataframe tbody tr th {\n",
       "        vertical-align: top;\n",
       "    }\n",
       "\n",
       "    .dataframe thead th {\n",
       "        text-align: right;\n",
       "    }\n",
       "</style>\n",
       "<table border=\"1\" class=\"dataframe\">\n",
       "  <thead>\n",
       "    <tr style=\"text-align: right;\">\n",
       "      <th></th>\n",
       "      <th>decade</th>\n",
       "      <th>category</th>\n",
       "      <th>count_all</th>\n",
       "    </tr>\n",
       "  </thead>\n",
       "  <tbody>\n",
       "    <tr>\n",
       "      <th>0</th>\n",
       "      <td>1900</td>\n",
       "      <td>Chemistry</td>\n",
       "      <td>9</td>\n",
       "    </tr>\n",
       "    <tr>\n",
       "      <th>1</th>\n",
       "      <td>1900</td>\n",
       "      <td>Literature</td>\n",
       "      <td>10</td>\n",
       "    </tr>\n",
       "    <tr>\n",
       "      <th>2</th>\n",
       "      <td>1900</td>\n",
       "      <td>Medicine</td>\n",
       "      <td>11</td>\n",
       "    </tr>\n",
       "    <tr>\n",
       "      <th>3</th>\n",
       "      <td>1900</td>\n",
       "      <td>Peace</td>\n",
       "      <td>14</td>\n",
       "    </tr>\n",
       "    <tr>\n",
       "      <th>4</th>\n",
       "      <td>1900</td>\n",
       "      <td>Physics</td>\n",
       "      <td>13</td>\n",
       "    </tr>\n",
       "  </tbody>\n",
       "</table>\n",
       "</div>"
      ],
      "text/plain": [
       "  decade    category  count_all\n",
       "0   1900   Chemistry          9\n",
       "1   1900  Literature         10\n",
       "2   1900    Medicine         11\n",
       "3   1900       Peace         14\n",
       "4   1900     Physics         13"
      ]
     },
     "execution_count": 11,
     "metadata": {},
     "output_type": "execute_result"
    }
   ],
   "source": [
    "dec_cat_all = all_cat_decades.index.to_list()\n",
    "# dec_cat_all[0:10]\n",
    "\n",
    "# break the multi-index apart so we can create a dataframe which can be joined\n",
    "decades_all = [dec_cat_all[i][0] for i in range(len(dec_cat_all))]\n",
    "categories_all = [dec_cat_all[i][1] for i in range(len(dec_cat_all))]\n",
    "# print(len(decades_all), len(categories_all), len(all_cat_decades.values))\n",
    "df_all_cat_decs = pd.DataFrame({\"decade\": decades_all, \"category\": categories_all, \"count_all\": all_cat_decades.values})\n",
    "# print(df_all_cat_decs.shape)\n",
    "df_all_cat_decs.head()"
   ]
  },
  {
   "cell_type": "code",
   "execution_count": 12,
   "id": "d0a640e6-ebd8-4f12-a0cf-4cd4b9e30f81",
   "metadata": {
    "executionCancelledAt": null,
    "executionTime": 51,
    "lastExecutedAt": 1738723478606,
    "lastExecutedByKernel": "d17e7ac8-8fd8-468e-bffd-de8bfdf63503",
    "lastScheduledRunId": null,
    "lastSuccessfullyExecutedCode": "# Join the female and all winner dataframes together\n\ndf_female_all = pd.merge(df_fem_cat_decs, df_all_cat_decs, how=\"left\", on=[\"decade\", \"category\"])\ndf_female_all[\"prop_female\"] = df_female_all[\"count_women\"] / df_female_all[\"count_all\"]\ndf_female_all.sort_values(by=\"prop_female\", ascending=False, inplace=True)\n# print(df_female_all.shape)\ndf_female_all.head()  # 2020, 0.5 in Literature",
    "outputsMetadata": {
     "0": {
      "height": 500,
      "tableState": {
       "quickFilterText": ""
      },
      "type": "dataFrame"
     },
     "1": {
      "height": 550,
      "tableState": {
       "customFilter": {
        "const": {
         "type": "boolean",
         "valid": true,
         "value": true
        },
        "id": "78fe06fd-3a9d-41fe-86f1-bcf4e4315218",
        "nodeType": "const"
       },
       "quickFilterText": ""
      },
      "type": "dataFrame"
     }
    }
   },
   "outputs": [
    {
     "data": {
      "text/html": [
       "<div>\n",
       "<style scoped>\n",
       "    .dataframe tbody tr th:only-of-type {\n",
       "        vertical-align: middle;\n",
       "    }\n",
       "\n",
       "    .dataframe tbody tr th {\n",
       "        vertical-align: top;\n",
       "    }\n",
       "\n",
       "    .dataframe thead th {\n",
       "        text-align: right;\n",
       "    }\n",
       "</style>\n",
       "<table border=\"1\" class=\"dataframe\">\n",
       "  <thead>\n",
       "    <tr style=\"text-align: right;\">\n",
       "      <th></th>\n",
       "      <th>decade</th>\n",
       "      <th>category</th>\n",
       "      <th>count_women</th>\n",
       "      <th>count_all</th>\n",
       "      <th>prop_female</th>\n",
       "    </tr>\n",
       "  </thead>\n",
       "  <tbody>\n",
       "    <tr>\n",
       "      <th>34</th>\n",
       "      <td>2020</td>\n",
       "      <td>Literature</td>\n",
       "      <td>2</td>\n",
       "      <td>4</td>\n",
       "      <td>0.500000</td>\n",
       "    </tr>\n",
       "    <tr>\n",
       "      <th>30</th>\n",
       "      <td>2010</td>\n",
       "      <td>Peace</td>\n",
       "      <td>5</td>\n",
       "      <td>14</td>\n",
       "      <td>0.357143</td>\n",
       "    </tr>\n",
       "    <tr>\n",
       "      <th>23</th>\n",
       "      <td>2000</td>\n",
       "      <td>Literature</td>\n",
       "      <td>3</td>\n",
       "      <td>10</td>\n",
       "      <td>0.300000</td>\n",
       "    </tr>\n",
       "    <tr>\n",
       "      <th>18</th>\n",
       "      <td>1990</td>\n",
       "      <td>Literature</td>\n",
       "      <td>3</td>\n",
       "      <td>10</td>\n",
       "      <td>0.300000</td>\n",
       "    </tr>\n",
       "    <tr>\n",
       "      <th>28</th>\n",
       "      <td>2010</td>\n",
       "      <td>Literature</td>\n",
       "      <td>3</td>\n",
       "      <td>10</td>\n",
       "      <td>0.300000</td>\n",
       "    </tr>\n",
       "  </tbody>\n",
       "</table>\n",
       "</div>"
      ],
      "text/plain": [
       "   decade    category  count_women  count_all  prop_female\n",
       "34   2020  Literature            2          4     0.500000\n",
       "30   2010       Peace            5         14     0.357143\n",
       "23   2000  Literature            3         10     0.300000\n",
       "18   1990  Literature            3         10     0.300000\n",
       "28   2010  Literature            3         10     0.300000"
      ]
     },
     "execution_count": 12,
     "metadata": {},
     "output_type": "execute_result"
    }
   ],
   "source": [
    "# Join the female and all winner dataframes together\n",
    "\n",
    "df_female_all = pd.merge(df_fem_cat_decs, df_all_cat_decs, how=\"left\", on=[\"decade\", \"category\"])\n",
    "df_female_all[\"prop_female\"] = df_female_all[\"count_women\"] / df_female_all[\"count_all\"]\n",
    "df_female_all.sort_values(by=\"prop_female\", ascending=False, inplace=True)\n",
    "# print(df_female_all.shape)\n",
    "df_female_all.head()  # 2020, 0.5 in Literature"
   ]
  },
  {
   "cell_type": "code",
   "execution_count": 13,
   "id": "9d5c694f-f452-4821-99a6-40c8eec23d49",
   "metadata": {
    "executionCancelledAt": null,
    "executionTime": 48,
    "lastExecutedAt": 1738723478654,
    "lastExecutedByKernel": "d17e7ac8-8fd8-468e-bffd-de8bfdf63503",
    "lastScheduledRunId": null,
    "lastSuccessfullyExecutedCode": "df_max_female = df_female_all.iloc[:1, :]\nmax_female_decade = int(df_max_female.iloc[:1, 0].values[0])\nmax_female_category = df_max_female.iloc[:1, 1].values[0]\n# print(max_female_decade, max_female_category)\nmax_female_dict = {max_female_decade : max_female_category}",
    "outputsMetadata": {
     "0": {
      "height": 38,
      "type": "stream"
     },
     "1": {
      "height": 50,
      "tableState": {
       "customFilter": {
        "const": {
         "type": "boolean",
         "valid": true,
         "value": true
        },
        "id": "78fe06fd-3a9d-41fe-86f1-bcf4e4315218",
        "nodeType": "const"
       },
       "quickFilterText": ""
      },
      "type": "dataFrame"
     }
    }
   },
   "outputs": [],
   "source": [
    "df_max_female = df_female_all.iloc[:1, :]\n",
    "max_female_decade = int(df_max_female.iloc[:1, 0].values[0])\n",
    "max_female_category = df_max_female.iloc[:1, 1].values[0]\n",
    "# print(max_female_decade, max_female_category)\n",
    "max_female_dict = {max_female_decade : max_female_category}"
   ]
  },
  {
   "cell_type": "markdown",
   "id": "f8d9bec0-c5ac-4df3-81cc-a192a0cd361c",
   "metadata": {
    "executionCancelledAt": null,
    "executionTime": 46,
    "lastExecutedAt": 1738713212168,
    "lastExecutedByKernel": "34e2fca3-7a90-4ac9-9177-1ee77cc56cf9",
    "lastScheduledRunId": null,
    "lastSuccessfullyExecutedCode": ""
   },
   "source": [
    "## Who was the first woman to receive a Nobel Prize, and in what category?"
   ]
  },
  {
   "cell_type": "code",
   "execution_count": 14,
   "id": "0414e512-f828-4beb-a0e3-4ddaa36a3cdb",
   "metadata": {
    "executionCancelledAt": null,
    "executionTime": 57,
    "lastExecutedAt": 1738723478711,
    "lastExecutedByKernel": "d17e7ac8-8fd8-468e-bffd-de8bfdf63503",
    "lastScheduledRunId": null,
    "lastSuccessfullyExecutedCode": "df_fem_year_cat_name = df_nobel.loc[df_sex_cat['sex'] == 'Female']\ndf_fem_sorted = df_fem_year_cat_name.loc[:, ['year', 'category', 'full_name']].sort_values(\"year\")\ndf_first_woman = df_fem_sorted.iloc[:1, :]\ndf_first_woman",
    "outputsMetadata": {
     "0": {
      "height": 500,
      "tableState": {
       "quickFilterText": ""
      },
      "type": "dataFrame"
     }
    }
   },
   "outputs": [
    {
     "data": {
      "text/html": [
       "<div>\n",
       "<style scoped>\n",
       "    .dataframe tbody tr th:only-of-type {\n",
       "        vertical-align: middle;\n",
       "    }\n",
       "\n",
       "    .dataframe tbody tr th {\n",
       "        vertical-align: top;\n",
       "    }\n",
       "\n",
       "    .dataframe thead th {\n",
       "        text-align: right;\n",
       "    }\n",
       "</style>\n",
       "<table border=\"1\" class=\"dataframe\">\n",
       "  <thead>\n",
       "    <tr style=\"text-align: right;\">\n",
       "      <th></th>\n",
       "      <th>year</th>\n",
       "      <th>category</th>\n",
       "      <th>full_name</th>\n",
       "    </tr>\n",
       "  </thead>\n",
       "  <tbody>\n",
       "    <tr>\n",
       "      <th>19</th>\n",
       "      <td>1903</td>\n",
       "      <td>Physics</td>\n",
       "      <td>Marie Curie, née Sklodowska</td>\n",
       "    </tr>\n",
       "  </tbody>\n",
       "</table>\n",
       "</div>"
      ],
      "text/plain": [
       "    year category                    full_name\n",
       "19  1903  Physics  Marie Curie, née Sklodowska"
      ]
     },
     "execution_count": 14,
     "metadata": {},
     "output_type": "execute_result"
    }
   ],
   "source": [
    "df_fem_year_cat_name = df_nobel.loc[df_sex_cat['sex'] == 'Female']\n",
    "df_fem_sorted = df_fem_year_cat_name.loc[:, ['year', 'category', 'full_name']].sort_values(\"year\")\n",
    "df_first_woman = df_fem_sorted.iloc[:1, :]\n",
    "df_first_woman"
   ]
  },
  {
   "cell_type": "code",
   "execution_count": 15,
   "id": "7d03faef-d843-4f7d-a922-e326b4614c6b",
   "metadata": {
    "executionCancelledAt": null,
    "executionTime": 49,
    "lastExecutedAt": 1738723478760,
    "lastExecutedByKernel": "d17e7ac8-8fd8-468e-bffd-de8bfdf63503",
    "lastScheduledRunId": null,
    "lastSuccessfullyExecutedCode": "first_woman_name = df_first_woman['full_name'].values[0]\nfirst_woman_category = df_first_woman['category'].values[0]\nprint(first_woman_name, first_woman_category)",
    "outputsMetadata": {
     "0": {
      "height": 38,
      "type": "stream"
     },
     "1": {
      "height": 500,
      "tableState": {
       "quickFilterText": ""
      },
      "type": "dataFrame"
     }
    }
   },
   "outputs": [
    {
     "name": "stdout",
     "output_type": "stream",
     "text": [
      "Marie Curie, née Sklodowska Physics\n"
     ]
    }
   ],
   "source": [
    "first_woman_name = df_first_woman['full_name'].values[0]\n",
    "first_woman_category = df_first_woman['category'].values[0]\n",
    "print(first_woman_name, first_woman_category)"
   ]
  },
  {
   "cell_type": "markdown",
   "id": "b5c93fc2-8fc9-4785-aec8-7abd9e8ca596",
   "metadata": {},
   "source": [
    "## Which individuals or organizations have won more than one Nobel Prize throughout the years?\n",
    "\n",
    "<s>Next couple of cells shows that there are far more organization repeats than individuals (which makes sense intuitively) and that **University of California** has won the most Nobel's.</s>\n",
    "\n",
    "Just need to look at the `full_name` column (originally through I needed to look at `organization_name`, but this is not the case)."
   ]
  },
  {
   "cell_type": "code",
   "execution_count": 16,
   "id": "54dbd3ee-4eb0-40ea-ad8b-7da4d26de53b",
   "metadata": {
    "executionCancelledAt": null,
    "executionTime": 55,
    "lastExecutedAt": 1738723478815,
    "lastExecutedByKernel": "d17e7ac8-8fd8-468e-bffd-de8bfdf63503",
    "lastScheduledRunId": null,
    "lastSuccessfullyExecutedCode": "df_names_orgs = df_nobel.loc[:, ['full_name', 'organization_name']]\nname_counts = df_names_orgs.value_counts(subset='full_name', ascending=False)\nprint(name_counts.shape[0])  # 993 org's before removing singletons\nnames_more_than_once = name_counts.loc[lambda x: x > 1]\nprint(names_more_than_once.shape[0])\nprint(type(names_more_than_once))\nnames_list = names_more_than_once.index.to_list()\nnames_list[:10]",
    "outputsMetadata": {
     "0": {
      "height": 80,
      "type": "stream"
     },
     "1": {
      "height": 500,
      "tableState": {
       "quickFilterText": ""
      },
      "type": "dataFrame"
     }
    }
   },
   "outputs": [
    {
     "name": "stdout",
     "output_type": "stream",
     "text": [
      "993\n",
      "6\n",
      "<class 'pandas.core.series.Series'>\n"
     ]
    },
    {
     "data": {
      "text/plain": [
       "['Comité international de la Croix Rouge (International Committee of the Red Cross)',\n",
       " 'Office of the United Nations High Commissioner for Refugees (UNHCR)',\n",
       " 'Frederick Sanger',\n",
       " 'Linus Carl Pauling',\n",
       " 'John Bardeen',\n",
       " 'Marie Curie, née Sklodowska']"
      ]
     },
     "execution_count": 16,
     "metadata": {},
     "output_type": "execute_result"
    }
   ],
   "source": [
    "df_names_orgs = df_nobel.loc[:, ['full_name', 'organization_name']]\n",
    "name_counts = df_names_orgs.value_counts(subset='full_name', ascending=False)\n",
    "print(name_counts.shape[0])  # 993 org's before removing singletons\n",
    "names_more_than_once = name_counts.loc[lambda x: x > 1]\n",
    "print(names_more_than_once.shape[0])\n",
    "print(type(names_more_than_once))\n",
    "names_list = names_more_than_once.index.to_list()\n",
    "names_list[:10]"
   ]
  },
  {
   "cell_type": "code",
   "execution_count": 17,
   "id": "5941e39e-8a9e-4f45-8b54-7f5d1536d8c2",
   "metadata": {
    "executionCancelledAt": null,
    "executionTime": 47,
    "lastExecutedAt": 1738723478862,
    "lastExecutedByKernel": "d17e7ac8-8fd8-468e-bffd-de8bfdf63503",
    "lastScheduledRunId": null,
    "lastSuccessfullyExecutedCode": "# org_counts = df_names_orgs.value_counts(subset='organization_name', ascending=False)\n# print(org_counts.shape[0])  # 325 before filtering out singletons\n# orgs_more_than_once = org_counts.loc[lambda x: x > 1]\n# print(orgs_more_than_once.shape[0])  # 102 after filtering out singletons\n# orgs_list = orgs_more_than_once.index.to_list()\n# orgs_list[:10]",
    "outputsMetadata": {
     "0": {
      "height": 59,
      "type": "stream"
     },
     "1": {
      "height": 500,
      "tableState": {
       "quickFilterText": ""
      },
      "type": "dataFrame"
     }
    }
   },
   "outputs": [],
   "source": [
    "# org_counts = df_names_orgs.value_counts(subset='organization_name', ascending=False)\n",
    "# print(org_counts.shape[0])  # 325 before filtering out singletons\n",
    "# orgs_more_than_once = org_counts.loc[lambda x: x > 1]\n",
    "# print(orgs_more_than_once.shape[0])  # 102 after filtering out singletons\n",
    "# orgs_list = orgs_more_than_once.index.to_list()\n",
    "# orgs_list[:10]"
   ]
  },
  {
   "cell_type": "code",
   "execution_count": 18,
   "id": "91c2601c-2c84-48e2-bdad-1f43873986f3",
   "metadata": {
    "executionCancelledAt": null,
    "executionTime": 48,
    "lastExecutedAt": 1738723478911,
    "lastExecutedByKernel": "d17e7ac8-8fd8-468e-bffd-de8bfdf63503",
    "lastScheduledRunId": null,
    "lastSuccessfullyExecutedCode": "repeat_set = set(names_list)  # remove duplicates\nrepeat_list = list(repeat_set)\nprint(len(repeat_list))\nrepeat_list",
    "outputsMetadata": {
     "0": {
      "height": 38,
      "type": "stream"
     }
    }
   },
   "outputs": [
    {
     "name": "stdout",
     "output_type": "stream",
     "text": [
      "6\n"
     ]
    },
    {
     "data": {
      "text/plain": [
       "['Frederick Sanger',\n",
       " 'Comité international de la Croix Rouge (International Committee of the Red Cross)',\n",
       " 'John Bardeen',\n",
       " 'Marie Curie, née Sklodowska',\n",
       " 'Office of the United Nations High Commissioner for Refugees (UNHCR)',\n",
       " 'Linus Carl Pauling']"
      ]
     },
     "execution_count": 18,
     "metadata": {},
     "output_type": "execute_result"
    }
   ],
   "source": [
    "repeat_set = set(names_list)  # remove duplicates\n",
    "repeat_list = list(repeat_set)\n",
    "print(len(repeat_list))\n",
    "repeat_list"
   ]
  },
  {
   "cell_type": "code",
   "execution_count": null,
   "id": "c9adc103-541a-468a-b5b4-20e88ea429d7",
   "metadata": {
    "executionCancelledAt": null,
    "executionTime": 47,
    "lastExecutedAt": 1738723478958,
    "lastExecutedByKernel": "d17e7ac8-8fd8-468e-bffd-de8bfdf63503",
    "lastScheduledRunId": null,
    "lastSuccessfullyExecutedCode": ""
   },
   "outputs": [],
   "source": []
  },
  {
   "cell_type": "code",
   "execution_count": null,
   "id": "1b9e3240-3b4d-4e0f-a12a-c1cba47d03a2",
   "metadata": {
    "executionCancelledAt": null,
    "executionTime": 52,
    "lastExecutedAt": 1738723479010,
    "lastExecutedByKernel": "d17e7ac8-8fd8-468e-bffd-de8bfdf63503",
    "lastScheduledRunId": null,
    "lastSuccessfullyExecutedCode": ""
   },
   "outputs": [],
   "source": []
  }
 ],
 "metadata": {
  "editor": "DataLab",
  "kernelspec": {
   "display_name": "Python 3 (ipykernel)",
   "language": "python",
   "name": "python3"
  },
  "language_info": {
   "codemirror_mode": {
    "name": "ipython",
    "version": 3
   },
   "file_extension": ".py",
   "mimetype": "text/x-python",
   "name": "python",
   "nbconvert_exporter": "python",
   "pygments_lexer": "ipython3",
   "version": "3.11.6"
  }
 },
 "nbformat": 4,
 "nbformat_minor": 5
}
