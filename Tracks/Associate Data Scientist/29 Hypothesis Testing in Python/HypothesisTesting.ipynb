{
 "cells": [
  {
   "cell_type": "markdown",
   "id": "81d59dd5-be17-4d12-b167-1bf0d19ccbdb",
   "metadata": {},
   "source": [
    "## Hypothesis tests and z-scores\n",
    "\n",
    "Hypothesis testing use case:\n",
    "\n",
    "***Determine whether sample statistics are close to or far away from expected (of hypothesized) values***"
   ]
  },
  {
   "cell_type": "code",
   "execution_count": 1,
   "id": "f000a883-b10b-4e22-91bb-9716e35e234c",
   "metadata": {
    "scrolled": true
   },
   "outputs": [
    {
     "name": "stdout",
     "output_type": "stream",
     "text": [
      "<class 'pandas.core.frame.DataFrame'>\n",
      "RangeIndex: 2261 entries, 0 to 2260\n",
      "Data columns (total 63 columns):\n",
      " #   Column                             Non-Null Count  Dtype   \n",
      "---  ------                             --------------  -----   \n",
      " 0   respondent                         2261 non-null   float64 \n",
      " 1   main_branch                        2261 non-null   object  \n",
      " 2   hobbyist                           2261 non-null   object  \n",
      " 3   age                                2261 non-null   float64 \n",
      " 4   age_1st_code                       2261 non-null   float64 \n",
      " 5   age_first_code_cut                 2261 non-null   object  \n",
      " 6   comp_freq                          2261 non-null   object  \n",
      " 7   comp_total                         2261 non-null   float64 \n",
      " 8   converted_comp                     2261 non-null   float64 \n",
      " 9   country                            2261 non-null   object  \n",
      " 10  currency_desc                      2261 non-null   object  \n",
      " 11  currency_symbol                    2261 non-null   object  \n",
      " 12  database_desire_next_year          1687 non-null   object  \n",
      " 13  database_worked_with               1934 non-null   object  \n",
      " 14  dev_type                           2261 non-null   object  \n",
      " 15  ed_level                           2246 non-null   object  \n",
      " 16  employment                         2261 non-null   object  \n",
      " 17  ethnicity                          2092 non-null   object  \n",
      " 18  gender                             2228 non-null   object  \n",
      " 19  job_factors                        2233 non-null   object  \n",
      " 20  job_sat                            2261 non-null   category\n",
      " 21  job_seek                           2261 non-null   object  \n",
      " 22  language_desire_next_year          2160 non-null   object  \n",
      " 23  language_worked_with               2254 non-null   object  \n",
      " 24  misc_tech_desire_next_year         1954 non-null   object  \n",
      " 25  misc_tech_worked_with              1964 non-null   object  \n",
      " 26  new_collab_tools_desire_next_year  2023 non-null   object  \n",
      " 27  new_collab_tools_worked_with       2192 non-null   object  \n",
      " 28  new_dev_ops                        2245 non-null   object  \n",
      " 29  new_dev_ops_impt                   2183 non-null   object  \n",
      " 30  new_ed_impt                        2246 non-null   object  \n",
      " 31  new_job_hunt                       2191 non-null   object  \n",
      " 32  new_job_hunt_research              2149 non-null   object  \n",
      " 33  new_learn                          2223 non-null   object  \n",
      " 34  new_off_topic                      2155 non-null   object  \n",
      " 35  new_onboard_good                   2244 non-null   object  \n",
      " 36  new_other_comms                    2257 non-null   object  \n",
      " 37  new_overtime                       2255 non-null   object  \n",
      " 38  new_purchase_research              1480 non-null   object  \n",
      " 39  purple_link                        2261 non-null   object  \n",
      " 40  newso_sites                        2257 non-null   object  \n",
      " 41  new_stuck                          2232 non-null   object  \n",
      " 42  op_sys                             2245 non-null   object  \n",
      " 43  org_size                           2223 non-null   object  \n",
      " 44  platform_desire_next_year          2065 non-null   object  \n",
      " 45  platform_worked_with               2170 non-null   object  \n",
      " 46  purchase_what                      2053 non-null   object  \n",
      " 47  sexuality                          2054 non-null   object  \n",
      " 48  so_account                         2247 non-null   object  \n",
      " 49  so_comm                            2248 non-null   object  \n",
      " 50  so_part_freq                       1884 non-null   object  \n",
      " 51  so_visit_freq                      2248 non-null   object  \n",
      " 52  survey_ease                        2248 non-null   object  \n",
      " 53  survey_length                      2251 non-null   object  \n",
      " 54  trans                              2199 non-null   object  \n",
      " 55  undergrad_major                    2151 non-null   object  \n",
      " 56  webframe_desire_next_year          1336 non-null   object  \n",
      " 57  webframe_worked_with               1452 non-null   object  \n",
      " 58  welcome_change                     2199 non-null   object  \n",
      " 59  work_week_hrs                      2219 non-null   float64 \n",
      " 60  years_code                         2261 non-null   float64 \n",
      " 61  years_code_pro                     2261 non-null   float64 \n",
      " 62  age_cat                            2261 non-null   object  \n",
      "dtypes: category(1), float64(8), object(54)\n",
      "memory usage: 1.1+ MB\n",
      "None\n",
      "119574.71738168952\n"
     ]
    }
   ],
   "source": [
    "import pandas as pd\n",
    "\n",
    "stack_overflow = pd.read_feather('./data/stack_overflow.feather')\n",
    "print(stack_overflow.info())\n",
    "mean_comp_samp = stack_overflow['converted_comp'].mean()  # point estimate of compensation\n",
    "print(mean_comp_samp)"
   ]
  },
  {
   "cell_type": "code",
   "execution_count": 2,
   "id": "020ab1be-7879-47bd-b10f-19fe4e3264e8",
   "metadata": {},
   "outputs": [
    {
     "data": {
      "text/plain": [
       "age_first_code_cut\n",
       "adult    1376\n",
       "child     885\n",
       "Name: count, dtype: int64"
      ]
     },
     "execution_count": 2,
     "metadata": {},
     "output_type": "execute_result"
    }
   ],
   "source": [
    "stack_overflow[\"age_first_code_cut\"].value_counts()"
   ]
  },
  {
   "cell_type": "code",
   "execution_count": 3,
   "id": "42b90ac3-4534-43dd-90c0-21d4390d07af",
   "metadata": {},
   "outputs": [
    {
     "data": {
      "text/html": [
       "<div>\n",
       "<style scoped>\n",
       "    .dataframe tbody tr th:only-of-type {\n",
       "        vertical-align: middle;\n",
       "    }\n",
       "\n",
       "    .dataframe tbody tr th {\n",
       "        vertical-align: top;\n",
       "    }\n",
       "\n",
       "    .dataframe thead th {\n",
       "        text-align: right;\n",
       "    }\n",
       "</style>\n",
       "<table border=\"1\" class=\"dataframe\">\n",
       "  <thead>\n",
       "    <tr style=\"text-align: right;\">\n",
       "      <th></th>\n",
       "      <th>respondent</th>\n",
       "      <th>main_branch</th>\n",
       "      <th>hobbyist</th>\n",
       "      <th>age</th>\n",
       "      <th>age_1st_code</th>\n",
       "      <th>age_first_code_cut</th>\n",
       "      <th>comp_freq</th>\n",
       "      <th>comp_total</th>\n",
       "      <th>converted_comp</th>\n",
       "      <th>country</th>\n",
       "      <th>...</th>\n",
       "      <th>survey_length</th>\n",
       "      <th>trans</th>\n",
       "      <th>undergrad_major</th>\n",
       "      <th>webframe_desire_next_year</th>\n",
       "      <th>webframe_worked_with</th>\n",
       "      <th>welcome_change</th>\n",
       "      <th>work_week_hrs</th>\n",
       "      <th>years_code</th>\n",
       "      <th>years_code_pro</th>\n",
       "      <th>age_cat</th>\n",
       "    </tr>\n",
       "  </thead>\n",
       "  <tbody>\n",
       "    <tr>\n",
       "      <th>0</th>\n",
       "      <td>36.0</td>\n",
       "      <td>I am not primarily a developer, but I write co...</td>\n",
       "      <td>Yes</td>\n",
       "      <td>34.0</td>\n",
       "      <td>30.0</td>\n",
       "      <td>adult</td>\n",
       "      <td>Yearly</td>\n",
       "      <td>60000.0</td>\n",
       "      <td>77556.0</td>\n",
       "      <td>United Kingdom</td>\n",
       "      <td>...</td>\n",
       "      <td>Appropriate in length</td>\n",
       "      <td>No</td>\n",
       "      <td>Computer science, computer engineering, or sof...</td>\n",
       "      <td>Express;React.js</td>\n",
       "      <td>Express;React.js</td>\n",
       "      <td>Just as welcome now as I felt last year</td>\n",
       "      <td>40.0</td>\n",
       "      <td>4.0</td>\n",
       "      <td>3.0</td>\n",
       "      <td>At least 30</td>\n",
       "    </tr>\n",
       "    <tr>\n",
       "      <th>1</th>\n",
       "      <td>47.0</td>\n",
       "      <td>I am a developer by profession</td>\n",
       "      <td>Yes</td>\n",
       "      <td>53.0</td>\n",
       "      <td>10.0</td>\n",
       "      <td>child</td>\n",
       "      <td>Yearly</td>\n",
       "      <td>58000.0</td>\n",
       "      <td>74970.0</td>\n",
       "      <td>United Kingdom</td>\n",
       "      <td>...</td>\n",
       "      <td>Appropriate in length</td>\n",
       "      <td>No</td>\n",
       "      <td>A natural science (such as biology, chemistry,...</td>\n",
       "      <td>Flask;Spring</td>\n",
       "      <td>Flask;Spring</td>\n",
       "      <td>Just as welcome now as I felt last year</td>\n",
       "      <td>40.0</td>\n",
       "      <td>43.0</td>\n",
       "      <td>28.0</td>\n",
       "      <td>At least 30</td>\n",
       "    </tr>\n",
       "    <tr>\n",
       "      <th>2</th>\n",
       "      <td>69.0</td>\n",
       "      <td>I am a developer by profession</td>\n",
       "      <td>Yes</td>\n",
       "      <td>25.0</td>\n",
       "      <td>12.0</td>\n",
       "      <td>child</td>\n",
       "      <td>Yearly</td>\n",
       "      <td>550000.0</td>\n",
       "      <td>594539.0</td>\n",
       "      <td>France</td>\n",
       "      <td>...</td>\n",
       "      <td>Too short</td>\n",
       "      <td>No</td>\n",
       "      <td>Computer science, computer engineering, or sof...</td>\n",
       "      <td>Django;Flask</td>\n",
       "      <td>Django;Flask</td>\n",
       "      <td>Just as welcome now as I felt last year</td>\n",
       "      <td>40.0</td>\n",
       "      <td>13.0</td>\n",
       "      <td>3.0</td>\n",
       "      <td>Under 30</td>\n",
       "    </tr>\n",
       "    <tr>\n",
       "      <th>3</th>\n",
       "      <td>125.0</td>\n",
       "      <td>I am not primarily a developer, but I write co...</td>\n",
       "      <td>Yes</td>\n",
       "      <td>41.0</td>\n",
       "      <td>30.0</td>\n",
       "      <td>adult</td>\n",
       "      <td>Monthly</td>\n",
       "      <td>200000.0</td>\n",
       "      <td>2000000.0</td>\n",
       "      <td>United States</td>\n",
       "      <td>...</td>\n",
       "      <td>Appropriate in length</td>\n",
       "      <td>No</td>\n",
       "      <td>None</td>\n",
       "      <td>None</td>\n",
       "      <td>None</td>\n",
       "      <td>Just as welcome now as I felt last year</td>\n",
       "      <td>40.0</td>\n",
       "      <td>11.0</td>\n",
       "      <td>11.0</td>\n",
       "      <td>At least 30</td>\n",
       "    </tr>\n",
       "    <tr>\n",
       "      <th>4</th>\n",
       "      <td>147.0</td>\n",
       "      <td>I am not primarily a developer, but I write co...</td>\n",
       "      <td>No</td>\n",
       "      <td>28.0</td>\n",
       "      <td>15.0</td>\n",
       "      <td>adult</td>\n",
       "      <td>Yearly</td>\n",
       "      <td>50000.0</td>\n",
       "      <td>37816.0</td>\n",
       "      <td>Canada</td>\n",
       "      <td>...</td>\n",
       "      <td>Appropriate in length</td>\n",
       "      <td>No</td>\n",
       "      <td>Another engineering discipline (such as civil,...</td>\n",
       "      <td>None</td>\n",
       "      <td>Express;Flask</td>\n",
       "      <td>Just as welcome now as I felt last year</td>\n",
       "      <td>40.0</td>\n",
       "      <td>5.0</td>\n",
       "      <td>3.0</td>\n",
       "      <td>Under 30</td>\n",
       "    </tr>\n",
       "  </tbody>\n",
       "</table>\n",
       "<p>5 rows × 63 columns</p>\n",
       "</div>"
      ],
      "text/plain": [
       "   respondent                                        main_branch hobbyist  \\\n",
       "0        36.0  I am not primarily a developer, but I write co...      Yes   \n",
       "1        47.0                     I am a developer by profession      Yes   \n",
       "2        69.0                     I am a developer by profession      Yes   \n",
       "3       125.0  I am not primarily a developer, but I write co...      Yes   \n",
       "4       147.0  I am not primarily a developer, but I write co...       No   \n",
       "\n",
       "    age  age_1st_code age_first_code_cut comp_freq  comp_total  \\\n",
       "0  34.0          30.0              adult    Yearly     60000.0   \n",
       "1  53.0          10.0              child    Yearly     58000.0   \n",
       "2  25.0          12.0              child    Yearly    550000.0   \n",
       "3  41.0          30.0              adult   Monthly    200000.0   \n",
       "4  28.0          15.0              adult    Yearly     50000.0   \n",
       "\n",
       "   converted_comp         country  ...          survey_length trans  \\\n",
       "0         77556.0  United Kingdom  ...  Appropriate in length    No   \n",
       "1         74970.0  United Kingdom  ...  Appropriate in length    No   \n",
       "2        594539.0          France  ...              Too short    No   \n",
       "3       2000000.0   United States  ...  Appropriate in length    No   \n",
       "4         37816.0          Canada  ...  Appropriate in length    No   \n",
       "\n",
       "                                     undergrad_major  \\\n",
       "0  Computer science, computer engineering, or sof...   \n",
       "1  A natural science (such as biology, chemistry,...   \n",
       "2  Computer science, computer engineering, or sof...   \n",
       "3                                               None   \n",
       "4  Another engineering discipline (such as civil,...   \n",
       "\n",
       "  webframe_desire_next_year webframe_worked_with  \\\n",
       "0          Express;React.js     Express;React.js   \n",
       "1              Flask;Spring         Flask;Spring   \n",
       "2              Django;Flask         Django;Flask   \n",
       "3                      None                 None   \n",
       "4                      None        Express;Flask   \n",
       "\n",
       "                            welcome_change work_week_hrs years_code  \\\n",
       "0  Just as welcome now as I felt last year          40.0        4.0   \n",
       "1  Just as welcome now as I felt last year          40.0       43.0   \n",
       "2  Just as welcome now as I felt last year          40.0       13.0   \n",
       "3  Just as welcome now as I felt last year          40.0       11.0   \n",
       "4  Just as welcome now as I felt last year          40.0        5.0   \n",
       "\n",
       "  years_code_pro      age_cat  \n",
       "0            3.0  At least 30  \n",
       "1           28.0  At least 30  \n",
       "2            3.0     Under 30  \n",
       "3           11.0  At least 30  \n",
       "4            3.0     Under 30  \n",
       "\n",
       "[5 rows x 63 columns]"
      ]
     },
     "execution_count": 3,
     "metadata": {},
     "output_type": "execute_result"
    }
   ],
   "source": [
    "stack_overflow.head()"
   ]
  },
  {
   "cell_type": "markdown",
   "id": "1f253c02-84a4-4b92-bb07-69f276f04816",
   "metadata": {},
   "source": [
    "### Stack Overflow salary data\n",
    "\n",
    "Research question:  ***Is this mean Data Science salary significantly different than $110k?***\n",
    "\n",
    "1. generate a boostrap distribution\n",
    "2. compute the standard error of this distribution\n",
    "3. compute the z-score from the standard error\n",
    "4. determine where this z-score falls in the z-score distribution relative to confidence limits"
   ]
  },
  {
   "cell_type": "code",
   "execution_count": 4,
   "id": "80577199-9783-48ca-a838-7780c75c2086",
   "metadata": {},
   "outputs": [
    {
     "data": {
      "image/png": "[encoded data removed]",
      "text/plain": [
       "<Figure size 640x480 with 1 Axes>"
      ]
     },
     "metadata": {},
     "output_type": "display_data"
    }
   ],
   "source": [
    "from scipy.stats import norm\n",
    "import numpy as np\n",
    "import matplotlib.pyplot as plt\n",
    "\n",
    "# Standard normal (z) distribution\n",
    "x = []\n",
    "pdf_z = []\n",
    "for i in np.linspace(-4, 4, 1000):\n",
    "    x.append(i)\n",
    "    pdf_z.append(norm.pdf(i))\n",
    "\n",
    "fig, ax = plt.subplots()\n",
    "ax.set_xlabel(\"x\")\n",
    "ax.set_ylabel(\"PDF(x)\")\n",
    "ax.set_title(\"Standard normal (z) distribution\")\n",
    "ax.plot(x, pdf_z)\n",
    "plt.show()"
   ]
  },
  {
   "cell_type": "code",
   "execution_count": 5,
   "id": "5b603c68-eb75-4c59-ae5b-09a6b69b4926",
   "metadata": {},
   "outputs": [],
   "source": [
    "def get_bootstrap_dist(df_sample, sample_col, resample_rate=5000):\n",
    "    \"\"\"\n",
    "    Computes a boostrap distribution from a column in a dataframe\n",
    "\n",
    "    Args:\n",
    "      df_sample (Dataframe): pandas dataframe which has a numeric column named sample_col\n",
    "      sample_col (str): name of the column in df_sample to calculate the bootstrap from\n",
    "      resample_rate (int): number of resamples (with replacement) generated to build bootstrap distribution\n",
    "    \"\"\"\n",
    "    boot_distrib = []\n",
    "    for i in range(resample_rate):\n",
    "        boot_distrib.append(\n",
    "            # cacluate point estimate\n",
    "            np.mean(\n",
    "                # resample\n",
    "                df_sample.sample(frac=1, replace=True)[sample_col]\n",
    "            )\n",
    "        )\n",
    "\n",
    "    return(boot_distrib)"
   ]
  },
  {
   "cell_type": "code",
   "execution_count": 6,
   "id": "9b9cf212-ad51-4020-bd37-1fa79dcb9902",
   "metadata": {},
   "outputs": [
    {
     "data": {
      "image/png": "[encoded data removed]",
      "text/plain": [
       "<Figure size 640x480 with 1 Axes>"
      ]
     },
     "metadata": {},
     "output_type": "display_data"
    }
   ],
   "source": [
    "so_boot_distrib = get_bootstrap_dist(stack_overflow, \"converted_comp\")\n",
    "\n",
    "# visualize boostrap dist\n",
    "fig, ax = plt.subplots()\n",
    "ax.hist(so_boot_distrib, bins=50)\n",
    "ax.set_title(\"Bootstrap Distribution of Stack Overflow Salaries\")\n",
    "plt.show()"
   ]
  },
  {
   "cell_type": "code",
   "execution_count": 7,
   "id": "78b62097-bf03-4842-9477-c2b4bd3c731b",
   "metadata": {},
   "outputs": [
    {
     "name": "stdout",
     "output_type": "stream",
     "text": [
      "standard error of the boostrap distibution of SO salaries: 5608.621033493362\n"
     ]
    }
   ],
   "source": [
    "std_error = np.std(so_boot_distrib, ddof=1)\n",
    "print(f\"standard error of the boostrap distibution of SO salaries: {std_error}\")"
   ]
  },
  {
   "cell_type": "markdown",
   "id": "31d3c44f-1a78-4ea4-92e6-2e9b80e28b33",
   "metadata": {},
   "source": [
    "## z-scores\n",
    "\n",
    "Before we can test hypotheses, we need to *standardize* our values.\n",
    "\n",
    "$\\Large\\text{standardized value} = \\frac{\\text{value - mean}}{\\text{standard deviation}}$\n",
    "\n",
    "More generally:\n",
    "\n",
    "$\\Large\\text{z} = \\frac{\\text{sample statistic - hypothetical parameter value}}{\\text{standard error}}$\n",
    "\n",
    "Intuitively, we can see that:\n",
    "+ the closer the absolute value of this number is to zero, the **less likely** that the mean and the hypothesized value are significantly different.\n",
    "+ the larger the absolute value of this number is, the **more likely** that the mean and the hypothsized value are significantly different.\n",
    "\n"
   ]
  },
  {
   "cell_type": "code",
   "execution_count": 8,
   "id": "e0ecb5a4-0f38-475d-90b9-aa7c6f51af63",
   "metadata": {},
   "outputs": [
    {
     "name": "stdout",
     "output_type": "stream",
     "text": [
      "z-score for SO salaries having hypothesized value of 110k: 1.7071428653338439\n",
      "What does this number suggest regarding our hypothesis?\n"
     ]
    }
   ],
   "source": [
    "# from our previous example\n",
    "mean_comp_hyp = 110000  # our original hypothesized value\n",
    "z_score_so_salaries = (mean_comp_samp - mean_comp_hyp) / std_error\n",
    "print(f\"z-score for SO salaries having hypothesized value of 110k: {z_score_so_salaries}\")\n",
    "print(\"What does this number suggest regarding our hypothesis?\")"
   ]
  },
  {
   "cell_type": "markdown",
   "id": "24d556a3-9b65-44c3-9f3e-4f9dd0ca8c17",
   "metadata": {},
   "source": [
    "## Calculating the sample mean\n",
    "\n",
    "The late_shipments dataset contains supply chain data on the delivery of medical supplies. Each row represents one delivery of a part. The late columns denotes whether or not the part was delivered late. A value of \"Yes\" means that the part was delivered late, and a value of \"No\" means the part was delivered on time.\n",
    "\n",
    "We'll begin our analysis by calculating a point estimate (or sample statistic), namely the proportion of late shipments."
   ]
  },
  {
   "cell_type": "code",
   "execution_count": 9,
   "id": "bf9bc467-a826-4ff3-9948-74b2a25e41be",
   "metadata": {},
   "outputs": [
    {
     "name": "stdout",
     "output_type": "stream",
     "text": [
      "shape of late shipments data: (1000, 27)\n",
      "\n",
      "columns in the late shipments data: Index(['id', 'country', 'managed_by', 'fulfill_via', 'vendor_inco_term',\n",
      "       'shipment_mode', 'late_delivery', 'late', 'product_group',\n",
      "       'sub_classification', 'vendor', 'item_description',\n",
      "       'molecule_test_type', 'brand', 'dosage', 'dosage_form',\n",
      "       'unit_of_measure_per_pack', 'line_item_quantity', 'line_item_value',\n",
      "       'pack_price', 'unit_price', 'manufacturing_site',\n",
      "       'first_line_designation', 'weight_kilograms', 'freight_cost_usd',\n",
      "       'freight_cost_groups', 'line_item_insurance_usd'],\n",
      "      dtype='object')\n",
      "\n",
      "late\n",
      "No     939\n",
      "Yes     61\n",
      "Name: count, dtype: int64\n"
     ]
    }
   ],
   "source": [
    "late_shipments = pd.read_feather('./data/late_shipments.feather')\n",
    "print(f\"shape of late shipments data: {late_shipments.shape}\\n\")  # (1000, 27)\n",
    "print(f\"columns in the late shipments data: {late_shipments.columns}\\n\")\n",
    "are_late = late_shipments[\"late\"].value_counts()\n",
    "n_yes = are_late['Yes']\n",
    "n_no = are_late['No']\n",
    "print(are_late)"
   ]
  },
  {
   "cell_type": "code",
   "execution_count": 10,
   "id": "c5f69134-2a79-460a-ba76-6cd4f50887e2",
   "metadata": {},
   "outputs": [
    {
     "name": "stdout",
     "output_type": "stream",
     "text": [
      "proportion of shipments that are late: 0.061\n"
     ]
    }
   ],
   "source": [
    "# calc the proportion of late shipments\n",
    "late_prop_samp = (late_shipments[\"late\"] == 'Yes').mean()\n",
    "\n",
    "print(f\"proportion of shipments that are late: {late_prop_samp}\")"
   ]
  },
  {
   "cell_type": "markdown",
   "id": "c2f386b4-b18d-4320-8c53-c6094d463b8c",
   "metadata": {},
   "source": [
    "## Calculating a z-score\n",
    "\n",
    "Since variables have arbitrary ranges and units, we need to ***standardize*** them as mentioned earlier. For example, a hypothesis test using salaries data that gave different answers if the variables were in **Euros** instead of **US dollars** would be of little value. Standardization avoids this issue.\n",
    "\n",
    "One standardized value of interest in a hypothesis test is called a **z-score**. To calculate it, we need three numbers: the sample statistic (point estimate), the hypothesized statistic, and the standard error of the statistic (estimated from the bootstrap distribution)."
   ]
  },
  {
   "cell_type": "code",
   "execution_count": 11,
   "id": "41a53792-a7d6-4abe-8cc7-406503cc709a",
   "metadata": {},
   "outputs": [
    {
     "name": "stdout",
     "output_type": "stream",
     "text": [
      "number samples in bootstrap distribution: 5000\n",
      "first few samples of bootstrap distribution: [0.068, 0.063, 0.053, 0.052, 0.059]\n"
     ]
    }
   ],
   "source": [
    "# create the bootstrap distribution for the proportion of late shipments\n",
    "late_shipments[\"late_binary\"] = late_shipments[\"late\"] == \"Yes\"\n",
    "late_shipments[\"late_binary\"] = late_shipments[\"late_binary\"].astype(int)\n",
    "late_shipments_boot_distn = get_bootstrap_dist(late_shipments, \"late_binary\")\n",
    "print(f\"number samples in bootstrap distribution: {len(late_shipments_boot_distn)}\")\n",
    "print(f\"first few samples of bootstrap distribution: {late_shipments_boot_distn[:5]}\")"
   ]
  },
  {
   "cell_type": "code",
   "execution_count": 12,
   "id": "3c7521b5-346a-49fa-9ae0-c74713ebd12a",
   "metadata": {},
   "outputs": [
    {
     "name": "stdout",
     "output_type": "stream",
     "text": [
      "std error: 0.007580422953899078 | z-score: 0.13191876048098866\n"
     ]
    }
   ],
   "source": [
    "# hypothesize that the proportion is 6%\n",
    "late_prop_hyp = 0.06\n",
    "\n",
    "# calc standard error\n",
    "std_error = np.std(late_shipments_boot_distn)\n",
    "\n",
    "# calc z-score of late_prop_samp\n",
    "z_score = (late_prop_samp - late_prop_hyp) / std_error\n",
    "\n",
    "print(f\"std error: {std_error} | z-score: {z_score}\")  # 0.1335510751060483 listed on platform, pretty close"
   ]
  },
  {
   "cell_type": "markdown",
   "id": "2cdfae08-02b7-4fd0-827d-1004f9bb4b04",
   "metadata": {},
   "source": [
    "## p-values\n",
    "\n",
    "$H_0:$ The proportion of data scientists starting programming as children is 35%  \n",
    "$H_A:$ The proportion of data scientists starting programming as children is greater than 35% (right tail test)"
   ]
  },
  {
   "cell_type": "code",
   "execution_count": 13,
   "id": "61eac279-5217-4bff-8f48-1eb6cb1e6033",
   "metadata": {},
   "outputs": [],
   "source": [
    "stack_overflow[\"age_1st_cut_binary\"] = stack_overflow[\"age_first_code_cut\"] == \"child\"\n",
    "stack_overflow[\"age_1st_cut_binary\"] = stack_overflow[\"age_1st_cut_binary\"].astype(int)\n",
    "# create bootstrap dist of age_first_code_cut and visualize\n",
    "first_code_boot_distn = get_bootstrap_dist(stack_overflow, \"age_1st_cut_binary\")"
   ]
  },
  {
   "cell_type": "code",
   "execution_count": 14,
   "id": "a7cbf4e0-a8fb-4581-966a-fdd75c46448f",
   "metadata": {},
   "outputs": [
    {
     "data": {
      "image/png": "[encoded data removed]",
      "text/plain": [
       "<Figure size 640x480 with 1 Axes>"
      ]
     },
     "metadata": {},
     "output_type": "display_data"
    }
   ],
   "source": [
    "# visualize bootstrap distribution\n",
    "fig, ax = plt.subplots()\n",
    "ax.hist(first_code_boot_distn, bins=50)\n",
    "ax.set_title(\"Bootstrap Distribution of Stack Overflow 'age first code'\")\n",
    "plt.show()"
   ]
  },
  {
   "cell_type": "code",
   "execution_count": 15,
   "id": "c380b980-1b2e-46bc-b4b5-6f4f2812635d",
   "metadata": {},
   "outputs": [
    {
     "name": "stdout",
     "output_type": "stream",
     "text": [
      "sample mean: 0.39141972578505085 | std error: 0.010271599133667026 | z-score: 4.032451543916879\n"
     ]
    }
   ],
   "source": [
    "# calc z-score - start with the mean\n",
    "prop_child_samp = (stack_overflow['age_first_code_cut'] == \"child\").mean() \n",
    "# hypothesized value\n",
    "prop_child_hyp = 0.35\n",
    "std_error = np.std(first_code_boot_distn, ddof=1)\n",
    "z_score = (prop_child_samp - prop_child_hyp) / std_error\n",
    "print(f\"sample mean: {prop_child_samp} | std error: {std_error} | z-score: {z_score}\")"
   ]
  },
  {
   "cell_type": "markdown",
   "id": "20775535-5e4d-480d-b238-20bd26f2d700",
   "metadata": {},
   "source": [
    "## Late shipments"
   ]
  },
  {
   "cell_type": "code",
   "execution_count": 16,
   "id": "4b1b0db4-16db-4aba-8081-f4b4aab15a36",
   "metadata": {},
   "outputs": [
    {
     "name": "stdout",
     "output_type": "stream",
     "text": [
      "0.46122191258069833\n"
     ]
    }
   ],
   "source": [
    "# calc p-value for prior example\n",
    "late_prop_hyp = 0.060\n",
    "\n",
    "# Calculate the z-score of late_prop_samp\n",
    "z_score = (late_prop_samp - late_prop_hyp) / std_error\n",
    "\n",
    "# Calculate the p-value\n",
    "p_value = 1 - norm.cdf(z_score, loc=0, scale=1)\n",
    "                 \n",
    "# Print the p-value\n",
    "print(p_value) "
   ]
  },
  {
   "cell_type": "markdown",
   "id": "fd32ec3d-e961-4bcf-9ec8-959dcbf9482b",
   "metadata": {},
   "source": [
    "## Statistical significance\n",
    "\n",
    "+ p-values quantify evidence for the null hypothesis\n",
    "+ Large p-value → fail to reject null hypothesis\n",
    "+ Small p-value → reject null hypothesis\n",
    "+ Where is the cutoff point? → **significance level** ($\\alpha$), theshold point for \"*beyond a reasonable doubt*\"\n",
    "+ Most common value for $\\alpha$ is `0.05`, but `0.1`, `0.2` and `0.01` are not uncommon\n",
    "+ If $p \\leq \\alpha, \\text{reject } H_0 \\text{, else fail to reject } H_0$\n",
    "+ $\\alpha$ needs to be set **prior** to conducting the hypothesis test\n",
    "+ Define ***confidence interval*** as $1 - \\alpha$"
   ]
  },
  {
   "cell_type": "markdown",
   "id": "b9dc60de-562b-4dfa-8c13-23170d02e90e",
   "metadata": {},
   "source": [
    "### Example\n",
    "\n",
    "$H_0$: Proportion of coders starting as children = 0.35  \n",
    "$H_A$: Proportion of coders starting as children > 0.35  "
   ]
  },
  {
   "cell_type": "code",
   "execution_count": 17,
   "id": "2978fe4a-c6d7-4893-abb2-87142c3477be",
   "metadata": {},
   "outputs": [
    {
     "name": "stdout",
     "output_type": "stream",
     "text": [
      "Testing sample mean: 0.39141972578505085 vs. hyp. mean: 0.35\n",
      "std error: 0.010271599133667026 | z-score: 4.032451543916879 | p_value: 2.759899940540933e-05\n",
      "reject H0 because p_value of 2.759899940540933e-05 is <= alpha of 0.05\n"
     ]
    }
   ],
   "source": [
    "alpha = 0.05\n",
    "prop_child_samp = (stack_overflow['age_first_code_cut'] == \"child\").mean()\n",
    "prop_child_hyp = 0.35\n",
    "std_error = np.std(first_code_boot_distn, ddof=1)\n",
    "z_score = (prop_child_samp - prop_child_hyp) / std_error\n",
    "p_value = 1 - norm.cdf(z_score, loc=0, scale=1)\n",
    "\n",
    "print(f\"Testing sample mean: {prop_child_samp} vs. hyp. mean: {prop_child_hyp}\")\n",
    "print(f\"std error: {std_error} | z-score: {z_score} | p_value: {p_value}\")\n",
    "\n",
    "if p_value <= alpha:\n",
    "    print(f\"reject H0 because p_value of {p_value} is <= alpha of {alpha}\")\n",
    "else:\n",
    "    print(f\"accept H0 because p_value of {p_value} is > alpha of {alpha}\")\n",
    "   "
   ]
  },
  {
   "cell_type": "code",
   "execution_count": 18,
   "id": "ebfd234e-cc9d-4168-8a3e-99c746fc30cb",
   "metadata": {},
   "outputs": [
    {
     "name": "stdout",
     "output_type": "stream",
     "text": [
      "95% confidence interval: (0.3710747456877488, 0.41132242370632466)\n"
     ]
    }
   ],
   "source": [
    "lower = np.quantile(first_code_boot_distn, 0.025)\n",
    "upper = np.quantile(first_code_boot_distn, 0.975)\n",
    "print(f\"{round(100*(1-alpha))}% confidence interval: {(lower, upper)}\")"
   ]
  },
  {
   "cell_type": "markdown",
   "id": "aa2b300d-7a69-4dcb-9aac-6c9a006e9f6e",
   "metadata": {},
   "source": [
    "## Types of errors (confusion matrix)\n",
    "\n",
    "<img src=\"./graphics/types_of_errors.png\">"
   ]
  },
  {
   "cell_type": "markdown",
   "id": "36c84de9-f353-4090-a17d-ca7e4bd0de05",
   "metadata": {},
   "source": [
    "## Performing t-tests\n",
    "\n",
    "The **t-statistic** is a value used to determine if there is a significant **difference between the means of two groups**, especially when the **sample size is small** or the **population standard deviation is unknown**. It is calculated as the ratio of the difference between an estimated value and a known value to the **standard error** of the estimate.\n",
    "\n",
    "### Example: Compensation between members of group\n",
    "\n",
    "*Are users who first programmed as a child compensated higher than those that started as adults?*\n",
    "\n",
    "$H_0$ : The mean compensation (in USD) is the same for those that coded first as a child and those that coded first as an adult.\n",
    "\n",
    "$H_0$ : $\\mu_{\\text{child}} = \\mu_{\\text{adult}}$&nbsp;&nbsp;&nbsp;&nbsp;or  \n",
    "&nbsp;&nbsp;&nbsp;&nbsp;&nbsp;&nbsp;&nbsp;$\\mu_{\\text{child}} - \\mu_{\\text{adult}} = 0$\n",
    "\n",
    "$H_A$ : The mean compensation (in USD) is **greater** for those that coded first as a child and those that coded first as an adult.\n",
    "\n",
    "$H_A$ : $\\mu_{\\text{child}} > \\mu_{\\text{adult}}$&nbsp;&nbsp;&nbsp;&nbsp;or  \n",
    "&nbsp;&nbsp;&nbsp;&nbsp;&nbsp;&nbsp;&nbsp;$\\mu_{\\text{child}} - \\mu_{\\text{adult}} > 0$\n",
    "\n",
    "#### Notation\n",
    "\n",
    "$\\mu$ = population mean  \n",
    "$\\bar{x}$ = sample mean"
   ]
  },
  {
   "cell_type": "code",
   "execution_count": 19,
   "id": "3a309db6-2e71-4ac7-a05b-48780cd91103",
   "metadata": {},
   "outputs": [
    {
     "name": "stdout",
     "output_type": "stream",
     "text": [
      "compensation for 1st code child:  132419.5706214689\n",
      "compensation for 1st code adults: 111313.31104651163\n"
     ]
    }
   ],
   "source": [
    "# calculate groupwise summary stats\n",
    "code_means = stack_overflow.groupby('age_first_code_cut')['converted_comp'].mean()\n",
    "mean_child = code_means['child']\n",
    "mean_adult = code_means['adult']\n",
    "print(f\"compensation for 1st code child:  {mean_child}\")\n",
    "print(f\"compensation for 1st code adults: {mean_adult}\")"
   ]
  },
  {
   "cell_type": "markdown",
   "id": "aa43fa70-1074-4190-9aa5-bb4b48618e39",
   "metadata": {},
   "source": [
    "### Is this difference significant or can it be explained by sampling variability?\n",
    "\n",
    "test statistic = $(\\bar{x}_{\\text{child}} - \\bar{x}_{\\text{adult}})$\n",
    "\n",
    "### t-statistic\n",
    "\n",
    "$$\n",
    "\\begin{align}\n",
    "\\Large\\text{t} & = \\frac{\\text{difference in sample stats - difference in population parameters}}{\\text{standard error}} \\\\[2em]\n",
    "               & = \\frac{(\\bar{x}_{\\text{child}} - \\bar{x}_{\\text{adult}}) - (\\mu_{\\text{child}} - \\mu_{\\text{adult}})}{\\text{standard error}} \\\\[2em]\n",
    "               & = \\frac{(\\bar{x}_{\\text{child}} - \\bar{x}_{\\text{adult}}) - (\\mu_{\\text{child}} - \\mu_{\\text{adult}})}{SE(\\bar{x}_{\\text{child}} - \\bar{x}_{\\text{adult}})}\n",
    "\\end{align}\n",
    "$$\n",
    "\n",
    "### Standard error\n",
    "\n",
    "The **standard error** is computed differently depending on the test, but for testing the difference between two means from populations of unequal variance, this is called **Welch's t-test** and the $SE$ is the denominatorof the following statistic:\n",
    "\n",
    "$$\n",
    "\\begin{align}\n",
    "\\Large t = \\dfrac{(\\bar{x}_{\\text{child}} - \\bar{x}_{\\text{adult}})}{\\sqrt{\\dfrac{s_{\\text{child}}^2}{n_{\\text{child}}} + \\dfrac{s_{\\text{adult}}^2}{n_{\\text{adult}}}}}\n",
    "\\end{align}\n",
    "$$\n"
   ]
  },
  {
   "cell_type": "markdown",
   "id": "9951ee0f-28ae-4f17-a185-79a7c3af37fe",
   "metadata": {},
   "source": [
    "## Late shipments\n",
    "\n",
    "### From t to p\n",
    "\n",
    "In order to make decision about weights relationship to being late, we need to transform the test statistic with a cumulative distribution function to get a p-value.\n",
    "\n",
    "#### Hypotheses:\n",
    "\n",
    "$H_0$: The mean weight of shipments that weren't late is the same as the mean weight of shipments that were late.\n",
    "\n",
    "$H_A$: The mean weight of shipments that weren't late is less than the mean weight of shipments that were late."
   ]
  },
  {
   "cell_type": "code",
   "execution_count": 20,
   "id": "2df1289b-80cb-4774-8ccf-babd6f69a970",
   "metadata": {},
   "outputs": [
    {
     "name": "stdout",
     "output_type": "stream",
     "text": [
      "late\n",
      "No     1897.791267\n",
      "Yes    2715.672131\n",
      "Name: weight_kilograms, dtype: float64\n",
      "late\n",
      "No     3154.039507\n",
      "Yes    2544.688211\n",
      "Name: weight_kilograms, dtype: float64\n"
     ]
    }
   ],
   "source": [
    "# weight_kilograms\n",
    "late_wgt_mean = late_shipments.groupby(\"late\")[\"weight_kilograms\"].mean()\n",
    "xbar_no = late_wgt_mean[\"No\"]\n",
    "xbar_yes = late_wgt_mean[\"Yes\"]\n",
    "late_wgt_std = late_shipments.groupby(\"late\")[\"weight_kilograms\"].std()\n",
    "s_no = late_wgt_std[\"No\"]\n",
    "s_yes = late_wgt_std[\"Yes\"]\n",
    "print(late_wgt_mean)\n",
    "print(late_wgt_std)"
   ]
  },
  {
   "cell_type": "code",
   "execution_count": 21,
   "id": "14f82131-25b5-45ed-be25-12831329f1d9",
   "metadata": {},
   "outputs": [
    {
     "name": "stdout",
     "output_type": "stream",
     "text": [
      "-2.3936661778766433\n"
     ]
    }
   ],
   "source": [
    "numerator = xbar_no - xbar_yes\n",
    "denominator = np.sqrt(s_no ** 2 / n_no + s_yes ** 2 / n_yes)\n",
    "t_stat = numerator / denominator\n",
    "print(t_stat)"
   ]
  },
  {
   "cell_type": "code",
   "execution_count": 22,
   "id": "fabee9e7-c71d-4e3a-9db3-a63316b9651e",
   "metadata": {},
   "outputs": [
    {
     "name": "stdout",
     "output_type": "stream",
     "text": [
      "0.008432382146249523\n",
      "Since p value of 0.008432382146249523 is < alpha of 0.05, reject the null hypothsis in favor of the alternative.\n"
     ]
    }
   ],
   "source": [
    "from scipy.stats import t\n",
    "\n",
    "alpha = 0.05\n",
    "\n",
    "# Calculate the degrees of freedom\n",
    "degrees_of_freedom = n_yes + n_no - 2\n",
    "\n",
    "# Calculate the p-value from the test stat\n",
    "p_value = t.cdf(t_stat, df=degrees_of_freedom)\n",
    "\n",
    "# Print the p_value\n",
    "print(p_value)\n",
    "print(f\"Since p value of {p_value} is < alpha of {alpha}, reject the null hypothsis in favor of the alternative.\")"
   ]
  },
  {
   "cell_type": "markdown",
   "id": "e7955d93-d575-4c1e-ab0d-418194f37296",
   "metadata": {},
   "source": [
    "## Paired t-tests\n",
    "\n",
    "### Research question: Was the percentage of Republican candidate voters lower in 2008 than 2012?\n",
    "\n",
    "$\\Large H_0$ : $\\Large \\mu_{\\text{2008}} - \\mu_{\\text{2012}} = 0$  \n",
    "$\\Large H_A$ : $\\Large \\mu_{\\text{2008}} - \\mu_{\\text{2012}} < 0$\n",
    "\n",
    "+ Set α = 0.05 significance level.\n",
    "+ Data is **paired** → each voter percentage refers to the same county (not independent)\n",
    "+ Want to capture voting patterns in model\n",
    "\n",
    "**Reference:**  \n",
    "https://dataverse.harvard.edu/dataset.xhtml?persistentId=doi:10.7910/DVN/VOQCHQ"
   ]
  },
  {
   "cell_type": "code",
   "execution_count": 23,
   "id": "b68c1da4-e3ae-4e2a-835f-a5846852b1d8",
   "metadata": {},
   "outputs": [
    {
     "data": {
      "text/html": [
       "<div>\n",
       "<style scoped>\n",
       "    .dataframe tbody tr th:only-of-type {\n",
       "        vertical-align: middle;\n",
       "    }\n",
       "\n",
       "    .dataframe tbody tr th {\n",
       "        vertical-align: top;\n",
       "    }\n",
       "\n",
       "    .dataframe thead th {\n",
       "        text-align: right;\n",
       "    }\n",
       "</style>\n",
       "<table border=\"1\" class=\"dataframe\">\n",
       "  <thead>\n",
       "    <tr style=\"text-align: right;\">\n",
       "      <th></th>\n",
       "      <th>state</th>\n",
       "      <th>county</th>\n",
       "      <th>repub_percent_08</th>\n",
       "      <th>repub_percent_12</th>\n",
       "    </tr>\n",
       "  </thead>\n",
       "  <tbody>\n",
       "    <tr>\n",
       "      <th>0</th>\n",
       "      <td>Alabama</td>\n",
       "      <td>Hale</td>\n",
       "      <td>38.957877</td>\n",
       "      <td>37.139882</td>\n",
       "    </tr>\n",
       "    <tr>\n",
       "      <th>1</th>\n",
       "      <td>Arkansas</td>\n",
       "      <td>Nevada</td>\n",
       "      <td>56.726272</td>\n",
       "      <td>58.983452</td>\n",
       "    </tr>\n",
       "    <tr>\n",
       "      <th>2</th>\n",
       "      <td>California</td>\n",
       "      <td>Lake</td>\n",
       "      <td>38.896719</td>\n",
       "      <td>39.331367</td>\n",
       "    </tr>\n",
       "    <tr>\n",
       "      <th>3</th>\n",
       "      <td>California</td>\n",
       "      <td>Ventura</td>\n",
       "      <td>42.923190</td>\n",
       "      <td>45.250693</td>\n",
       "    </tr>\n",
       "    <tr>\n",
       "      <th>4</th>\n",
       "      <td>Colorado</td>\n",
       "      <td>Lincoln</td>\n",
       "      <td>74.522569</td>\n",
       "      <td>73.764757</td>\n",
       "    </tr>\n",
       "  </tbody>\n",
       "</table>\n",
       "</div>"
      ],
      "text/plain": [
       "        state   county  repub_percent_08  repub_percent_12\n",
       "0     Alabama     Hale         38.957877         37.139882\n",
       "1    Arkansas   Nevada         56.726272         58.983452\n",
       "2  California     Lake         38.896719         39.331367\n",
       "3  California  Ventura         42.923190         45.250693\n",
       "4    Colorado  Lincoln         74.522569         73.764757"
      ]
     },
     "execution_count": 23,
     "metadata": {},
     "output_type": "execute_result"
    }
   ],
   "source": [
    "alpha = 0.05\n",
    "\n",
    "df_rep_votes = pd.read_feather(\"./data/repub_votes_potus_08_12.feather\")\n",
    "df_rep_votes.head()"
   ]
  },
  {
   "cell_type": "code",
   "execution_count": 24,
   "id": "09fa8c28-38ae-4660-a9d2-e6f5c99f45a2",
   "metadata": {},
   "outputs": [
    {
     "data": {
      "text/plain": [
       "<Axes: >"
      ]
     },
     "execution_count": 24,
     "metadata": {},
     "output_type": "execute_result"
    },
    {
     "data": {
      "image/png": "[encoded data removed]",
      "text/plain": [
       "<Figure size 640x480 with 1 Axes>"
      ]
     },
     "metadata": {},
     "output_type": "display_data"
    }
   ],
   "source": [
    "sample_data = df_rep_votes \n",
    "sample_data['diff'] = sample_data['repub_percent_08'] - sample_data['repub_percent_12']\n",
    "\n",
    "sample_data['diff'].hist(bins=20) "
   ]
  },
  {
   "cell_type": "code",
   "execution_count": 25,
   "id": "a8ed9449-9f4f-40c3-b701-cd03c28ea9b7",
   "metadata": {},
   "outputs": [
    {
     "name": "stdout",
     "output_type": "stream",
     "text": [
      "mean of diff: -2.877109041242944\n"
     ]
    }
   ],
   "source": [
    " xbar_diff = sample_data['diff'].mean()\n",
    "print(f\"mean of diff: {xbar_diff}\")"
   ]
  },
  {
   "cell_type": "markdown",
   "id": "e386b486-f791-4d90-987d-8f9654141087",
   "metadata": {},
   "source": [
    "## Revised hypotheses\n",
    "\n",
    "$\\Large H_0$ : $\\Large \\mu_{\\text{diff}} = 0$  \n",
    "$\\Large H_A$ : $\\Large \\mu_{\\text{diff}} < 0$  \n",
    "\n",
    "### Revised test statistic for paired samples:\n",
    "\n",
    "$$\n",
    "\\begin{align}\n",
    "\\Large t = \\dfrac{(\\bar{x}_{\\text{diff}} - \\mu_{\\text{diff}})}{\\sqrt{\\dfrac{s_{\\text{diff}}^2}{n_{\\text{diff}}}}} \\\\[1em]\n",
    "\\Large df = n_{\\text{diff}} - 1\n",
    "\\end{align}\n",
    "$$"
   ]
  },
  {
   "cell_type": "code",
   "execution_count": 26,
   "id": "fba56bba-99b9-4186-857b-b4d148dba386",
   "metadata": {},
   "outputs": [
    {
     "name": "stdout",
     "output_type": "stream",
     "text": [
      "n_diff: 100 | s_diff: 5.136737887231852\n"
     ]
    }
   ],
   "source": [
    "n_diff = len(sample_data)\n",
    "s_diff = sample_data['diff'].std()\n",
    "print(f\"n_diff: {n_diff} | s_diff: {s_diff}\")"
   ]
  },
  {
   "cell_type": "code",
   "execution_count": 27,
   "id": "06ccafcc-4a9a-4006-b750-fbf608c8e60d",
   "metadata": {},
   "outputs": [
    {
     "name": "stdout",
     "output_type": "stream",
     "text": [
      "t_stat: -5.601043121928489 | degrees_of_freedom: 99 | p_value: 9.572537285272411e-08\n",
      "Since p value of 9.572537285272411e-08 is < alpha of 0.05, reject the null hypothsis in favor of the alternative.\n"
     ]
    }
   ],
   "source": [
    "t_stat = (xbar_diff-0) / np.sqrt(s_diff**2/n_diff)\n",
    "degrees_of_freedom = n_diff - 1\n",
    "p_value = t.cdf(t_stat, df=degrees_of_freedom)\n",
    "print(f\"t_stat: {t_stat} | degrees_of_freedom: {degrees_of_freedom} | p_value: {p_value}\")\n",
    "print(f\"Since p value of {p_value} is < alpha of {alpha}, reject the null hypothsis in favor of the alternative.\")"
   ]
  },
  {
   "cell_type": "code",
   "execution_count": 28,
   "id": "5d65846d-011d-4506-91a8-a95131aa3635",
   "metadata": {},
   "outputs": [
    {
     "data": {
      "text/html": [
       "<div>\n",
       "<style scoped>\n",
       "    .dataframe tbody tr th:only-of-type {\n",
       "        vertical-align: middle;\n",
       "    }\n",
       "\n",
       "    .dataframe tbody tr th {\n",
       "        vertical-align: top;\n",
       "    }\n",
       "\n",
       "    .dataframe thead th {\n",
       "        text-align: right;\n",
       "    }\n",
       "</style>\n",
       "<table border=\"1\" class=\"dataframe\">\n",
       "  <thead>\n",
       "    <tr style=\"text-align: right;\">\n",
       "      <th></th>\n",
       "      <th>T</th>\n",
       "      <th>dof</th>\n",
       "      <th>alternative</th>\n",
       "      <th>p-val</th>\n",
       "      <th>CI95%</th>\n",
       "      <th>cohen-d</th>\n",
       "      <th>BF10</th>\n",
       "      <th>power</th>\n",
       "    </tr>\n",
       "  </thead>\n",
       "  <tbody>\n",
       "    <tr>\n",
       "      <th>T-test</th>\n",
       "      <td>-5.601043</td>\n",
       "      <td>99</td>\n",
       "      <td>less</td>\n",
       "      <td>9.572537e-08</td>\n",
       "      <td>[-inf, -2.02]</td>\n",
       "      <td>0.560104</td>\n",
       "      <td>1.323e+05</td>\n",
       "      <td>0.999955</td>\n",
       "    </tr>\n",
       "  </tbody>\n",
       "</table>\n",
       "</div>"
      ],
      "text/plain": [
       "               T  dof alternative         p-val          CI95%   cohen-d  \\\n",
       "T-test -5.601043   99        less  9.572537e-08  [-inf, -2.02]  0.560104   \n",
       "\n",
       "             BF10     power  \n",
       "T-test  1.323e+05  0.999955  "
      ]
     },
     "execution_count": 28,
     "metadata": {},
     "output_type": "execute_result"
    }
   ],
   "source": [
    "# easier way...\n",
    "import pingouin\n",
    "\n",
    "pingouin.ttest(\n",
    "    x=sample_data['diff'],\n",
    "    y=0,\n",
    "    alternative=\"less\"  # left tail\n",
    ")"
   ]
  },
  {
   "cell_type": "code",
   "execution_count": 30,
   "id": "ae1dc301-d864-4b7a-9406-7fd5e010935b",
   "metadata": {},
   "outputs": [
    {
     "data": {
      "text/html": [
       "<div>\n",
       "<style scoped>\n",
       "    .dataframe tbody tr th:only-of-type {\n",
       "        vertical-align: middle;\n",
       "    }\n",
       "\n",
       "    .dataframe tbody tr th {\n",
       "        vertical-align: top;\n",
       "    }\n",
       "\n",
       "    .dataframe thead th {\n",
       "        text-align: right;\n",
       "    }\n",
       "</style>\n",
       "<table border=\"1\" class=\"dataframe\">\n",
       "  <thead>\n",
       "    <tr style=\"text-align: right;\">\n",
       "      <th></th>\n",
       "      <th>T</th>\n",
       "      <th>dof</th>\n",
       "      <th>alternative</th>\n",
       "      <th>p-val</th>\n",
       "      <th>CI95%</th>\n",
       "      <th>cohen-d</th>\n",
       "      <th>BF10</th>\n",
       "      <th>power</th>\n",
       "    </tr>\n",
       "  </thead>\n",
       "  <tbody>\n",
       "    <tr>\n",
       "      <th>T-test</th>\n",
       "      <td>-5.601043</td>\n",
       "      <td>99</td>\n",
       "      <td>less</td>\n",
       "      <td>9.572537e-08</td>\n",
       "      <td>[-inf, -2.02]</td>\n",
       "      <td>0.217364</td>\n",
       "      <td>1.323e+05</td>\n",
       "      <td>0.696338</td>\n",
       "    </tr>\n",
       "  </tbody>\n",
       "</table>\n",
       "</div>"
      ],
      "text/plain": [
       "               T  dof alternative         p-val          CI95%   cohen-d  \\\n",
       "T-test -5.601043   99        less  9.572537e-08  [-inf, -2.02]  0.217364   \n",
       "\n",
       "             BF10     power  \n",
       "T-test  1.323e+05  0.696338  "
      ]
     },
     "execution_count": 30,
     "metadata": {},
     "output_type": "execute_result"
    }
   ],
   "source": [
    "# paired t-test - results in first 4 col's are the same\n",
    "pingouin.ttest(\n",
    "    x=sample_data['repub_percent_08'],\n",
    "    y=sample_data['repub_percent_12'],\n",
    "    paired=True,\n",
    "    alternative=\"less\"  # left tail\n",
    ")"
   ]
  },
  {
   "cell_type": "code",
   "execution_count": 31,
   "id": "ca1415e4-54cd-4f94-9376-32af0e98d54b",
   "metadata": {},
   "outputs": [
    {
     "data": {
      "text/html": [
       "<div>\n",
       "<style scoped>\n",
       "    .dataframe tbody tr th:only-of-type {\n",
       "        vertical-align: middle;\n",
       "    }\n",
       "\n",
       "    .dataframe tbody tr th {\n",
       "        vertical-align: top;\n",
       "    }\n",
       "\n",
       "    .dataframe thead th {\n",
       "        text-align: right;\n",
       "    }\n",
       "</style>\n",
       "<table border=\"1\" class=\"dataframe\">\n",
       "  <thead>\n",
       "    <tr style=\"text-align: right;\">\n",
       "      <th></th>\n",
       "      <th>T</th>\n",
       "      <th>dof</th>\n",
       "      <th>alternative</th>\n",
       "      <th>p-val</th>\n",
       "      <th>CI95%</th>\n",
       "      <th>cohen-d</th>\n",
       "      <th>BF10</th>\n",
       "      <th>power</th>\n",
       "    </tr>\n",
       "  </thead>\n",
       "  <tbody>\n",
       "    <tr>\n",
       "      <th>T-test</th>\n",
       "      <td>-1.536997</td>\n",
       "      <td>198</td>\n",
       "      <td>less</td>\n",
       "      <td>0.062945</td>\n",
       "      <td>[-inf, 0.22]</td>\n",
       "      <td>0.217364</td>\n",
       "      <td>0.927</td>\n",
       "      <td>0.454972</td>\n",
       "    </tr>\n",
       "  </tbody>\n",
       "</table>\n",
       "</div>"
      ],
      "text/plain": [
       "               T  dof alternative     p-val         CI95%   cohen-d   BF10  \\\n",
       "T-test -1.536997  198        less  0.062945  [-inf, 0.22]  0.217364  0.927   \n",
       "\n",
       "           power  \n",
       "T-test  0.454972  "
      ]
     },
     "execution_count": 31,
     "metadata": {},
     "output_type": "execute_result"
    }
   ],
   "source": [
    "pingouin.ttest(\n",
    "    x=sample_data['repub_percent_08'],\n",
    "    y=sample_data['repub_percent_12'],\n",
    "    paired=False,  # notice how p-value increased\n",
    "    alternative=\"less\"\n",
    ")"
   ]
  },
  {
   "cell_type": "code",
   "execution_count": null,
   "id": "5e1ee214-23bc-43e0-a284-7a67100ec7c2",
   "metadata": {},
   "outputs": [],
   "source": []
  },
  {
   "cell_type": "code",
   "execution_count": null,
   "id": "b3551372-d91e-48b8-a45d-54d4b7b06b8e",
   "metadata": {},
   "outputs": [],
   "source": []
  },
  {
   "cell_type": "code",
   "execution_count": null,
   "id": "67700956-186e-4989-bd1c-c9b16ee735be",
   "metadata": {},
   "outputs": [],
   "source": []
  }
 ],
 "metadata": {
  "kernelspec": {
   "display_name": "Python 3 (ipykernel)",
   "language": "python",
   "name": "python3"
  },
  "language_info": {
   "codemirror_mode": {
    "name": "ipython",
    "version": 3
   },
   "file_extension": ".py",
   "mimetype": "text/x-python",
   "name": "python",
   "nbconvert_exporter": "python",
   "pygments_lexer": "ipython3",
   "version": "3.11.6"
  }
 },
 "nbformat": 4,
 "nbformat_minor": 5
}
