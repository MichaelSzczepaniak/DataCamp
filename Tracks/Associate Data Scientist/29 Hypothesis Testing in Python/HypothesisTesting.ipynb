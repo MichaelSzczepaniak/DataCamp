{
 "cells": [
  {
   "cell_type": "markdown",
   "id": "81d59dd5-be17-4d12-b167-1bf0d19ccbdb",
   "metadata": {},
   "source": [
    "## Hypothesis tests and z-scores\n",
    "\n",
    "Hypothesis testing use case:\n",
    "\n",
    "***Determine whether sample statistics are close to or far away from expected (of hypothesized) values***"
   ]
  },
  {
   "cell_type": "code",
   "execution_count": 1,
   "id": "f000a883-b10b-4e22-91bb-9716e35e234c",
   "metadata": {
    "scrolled": true
   },
   "outputs": [
    {
     "name": "stdout",
     "output_type": "stream",
     "text": [
      "<class 'pandas.core.frame.DataFrame'>\n",
      "RangeIndex: 2261 entries, 0 to 2260\n",
      "Data columns (total 63 columns):\n",
      " #   Column                             Non-Null Count  Dtype   \n",
      "---  ------                             --------------  -----   \n",
      " 0   respondent                         2261 non-null   float64 \n",
      " 1   main_branch                        2261 non-null   object  \n",
      " 2   hobbyist                           2261 non-null   object  \n",
      " 3   age                                2261 non-null   float64 \n",
      " 4   age_1st_code                       2261 non-null   float64 \n",
      " 5   age_first_code_cut                 2261 non-null   object  \n",
      " 6   comp_freq                          2261 non-null   object  \n",
      " 7   comp_total                         2261 non-null   float64 \n",
      " 8   converted_comp                     2261 non-null   float64 \n",
      " 9   country                            2261 non-null   object  \n",
      " 10  currency_desc                      2261 non-null   object  \n",
      " 11  currency_symbol                    2261 non-null   object  \n",
      " 12  database_desire_next_year          1687 non-null   object  \n",
      " 13  database_worked_with               1934 non-null   object  \n",
      " 14  dev_type                           2261 non-null   object  \n",
      " 15  ed_level                           2246 non-null   object  \n",
      " 16  employment                         2261 non-null   object  \n",
      " 17  ethnicity                          2092 non-null   object  \n",
      " 18  gender                             2228 non-null   object  \n",
      " 19  job_factors                        2233 non-null   object  \n",
      " 20  job_sat                            2261 non-null   category\n",
      " 21  job_seek                           2261 non-null   object  \n",
      " 22  language_desire_next_year          2160 non-null   object  \n",
      " 23  language_worked_with               2254 non-null   object  \n",
      " 24  misc_tech_desire_next_year         1954 non-null   object  \n",
      " 25  misc_tech_worked_with              1964 non-null   object  \n",
      " 26  new_collab_tools_desire_next_year  2023 non-null   object  \n",
      " 27  new_collab_tools_worked_with       2192 non-null   object  \n",
      " 28  new_dev_ops                        2245 non-null   object  \n",
      " 29  new_dev_ops_impt                   2183 non-null   object  \n",
      " 30  new_ed_impt                        2246 non-null   object  \n",
      " 31  new_job_hunt                       2191 non-null   object  \n",
      " 32  new_job_hunt_research              2149 non-null   object  \n",
      " 33  new_learn                          2223 non-null   object  \n",
      " 34  new_off_topic                      2155 non-null   object  \n",
      " 35  new_onboard_good                   2244 non-null   object  \n",
      " 36  new_other_comms                    2257 non-null   object  \n",
      " 37  new_overtime                       2255 non-null   object  \n",
      " 38  new_purchase_research              1480 non-null   object  \n",
      " 39  purple_link                        2261 non-null   object  \n",
      " 40  newso_sites                        2257 non-null   object  \n",
      " 41  new_stuck                          2232 non-null   object  \n",
      " 42  op_sys                             2245 non-null   object  \n",
      " 43  org_size                           2223 non-null   object  \n",
      " 44  platform_desire_next_year          2065 non-null   object  \n",
      " 45  platform_worked_with               2170 non-null   object  \n",
      " 46  purchase_what                      2053 non-null   object  \n",
      " 47  sexuality                          2054 non-null   object  \n",
      " 48  so_account                         2247 non-null   object  \n",
      " 49  so_comm                            2248 non-null   object  \n",
      " 50  so_part_freq                       1884 non-null   object  \n",
      " 51  so_visit_freq                      2248 non-null   object  \n",
      " 52  survey_ease                        2248 non-null   object  \n",
      " 53  survey_length                      2251 non-null   object  \n",
      " 54  trans                              2199 non-null   object  \n",
      " 55  undergrad_major                    2151 non-null   object  \n",
      " 56  webframe_desire_next_year          1336 non-null   object  \n",
      " 57  webframe_worked_with               1452 non-null   object  \n",
      " 58  welcome_change                     2199 non-null   object  \n",
      " 59  work_week_hrs                      2219 non-null   float64 \n",
      " 60  years_code                         2261 non-null   float64 \n",
      " 61  years_code_pro                     2261 non-null   float64 \n",
      " 62  age_cat                            2261 non-null   object  \n",
      "dtypes: category(1), float64(8), object(54)\n",
      "memory usage: 1.1+ MB\n",
      "None\n",
      "119574.71738168952\n"
     ]
    }
   ],
   "source": [
    "import pandas as pd\n",
    "\n",
    "stack_overflow = pd.read_feather('./data/stack_overflow.feather')\n",
    "print(stack_overflow.info())\n",
    "mean_comp_samp = stack_overflow['converted_comp'].mean()  # point estimate of compensation\n",
    "print(mean_comp_samp)"
   ]
  },
  {
   "cell_type": "code",
   "execution_count": 2,
   "id": "020ab1be-7879-47bd-b10f-19fe4e3264e8",
   "metadata": {},
   "outputs": [
    {
     "data": {
      "text/plain": [
       "age_first_code_cut\n",
       "adult    1376\n",
       "child     885\n",
       "Name: count, dtype: int64"
      ]
     },
     "execution_count": 2,
     "metadata": {},
     "output_type": "execute_result"
    }
   ],
   "source": [
    "stack_overflow[\"age_first_code_cut\"].value_counts()"
   ]
  },
  {
   "cell_type": "code",
   "execution_count": 3,
   "id": "42b90ac3-4534-43dd-90c0-21d4390d07af",
   "metadata": {},
   "outputs": [
    {
     "data": {
      "text/html": [
       "<div>\n",
       "<style scoped>\n",
       "    .dataframe tbody tr th:only-of-type {\n",
       "        vertical-align: middle;\n",
       "    }\n",
       "\n",
       "    .dataframe tbody tr th {\n",
       "        vertical-align: top;\n",
       "    }\n",
       "\n",
       "    .dataframe thead th {\n",
       "        text-align: right;\n",
       "    }\n",
       "</style>\n",
       "<table border=\"1\" class=\"dataframe\">\n",
       "  <thead>\n",
       "    <tr style=\"text-align: right;\">\n",
       "      <th></th>\n",
       "      <th>respondent</th>\n",
       "      <th>main_branch</th>\n",
       "      <th>hobbyist</th>\n",
       "      <th>age</th>\n",
       "      <th>age_1st_code</th>\n",
       "      <th>age_first_code_cut</th>\n",
       "      <th>comp_freq</th>\n",
       "      <th>comp_total</th>\n",
       "      <th>converted_comp</th>\n",
       "      <th>country</th>\n",
       "      <th>...</th>\n",
       "      <th>survey_length</th>\n",
       "      <th>trans</th>\n",
       "      <th>undergrad_major</th>\n",
       "      <th>webframe_desire_next_year</th>\n",
       "      <th>webframe_worked_with</th>\n",
       "      <th>welcome_change</th>\n",
       "      <th>work_week_hrs</th>\n",
       "      <th>years_code</th>\n",
       "      <th>years_code_pro</th>\n",
       "      <th>age_cat</th>\n",
       "    </tr>\n",
       "  </thead>\n",
       "  <tbody>\n",
       "    <tr>\n",
       "      <th>0</th>\n",
       "      <td>36.0</td>\n",
       "      <td>I am not primarily a developer, but I write co...</td>\n",
       "      <td>Yes</td>\n",
       "      <td>34.0</td>\n",
       "      <td>30.0</td>\n",
       "      <td>adult</td>\n",
       "      <td>Yearly</td>\n",
       "      <td>60000.0</td>\n",
       "      <td>77556.0</td>\n",
       "      <td>United Kingdom</td>\n",
       "      <td>...</td>\n",
       "      <td>Appropriate in length</td>\n",
       "      <td>No</td>\n",
       "      <td>Computer science, computer engineering, or sof...</td>\n",
       "      <td>Express;React.js</td>\n",
       "      <td>Express;React.js</td>\n",
       "      <td>Just as welcome now as I felt last year</td>\n",
       "      <td>40.0</td>\n",
       "      <td>4.0</td>\n",
       "      <td>3.0</td>\n",
       "      <td>At least 30</td>\n",
       "    </tr>\n",
       "    <tr>\n",
       "      <th>1</th>\n",
       "      <td>47.0</td>\n",
       "      <td>I am a developer by profession</td>\n",
       "      <td>Yes</td>\n",
       "      <td>53.0</td>\n",
       "      <td>10.0</td>\n",
       "      <td>child</td>\n",
       "      <td>Yearly</td>\n",
       "      <td>58000.0</td>\n",
       "      <td>74970.0</td>\n",
       "      <td>United Kingdom</td>\n",
       "      <td>...</td>\n",
       "      <td>Appropriate in length</td>\n",
       "      <td>No</td>\n",
       "      <td>A natural science (such as biology, chemistry,...</td>\n",
       "      <td>Flask;Spring</td>\n",
       "      <td>Flask;Spring</td>\n",
       "      <td>Just as welcome now as I felt last year</td>\n",
       "      <td>40.0</td>\n",
       "      <td>43.0</td>\n",
       "      <td>28.0</td>\n",
       "      <td>At least 30</td>\n",
       "    </tr>\n",
       "    <tr>\n",
       "      <th>2</th>\n",
       "      <td>69.0</td>\n",
       "      <td>I am a developer by profession</td>\n",
       "      <td>Yes</td>\n",
       "      <td>25.0</td>\n",
       "      <td>12.0</td>\n",
       "      <td>child</td>\n",
       "      <td>Yearly</td>\n",
       "      <td>550000.0</td>\n",
       "      <td>594539.0</td>\n",
       "      <td>France</td>\n",
       "      <td>...</td>\n",
       "      <td>Too short</td>\n",
       "      <td>No</td>\n",
       "      <td>Computer science, computer engineering, or sof...</td>\n",
       "      <td>Django;Flask</td>\n",
       "      <td>Django;Flask</td>\n",
       "      <td>Just as welcome now as I felt last year</td>\n",
       "      <td>40.0</td>\n",
       "      <td>13.0</td>\n",
       "      <td>3.0</td>\n",
       "      <td>Under 30</td>\n",
       "    </tr>\n",
       "    <tr>\n",
       "      <th>3</th>\n",
       "      <td>125.0</td>\n",
       "      <td>I am not primarily a developer, but I write co...</td>\n",
       "      <td>Yes</td>\n",
       "      <td>41.0</td>\n",
       "      <td>30.0</td>\n",
       "      <td>adult</td>\n",
       "      <td>Monthly</td>\n",
       "      <td>200000.0</td>\n",
       "      <td>2000000.0</td>\n",
       "      <td>United States</td>\n",
       "      <td>...</td>\n",
       "      <td>Appropriate in length</td>\n",
       "      <td>No</td>\n",
       "      <td>None</td>\n",
       "      <td>None</td>\n",
       "      <td>None</td>\n",
       "      <td>Just as welcome now as I felt last year</td>\n",
       "      <td>40.0</td>\n",
       "      <td>11.0</td>\n",
       "      <td>11.0</td>\n",
       "      <td>At least 30</td>\n",
       "    </tr>\n",
       "    <tr>\n",
       "      <th>4</th>\n",
       "      <td>147.0</td>\n",
       "      <td>I am not primarily a developer, but I write co...</td>\n",
       "      <td>No</td>\n",
       "      <td>28.0</td>\n",
       "      <td>15.0</td>\n",
       "      <td>adult</td>\n",
       "      <td>Yearly</td>\n",
       "      <td>50000.0</td>\n",
       "      <td>37816.0</td>\n",
       "      <td>Canada</td>\n",
       "      <td>...</td>\n",
       "      <td>Appropriate in length</td>\n",
       "      <td>No</td>\n",
       "      <td>Another engineering discipline (such as civil,...</td>\n",
       "      <td>None</td>\n",
       "      <td>Express;Flask</td>\n",
       "      <td>Just as welcome now as I felt last year</td>\n",
       "      <td>40.0</td>\n",
       "      <td>5.0</td>\n",
       "      <td>3.0</td>\n",
       "      <td>Under 30</td>\n",
       "    </tr>\n",
       "  </tbody>\n",
       "</table>\n",
       "<p>5 rows × 63 columns</p>\n",
       "</div>"
      ],
      "text/plain": [
       "   respondent                                        main_branch hobbyist  \\\n",
       "0        36.0  I am not primarily a developer, but I write co...      Yes   \n",
       "1        47.0                     I am a developer by profession      Yes   \n",
       "2        69.0                     I am a developer by profession      Yes   \n",
       "3       125.0  I am not primarily a developer, but I write co...      Yes   \n",
       "4       147.0  I am not primarily a developer, but I write co...       No   \n",
       "\n",
       "    age  age_1st_code age_first_code_cut comp_freq  comp_total  \\\n",
       "0  34.0          30.0              adult    Yearly     60000.0   \n",
       "1  53.0          10.0              child    Yearly     58000.0   \n",
       "2  25.0          12.0              child    Yearly    550000.0   \n",
       "3  41.0          30.0              adult   Monthly    200000.0   \n",
       "4  28.0          15.0              adult    Yearly     50000.0   \n",
       "\n",
       "   converted_comp         country  ...          survey_length trans  \\\n",
       "0         77556.0  United Kingdom  ...  Appropriate in length    No   \n",
       "1         74970.0  United Kingdom  ...  Appropriate in length    No   \n",
       "2        594539.0          France  ...              Too short    No   \n",
       "3       2000000.0   United States  ...  Appropriate in length    No   \n",
       "4         37816.0          Canada  ...  Appropriate in length    No   \n",
       "\n",
       "                                     undergrad_major  \\\n",
       "0  Computer science, computer engineering, or sof...   \n",
       "1  A natural science (such as biology, chemistry,...   \n",
       "2  Computer science, computer engineering, or sof...   \n",
       "3                                               None   \n",
       "4  Another engineering discipline (such as civil,...   \n",
       "\n",
       "  webframe_desire_next_year webframe_worked_with  \\\n",
       "0          Express;React.js     Express;React.js   \n",
       "1              Flask;Spring         Flask;Spring   \n",
       "2              Django;Flask         Django;Flask   \n",
       "3                      None                 None   \n",
       "4                      None        Express;Flask   \n",
       "\n",
       "                            welcome_change work_week_hrs years_code  \\\n",
       "0  Just as welcome now as I felt last year          40.0        4.0   \n",
       "1  Just as welcome now as I felt last year          40.0       43.0   \n",
       "2  Just as welcome now as I felt last year          40.0       13.0   \n",
       "3  Just as welcome now as I felt last year          40.0       11.0   \n",
       "4  Just as welcome now as I felt last year          40.0        5.0   \n",
       "\n",
       "  years_code_pro      age_cat  \n",
       "0            3.0  At least 30  \n",
       "1           28.0  At least 30  \n",
       "2            3.0     Under 30  \n",
       "3           11.0  At least 30  \n",
       "4            3.0     Under 30  \n",
       "\n",
       "[5 rows x 63 columns]"
      ]
     },
     "execution_count": 3,
     "metadata": {},
     "output_type": "execute_result"
    }
   ],
   "source": [
    "stack_overflow.head()"
   ]
  },
  {
   "cell_type": "markdown",
   "id": "1f253c02-84a4-4b92-bb07-69f276f04816",
   "metadata": {},
   "source": [
    "### Stack Overflow salary data\n",
    "\n",
    "Research question:  ***Is this mean Data Science salary significantly different than $110k?***\n",
    "\n",
    "1. generate a boostrap distribution\n",
    "2. compute the standard error of this distribution\n",
    "3. compute the z-score from the standard error\n",
    "4. determine where this z-score falls in the z-score distribution relative to confidence limits"
   ]
  },
  {
   "cell_type": "code",
   "execution_count": 4,
   "id": "80577199-9783-48ca-a838-7780c75c2086",
   "metadata": {},
   "outputs": [
    {
     "data": {
      "image/png": "[encoded data removed]",
      "text/plain": [
       "<Figure size 640x480 with 1 Axes>"
      ]
     },
     "metadata": {},
     "output_type": "display_data"
    }
   ],
   "source": [
    "from scipy.stats import norm\n",
    "import numpy as np\n",
    "import matplotlib.pyplot as plt\n",
    "\n",
    "# Standard normal (z) distribution\n",
    "x = []\n",
    "pdf_z = []\n",
    "for i in np.linspace(-4, 4, 1000):\n",
    "    x.append(i)\n",
    "    pdf_z.append(norm.pdf(i))\n",
    "\n",
    "fig, ax = plt.subplots()\n",
    "ax.set_xlabel(\"x\")\n",
    "ax.set_ylabel(\"PDF(x)\")\n",
    "ax.set_title(\"Standard normal (z) distribution\")\n",
    "ax.plot(x, pdf_z)\n",
    "plt.show()"
   ]
  },
  {
   "cell_type": "code",
   "execution_count": 5,
   "id": "5b603c68-eb75-4c59-ae5b-09a6b69b4926",
   "metadata": {},
   "outputs": [],
   "source": [
    "def get_bootstrap_dist(df_sample, sample_col, resample_rate=5000):\n",
    "    \"\"\"\n",
    "    Computes a boostrap distribution from a column in a dataframe\n",
    "\n",
    "    Args:\n",
    "      df_sample (Dataframe): pandas dataframe which has a numeric column named sample_col\n",
    "      sample_col (str): name of the column in df_sample to calculate the bootstrap from\n",
    "      resample_rate (int): number of resamples (with replacement) generated to build bootstrap distribution\n",
    "    \"\"\"\n",
    "    boot_distrib = []\n",
    "    for i in range(resample_rate):\n",
    "        boot_distrib.append(\n",
    "            # cacluate point estimate\n",
    "            np.mean(\n",
    "                # resample\n",
    "                df_sample.sample(frac=1, replace=True)[sample_col]\n",
    "            )\n",
    "        )\n",
    "\n",
    "    return(boot_distrib)"
   ]
  },
  {
   "cell_type": "code",
   "execution_count": 6,
   "id": "9b9cf212-ad51-4020-bd37-1fa79dcb9902",
   "metadata": {},
   "outputs": [
    {
     "data": {
      "image/png": "[encoded data removed]",
      "text/plain": [
       "<Figure size 640x480 with 1 Axes>"
      ]
     },
     "metadata": {},
     "output_type": "display_data"
    }
   ],
   "source": [
    "so_boot_distrib = get_bootstrap_dist(stack_overflow, \"converted_comp\")\n",
    "\n",
    "# visualize boostrap dist\n",
    "fig, ax = plt.subplots()\n",
    "ax.hist(so_boot_distrib, bins=50)\n",
    "ax.set_title(\"Bootstrap Distribution of Stack Overflow Salaries\")\n",
    "plt.show()"
   ]
  },
  {
   "cell_type": "code",
   "execution_count": 7,
   "id": "78b62097-bf03-4842-9477-c2b4bd3c731b",
   "metadata": {},
   "outputs": [
    {
     "name": "stdout",
     "output_type": "stream",
     "text": [
      "standard error of the boostrap distibution of SO salaries: 5559.368561888624\n"
     ]
    }
   ],
   "source": [
    "std_error = np.std(so_boot_distrib, ddof=1)\n",
    "print(f\"standard error of the boostrap distibution of SO salaries: {std_error}\")"
   ]
  },
  {
   "cell_type": "markdown",
   "id": "31d3c44f-1a78-4ea4-92e6-2e9b80e28b33",
   "metadata": {},
   "source": [
    "## z-scores\n",
    "\n",
    "Before we can test hypotheses, we need to *standardize* our values.\n",
    "\n",
    "$\\Large\\text{standardized value} = \\frac{\\text{value - mean}}{\\text{standard deviation}}$\n",
    "\n",
    "More generally:\n",
    "\n",
    "$\\Large\\text{z} = \\frac{\\text{sample statistic - hypothetical parameter value}}{\\text{standard error}}$\n",
    "\n",
    "Intuitively, we can see that:\n",
    "+ the closer the absolute value of this number is to zero, the **less likely** that the mean and the hypothesized value are significantly different.\n",
    "+ the larger the absolute value of this number is, the **more likely** that the mean and the hypothsized value are significantly different.\n",
    "\n"
   ]
  },
  {
   "cell_type": "code",
   "execution_count": 8,
   "id": "e0ecb5a4-0f38-475d-90b9-aa7c6f51af63",
   "metadata": {},
   "outputs": [
    {
     "name": "stdout",
     "output_type": "stream",
     "text": [
      "z-score for SO salaries having hypothesized value of 110k: 1.722267065962759\n",
      "What does this number suggest regarding our hypothesis?\n"
     ]
    }
   ],
   "source": [
    "# from our previous example\n",
    "mean_comp_hyp = 110000  # our original hypothesized value\n",
    "z_score_so_salaries = (mean_comp_samp - mean_comp_hyp) / std_error\n",
    "print(f\"z-score for SO salaries having hypothesized value of 110k: {z_score_so_salaries}\")\n",
    "print(\"What does this number suggest regarding our hypothesis?\")"
   ]
  },
  {
   "cell_type": "markdown",
   "id": "24d556a3-9b65-44c3-9f3e-4f9dd0ca8c17",
   "metadata": {},
   "source": [
    "## Calculating the sample mean\n",
    "\n",
    "The late_shipments dataset contains supply chain data on the delivery of medical supplies. Each row represents one delivery of a part. The late columns denotes whether or not the part was delivered late. A value of \"Yes\" means that the part was delivered late, and a value of \"No\" means the part was delivered on time.\n",
    "\n",
    "We'll begin our analysis by calculating a point estimate (or sample statistic), namely the proportion of late shipments."
   ]
  },
  {
   "cell_type": "code",
   "execution_count": 9,
   "id": "bf9bc467-a826-4ff3-9948-74b2a25e41be",
   "metadata": {},
   "outputs": [
    {
     "name": "stdout",
     "output_type": "stream",
     "text": [
      "shape of late shipments data: (1000, 27)\n",
      "\n",
      "columns in the late shipments data: Index(['id', 'country', 'managed_by', 'fulfill_via', 'vendor_inco_term',\n",
      "       'shipment_mode', 'late_delivery', 'late', 'product_group',\n",
      "       'sub_classification', 'vendor', 'item_description',\n",
      "       'molecule_test_type', 'brand', 'dosage', 'dosage_form',\n",
      "       'unit_of_measure_per_pack', 'line_item_quantity', 'line_item_value',\n",
      "       'pack_price', 'unit_price', 'manufacturing_site',\n",
      "       'first_line_designation', 'weight_kilograms', 'freight_cost_usd',\n",
      "       'freight_cost_groups', 'line_item_insurance_usd'],\n",
      "      dtype='object')\n",
      "\n",
      "late\n",
      "No     939\n",
      "Yes     61\n",
      "Name: count, dtype: int64\n"
     ]
    }
   ],
   "source": [
    "late_shipments = pd.read_feather('./data/late_shipments.feather')\n",
    "print(f\"shape of late shipments data: {late_shipments.shape}\\n\")  # (1000, 27)\n",
    "print(f\"columns in the late shipments data: {late_shipments.columns}\\n\")\n",
    "are_late = late_shipments[\"late\"].value_counts()\n",
    "n_yes = are_late['Yes']\n",
    "n_no = are_late['No']\n",
    "print(are_late)"
   ]
  },
  {
   "cell_type": "code",
   "execution_count": 10,
   "id": "c5f69134-2a79-460a-ba76-6cd4f50887e2",
   "metadata": {},
   "outputs": [
    {
     "name": "stdout",
     "output_type": "stream",
     "text": [
      "proportion of shipments that are late: 0.061\n"
     ]
    }
   ],
   "source": [
    "# calc the proportion of late shipments\n",
    "late_prop_samp = (late_shipments[\"late\"] == 'Yes').mean()\n",
    "\n",
    "print(f\"proportion of shipments that are late: {late_prop_samp}\")"
   ]
  },
  {
   "cell_type": "markdown",
   "id": "c2f386b4-b18d-4320-8c53-c6094d463b8c",
   "metadata": {},
   "source": [
    "## Calculating a z-score\n",
    "\n",
    "Since variables have arbitrary ranges and units, we need to ***standardize*** them as mentioned earlier. For example, a hypothesis test using salaries data that gave different answers if the variables were in **Euros** instead of **US dollars** would be of little value. Standardization avoids this issue.\n",
    "\n",
    "One standardized value of interest in a hypothesis test is called a **z-score**. To calculate it, we need three numbers: the sample statistic (point estimate), the hypothesized statistic, and the standard error of the statistic (estimated from the bootstrap distribution)."
   ]
  },
  {
   "cell_type": "code",
   "execution_count": 11,
   "id": "41a53792-a7d6-4abe-8cc7-406503cc709a",
   "metadata": {},
   "outputs": [
    {
     "name": "stdout",
     "output_type": "stream",
     "text": [
      "number samples in bootstrap distribution: 5000\n",
      "first few samples of bootstrap distribution: [0.059, 0.056, 0.063, 0.067, 0.051]\n"
     ]
    }
   ],
   "source": [
    "# create the bootstrap distribution for the proportion of late shipments\n",
    "late_shipments[\"late_binary\"] = late_shipments[\"late\"] == \"Yes\"\n",
    "late_shipments[\"late_binary\"] = late_shipments[\"late_binary\"].astype(int)\n",
    "late_shipments_boot_distn = get_bootstrap_dist(late_shipments, \"late_binary\")\n",
    "print(f\"number samples in bootstrap distribution: {len(late_shipments_boot_distn)}\")\n",
    "print(f\"first few samples of bootstrap distribution: {late_shipments_boot_distn[:5]}\")"
   ]
  },
  {
   "cell_type": "code",
   "execution_count": 12,
   "id": "3c7521b5-346a-49fa-9ae0-c74713ebd12a",
   "metadata": {},
   "outputs": [
    {
     "name": "stdout",
     "output_type": "stream",
     "text": [
      "std error: 0.00756250210181789 | z-score: 0.13223136820809858\n"
     ]
    }
   ],
   "source": [
    "# hypothesize that the proportion is 6%\n",
    "late_prop_hyp = 0.06\n",
    "\n",
    "# calc standard error\n",
    "std_error = np.std(late_shipments_boot_distn)\n",
    "\n",
    "# calc z-score of late_prop_samp\n",
    "z_score = (late_prop_samp - late_prop_hyp) / std_error\n",
    "\n",
    "print(f\"std error: {std_error} | z-score: {z_score}\")  # 0.1335510751060483 listed on platform, pretty close"
   ]
  },
  {
   "cell_type": "markdown",
   "id": "2cdfae08-02b7-4fd0-827d-1004f9bb4b04",
   "metadata": {},
   "source": [
    "## p-values\n",
    "\n",
    "$H_0:$ The proportion of data scientists starting programming as children is 35%  \n",
    "$H_A:$ The proportion of data scientists starting programming as children is greater than 35% (right tail test)"
   ]
  },
  {
   "cell_type": "code",
   "execution_count": 13,
   "id": "61eac279-5217-4bff-8f48-1eb6cb1e6033",
   "metadata": {},
   "outputs": [],
   "source": [
    "stack_overflow[\"age_1st_cut_binary\"] = stack_overflow[\"age_first_code_cut\"] == \"child\"\n",
    "stack_overflow[\"age_1st_cut_binary\"] = stack_overflow[\"age_1st_cut_binary\"].astype(int)\n",
    "# create bootstrap dist of age_first_code_cut and visualize\n",
    "first_code_boot_distn = get_bootstrap_dist(stack_overflow, \"age_1st_cut_binary\")"
   ]
  },
  {
   "cell_type": "code",
   "execution_count": 14,
   "id": "a7cbf4e0-a8fb-4581-966a-fdd75c46448f",
   "metadata": {},
   "outputs": [
    {
     "data": {
      "image/png": "[encoded data removed]",
      "text/plain": [
       "<Figure size 640x480 with 1 Axes>"
      ]
     },
     "metadata": {},
     "output_type": "display_data"
    }
   ],
   "source": [
    "# visualize bootstrap distribution\n",
    "fig, ax = plt.subplots()\n",
    "ax.hist(first_code_boot_distn, bins=50)\n",
    "ax.set_title(\"Bootstrap Distribution of Stack Overflow 'age first code'\")\n",
    "plt.show()"
   ]
  },
  {
   "cell_type": "code",
   "execution_count": 15,
   "id": "c380b980-1b2e-46bc-b4b5-6f4f2812635d",
   "metadata": {},
   "outputs": [
    {
     "name": "stdout",
     "output_type": "stream",
     "text": [
      "sample mean: 0.39141972578505085 | std error: 0.010151707633911256 | z-score: 4.080074730155784\n"
     ]
    }
   ],
   "source": [
    "# calc z-score - start with the mean\n",
    "prop_child_samp = (stack_overflow['age_first_code_cut'] == \"child\").mean() \n",
    "# hypothesized value\n",
    "prop_child_hyp = 0.35\n",
    "std_error = np.std(first_code_boot_distn, ddof=1)\n",
    "z_score = (prop_child_samp - prop_child_hyp) / std_error\n",
    "print(f\"sample mean: {prop_child_samp} | std error: {std_error} | z-score: {z_score}\")"
   ]
  },
  {
   "cell_type": "markdown",
   "id": "20775535-5e4d-480d-b238-20bd26f2d700",
   "metadata": {},
   "source": [
    "## Late shipments"
   ]
  },
  {
   "cell_type": "code",
   "execution_count": 16,
   "id": "4b1b0db4-16db-4aba-8081-f4b4aab15a36",
   "metadata": {},
   "outputs": [
    {
     "name": "stdout",
     "output_type": "stream",
     "text": [
      "0.46076541472982535\n"
     ]
    }
   ],
   "source": [
    "# calc p-value for prior example\n",
    "late_prop_hyp = 0.060\n",
    "\n",
    "# Calculate the z-score of late_prop_samp\n",
    "z_score = (late_prop_samp - late_prop_hyp) / std_error\n",
    "\n",
    "# Calculate the p-value\n",
    "p_value = 1 - norm.cdf(z_score, loc=0, scale=1)\n",
    "                 \n",
    "# Print the p-value\n",
    "print(p_value) "
   ]
  },
  {
   "cell_type": "markdown",
   "id": "fd32ec3d-e961-4bcf-9ec8-959dcbf9482b",
   "metadata": {},
   "source": [
    "## Statistical significance\n",
    "\n",
    "+ p-values quantify evidence for the null hypothesis\n",
    "+ Large p-value → fail to reject null hypothesis\n",
    "+ Small p-value → reject null hypothesis\n",
    "+ Where is the cutoff point? → **significance level** ($\\alpha$), theshold point for \"*beyond a reasonable doubt*\"\n",
    "+ Most common value for $\\alpha$ is `0.05`, but `0.1`, `0.2` and `0.01` are not uncommon\n",
    "+ If $p \\leq \\alpha, \\text{reject } H_0 \\text{, else fail to reject } H_0$\n",
    "+ $\\alpha$ needs to be set **prior** to conducting the hypothesis test\n",
    "+ Define ***confidence interval*** as $1 - \\alpha$"
   ]
  },
  {
   "cell_type": "markdown",
   "id": "b9dc60de-562b-4dfa-8c13-23170d02e90e",
   "metadata": {},
   "source": [
    "### Example\n",
    "\n",
    "$H_0$: Proportion of coders starting as children = 0.35  \n",
    "$H_A$: Proportion of coders starting as children > 0.35  "
   ]
  },
  {
   "cell_type": "code",
   "execution_count": 17,
   "id": "2978fe4a-c6d7-4893-abb2-87142c3477be",
   "metadata": {},
   "outputs": [
    {
     "name": "stdout",
     "output_type": "stream",
     "text": [
      "Testing sample mean: 0.39141972578505085 vs. hyp. mean: 0.35\n",
      "std error: 0.010151707633911256 | z-score: 4.080074730155784 | p_value: 2.251061236624441e-05\n",
      "reject H0 because p_value of 2.251061236624441e-05 is <= alpha of 0.05\n"
     ]
    }
   ],
   "source": [
    "alpha = 0.05\n",
    "prop_child_samp = (stack_overflow['age_first_code_cut'] == \"child\").mean()\n",
    "prop_child_hyp = 0.35\n",
    "std_error = np.std(first_code_boot_distn, ddof=1)\n",
    "z_score = (prop_child_samp - prop_child_hyp) / std_error\n",
    "p_value = 1 - norm.cdf(z_score, loc=0, scale=1)\n",
    "\n",
    "print(f\"Testing sample mean: {prop_child_samp} vs. hyp. mean: {prop_child_hyp}\")\n",
    "print(f\"std error: {std_error} | z-score: {z_score} | p_value: {p_value}\")\n",
    "\n",
    "if p_value <= alpha:\n",
    "    print(f\"reject H0 because p_value of {p_value} is <= alpha of {alpha}\")\n",
    "else:\n",
    "    print(f\"accept H0 because p_value of {p_value} is > alpha of {alpha}\")\n",
    "   "
   ]
  },
  {
   "cell_type": "code",
   "execution_count": 18,
   "id": "ebfd234e-cc9d-4168-8a3e-99c746fc30cb",
   "metadata": {},
   "outputs": [
    {
     "name": "stdout",
     "output_type": "stream",
     "text": [
      "95% confidence interval: (0.3715059708093764, 0.41132242370632466)\n"
     ]
    }
   ],
   "source": [
    "lower = np.quantile(first_code_boot_distn, 0.025)\n",
    "upper = np.quantile(first_code_boot_distn, 0.975)\n",
    "print(f\"{round(100*(1-alpha))}% confidence interval: {(lower, upper)}\")"
   ]
  },
  {
   "cell_type": "markdown",
   "id": "aa2b300d-7a69-4dcb-9aac-6c9a006e9f6e",
   "metadata": {},
   "source": [
    "## Types of errors (confusion matrix)\n",
    "\n",
    "<img src=\"./graphics/types_of_errors.png\">"
   ]
  },
  {
   "cell_type": "markdown",
   "id": "36c84de9-f353-4090-a17d-ca7e4bd0de05",
   "metadata": {},
   "source": [
    "## Performing t-tests\n",
    "\n",
    "The **t-statistic** is a value used to determine if there is a significant **difference between the means of two groups**, especially when the **sample size is small** or the **population standard deviation is unknown**. It is calculated as the ratio of the difference between an estimated value and a known value to the **standard error** of the estimate.\n",
    "\n",
    "### Example: Compensation between members of group\n",
    "\n",
    "*Are users who first programmed as a child compensated higher than those that started as adults?*\n",
    "\n",
    "$H_0$ : The mean compensation (in USD) is the same for those that coded first as a child and those that coded first as an adult.\n",
    "\n",
    "$H_0$ : $\\mu_{\\text{child}} = \\mu_{\\text{adult}}$&nbsp;&nbsp;&nbsp;&nbsp;or  \n",
    "&nbsp;&nbsp;&nbsp;&nbsp;&nbsp;&nbsp;&nbsp;$\\mu_{\\text{child}} - \\mu_{\\text{adult}} = 0$\n",
    "\n",
    "$H_A$ : The mean compensation (in USD) is **greater** for those that coded first as a child and those that coded first as an adult.\n",
    "\n",
    "$H_A$ : $\\mu_{\\text{child}} > \\mu_{\\text{adult}}$&nbsp;&nbsp;&nbsp;&nbsp;or  \n",
    "&nbsp;&nbsp;&nbsp;&nbsp;&nbsp;&nbsp;&nbsp;$\\mu_{\\text{child}} - \\mu_{\\text{adult}} > 0$\n",
    "\n",
    "#### Notation\n",
    "\n",
    "$\\mu$ = population mean  \n",
    "$\\bar{x}$ = sample mean"
   ]
  },
  {
   "cell_type": "code",
   "execution_count": 19,
   "id": "3a309db6-2e71-4ac7-a05b-48780cd91103",
   "metadata": {},
   "outputs": [
    {
     "name": "stdout",
     "output_type": "stream",
     "text": [
      "compensation for 1st code child:  132419.5706214689\n",
      "compensation for 1st code adults: 111313.31104651163\n"
     ]
    }
   ],
   "source": [
    "# calculate groupwise summary stats\n",
    "code_means = stack_overflow.groupby('age_first_code_cut')['converted_comp'].mean()\n",
    "mean_child = code_means['child']\n",
    "mean_adult = code_means['adult']\n",
    "print(f\"compensation for 1st code child:  {mean_child}\")\n",
    "print(f\"compensation for 1st code adults: {mean_adult}\")"
   ]
  },
  {
   "cell_type": "markdown",
   "id": "aa43fa70-1074-4190-9aa5-bb4b48618e39",
   "metadata": {},
   "source": [
    "### Is this difference significant or can it be explained by sampling variability?\n",
    "\n",
    "test statistic = $(\\bar{x}_{\\text{child}} - \\bar{x}_{\\text{adult}})$\n",
    "\n",
    "### t-statistic\n",
    "\n",
    "$$\n",
    "\\begin{align}\n",
    "\\Large\\text{t} & = \\frac{\\text{difference in sample stats - difference in population parameters}}{\\text{standard error}} \\\\[2em]\n",
    "               & = \\frac{(\\bar{x}_{\\text{child}} - \\bar{x}_{\\text{adult}}) - (\\mu_{\\text{child}} - \\mu_{\\text{adult}})}{\\text{standard error}} \\\\[2em]\n",
    "               & = \\frac{(\\bar{x}_{\\text{child}} - \\bar{x}_{\\text{adult}}) - (\\mu_{\\text{child}} - \\mu_{\\text{adult}})}{SE(\\bar{x}_{\\text{child}} - \\bar{x}_{\\text{adult}})}\n",
    "\\end{align}\n",
    "$$\n",
    "\n",
    "### Standard error\n",
    "\n",
    "The **standard error** is computed differently depending on the test, but for testing the difference between two means from populations of unequal variance, this is called **Welch's t-test** and the $SE$ is the denominatorof the following statistic:\n",
    "\n",
    "$$\n",
    "\\begin{align}\n",
    "\\Large t = \\dfrac{(\\bar{x}_{\\text{child}} - \\bar{x}_{\\text{adult}})}{\\sqrt{\\dfrac{s_{\\text{child}}^2}{n_{\\text{child}}} + \\dfrac{s_{\\text{adult}}^2}{n_{\\text{adult}}}}}\n",
    "\\end{align}\n",
    "$$\n"
   ]
  },
  {
   "cell_type": "markdown",
   "id": "9951ee0f-28ae-4f17-a185-79a7c3af37fe",
   "metadata": {},
   "source": [
    "## Late shipments\n",
    "\n",
    "### From t to p\n",
    "\n",
    "In order to make decision about weights relationship to being late, we need to transform the test statistic with a cumulative distribution function to get a p-value.\n",
    "\n",
    "#### Hypotheses:\n",
    "\n",
    "$H_0$: The mean weight of shipments that weren't late is the same as the mean weight of shipments that were late.\n",
    "\n",
    "$H_A$: The mean weight of shipments that weren't late is less than the mean weight of shipments that were late."
   ]
  },
  {
   "cell_type": "code",
   "execution_count": 20,
   "id": "2df1289b-80cb-4774-8ccf-babd6f69a970",
   "metadata": {},
   "outputs": [
    {
     "name": "stdout",
     "output_type": "stream",
     "text": [
      "late\n",
      "No     1897.791267\n",
      "Yes    2715.672131\n",
      "Name: weight_kilograms, dtype: float64\n",
      "late\n",
      "No     3154.039507\n",
      "Yes    2544.688211\n",
      "Name: weight_kilograms, dtype: float64\n"
     ]
    }
   ],
   "source": [
    "# weight_kilograms\n",
    "late_wgt_mean = late_shipments.groupby(\"late\")[\"weight_kilograms\"].mean()\n",
    "xbar_no = late_wgt_mean[\"No\"]\n",
    "xbar_yes = late_wgt_mean[\"Yes\"]\n",
    "late_wgt_std = late_shipments.groupby(\"late\")[\"weight_kilograms\"].std()\n",
    "s_no = late_wgt_std[\"No\"]\n",
    "s_yes = late_wgt_std[\"Yes\"]\n",
    "print(late_wgt_mean)\n",
    "print(late_wgt_std)"
   ]
  },
  {
   "cell_type": "code",
   "execution_count": 21,
   "id": "14f82131-25b5-45ed-be25-12831329f1d9",
   "metadata": {},
   "outputs": [
    {
     "name": "stdout",
     "output_type": "stream",
     "text": [
      "-2.3936661778766433\n"
     ]
    }
   ],
   "source": [
    "numerator = xbar_no - xbar_yes\n",
    "denominator = np.sqrt(s_no ** 2 / n_no + s_yes ** 2 / n_yes)\n",
    "t_stat = numerator / denominator\n",
    "print(t_stat)"
   ]
  },
  {
   "cell_type": "code",
   "execution_count": 22,
   "id": "fabee9e7-c71d-4e3a-9db3-a63316b9651e",
   "metadata": {},
   "outputs": [
    {
     "name": "stdout",
     "output_type": "stream",
     "text": [
      "0.008432382146249523\n",
      "Since p value of 0.008432382146249523 is < alpha of 0.05, reject the null hypothsis in favor of the alternative.\n"
     ]
    }
   ],
   "source": [
    "from scipy.stats import t\n",
    "\n",
    "alpha = 0.05\n",
    "\n",
    "# Calculate the degrees of freedom\n",
    "degrees_of_freedom = n_yes + n_no - 2\n",
    "\n",
    "# Calculate the p-value from the test stat\n",
    "p_value = t.cdf(t_stat, df=degrees_of_freedom)\n",
    "\n",
    "# Print the p_value\n",
    "print(p_value)\n",
    "print(f\"Since p value of {p_value} is < alpha of {alpha}, reject the null hypothsis in favor of the alternative.\")"
   ]
  },
  {
   "cell_type": "markdown",
   "id": "e7955d93-d575-4c1e-ab0d-418194f37296",
   "metadata": {},
   "source": [
    "## Paired t-tests\n",
    "\n",
    "### Research question: Was the percentage of Republican candidate voters lower in 2008 than 2012?\n",
    "\n",
    "$\\Large H_0$ : $\\Large \\mu_{\\text{2008}} - \\mu_{\\text{2012}} = 0$  \n",
    "$\\Large H_A$ : $\\Large \\mu_{\\text{2008}} - \\mu_{\\text{2012}} < 0$\n",
    "\n",
    "+ Set α = 0.05 significance level.\n",
    "+ Data is **paired** → each voter percentage refers to the same county (not independent)\n",
    "+ Want to capture voting patterns in model\n",
    "\n",
    "**Reference:**  \n",
    "https://dataverse.harvard.edu/dataset.xhtml?persistentId=doi:10.7910/DVN/VOQCHQ"
   ]
  },
  {
   "cell_type": "code",
   "execution_count": 23,
   "id": "b68c1da4-e3ae-4e2a-835f-a5846852b1d8",
   "metadata": {},
   "outputs": [
    {
     "data": {
      "text/html": [
       "<div>\n",
       "<style scoped>\n",
       "    .dataframe tbody tr th:only-of-type {\n",
       "        vertical-align: middle;\n",
       "    }\n",
       "\n",
       "    .dataframe tbody tr th {\n",
       "        vertical-align: top;\n",
       "    }\n",
       "\n",
       "    .dataframe thead th {\n",
       "        text-align: right;\n",
       "    }\n",
       "</style>\n",
       "<table border=\"1\" class=\"dataframe\">\n",
       "  <thead>\n",
       "    <tr style=\"text-align: right;\">\n",
       "      <th></th>\n",
       "      <th>state</th>\n",
       "      <th>county</th>\n",
       "      <th>repub_percent_08</th>\n",
       "      <th>repub_percent_12</th>\n",
       "    </tr>\n",
       "  </thead>\n",
       "  <tbody>\n",
       "    <tr>\n",
       "      <th>0</th>\n",
       "      <td>Alabama</td>\n",
       "      <td>Hale</td>\n",
       "      <td>38.957877</td>\n",
       "      <td>37.139882</td>\n",
       "    </tr>\n",
       "    <tr>\n",
       "      <th>1</th>\n",
       "      <td>Arkansas</td>\n",
       "      <td>Nevada</td>\n",
       "      <td>56.726272</td>\n",
       "      <td>58.983452</td>\n",
       "    </tr>\n",
       "    <tr>\n",
       "      <th>2</th>\n",
       "      <td>California</td>\n",
       "      <td>Lake</td>\n",
       "      <td>38.896719</td>\n",
       "      <td>39.331367</td>\n",
       "    </tr>\n",
       "    <tr>\n",
       "      <th>3</th>\n",
       "      <td>California</td>\n",
       "      <td>Ventura</td>\n",
       "      <td>42.923190</td>\n",
       "      <td>45.250693</td>\n",
       "    </tr>\n",
       "    <tr>\n",
       "      <th>4</th>\n",
       "      <td>Colorado</td>\n",
       "      <td>Lincoln</td>\n",
       "      <td>74.522569</td>\n",
       "      <td>73.764757</td>\n",
       "    </tr>\n",
       "  </tbody>\n",
       "</table>\n",
       "</div>"
      ],
      "text/plain": [
       "        state   county  repub_percent_08  repub_percent_12\n",
       "0     Alabama     Hale         38.957877         37.139882\n",
       "1    Arkansas   Nevada         56.726272         58.983452\n",
       "2  California     Lake         38.896719         39.331367\n",
       "3  California  Ventura         42.923190         45.250693\n",
       "4    Colorado  Lincoln         74.522569         73.764757"
      ]
     },
     "execution_count": 23,
     "metadata": {},
     "output_type": "execute_result"
    }
   ],
   "source": [
    "alpha = 0.05\n",
    "\n",
    "df_rep_votes = pd.read_feather(\"./data/repub_votes_potus_08_12.feather\")\n",
    "df_rep_votes.head()"
   ]
  },
  {
   "cell_type": "code",
   "execution_count": 24,
   "id": "09fa8c28-38ae-4660-a9d2-e6f5c99f45a2",
   "metadata": {},
   "outputs": [
    {
     "data": {
      "text/plain": [
       "<Axes: >"
      ]
     },
     "execution_count": 24,
     "metadata": {},
     "output_type": "execute_result"
    },
    {
     "data": {
      "image/png": "[encoded data removed]",
      "text/plain": [
       "<Figure size 640x480 with 1 Axes>"
      ]
     },
     "metadata": {},
     "output_type": "display_data"
    }
   ],
   "source": [
    "sample_data = df_rep_votes \n",
    "sample_data['diff'] = sample_data['repub_percent_08'] - sample_data['repub_percent_12']\n",
    "\n",
    "sample_data['diff'].hist(bins=20) "
   ]
  },
  {
   "cell_type": "code",
   "execution_count": 25,
   "id": "a8ed9449-9f4f-40c3-b701-cd03c28ea9b7",
   "metadata": {},
   "outputs": [
    {
     "name": "stdout",
     "output_type": "stream",
     "text": [
      "mean of diff: -2.877109041242944\n"
     ]
    }
   ],
   "source": [
    " xbar_diff = sample_data['diff'].mean()\n",
    "print(f\"mean of diff: {xbar_diff}\")"
   ]
  },
  {
   "cell_type": "markdown",
   "id": "e386b486-f791-4d90-987d-8f9654141087",
   "metadata": {},
   "source": [
    "## Revised hypotheses\n",
    "\n",
    "$\\Large H_0$ : $\\Large \\mu_{\\text{diff}} = 0$  \n",
    "$\\Large H_A$ : $\\Large \\mu_{\\text{diff}} < 0$  \n",
    "\n",
    "### Revised test statistic for paired samples:\n",
    "\n",
    "$$\n",
    "\\begin{align}\n",
    "\\Large t = \\dfrac{(\\bar{x}_{\\text{diff}} - \\mu_{\\text{diff}})}{\\sqrt{\\dfrac{s_{\\text{diff}}^2}{n_{\\text{diff}}}}} \\\\[1em]\n",
    "\\Large df = n_{\\text{diff}} - 1\n",
    "\\end{align}\n",
    "$$"
   ]
  },
  {
   "cell_type": "code",
   "execution_count": 26,
   "id": "fba56bba-99b9-4186-857b-b4d148dba386",
   "metadata": {},
   "outputs": [
    {
     "name": "stdout",
     "output_type": "stream",
     "text": [
      "n_diff: 100 | s_diff: 5.136737887231852\n"
     ]
    }
   ],
   "source": [
    "n_diff = len(sample_data)\n",
    "s_diff = sample_data['diff'].std()\n",
    "print(f\"n_diff: {n_diff} | s_diff: {s_diff}\")"
   ]
  },
  {
   "cell_type": "code",
   "execution_count": 27,
   "id": "06ccafcc-4a9a-4006-b750-fbf608c8e60d",
   "metadata": {},
   "outputs": [
    {
     "name": "stdout",
     "output_type": "stream",
     "text": [
      "t_stat: -5.601043121928489 | degrees_of_freedom: 99 | p_value: 9.572537285272411e-08\n",
      "Since p value of 9.572537285272411e-08 is < alpha of 0.05, reject the null hypothsis in favor of the alternative.\n"
     ]
    }
   ],
   "source": [
    "t_stat = (xbar_diff-0) / np.sqrt(s_diff**2/n_diff)\n",
    "degrees_of_freedom = n_diff - 1\n",
    "p_value = t.cdf(t_stat, df=degrees_of_freedom)\n",
    "print(f\"t_stat: {t_stat} | degrees_of_freedom: {degrees_of_freedom} | p_value: {p_value}\")\n",
    "print(f\"Since p value of {p_value} is < alpha of {alpha}, reject the null hypothsis in favor of the alternative.\")"
   ]
  },
  {
   "cell_type": "code",
   "execution_count": 28,
   "id": "5d65846d-011d-4506-91a8-a95131aa3635",
   "metadata": {},
   "outputs": [
    {
     "data": {
      "text/html": [
       "<div>\n",
       "<style scoped>\n",
       "    .dataframe tbody tr th:only-of-type {\n",
       "        vertical-align: middle;\n",
       "    }\n",
       "\n",
       "    .dataframe tbody tr th {\n",
       "        vertical-align: top;\n",
       "    }\n",
       "\n",
       "    .dataframe thead th {\n",
       "        text-align: right;\n",
       "    }\n",
       "</style>\n",
       "<table border=\"1\" class=\"dataframe\">\n",
       "  <thead>\n",
       "    <tr style=\"text-align: right;\">\n",
       "      <th></th>\n",
       "      <th>T</th>\n",
       "      <th>dof</th>\n",
       "      <th>alternative</th>\n",
       "      <th>p-val</th>\n",
       "      <th>CI95%</th>\n",
       "      <th>cohen-d</th>\n",
       "      <th>BF10</th>\n",
       "      <th>power</th>\n",
       "    </tr>\n",
       "  </thead>\n",
       "  <tbody>\n",
       "    <tr>\n",
       "      <th>T-test</th>\n",
       "      <td>-5.601043</td>\n",
       "      <td>99</td>\n",
       "      <td>less</td>\n",
       "      <td>9.572537e-08</td>\n",
       "      <td>[-inf, -2.02]</td>\n",
       "      <td>0.560104</td>\n",
       "      <td>1.323e+05</td>\n",
       "      <td>0.999955</td>\n",
       "    </tr>\n",
       "  </tbody>\n",
       "</table>\n",
       "</div>"
      ],
      "text/plain": [
       "               T  dof alternative         p-val          CI95%   cohen-d  \\\n",
       "T-test -5.601043   99        less  9.572537e-08  [-inf, -2.02]  0.560104   \n",
       "\n",
       "             BF10     power  \n",
       "T-test  1.323e+05  0.999955  "
      ]
     },
     "execution_count": 28,
     "metadata": {},
     "output_type": "execute_result"
    }
   ],
   "source": [
    "# easier way...\n",
    "import pingouin\n",
    "\n",
    "pingouin.ttest(\n",
    "    x=sample_data['diff'],\n",
    "    y=0,\n",
    "    alternative=\"less\"  # left tail\n",
    ")"
   ]
  },
  {
   "cell_type": "code",
   "execution_count": 29,
   "id": "ae1dc301-d864-4b7a-9406-7fd5e010935b",
   "metadata": {},
   "outputs": [
    {
     "data": {
      "text/html": [
       "<div>\n",
       "<style scoped>\n",
       "    .dataframe tbody tr th:only-of-type {\n",
       "        vertical-align: middle;\n",
       "    }\n",
       "\n",
       "    .dataframe tbody tr th {\n",
       "        vertical-align: top;\n",
       "    }\n",
       "\n",
       "    .dataframe thead th {\n",
       "        text-align: right;\n",
       "    }\n",
       "</style>\n",
       "<table border=\"1\" class=\"dataframe\">\n",
       "  <thead>\n",
       "    <tr style=\"text-align: right;\">\n",
       "      <th></th>\n",
       "      <th>T</th>\n",
       "      <th>dof</th>\n",
       "      <th>alternative</th>\n",
       "      <th>p-val</th>\n",
       "      <th>CI95%</th>\n",
       "      <th>cohen-d</th>\n",
       "      <th>BF10</th>\n",
       "      <th>power</th>\n",
       "    </tr>\n",
       "  </thead>\n",
       "  <tbody>\n",
       "    <tr>\n",
       "      <th>T-test</th>\n",
       "      <td>-5.601043</td>\n",
       "      <td>99</td>\n",
       "      <td>less</td>\n",
       "      <td>9.572537e-08</td>\n",
       "      <td>[-inf, -2.02]</td>\n",
       "      <td>0.217364</td>\n",
       "      <td>1.323e+05</td>\n",
       "      <td>0.696338</td>\n",
       "    </tr>\n",
       "  </tbody>\n",
       "</table>\n",
       "</div>"
      ],
      "text/plain": [
       "               T  dof alternative         p-val          CI95%   cohen-d  \\\n",
       "T-test -5.601043   99        less  9.572537e-08  [-inf, -2.02]  0.217364   \n",
       "\n",
       "             BF10     power  \n",
       "T-test  1.323e+05  0.696338  "
      ]
     },
     "execution_count": 29,
     "metadata": {},
     "output_type": "execute_result"
    }
   ],
   "source": [
    "# paired t-test - results in first 4 col's are the same\n",
    "pingouin.ttest(\n",
    "    x=sample_data['repub_percent_08'],\n",
    "    y=sample_data['repub_percent_12'],\n",
    "    paired=True,\n",
    "    alternative=\"less\"  # left tail\n",
    ")"
   ]
  },
  {
   "cell_type": "code",
   "execution_count": 30,
   "id": "ca1415e4-54cd-4f94-9376-32af0e98d54b",
   "metadata": {},
   "outputs": [
    {
     "data": {
      "text/html": [
       "<div>\n",
       "<style scoped>\n",
       "    .dataframe tbody tr th:only-of-type {\n",
       "        vertical-align: middle;\n",
       "    }\n",
       "\n",
       "    .dataframe tbody tr th {\n",
       "        vertical-align: top;\n",
       "    }\n",
       "\n",
       "    .dataframe thead th {\n",
       "        text-align: right;\n",
       "    }\n",
       "</style>\n",
       "<table border=\"1\" class=\"dataframe\">\n",
       "  <thead>\n",
       "    <tr style=\"text-align: right;\">\n",
       "      <th></th>\n",
       "      <th>T</th>\n",
       "      <th>dof</th>\n",
       "      <th>alternative</th>\n",
       "      <th>p-val</th>\n",
       "      <th>CI95%</th>\n",
       "      <th>cohen-d</th>\n",
       "      <th>BF10</th>\n",
       "      <th>power</th>\n",
       "    </tr>\n",
       "  </thead>\n",
       "  <tbody>\n",
       "    <tr>\n",
       "      <th>T-test</th>\n",
       "      <td>-1.536997</td>\n",
       "      <td>198</td>\n",
       "      <td>less</td>\n",
       "      <td>0.062945</td>\n",
       "      <td>[-inf, 0.22]</td>\n",
       "      <td>0.217364</td>\n",
       "      <td>0.927</td>\n",
       "      <td>0.454972</td>\n",
       "    </tr>\n",
       "  </tbody>\n",
       "</table>\n",
       "</div>"
      ],
      "text/plain": [
       "               T  dof alternative     p-val         CI95%   cohen-d   BF10  \\\n",
       "T-test -1.536997  198        less  0.062945  [-inf, 0.22]  0.217364  0.927   \n",
       "\n",
       "           power  \n",
       "T-test  0.454972  "
      ]
     },
     "execution_count": 30,
     "metadata": {},
     "output_type": "execute_result"
    }
   ],
   "source": [
    "pingouin.ttest(\n",
    "    x=sample_data['repub_percent_08'],\n",
    "    y=sample_data['repub_percent_12'],\n",
    "    paired=False,  # notice how p-value increased and power decreased\n",
    "    alternative=\"less\"\n",
    ")"
   ]
  },
  {
   "cell_type": "markdown",
   "id": "df2ea8c8-0bf0-4907-80a7-a2a54bd23e04",
   "metadata": {},
   "source": [
    "## ANOVA\n",
    "\n",
    "Analysis of Variance (ANOVA) is used when we need compare the differences between more than 2 groups. For example, the *job satisfaction* variable (`job_sat`) in the **StackOverflow** data has 5 levels as shown below. Say that we want to know:\n",
    "\n",
    "***Is mean annual compensation different for different levels of job satisfaction?***\n",
    "\n",
    "A boxplot is well-suited for visualizing this type of data. The `Very satisfied` category looks slightly higher, but we need a hypothesis test to determine if this is a **significant** difference.\n",
    "\n",
    "### ANOVA steps\n",
    "\n",
    "+ Set a significance level: $\\alpha$\n",
    "+ "
   ]
  },
  {
   "cell_type": "code",
   "execution_count": 31,
   "id": "7d3ef95d-e0cf-4553-a3e5-4941426e3ad2",
   "metadata": {},
   "outputs": [
    {
     "data": {
      "text/plain": [
       "job_sat\n",
       "Very satisfied           879\n",
       "Slightly satisfied       680\n",
       "Slightly dissatisfied    342\n",
       "Neither                  201\n",
       "Very dissatisfied        159\n",
       "Name: count, dtype: int64"
      ]
     },
     "execution_count": 31,
     "metadata": {},
     "output_type": "execute_result"
    }
   ],
   "source": [
    "stack_overflow['job_sat'].value_counts() "
   ]
  },
  {
   "cell_type": "code",
   "execution_count": 32,
   "id": "721abb3b-7d04-4ac2-ab67-426f28697f27",
   "metadata": {},
   "outputs": [
    {
     "data": {
      "image/png": "[encoded data removed]",
      "text/plain": [
       "<Figure size 640x480 with 1 Axes>"
      ]
     },
     "metadata": {},
     "output_type": "display_data"
    }
   ],
   "source": [
    "import seaborn as sns\n",
    "sns.boxplot(x=\"converted_comp\",\n",
    "            y=\"job_sat\",\n",
    "            data=stack_overflow,\n",
    "            hue=\"job_sat\")\n",
    "plt.show()"
   ]
  },
  {
   "cell_type": "code",
   "execution_count": 33,
   "id": "ea581b6a-ddd1-4639-ba71-6aab5c6cf2df",
   "metadata": {},
   "outputs": [
    {
     "data": {
      "text/html": [
       "<div>\n",
       "<style scoped>\n",
       "    .dataframe tbody tr th:only-of-type {\n",
       "        vertical-align: middle;\n",
       "    }\n",
       "\n",
       "    .dataframe tbody tr th {\n",
       "        vertical-align: top;\n",
       "    }\n",
       "\n",
       "    .dataframe thead th {\n",
       "        text-align: right;\n",
       "    }\n",
       "</style>\n",
       "<table border=\"1\" class=\"dataframe\">\n",
       "  <thead>\n",
       "    <tr style=\"text-align: right;\">\n",
       "      <th></th>\n",
       "      <th>Source</th>\n",
       "      <th>ddof1</th>\n",
       "      <th>ddof2</th>\n",
       "      <th>F</th>\n",
       "      <th>p-unc</th>\n",
       "      <th>np2</th>\n",
       "    </tr>\n",
       "  </thead>\n",
       "  <tbody>\n",
       "    <tr>\n",
       "      <th>0</th>\n",
       "      <td>job_sat</td>\n",
       "      <td>4</td>\n",
       "      <td>2256</td>\n",
       "      <td>4.480485</td>\n",
       "      <td>0.001315</td>\n",
       "      <td>0.007882</td>\n",
       "    </tr>\n",
       "  </tbody>\n",
       "</table>\n",
       "</div>"
      ],
      "text/plain": [
       "    Source  ddof1  ddof2         F     p-unc       np2\n",
       "0  job_sat      4   2256  4.480485  0.001315  0.007882"
      ]
     },
     "execution_count": 33,
     "metadata": {},
     "output_type": "execute_result"
    }
   ],
   "source": [
    "alpha = 0.2  # larger than typically set in most situations, but used here for illustration purposes\n",
    "\n",
    "pingouin.anova(data=stack_overflow,\n",
    "               dv=\"converted_comp\",  # dependent variable: assuming that compenstation depends on job satisfaction\n",
    "               between=\"job_sat\")    # groups which we are making comparisons between"
   ]
  },
  {
   "cell_type": "markdown",
   "id": "c75b2fb7-3035-433c-94bc-50f6351106f5",
   "metadata": {},
   "source": [
    "+ $(p = 0.001315) < (\\alpha = 0.2)$\n",
    "+ At least two categories have *significantly different* compensation\n",
    "    + ...but we don't know which two categories these are\n",
    " \n",
    "### To identifying which categories are different, we need to run\n",
    "\n",
    "<img src=\"./graphics/anova_pairwise_tests.png\">\n",
    "\n",
    "### We can us `pingouin` to run all these tests in one go!"
   ]
  },
  {
   "cell_type": "code",
   "execution_count": 34,
   "id": "54220883-a2d6-476f-a004-5201aa496b50",
   "metadata": {},
   "outputs": [
    {
     "data": {
      "text/html": [
       "<div>\n",
       "<style scoped>\n",
       "    .dataframe tbody tr th:only-of-type {\n",
       "        vertical-align: middle;\n",
       "    }\n",
       "\n",
       "    .dataframe tbody tr th {\n",
       "        vertical-align: top;\n",
       "    }\n",
       "\n",
       "    .dataframe thead th {\n",
       "        text-align: right;\n",
       "    }\n",
       "</style>\n",
       "<table border=\"1\" class=\"dataframe\">\n",
       "  <thead>\n",
       "    <tr style=\"text-align: right;\">\n",
       "      <th></th>\n",
       "      <th>Contrast</th>\n",
       "      <th>A</th>\n",
       "      <th>B</th>\n",
       "      <th>Paired</th>\n",
       "      <th>Parametric</th>\n",
       "      <th>T</th>\n",
       "      <th>dof</th>\n",
       "      <th>alternative</th>\n",
       "      <th>p-unc</th>\n",
       "      <th>BF10</th>\n",
       "      <th>hedges</th>\n",
       "    </tr>\n",
       "  </thead>\n",
       "  <tbody>\n",
       "    <tr>\n",
       "      <th>0</th>\n",
       "      <td>job_sat</td>\n",
       "      <td>Very dissatisfied</td>\n",
       "      <td>Slightly dissatisfied</td>\n",
       "      <td>False</td>\n",
       "      <td>True</td>\n",
       "      <td>1.129951</td>\n",
       "      <td>247.570187</td>\n",
       "      <td>two-sided</td>\n",
       "      <td>0.259590</td>\n",
       "      <td>0.197</td>\n",
       "      <td>0.119131</td>\n",
       "    </tr>\n",
       "    <tr>\n",
       "      <th>1</th>\n",
       "      <td>job_sat</td>\n",
       "      <td>Very dissatisfied</td>\n",
       "      <td>Neither</td>\n",
       "      <td>False</td>\n",
       "      <td>True</td>\n",
       "      <td>0.545948</td>\n",
       "      <td>321.165726</td>\n",
       "      <td>two-sided</td>\n",
       "      <td>0.585481</td>\n",
       "      <td>0.135</td>\n",
       "      <td>0.058537</td>\n",
       "    </tr>\n",
       "    <tr>\n",
       "      <th>2</th>\n",
       "      <td>job_sat</td>\n",
       "      <td>Very dissatisfied</td>\n",
       "      <td>Slightly satisfied</td>\n",
       "      <td>False</td>\n",
       "      <td>True</td>\n",
       "      <td>1.243665</td>\n",
       "      <td>187.153329</td>\n",
       "      <td>two-sided</td>\n",
       "      <td>0.215179</td>\n",
       "      <td>0.208</td>\n",
       "      <td>0.145624</td>\n",
       "    </tr>\n",
       "    <tr>\n",
       "      <th>3</th>\n",
       "      <td>job_sat</td>\n",
       "      <td>Very dissatisfied</td>\n",
       "      <td>Very satisfied</td>\n",
       "      <td>False</td>\n",
       "      <td>True</td>\n",
       "      <td>-0.747379</td>\n",
       "      <td>221.666205</td>\n",
       "      <td>two-sided</td>\n",
       "      <td>0.455627</td>\n",
       "      <td>0.126</td>\n",
       "      <td>-0.063479</td>\n",
       "    </tr>\n",
       "    <tr>\n",
       "      <th>4</th>\n",
       "      <td>job_sat</td>\n",
       "      <td>Slightly dissatisfied</td>\n",
       "      <td>Neither</td>\n",
       "      <td>False</td>\n",
       "      <td>True</td>\n",
       "      <td>-0.602209</td>\n",
       "      <td>367.730081</td>\n",
       "      <td>two-sided</td>\n",
       "      <td>0.547406</td>\n",
       "      <td>0.118</td>\n",
       "      <td>-0.055707</td>\n",
       "    </tr>\n",
       "    <tr>\n",
       "      <th>5</th>\n",
       "      <td>job_sat</td>\n",
       "      <td>Slightly dissatisfied</td>\n",
       "      <td>Slightly satisfied</td>\n",
       "      <td>False</td>\n",
       "      <td>True</td>\n",
       "      <td>0.038264</td>\n",
       "      <td>569.926329</td>\n",
       "      <td>two-sided</td>\n",
       "      <td>0.969491</td>\n",
       "      <td>0.074</td>\n",
       "      <td>0.002719</td>\n",
       "    </tr>\n",
       "    <tr>\n",
       "      <th>6</th>\n",
       "      <td>job_sat</td>\n",
       "      <td>Slightly dissatisfied</td>\n",
       "      <td>Very satisfied</td>\n",
       "      <td>False</td>\n",
       "      <td>True</td>\n",
       "      <td>-3.076222</td>\n",
       "      <td>821.303063</td>\n",
       "      <td>two-sided</td>\n",
       "      <td>0.002166</td>\n",
       "      <td>7.43</td>\n",
       "      <td>-0.173247</td>\n",
       "    </tr>\n",
       "    <tr>\n",
       "      <th>7</th>\n",
       "      <td>job_sat</td>\n",
       "      <td>Neither</td>\n",
       "      <td>Slightly satisfied</td>\n",
       "      <td>False</td>\n",
       "      <td>True</td>\n",
       "      <td>0.700752</td>\n",
       "      <td>258.204546</td>\n",
       "      <td>two-sided</td>\n",
       "      <td>0.484088</td>\n",
       "      <td>0.114</td>\n",
       "      <td>0.068513</td>\n",
       "    </tr>\n",
       "    <tr>\n",
       "      <th>8</th>\n",
       "      <td>job_sat</td>\n",
       "      <td>Neither</td>\n",
       "      <td>Very satisfied</td>\n",
       "      <td>False</td>\n",
       "      <td>True</td>\n",
       "      <td>-1.662901</td>\n",
       "      <td>328.326639</td>\n",
       "      <td>two-sided</td>\n",
       "      <td>0.097286</td>\n",
       "      <td>0.337</td>\n",
       "      <td>-0.120115</td>\n",
       "    </tr>\n",
       "    <tr>\n",
       "      <th>9</th>\n",
       "      <td>job_sat</td>\n",
       "      <td>Slightly satisfied</td>\n",
       "      <td>Very satisfied</td>\n",
       "      <td>False</td>\n",
       "      <td>True</td>\n",
       "      <td>-4.009935</td>\n",
       "      <td>1478.622799</td>\n",
       "      <td>two-sided</td>\n",
       "      <td>0.000064</td>\n",
       "      <td>158.564</td>\n",
       "      <td>-0.192931</td>\n",
       "    </tr>\n",
       "  </tbody>\n",
       "</table>\n",
       "</div>"
      ],
      "text/plain": [
       "  Contrast                      A                      B  Paired  Parametric  \\\n",
       "0  job_sat      Very dissatisfied  Slightly dissatisfied   False        True   \n",
       "1  job_sat      Very dissatisfied                Neither   False        True   \n",
       "2  job_sat      Very dissatisfied     Slightly satisfied   False        True   \n",
       "3  job_sat      Very dissatisfied         Very satisfied   False        True   \n",
       "4  job_sat  Slightly dissatisfied                Neither   False        True   \n",
       "5  job_sat  Slightly dissatisfied     Slightly satisfied   False        True   \n",
       "6  job_sat  Slightly dissatisfied         Very satisfied   False        True   \n",
       "7  job_sat                Neither     Slightly satisfied   False        True   \n",
       "8  job_sat                Neither         Very satisfied   False        True   \n",
       "9  job_sat     Slightly satisfied         Very satisfied   False        True   \n",
       "\n",
       "          T          dof alternative     p-unc     BF10    hedges  \n",
       "0  1.129951   247.570187   two-sided  0.259590    0.197  0.119131  \n",
       "1  0.545948   321.165726   two-sided  0.585481    0.135  0.058537  \n",
       "2  1.243665   187.153329   two-sided  0.215179    0.208  0.145624  \n",
       "3 -0.747379   221.666205   two-sided  0.455627    0.126 -0.063479  \n",
       "4 -0.602209   367.730081   two-sided  0.547406    0.118 -0.055707  \n",
       "5  0.038264   569.926329   two-sided  0.969491    0.074  0.002719  \n",
       "6 -3.076222   821.303063   two-sided  0.002166     7.43 -0.173247  \n",
       "7  0.700752   258.204546   two-sided  0.484088    0.114  0.068513  \n",
       "8 -1.662901   328.326639   two-sided  0.097286    0.337 -0.120115  \n",
       "9 -4.009935  1478.622799   two-sided  0.000064  158.564 -0.192931  "
      ]
     },
     "execution_count": 34,
     "metadata": {},
     "output_type": "execute_result"
    }
   ],
   "source": [
    "pingouin.pairwise_tests(data=stack_overflow,\n",
    "                        dv=\"converted_comp\",\n",
    "                        between=\"job_sat\",\n",
    "                        padjust=\"none\")"
   ]
  },
  {
   "cell_type": "markdown",
   "id": "e155b23f-e9d1-4c09-8ac0-6a4bb1990485",
   "metadata": {},
   "source": [
    "### Three of these pairs have a p-value below our significance level\n",
    "\n",
    "| A                    | B             | p-value |\n",
    "|----------------------|---------------|---------|\n",
    "| Slightly dissatisfied| Very satisfied| 0.002166|\n",
    "|               Neither| Very satisfied| 0.097286|\n",
    "|    Slightly satisfied| Very satisfied| 0.000064|"
   ]
  },
  {
   "cell_type": "markdown",
   "id": "422120e0-dad2-4273-b90c-d174cd9f86fa",
   "metadata": {},
   "source": [
    "## As the number of groups increases\n",
    "\n",
    "+ the number of pairs increases quadratically\n",
    "+ the probability increases rapidly that you find at least 1 significant result which is due to chance\n",
    "  + in other words, finding a result that you think is significant but is actually not.\n",
    "\n",
    "### Number of pairs\n",
    "\n",
    "As the number of groups increases, the number of pairs increases as the combination of *n choose 2* or:\n",
    "\n",
    "$\\Large{}_{n}C_{k} = \\dfrac{n!}{k!(n-k)!} = {}_{n}C_{2} = \\dfrac{n!}{2(n-2)!} = \\dfrac{1}{2}n(n-1)$\n",
    "\n",
    "which is quadratic.\n",
    "\n",
    "### Finding a significant result that isn't really significant\n",
    "\n",
    "In our example, each of the pairwise tests listed above has a 0.2 probability of finding a significant result. As the number of tests increases, the probability of finding at least one \"significant\" result can be modeled as a series of *Bernoulli trials*:\n",
    "\n",
    "$\\Large P(X = k) = ({}_{n}C_{k})p^{k}(1 - p)^{n-k}$\n",
    "\n",
    "where $p$ is the probability of \"success\" (0.2 in our case), $k$ is the number of groupings (2 in our case) and $n$ is the number of trials (*tests* in our case). For our example, these two ideas can be visualized as follows:\n",
    "\n",
    "<img src=\"./graphics/motive_for_bonferronii_correction.png\">\n",
    "\n",
    "### Bonferroni correction\n",
    "\n",
    "The Bonferroni correction was designed to **increase** the **p-value** to reduce the chance of getting a false positive when running a large number of tests. This correction can be calculated by `pingouin`.  When we apply this correction, only 2 of the pairs shows true signicance per the **p-corr** (*p corrected*) column."
   ]
  },
  {
   "cell_type": "code",
   "execution_count": 35,
   "id": "04328db0-35d9-480d-94e9-a829b1118ab6",
   "metadata": {},
   "outputs": [
    {
     "data": {
      "text/html": [
       "<div>\n",
       "<style scoped>\n",
       "    .dataframe tbody tr th:only-of-type {\n",
       "        vertical-align: middle;\n",
       "    }\n",
       "\n",
       "    .dataframe tbody tr th {\n",
       "        vertical-align: top;\n",
       "    }\n",
       "\n",
       "    .dataframe thead th {\n",
       "        text-align: right;\n",
       "    }\n",
       "</style>\n",
       "<table border=\"1\" class=\"dataframe\">\n",
       "  <thead>\n",
       "    <tr style=\"text-align: right;\">\n",
       "      <th></th>\n",
       "      <th>Contrast</th>\n",
       "      <th>A</th>\n",
       "      <th>B</th>\n",
       "      <th>Paired</th>\n",
       "      <th>Parametric</th>\n",
       "      <th>T</th>\n",
       "      <th>dof</th>\n",
       "      <th>alternative</th>\n",
       "      <th>p-unc</th>\n",
       "      <th>p-corr</th>\n",
       "      <th>p-adjust</th>\n",
       "      <th>BF10</th>\n",
       "      <th>hedges</th>\n",
       "    </tr>\n",
       "  </thead>\n",
       "  <tbody>\n",
       "    <tr>\n",
       "      <th>0</th>\n",
       "      <td>job_sat</td>\n",
       "      <td>Very dissatisfied</td>\n",
       "      <td>Slightly dissatisfied</td>\n",
       "      <td>False</td>\n",
       "      <td>True</td>\n",
       "      <td>1.129951</td>\n",
       "      <td>247.570187</td>\n",
       "      <td>two-sided</td>\n",
       "      <td>0.259590</td>\n",
       "      <td>1.000000</td>\n",
       "      <td>bonf</td>\n",
       "      <td>0.197</td>\n",
       "      <td>0.119131</td>\n",
       "    </tr>\n",
       "    <tr>\n",
       "      <th>1</th>\n",
       "      <td>job_sat</td>\n",
       "      <td>Very dissatisfied</td>\n",
       "      <td>Neither</td>\n",
       "      <td>False</td>\n",
       "      <td>True</td>\n",
       "      <td>0.545948</td>\n",
       "      <td>321.165726</td>\n",
       "      <td>two-sided</td>\n",
       "      <td>0.585481</td>\n",
       "      <td>1.000000</td>\n",
       "      <td>bonf</td>\n",
       "      <td>0.135</td>\n",
       "      <td>0.058537</td>\n",
       "    </tr>\n",
       "    <tr>\n",
       "      <th>2</th>\n",
       "      <td>job_sat</td>\n",
       "      <td>Very dissatisfied</td>\n",
       "      <td>Slightly satisfied</td>\n",
       "      <td>False</td>\n",
       "      <td>True</td>\n",
       "      <td>1.243665</td>\n",
       "      <td>187.153329</td>\n",
       "      <td>two-sided</td>\n",
       "      <td>0.215179</td>\n",
       "      <td>1.000000</td>\n",
       "      <td>bonf</td>\n",
       "      <td>0.208</td>\n",
       "      <td>0.145624</td>\n",
       "    </tr>\n",
       "    <tr>\n",
       "      <th>3</th>\n",
       "      <td>job_sat</td>\n",
       "      <td>Very dissatisfied</td>\n",
       "      <td>Very satisfied</td>\n",
       "      <td>False</td>\n",
       "      <td>True</td>\n",
       "      <td>-0.747379</td>\n",
       "      <td>221.666205</td>\n",
       "      <td>two-sided</td>\n",
       "      <td>0.455627</td>\n",
       "      <td>1.000000</td>\n",
       "      <td>bonf</td>\n",
       "      <td>0.126</td>\n",
       "      <td>-0.063479</td>\n",
       "    </tr>\n",
       "    <tr>\n",
       "      <th>4</th>\n",
       "      <td>job_sat</td>\n",
       "      <td>Slightly dissatisfied</td>\n",
       "      <td>Neither</td>\n",
       "      <td>False</td>\n",
       "      <td>True</td>\n",
       "      <td>-0.602209</td>\n",
       "      <td>367.730081</td>\n",
       "      <td>two-sided</td>\n",
       "      <td>0.547406</td>\n",
       "      <td>1.000000</td>\n",
       "      <td>bonf</td>\n",
       "      <td>0.118</td>\n",
       "      <td>-0.055707</td>\n",
       "    </tr>\n",
       "    <tr>\n",
       "      <th>5</th>\n",
       "      <td>job_sat</td>\n",
       "      <td>Slightly dissatisfied</td>\n",
       "      <td>Slightly satisfied</td>\n",
       "      <td>False</td>\n",
       "      <td>True</td>\n",
       "      <td>0.038264</td>\n",
       "      <td>569.926329</td>\n",
       "      <td>two-sided</td>\n",
       "      <td>0.969491</td>\n",
       "      <td>1.000000</td>\n",
       "      <td>bonf</td>\n",
       "      <td>0.074</td>\n",
       "      <td>0.002719</td>\n",
       "    </tr>\n",
       "    <tr>\n",
       "      <th>6</th>\n",
       "      <td>job_sat</td>\n",
       "      <td>Slightly dissatisfied</td>\n",
       "      <td>Very satisfied</td>\n",
       "      <td>False</td>\n",
       "      <td>True</td>\n",
       "      <td>-3.076222</td>\n",
       "      <td>821.303063</td>\n",
       "      <td>two-sided</td>\n",
       "      <td>0.002166</td>\n",
       "      <td>0.021659</td>\n",
       "      <td>bonf</td>\n",
       "      <td>7.43</td>\n",
       "      <td>-0.173247</td>\n",
       "    </tr>\n",
       "    <tr>\n",
       "      <th>7</th>\n",
       "      <td>job_sat</td>\n",
       "      <td>Neither</td>\n",
       "      <td>Slightly satisfied</td>\n",
       "      <td>False</td>\n",
       "      <td>True</td>\n",
       "      <td>0.700752</td>\n",
       "      <td>258.204546</td>\n",
       "      <td>two-sided</td>\n",
       "      <td>0.484088</td>\n",
       "      <td>1.000000</td>\n",
       "      <td>bonf</td>\n",
       "      <td>0.114</td>\n",
       "      <td>0.068513</td>\n",
       "    </tr>\n",
       "    <tr>\n",
       "      <th>8</th>\n",
       "      <td>job_sat</td>\n",
       "      <td>Neither</td>\n",
       "      <td>Very satisfied</td>\n",
       "      <td>False</td>\n",
       "      <td>True</td>\n",
       "      <td>-1.662901</td>\n",
       "      <td>328.326639</td>\n",
       "      <td>two-sided</td>\n",
       "      <td>0.097286</td>\n",
       "      <td>0.972864</td>\n",
       "      <td>bonf</td>\n",
       "      <td>0.337</td>\n",
       "      <td>-0.120115</td>\n",
       "    </tr>\n",
       "    <tr>\n",
       "      <th>9</th>\n",
       "      <td>job_sat</td>\n",
       "      <td>Slightly satisfied</td>\n",
       "      <td>Very satisfied</td>\n",
       "      <td>False</td>\n",
       "      <td>True</td>\n",
       "      <td>-4.009935</td>\n",
       "      <td>1478.622799</td>\n",
       "      <td>two-sided</td>\n",
       "      <td>0.000064</td>\n",
       "      <td>0.000638</td>\n",
       "      <td>bonf</td>\n",
       "      <td>158.564</td>\n",
       "      <td>-0.192931</td>\n",
       "    </tr>\n",
       "  </tbody>\n",
       "</table>\n",
       "</div>"
      ],
      "text/plain": [
       "  Contrast                      A                      B  Paired  Parametric  \\\n",
       "0  job_sat      Very dissatisfied  Slightly dissatisfied   False        True   \n",
       "1  job_sat      Very dissatisfied                Neither   False        True   \n",
       "2  job_sat      Very dissatisfied     Slightly satisfied   False        True   \n",
       "3  job_sat      Very dissatisfied         Very satisfied   False        True   \n",
       "4  job_sat  Slightly dissatisfied                Neither   False        True   \n",
       "5  job_sat  Slightly dissatisfied     Slightly satisfied   False        True   \n",
       "6  job_sat  Slightly dissatisfied         Very satisfied   False        True   \n",
       "7  job_sat                Neither     Slightly satisfied   False        True   \n",
       "8  job_sat                Neither         Very satisfied   False        True   \n",
       "9  job_sat     Slightly satisfied         Very satisfied   False        True   \n",
       "\n",
       "          T          dof alternative     p-unc    p-corr p-adjust     BF10  \\\n",
       "0  1.129951   247.570187   two-sided  0.259590  1.000000     bonf    0.197   \n",
       "1  0.545948   321.165726   two-sided  0.585481  1.000000     bonf    0.135   \n",
       "2  1.243665   187.153329   two-sided  0.215179  1.000000     bonf    0.208   \n",
       "3 -0.747379   221.666205   two-sided  0.455627  1.000000     bonf    0.126   \n",
       "4 -0.602209   367.730081   two-sided  0.547406  1.000000     bonf    0.118   \n",
       "5  0.038264   569.926329   two-sided  0.969491  1.000000     bonf    0.074   \n",
       "6 -3.076222   821.303063   two-sided  0.002166  0.021659     bonf     7.43   \n",
       "7  0.700752   258.204546   two-sided  0.484088  1.000000     bonf    0.114   \n",
       "8 -1.662901   328.326639   two-sided  0.097286  0.972864     bonf    0.337   \n",
       "9 -4.009935  1478.622799   two-sided  0.000064  0.000638     bonf  158.564   \n",
       "\n",
       "     hedges  \n",
       "0  0.119131  \n",
       "1  0.058537  \n",
       "2  0.145624  \n",
       "3 -0.063479  \n",
       "4 -0.055707  \n",
       "5  0.002719  \n",
       "6 -0.173247  \n",
       "7  0.068513  \n",
       "8 -0.120115  \n",
       "9 -0.192931  "
      ]
     },
     "execution_count": 35,
     "metadata": {},
     "output_type": "execute_result"
    }
   ],
   "source": [
    "pingouin.pairwise_tests(data=stack_overflow,\n",
    "                        dv=\"converted_comp\",\n",
    "                        between=\"job_sat\",\n",
    "                        padjust=\"bonf\")"
   ]
  },
  {
   "attachments": {},
   "cell_type": "markdown",
   "id": "16361384-338f-48a6-98e5-fe7abede99fe",
   "metadata": {},
   "source": [
    "## Visualizing many categories\n",
    "\n",
    "Many datasets contain more than 2 categories. Before we get to conducting tests on many categories, it's often helpful to perform exploratory data analysis (EDA), calculating summary statistics for each group and visualizing the distributions of the numeric variable for each category using box plots.\n",
    "\n",
    "Here, we'll return to the late shipments data, and how the price of each package (pack_price) varies between the three shipment modes (shipment_mode): \"Air\", \"Air Charter\", and \"Ocean\"."
   ]
  },
  {
   "cell_type": "code",
   "execution_count": 36,
   "id": "2cc845de-32dc-4f6e-81b4-0a859df74a8d",
   "metadata": {},
   "outputs": [
    {
     "name": "stdout",
     "output_type": "stream",
     "text": [
      "shipment_mode\n",
      "Air            39.712395\n",
      "Air Charter     4.226667\n",
      "Ocean           6.432273\n",
      "Name: pack_price, dtype: float64 \n",
      "\n",
      "shipment_mode\n",
      "Air            48.932861\n",
      "Air Charter     0.992969\n",
      "Ocean           5.303047\n",
      "Name: pack_price, dtype: float64\n"
     ]
    }
   ],
   "source": [
    "# Calculate the mean pack_price for each shipment_mode\n",
    "xbar_pack_by_mode = late_shipments.groupby(\"shipment_mode\")[\"pack_price\"].mean()\n",
    "\n",
    "# Calculate the standard deviation of the pack_price for each shipment_mode\n",
    "s_pack_by_mode = late_shipments.groupby(\"shipment_mode\")['pack_price'].std()\n",
    "\n",
    "# Print the grouped means\n",
    "print(xbar_pack_by_mode, \"\\n\")\n",
    "print(s_pack_by_mode)"
   ]
  },
  {
   "cell_type": "code",
   "execution_count": 37,
   "id": "6490e47d-ccaf-4f30-96ec-2891c18801a1",
   "metadata": {},
   "outputs": [
    {
     "data": {
      "image/png": "[encoded data removed]",
      "text/plain": [
       "<Figure size 640x480 with 1 Axes>"
      ]
     },
     "metadata": {},
     "output_type": "display_data"
    }
   ],
   "source": [
    "# visualize with boxplot of shipment_mode vs. pack_price\n",
    "sns.boxplot(x=\"pack_price\",\n",
    "            y=\"shipment_mode\",\n",
    "            data=late_shipments,\n",
    "            hue=\"shipment_mode\")\n",
    "plt.show()"
   ]
  },
  {
   "cell_type": "code",
   "execution_count": 38,
   "id": "23464dec-c5e6-4ee7-8e24-881bc203fc0c",
   "metadata": {},
   "outputs": [
    {
     "name": "stdout",
     "output_type": "stream",
     "text": [
      "          Source  ddof1  ddof2        F         p-unc       np2\n",
      "0  shipment_mode      2    997  21.8646  5.089479e-10  0.042018\n",
      "Reject H0 that pack price is the same across shipping modes\n"
     ]
    }
   ],
   "source": [
    "# ANOVA for pack_price across shipment_mode\n",
    "anova_results = pingouin.anova(\n",
    "    data=late_shipments,\n",
    "    dv=\"pack_price\",\n",
    "    between=\"shipment_mode\"\n",
    ")\n",
    "\n",
    "# Print anova_results\n",
    "print(anova_results)\n",
    "print(\"Reject H0 that pack price is the same across shipping modes\")"
   ]
  },
  {
   "cell_type": "code",
   "execution_count": 39,
   "id": "1f2339cf-e41b-41fd-9d4b-f7aba8d72f76",
   "metadata": {},
   "outputs": [
    {
     "name": "stdout",
     "output_type": "stream",
     "text": [
      "        Contrast            A            B  Paired  Parametric          T  \\\n",
      "0  shipment_mode          Air  Air Charter   False        True  21.179625   \n",
      "1  shipment_mode          Air        Ocean   False        True  19.335760   \n",
      "2  shipment_mode  Air Charter        Ocean   False        True  -3.170654   \n",
      "\n",
      "          dof alternative         p-unc       BF10    hedges  \n",
      "0  600.685682   two-sided  8.748346e-75  5.809e+76  0.726592  \n",
      "1  986.979785   two-sided  6.934555e-71  1.129e+67  0.711119  \n",
      "2   35.615026   two-sided  3.123012e-03     15.277 -0.423775  \n"
     ]
    }
   ],
   "source": [
    "# pairwise t-test on pack price, grouped by shipment mode\n",
    "pairwise_results = pingouin.pairwise_tests(\n",
    "    data=late_shipments,\n",
    "    dv=\"pack_price\",\n",
    "    between=\"shipment_mode\"\n",
    ")\n",
    "\n",
    "# Print pairwise_results\n",
    "print(pairwise_results)"
   ]
  },
  {
   "cell_type": "code",
   "execution_count": 40,
   "id": "4cb46b8e-e9a2-4ba7-bd5d-5f93cf607102",
   "metadata": {},
   "outputs": [
    {
     "name": "stdout",
     "output_type": "stream",
     "text": [
      "        Contrast            A            B  Paired  Parametric          T  \\\n",
      "0  shipment_mode          Air  Air Charter   False        True  21.179625   \n",
      "1  shipment_mode          Air        Ocean   False        True  19.335760   \n",
      "2  shipment_mode  Air Charter        Ocean   False        True  -3.170654   \n",
      "\n",
      "          dof alternative         p-unc        p-corr p-adjust       BF10  \\\n",
      "0  600.685682   two-sided  8.748346e-75  2.624504e-74     bonf  5.809e+76   \n",
      "1  986.979785   two-sided  6.934555e-71  2.080367e-70     bonf  1.129e+67   \n",
      "2   35.615026   two-sided  3.123012e-03  9.369037e-03     bonf     15.277   \n",
      "\n",
      "     hedges  \n",
      "0  0.726592  \n",
      "1  0.711119  \n",
      "2 -0.423775  \n"
     ]
    }
   ],
   "source": [
    "# pairwise t-tests modified to use Bonferroni p-value adjustment\n",
    "pairwise_results = pingouin.pairwise_tests(data=late_shipments, \n",
    "                                           dv=\"pack_price\",\n",
    "                                           between=\"shipment_mode\",\n",
    "                                           padjust=\"bonf\")\n",
    "\n",
    "# Print pairwise_results\n",
    "print(pairwise_results)"
   ]
  },
  {
   "cell_type": "markdown",
   "id": "42edd9b1-bfbb-4f3d-9ebf-caef3ac2d733",
   "metadata": {},
   "source": [
    "## One-sample proportion tests\n",
    "\n",
    "0. Set significance level ($\\alpha$)\n",
    "1. Estimate standard error of sample statistic from bootstrap distribution\n",
    "2. Compute a standardized test statistic\n",
    "3. Calculate a p-value\n",
    "4. Decide which hypothesis made most sense\n",
    "\n",
    "## StackOverflow example\n",
    "\n",
    " $H_0$ : Proportion of Stack Overflow users under thirty = 0.5  \n",
    " $H_A$ : Proportion of Stack Overflow users under thirty ≠ 0.5  (**2-tail test**)"
   ]
  },
  {
   "cell_type": "code",
   "execution_count": 41,
   "id": "ae6ff5fa-efbd-4f36-ae4c-3fe4443916c9",
   "metadata": {},
   "outputs": [
    {
     "data": {
      "text/plain": [
       "age_cat\n",
       "Under 30       0.535604\n",
       "At least 30    0.464396\n",
       "Name: proportion, dtype: float64"
      ]
     },
     "execution_count": 41,
     "metadata": {},
     "output_type": "execute_result"
    }
   ],
   "source": [
    "alpha = 0.01\n",
    "stack_overflow['age_cat'].value_counts(normalize=True)"
   ]
  },
  {
   "cell_type": "code",
   "execution_count": 42,
   "id": "1d129e6c-6e8f-429a-ad6f-e4e3a4c3a69b",
   "metadata": {},
   "outputs": [
    {
     "name": "stdout",
     "output_type": "stream",
     "text": [
      "3.385911440783663\n"
     ]
    }
   ],
   "source": [
    "# cal z score\n",
    "p_hat = (stack_overflow['age_cat'] == 'Under 30').mean()\n",
    "p_0 = 0.50  # under H0\n",
    "n = len(stack_overflow) \n",
    "\n",
    "numerator = p_hat - p_0\n",
    "denominator = np.sqrt(p_0 * (1 - p_0) / n)\n",
    "z_score = numerator / denominator\n",
    "print(z_score)"
   ]
  },
  {
   "cell_type": "code",
   "execution_count": 43,
   "id": "a9221747-c7a0-4a3b-a8df-25aa19b8b355",
   "metadata": {},
   "outputs": [
    {
     "name": "stdout",
     "output_type": "stream",
     "text": [
      "The p_value is 0.0007094227368100725 which is < alpha of 0.01, so we reject H0\n"
     ]
    }
   ],
   "source": [
    "p_value = norm.cdf(-z_score) +  1 - norm.cdf(z_score)\n",
    "# p_value = 2 * (1 - norm.cdf(z_score)) give same results, but is less explicit\n",
    "print(f\"The p_value is {p_value} which is < alpha of {alpha}, so we reject H0\")"
   ]
  },
  {
   "cell_type": "markdown",
   "id": "2c38f237-02c1-4638-8e1f-77cff3883979",
   "metadata": {},
   "source": [
    "## Late shipments example\n",
    "\n",
    "$H_0$ : Late shipments are 6% of all shipments  \n",
    "$H_A$ : Late shipments are greater than 6%  (**right tail test**)"
   ]
  },
  {
   "cell_type": "code",
   "execution_count": 44,
   "id": "19efebd6-1666-4372-bb7e-d398b203dd2a",
   "metadata": {},
   "outputs": [
    {
     "name": "stdout",
     "output_type": "stream",
     "text": [
      "p_hat = 0.061, n = 1000\n",
      "z_score = 0.13315591032282698 , p_value = 0.44703503936503364\n"
     ]
    }
   ],
   "source": [
    "# Hypothesize that the proportion of late shipments is 6%\n",
    "p_0 = 0.06\n",
    "\n",
    "# Calculate the sample proportion of late shipments\n",
    "p_hat = (late_shipments[\"late\"] == \"Yes\").mean()\n",
    "\n",
    "# Calculate the sample size\n",
    "n = len(late_shipments)\n",
    "\n",
    "# Calculate the numerator and denominator of the test statistic\n",
    "numerator = p_hat - p_0\n",
    "denominator = np.sqrt((p_0 * (1 - p_0)) / n)\n",
    "\n",
    "# Calculate the test statistic\n",
    "z_score = numerator / denominator\n",
    "\n",
    "# Calculate the p-value from the z-score\n",
    "p_value = 1 - norm.cdf(z_score)\n",
    "\n",
    "print(f\"p_hat = {p_hat}, n = {n}\")\n",
    "print(f\"z_score = {z_score} , p_value = {p_value}\")"
   ]
  },
  {
   "cell_type": "markdown",
   "id": "fd680320-c081-4c3c-acf5-9f7356ab4e2b",
   "metadata": {},
   "source": [
    "## Two-sample proportion tests\n",
    "\n",
    "<img src=\"./graphics/devore_p376.png\">\n",
    "\n",
    "### Example comparing two proportions\n",
    " \n",
    " $H_0$ : Proportion of hobbyist users is the same for those under thirty as those at least thirty  \n",
    " $H_0$ : $p_{\\ge30} − p_{<30} = 0$  \n",
    " \n",
    " $H_A$ : Proportion of hobbyist users is different for those under thirty to those at least thirty  \n",
    " $H_A$ : $p_{\\ge30} − p_{<30} \\neq 0$\n",
    "\n",
    " Significance: $\\alpha = 0.05$"
   ]
  },
  {
   "cell_type": "code",
   "execution_count": 45,
   "id": "e4272d33-6ac4-4f20-af8d-e78f581922df",
   "metadata": {},
   "outputs": [
    {
     "name": "stdout",
     "output_type": "stream",
     "text": [
      "age_cat      hobbyist\n",
      "At least 30  Yes         0.773333\n",
      "             No          0.226667\n",
      "Under 30     Yes         0.843105\n",
      "             No          0.156895\n",
      "Name: proportion, dtype: float64 \n",
      "\n",
      "age_cat\n",
      "At least 30    1050\n",
      "Under 30       1211\n",
      "Name: hobbyist, dtype: int64\n"
     ]
    }
   ],
   "source": [
    "alpha = 0.05\n",
    "\n",
    "p_hats = stack_overflow.groupby(\"age_cat\")[\"hobbyist\"].value_counts(normalize=True)  # set normalize param to get proportions\n",
    "n_m = stack_overflow.groupby(\"age_cat\")[\"hobbyist\"].count()\n",
    "print(p_hats, \"\\n\")\n",
    "print(n_m)"
   ]
  },
  {
   "cell_type": "code",
   "execution_count": 46,
   "id": "ed8367e5-28e3-4da3-b1a3-7c0882ef0113",
   "metadata": {},
   "outputs": [
    {
     "name": "stdout",
     "output_type": "stream",
     "text": [
      "0.7733333333333333 0.8431048720066061 0.810703228659885\n",
      "1050 1211\n"
     ]
    }
   ],
   "source": [
    "# assign quantities for z-score calculation - using pandas multi-indexing is helpful here\n",
    "p_hat_geq_30 = p_hats[(\"At least 30\", \"Yes\")]\n",
    "p_hat_lt_30 = p_hats[(\"Under 30\", \"Yes\")]\n",
    "n_geq_30 = n_m[\"At least 30\"]\n",
    "n_lt_30 = n_m[\"Under 30\"]\n",
    "p_hat = ((n_geq_30 * p_hat_geq_30)/(n_geq_30 + n_lt_30)) + ((n_lt_30 * p_hat_lt_30)/(n_geq_30 + n_lt_30))\n",
    "\n",
    "print(p_hat_geq_30, p_hat_lt_30, p_hat)\n",
    "print(n_geq_30, n_lt_30)"
   ]
  },
  {
   "cell_type": "code",
   "execution_count": 47,
   "id": "8376b7c7-31dc-4db9-a54b-95340b7f3cb9",
   "metadata": {},
   "outputs": [
    {
     "name": "stdout",
     "output_type": "stream",
     "text": [
      "-4.223691463320559 2.403330142685068e-05\n"
     ]
    }
   ],
   "source": [
    "std_error = np.sqrt((p_hat * (1 - p_hat)) * ((1 / n_geq_30) + (1 / n_lt_30)))\n",
    "z_score = (p_hat_geq_30 - p_hat_lt_30) / std_error\n",
    "p_value = 2 * (norm.cdf(z_score))  # 2-tail, symmetric\n",
    "print(z_score, p_value)"
   ]
  },
  {
   "cell_type": "markdown",
   "id": "fe9c60ad-d56c-48ec-9579-69a4c104aa9b",
   "metadata": {},
   "source": [
    "## Doing the same thing using statsmodels\n",
    "\n",
    "Doesn't save a ton of work, but good know..."
   ]
  },
  {
   "cell_type": "code",
   "execution_count": 51,
   "id": "d87a86e9-0fc4-443a-9f56-ceba5b0ce905",
   "metadata": {},
   "outputs": [
    {
     "name": "stdout",
     "output_type": "stream",
     "text": [
      "[ 812 1021]\n",
      "[1050 1211]\n",
      "-4.223691463320559 2.403330142685068e-05\n",
      "p_value of 2.403330142685068e-05 is < alpha of 0.05, therefore we reject the null hypothesis in favor of the alternative\n"
     ]
    }
   ],
   "source": [
    "from statsmodels.stats.proportion import proportions_ztest\n",
    "n_m = stack_overflow.groupby(\"age_cat\")[\"hobbyist\"].value_counts()\n",
    "\n",
    "n_hobbyists = np.array([n_m[(\"At least 30\", \"Yes\")], n_m[(\"Under 30\", \"Yes\")]])\n",
    "n_obs = np.array([n_geq_30, n_lt_30])\n",
    "\n",
    "print(n_hobbyists)\n",
    "print(n_obs)\n",
    "# two-sided is the default, but specify for clarity\n",
    "z_score, p_value = proportions_ztest(count=n_hobbyists, nobs=n_obs, alternative=\"two-sided\")\n",
    "print(z_score, p_value)  # same values as above\n",
    "print(f\"p_value of {p_value} is < alpha of {alpha}, therefore we reject the null hypothesis in favor of the alternative\")"
   ]
  },
  {
   "cell_type": "code",
   "execution_count": null,
   "id": "7b150979-ad8f-4e6c-99fb-e80c191cf1ab",
   "metadata": {},
   "outputs": [],
   "source": []
  },
  {
   "cell_type": "code",
   "execution_count": null,
   "id": "8ff49909-0b42-4b80-be6e-571e61346915",
   "metadata": {},
   "outputs": [],
   "source": []
  },
  {
   "cell_type": "code",
   "execution_count": null,
   "id": "4ca4d4b6-04e6-437b-9679-2baee8ad7ba6",
   "metadata": {},
   "outputs": [],
   "source": []
  },
  {
   "cell_type": "code",
   "execution_count": null,
   "id": "e9e636eb-687e-4138-b441-04d09ee0700d",
   "metadata": {},
   "outputs": [],
   "source": []
  },
  {
   "cell_type": "code",
   "execution_count": null,
   "id": "1595b92b-b16c-4912-8d85-ab59376a3f2a",
   "metadata": {},
   "outputs": [],
   "source": []
  },
  {
   "cell_type": "code",
   "execution_count": null,
   "id": "f91ee246-befa-450e-af2b-6ef37b562e0b",
   "metadata": {},
   "outputs": [],
   "source": []
  },
  {
   "cell_type": "code",
   "execution_count": null,
   "id": "5e1ee214-23bc-43e0-a284-7a67100ec7c2",
   "metadata": {},
   "outputs": [],
   "source": []
  },
  {
   "cell_type": "code",
   "execution_count": null,
   "id": "b3551372-d91e-48b8-a45d-54d4b7b06b8e",
   "metadata": {},
   "outputs": [],
   "source": []
  },
  {
   "cell_type": "markdown",
   "id": "f8c563af-25d0-4302-a4b2-f209077483e5",
   "metadata": {},
   "source": [
    "## References\n",
    "\n",
    "1. Probability and Statistics for Engineering and the Sciences - Devore, 8th Edition"
   ]
  }
 ],
 "metadata": {
  "kernelspec": {
   "display_name": "Python 3 (ipykernel)",
   "language": "python",
   "name": "python3"
  },
  "language_info": {
   "codemirror_mode": {
    "name": "ipython",
    "version": 3
   },
   "file_extension": ".py",
   "mimetype": "text/x-python",
   "name": "python",
   "nbconvert_exporter": "python",
   "pygments_lexer": "ipython3",
   "version": "3.11.6"
  }
 },
 "nbformat": 4,
 "nbformat_minor": 5
}
