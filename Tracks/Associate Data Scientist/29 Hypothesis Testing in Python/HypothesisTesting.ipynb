{
 "cells": [
  {
   "cell_type": "markdown",
   "id": "81d59dd5-be17-4d12-b167-1bf0d19ccbdb",
   "metadata": {},
   "source": [
    "## Hypothesis tests and z-scores\n",
    "\n",
    "Hypothesis testing use case:\n",
    "\n",
    "***Determine whether sample statistics are close to or far away from expected (of hypothesized) values***"
   ]
  },
  {
   "cell_type": "code",
   "execution_count": 1,
   "id": "f000a883-b10b-4e22-91bb-9716e35e234c",
   "metadata": {
    "scrolled": true
   },
   "outputs": [
    {
     "name": "stdout",
     "output_type": "stream",
     "text": [
      "<class 'pandas.core.frame.DataFrame'>\n",
      "RangeIndex: 2261 entries, 0 to 2260\n",
      "Data columns (total 63 columns):\n",
      " #   Column                             Non-Null Count  Dtype   \n",
      "---  ------                             --------------  -----   \n",
      " 0   respondent                         2261 non-null   float64 \n",
      " 1   main_branch                        2261 non-null   object  \n",
      " 2   hobbyist                           2261 non-null   object  \n",
      " 3   age                                2261 non-null   float64 \n",
      " 4   age_1st_code                       2261 non-null   float64 \n",
      " 5   age_first_code_cut                 2261 non-null   object  \n",
      " 6   comp_freq                          2261 non-null   object  \n",
      " 7   comp_total                         2261 non-null   float64 \n",
      " 8   converted_comp                     2261 non-null   float64 \n",
      " 9   country                            2261 non-null   object  \n",
      " 10  currency_desc                      2261 non-null   object  \n",
      " 11  currency_symbol                    2261 non-null   object  \n",
      " 12  database_desire_next_year          1687 non-null   object  \n",
      " 13  database_worked_with               1934 non-null   object  \n",
      " 14  dev_type                           2261 non-null   object  \n",
      " 15  ed_level                           2246 non-null   object  \n",
      " 16  employment                         2261 non-null   object  \n",
      " 17  ethnicity                          2092 non-null   object  \n",
      " 18  gender                             2228 non-null   object  \n",
      " 19  job_factors                        2233 non-null   object  \n",
      " 20  job_sat                            2261 non-null   category\n",
      " 21  job_seek                           2261 non-null   object  \n",
      " 22  language_desire_next_year          2160 non-null   object  \n",
      " 23  language_worked_with               2254 non-null   object  \n",
      " 24  misc_tech_desire_next_year         1954 non-null   object  \n",
      " 25  misc_tech_worked_with              1964 non-null   object  \n",
      " 26  new_collab_tools_desire_next_year  2023 non-null   object  \n",
      " 27  new_collab_tools_worked_with       2192 non-null   object  \n",
      " 28  new_dev_ops                        2245 non-null   object  \n",
      " 29  new_dev_ops_impt                   2183 non-null   object  \n",
      " 30  new_ed_impt                        2246 non-null   object  \n",
      " 31  new_job_hunt                       2191 non-null   object  \n",
      " 32  new_job_hunt_research              2149 non-null   object  \n",
      " 33  new_learn                          2223 non-null   object  \n",
      " 34  new_off_topic                      2155 non-null   object  \n",
      " 35  new_onboard_good                   2244 non-null   object  \n",
      " 36  new_other_comms                    2257 non-null   object  \n",
      " 37  new_overtime                       2255 non-null   object  \n",
      " 38  new_purchase_research              1480 non-null   object  \n",
      " 39  purple_link                        2261 non-null   object  \n",
      " 40  newso_sites                        2257 non-null   object  \n",
      " 41  new_stuck                          2232 non-null   object  \n",
      " 42  op_sys                             2245 non-null   object  \n",
      " 43  org_size                           2223 non-null   object  \n",
      " 44  platform_desire_next_year          2065 non-null   object  \n",
      " 45  platform_worked_with               2170 non-null   object  \n",
      " 46  purchase_what                      2053 non-null   object  \n",
      " 47  sexuality                          2054 non-null   object  \n",
      " 48  so_account                         2247 non-null   object  \n",
      " 49  so_comm                            2248 non-null   object  \n",
      " 50  so_part_freq                       1884 non-null   object  \n",
      " 51  so_visit_freq                      2248 non-null   object  \n",
      " 52  survey_ease                        2248 non-null   object  \n",
      " 53  survey_length                      2251 non-null   object  \n",
      " 54  trans                              2199 non-null   object  \n",
      " 55  undergrad_major                    2151 non-null   object  \n",
      " 56  webframe_desire_next_year          1336 non-null   object  \n",
      " 57  webframe_worked_with               1452 non-null   object  \n",
      " 58  welcome_change                     2199 non-null   object  \n",
      " 59  work_week_hrs                      2219 non-null   float64 \n",
      " 60  years_code                         2261 non-null   float64 \n",
      " 61  years_code_pro                     2261 non-null   float64 \n",
      " 62  age_cat                            2261 non-null   object  \n",
      "dtypes: category(1), float64(8), object(54)\n",
      "memory usage: 1.1+ MB\n",
      "None\n",
      "119574.71738168952\n"
     ]
    }
   ],
   "source": [
    "import pandas as pd\n",
    "\n",
    "stack_overflow = pd.read_feather('./data/stack_overflow.feather')\n",
    "print(stack_overflow.info())\n",
    "mean_comp_samp = stack_overflow['converted_comp'].mean()  # point estimate of compensation\n",
    "print(mean_comp_samp)"
   ]
  },
  {
   "cell_type": "code",
   "execution_count": 2,
   "id": "020ab1be-7879-47bd-b10f-19fe4e3264e8",
   "metadata": {},
   "outputs": [
    {
     "data": {
      "text/plain": [
       "age_first_code_cut\n",
       "adult    1376\n",
       "child     885\n",
       "Name: count, dtype: int64"
      ]
     },
     "execution_count": 2,
     "metadata": {},
     "output_type": "execute_result"
    }
   ],
   "source": [
    "stack_overflow[\"age_first_code_cut\"].value_counts()"
   ]
  },
  {
   "cell_type": "code",
   "execution_count": 3,
   "id": "42b90ac3-4534-43dd-90c0-21d4390d07af",
   "metadata": {},
   "outputs": [
    {
     "data": {
      "text/html": [
       "<div>\n",
       "<style scoped>\n",
       "    .dataframe tbody tr th:only-of-type {\n",
       "        vertical-align: middle;\n",
       "    }\n",
       "\n",
       "    .dataframe tbody tr th {\n",
       "        vertical-align: top;\n",
       "    }\n",
       "\n",
       "    .dataframe thead th {\n",
       "        text-align: right;\n",
       "    }\n",
       "</style>\n",
       "<table border=\"1\" class=\"dataframe\">\n",
       "  <thead>\n",
       "    <tr style=\"text-align: right;\">\n",
       "      <th></th>\n",
       "      <th>respondent</th>\n",
       "      <th>main_branch</th>\n",
       "      <th>hobbyist</th>\n",
       "      <th>age</th>\n",
       "      <th>age_1st_code</th>\n",
       "      <th>age_first_code_cut</th>\n",
       "      <th>comp_freq</th>\n",
       "      <th>comp_total</th>\n",
       "      <th>converted_comp</th>\n",
       "      <th>country</th>\n",
       "      <th>...</th>\n",
       "      <th>survey_length</th>\n",
       "      <th>trans</th>\n",
       "      <th>undergrad_major</th>\n",
       "      <th>webframe_desire_next_year</th>\n",
       "      <th>webframe_worked_with</th>\n",
       "      <th>welcome_change</th>\n",
       "      <th>work_week_hrs</th>\n",
       "      <th>years_code</th>\n",
       "      <th>years_code_pro</th>\n",
       "      <th>age_cat</th>\n",
       "    </tr>\n",
       "  </thead>\n",
       "  <tbody>\n",
       "    <tr>\n",
       "      <th>0</th>\n",
       "      <td>36.0</td>\n",
       "      <td>I am not primarily a developer, but I write co...</td>\n",
       "      <td>Yes</td>\n",
       "      <td>34.0</td>\n",
       "      <td>30.0</td>\n",
       "      <td>adult</td>\n",
       "      <td>Yearly</td>\n",
       "      <td>60000.0</td>\n",
       "      <td>77556.0</td>\n",
       "      <td>United Kingdom</td>\n",
       "      <td>...</td>\n",
       "      <td>Appropriate in length</td>\n",
       "      <td>No</td>\n",
       "      <td>Computer science, computer engineering, or sof...</td>\n",
       "      <td>Express;React.js</td>\n",
       "      <td>Express;React.js</td>\n",
       "      <td>Just as welcome now as I felt last year</td>\n",
       "      <td>40.0</td>\n",
       "      <td>4.0</td>\n",
       "      <td>3.0</td>\n",
       "      <td>At least 30</td>\n",
       "    </tr>\n",
       "    <tr>\n",
       "      <th>1</th>\n",
       "      <td>47.0</td>\n",
       "      <td>I am a developer by profession</td>\n",
       "      <td>Yes</td>\n",
       "      <td>53.0</td>\n",
       "      <td>10.0</td>\n",
       "      <td>child</td>\n",
       "      <td>Yearly</td>\n",
       "      <td>58000.0</td>\n",
       "      <td>74970.0</td>\n",
       "      <td>United Kingdom</td>\n",
       "      <td>...</td>\n",
       "      <td>Appropriate in length</td>\n",
       "      <td>No</td>\n",
       "      <td>A natural science (such as biology, chemistry,...</td>\n",
       "      <td>Flask;Spring</td>\n",
       "      <td>Flask;Spring</td>\n",
       "      <td>Just as welcome now as I felt last year</td>\n",
       "      <td>40.0</td>\n",
       "      <td>43.0</td>\n",
       "      <td>28.0</td>\n",
       "      <td>At least 30</td>\n",
       "    </tr>\n",
       "    <tr>\n",
       "      <th>2</th>\n",
       "      <td>69.0</td>\n",
       "      <td>I am a developer by profession</td>\n",
       "      <td>Yes</td>\n",
       "      <td>25.0</td>\n",
       "      <td>12.0</td>\n",
       "      <td>child</td>\n",
       "      <td>Yearly</td>\n",
       "      <td>550000.0</td>\n",
       "      <td>594539.0</td>\n",
       "      <td>France</td>\n",
       "      <td>...</td>\n",
       "      <td>Too short</td>\n",
       "      <td>No</td>\n",
       "      <td>Computer science, computer engineering, or sof...</td>\n",
       "      <td>Django;Flask</td>\n",
       "      <td>Django;Flask</td>\n",
       "      <td>Just as welcome now as I felt last year</td>\n",
       "      <td>40.0</td>\n",
       "      <td>13.0</td>\n",
       "      <td>3.0</td>\n",
       "      <td>Under 30</td>\n",
       "    </tr>\n",
       "    <tr>\n",
       "      <th>3</th>\n",
       "      <td>125.0</td>\n",
       "      <td>I am not primarily a developer, but I write co...</td>\n",
       "      <td>Yes</td>\n",
       "      <td>41.0</td>\n",
       "      <td>30.0</td>\n",
       "      <td>adult</td>\n",
       "      <td>Monthly</td>\n",
       "      <td>200000.0</td>\n",
       "      <td>2000000.0</td>\n",
       "      <td>United States</td>\n",
       "      <td>...</td>\n",
       "      <td>Appropriate in length</td>\n",
       "      <td>No</td>\n",
       "      <td>None</td>\n",
       "      <td>None</td>\n",
       "      <td>None</td>\n",
       "      <td>Just as welcome now as I felt last year</td>\n",
       "      <td>40.0</td>\n",
       "      <td>11.0</td>\n",
       "      <td>11.0</td>\n",
       "      <td>At least 30</td>\n",
       "    </tr>\n",
       "    <tr>\n",
       "      <th>4</th>\n",
       "      <td>147.0</td>\n",
       "      <td>I am not primarily a developer, but I write co...</td>\n",
       "      <td>No</td>\n",
       "      <td>28.0</td>\n",
       "      <td>15.0</td>\n",
       "      <td>adult</td>\n",
       "      <td>Yearly</td>\n",
       "      <td>50000.0</td>\n",
       "      <td>37816.0</td>\n",
       "      <td>Canada</td>\n",
       "      <td>...</td>\n",
       "      <td>Appropriate in length</td>\n",
       "      <td>No</td>\n",
       "      <td>Another engineering discipline (such as civil,...</td>\n",
       "      <td>None</td>\n",
       "      <td>Express;Flask</td>\n",
       "      <td>Just as welcome now as I felt last year</td>\n",
       "      <td>40.0</td>\n",
       "      <td>5.0</td>\n",
       "      <td>3.0</td>\n",
       "      <td>Under 30</td>\n",
       "    </tr>\n",
       "  </tbody>\n",
       "</table>\n",
       "<p>5 rows × 63 columns</p>\n",
       "</div>"
      ],
      "text/plain": [
       "   respondent                                        main_branch hobbyist  \\\n",
       "0        36.0  I am not primarily a developer, but I write co...      Yes   \n",
       "1        47.0                     I am a developer by profession      Yes   \n",
       "2        69.0                     I am a developer by profession      Yes   \n",
       "3       125.0  I am not primarily a developer, but I write co...      Yes   \n",
       "4       147.0  I am not primarily a developer, but I write co...       No   \n",
       "\n",
       "    age  age_1st_code age_first_code_cut comp_freq  comp_total  \\\n",
       "0  34.0          30.0              adult    Yearly     60000.0   \n",
       "1  53.0          10.0              child    Yearly     58000.0   \n",
       "2  25.0          12.0              child    Yearly    550000.0   \n",
       "3  41.0          30.0              adult   Monthly    200000.0   \n",
       "4  28.0          15.0              adult    Yearly     50000.0   \n",
       "\n",
       "   converted_comp         country  ...          survey_length trans  \\\n",
       "0         77556.0  United Kingdom  ...  Appropriate in length    No   \n",
       "1         74970.0  United Kingdom  ...  Appropriate in length    No   \n",
       "2        594539.0          France  ...              Too short    No   \n",
       "3       2000000.0   United States  ...  Appropriate in length    No   \n",
       "4         37816.0          Canada  ...  Appropriate in length    No   \n",
       "\n",
       "                                     undergrad_major  \\\n",
       "0  Computer science, computer engineering, or sof...   \n",
       "1  A natural science (such as biology, chemistry,...   \n",
       "2  Computer science, computer engineering, or sof...   \n",
       "3                                               None   \n",
       "4  Another engineering discipline (such as civil,...   \n",
       "\n",
       "  webframe_desire_next_year webframe_worked_with  \\\n",
       "0          Express;React.js     Express;React.js   \n",
       "1              Flask;Spring         Flask;Spring   \n",
       "2              Django;Flask         Django;Flask   \n",
       "3                      None                 None   \n",
       "4                      None        Express;Flask   \n",
       "\n",
       "                            welcome_change work_week_hrs years_code  \\\n",
       "0  Just as welcome now as I felt last year          40.0        4.0   \n",
       "1  Just as welcome now as I felt last year          40.0       43.0   \n",
       "2  Just as welcome now as I felt last year          40.0       13.0   \n",
       "3  Just as welcome now as I felt last year          40.0       11.0   \n",
       "4  Just as welcome now as I felt last year          40.0        5.0   \n",
       "\n",
       "  years_code_pro      age_cat  \n",
       "0            3.0  At least 30  \n",
       "1           28.0  At least 30  \n",
       "2            3.0     Under 30  \n",
       "3           11.0  At least 30  \n",
       "4            3.0     Under 30  \n",
       "\n",
       "[5 rows x 63 columns]"
      ]
     },
     "execution_count": 3,
     "metadata": {},
     "output_type": "execute_result"
    }
   ],
   "source": [
    "stack_overflow.head()"
   ]
  },
  {
   "cell_type": "markdown",
   "id": "1f253c02-84a4-4b92-bb07-69f276f04816",
   "metadata": {},
   "source": [
    "### Stack Overflow salary data\n",
    "\n",
    "Research question:  ***Is this mean Data Science salary significantly different than $110k?***\n",
    "\n",
    "1. generate a boostrap distribution\n",
    "2. compute the standard error of this distribution\n",
    "3. compute the z-score from the standard error\n",
    "4. determine where this z-score falls in the z-score distribution relative to confidence limits"
   ]
  },
  {
   "cell_type": "code",
   "execution_count": 4,
   "id": "80577199-9783-48ca-a838-7780c75c2086",
   "metadata": {},
   "outputs": [
    {
     "data": {
      "image/png": "[encoded data removed]",
      "text/plain": [
       "<Figure size 640x480 with 1 Axes>"
      ]
     },
     "metadata": {},
     "output_type": "display_data"
    }
   ],
   "source": [
    "from scipy.stats import norm\n",
    "import numpy as np\n",
    "import matplotlib.pyplot as plt\n",
    "\n",
    "# Standard normal (z) distribution\n",
    "x = []\n",
    "pdf_z = []\n",
    "for i in np.linspace(-4, 4, 1000):\n",
    "    x.append(i)\n",
    "    pdf_z.append(norm.pdf(i))\n",
    "\n",
    "fig, ax = plt.subplots()\n",
    "ax.set_xlabel(\"x\")\n",
    "ax.set_ylabel(\"PDF(x)\")\n",
    "ax.set_title(\"Standard normal (z) distribution\")\n",
    "ax.plot(x, pdf_z)\n",
    "plt.show()"
   ]
  },
  {
   "cell_type": "code",
   "execution_count": 5,
   "id": "5b603c68-eb75-4c59-ae5b-09a6b69b4926",
   "metadata": {},
   "outputs": [],
   "source": [
    "def get_bootstrap_dist(df_sample, sample_col, resample_rate=5000):\n",
    "    \"\"\"\n",
    "    Computes a boostrap distribution from a column in a dataframe\n",
    "\n",
    "    Args:\n",
    "      df_sample (Dataframe): pandas dataframe which has a numeric column named sample_col\n",
    "      sample_col (str): name of the column in df_sample to calculate the bootstrap from\n",
    "      resample_rate (int): number of resamples (with replacement) generated to build bootstrap distribution\n",
    "    \"\"\"\n",
    "    boot_distrib = []\n",
    "    for i in range(resample_rate):\n",
    "        boot_distrib.append(\n",
    "            # cacluate point estimate\n",
    "            np.mean(\n",
    "                # resample\n",
    "                df_sample.sample(frac=1, replace=True)[sample_col]\n",
    "            )\n",
    "        )\n",
    "\n",
    "    return(boot_distrib)"
   ]
  },
  {
   "cell_type": "code",
   "execution_count": 6,
   "id": "9b9cf212-ad51-4020-bd37-1fa79dcb9902",
   "metadata": {},
   "outputs": [
    {
     "data": {
      "image/png": "[encoded data removed]",
      "text/plain": [
       "<Figure size 640x480 with 1 Axes>"
      ]
     },
     "metadata": {},
     "output_type": "display_data"
    }
   ],
   "source": [
    "so_boot_distrib = get_bootstrap_dist(stack_overflow, \"converted_comp\")\n",
    "\n",
    "# visualize boostrap dist\n",
    "fig, ax = plt.subplots()\n",
    "ax.hist(so_boot_distrib, bins=50)\n",
    "ax.set_title(\"Bootstrap Distribution of Stack Overflow Salaries\")\n",
    "plt.show()"
   ]
  },
  {
   "cell_type": "code",
   "execution_count": 7,
   "id": "78b62097-bf03-4842-9477-c2b4bd3c731b",
   "metadata": {},
   "outputs": [
    {
     "name": "stdout",
     "output_type": "stream",
     "text": [
      "standard error of the boostrap distibution of SO salaries: 5516.020928728886\n"
     ]
    }
   ],
   "source": [
    "std_error = np.std(so_boot_distrib, ddof=1)\n",
    "print(f\"standard error of the boostrap distibution of SO salaries: {std_error}\")"
   ]
  },
  {
   "cell_type": "markdown",
   "id": "31d3c44f-1a78-4ea4-92e6-2e9b80e28b33",
   "metadata": {},
   "source": [
    "## z-scores\n",
    "\n",
    "Before we can test hypotheses, we need to *standardize* our values.\n",
    "\n",
    "$\\Large\\text{standardized value} = \\frac{\\text{value - mean}}{\\text{standard deviation}}$\n",
    "\n",
    "More generally:\n",
    "\n",
    "$\\Large\\text{z} = \\frac{\\text{sample statistic - hypothetical parameter value}}{\\text{standard error}}$\n",
    "\n",
    "Intuitively, we can see that:\n",
    "+ the closer the absolute value of this number is to zero, the **less likely** that the mean and the hypothesized value are significantly different.\n",
    "+ the larger the absolute value of this number is, the **more likely** that the mean and the hypothsized value are significantly different.\n",
    "\n"
   ]
  },
  {
   "cell_type": "code",
   "execution_count": 8,
   "id": "e0ecb5a4-0f38-475d-90b9-aa7c6f51af63",
   "metadata": {},
   "outputs": [
    {
     "name": "stdout",
     "output_type": "stream",
     "text": [
      "z-score for SO salaries having hypothesized value of 110k: 1.735801496296339\n",
      "What does this number suggest regarding our hypothesis?\n"
     ]
    }
   ],
   "source": [
    "# from our previous example\n",
    "mean_comp_hyp = 110000  # our original hypothesized value\n",
    "z_score_so_salaries = (mean_comp_samp - mean_comp_hyp) / std_error\n",
    "print(f\"z-score for SO salaries having hypothesized value of 110k: {z_score_so_salaries}\")\n",
    "print(\"What does this number suggest regarding our hypothesis?\")"
   ]
  },
  {
   "cell_type": "markdown",
   "id": "24d556a3-9b65-44c3-9f3e-4f9dd0ca8c17",
   "metadata": {},
   "source": [
    "## Calculating the sample mean\n",
    "\n",
    "The late_shipments dataset contains supply chain data on the delivery of medical supplies. Each row represents one delivery of a part. The late columns denotes whether or not the part was delivered late. A value of \"Yes\" means that the part was delivered late, and a value of \"No\" means the part was delivered on time.\n",
    "\n",
    "We'll begin our analysis by calculating a point estimate (or sample statistic), namely the proportion of late shipments."
   ]
  },
  {
   "cell_type": "code",
   "execution_count": 9,
   "id": "bf9bc467-a826-4ff3-9948-74b2a25e41be",
   "metadata": {},
   "outputs": [
    {
     "name": "stdout",
     "output_type": "stream",
     "text": [
      "shape of late shipments data BEFORE removing problematic row: (1000, 27)\n",
      "\n",
      "columns in the late shipments data: Index(['id', 'country', 'managed_by', 'fulfill_via', 'vendor_inco_term',\n",
      "       'shipment_mode', 'late_delivery', 'late', 'product_group',\n",
      "       'sub_classification', 'vendor', 'item_description',\n",
      "       'molecule_test_type', 'brand', 'dosage', 'dosage_form',\n",
      "       'unit_of_measure_per_pack', 'line_item_quantity', 'line_item_value',\n",
      "       'pack_price', 'unit_price', 'manufacturing_site',\n",
      "       'first_line_designation', 'weight_kilograms', 'freight_cost_usd',\n",
      "       'freight_cost_groups', 'line_item_insurance_usd'],\n",
      "      dtype='object')\n",
      "\n",
      "shape of late shipments data after removing problematic row: (999, 27)\n",
      "\n",
      "late\n",
      "No     938\n",
      "Yes     61\n",
      "Name: count, dtype: int64\n"
     ]
    }
   ],
   "source": [
    "late_shipments = pd.read_feather('./data/late_shipments.feather')\n",
    "print(f\"shape of late shipments data BEFORE removing problematic row: {late_shipments.shape}\\n\")  # (1000, 27)\n",
    "print(f\"columns in the late shipments data: {late_shipments.columns}\\n\")\n",
    "\n",
    "# drop the row with vendor_inco_term = DDU so results are same as shown in course\n",
    "late_shipments = late_shipments.loc[late_shipments['vendor_inco_term'] != 'DDU', :]\n",
    "print(f\"shape of late shipments data after removing problematic row: {late_shipments.shape}\\n\")  # (999, 27)\n",
    "\n",
    "are_late = late_shipments[\"late\"].value_counts()\n",
    "n_yes = are_late['Yes']\n",
    "n_no = are_late['No']\n",
    "print(are_late)"
   ]
  },
  {
   "cell_type": "code",
   "execution_count": 10,
   "id": "c5f69134-2a79-460a-ba76-6cd4f50887e2",
   "metadata": {},
   "outputs": [
    {
     "name": "stdout",
     "output_type": "stream",
     "text": [
      "proportion of shipments that are late: 0.06106106106106106\n"
     ]
    }
   ],
   "source": [
    "# calc the proportion of late shipments\n",
    "late_prop_samp = (late_shipments[\"late\"] == 'Yes').mean()\n",
    "\n",
    "print(f\"proportion of shipments that are late: {late_prop_samp}\")"
   ]
  },
  {
   "cell_type": "markdown",
   "id": "c2f386b4-b18d-4320-8c53-c6094d463b8c",
   "metadata": {},
   "source": [
    "## Calculating a z-score\n",
    "\n",
    "Since variables have arbitrary ranges and units, we need to ***standardize*** them as mentioned earlier. For example, a hypothesis test using salaries data that gave different answers if the variables were in **Euros** instead of **US dollars** would be of little value. Standardization avoids this issue.\n",
    "\n",
    "One standardized value of interest in a hypothesis test is called a **z-score**. To calculate it, we need three numbers: the sample statistic (point estimate), the hypothesized statistic, and the standard error of the statistic (estimated from the bootstrap distribution)."
   ]
  },
  {
   "cell_type": "code",
   "execution_count": 11,
   "id": "41a53792-a7d6-4abe-8cc7-406503cc709a",
   "metadata": {},
   "outputs": [
    {
     "name": "stdout",
     "output_type": "stream",
     "text": [
      "number samples in bootstrap distribution: 5000\n",
      "first few samples of bootstrap distribution: [0.08008008008008008, 0.06306306306306306, 0.06906906906906907, 0.06806806806806807, 0.07407407407407407]\n"
     ]
    }
   ],
   "source": [
    "# create the bootstrap distribution for the proportion of late shipments\n",
    "late_shipments[\"late_binary\"] = late_shipments[\"late\"] == \"Yes\"\n",
    "late_shipments[\"late_binary\"] = late_shipments[\"late_binary\"].astype(int)\n",
    "late_shipments_boot_distn = get_bootstrap_dist(late_shipments, \"late_binary\")\n",
    "print(f\"number samples in bootstrap distribution: {len(late_shipments_boot_distn)}\")\n",
    "print(f\"first few samples of bootstrap distribution: {late_shipments_boot_distn[:5]}\")"
   ]
  },
  {
   "cell_type": "code",
   "execution_count": 12,
   "id": "3c7521b5-346a-49fa-9ae0-c74713ebd12a",
   "metadata": {},
   "outputs": [
    {
     "name": "stdout",
     "output_type": "stream",
     "text": [
      "std error: 0.007458091557243232 | z-score: 0.14226978214427632\n"
     ]
    }
   ],
   "source": [
    "# hypothesize that the proportion is 6%\n",
    "late_prop_hyp = 0.06\n",
    "\n",
    "# calc standard error\n",
    "std_error = np.std(late_shipments_boot_distn)\n",
    "\n",
    "# calc z-score of late_prop_samp\n",
    "z_score = (late_prop_samp - late_prop_hyp) / std_error\n",
    "\n",
    "print(f\"std error: {std_error} | z-score: {z_score}\")  # 0.1335510751060483 listed on platform, pretty close"
   ]
  },
  {
   "cell_type": "markdown",
   "id": "2cdfae08-02b7-4fd0-827d-1004f9bb4b04",
   "metadata": {},
   "source": [
    "## p-values\n",
    "\n",
    "$H_0:$ The proportion of data scientists starting programming as children is 35%  \n",
    "$H_A:$ The proportion of data scientists starting programming as children is greater than 35% (right tail test)"
   ]
  },
  {
   "cell_type": "code",
   "execution_count": 13,
   "id": "61eac279-5217-4bff-8f48-1eb6cb1e6033",
   "metadata": {},
   "outputs": [],
   "source": [
    "stack_overflow[\"age_1st_cut_binary\"] = stack_overflow[\"age_first_code_cut\"] == \"child\"\n",
    "stack_overflow[\"age_1st_cut_binary\"] = stack_overflow[\"age_1st_cut_binary\"].astype(int)\n",
    "# create bootstrap dist of age_first_code_cut and visualize\n",
    "first_code_boot_distn = get_bootstrap_dist(stack_overflow, \"age_1st_cut_binary\")"
   ]
  },
  {
   "cell_type": "code",
   "execution_count": 14,
   "id": "a7cbf4e0-a8fb-4581-966a-fdd75c46448f",
   "metadata": {},
   "outputs": [
    {
     "data": {
      "image/png": "[encoded data removed]",
      "text/plain": [
       "<Figure size 640x480 with 1 Axes>"
      ]
     },
     "metadata": {},
     "output_type": "display_data"
    }
   ],
   "source": [
    "# visualize bootstrap distribution\n",
    "fig, ax = plt.subplots()\n",
    "ax.hist(first_code_boot_distn, bins=50)\n",
    "ax.set_title(\"Bootstrap Distribution of Stack Overflow 'age first code'\")\n",
    "plt.show()"
   ]
  },
  {
   "cell_type": "code",
   "execution_count": 15,
   "id": "c380b980-1b2e-46bc-b4b5-6f4f2812635d",
   "metadata": {},
   "outputs": [
    {
     "name": "stdout",
     "output_type": "stream",
     "text": [
      "sample mean: 0.39141972578505085 | std error: 0.01038883594683299 | z-score: 3.9869457942184154\n"
     ]
    }
   ],
   "source": [
    "# calc z-score - start with the mean\n",
    "prop_child_samp = (stack_overflow['age_first_code_cut'] == \"child\").mean() \n",
    "# hypothesized value\n",
    "prop_child_hyp = 0.35\n",
    "std_error = np.std(first_code_boot_distn, ddof=1)\n",
    "z_score = (prop_child_samp - prop_child_hyp) / std_error\n",
    "print(f\"sample mean: {prop_child_samp} | std error: {std_error} | z-score: {z_score}\")"
   ]
  },
  {
   "cell_type": "markdown",
   "id": "20775535-5e4d-480d-b238-20bd26f2d700",
   "metadata": {},
   "source": [
    "## Late shipments"
   ]
  },
  {
   "cell_type": "code",
   "execution_count": 16,
   "id": "4b1b0db4-16db-4aba-8081-f4b4aab15a36",
   "metadata": {},
   "outputs": [
    {
     "name": "stdout",
     "output_type": "stream",
     "text": [
      "0.459324863222521\n"
     ]
    }
   ],
   "source": [
    "# calc p-value for prior example\n",
    "late_prop_hyp = 0.060\n",
    "\n",
    "# Calculate the z-score of late_prop_samp\n",
    "z_score = (late_prop_samp - late_prop_hyp) / std_error\n",
    "\n",
    "# Calculate the p-value\n",
    "p_value = 1 - norm.cdf(z_score, loc=0, scale=1)\n",
    "                 \n",
    "# Print the p-value\n",
    "print(p_value) "
   ]
  },
  {
   "cell_type": "markdown",
   "id": "fd32ec3d-e961-4bcf-9ec8-959dcbf9482b",
   "metadata": {},
   "source": [
    "## Statistical significance\n",
    "\n",
    "+ p-values quantify evidence for the null hypothesis\n",
    "+ Large p-value → fail to reject null hypothesis\n",
    "+ Small p-value → reject null hypothesis\n",
    "+ Where is the cutoff point? → **significance level** ($\\alpha$), theshold point for \"*beyond a reasonable doubt*\"\n",
    "+ Most common value for $\\alpha$ is `0.05`, but `0.1`, `0.2` and `0.01` are not uncommon\n",
    "+ If $p \\leq \\alpha, \\text{reject } H_0 \\text{, else fail to reject } H_0$\n",
    "+ $\\alpha$ needs to be set **prior** to conducting the hypothesis test\n",
    "+ Define ***confidence interval*** as $1 - \\alpha$"
   ]
  },
  {
   "cell_type": "markdown",
   "id": "b9dc60de-562b-4dfa-8c13-23170d02e90e",
   "metadata": {},
   "source": [
    "### Example\n",
    "\n",
    "$H_0$: Proportion of coders starting as children = 0.35  \n",
    "$H_A$: Proportion of coders starting as children > 0.35  "
   ]
  },
  {
   "cell_type": "code",
   "execution_count": 17,
   "id": "2978fe4a-c6d7-4893-abb2-87142c3477be",
   "metadata": {},
   "outputs": [
    {
     "name": "stdout",
     "output_type": "stream",
     "text": [
      "Testing sample mean: 0.39141972578505085 vs. hyp. mean: 0.35\n",
      "std error: 0.01038883594683299 | z-score: 3.9869457942184154 | p_value: 3.346465455600356e-05\n",
      "reject H0 because p_value of 3.346465455600356e-05 is <= alpha of 0.05\n"
     ]
    }
   ],
   "source": [
    "alpha = 0.05\n",
    "prop_child_samp = (stack_overflow['age_first_code_cut'] == \"child\").mean()\n",
    "prop_child_hyp = 0.35\n",
    "std_error = np.std(first_code_boot_distn, ddof=1)\n",
    "z_score = (prop_child_samp - prop_child_hyp) / std_error\n",
    "p_value = 1 - norm.cdf(z_score, loc=0, scale=1)\n",
    "\n",
    "print(f\"Testing sample mean: {prop_child_samp} vs. hyp. mean: {prop_child_hyp}\")\n",
    "print(f\"std error: {std_error} | z-score: {z_score} | p_value: {p_value}\")\n",
    "\n",
    "if p_value <= alpha:\n",
    "    print(f\"reject H0 because p_value of {p_value} is <= alpha of {alpha}\")\n",
    "else:\n",
    "    print(f\"accept H0 because p_value of {p_value} is > alpha of {alpha}\")\n",
    "   "
   ]
  },
  {
   "cell_type": "code",
   "execution_count": 18,
   "id": "ebfd234e-cc9d-4168-8a3e-99c746fc30cb",
   "metadata": {},
   "outputs": [
    {
     "name": "stdout",
     "output_type": "stream",
     "text": [
      "95% confidence interval: (0.3715059708093764, 0.41220698805838124)\n"
     ]
    }
   ],
   "source": [
    "lower = np.quantile(first_code_boot_distn, 0.025)\n",
    "upper = np.quantile(first_code_boot_distn, 0.975)\n",
    "print(f\"{round(100*(1-alpha))}% confidence interval: {(lower, upper)}\")"
   ]
  },
  {
   "cell_type": "markdown",
   "id": "aa2b300d-7a69-4dcb-9aac-6c9a006e9f6e",
   "metadata": {},
   "source": [
    "## Types of errors (confusion matrix)\n",
    "\n",
    "<img src=\"./graphics/types_of_errors.png\">"
   ]
  },
  {
   "cell_type": "markdown",
   "id": "36c84de9-f353-4090-a17d-ca7e4bd0de05",
   "metadata": {},
   "source": [
    "## Performing t-tests\n",
    "\n",
    "The **t-statistic** is a value used to determine if there is a significant **difference between the means of two groups**, especially when the **sample size is small** or the **population standard deviation is unknown**. It is calculated as the ratio of the difference between an estimated value and a known value to the **standard error** of the estimate.\n",
    "\n",
    "### Example: Compensation between members of group\n",
    "\n",
    "*Are users who first programmed as a child compensated higher than those that started as adults?*\n",
    "\n",
    "$H_0$ : The mean compensation (in USD) is the same for those that coded first as a child and those that coded first as an adult.\n",
    "\n",
    "$H_0$ : $\\mu_{\\text{child}} = \\mu_{\\text{adult}}$&nbsp;&nbsp;&nbsp;&nbsp;or  \n",
    "&nbsp;&nbsp;&nbsp;&nbsp;&nbsp;&nbsp;&nbsp;$\\mu_{\\text{child}} - \\mu_{\\text{adult}} = 0$\n",
    "\n",
    "$H_A$ : The mean compensation (in USD) is **greater** for those that coded first as a child and those that coded first as an adult.\n",
    "\n",
    "$H_A$ : $\\mu_{\\text{child}} > \\mu_{\\text{adult}}$&nbsp;&nbsp;&nbsp;&nbsp;or  \n",
    "&nbsp;&nbsp;&nbsp;&nbsp;&nbsp;&nbsp;&nbsp;$\\mu_{\\text{child}} - \\mu_{\\text{adult}} > 0$\n",
    "\n",
    "#### Notation\n",
    "\n",
    "$\\mu$ = population mean  \n",
    "$\\bar{x}$ = sample mean"
   ]
  },
  {
   "cell_type": "code",
   "execution_count": 19,
   "id": "3a309db6-2e71-4ac7-a05b-48780cd91103",
   "metadata": {},
   "outputs": [
    {
     "name": "stdout",
     "output_type": "stream",
     "text": [
      "compensation for 1st code child:  132419.5706214689\n",
      "compensation for 1st code adults: 111313.31104651163\n"
     ]
    }
   ],
   "source": [
    "# calculate groupwise summary stats\n",
    "code_means = stack_overflow.groupby('age_first_code_cut')['converted_comp'].mean()\n",
    "mean_child = code_means['child']\n",
    "mean_adult = code_means['adult']\n",
    "print(f\"compensation for 1st code child:  {mean_child}\")\n",
    "print(f\"compensation for 1st code adults: {mean_adult}\")"
   ]
  },
  {
   "cell_type": "markdown",
   "id": "aa43fa70-1074-4190-9aa5-bb4b48618e39",
   "metadata": {},
   "source": [
    "### Is this difference significant or can it be explained by sampling variability?\n",
    "\n",
    "test statistic = $(\\bar{x}_{\\text{child}} - \\bar{x}_{\\text{adult}})$\n",
    "\n",
    "### t-statistic\n",
    "\n",
    "$$\n",
    "\\begin{align}\n",
    "\\Large\\text{t} & = \\frac{\\text{difference in sample stats - difference in population parameters}}{\\text{standard error}} \\\\[2em]\n",
    "               & = \\frac{(\\bar{x}_{\\text{child}} - \\bar{x}_{\\text{adult}}) - (\\mu_{\\text{child}} - \\mu_{\\text{adult}})}{\\text{standard error}} \\\\[2em]\n",
    "               & = \\frac{(\\bar{x}_{\\text{child}} - \\bar{x}_{\\text{adult}}) - (\\mu_{\\text{child}} - \\mu_{\\text{adult}})}{SE(\\bar{x}_{\\text{child}} - \\bar{x}_{\\text{adult}})}\n",
    "\\end{align}\n",
    "$$\n",
    "\n",
    "### Standard error\n",
    "\n",
    "The **standard error** is computed differently depending on the test, but for testing the difference between two means from populations of unequal variance, this is called **Welch's t-test** and the $SE$ is the denominatorof the following statistic:\n",
    "\n",
    "$$\n",
    "\\begin{align}\n",
    "\\Large t = \\dfrac{(\\bar{x}_{\\text{child}} - \\bar{x}_{\\text{adult}})}{\\sqrt{\\dfrac{s_{\\text{child}}^2}{n_{\\text{child}}} + \\dfrac{s_{\\text{adult}}^2}{n_{\\text{adult}}}}}\n",
    "\\end{align}\n",
    "$$\n"
   ]
  },
  {
   "cell_type": "markdown",
   "id": "9951ee0f-28ae-4f17-a185-79a7c3af37fe",
   "metadata": {},
   "source": [
    "## Late shipments\n",
    "\n",
    "### From t to p\n",
    "\n",
    "In order to make decision about weights relationship to being late, we need to transform the test statistic with a cumulative distribution function to get a p-value.\n",
    "\n",
    "#### Hypotheses:\n",
    "\n",
    "$H_0$: The mean weight of shipments that weren't late is the same as the mean weight of shipments that were late.\n",
    "\n",
    "$H_A$: The mean weight of shipments that weren't late is less than the mean weight of shipments that were late."
   ]
  },
  {
   "cell_type": "code",
   "execution_count": 20,
   "id": "2df1289b-80cb-4774-8ccf-babd6f69a970",
   "metadata": {},
   "outputs": [
    {
     "name": "stdout",
     "output_type": "stream",
     "text": [
      "late\n",
      "No     1899.751599\n",
      "Yes    2715.672131\n",
      "Name: weight_kilograms, dtype: float64\n",
      "late\n",
      "No     3155.149712\n",
      "Yes    2544.688211\n",
      "Name: weight_kilograms, dtype: float64\n"
     ]
    }
   ],
   "source": [
    "# weight_kilograms\n",
    "late_wgt_mean = late_shipments.groupby(\"late\")[\"weight_kilograms\"].mean()\n",
    "xbar_no = late_wgt_mean[\"No\"]\n",
    "xbar_yes = late_wgt_mean[\"Yes\"]\n",
    "late_wgt_std = late_shipments.groupby(\"late\")[\"weight_kilograms\"].std()\n",
    "s_no = late_wgt_std[\"No\"]\n",
    "s_yes = late_wgt_std[\"Yes\"]\n",
    "print(late_wgt_mean)\n",
    "print(late_wgt_std)"
   ]
  },
  {
   "cell_type": "code",
   "execution_count": 21,
   "id": "14f82131-25b5-45ed-be25-12831329f1d9",
   "metadata": {},
   "outputs": [
    {
     "name": "stdout",
     "output_type": "stream",
     "text": [
      "-2.3877370854420734\n"
     ]
    }
   ],
   "source": [
    "numerator = xbar_no - xbar_yes\n",
    "denominator = np.sqrt(s_no ** 2 / n_no + s_yes ** 2 / n_yes)\n",
    "t_stat = numerator / denominator\n",
    "print(t_stat)"
   ]
  },
  {
   "cell_type": "code",
   "execution_count": 22,
   "id": "fabee9e7-c71d-4e3a-9db3-a63316b9651e",
   "metadata": {},
   "outputs": [
    {
     "name": "stdout",
     "output_type": "stream",
     "text": [
      "0.008568932767510593\n",
      "Since p value of 0.008568932767510593 is < alpha of 0.05, reject the null hypothsis in favor of the alternative.\n"
     ]
    }
   ],
   "source": [
    "from scipy.stats import t\n",
    "\n",
    "alpha = 0.05\n",
    "\n",
    "# Calculate the degrees of freedom\n",
    "degrees_of_freedom = n_yes + n_no - 2\n",
    "\n",
    "# Calculate the p-value from the test stat\n",
    "p_value = t.cdf(t_stat, df=degrees_of_freedom)\n",
    "\n",
    "# Print the p_value\n",
    "print(p_value)\n",
    "print(f\"Since p value of {p_value} is < alpha of {alpha}, reject the null hypothsis in favor of the alternative.\")"
   ]
  },
  {
   "cell_type": "markdown",
   "id": "e7955d93-d575-4c1e-ab0d-418194f37296",
   "metadata": {},
   "source": [
    "## Paired t-tests\n",
    "\n",
    "### Research question: Was the percentage of Republican candidate voters lower in 2008 than 2012?\n",
    "\n",
    "$\\Large H_0$ : $\\Large \\mu_{\\text{2008}} - \\mu_{\\text{2012}} = 0$  \n",
    "$\\Large H_A$ : $\\Large \\mu_{\\text{2008}} - \\mu_{\\text{2012}} < 0$\n",
    "\n",
    "+ Set α = 0.05 significance level.\n",
    "+ Data is **paired** → each voter percentage refers to the same county (not independent)\n",
    "+ Want to capture voting patterns in model\n",
    "\n",
    "**Reference:**  \n",
    "https://dataverse.harvard.edu/dataset.xhtml?persistentId=doi:10.7910/DVN/VOQCHQ"
   ]
  },
  {
   "cell_type": "code",
   "execution_count": 23,
   "id": "b68c1da4-e3ae-4e2a-835f-a5846852b1d8",
   "metadata": {},
   "outputs": [
    {
     "data": {
      "text/html": [
       "<div>\n",
       "<style scoped>\n",
       "    .dataframe tbody tr th:only-of-type {\n",
       "        vertical-align: middle;\n",
       "    }\n",
       "\n",
       "    .dataframe tbody tr th {\n",
       "        vertical-align: top;\n",
       "    }\n",
       "\n",
       "    .dataframe thead th {\n",
       "        text-align: right;\n",
       "    }\n",
       "</style>\n",
       "<table border=\"1\" class=\"dataframe\">\n",
       "  <thead>\n",
       "    <tr style=\"text-align: right;\">\n",
       "      <th></th>\n",
       "      <th>state</th>\n",
       "      <th>county</th>\n",
       "      <th>repub_percent_08</th>\n",
       "      <th>repub_percent_12</th>\n",
       "    </tr>\n",
       "  </thead>\n",
       "  <tbody>\n",
       "    <tr>\n",
       "      <th>0</th>\n",
       "      <td>Alabama</td>\n",
       "      <td>Hale</td>\n",
       "      <td>38.957877</td>\n",
       "      <td>37.139882</td>\n",
       "    </tr>\n",
       "    <tr>\n",
       "      <th>1</th>\n",
       "      <td>Arkansas</td>\n",
       "      <td>Nevada</td>\n",
       "      <td>56.726272</td>\n",
       "      <td>58.983452</td>\n",
       "    </tr>\n",
       "    <tr>\n",
       "      <th>2</th>\n",
       "      <td>California</td>\n",
       "      <td>Lake</td>\n",
       "      <td>38.896719</td>\n",
       "      <td>39.331367</td>\n",
       "    </tr>\n",
       "    <tr>\n",
       "      <th>3</th>\n",
       "      <td>California</td>\n",
       "      <td>Ventura</td>\n",
       "      <td>42.923190</td>\n",
       "      <td>45.250693</td>\n",
       "    </tr>\n",
       "    <tr>\n",
       "      <th>4</th>\n",
       "      <td>Colorado</td>\n",
       "      <td>Lincoln</td>\n",
       "      <td>74.522569</td>\n",
       "      <td>73.764757</td>\n",
       "    </tr>\n",
       "  </tbody>\n",
       "</table>\n",
       "</div>"
      ],
      "text/plain": [
       "        state   county  repub_percent_08  repub_percent_12\n",
       "0     Alabama     Hale         38.957877         37.139882\n",
       "1    Arkansas   Nevada         56.726272         58.983452\n",
       "2  California     Lake         38.896719         39.331367\n",
       "3  California  Ventura         42.923190         45.250693\n",
       "4    Colorado  Lincoln         74.522569         73.764757"
      ]
     },
     "execution_count": 23,
     "metadata": {},
     "output_type": "execute_result"
    }
   ],
   "source": [
    "alpha = 0.05\n",
    "\n",
    "df_rep_votes = pd.read_feather(\"./data/repub_votes_potus_08_12.feather\")\n",
    "df_rep_votes.head()"
   ]
  },
  {
   "cell_type": "code",
   "execution_count": 24,
   "id": "09fa8c28-38ae-4660-a9d2-e6f5c99f45a2",
   "metadata": {},
   "outputs": [
    {
     "data": {
      "text/plain": [
       "<Axes: >"
      ]
     },
     "execution_count": 24,
     "metadata": {},
     "output_type": "execute_result"
    },
    {
     "data": {
      "image/png": "[encoded data removed]",
      "text/plain": [
       "<Figure size 640x480 with 1 Axes>"
      ]
     },
     "metadata": {},
     "output_type": "display_data"
    }
   ],
   "source": [
    "sample_data = df_rep_votes \n",
    "sample_data['diff'] = sample_data['repub_percent_08'] - sample_data['repub_percent_12']\n",
    "\n",
    "sample_data['diff'].hist(bins=20) "
   ]
  },
  {
   "cell_type": "code",
   "execution_count": 25,
   "id": "a8ed9449-9f4f-40c3-b701-cd03c28ea9b7",
   "metadata": {},
   "outputs": [
    {
     "name": "stdout",
     "output_type": "stream",
     "text": [
      "mean of diff: -2.877109041242944\n"
     ]
    }
   ],
   "source": [
    " xbar_diff = sample_data['diff'].mean()\n",
    "print(f\"mean of diff: {xbar_diff}\")"
   ]
  },
  {
   "cell_type": "markdown",
   "id": "e386b486-f791-4d90-987d-8f9654141087",
   "metadata": {},
   "source": [
    "## Revised hypotheses\n",
    "\n",
    "$\\Large H_0$ : $\\Large \\mu_{\\text{diff}} = 0$  \n",
    "$\\Large H_A$ : $\\Large \\mu_{\\text{diff}} < 0$  \n",
    "\n",
    "### Revised test statistic for paired samples:\n",
    "\n",
    "$$\n",
    "\\begin{align}\n",
    "\\Large t = \\dfrac{(\\bar{x}_{\\text{diff}} - \\mu_{\\text{diff}})}{\\sqrt{\\dfrac{s_{\\text{diff}}^2}{n_{\\text{diff}}}}} \\\\[1em]\n",
    "\\Large df = n_{\\text{diff}} - 1\n",
    "\\end{align}\n",
    "$$"
   ]
  },
  {
   "cell_type": "code",
   "execution_count": 26,
   "id": "fba56bba-99b9-4186-857b-b4d148dba386",
   "metadata": {},
   "outputs": [
    {
     "name": "stdout",
     "output_type": "stream",
     "text": [
      "n_diff: 100 | s_diff: 5.136737887231852\n"
     ]
    }
   ],
   "source": [
    "n_diff = len(sample_data)\n",
    "s_diff = sample_data['diff'].std()\n",
    "print(f\"n_diff: {n_diff} | s_diff: {s_diff}\")"
   ]
  },
  {
   "cell_type": "code",
   "execution_count": 27,
   "id": "06ccafcc-4a9a-4006-b750-fbf608c8e60d",
   "metadata": {},
   "outputs": [
    {
     "name": "stdout",
     "output_type": "stream",
     "text": [
      "t_stat: -5.601043121928489 | degrees_of_freedom: 99 | p_value: 9.572537285272411e-08\n",
      "Since p value of 9.572537285272411e-08 is < alpha of 0.05, reject the null hypothsis in favor of the alternative.\n"
     ]
    }
   ],
   "source": [
    "t_stat = (xbar_diff-0) / np.sqrt(s_diff**2/n_diff)\n",
    "degrees_of_freedom = n_diff - 1\n",
    "p_value = t.cdf(t_stat, df=degrees_of_freedom)\n",
    "print(f\"t_stat: {t_stat} | degrees_of_freedom: {degrees_of_freedom} | p_value: {p_value}\")\n",
    "print(f\"Since p value of {p_value} is < alpha of {alpha}, reject the null hypothsis in favor of the alternative.\")"
   ]
  },
  {
   "cell_type": "code",
   "execution_count": 28,
   "id": "5d65846d-011d-4506-91a8-a95131aa3635",
   "metadata": {},
   "outputs": [
    {
     "data": {
      "text/html": [
       "<div>\n",
       "<style scoped>\n",
       "    .dataframe tbody tr th:only-of-type {\n",
       "        vertical-align: middle;\n",
       "    }\n",
       "\n",
       "    .dataframe tbody tr th {\n",
       "        vertical-align: top;\n",
       "    }\n",
       "\n",
       "    .dataframe thead th {\n",
       "        text-align: right;\n",
       "    }\n",
       "</style>\n",
       "<table border=\"1\" class=\"dataframe\">\n",
       "  <thead>\n",
       "    <tr style=\"text-align: right;\">\n",
       "      <th></th>\n",
       "      <th>T</th>\n",
       "      <th>dof</th>\n",
       "      <th>alternative</th>\n",
       "      <th>p-val</th>\n",
       "      <th>CI95%</th>\n",
       "      <th>cohen-d</th>\n",
       "      <th>BF10</th>\n",
       "      <th>power</th>\n",
       "    </tr>\n",
       "  </thead>\n",
       "  <tbody>\n",
       "    <tr>\n",
       "      <th>T-test</th>\n",
       "      <td>-5.601043</td>\n",
       "      <td>99</td>\n",
       "      <td>less</td>\n",
       "      <td>9.572537e-08</td>\n",
       "      <td>[-inf, -2.02]</td>\n",
       "      <td>0.560104</td>\n",
       "      <td>1.323e+05</td>\n",
       "      <td>0.999955</td>\n",
       "    </tr>\n",
       "  </tbody>\n",
       "</table>\n",
       "</div>"
      ],
      "text/plain": [
       "               T  dof alternative         p-val          CI95%   cohen-d  \\\n",
       "T-test -5.601043   99        less  9.572537e-08  [-inf, -2.02]  0.560104   \n",
       "\n",
       "             BF10     power  \n",
       "T-test  1.323e+05  0.999955  "
      ]
     },
     "execution_count": 28,
     "metadata": {},
     "output_type": "execute_result"
    }
   ],
   "source": [
    "# easier way...\n",
    "import pingouin\n",
    "\n",
    "pingouin.ttest(\n",
    "    x=sample_data['diff'],\n",
    "    y=0,\n",
    "    alternative=\"less\"  # left tail\n",
    ")"
   ]
  },
  {
   "cell_type": "code",
   "execution_count": 29,
   "id": "ae1dc301-d864-4b7a-9406-7fd5e010935b",
   "metadata": {},
   "outputs": [
    {
     "data": {
      "text/html": [
       "<div>\n",
       "<style scoped>\n",
       "    .dataframe tbody tr th:only-of-type {\n",
       "        vertical-align: middle;\n",
       "    }\n",
       "\n",
       "    .dataframe tbody tr th {\n",
       "        vertical-align: top;\n",
       "    }\n",
       "\n",
       "    .dataframe thead th {\n",
       "        text-align: right;\n",
       "    }\n",
       "</style>\n",
       "<table border=\"1\" class=\"dataframe\">\n",
       "  <thead>\n",
       "    <tr style=\"text-align: right;\">\n",
       "      <th></th>\n",
       "      <th>T</th>\n",
       "      <th>dof</th>\n",
       "      <th>alternative</th>\n",
       "      <th>p-val</th>\n",
       "      <th>CI95%</th>\n",
       "      <th>cohen-d</th>\n",
       "      <th>BF10</th>\n",
       "      <th>power</th>\n",
       "    </tr>\n",
       "  </thead>\n",
       "  <tbody>\n",
       "    <tr>\n",
       "      <th>T-test</th>\n",
       "      <td>-5.601043</td>\n",
       "      <td>99</td>\n",
       "      <td>less</td>\n",
       "      <td>9.572537e-08</td>\n",
       "      <td>[-inf, -2.02]</td>\n",
       "      <td>0.217364</td>\n",
       "      <td>1.323e+05</td>\n",
       "      <td>0.696338</td>\n",
       "    </tr>\n",
       "  </tbody>\n",
       "</table>\n",
       "</div>"
      ],
      "text/plain": [
       "               T  dof alternative         p-val          CI95%   cohen-d  \\\n",
       "T-test -5.601043   99        less  9.572537e-08  [-inf, -2.02]  0.217364   \n",
       "\n",
       "             BF10     power  \n",
       "T-test  1.323e+05  0.696338  "
      ]
     },
     "execution_count": 29,
     "metadata": {},
     "output_type": "execute_result"
    }
   ],
   "source": [
    "# paired t-test - results in first 4 col's are the same\n",
    "pingouin.ttest(\n",
    "    x=sample_data['repub_percent_08'],\n",
    "    y=sample_data['repub_percent_12'],\n",
    "    paired=True,\n",
    "    alternative=\"less\"  # left tail\n",
    ")"
   ]
  },
  {
   "cell_type": "code",
   "execution_count": 30,
   "id": "ca1415e4-54cd-4f94-9376-32af0e98d54b",
   "metadata": {},
   "outputs": [
    {
     "data": {
      "text/html": [
       "<div>\n",
       "<style scoped>\n",
       "    .dataframe tbody tr th:only-of-type {\n",
       "        vertical-align: middle;\n",
       "    }\n",
       "\n",
       "    .dataframe tbody tr th {\n",
       "        vertical-align: top;\n",
       "    }\n",
       "\n",
       "    .dataframe thead th {\n",
       "        text-align: right;\n",
       "    }\n",
       "</style>\n",
       "<table border=\"1\" class=\"dataframe\">\n",
       "  <thead>\n",
       "    <tr style=\"text-align: right;\">\n",
       "      <th></th>\n",
       "      <th>T</th>\n",
       "      <th>dof</th>\n",
       "      <th>alternative</th>\n",
       "      <th>p-val</th>\n",
       "      <th>CI95%</th>\n",
       "      <th>cohen-d</th>\n",
       "      <th>BF10</th>\n",
       "      <th>power</th>\n",
       "    </tr>\n",
       "  </thead>\n",
       "  <tbody>\n",
       "    <tr>\n",
       "      <th>T-test</th>\n",
       "      <td>-1.536997</td>\n",
       "      <td>198</td>\n",
       "      <td>less</td>\n",
       "      <td>0.062945</td>\n",
       "      <td>[-inf, 0.22]</td>\n",
       "      <td>0.217364</td>\n",
       "      <td>0.927</td>\n",
       "      <td>0.454972</td>\n",
       "    </tr>\n",
       "  </tbody>\n",
       "</table>\n",
       "</div>"
      ],
      "text/plain": [
       "               T  dof alternative     p-val         CI95%   cohen-d   BF10  \\\n",
       "T-test -1.536997  198        less  0.062945  [-inf, 0.22]  0.217364  0.927   \n",
       "\n",
       "           power  \n",
       "T-test  0.454972  "
      ]
     },
     "execution_count": 30,
     "metadata": {},
     "output_type": "execute_result"
    }
   ],
   "source": [
    "pingouin.ttest(\n",
    "    x=sample_data['repub_percent_08'],\n",
    "    y=sample_data['repub_percent_12'],\n",
    "    paired=False,  # notice how p-value increased and power decreased\n",
    "    alternative=\"less\"\n",
    ")"
   ]
  },
  {
   "cell_type": "markdown",
   "id": "df2ea8c8-0bf0-4907-80a7-a2a54bd23e04",
   "metadata": {},
   "source": [
    "## ANOVA\n",
    "\n",
    "Analysis of Variance (ANOVA) is used when we need compare the differences between more than 2 groups. For example, the *job satisfaction* variable (`job_sat`) in the **StackOverflow** data has 5 levels as shown below. Say that we want to know:\n",
    "\n",
    "***Is mean annual compensation different for different levels of job satisfaction?***\n",
    "\n",
    "A boxplot is well-suited for visualizing this type of data. The `Very satisfied` category looks slightly higher, but we need a hypothesis test to determine if this is a **significant** difference.\n",
    "\n",
    "### ANOVA steps\n",
    "\n",
    "+ Set a significance level: $\\alpha$\n",
    "+ "
   ]
  },
  {
   "cell_type": "code",
   "execution_count": 31,
   "id": "7d3ef95d-e0cf-4553-a3e5-4941426e3ad2",
   "metadata": {},
   "outputs": [
    {
     "data": {
      "text/plain": [
       "job_sat\n",
       "Very satisfied           879\n",
       "Slightly satisfied       680\n",
       "Slightly dissatisfied    342\n",
       "Neither                  201\n",
       "Very dissatisfied        159\n",
       "Name: count, dtype: int64"
      ]
     },
     "execution_count": 31,
     "metadata": {},
     "output_type": "execute_result"
    }
   ],
   "source": [
    "stack_overflow['job_sat'].value_counts() "
   ]
  },
  {
   "cell_type": "code",
   "execution_count": 32,
   "id": "721abb3b-7d04-4ac2-ab67-426f28697f27",
   "metadata": {},
   "outputs": [
    {
     "data": {
      "image/png": "[encoded data removed]",
      "text/plain": [
       "<Figure size 640x480 with 1 Axes>"
      ]
     },
     "metadata": {},
     "output_type": "display_data"
    }
   ],
   "source": [
    "import seaborn as sns\n",
    "sns.boxplot(x=\"converted_comp\",\n",
    "            y=\"job_sat\",\n",
    "            data=stack_overflow,\n",
    "            hue=\"job_sat\")\n",
    "plt.show()"
   ]
  },
  {
   "cell_type": "code",
   "execution_count": 33,
   "id": "ea581b6a-ddd1-4639-ba71-6aab5c6cf2df",
   "metadata": {},
   "outputs": [
    {
     "data": {
      "text/html": [
       "<div>\n",
       "<style scoped>\n",
       "    .dataframe tbody tr th:only-of-type {\n",
       "        vertical-align: middle;\n",
       "    }\n",
       "\n",
       "    .dataframe tbody tr th {\n",
       "        vertical-align: top;\n",
       "    }\n",
       "\n",
       "    .dataframe thead th {\n",
       "        text-align: right;\n",
       "    }\n",
       "</style>\n",
       "<table border=\"1\" class=\"dataframe\">\n",
       "  <thead>\n",
       "    <tr style=\"text-align: right;\">\n",
       "      <th></th>\n",
       "      <th>Source</th>\n",
       "      <th>ddof1</th>\n",
       "      <th>ddof2</th>\n",
       "      <th>F</th>\n",
       "      <th>p-unc</th>\n",
       "      <th>np2</th>\n",
       "    </tr>\n",
       "  </thead>\n",
       "  <tbody>\n",
       "    <tr>\n",
       "      <th>0</th>\n",
       "      <td>job_sat</td>\n",
       "      <td>4</td>\n",
       "      <td>2256</td>\n",
       "      <td>4.480485</td>\n",
       "      <td>0.001315</td>\n",
       "      <td>0.007882</td>\n",
       "    </tr>\n",
       "  </tbody>\n",
       "</table>\n",
       "</div>"
      ],
      "text/plain": [
       "    Source  ddof1  ddof2         F     p-unc       np2\n",
       "0  job_sat      4   2256  4.480485  0.001315  0.007882"
      ]
     },
     "execution_count": 33,
     "metadata": {},
     "output_type": "execute_result"
    }
   ],
   "source": [
    "alpha = 0.2  # larger than typically set in most situations, but used here for illustration purposes\n",
    "\n",
    "pingouin.anova(data=stack_overflow,\n",
    "               dv=\"converted_comp\",  # dependent variable: assuming that compenstation depends on job satisfaction\n",
    "               between=\"job_sat\")    # groups which we are making comparisons between"
   ]
  },
  {
   "cell_type": "markdown",
   "id": "c75b2fb7-3035-433c-94bc-50f6351106f5",
   "metadata": {},
   "source": [
    "+ $(p = 0.001315) < (\\alpha = 0.2)$\n",
    "+ At least two categories have *significantly different* compensation\n",
    "    + ...but we don't know which two categories these are\n",
    " \n",
    "### To identifying which categories are different, we need to run\n",
    "\n",
    "<img src=\"./graphics/anova_pairwise_tests.png\">\n",
    "\n",
    "### We can us `pingouin` to run all these tests in one go!"
   ]
  },
  {
   "cell_type": "code",
   "execution_count": 34,
   "id": "54220883-a2d6-476f-a004-5201aa496b50",
   "metadata": {},
   "outputs": [
    {
     "data": {
      "text/html": [
       "<div>\n",
       "<style scoped>\n",
       "    .dataframe tbody tr th:only-of-type {\n",
       "        vertical-align: middle;\n",
       "    }\n",
       "\n",
       "    .dataframe tbody tr th {\n",
       "        vertical-align: top;\n",
       "    }\n",
       "\n",
       "    .dataframe thead th {\n",
       "        text-align: right;\n",
       "    }\n",
       "</style>\n",
       "<table border=\"1\" class=\"dataframe\">\n",
       "  <thead>\n",
       "    <tr style=\"text-align: right;\">\n",
       "      <th></th>\n",
       "      <th>Contrast</th>\n",
       "      <th>A</th>\n",
       "      <th>B</th>\n",
       "      <th>Paired</th>\n",
       "      <th>Parametric</th>\n",
       "      <th>T</th>\n",
       "      <th>dof</th>\n",
       "      <th>alternative</th>\n",
       "      <th>p-unc</th>\n",
       "      <th>BF10</th>\n",
       "      <th>hedges</th>\n",
       "    </tr>\n",
       "  </thead>\n",
       "  <tbody>\n",
       "    <tr>\n",
       "      <th>0</th>\n",
       "      <td>job_sat</td>\n",
       "      <td>Very dissatisfied</td>\n",
       "      <td>Slightly dissatisfied</td>\n",
       "      <td>False</td>\n",
       "      <td>True</td>\n",
       "      <td>1.129951</td>\n",
       "      <td>247.570187</td>\n",
       "      <td>two-sided</td>\n",
       "      <td>0.259590</td>\n",
       "      <td>0.197</td>\n",
       "      <td>0.119131</td>\n",
       "    </tr>\n",
       "    <tr>\n",
       "      <th>1</th>\n",
       "      <td>job_sat</td>\n",
       "      <td>Very dissatisfied</td>\n",
       "      <td>Neither</td>\n",
       "      <td>False</td>\n",
       "      <td>True</td>\n",
       "      <td>0.545948</td>\n",
       "      <td>321.165726</td>\n",
       "      <td>two-sided</td>\n",
       "      <td>0.585481</td>\n",
       "      <td>0.135</td>\n",
       "      <td>0.058537</td>\n",
       "    </tr>\n",
       "    <tr>\n",
       "      <th>2</th>\n",
       "      <td>job_sat</td>\n",
       "      <td>Very dissatisfied</td>\n",
       "      <td>Slightly satisfied</td>\n",
       "      <td>False</td>\n",
       "      <td>True</td>\n",
       "      <td>1.243665</td>\n",
       "      <td>187.153329</td>\n",
       "      <td>two-sided</td>\n",
       "      <td>0.215179</td>\n",
       "      <td>0.208</td>\n",
       "      <td>0.145624</td>\n",
       "    </tr>\n",
       "    <tr>\n",
       "      <th>3</th>\n",
       "      <td>job_sat</td>\n",
       "      <td>Very dissatisfied</td>\n",
       "      <td>Very satisfied</td>\n",
       "      <td>False</td>\n",
       "      <td>True</td>\n",
       "      <td>-0.747379</td>\n",
       "      <td>221.666205</td>\n",
       "      <td>two-sided</td>\n",
       "      <td>0.455627</td>\n",
       "      <td>0.126</td>\n",
       "      <td>-0.063479</td>\n",
       "    </tr>\n",
       "    <tr>\n",
       "      <th>4</th>\n",
       "      <td>job_sat</td>\n",
       "      <td>Slightly dissatisfied</td>\n",
       "      <td>Neither</td>\n",
       "      <td>False</td>\n",
       "      <td>True</td>\n",
       "      <td>-0.602209</td>\n",
       "      <td>367.730081</td>\n",
       "      <td>two-sided</td>\n",
       "      <td>0.547406</td>\n",
       "      <td>0.118</td>\n",
       "      <td>-0.055707</td>\n",
       "    </tr>\n",
       "    <tr>\n",
       "      <th>5</th>\n",
       "      <td>job_sat</td>\n",
       "      <td>Slightly dissatisfied</td>\n",
       "      <td>Slightly satisfied</td>\n",
       "      <td>False</td>\n",
       "      <td>True</td>\n",
       "      <td>0.038264</td>\n",
       "      <td>569.926329</td>\n",
       "      <td>two-sided</td>\n",
       "      <td>0.969491</td>\n",
       "      <td>0.074</td>\n",
       "      <td>0.002719</td>\n",
       "    </tr>\n",
       "    <tr>\n",
       "      <th>6</th>\n",
       "      <td>job_sat</td>\n",
       "      <td>Slightly dissatisfied</td>\n",
       "      <td>Very satisfied</td>\n",
       "      <td>False</td>\n",
       "      <td>True</td>\n",
       "      <td>-3.076222</td>\n",
       "      <td>821.303063</td>\n",
       "      <td>two-sided</td>\n",
       "      <td>0.002166</td>\n",
       "      <td>7.43</td>\n",
       "      <td>-0.173247</td>\n",
       "    </tr>\n",
       "    <tr>\n",
       "      <th>7</th>\n",
       "      <td>job_sat</td>\n",
       "      <td>Neither</td>\n",
       "      <td>Slightly satisfied</td>\n",
       "      <td>False</td>\n",
       "      <td>True</td>\n",
       "      <td>0.700752</td>\n",
       "      <td>258.204546</td>\n",
       "      <td>two-sided</td>\n",
       "      <td>0.484088</td>\n",
       "      <td>0.114</td>\n",
       "      <td>0.068513</td>\n",
       "    </tr>\n",
       "    <tr>\n",
       "      <th>8</th>\n",
       "      <td>job_sat</td>\n",
       "      <td>Neither</td>\n",
       "      <td>Very satisfied</td>\n",
       "      <td>False</td>\n",
       "      <td>True</td>\n",
       "      <td>-1.662901</td>\n",
       "      <td>328.326639</td>\n",
       "      <td>two-sided</td>\n",
       "      <td>0.097286</td>\n",
       "      <td>0.337</td>\n",
       "      <td>-0.120115</td>\n",
       "    </tr>\n",
       "    <tr>\n",
       "      <th>9</th>\n",
       "      <td>job_sat</td>\n",
       "      <td>Slightly satisfied</td>\n",
       "      <td>Very satisfied</td>\n",
       "      <td>False</td>\n",
       "      <td>True</td>\n",
       "      <td>-4.009935</td>\n",
       "      <td>1478.622799</td>\n",
       "      <td>two-sided</td>\n",
       "      <td>0.000064</td>\n",
       "      <td>158.564</td>\n",
       "      <td>-0.192931</td>\n",
       "    </tr>\n",
       "  </tbody>\n",
       "</table>\n",
       "</div>"
      ],
      "text/plain": [
       "  Contrast                      A                      B  Paired  Parametric  \\\n",
       "0  job_sat      Very dissatisfied  Slightly dissatisfied   False        True   \n",
       "1  job_sat      Very dissatisfied                Neither   False        True   \n",
       "2  job_sat      Very dissatisfied     Slightly satisfied   False        True   \n",
       "3  job_sat      Very dissatisfied         Very satisfied   False        True   \n",
       "4  job_sat  Slightly dissatisfied                Neither   False        True   \n",
       "5  job_sat  Slightly dissatisfied     Slightly satisfied   False        True   \n",
       "6  job_sat  Slightly dissatisfied         Very satisfied   False        True   \n",
       "7  job_sat                Neither     Slightly satisfied   False        True   \n",
       "8  job_sat                Neither         Very satisfied   False        True   \n",
       "9  job_sat     Slightly satisfied         Very satisfied   False        True   \n",
       "\n",
       "          T          dof alternative     p-unc     BF10    hedges  \n",
       "0  1.129951   247.570187   two-sided  0.259590    0.197  0.119131  \n",
       "1  0.545948   321.165726   two-sided  0.585481    0.135  0.058537  \n",
       "2  1.243665   187.153329   two-sided  0.215179    0.208  0.145624  \n",
       "3 -0.747379   221.666205   two-sided  0.455627    0.126 -0.063479  \n",
       "4 -0.602209   367.730081   two-sided  0.547406    0.118 -0.055707  \n",
       "5  0.038264   569.926329   two-sided  0.969491    0.074  0.002719  \n",
       "6 -3.076222   821.303063   two-sided  0.002166     7.43 -0.173247  \n",
       "7  0.700752   258.204546   two-sided  0.484088    0.114  0.068513  \n",
       "8 -1.662901   328.326639   two-sided  0.097286    0.337 -0.120115  \n",
       "9 -4.009935  1478.622799   two-sided  0.000064  158.564 -0.192931  "
      ]
     },
     "execution_count": 34,
     "metadata": {},
     "output_type": "execute_result"
    }
   ],
   "source": [
    "pingouin.pairwise_tests(data=stack_overflow,\n",
    "                        dv=\"converted_comp\",\n",
    "                        between=\"job_sat\",\n",
    "                        padjust=\"none\")"
   ]
  },
  {
   "cell_type": "markdown",
   "id": "e155b23f-e9d1-4c09-8ac0-6a4bb1990485",
   "metadata": {},
   "source": [
    "### Three of these pairs have a p-value below our significance level\n",
    "\n",
    "| A                    | B             | p-value |\n",
    "|----------------------|---------------|---------|\n",
    "| Slightly dissatisfied| Very satisfied| 0.002166|\n",
    "|               Neither| Very satisfied| 0.097286|\n",
    "|    Slightly satisfied| Very satisfied| 0.000064|"
   ]
  },
  {
   "cell_type": "markdown",
   "id": "422120e0-dad2-4273-b90c-d174cd9f86fa",
   "metadata": {},
   "source": [
    "## As the number of groups increases\n",
    "\n",
    "+ the number of pairs increases quadratically\n",
    "+ the probability increases rapidly that you find at least 1 significant result which is due to chance\n",
    "  + in other words, finding a result that you think is significant but is actually not.\n",
    "\n",
    "### Number of pairs\n",
    "\n",
    "As the number of groups increases, the number of pairs increases as the combination of *n choose 2* or:\n",
    "\n",
    "$\\Large{}_{n}C_{k} = \\dfrac{n!}{k!(n-k)!} = {}_{n}C_{2} = \\dfrac{n!}{2(n-2)!} = \\dfrac{1}{2}n(n-1)$\n",
    "\n",
    "which is quadratic.\n",
    "\n",
    "### Finding a significant result that isn't really significant\n",
    "\n",
    "In our example, each of the pairwise tests listed above has a 0.2 probability of finding a significant result. As the number of tests increases, the probability of finding at least one \"significant\" result can be modeled as a series of *Bernoulli trials*:\n",
    "\n",
    "$\\Large P(X = k) = ({}_{n}C_{k})p^{k}(1 - p)^{n-k}$\n",
    "\n",
    "where $p$ is the probability of \"success\" (0.2 in our case), $k$ is the number of groupings (2 in our case) and $n$ is the number of trials (*tests* in our case). For our example, these two ideas can be visualized as follows:\n",
    "\n",
    "<img src=\"./graphics/motive_for_bonferronii_correction.png\">\n",
    "\n",
    "### Bonferroni correction\n",
    "\n",
    "The Bonferroni correction was designed to **increase** the **p-value** to reduce the chance of getting a false positive when running a large number of tests. This correction can be calculated by `pingouin`.  When we apply this correction, only 2 of the pairs shows true signicance per the **p-corr** (*p corrected*) column."
   ]
  },
  {
   "cell_type": "code",
   "execution_count": 35,
   "id": "04328db0-35d9-480d-94e9-a829b1118ab6",
   "metadata": {},
   "outputs": [
    {
     "data": {
      "text/html": [
       "<div>\n",
       "<style scoped>\n",
       "    .dataframe tbody tr th:only-of-type {\n",
       "        vertical-align: middle;\n",
       "    }\n",
       "\n",
       "    .dataframe tbody tr th {\n",
       "        vertical-align: top;\n",
       "    }\n",
       "\n",
       "    .dataframe thead th {\n",
       "        text-align: right;\n",
       "    }\n",
       "</style>\n",
       "<table border=\"1\" class=\"dataframe\">\n",
       "  <thead>\n",
       "    <tr style=\"text-align: right;\">\n",
       "      <th></th>\n",
       "      <th>Contrast</th>\n",
       "      <th>A</th>\n",
       "      <th>B</th>\n",
       "      <th>Paired</th>\n",
       "      <th>Parametric</th>\n",
       "      <th>T</th>\n",
       "      <th>dof</th>\n",
       "      <th>alternative</th>\n",
       "      <th>p-unc</th>\n",
       "      <th>p-corr</th>\n",
       "      <th>p-adjust</th>\n",
       "      <th>BF10</th>\n",
       "      <th>hedges</th>\n",
       "    </tr>\n",
       "  </thead>\n",
       "  <tbody>\n",
       "    <tr>\n",
       "      <th>0</th>\n",
       "      <td>job_sat</td>\n",
       "      <td>Very dissatisfied</td>\n",
       "      <td>Slightly dissatisfied</td>\n",
       "      <td>False</td>\n",
       "      <td>True</td>\n",
       "      <td>1.129951</td>\n",
       "      <td>247.570187</td>\n",
       "      <td>two-sided</td>\n",
       "      <td>0.259590</td>\n",
       "      <td>1.000000</td>\n",
       "      <td>bonf</td>\n",
       "      <td>0.197</td>\n",
       "      <td>0.119131</td>\n",
       "    </tr>\n",
       "    <tr>\n",
       "      <th>1</th>\n",
       "      <td>job_sat</td>\n",
       "      <td>Very dissatisfied</td>\n",
       "      <td>Neither</td>\n",
       "      <td>False</td>\n",
       "      <td>True</td>\n",
       "      <td>0.545948</td>\n",
       "      <td>321.165726</td>\n",
       "      <td>two-sided</td>\n",
       "      <td>0.585481</td>\n",
       "      <td>1.000000</td>\n",
       "      <td>bonf</td>\n",
       "      <td>0.135</td>\n",
       "      <td>0.058537</td>\n",
       "    </tr>\n",
       "    <tr>\n",
       "      <th>2</th>\n",
       "      <td>job_sat</td>\n",
       "      <td>Very dissatisfied</td>\n",
       "      <td>Slightly satisfied</td>\n",
       "      <td>False</td>\n",
       "      <td>True</td>\n",
       "      <td>1.243665</td>\n",
       "      <td>187.153329</td>\n",
       "      <td>two-sided</td>\n",
       "      <td>0.215179</td>\n",
       "      <td>1.000000</td>\n",
       "      <td>bonf</td>\n",
       "      <td>0.208</td>\n",
       "      <td>0.145624</td>\n",
       "    </tr>\n",
       "    <tr>\n",
       "      <th>3</th>\n",
       "      <td>job_sat</td>\n",
       "      <td>Very dissatisfied</td>\n",
       "      <td>Very satisfied</td>\n",
       "      <td>False</td>\n",
       "      <td>True</td>\n",
       "      <td>-0.747379</td>\n",
       "      <td>221.666205</td>\n",
       "      <td>two-sided</td>\n",
       "      <td>0.455627</td>\n",
       "      <td>1.000000</td>\n",
       "      <td>bonf</td>\n",
       "      <td>0.126</td>\n",
       "      <td>-0.063479</td>\n",
       "    </tr>\n",
       "    <tr>\n",
       "      <th>4</th>\n",
       "      <td>job_sat</td>\n",
       "      <td>Slightly dissatisfied</td>\n",
       "      <td>Neither</td>\n",
       "      <td>False</td>\n",
       "      <td>True</td>\n",
       "      <td>-0.602209</td>\n",
       "      <td>367.730081</td>\n",
       "      <td>two-sided</td>\n",
       "      <td>0.547406</td>\n",
       "      <td>1.000000</td>\n",
       "      <td>bonf</td>\n",
       "      <td>0.118</td>\n",
       "      <td>-0.055707</td>\n",
       "    </tr>\n",
       "    <tr>\n",
       "      <th>5</th>\n",
       "      <td>job_sat</td>\n",
       "      <td>Slightly dissatisfied</td>\n",
       "      <td>Slightly satisfied</td>\n",
       "      <td>False</td>\n",
       "      <td>True</td>\n",
       "      <td>0.038264</td>\n",
       "      <td>569.926329</td>\n",
       "      <td>two-sided</td>\n",
       "      <td>0.969491</td>\n",
       "      <td>1.000000</td>\n",
       "      <td>bonf</td>\n",
       "      <td>0.074</td>\n",
       "      <td>0.002719</td>\n",
       "    </tr>\n",
       "    <tr>\n",
       "      <th>6</th>\n",
       "      <td>job_sat</td>\n",
       "      <td>Slightly dissatisfied</td>\n",
       "      <td>Very satisfied</td>\n",
       "      <td>False</td>\n",
       "      <td>True</td>\n",
       "      <td>-3.076222</td>\n",
       "      <td>821.303063</td>\n",
       "      <td>two-sided</td>\n",
       "      <td>0.002166</td>\n",
       "      <td>0.021659</td>\n",
       "      <td>bonf</td>\n",
       "      <td>7.43</td>\n",
       "      <td>-0.173247</td>\n",
       "    </tr>\n",
       "    <tr>\n",
       "      <th>7</th>\n",
       "      <td>job_sat</td>\n",
       "      <td>Neither</td>\n",
       "      <td>Slightly satisfied</td>\n",
       "      <td>False</td>\n",
       "      <td>True</td>\n",
       "      <td>0.700752</td>\n",
       "      <td>258.204546</td>\n",
       "      <td>two-sided</td>\n",
       "      <td>0.484088</td>\n",
       "      <td>1.000000</td>\n",
       "      <td>bonf</td>\n",
       "      <td>0.114</td>\n",
       "      <td>0.068513</td>\n",
       "    </tr>\n",
       "    <tr>\n",
       "      <th>8</th>\n",
       "      <td>job_sat</td>\n",
       "      <td>Neither</td>\n",
       "      <td>Very satisfied</td>\n",
       "      <td>False</td>\n",
       "      <td>True</td>\n",
       "      <td>-1.662901</td>\n",
       "      <td>328.326639</td>\n",
       "      <td>two-sided</td>\n",
       "      <td>0.097286</td>\n",
       "      <td>0.972864</td>\n",
       "      <td>bonf</td>\n",
       "      <td>0.337</td>\n",
       "      <td>-0.120115</td>\n",
       "    </tr>\n",
       "    <tr>\n",
       "      <th>9</th>\n",
       "      <td>job_sat</td>\n",
       "      <td>Slightly satisfied</td>\n",
       "      <td>Very satisfied</td>\n",
       "      <td>False</td>\n",
       "      <td>True</td>\n",
       "      <td>-4.009935</td>\n",
       "      <td>1478.622799</td>\n",
       "      <td>two-sided</td>\n",
       "      <td>0.000064</td>\n",
       "      <td>0.000638</td>\n",
       "      <td>bonf</td>\n",
       "      <td>158.564</td>\n",
       "      <td>-0.192931</td>\n",
       "    </tr>\n",
       "  </tbody>\n",
       "</table>\n",
       "</div>"
      ],
      "text/plain": [
       "  Contrast                      A                      B  Paired  Parametric  \\\n",
       "0  job_sat      Very dissatisfied  Slightly dissatisfied   False        True   \n",
       "1  job_sat      Very dissatisfied                Neither   False        True   \n",
       "2  job_sat      Very dissatisfied     Slightly satisfied   False        True   \n",
       "3  job_sat      Very dissatisfied         Very satisfied   False        True   \n",
       "4  job_sat  Slightly dissatisfied                Neither   False        True   \n",
       "5  job_sat  Slightly dissatisfied     Slightly satisfied   False        True   \n",
       "6  job_sat  Slightly dissatisfied         Very satisfied   False        True   \n",
       "7  job_sat                Neither     Slightly satisfied   False        True   \n",
       "8  job_sat                Neither         Very satisfied   False        True   \n",
       "9  job_sat     Slightly satisfied         Very satisfied   False        True   \n",
       "\n",
       "          T          dof alternative     p-unc    p-corr p-adjust     BF10  \\\n",
       "0  1.129951   247.570187   two-sided  0.259590  1.000000     bonf    0.197   \n",
       "1  0.545948   321.165726   two-sided  0.585481  1.000000     bonf    0.135   \n",
       "2  1.243665   187.153329   two-sided  0.215179  1.000000     bonf    0.208   \n",
       "3 -0.747379   221.666205   two-sided  0.455627  1.000000     bonf    0.126   \n",
       "4 -0.602209   367.730081   two-sided  0.547406  1.000000     bonf    0.118   \n",
       "5  0.038264   569.926329   two-sided  0.969491  1.000000     bonf    0.074   \n",
       "6 -3.076222   821.303063   two-sided  0.002166  0.021659     bonf     7.43   \n",
       "7  0.700752   258.204546   two-sided  0.484088  1.000000     bonf    0.114   \n",
       "8 -1.662901   328.326639   two-sided  0.097286  0.972864     bonf    0.337   \n",
       "9 -4.009935  1478.622799   two-sided  0.000064  0.000638     bonf  158.564   \n",
       "\n",
       "     hedges  \n",
       "0  0.119131  \n",
       "1  0.058537  \n",
       "2  0.145624  \n",
       "3 -0.063479  \n",
       "4 -0.055707  \n",
       "5  0.002719  \n",
       "6 -0.173247  \n",
       "7  0.068513  \n",
       "8 -0.120115  \n",
       "9 -0.192931  "
      ]
     },
     "execution_count": 35,
     "metadata": {},
     "output_type": "execute_result"
    }
   ],
   "source": [
    "pingouin.pairwise_tests(data=stack_overflow,\n",
    "                        dv=\"converted_comp\",\n",
    "                        between=\"job_sat\",\n",
    "                        padjust=\"bonf\")"
   ]
  },
  {
   "attachments": {},
   "cell_type": "markdown",
   "id": "16361384-338f-48a6-98e5-fe7abede99fe",
   "metadata": {},
   "source": [
    "## Visualizing many categories\n",
    "\n",
    "Many datasets contain more than 2 categories. Before we get to conducting tests on many categories, it's often helpful to perform exploratory data analysis (EDA), calculating summary statistics for each group and visualizing the distributions of the numeric variable for each category using box plots.\n",
    "\n",
    "Here, we'll return to the late shipments data, and how the price of each package (pack_price) varies between the three shipment modes (shipment_mode): \"Air\", \"Air Charter\", and \"Ocean\"."
   ]
  },
  {
   "cell_type": "code",
   "execution_count": 36,
   "id": "2cc845de-32dc-4f6e-81b4-0a859df74a8d",
   "metadata": {},
   "outputs": [
    {
     "name": "stdout",
     "output_type": "stream",
     "text": [
      "shipment_mode\n",
      "Air            39.705116\n",
      "Air Charter     4.226667\n",
      "Ocean           6.432273\n",
      "Name: pack_price, dtype: float64 \n",
      "\n",
      "shipment_mode\n",
      "Air            48.959427\n",
      "Air Charter     0.992969\n",
      "Ocean           5.303047\n",
      "Name: pack_price, dtype: float64\n"
     ]
    }
   ],
   "source": [
    "# Calculate the mean pack_price for each shipment_mode\n",
    "xbar_pack_by_mode = late_shipments.groupby(\"shipment_mode\")[\"pack_price\"].mean()\n",
    "\n",
    "# Calculate the standard deviation of the pack_price for each shipment_mode\n",
    "s_pack_by_mode = late_shipments.groupby(\"shipment_mode\")['pack_price'].std()\n",
    "\n",
    "# Print the grouped means\n",
    "print(xbar_pack_by_mode, \"\\n\")\n",
    "print(s_pack_by_mode)"
   ]
  },
  {
   "cell_type": "code",
   "execution_count": 37,
   "id": "6490e47d-ccaf-4f30-96ec-2891c18801a1",
   "metadata": {},
   "outputs": [
    {
     "data": {
      "image/png": "[encoded data removed]",
      "text/plain": [
       "<Figure size 640x480 with 1 Axes>"
      ]
     },
     "metadata": {},
     "output_type": "display_data"
    }
   ],
   "source": [
    "# visualize with boxplot of shipment_mode vs. pack_price\n",
    "sns.boxplot(x=\"pack_price\",\n",
    "            y=\"shipment_mode\",\n",
    "            data=late_shipments,\n",
    "            hue=\"shipment_mode\")\n",
    "plt.show()"
   ]
  },
  {
   "cell_type": "code",
   "execution_count": 38,
   "id": "23464dec-c5e6-4ee7-8e24-881bc203fc0c",
   "metadata": {},
   "outputs": [
    {
     "name": "stdout",
     "output_type": "stream",
     "text": [
      "          Source  ddof1  ddof2          F         p-unc       np2\n",
      "0  shipment_mode      2    996  21.831329  5.256696e-10  0.041997\n",
      "Reject H0 that pack price is the same across shipping modes\n"
     ]
    }
   ],
   "source": [
    "# ANOVA for pack_price across shipment_mode\n",
    "anova_results = pingouin.anova(\n",
    "    data=late_shipments,\n",
    "    dv=\"pack_price\",\n",
    "    between=\"shipment_mode\"\n",
    ")\n",
    "\n",
    "# Print anova_results\n",
    "print(anova_results)\n",
    "print(\"Reject H0 that pack price is the same across shipping modes\")"
   ]
  },
  {
   "cell_type": "code",
   "execution_count": 39,
   "id": "1f2339cf-e41b-41fd-9d4b-f7aba8d72f76",
   "metadata": {},
   "outputs": [
    {
     "name": "stdout",
     "output_type": "stream",
     "text": [
      "        Contrast            A            B  Paired  Parametric          T  \\\n",
      "0  shipment_mode          Air  Air Charter   False        True  21.153462   \n",
      "1  shipment_mode          Air        Ocean   False        True  19.312655   \n",
      "2  shipment_mode  Air Charter        Ocean   False        True  -3.170654   \n",
      "\n",
      "          dof alternative         p-unc       BF10    hedges  \n",
      "0  601.222302   two-sided  1.160890e-74  3.878e+76  0.726051  \n",
      "1  986.136131   two-sided  9.786259e-71   7.99e+66  0.710612  \n",
      "2   35.615026   two-sided  3.123012e-03     15.277 -0.423775  \n"
     ]
    }
   ],
   "source": [
    "# pairwise t-test on pack price, grouped by shipment mode\n",
    "pairwise_results = pingouin.pairwise_tests(\n",
    "    data=late_shipments,\n",
    "    dv=\"pack_price\",\n",
    "    between=\"shipment_mode\"\n",
    ")\n",
    "\n",
    "# Print pairwise_results\n",
    "print(pairwise_results)"
   ]
  },
  {
   "cell_type": "code",
   "execution_count": 40,
   "id": "4cb46b8e-e9a2-4ba7-bd5d-5f93cf607102",
   "metadata": {},
   "outputs": [
    {
     "name": "stdout",
     "output_type": "stream",
     "text": [
      "        Contrast            A            B  Paired  Parametric          T  \\\n",
      "0  shipment_mode          Air  Air Charter   False        True  21.153462   \n",
      "1  shipment_mode          Air        Ocean   False        True  19.312655   \n",
      "2  shipment_mode  Air Charter        Ocean   False        True  -3.170654   \n",
      "\n",
      "          dof alternative         p-unc        p-corr p-adjust       BF10  \\\n",
      "0  601.222302   two-sided  1.160890e-74  3.482670e-74     bonf  3.878e+76   \n",
      "1  986.136131   two-sided  9.786259e-71  2.935878e-70     bonf   7.99e+66   \n",
      "2   35.615026   two-sided  3.123012e-03  9.369037e-03     bonf     15.277   \n",
      "\n",
      "     hedges  \n",
      "0  0.726051  \n",
      "1  0.710612  \n",
      "2 -0.423775  \n"
     ]
    }
   ],
   "source": [
    "# pairwise t-tests modified to use Bonferroni p-value adjustment\n",
    "pairwise_results = pingouin.pairwise_tests(data=late_shipments, \n",
    "                                           dv=\"pack_price\",\n",
    "                                           between=\"shipment_mode\",\n",
    "                                           padjust=\"bonf\")\n",
    "\n",
    "# Print pairwise_results\n",
    "print(pairwise_results)"
   ]
  },
  {
   "cell_type": "markdown",
   "id": "42edd9b1-bfbb-4f3d-9ebf-caef3ac2d733",
   "metadata": {},
   "source": [
    "## One-sample proportion tests\n",
    "\n",
    "0. Set significance level ($\\alpha$)\n",
    "1. Estimate standard error of sample statistic from bootstrap distribution\n",
    "2. Compute a standardized test statistic\n",
    "3. Calculate a p-value\n",
    "4. Decide which hypothesis made most sense\n",
    "\n",
    "## StackOverflow example\n",
    "\n",
    " $H_0$ : Proportion of Stack Overflow users under thirty = 0.5  \n",
    " $H_A$ : Proportion of Stack Overflow users under thirty ≠ 0.5  (**2-tail test**)"
   ]
  },
  {
   "cell_type": "code",
   "execution_count": 41,
   "id": "ae6ff5fa-efbd-4f36-ae4c-3fe4443916c9",
   "metadata": {},
   "outputs": [
    {
     "data": {
      "text/plain": [
       "age_cat\n",
       "Under 30       0.535604\n",
       "At least 30    0.464396\n",
       "Name: proportion, dtype: float64"
      ]
     },
     "execution_count": 41,
     "metadata": {},
     "output_type": "execute_result"
    }
   ],
   "source": [
    "alpha = 0.01\n",
    "stack_overflow['age_cat'].value_counts(normalize=True)"
   ]
  },
  {
   "cell_type": "code",
   "execution_count": 42,
   "id": "1d129e6c-6e8f-429a-ad6f-e4e3a4c3a69b",
   "metadata": {},
   "outputs": [
    {
     "name": "stdout",
     "output_type": "stream",
     "text": [
      "3.385911440783663\n"
     ]
    }
   ],
   "source": [
    "# cal z score\n",
    "p_hat = (stack_overflow['age_cat'] == 'Under 30').mean()\n",
    "p_0 = 0.50  # under H0\n",
    "n = len(stack_overflow) \n",
    "\n",
    "numerator = p_hat - p_0\n",
    "denominator = np.sqrt(p_0 * (1 - p_0) / n)\n",
    "z_score = numerator / denominator\n",
    "print(z_score)"
   ]
  },
  {
   "cell_type": "code",
   "execution_count": 43,
   "id": "a9221747-c7a0-4a3b-a8df-25aa19b8b355",
   "metadata": {},
   "outputs": [
    {
     "name": "stdout",
     "output_type": "stream",
     "text": [
      "The p_value is 0.0007094227368100725 which is < alpha of 0.01, so we reject H0\n"
     ]
    }
   ],
   "source": [
    "p_value = norm.cdf(-z_score) +  1 - norm.cdf(z_score)\n",
    "# p_value = 2 * (1 - norm.cdf(z_score)) give same results, but is less explicit\n",
    "print(f\"The p_value is {p_value} which is < alpha of {alpha}, so we reject H0\")"
   ]
  },
  {
   "cell_type": "markdown",
   "id": "2c38f237-02c1-4638-8e1f-77cff3883979",
   "metadata": {},
   "source": [
    "## Late shipments example\n",
    "\n",
    "$H_0$ : Late shipments are 6% of all shipments  \n",
    "$H_A$ : Late shipments are greater than 6%  (**right tail test**)"
   ]
  },
  {
   "cell_type": "code",
   "execution_count": 44,
   "id": "19efebd6-1666-4372-bb7e-d398b203dd2a",
   "metadata": {},
   "outputs": [
    {
     "name": "stdout",
     "output_type": "stream",
     "text": [
      "p_hat = 0.06106106106106106, n = 999\n",
      "z_score = 0.14121589054828845 , p_value = 0.44384969651518114\n"
     ]
    }
   ],
   "source": [
    "# Hypothesize that the proportion of late shipments is 6%\n",
    "p_0 = 0.06\n",
    "\n",
    "# Calculate the sample proportion of late shipments\n",
    "p_hat = (late_shipments[\"late\"] == \"Yes\").mean()\n",
    "\n",
    "# Calculate the sample size\n",
    "n = len(late_shipments)\n",
    "\n",
    "# Calculate the numerator and denominator of the test statistic\n",
    "numerator = p_hat - p_0\n",
    "denominator = np.sqrt((p_0 * (1 - p_0)) / n)\n",
    "\n",
    "# Calculate the test statistic\n",
    "z_score = numerator / denominator\n",
    "\n",
    "# Calculate the p-value from the z-score\n",
    "p_value = 1 - norm.cdf(z_score)\n",
    "\n",
    "print(f\"p_hat = {p_hat}, n = {n}\")\n",
    "print(f\"z_score = {z_score} , p_value = {p_value}\")"
   ]
  },
  {
   "cell_type": "markdown",
   "id": "fd680320-c081-4c3c-acf5-9f7356ab4e2b",
   "metadata": {},
   "source": [
    "## Two-sample proportion tests\n",
    "\n",
    "<img src=\"./graphics/devore_p376.png\">\n",
    "\n",
    "### Example comparing two proportions\n",
    " \n",
    " $H_0$ : Proportion of hobbyist users is the same for those under thirty as those at least thirty  \n",
    " $H_0$ : $p_{\\ge30} − p_{<30} = 0$  \n",
    " \n",
    " $H_A$ : Proportion of hobbyist users is different for those under thirty to those at least thirty  \n",
    " $H_A$ : $p_{\\ge30} − p_{<30} \\neq 0$\n",
    "\n",
    " Significance: $\\alpha = 0.05$"
   ]
  },
  {
   "cell_type": "code",
   "execution_count": 45,
   "id": "e4272d33-6ac4-4f20-af8d-e78f581922df",
   "metadata": {},
   "outputs": [
    {
     "name": "stdout",
     "output_type": "stream",
     "text": [
      "age_cat      hobbyist\n",
      "At least 30  Yes         0.773333\n",
      "             No          0.226667\n",
      "Under 30     Yes         0.843105\n",
      "             No          0.156895\n",
      "Name: proportion, dtype: float64 \n",
      "\n",
      "age_cat\n",
      "At least 30    1050\n",
      "Under 30       1211\n",
      "Name: hobbyist, dtype: int64\n"
     ]
    }
   ],
   "source": [
    "alpha = 0.05\n",
    "\n",
    "p_hats = stack_overflow.groupby(\"age_cat\")[\"hobbyist\"].value_counts(normalize=True)  # set normalize param to get proportions\n",
    "n_m = stack_overflow.groupby(\"age_cat\")[\"hobbyist\"].count()\n",
    "print(p_hats, \"\\n\")\n",
    "print(n_m)"
   ]
  },
  {
   "cell_type": "code",
   "execution_count": 46,
   "id": "ed8367e5-28e3-4da3-b1a3-7c0882ef0113",
   "metadata": {},
   "outputs": [
    {
     "name": "stdout",
     "output_type": "stream",
     "text": [
      "0.7733333333333333 0.8431048720066061 0.810703228659885\n",
      "1050 1211\n"
     ]
    }
   ],
   "source": [
    "# assign quantities for z-score calculation - using pandas multi-indexing is helpful here\n",
    "p_hat_geq_30 = p_hats[(\"At least 30\", \"Yes\")]\n",
    "p_hat_lt_30 = p_hats[(\"Under 30\", \"Yes\")]\n",
    "n_geq_30 = n_m[\"At least 30\"]\n",
    "n_lt_30 = n_m[\"Under 30\"]\n",
    "p_hat = ((n_geq_30 * p_hat_geq_30)/(n_geq_30 + n_lt_30)) + ((n_lt_30 * p_hat_lt_30)/(n_geq_30 + n_lt_30))\n",
    "\n",
    "print(p_hat_geq_30, p_hat_lt_30, p_hat)\n",
    "print(n_geq_30, n_lt_30)"
   ]
  },
  {
   "cell_type": "code",
   "execution_count": 47,
   "id": "8376b7c7-31dc-4db9-a54b-95340b7f3cb9",
   "metadata": {},
   "outputs": [
    {
     "name": "stdout",
     "output_type": "stream",
     "text": [
      "-4.223691463320559 2.403330142685068e-05\n"
     ]
    }
   ],
   "source": [
    "std_error = np.sqrt((p_hat * (1 - p_hat)) * ((1 / n_geq_30) + (1 / n_lt_30)))\n",
    "z_score = (p_hat_geq_30 - p_hat_lt_30) / std_error\n",
    "p_value = 2 * (norm.cdf(z_score))  # 2-tail, symmetric\n",
    "print(z_score, p_value)"
   ]
  },
  {
   "cell_type": "markdown",
   "id": "fe9c60ad-d56c-48ec-9579-69a4c104aa9b",
   "metadata": {},
   "source": [
    "## Doing the same thing using statsmodels\n",
    "\n",
    "Doesn't save a ton of work, but good know..."
   ]
  },
  {
   "cell_type": "code",
   "execution_count": 48,
   "id": "d87a86e9-0fc4-443a-9f56-ceba5b0ce905",
   "metadata": {},
   "outputs": [
    {
     "name": "stdout",
     "output_type": "stream",
     "text": [
      "[ 812 1021]\n",
      "[1050 1211]\n",
      "-4.223691463320559 2.403330142685068e-05\n",
      "p_value of 2.403330142685068e-05 is < alpha of 0.05, therefore we reject the null hypothesis in favor of the alternative\n"
     ]
    }
   ],
   "source": [
    "from statsmodels.stats.proportion import proportions_ztest\n",
    "n_m = stack_overflow.groupby(\"age_cat\")[\"hobbyist\"].value_counts()\n",
    "\n",
    "n_hobbyists = np.array([n_m[(\"At least 30\", \"Yes\")], n_m[(\"Under 30\", \"Yes\")]])\n",
    "n_obs = np.array([n_geq_30, n_lt_30])\n",
    "\n",
    "print(n_hobbyists)\n",
    "print(n_obs)\n",
    "# two-sided is the default, but specify for clarity\n",
    "z_score, p_value = proportions_ztest(count=n_hobbyists, nobs=n_obs, alternative=\"two-sided\")\n",
    "print(z_score, p_value)  # same values as above\n",
    "print(f\"p_value of {p_value} is < alpha of {alpha}, therefore we reject the null hypothesis in favor of the alternative\")"
   ]
  },
  {
   "cell_type": "markdown",
   "id": "29208517-68f5-4b14-bb9d-f6207cc6bf0d",
   "metadata": {},
   "source": [
    "## Chi-square test of independence\n",
    "\n",
    "These extend testing between proportions to more than 2 groups.\n",
    "\n",
    "**Statistical independence** - proportion of successes in the response variable is the same across all categories of the explanatory variable"
   ]
  },
  {
   "cell_type": "code",
   "execution_count": 49,
   "id": "182fed1e-90d8-467d-b9d5-5870b713cc44",
   "metadata": {},
   "outputs": [
    {
     "name": "stdout",
     "output_type": "stream",
     "text": [
      "                 test    lambda       chi2  dof      pval    cramer     power\n",
      "0             pearson  1.000000  17.839570  1.0  0.000024  0.088826  0.988205\n",
      "1        cressie-read  0.666667  17.818114  1.0  0.000024  0.088773  0.988126\n",
      "2      log-likelihood  0.000000  17.802653  1.0  0.000025  0.088734  0.988069\n",
      "3       freeman-tukey -0.500000  17.815060  1.0  0.000024  0.088765  0.988115\n",
      "4  mod-log-likelihood -1.000000  17.848099  1.0  0.000024  0.088848  0.988236\n",
      "5              neyman -2.000000  17.976656  1.0  0.000022  0.089167  0.988694\n"
     ]
    }
   ],
   "source": [
    "# chi-squared test for independence using pingouin\n",
    "\n",
    "expected, observed, stats = pingouin.chi2_independence(data=stack_overflow,\n",
    "                                                       x='hobbyist',\n",
    "                                                       y='age_cat',\n",
    "                                                       correction=False)  # apply Yates continuity correction for small sample size and dof=1\n",
    "                                                                          # don't need here because each group has > 100 samples\n",
    "print(stats)"
   ]
  },
  {
   "cell_type": "markdown",
   "id": "2a2570a0-c3b5-4141-8012-f4a1d8cb7a3c",
   "metadata": {},
   "source": [
    "(pearson) $\\chi^2 = 17.839570 = (\\text{z-score})^2 = (-4.223691463320559)^2$ as shown above\n",
    "\n",
    "### The `job_sat` categorical variable has 5 levels\n",
    "\n",
    "+ Very satisfied\n",
    "+ Slightly satisfied\n",
    "+ Neither\n",
    "+ Slightly dissatisfied\n",
    "+ Very dissatisfied\n",
    "\n",
    "This is a good variable to use in order to illustrate the Chi-squared tests for independence. Define the null and alternative hypotheses and signifcance level as follows:\n",
    "\n",
    "$H_0$ : Age categories **are independent** of job satisfaction levels  \n",
    "$H_A$ : Age categories **are NOT independent** of job satisfaction levels  \n",
    "$\\alpha = 0.1$\n",
    "\n",
    "#### Specifics\n",
    "\n",
    "+ In this example, `age_cat` will be considered the *response* variable and `job_sat`, the *explanatory* variable\n",
    "+ Test statistic denoted $\\chi^2$\n",
    "  + This quantifies how far away the observed results are from the expected values ***if independence is true***.\n",
    "+ A **proportional stacked bar plot** is a good way to visualize the data in the context of this type of analysis.\n",
    "+ If $H_0$ is true, we would expect that the length of the age bars are about the same.\n",
    "  + For this example, the bars look slightly different, but pretty similar in length.\n",
    "  + A $\\chi^2$ independence test is useful here to work this out.\n",
    "  + DoF = (number of response categories - 1) x (number of explanatory categories - 1) = (2 - 1) x (5 - 1) = 4\n",
    "    + This is why we see 4.0 in `dof` column of the test results below.\n",
    "    + The p value (`pval` in the results below 0.23) is > $(\\alpha = 0.1)$, so we conclude that age categories are ***independent*** of job satisfaction.\n",
    "  + We don't usually need to worry about direction or tails with this type of test because the $\\chi^2$ statistic is, well, **squared** so it is non-negative which means that these tests are always inherently ***right-tail*** tests.\n",
    "  + However, Left-tailed chi-square tests are used in statistical forensics to detect if a fit is suspiciously good because the data was fabricated. Chi-square tests of variance can be two-tailed. These are ***niche*** uses, though."
   ]
  },
  {
   "cell_type": "code",
   "execution_count": 50,
   "id": "d35d0948-1845-43ea-b185-0c60ad876efe",
   "metadata": {},
   "outputs": [
    {
     "name": "stdout",
     "output_type": "stream",
     "text": [
      "job_sat                age_cat    \n",
      "Very dissatisfied      Under 30       0.509434\n",
      "                       At least 30    0.490566\n",
      "Slightly dissatisfied  Under 30       0.532164\n",
      "                       At least 30    0.467836\n",
      "Neither                Under 30       0.567164\n",
      "                       At least 30    0.432836\n",
      "Slightly satisfied     Under 30       0.564706\n",
      "                       At least 30    0.435294\n",
      "Very satisfied         Under 30       0.511945\n",
      "                       At least 30    0.488055\n",
      "Name: proportion, dtype: float64 \n",
      "\n",
      "age_cat                At least 30  Under 30\n",
      "job_sat                                     \n",
      "Very dissatisfied         0.490566  0.509434\n",
      "Slightly dissatisfied     0.467836  0.532164\n",
      "Neither                   0.432836  0.567164\n",
      "Slightly satisfied        0.435294  0.564706\n",
      "Very satisfied            0.488055  0.511945 \n",
      "\n"
     ]
    },
    {
     "data": {
      "image/png": "[encoded data removed]",
      "text/plain": [
       "<Figure size 640x480 with 1 Axes>"
      ]
     },
     "metadata": {},
     "output_type": "display_data"
    }
   ],
   "source": [
    "alpha = 0.1\n",
    "# get the proportions in each (job_sat, age_cat) grouping\n",
    "props = stack_overflow.groupby('job_sat', observed=False)['age_cat'].value_counts(normalize=True)\n",
    "print(props, \"\\n\")\n",
    "wide_props = props.unstack()\n",
    "print(wide_props, \"\\n\")\n",
    "ax = wide_props.plot(kind=\"bar\", stacked=True)\n",
    "plt.legend(loc='upper right')\n",
    "plt.show()"
   ]
  },
  {
   "cell_type": "code",
   "execution_count": 51,
   "id": "a928fcfd-31fc-4709-b87a-df8e49d2d0f2",
   "metadata": {},
   "outputs": [
    {
     "name": "stdout",
     "output_type": "stream",
     "text": [
      "                 test    lambda      chi2  dof      pval    cramer     power\n",
      "0             pearson  1.000000  5.552373  4.0  0.235164  0.049555  0.437417\n",
      "1        cressie-read  0.666667  5.554106  4.0  0.235014  0.049563  0.437545\n",
      "2      log-likelihood  0.000000  5.558529  4.0  0.234632  0.049583  0.437871\n",
      "3       freeman-tukey -0.500000  5.562688  4.0  0.234274  0.049601  0.438178\n",
      "4  mod-log-likelihood -1.000000  5.567570  4.0  0.233854  0.049623  0.438538\n",
      "5              neyman -2.000000  5.579519  4.0  0.232828  0.049676  0.439419\n"
     ]
    }
   ],
   "source": [
    "# run chi-squared on the age_cat vs. job_sat\n",
    "expected, observed, stats = pingouin.chi2_independence(data=stack_overflow, x=\"job_sat\", y=\"age_cat\") \n",
    "print(stats)"
   ]
  },
  {
   "cell_type": "markdown",
   "id": "0a337784-2348-46ed-a9d3-6f9e3918e94c",
   "metadata": {},
   "source": [
    "### What if we swap the variables?\n",
    "\n",
    "It may make more sense the think about `job_sat` as the response and `age_cat` as the expanatory variable. How does the analysis look if we view things from this perspective?\n",
    "\n",
    "Looks like these bars of similar height as well, but we'll use a $\\chi^2$ independence test to explore this more closely.\n",
    "\n",
    "What we really are asking is: ***Are variables X and Y independent?*** and **NOT** *Is X independent from Y or vice versa?*"
   ]
  },
  {
   "cell_type": "code",
   "execution_count": 52,
   "id": "8ff49909-0b42-4b80-be6e-571e61346915",
   "metadata": {},
   "outputs": [
    {
     "data": {
      "image/png": "[encoded data removed]",
      "text/plain": [
       "<Figure size 640x480 with 1 Axes>"
      ]
     },
     "metadata": {},
     "output_type": "display_data"
    }
   ],
   "source": [
    "props = stack_overflow.groupby(\"age_cat\", observed=False)[\"job_sat\"].value_counts(normalize=True)\n",
    "wide_props = props.unstack()\n",
    "ax = wide_props.plot(kind=\"bar\", stacked=True)\n",
    "plt.show()"
   ]
  },
  {
   "cell_type": "code",
   "execution_count": 53,
   "id": "4ca4d4b6-04e6-437b-9679-2baee8ad7ba6",
   "metadata": {},
   "outputs": [
    {
     "name": "stdout",
     "output_type": "stream",
     "text": [
      "      test  lambda      chi2  dof      pval    cramer     power\n",
      "0  pearson     1.0  5.552373  4.0  0.235164  0.049555  0.437417\n"
     ]
    }
   ],
   "source": [
    "# run chi-squared with age_cat as explanatory and job_sat as response\n",
    "expected, observed, stats = pingouin.chi2_independence(data=stack_overflow, x=\"age_cat\", y=\"job_sat\") \n",
    "print(stats[stats['test'] == 'pearson'])  # results are the same (which is what we should expect)"
   ]
  },
  {
   "cell_type": "markdown",
   "id": "a17e0329-6c3f-4267-bcb6-71b2515a5dfe",
   "metadata": {},
   "source": [
    "## Trade deals example\n",
    "\n",
    "Trade deals often use a form of business shorthand in order to specify the exact details of their contract. These are International Chamber of Commerce (ICC) international commercial terms, or incoterms for short.\n",
    "\n",
    "The `late_shipments` dataset includes a `vendor_inco_term` that describes the incoterms that applied to a given shipment. The choices (levels) are:\n",
    "\n",
    "+ EXW: \"Ex works\". The buyer pays for transportation of the goods.\n",
    "+ CIP: \"Carriage and insurance paid to\". The seller pays for freight and insurance until the goods board a ship.\n",
    "+ DDP: \"Delivered duty paid\". The seller pays for transportation of the goods until they reach a destination port.\n",
    "+ FCA: \"Free carrier\". The seller pays for transportation of the goods.\n",
    "\n",
    "We hypothesize that incoterms affect the freight costs. To evaluate this claim, we test the following hypotheses with a significance level of 0.01.\n",
    "\n",
    "$H_0$: `vendor_inco_term` and `freight_cost_group` are independent.  \n",
    "$H_A$: `vendor_inco_term` and `freight_cost_group` are associated."
   ]
  },
  {
   "cell_type": "code",
   "execution_count": 54,
   "id": "2dece042-ba05-47de-b989-e6bfaf1db83b",
   "metadata": {},
   "outputs": [
    {
     "name": "stdout",
     "output_type": "stream",
     "text": [
      "(999, 28)\n"
     ]
    },
    {
     "data": {
      "text/plain": [
       "Index(['id', 'country', 'managed_by', 'fulfill_via', 'vendor_inco_term',\n",
       "       'shipment_mode', 'late_delivery', 'late', 'product_group',\n",
       "       'sub_classification', 'vendor', 'item_description',\n",
       "       'molecule_test_type', 'brand', 'dosage', 'dosage_form',\n",
       "       'unit_of_measure_per_pack', 'line_item_quantity', 'line_item_value',\n",
       "       'pack_price', 'unit_price', 'manufacturing_site',\n",
       "       'first_line_designation', 'weight_kilograms', 'freight_cost_usd',\n",
       "       'freight_cost_groups', 'line_item_insurance_usd', 'late_binary'],\n",
       "      dtype='object')"
      ]
     },
     "execution_count": 54,
     "metadata": {},
     "output_type": "execute_result"
    }
   ],
   "source": [
    "print(late_shipments.shape)\n",
    "late_shipments.columns"
   ]
  },
  {
   "cell_type": "code",
   "execution_count": 55,
   "id": "954b4fe4-798c-4459-ac33-650d5800e773",
   "metadata": {},
   "outputs": [
    {
     "name": "stdout",
     "output_type": "stream",
     "text": [
      "vendor_inco_term  freight_cost_groups\n",
      "CIP               reasonable             0.680000\n",
      "                  expensive              0.320000\n",
      "DDP               expensive              0.550000\n",
      "                  reasonable             0.450000\n",
      "EXW               expensive              0.583448\n",
      "                  reasonable             0.416552\n",
      "FCA               reasonable             0.663636\n",
      "                  expensive              0.336364\n",
      "Name: proportion, dtype: float64 \n",
      "\n",
      "freight_cost_groups  expensive  reasonable\n",
      "vendor_inco_term                          \n",
      "CIP                   0.320000    0.680000\n",
      "DDP                   0.550000    0.450000\n",
      "EXW                   0.583448    0.416552\n",
      "FCA                   0.336364    0.663636\n"
     ]
    },
    {
     "data": {
      "image/png": "[encoded data removed]",
      "text/plain": [
       "<Figure size 640x480 with 1 Axes>"
      ]
     },
     "metadata": {},
     "output_type": "display_data"
    }
   ],
   "source": [
    "# Proportion of freight_cost_groups grouped by vendor_inco_term\n",
    "props = late_shipments.groupby(\"vendor_inco_term\")[\"freight_cost_groups\"].value_counts(normalize=True)\n",
    "\n",
    "# Print props\n",
    "print(props, \"\\n\")\n",
    "\n",
    "# Convert props to wide format\n",
    "wide_props = props.unstack()\n",
    "\n",
    "# Print wide_props\n",
    "print(wide_props)\n",
    "\n",
    "# Proportional stacked bar plot of freight_cost_group vs. vendor_inco_term\n",
    "wide_props.plot(kind=\"bar\", stacked=True)\n",
    "plt.legend(loc='upper right')\n",
    "plt.show()"
   ]
  },
  {
   "cell_type": "code",
   "execution_count": 56,
   "id": "856de56e-07d5-430b-b16a-3bcf2d9a7c0b",
   "metadata": {},
   "outputs": [
    {
     "name": "stdout",
     "output_type": "stream",
     "text": [
      "<class 'pandas.core.frame.DataFrame'>\n",
      "      test  lambda     chi2  dof          pval    cramer     power\n",
      "0  pearson     1.0  33.6426  3.0  2.357026e-07  0.183511  0.999424\n",
      "Reject H0 that vendor_inco_term and freight_cost_group are independent since 2.3570258196712344e-07 < 0.01\n"
     ]
    }
   ],
   "source": [
    "# Determine if freight_cost_group and vendor_inco_term are independent\n",
    "expected, observed, stats = pingouin.chi2_independence(data=late_shipments, x=\"freight_cost_groups\", y=\"vendor_inco_term\")\n",
    "\n",
    "# Print results\n",
    "result = stats[stats['test'] == 'pearson']\n",
    "print(type(result))\n",
    "print(result)\n",
    "p_value = result[\"pval\"][0]\n",
    "# print(p_value)\n",
    "print(f\"Reject H0 that vendor_inco_term and freight_cost_group are independent since {p_value} < 0.01\")"
   ]
  },
  {
   "cell_type": "markdown",
   "id": "0c713069-e0fd-4ba2-8836-0ac6f4f94a3b",
   "metadata": {},
   "source": [
    "## Chi-square goodness of fit tests\n",
    "\n",
    "### StackOverflow data: How do you feel when you discover that you've already visited the top resource?\n",
    "\n",
    "$H_0$ : The sample matches the hypothesized distribution  \n",
    "$H_A$ : The sample **does NOT** match the hypothesized distribution  \n",
    "Set significance level to $\\alpha = 0.01$\n",
    "\n",
    "$\\chi^2$ measures how far observed results are from expectations in each group"
   ]
  },
  {
   "cell_type": "code",
   "execution_count": 57,
   "id": "ed91556c-9e62-4a72-813b-7c520694ea1b",
   "metadata": {},
   "outputs": [
    {
     "name": "stdout",
     "output_type": "stream",
     "text": [
      "purple_link\n",
      "Hello, old friend    1225\n",
      "Indifferent           405\n",
      "Amused                368\n",
      "Annoyed               263\n",
      "Name: count, dtype: int64 \n",
      "\n",
      "         purple_link     n\n",
      "0  Hello, old friend  1225\n",
      "1        Indifferent   405\n",
      "2             Amused   368\n",
      "3            Annoyed   263\n"
     ]
    }
   ],
   "source": [
    "purple_link_counts = stack_overflow['purple_link'].value_counts()\n",
    "print(purple_link_counts, \"\\n\")  # print the Series\n",
    "# purple_link_counts = purple_link_counts.rename_axis('purple_link')\\  # index already set to this, so DRY\n",
    "purple_link_counts = purple_link_counts.reset_index(name='n')  # turn the index into a column (drop=False by default)\n",
    "\n",
    "print(purple_link_counts)"
   ]
  },
  {
   "cell_type": "code",
   "execution_count": 58,
   "id": "78e0051d-537c-41e3-aad9-8afdea169da4",
   "metadata": {},
   "outputs": [
    {
     "name": "stdout",
     "output_type": "stream",
     "text": [
      "         purple_link      prop\n",
      "0  Hello, old friend  0.500000\n",
      "1        Indifferent  0.166667\n",
      "2             Amused  0.166667\n",
      "3            Annoyed  0.166667\n"
     ]
    }
   ],
   "source": [
    "# declare the hypothesized distribution\n",
    "hypothesized = pd.DataFrame({ \n",
    "    'purple_link': ['Hello, old friend', 'Indifferent', 'Amused', 'Annoyed'],  \n",
    "    'prop': [1/2, 1/6, 1/6, 1/6]})\n",
    "\n",
    "print(hypothesized)"
   ]
  },
  {
   "cell_type": "code",
   "execution_count": 59,
   "id": "90f8acda-603e-48e4-a3f0-d9ac30485c64",
   "metadata": {},
   "outputs": [
    {
     "data": {
      "text/html": [
       "<div>\n",
       "<style scoped>\n",
       "    .dataframe tbody tr th:only-of-type {\n",
       "        vertical-align: middle;\n",
       "    }\n",
       "\n",
       "    .dataframe tbody tr th {\n",
       "        vertical-align: top;\n",
       "    }\n",
       "\n",
       "    .dataframe thead th {\n",
       "        text-align: right;\n",
       "    }\n",
       "</style>\n",
       "<table border=\"1\" class=\"dataframe\">\n",
       "  <thead>\n",
       "    <tr style=\"text-align: right;\">\n",
       "      <th></th>\n",
       "      <th>purple_link</th>\n",
       "      <th>prop</th>\n",
       "      <th>n</th>\n",
       "    </tr>\n",
       "  </thead>\n",
       "  <tbody>\n",
       "    <tr>\n",
       "      <th>0</th>\n",
       "      <td>Hello, old friend</td>\n",
       "      <td>0.500000</td>\n",
       "      <td>1130.500000</td>\n",
       "    </tr>\n",
       "    <tr>\n",
       "      <th>1</th>\n",
       "      <td>Indifferent</td>\n",
       "      <td>0.166667</td>\n",
       "      <td>376.833333</td>\n",
       "    </tr>\n",
       "    <tr>\n",
       "      <th>2</th>\n",
       "      <td>Amused</td>\n",
       "      <td>0.166667</td>\n",
       "      <td>376.833333</td>\n",
       "    </tr>\n",
       "    <tr>\n",
       "      <th>3</th>\n",
       "      <td>Annoyed</td>\n",
       "      <td>0.166667</td>\n",
       "      <td>376.833333</td>\n",
       "    </tr>\n",
       "  </tbody>\n",
       "</table>\n",
       "</div>"
      ],
      "text/plain": [
       "         purple_link      prop            n\n",
       "0  Hello, old friend  0.500000  1130.500000\n",
       "1        Indifferent  0.166667   376.833333\n",
       "2             Amused  0.166667   376.833333\n",
       "3            Annoyed  0.166667   376.833333"
      ]
     },
     "execution_count": 59,
     "metadata": {},
     "output_type": "execute_result"
    }
   ],
   "source": [
    "alpha = 0.01\n",
    "# hypothesized counts by level\n",
    "n_total = stack_overflow.shape[0]\n",
    "hypothesized[\"n\"] = hypothesized[\"prop\"] * n_total\n",
    "hypothesized"
   ]
  },
  {
   "cell_type": "code",
   "execution_count": 60,
   "id": "99b864b0-3679-41c5-b5c5-2440be0f02d5",
   "metadata": {},
   "outputs": [
    {
     "data": {
      "image/png": "[encoded data removed]",
      "text/plain": [
       "<Figure size 640x480 with 1 Axes>"
      ]
     },
     "metadata": {},
     "output_type": "display_data"
    }
   ],
   "source": [
    "# compare the actual vs hypothesized counts\n",
    "plt.bar(purple_link_counts['purple_link'], purple_link_counts['n'], color='red', label='observed')\n",
    "plt.bar(hypothesized['purple_link'], hypothesized['n'], alpha=0.5, color='blue', label='hypothesized')\n",
    "plt.legend()\n",
    "plt.show()"
   ]
  },
  {
   "cell_type": "markdown",
   "id": "0c986994-10a4-46c0-94ae-b43d6081143d",
   "metadata": {},
   "source": [
    "The `Indifferent` and `Amused` levels appear to be modeled reasonably well with the hyposized distribution, but the other 2 levels (`Hello, old friend` and `Annoyed`) are not. We'll run a hypothesis test to see if the difference is statistically significant."
   ]
  },
  {
   "cell_type": "code",
   "execution_count": 61,
   "id": "24cecb9e-e4e9-4069-9703-930d2d946002",
   "metadata": {},
   "outputs": [
    {
     "name": "stdout",
     "output_type": "stream",
     "text": [
      "Power_divergenceResult(statistic=44.59840778416629, pvalue=1.1261810719413759e-09)\n",
      "Reject H0 that distribution is the same as the hypothsized distribution since 2.3570258196712344e-07 < 0.01\n"
     ]
    }
   ],
   "source": [
    "from scipy.stats import chisquare\n",
    "\n",
    "chi_sqr_stat = chisquare(f_obs=purple_link_counts['n'], f_exp=hypothesized['n'])\n",
    "print(chi_sqr_stat)\n",
    "print(f\"Reject H0 that distribution is the same as the hypothsized distribution since {p_value} < 0.01\")"
   ]
  },
  {
   "cell_type": "markdown",
   "id": "0dd6e285-0527-43c5-b361-b7c0599912df",
   "metadata": {},
   "source": [
    "## Visualizing goodness of fit\n",
    "\n",
    "Before running such a chi-square goodness of fit test, it can be helpful to visually compare the distribution in the sample to the hypothesized distribution.\n",
    "\n",
    "Recall the vendor `incoterms` in the `late_shipments` dataset. Let's hypothesize that the four values occur with these frequencies in the population of shipments.\n",
    "\n",
    "+ CIP: 0.05\n",
    "+ DDP: 0.1\n",
    "+ EXW: 0.75\n",
    "+ FCA: 0.1\n",
    "\n",
    "### Test specifics\n",
    "\n",
    "$H_0$ : The sample matches with the hypothesized distribution.\n",
    "\n",
    "$H_A$ : The sample does not match with the hypothesized distribution.\n",
    "\n",
    "To decide which hypothesis to choose, we'll set a significance level of 0.1."
   ]
  },
  {
   "cell_type": "code",
   "execution_count": 62,
   "id": "a20fcea1-98c6-4119-b0a1-7798ffaca59e",
   "metadata": {},
   "outputs": [
    {
     "data": {
      "text/html": [
       "<div>\n",
       "<style scoped>\n",
       "    .dataframe tbody tr th:only-of-type {\n",
       "        vertical-align: middle;\n",
       "    }\n",
       "\n",
       "    .dataframe tbody tr th {\n",
       "        vertical-align: top;\n",
       "    }\n",
       "\n",
       "    .dataframe thead th {\n",
       "        text-align: right;\n",
       "    }\n",
       "</style>\n",
       "<table border=\"1\" class=\"dataframe\">\n",
       "  <thead>\n",
       "    <tr style=\"text-align: right;\">\n",
       "      <th></th>\n",
       "      <th>vendor_inco_term</th>\n",
       "      <th>n</th>\n",
       "    </tr>\n",
       "  </thead>\n",
       "  <tbody>\n",
       "    <tr>\n",
       "      <th>3</th>\n",
       "      <td>CIP</td>\n",
       "      <td>56</td>\n",
       "    </tr>\n",
       "    <tr>\n",
       "      <th>2</th>\n",
       "      <td>DDP</td>\n",
       "      <td>100</td>\n",
       "    </tr>\n",
       "    <tr>\n",
       "      <th>0</th>\n",
       "      <td>EXW</td>\n",
       "      <td>732</td>\n",
       "    </tr>\n",
       "    <tr>\n",
       "      <th>1</th>\n",
       "      <td>FCA</td>\n",
       "      <td>111</td>\n",
       "    </tr>\n",
       "  </tbody>\n",
       "</table>\n",
       "</div>"
      ],
      "text/plain": [
       "  vendor_inco_term    n\n",
       "3              CIP   56\n",
       "2              DDP  100\n",
       "0              EXW  732\n",
       "1              FCA  111"
      ]
     },
     "execution_count": 62,
     "metadata": {},
     "output_type": "execute_result"
    }
   ],
   "source": [
    "incoterm_counts = late_shipments['vendor_inco_term'].value_counts()\n",
    "incoterm_counts = incoterm_counts.reset_index('vendor_inco_term')\n",
    "incoterm_counts.rename(columns={\"count\": \"n\"}, inplace=True)\n",
    "# sort by vendor_inco_term to facilitate hyp testing\n",
    "incoterm_counts.sort_values(by=['vendor_inco_term'], inplace=True)\n",
    "incoterm_counts"
   ]
  },
  {
   "cell_type": "code",
   "execution_count": 63,
   "id": "142c3e8e-a6ad-4664-8bde-dbc3e607cd9f",
   "metadata": {},
   "outputs": [
    {
     "name": "stdout",
     "output_type": "stream",
     "text": [
      "  vendor_inco_term  prop       n\n",
      "0              CIP  0.05   49.95\n",
      "1              DDP  0.10   99.90\n",
      "2              EXW  0.75  749.25\n",
      "3              FCA  0.10   99.90\n"
     ]
    }
   ],
   "source": [
    "# Find the number of rows in late_shipments\n",
    "n_total = len(late_shipments)\n",
    "\n",
    "hypothesized = pd.DataFrame({\n",
    "    \"vendor_inco_term\": [\"CIP\", \"DDP\", \"EXW\", \"FCA\"],\n",
    "    \"prop\": [0.05, 0.1, 0.75, 0.1]\n",
    "})\n",
    "\n",
    "# Create n column that is prop column * n_total\n",
    "hypothesized['n'] = n_total * hypothesized['prop']\n",
    "\n",
    "# Print the modified hypothesized DataFrame\n",
    "print(hypothesized)"
   ]
  },
  {
   "cell_type": "code",
   "execution_count": 64,
   "id": "8ea33267-fbb5-416f-be3e-2e540e020db2",
   "metadata": {},
   "outputs": [
    {
     "data": {
      "image/png": "[encoded data removed]",
      "text/plain": [
       "<Figure size 640x480 with 1 Axes>"
      ]
     },
     "metadata": {},
     "output_type": "display_data"
    }
   ],
   "source": [
    "# Find the number of rows in late_shipments\n",
    "n_total = incoterm_counts['n'].sum()\n",
    "\n",
    "# Create n column that is prop column * n_total\n",
    "hypothesized[\"n\"] = hypothesized[\"prop\"] * n_total\n",
    "\n",
    "# red bar plot of n vs. vendor_inco_term for incoterm_counts\n",
    "plt.bar(incoterm_counts['vendor_inco_term'], incoterm_counts['n'], color= 'red', label=\"Observed\")\n",
    "# blue bar plot for the hypothesized counts\n",
    "plt.bar(hypothesized['vendor_inco_term'], hypothesized['n'], color='blue', alpha=0.5, label=\"Hypothesized\")\n",
    "plt.legend()\n",
    "plt.show()"
   ]
  },
  {
   "cell_type": "code",
   "execution_count": 65,
   "id": "f17db2c8-1903-4025-b097-489393aa7536",
   "metadata": {},
   "outputs": [
    {
     "name": "stdout",
     "output_type": "stream",
     "text": [
      "  vendor_inco_term    n\n",
      "3              CIP   56\n",
      "2              DDP  100\n",
      "0              EXW  732\n",
      "1              FCA  111 \n",
      "\n",
      "  vendor_inco_term  prop       n\n",
      "0              CIP  0.05   49.95\n",
      "1              DDP  0.10   99.90\n",
      "2              EXW  0.75  749.25\n",
      "3              FCA  0.10   99.90 \n",
      "\n",
      "999 999.0\n"
     ]
    }
   ],
   "source": [
    "print(incoterm_counts, \"\\n\")\n",
    "print(hypothesized, \"\\n\")\n",
    "print(incoterm_counts['n'].sum(), hypothesized['n'].sum())"
   ]
  },
  {
   "cell_type": "code",
   "execution_count": 66,
   "id": "139dba85-def5-47f6-8808-cdbeac64c4e8",
   "metadata": {},
   "outputs": [
    {
     "name": "stdout",
     "output_type": "stream",
     "text": [
      "Power_divergenceResult(statistic=2.3633633633633613, pvalue=0.5004909543758687)\n",
      "Fail to reject H0 that distribution is the same as the hypothsized distribution since 2.3570258196712344e-07 > 0.1\n"
     ]
    }
   ],
   "source": [
    "# Perform a goodness of fit test on the incoterm counts n\n",
    "gof_test = chisquare(f_obs=incoterm_counts['n'], f_exp=hypothesized['n'])\n",
    "\n",
    "# Print gof_test results\n",
    "print(gof_test)\n",
    "print(f\"Fail to reject H0 that distribution is the same as the hypothsized distribution since {p_value} > 0.1\")"
   ]
  },
  {
   "cell_type": "markdown",
   "id": "0cb5402d-c6e4-48ab-a858-b3b737f5e9dd",
   "metadata": {},
   "source": [
    "## Assumptions in hypothesis testing\n",
    "\n",
    "### Testing sample size\n",
    "\n",
    "In order to conduct a hypothesis test and be sure that the result is fair, a sample must meet three requirements:\n",
    "\n",
    "1. it is a random sample of the population\n",
    "2. the observations are independent, and\n",
    "3. there are enough observations.\n",
    "\n",
    "Of these, only the last condition is easily testable with code.\n",
    "\n",
    "The minimum sample size depends on the type of hypothesis tests you want to perform. We'll now test some scenarios on the late_shipments dataset."
   ]
  },
  {
   "cell_type": "code",
   "execution_count": 67,
   "id": "0f83d1f5-13f4-4373-a5f7-c480a06b2b1c",
   "metadata": {},
   "outputs": [
    {
     "name": "stdout",
     "output_type": "stream",
     "text": [
      "freight_cost_groups\n",
      "expensive     531\n",
      "reasonable    454\n",
      "Name: count, dtype: int64\n",
      "True\n"
     ]
    }
   ],
   "source": [
    "# Count the freight_cost_group values\n",
    "counts = late_shipments[\"freight_cost_groups\"].value_counts()\n",
    "\n",
    "# Print the result\n",
    "print(counts)\n",
    "\n",
    "# Inspect whether the counts are big enough for 2-sample t-test\n",
    "print((counts >= 30).all())"
   ]
  },
  {
   "cell_type": "code",
   "execution_count": 68,
   "id": "bdf27e71-7cb5-4370-8676-c6365434368e",
   "metadata": {},
   "outputs": [
    {
     "name": "stdout",
     "output_type": "stream",
     "text": [
      "late\n",
      "No     938\n",
      "Yes     61\n",
      "Name: count, dtype: int64\n",
      "True\n"
     ]
    }
   ],
   "source": [
    "# Count the late values\n",
    "counts =  late_shipments[\"late\"].value_counts()\n",
    "\n",
    "# Print the result\n",
    "print(counts)\n",
    "\n",
    "# Inspect whether the counts are big enough for a 1-sample proportion test\n",
    "print((counts >= 10).all())"
   ]
  },
  {
   "cell_type": "code",
   "execution_count": 69,
   "id": "191837a4-7838-41f0-b81f-1a9a43e2bbaa",
   "metadata": {},
   "outputs": [
    {
     "name": "stdout",
     "output_type": "stream",
     "text": [
      "vendor_inco_term  freight_cost_groups\n",
      "CIP               reasonable              34\n",
      "                  expensive               16\n",
      "DDP               expensive               55\n",
      "                  reasonable              45\n",
      "EXW               expensive              423\n",
      "                  reasonable             302\n",
      "FCA               reasonable              73\n",
      "                  expensive               37\n",
      "Name: count, dtype: int64\n",
      "True\n"
     ]
    }
   ],
   "source": [
    "# Count the values of freight_cost_group grouped by vendor_inco_term\n",
    "counts = late_shipments.groupby('vendor_inco_term')['freight_cost_groups'].value_counts()\n",
    "\n",
    "# Print the result\n",
    "print(counts)\n",
    "\n",
    "# Inspect whether the counts are big enough for a chi-square independence test\n",
    "print((counts >= 5).all())"
   ]
  },
  {
   "cell_type": "code",
   "execution_count": 70,
   "id": "7f7d9bbc-863f-41f8-9c0d-ecb633af9a89",
   "metadata": {},
   "outputs": [
    {
     "name": "stdout",
     "output_type": "stream",
     "text": [
      "shipment_mode\n",
      "Air            905\n",
      "Ocean           88\n",
      "Air Charter      6\n",
      "Name: count, dtype: int64\n",
      "False\n"
     ]
    }
   ],
   "source": [
    "# Count the shipment_mode values\n",
    "counts = late_shipments['shipment_mode'].value_counts()\n",
    "\n",
    "# Print the result\n",
    "print(counts)\n",
    "\n",
    "# Inspect whether the counts are big enough for an ANOVA test\n",
    "print((counts >= 30).all())"
   ]
  },
  {
   "cell_type": "markdown",
   "id": "b24a7262-22e5-46b1-be00-ea2f720ab7a5",
   "metadata": {},
   "source": [
    "## Non-parametric tests\n",
    "\n",
    "+ Non-parametric tests are a class of tests we can use when the assumptions described above are **not** met\n",
    "+ Many non-parametric tests use **ranks** of the data\n",
    "+ Non-parametric tests are more reliable than parametric tests for small sample sizes and when data ***isn't normally distributed***\n",
    "\n",
    "###  Wilcoxon-signed rank test\n",
    "+ Developed by Frank Wilcoxon in 1945\n",
    "+ One of the first non-parametric procedures\n",
    "+ Steps 1 & 2 - compute the absolute differences"
   ]
  },
  {
   "cell_type": "code",
   "execution_count": 71,
   "id": "babab04d-63a3-45b8-88bd-bd1d1b067d2f",
   "metadata": {},
   "outputs": [
    {
     "name": "stdout",
     "output_type": "stream",
     "text": [
      "True\n"
     ]
    }
   ],
   "source": [
    "from scipy.stats import rankdata\n",
    "\n",
    "x = [1, 15, 3, 10, 6]\n",
    "x_ranks_manual = np.array([1., 5., 2., 4., 3.])  # 1 = smallest, len(x) = 5 = largest\n",
    "x_ranks_scipy = rankdata(x)\n",
    "# check our intuition\n",
    "print(np.array_equal(x_ranks_manual, x_ranks_scipy))"
   ]
  },
  {
   "cell_type": "markdown",
   "id": "68c79aae-33b9-4237-8bfe-fe5944c3a003",
   "metadata": {},
   "source": [
    "## Wilcoxon signed rank test example\n",
    "\n",
    "We'll explore the difference between the proportion of county-level votes for the Democratic candidate in 2012 and 2016 to identify if the difference is significant."
   ]
  },
  {
   "cell_type": "code",
   "execution_count": 72,
   "id": "8f133d66-c8d4-4e64-8daa-1324dfe3a32b",
   "metadata": {},
   "outputs": [
    {
     "name": "stdout",
     "output_type": "stream",
     "text": [
      "(500, 4)\n"
     ]
    },
    {
     "data": {
      "text/html": [
       "<div>\n",
       "<style scoped>\n",
       "    .dataframe tbody tr th:only-of-type {\n",
       "        vertical-align: middle;\n",
       "    }\n",
       "\n",
       "    .dataframe tbody tr th {\n",
       "        vertical-align: top;\n",
       "    }\n",
       "\n",
       "    .dataframe thead th {\n",
       "        text-align: right;\n",
       "    }\n",
       "</style>\n",
       "<table border=\"1\" class=\"dataframe\">\n",
       "  <thead>\n",
       "    <tr style=\"text-align: right;\">\n",
       "      <th></th>\n",
       "      <th>state</th>\n",
       "      <th>county</th>\n",
       "      <th>dem_percent_12</th>\n",
       "      <th>dem_percent_16</th>\n",
       "    </tr>\n",
       "  </thead>\n",
       "  <tbody>\n",
       "    <tr>\n",
       "      <th>0</th>\n",
       "      <td>Alabama</td>\n",
       "      <td>Bullock</td>\n",
       "      <td>76.306</td>\n",
       "      <td>74.947</td>\n",
       "    </tr>\n",
       "    <tr>\n",
       "      <th>1</th>\n",
       "      <td>Alabama</td>\n",
       "      <td>Chilton</td>\n",
       "      <td>19.454</td>\n",
       "      <td>15.847</td>\n",
       "    </tr>\n",
       "    <tr>\n",
       "      <th>2</th>\n",
       "      <td>Alabama</td>\n",
       "      <td>Clay</td>\n",
       "      <td>26.674</td>\n",
       "      <td>18.675</td>\n",
       "    </tr>\n",
       "    <tr>\n",
       "      <th>3</th>\n",
       "      <td>Alabama</td>\n",
       "      <td>Cullman</td>\n",
       "      <td>14.662</td>\n",
       "      <td>10.028</td>\n",
       "    </tr>\n",
       "    <tr>\n",
       "      <th>4</th>\n",
       "      <td>Alabama</td>\n",
       "      <td>Escambia</td>\n",
       "      <td>36.916</td>\n",
       "      <td>31.021</td>\n",
       "    </tr>\n",
       "  </tbody>\n",
       "</table>\n",
       "</div>"
      ],
      "text/plain": [
       "     state    county  dem_percent_12  dem_percent_16\n",
       "0  Alabama   Bullock          76.306          74.947\n",
       "1  Alabama   Chilton          19.454          15.847\n",
       "2  Alabama      Clay          26.674          18.675\n",
       "3  Alabama   Cullman          14.662          10.028\n",
       "4  Alabama  Escambia          36.916          31.021"
      ]
     },
     "execution_count": 72,
     "metadata": {},
     "output_type": "execute_result"
    }
   ],
   "source": [
    "sample_dem_data = pd.read_csv('./data/dem_votes_potus_12_16_sample.csv')\n",
    "sample_dem_data.drop(\"index\", axis='columns', inplace=True)\n",
    "print(sample_dem_data.shape)\n",
    "sample_dem_data.head()"
   ]
  },
  {
   "cell_type": "code",
   "execution_count": 73,
   "id": "9d369970-0885-4f08-969e-8ff0b9de2bd3",
   "metadata": {},
   "outputs": [
    {
     "name": "stdout",
     "output_type": "stream",
     "text": [
      "               T  dof alternative          p-val         CI95%   cohen-d  \\\n",
      "T-test  30.29852  499   two-sided  3.595436e-115  [6.39, 7.27]  0.454202   \n",
      "\n",
      "              BF10  power  \n",
      "T-test  2.249e+111    1.0  \n"
     ]
    }
   ],
   "source": [
    "# paired t-test on dem_percent_12 and dem_percent_16\n",
    "paired_test_results = pingouin.ttest(\n",
    "    x=sample_dem_data['dem_percent_12'],\n",
    "    y=sample_dem_data['dem_percent_16'],\n",
    "    paired=True,\n",
    "    alternative=\"two-sided\"\n",
    ")\n",
    "\n",
    "# paired t-test results\n",
    "print(paired_test_results)"
   ]
  },
  {
   "cell_type": "code",
   "execution_count": 74,
   "id": "f30c7096-8965-4993-8b9a-5fc6e9042a6f",
   "metadata": {},
   "outputs": [
    {
     "name": "stdout",
     "output_type": "stream",
     "text": [
      "           W-val alternative         p-val       RBC     CLES\n",
      "Wilcoxon  2399.5   two-sided  1.765017e-77  0.961685  0.64482\n"
     ]
    }
   ],
   "source": [
    "# Wilcoxon test on same columns\n",
    "wilcoxon_test_results = pingouin.wilcoxon(\n",
    "    x=sample_dem_data['dem_percent_12'],\n",
    "    y=sample_dem_data['dem_percent_16'],\n",
    "    alternative='two-sided'\n",
    ")\n",
    "\n",
    "# Wilcoxon test results\n",
    "print(wilcoxon_test_results)"
   ]
  },
  {
   "cell_type": "code",
   "execution_count": null,
   "id": "8d41de84-6a01-4b94-9e9e-2287dd4f70da",
   "metadata": {},
   "outputs": [],
   "source": []
  },
  {
   "cell_type": "code",
   "execution_count": null,
   "id": "98c21f7f-379d-48ad-be61-871fbea8f4cd",
   "metadata": {},
   "outputs": [],
   "source": []
  },
  {
   "cell_type": "code",
   "execution_count": null,
   "id": "e9e636eb-687e-4138-b441-04d09ee0700d",
   "metadata": {},
   "outputs": [],
   "source": []
  },
  {
   "cell_type": "code",
   "execution_count": null,
   "id": "1595b92b-b16c-4912-8d85-ab59376a3f2a",
   "metadata": {},
   "outputs": [],
   "source": []
  },
  {
   "cell_type": "code",
   "execution_count": null,
   "id": "f91ee246-befa-450e-af2b-6ef37b562e0b",
   "metadata": {},
   "outputs": [],
   "source": []
  },
  {
   "cell_type": "code",
   "execution_count": null,
   "id": "5e1ee214-23bc-43e0-a284-7a67100ec7c2",
   "metadata": {},
   "outputs": [],
   "source": []
  },
  {
   "cell_type": "code",
   "execution_count": null,
   "id": "b3551372-d91e-48b8-a45d-54d4b7b06b8e",
   "metadata": {},
   "outputs": [],
   "source": []
  },
  {
   "cell_type": "markdown",
   "id": "f8c563af-25d0-4302-a4b2-f209077483e5",
   "metadata": {},
   "source": [
    "## References\n",
    "\n",
    "1. Probability and Statistics for Engineering and the Sciences - Devore, 8th Edition"
   ]
  }
 ],
 "metadata": {
  "kernelspec": {
   "display_name": "Python 3 (ipykernel)",
   "language": "python",
   "name": "python3"
  },
  "language_info": {
   "codemirror_mode": {
    "name": "ipython",
    "version": 3
   },
   "file_extension": ".py",
   "mimetype": "text/x-python",
   "name": "python",
   "nbconvert_exporter": "python",
   "pygments_lexer": "ipython3",
   "version": "3.11.6"
  }
 },
 "nbformat": 4,
 "nbformat_minor": 5
}
