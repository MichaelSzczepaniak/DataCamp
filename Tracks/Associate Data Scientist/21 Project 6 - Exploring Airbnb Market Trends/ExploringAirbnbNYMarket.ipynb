{
 "cells": [
  {
   "cell_type": "markdown",
   "id": "c747d469-ee97-4b95-880f-feefd5456042",
   "metadata": {
    "id": "bA5ajAmk7XH6"
   },
   "source": [
    "![NYC Skyline](nyc.jpg)\n",
    "\n",
    "Welcome to New York City, one of the most-visited cities in the world. There are many Airbnb listings in New York City to meet the high demand for temporary lodging for travelers, which can be anywhere between a few nights to many months. In this project, we will take a closer look at the New York Airbnb market by combining data from multiple file types like `.csv`, `.tsv`, and `.xlsx`.\n",
    "\n",
    "We will work with three files containing data on 2019 Airbnb listings described as follows:\n",
    "\n",
    "**data/airbnb_price.csv**\n",
    "This is a CSV file containing data on Airbnb listing prices and locations.\n",
    "- **`listing_id`**: unique identifier of listing\n",
    "- **`price`**: nightly listing price in USD\n",
    "- **`nbhood_full`**: name of borough and neighborhood where listing is located\n",
    "\n",
    "**data/airbnb_room_type.xlsx**\n",
    "This is an Excel file containing data on Airbnb listing descriptions and room types.\n",
    "- **`listing_id`**: unique identifier of listing\n",
    "- **`description`**: listing description\n",
    "- **`room_type`**: Airbnb has three types of rooms: shared rooms, private rooms, and entire homes/apartments\n",
    "\n",
    "**data/airbnb_last_review.tsv**\n",
    "This is a TSV file containing data on Airbnb host names and review dates.\n",
    "- **`listing_id`**: unique identifier of listing\n",
    "- **`host_name`**: name of listing host\n",
    "- **`last_review`**: date when the listing was last reviewed"
   ]
  },
  {
   "cell_type": "markdown",
   "id": "a7755d9a-640b-4a3f-b485-f5e8596f2e07",
   "metadata": {},
   "source": [
    "## The Scenario\n",
    "\n",
    "As a consultant working for a real estate start-up, we have collected Airbnb listing data from various sources to investigate the short-term rental market in New York. We'll analyze this data to provide insights on private rooms to the real estate company."
   ]
  },
  {
   "cell_type": "markdown",
   "id": "a47ea4c1-8389-4beb-99ae-1f1b1bbc98ba",
   "metadata": {},
   "source": [
    "### First Research Question - *What are the dates of the earliest and most recent reviews?*"
   ]
  },
  {
   "cell_type": "code",
   "execution_count": 1,
   "id": "1fdc5784-479e-46cb-b05b-68439dcc94a7",
   "metadata": {
    "executionCancelledAt": null,
    "executionTime": 2469,
    "lastExecutedAt": 1714136608190,
    "lastExecutedByKernel": "3ef23352-7ec2-4f84-94c0-43f0da95481d",
    "lastScheduledRunId": null,
    "lastSuccessfullyExecutedCode": "# We've loaded your first package for you! You can add as many cells as you need.\nimport numpy as np\n\n# Begin coding here ..."
   },
   "outputs": [
    {
     "name": "stdout",
     "output_type": "stream",
     "text": [
      "Total number of reviews: 25209\n",
      "\n",
      "<class 'pandas.core.frame.DataFrame'>\n",
      "RangeIndex: 25209 entries, 0 to 25208\n",
      "Data columns (total 3 columns):\n",
      " #   Column       Non-Null Count  Dtype \n",
      "---  ------       --------------  ----- \n",
      " 0   listing_id   25209 non-null  int64 \n",
      " 1   host_name    25201 non-null  object\n",
      " 2   last_review  25209 non-null  object\n",
      "dtypes: int64(1), object(2)\n",
      "memory usage: 591.0+ KB\n",
      "None \n",
      "\n"
     ]
    },
    {
     "data": {
      "text/html": [
       "<div>\n",
       "<style scoped>\n",
       "    .dataframe tbody tr th:only-of-type {\n",
       "        vertical-align: middle;\n",
       "    }\n",
       "\n",
       "    .dataframe tbody tr th {\n",
       "        vertical-align: top;\n",
       "    }\n",
       "\n",
       "    .dataframe thead th {\n",
       "        text-align: right;\n",
       "    }\n",
       "</style>\n",
       "<table border=\"1\" class=\"dataframe\">\n",
       "  <thead>\n",
       "    <tr style=\"text-align: right;\">\n",
       "      <th></th>\n",
       "      <th>listing_id</th>\n",
       "      <th>host_name</th>\n",
       "      <th>last_review</th>\n",
       "    </tr>\n",
       "  </thead>\n",
       "  <tbody>\n",
       "    <tr>\n",
       "      <th>0</th>\n",
       "      <td>2595</td>\n",
       "      <td>Jennifer</td>\n",
       "      <td>May 21 2019</td>\n",
       "    </tr>\n",
       "    <tr>\n",
       "      <th>1</th>\n",
       "      <td>3831</td>\n",
       "      <td>LisaRoxanne</td>\n",
       "      <td>July 05 2019</td>\n",
       "    </tr>\n",
       "    <tr>\n",
       "      <th>2</th>\n",
       "      <td>5099</td>\n",
       "      <td>Chris</td>\n",
       "      <td>June 22 2019</td>\n",
       "    </tr>\n",
       "    <tr>\n",
       "      <th>3</th>\n",
       "      <td>5178</td>\n",
       "      <td>Shunichi</td>\n",
       "      <td>June 24 2019</td>\n",
       "    </tr>\n",
       "    <tr>\n",
       "      <th>4</th>\n",
       "      <td>5238</td>\n",
       "      <td>Ben</td>\n",
       "      <td>June 09 2019</td>\n",
       "    </tr>\n",
       "  </tbody>\n",
       "</table>\n",
       "</div>"
      ],
      "text/plain": [
       "   listing_id    host_name   last_review\n",
       "0        2595     Jennifer   May 21 2019\n",
       "1        3831  LisaRoxanne  July 05 2019\n",
       "2        5099        Chris  June 22 2019\n",
       "3        5178     Shunichi  June 24 2019\n",
       "4        5238          Ben  June 09 2019"
      ]
     },
     "execution_count": 1,
     "metadata": {},
     "output_type": "execute_result"
    }
   ],
   "source": [
    "# Import necessary packages\n",
    "import pandas as pd\n",
    "import numpy as np\n",
    "\n",
    "# consolidate the data sources for easy access\n",
    "data_sources = {\n",
    "    \"prices\": {\"file_path\": \"./data/airbnb_price.csv\",\n",
    "               \"file_type\": \"text/CSV\",\n",
    "               \"delimiter\": \",\"},\n",
    "    \"room_types\": {\"file_path\": \"./data/airbnb_room_type.xlsx\",\n",
    "                   \"file_type\": \"binary/Excel\",\n",
    "                   \"delimiter\": np.NaN},  # delimeter not applicable for binary files\n",
    "    \"reviews\": {\"file_path\": \"./data/airbnb_last_review.tsv\",\n",
    "                \"file_type\": \"text/TSV\",  # tab separated variable\n",
    "                \"delimiter\": \"\\t\"}\n",
    "}\n",
    "\n",
    "df_reviews = pd.read_csv(data_sources[\"reviews\"][\"file_path\"], sep=data_sources[\"reviews\"][\"delimiter\"])\n",
    "print(f\"Total number of reviews: {df_reviews.shape[0]}\\n\")\n",
    "print(df_reviews.info(), \"\\n\")\n",
    "df_reviews.head()"
   ]
  },
  {
   "cell_type": "markdown",
   "id": "5d5c40a9-599d-4933-b567-f69e84617ec0",
   "metadata": {},
   "source": [
    "#### First task - convert the `last_review` column to datetime\n",
    "\n",
    "+ check how dates are encoded\n",
    "+ convert to datetime so we can find earliest and most recent reviews"
   ]
  },
  {
   "cell_type": "code",
   "execution_count": 2,
   "id": "996c8f69-dff5-430b-b3d5-379ec1299f5e",
   "metadata": {},
   "outputs": [
    {
     "data": {
      "text/plain": [
       "array(['May 21 2019', 'July 05 2019', 'June 22 2019', 'June 24 2019',\n",
       "       'June 09 2019', 'June 23 2019', 'June 29 2019', 'June 28 2019',\n",
       "       'July 01 2019', 'January 01 2019'], dtype=object)"
      ]
     },
     "execution_count": 2,
     "metadata": {},
     "output_type": "execute_result"
    }
   ],
   "source": [
    "# how are dates formatted?\n",
    "all_dates = df_reviews[\"last_review\"].unique()\n",
    "all_dates[:10]"
   ]
  },
  {
   "cell_type": "markdown",
   "id": "489e92ac-1925-4dab-a72e-87ac2a0bd454",
   "metadata": {},
   "source": [
    "Dates appear to be encoded consistently. If they are not, assume that `to_datetime` will not be happy and we can dig into possible issues futher if this is the case."
   ]
  },
  {
   "cell_type": "code",
   "execution_count": 3,
   "id": "8c5bf75b-c926-48fa-a69d-505b975b3931",
   "metadata": {},
   "outputs": [
    {
     "data": {
      "text/html": [
       "<div>\n",
       "<style scoped>\n",
       "    .dataframe tbody tr th:only-of-type {\n",
       "        vertical-align: middle;\n",
       "    }\n",
       "\n",
       "    .dataframe tbody tr th {\n",
       "        vertical-align: top;\n",
       "    }\n",
       "\n",
       "    .dataframe thead th {\n",
       "        text-align: right;\n",
       "    }\n",
       "</style>\n",
       "<table border=\"1\" class=\"dataframe\">\n",
       "  <thead>\n",
       "    <tr style=\"text-align: right;\">\n",
       "      <th></th>\n",
       "      <th>listing_id</th>\n",
       "      <th>host_name</th>\n",
       "      <th>last_review</th>\n",
       "    </tr>\n",
       "  </thead>\n",
       "  <tbody>\n",
       "    <tr>\n",
       "      <th>0</th>\n",
       "      <td>2595</td>\n",
       "      <td>Jennifer</td>\n",
       "      <td>2019-05-21</td>\n",
       "    </tr>\n",
       "    <tr>\n",
       "      <th>1</th>\n",
       "      <td>3831</td>\n",
       "      <td>LisaRoxanne</td>\n",
       "      <td>2019-07-05</td>\n",
       "    </tr>\n",
       "    <tr>\n",
       "      <th>2</th>\n",
       "      <td>5099</td>\n",
       "      <td>Chris</td>\n",
       "      <td>2019-06-22</td>\n",
       "    </tr>\n",
       "    <tr>\n",
       "      <th>3</th>\n",
       "      <td>5178</td>\n",
       "      <td>Shunichi</td>\n",
       "      <td>2019-06-24</td>\n",
       "    </tr>\n",
       "    <tr>\n",
       "      <th>4</th>\n",
       "      <td>5238</td>\n",
       "      <td>Ben</td>\n",
       "      <td>2019-06-09</td>\n",
       "    </tr>\n",
       "  </tbody>\n",
       "</table>\n",
       "</div>"
      ],
      "text/plain": [
       "   listing_id    host_name last_review\n",
       "0        2595     Jennifer  2019-05-21\n",
       "1        3831  LisaRoxanne  2019-07-05\n",
       "2        5099        Chris  2019-06-22\n",
       "3        5178     Shunichi  2019-06-24\n",
       "4        5238          Ben  2019-06-09"
      ]
     },
     "execution_count": 3,
     "metadata": {},
     "output_type": "execute_result"
    }
   ],
   "source": [
    "# should be able to parse to datetime without issues\n",
    "df_reviews[\"last_review\"] = pd.to_datetime(df_reviews[\"last_review\"])\n",
    "df_reviews.head()"
   ]
  },
  {
   "cell_type": "code",
   "execution_count": 4,
   "id": "4b3a6abb-733d-45f4-b793-c7909a7d6949",
   "metadata": {},
   "outputs": [
    {
     "name": "stdout",
     "output_type": "stream",
     "text": [
      "earliest_review: 2019-01-01 00:00:00, most recent review: 2019-07-09 00:00:00\n"
     ]
    }
   ],
   "source": [
    "earliest_review = df_reviews[\"last_review\"].min()\n",
    "most_recent_review = df_reviews[\"last_review\"].max()\n",
    "print(f\"earliest_review: {earliest_review}, most recent review: {most_recent_review}\")"
   ]
  },
  {
   "cell_type": "markdown",
   "id": "a51e2981-3942-4022-ab64-9f5efc494797",
   "metadata": {},
   "source": [
    "### Second Research Question - *How many of the listings are private rooms?*\n",
    "\n",
    "+ Required data resides in the file `data/airbnb_room_type.xlsx`\n",
    "+ This spreadsheet has a single sheet: `airbnb_room_type`"
   ]
  },
  {
   "cell_type": "code",
   "execution_count": 5,
   "id": "b939f3b3-6cd1-430a-9988-eb0fb76250e5",
   "metadata": {},
   "outputs": [
    {
     "name": "stdout",
     "output_type": "stream",
     "text": [
      "['airbnb_room_type'] \n",
      "\n",
      "(25209, 3) \n",
      "\n"
     ]
    },
    {
     "data": {
      "text/html": [
       "<div>\n",
       "<style scoped>\n",
       "    .dataframe tbody tr th:only-of-type {\n",
       "        vertical-align: middle;\n",
       "    }\n",
       "\n",
       "    .dataframe tbody tr th {\n",
       "        vertical-align: top;\n",
       "    }\n",
       "\n",
       "    .dataframe thead th {\n",
       "        text-align: right;\n",
       "    }\n",
       "</style>\n",
       "<table border=\"1\" class=\"dataframe\">\n",
       "  <thead>\n",
       "    <tr style=\"text-align: right;\">\n",
       "      <th></th>\n",
       "      <th>listing_id</th>\n",
       "      <th>description</th>\n",
       "      <th>room_type</th>\n",
       "    </tr>\n",
       "  </thead>\n",
       "  <tbody>\n",
       "    <tr>\n",
       "      <th>0</th>\n",
       "      <td>2595</td>\n",
       "      <td>Skylit Midtown Castle</td>\n",
       "      <td>Entire home/apt</td>\n",
       "    </tr>\n",
       "    <tr>\n",
       "      <th>1</th>\n",
       "      <td>3831</td>\n",
       "      <td>Cozy Entire Floor of Brownstone</td>\n",
       "      <td>Entire home/apt</td>\n",
       "    </tr>\n",
       "    <tr>\n",
       "      <th>2</th>\n",
       "      <td>5099</td>\n",
       "      <td>Large Cozy 1 BR Apartment In Midtown East</td>\n",
       "      <td>Entire home/apt</td>\n",
       "    </tr>\n",
       "    <tr>\n",
       "      <th>3</th>\n",
       "      <td>5178</td>\n",
       "      <td>Large Furnished Room Near B'way</td>\n",
       "      <td>private room</td>\n",
       "    </tr>\n",
       "    <tr>\n",
       "      <th>4</th>\n",
       "      <td>5238</td>\n",
       "      <td>Cute &amp; Cozy Lower East Side 1 bdrm</td>\n",
       "      <td>Entire home/apt</td>\n",
       "    </tr>\n",
       "  </tbody>\n",
       "</table>\n",
       "</div>"
      ],
      "text/plain": [
       "   listing_id                                description        room_type\n",
       "0        2595                      Skylit Midtown Castle  Entire home/apt\n",
       "1        3831            Cozy Entire Floor of Brownstone  Entire home/apt\n",
       "2        5099  Large Cozy 1 BR Apartment In Midtown East  Entire home/apt\n",
       "3        5178            Large Furnished Room Near B'way     private room\n",
       "4        5238         Cute & Cozy Lower East Side 1 bdrm  Entire home/apt"
      ]
     },
     "execution_count": 5,
     "metadata": {},
     "output_type": "execute_result"
    }
   ],
   "source": [
    "excel_data = pd.ExcelFile(data_sources[\"room_types\"][\"file_path\"])\n",
    "print(excel_data.sheet_names, \"\\n\")  # single sheet: 'airbnb_room_type'\n",
    "df_room_types = excel_data.parse('airbnb_room_type')  # could've use 0 (sheet index), but this is clearer\n",
    "print(df_room_types.shape, \"\\n\")\n",
    "df_room_types.head()"
   ]
  },
  {
   "cell_type": "code",
   "execution_count": 6,
   "id": "6da3dfdc-e2b8-4f98-b1ec-a7b89d6fa27d",
   "metadata": {},
   "outputs": [
    {
     "name": "stdout",
     "output_type": "stream",
     "text": [
      "['Entire home/apt' 'private room' 'Private room' 'entire home/apt'\n",
      " 'PRIVATE ROOM' 'shared room' 'ENTIRE HOME/APT' 'Shared room'\n",
      " 'SHARED ROOM']\n"
     ]
    }
   ],
   "source": [
    "# check the number of room types\n",
    "print(df_room_types[\"room_type\"].unique())"
   ]
  },
  {
   "cell_type": "markdown",
   "id": "1363e84a-f948-4f8f-ba38-a0539356d7df",
   "metadata": {},
   "source": [
    "Looks like we 3 different versions of *private room* as well as the other 2 types (*entire home/apt* and *shared room*). We can handle all three by simply converting everything lower case."
   ]
  },
  {
   "cell_type": "code",
   "execution_count": 7,
   "id": "6341bafb-65a0-4da4-8d68-d8a9359cfbf1",
   "metadata": {},
   "outputs": [
    {
     "name": "stdout",
     "output_type": "stream",
     "text": [
      "['entire home/apt' 'private room' 'shared room']\n"
     ]
    }
   ],
   "source": [
    "df_room_types[\"room_type\"] = df_room_types[\"room_type\"].str.lower()\n",
    "# check\n",
    "print(df_room_types[\"room_type\"].unique())"
   ]
  },
  {
   "cell_type": "code",
   "execution_count": 8,
   "id": "f18da4c6-9010-4b7d-8e56-0924f1c4da0f",
   "metadata": {},
   "outputs": [
    {
     "name": "stdout",
     "output_type": "stream",
     "text": [
      "room_type\n",
      "entire home/apt    13266\n",
      "private room       11356\n",
      "shared room          587\n",
      "Name: count, dtype: int64\n"
     ]
    }
   ],
   "source": [
    "room_type_counts = df_room_types[\"room_type\"].value_counts()\n",
    "print(room_type_counts)"
   ]
  },
  {
   "cell_type": "code",
   "execution_count": 9,
   "id": "190e0264-305b-40ed-bfe1-f4183287f046",
   "metadata": {},
   "outputs": [
    {
     "name": "stdout",
     "output_type": "stream",
     "text": [
      "There are 11356 private room listings\n"
     ]
    }
   ],
   "source": [
    "private_room_count = room_type_counts['private room']\n",
    "print(f\"There are {private_room_count} private room listings\")"
   ]
  },
  {
   "cell_type": "markdown",
   "id": "2d497a51-8ddf-4661-a7fc-13fe4f5a2b82",
   "metadata": {},
   "source": [
    "### Third Research Question - *What is the average listing price?*\n",
    "\n",
    "+ Required data resides in the file `data/airbnb_price.csv`\n",
    "+ `price` column originally comes in as string (object, as shown below)\n",
    "  + Values are formatted as `ddd dollars` where `ddd` is the amount, so this needs to be stripped out"
   ]
  },
  {
   "cell_type": "code",
   "execution_count": 10,
   "id": "61df12be-aad0-4656-b995-03e6d6e20193",
   "metadata": {},
   "outputs": [
    {
     "name": "stdout",
     "output_type": "stream",
     "text": [
      "<class 'pandas.core.frame.DataFrame'>\n",
      "RangeIndex: 25209 entries, 0 to 25208\n",
      "Data columns (total 3 columns):\n",
      " #   Column       Non-Null Count  Dtype \n",
      "---  ------       --------------  ----- \n",
      " 0   listing_id   25209 non-null  int64 \n",
      " 1   price        25209 non-null  object\n",
      " 2   nbhood_full  25209 non-null  object\n",
      "dtypes: int64(1), object(2)\n",
      "memory usage: 591.0+ KB\n",
      "None \n",
      "\n"
     ]
    },
    {
     "data": {
      "text/html": [
       "<div>\n",
       "<style scoped>\n",
       "    .dataframe tbody tr th:only-of-type {\n",
       "        vertical-align: middle;\n",
       "    }\n",
       "\n",
       "    .dataframe tbody tr th {\n",
       "        vertical-align: top;\n",
       "    }\n",
       "\n",
       "    .dataframe thead th {\n",
       "        text-align: right;\n",
       "    }\n",
       "</style>\n",
       "<table border=\"1\" class=\"dataframe\">\n",
       "  <thead>\n",
       "    <tr style=\"text-align: right;\">\n",
       "      <th></th>\n",
       "      <th>listing_id</th>\n",
       "      <th>price</th>\n",
       "      <th>nbhood_full</th>\n",
       "    </tr>\n",
       "  </thead>\n",
       "  <tbody>\n",
       "    <tr>\n",
       "      <th>0</th>\n",
       "      <td>2595</td>\n",
       "      <td>225 dollars</td>\n",
       "      <td>Manhattan, Midtown</td>\n",
       "    </tr>\n",
       "    <tr>\n",
       "      <th>1</th>\n",
       "      <td>3831</td>\n",
       "      <td>89 dollars</td>\n",
       "      <td>Brooklyn, Clinton Hill</td>\n",
       "    </tr>\n",
       "    <tr>\n",
       "      <th>2</th>\n",
       "      <td>5099</td>\n",
       "      <td>200 dollars</td>\n",
       "      <td>Manhattan, Murray Hill</td>\n",
       "    </tr>\n",
       "    <tr>\n",
       "      <th>3</th>\n",
       "      <td>5178</td>\n",
       "      <td>79 dollars</td>\n",
       "      <td>Manhattan, Hell's Kitchen</td>\n",
       "    </tr>\n",
       "    <tr>\n",
       "      <th>4</th>\n",
       "      <td>5238</td>\n",
       "      <td>150 dollars</td>\n",
       "      <td>Manhattan, Chinatown</td>\n",
       "    </tr>\n",
       "  </tbody>\n",
       "</table>\n",
       "</div>"
      ],
      "text/plain": [
       "   listing_id        price                nbhood_full\n",
       "0        2595  225 dollars         Manhattan, Midtown\n",
       "1        3831   89 dollars     Brooklyn, Clinton Hill\n",
       "2        5099  200 dollars     Manhattan, Murray Hill\n",
       "3        5178   79 dollars  Manhattan, Hell's Kitchen\n",
       "4        5238  150 dollars       Manhattan, Chinatown"
      ]
     },
     "execution_count": 10,
     "metadata": {},
     "output_type": "execute_result"
    }
   ],
   "source": [
    "df_prices = df_reviews = pd.read_csv(data_sources[\"prices\"][\"file_path\"], sep=data_sources[\"prices\"][\"delimiter\"])\n",
    "print(df_prices.info(), \"\\n\")\n",
    "df_prices.head()"
   ]
  },
  {
   "cell_type": "code",
   "execution_count": 11,
   "id": "984d49f9-2b54-4208-8735-8969cb6e5a8e",
   "metadata": {},
   "outputs": [
    {
     "data": {
      "text/html": [
       "<div>\n",
       "<style scoped>\n",
       "    .dataframe tbody tr th:only-of-type {\n",
       "        vertical-align: middle;\n",
       "    }\n",
       "\n",
       "    .dataframe tbody tr th {\n",
       "        vertical-align: top;\n",
       "    }\n",
       "\n",
       "    .dataframe thead th {\n",
       "        text-align: right;\n",
       "    }\n",
       "</style>\n",
       "<table border=\"1\" class=\"dataframe\">\n",
       "  <thead>\n",
       "    <tr style=\"text-align: right;\">\n",
       "      <th></th>\n",
       "      <th>listing_id</th>\n",
       "      <th>price</th>\n",
       "      <th>nbhood_full</th>\n",
       "    </tr>\n",
       "  </thead>\n",
       "  <tbody>\n",
       "    <tr>\n",
       "      <th>0</th>\n",
       "      <td>2595</td>\n",
       "      <td>225.0</td>\n",
       "      <td>Manhattan, Midtown</td>\n",
       "    </tr>\n",
       "    <tr>\n",
       "      <th>1</th>\n",
       "      <td>3831</td>\n",
       "      <td>89.0</td>\n",
       "      <td>Brooklyn, Clinton Hill</td>\n",
       "    </tr>\n",
       "    <tr>\n",
       "      <th>2</th>\n",
       "      <td>5099</td>\n",
       "      <td>200.0</td>\n",
       "      <td>Manhattan, Murray Hill</td>\n",
       "    </tr>\n",
       "    <tr>\n",
       "      <th>3</th>\n",
       "      <td>5178</td>\n",
       "      <td>79.0</td>\n",
       "      <td>Manhattan, Hell's Kitchen</td>\n",
       "    </tr>\n",
       "    <tr>\n",
       "      <th>4</th>\n",
       "      <td>5238</td>\n",
       "      <td>150.0</td>\n",
       "      <td>Manhattan, Chinatown</td>\n",
       "    </tr>\n",
       "  </tbody>\n",
       "</table>\n",
       "</div>"
      ],
      "text/plain": [
       "   listing_id  price                nbhood_full\n",
       "0        2595  225.0         Manhattan, Midtown\n",
       "1        3831   89.0     Brooklyn, Clinton Hill\n",
       "2        5099  200.0     Manhattan, Murray Hill\n",
       "3        5178   79.0  Manhattan, Hell's Kitchen\n",
       "4        5238  150.0       Manhattan, Chinatown"
      ]
     },
     "execution_count": 11,
     "metadata": {},
     "output_type": "execute_result"
    }
   ],
   "source": [
    "# strip out the dollars text in the price column and convert to float\n",
    "df_prices['price'] = df_prices['price'].str.strip(\" dollars\")\n",
    "df_prices['price'] = df_prices['price'].astype(float)\n",
    "df_prices.head()"
   ]
  },
  {
   "cell_type": "code",
   "execution_count": 12,
   "id": "007f3fdd-8e88-4523-9106-0875a275a1e6",
   "metadata": {},
   "outputs": [
    {
     "name": "stdout",
     "output_type": "stream",
     "text": [
      "The average listing price is: $141.78\n"
     ]
    }
   ],
   "source": [
    "average_listing_price = round(df_prices['price'].mean(), 2)\n",
    "print(f\"The average listing price is: ${average_listing_price}\")"
   ]
  },
  {
   "cell_type": "code",
   "execution_count": 13,
   "id": "1597c1be-5dcc-4851-a928-1eaac0938af3",
   "metadata": {},
   "outputs": [
    {
     "data": {
      "text/html": [
       "<div>\n",
       "<style scoped>\n",
       "    .dataframe tbody tr th:only-of-type {\n",
       "        vertical-align: middle;\n",
       "    }\n",
       "\n",
       "    .dataframe tbody tr th {\n",
       "        vertical-align: top;\n",
       "    }\n",
       "\n",
       "    .dataframe thead th {\n",
       "        text-align: right;\n",
       "    }\n",
       "</style>\n",
       "<table border=\"1\" class=\"dataframe\">\n",
       "  <thead>\n",
       "    <tr style=\"text-align: right;\">\n",
       "      <th></th>\n",
       "      <th>first_reviewed</th>\n",
       "      <th>last_reviewed</th>\n",
       "      <th>nb_private_rooms</th>\n",
       "      <th>avg_price</th>\n",
       "    </tr>\n",
       "  </thead>\n",
       "  <tbody>\n",
       "    <tr>\n",
       "      <th>0</th>\n",
       "      <td>2019-01-01</td>\n",
       "      <td>2019-07-09</td>\n",
       "      <td>11356</td>\n",
       "      <td>141.78</td>\n",
       "    </tr>\n",
       "  </tbody>\n",
       "</table>\n",
       "</div>"
      ],
      "text/plain": [
       "  first_reviewed last_reviewed  nb_private_rooms  avg_price\n",
       "0     2019-01-01    2019-07-09             11356     141.78"
      ]
     },
     "execution_count": 13,
     "metadata": {},
     "output_type": "execute_result"
    }
   ],
   "source": [
    "review_dates = pd.DataFrame({\"first_reviewed\": [earliest_review],\n",
    "                              \"last_reviewed\": [most_recent_review],\n",
    "                              \"nb_private_rooms\": [private_room_count],\n",
    "                              \"avg_price\": [average_listing_price]})\n",
    "review_dates"
   ]
  },
  {
   "cell_type": "code",
   "execution_count": null,
   "id": "f84fefd0-c1a0-4a2d-8523-0eacebc4ddcc",
   "metadata": {},
   "outputs": [],
   "source": []
  },
  {
   "cell_type": "code",
   "execution_count": null,
   "id": "9711689a-cf76-4ed1-bb97-158a0b358c72",
   "metadata": {},
   "outputs": [],
   "source": []
  },
  {
   "cell_type": "code",
   "execution_count": null,
   "id": "526be40b-fcd7-4624-b090-10cf74fa39da",
   "metadata": {},
   "outputs": [],
   "source": []
  },
  {
   "cell_type": "code",
   "execution_count": null,
   "id": "64839fba-a550-47b4-963c-e02bb8736221",
   "metadata": {},
   "outputs": [],
   "source": []
  }
 ],
 "metadata": {
  "colab": {
   "name": "Welcome to DataCamp Workspaces.ipynb",
   "provenance": []
  },
  "kernelspec": {
   "display_name": "Python 3 (ipykernel)",
   "language": "python",
   "name": "python3"
  },
  "language_info": {
   "codemirror_mode": {
    "name": "ipython",
    "version": 3
   },
   "file_extension": ".py",
   "mimetype": "text/x-python",
   "name": "python",
   "nbconvert_exporter": "python",
   "pygments_lexer": "ipython3",
   "version": "3.11.6"
  }
 },
 "nbformat": 4,
 "nbformat_minor": 5
}
