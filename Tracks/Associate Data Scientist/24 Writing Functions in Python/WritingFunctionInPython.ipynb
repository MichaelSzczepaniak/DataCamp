{
 "cells": [
  {
   "cell_type": "markdown",
   "id": "bf9fe0e0-0ccf-4e68-b98a-d50ecff0408a",
   "metadata": {},
   "source": [
    "## Crafting a docstring\n",
    "\n",
    "**Scenario**\n",
    "\n",
    "You've decided to write the world's greatest open-source natural language processing Python package. It will revolutionize working with free-form text, the way numpy did for arrays, pandas did for tabular data, and scikit-learn did for machine learning.\n",
    "\n",
    "The first function you write is `count_letter()`. It takes a string and a single letter and returns the number of times the letter appears in the string. You want the users of your open-source package to be able to understand how this function works easily, so you will need to give it a docstring. Build up a **Google Style** docstring for this function by following these steps."
   ]
  },
  {
   "cell_type": "code",
   "execution_count": 1,
   "id": "23ce57be-9c45-4fff-8af8-c045f18cd6d2",
   "metadata": {},
   "outputs": [],
   "source": [
    "def count_letter(content, letter):\n",
    "    \"\"\"Count the number of times `letter` appears in `content`.\n",
    "\n",
    "    Args:\n",
    "      content (str): The string to search.\n",
    "      letter (str): The letter to search for.\n",
    "\n",
    "    Returns:\n",
    "      int\n",
    "\n",
    "    # Add a section detailing what errors might be raised\n",
    "    Raises:\n",
    "      ValueError: If `letter` is not a one-character string.\n",
    "    \"\"\"\n",
    "    if (not isinstance(letter, str)) or len(letter) != 1:\n",
    "        raise ValueError('`letter` must be a single character string.')\n",
    "    return len([char for char in content if char == letter])"
   ]
  },
  {
   "cell_type": "code",
   "execution_count": 2,
   "id": "c10b064f-b65c-4026-ab20-d455bbd06c26",
   "metadata": {},
   "outputs": [
    {
     "name": "stdout",
     "output_type": "stream",
     "text": [
      "############################\n",
      "Count the number of times `letter` appears in `content`.\n",
      "\n",
      "    Args:\n",
      "      content (str): The string to search.\n",
      "      letter (str): The letter to search for.\n",
      "\n",
      "    Returns:\n",
      "      int\n",
      "\n",
      "    # Add a section detailing what errors might be raised\n",
      "    Raises:\n",
      "      ValueError: If `letter` is not a one-character string.\n",
      "    \n",
      "############################\n"
     ]
    }
   ],
   "source": [
    "# Get the \"count_letter\" docstring by using an attribute of the function\n",
    "docstring = count_letter.__doc__\n",
    "\n",
    "border = '#' * 28\n",
    "print('{}\\n{}\\n{}'.format(border, docstring, border))"
   ]
  },
  {
   "cell_type": "code",
   "execution_count": 3,
   "id": "fd2a862c-ce31-4feb-8a67-fc99f61da718",
   "metadata": {},
   "outputs": [
    {
     "name": "stdout",
     "output_type": "stream",
     "text": [
      "############################\n",
      "Count the number of times `letter` appears in `content`.\n",
      "\n",
      "Args:\n",
      "  content (str): The string to search.\n",
      "  letter (str): The letter to search for.\n",
      "\n",
      "Returns:\n",
      "  int\n",
      "\n",
      "# Add a section detailing what errors might be raised\n",
      "Raises:\n",
      "  ValueError: If `letter` is not a one-character string.\n",
      "############################\n"
     ]
    }
   ],
   "source": [
    "# another way to do the same thing...\n",
    "import inspect\n",
    "\n",
    "# Inspect the count_letter() function to get its docstring\n",
    "docstring = inspect.getdoc(count_letter)\n",
    "\n",
    "border = '#' * 28\n",
    "print('{}\\n{}\\n{}'.format(border, docstring, border))"
   ]
  },
  {
   "cell_type": "code",
   "execution_count": 4,
   "id": "86874537-c512-481b-ba7d-b29251b032e9",
   "metadata": {},
   "outputs": [
    {
     "name": "stdout",
     "output_type": "stream",
     "text": [
      "############################\n",
      "Count the number of times `letter` appears in `content`.\n",
      "\n",
      "Args:\n",
      "  content (str): The string to search.\n",
      "  letter (str): The letter to search for.\n",
      "\n",
      "Returns:\n",
      "  int\n",
      "\n",
      "# Add a section detailing what errors might be raised\n",
      "Raises:\n",
      "  ValueError: If `letter` is not a one-character string.\n",
      "############################\n",
      "############################\n",
      "range(stop) -> range object\n",
      "range(start, stop[, step]) -> range object\n",
      "\n",
      "Return an object that produces a sequence of integers from start (inclusive)\n",
      "to stop (exclusive) by step.  range(i, j) produces i, i+1, i+2, ..., j-1.\n",
      "start defaults to 0, and stop is omitted!  range(4) produces 0, 1, 2, 3.\n",
      "These are exactly the valid indices for a list of 4 elements.\n",
      "When step is given, it specifies the increment (or decrement).\n",
      "############################\n",
      "############################\n",
      "Prints the values to a stream, or to sys.stdout by default.\n",
      "\n",
      "sep\n",
      "  string inserted between values, default a space.\n",
      "end\n",
      "  string appended after the last value, default a newline.\n",
      "file\n",
      "  a file-like object (stream); defaults to the current sys.stdout.\n",
      "flush\n",
      "  whether to forcibly flush the stream.\n",
      "############################\n"
     ]
    }
   ],
   "source": [
    "import inspect\n",
    "\n",
    "def build_tooltip(function):\n",
    "  \"\"\"Create a tooltip for any function that shows the\n",
    "  function's docstring.\n",
    "\n",
    "  Args:\n",
    "    function (callable): The function we want a tooltip for.\n",
    "\n",
    "  Returns:\n",
    "    str\n",
    "  \"\"\"\n",
    "  # Get the docstring for the \"function\" argument by using inspect\n",
    "  docstring = inspect.getdoc(function)\n",
    "  border = '#' * 28\n",
    "  return '{}\\n{}\\n{}'.format(border, docstring, border)\n",
    "\n",
    "print(build_tooltip(count_letter))\n",
    "print(build_tooltip(range))\n",
    "print(build_tooltip(print))"
   ]
  },
  {
   "cell_type": "code",
   "execution_count": 5,
   "id": "36a7047a-4135-40f0-b679-9607ab896ae4",
   "metadata": {},
   "outputs": [
    {
     "data": {
      "text/html": [
       "<div>\n",
       "<style scoped>\n",
       "    .dataframe tbody tr th:only-of-type {\n",
       "        vertical-align: middle;\n",
       "    }\n",
       "\n",
       "    .dataframe tbody tr th {\n",
       "        vertical-align: top;\n",
       "    }\n",
       "\n",
       "    .dataframe thead th {\n",
       "        text-align: right;\n",
       "    }\n",
       "</style>\n",
       "<table border=\"1\" class=\"dataframe\">\n",
       "  <thead>\n",
       "    <tr style=\"text-align: right;\">\n",
       "      <th></th>\n",
       "      <th>y1_gpa</th>\n",
       "      <th>y2_gpa</th>\n",
       "      <th>y3_gpa</th>\n",
       "      <th>y4_gpa</th>\n",
       "    </tr>\n",
       "  </thead>\n",
       "  <tbody>\n",
       "    <tr>\n",
       "      <th>0</th>\n",
       "      <td>2.786</td>\n",
       "      <td>2.053</td>\n",
       "      <td>2.171</td>\n",
       "      <td>0.066</td>\n",
       "    </tr>\n",
       "    <tr>\n",
       "      <th>1</th>\n",
       "      <td>1.145</td>\n",
       "      <td>2.666</td>\n",
       "      <td>0.267</td>\n",
       "      <td>2.885</td>\n",
       "    </tr>\n",
       "    <tr>\n",
       "      <th>2</th>\n",
       "      <td>0.907</td>\n",
       "      <td>0.424</td>\n",
       "      <td>2.613</td>\n",
       "      <td>0.031</td>\n",
       "    </tr>\n",
       "    <tr>\n",
       "      <th>3</th>\n",
       "      <td>2.205</td>\n",
       "      <td>0.524</td>\n",
       "      <td>3.984</td>\n",
       "      <td>0.339</td>\n",
       "    </tr>\n",
       "    <tr>\n",
       "      <th>4</th>\n",
       "      <td>2.878</td>\n",
       "      <td>1.288</td>\n",
       "      <td>3.078</td>\n",
       "      <td>0.902</td>\n",
       "    </tr>\n",
       "  </tbody>\n",
       "</table>\n",
       "</div>"
      ],
      "text/plain": [
       "   y1_gpa  y2_gpa  y3_gpa  y4_gpa\n",
       "0   2.786   2.053   2.171   0.066\n",
       "1   1.145   2.666   0.267   2.885\n",
       "2   0.907   0.424   2.613   0.031\n",
       "3   2.205   0.524   3.984   0.339\n",
       "4   2.878   1.288   3.078   0.902"
      ]
     },
     "execution_count": 5,
     "metadata": {},
     "output_type": "execute_result"
    }
   ],
   "source": [
    "import pandas as pd\n",
    "\n",
    "df = pd.read_csv('./data/gpa.csv')\n",
    "df.head()"
   ]
  },
  {
   "cell_type": "code",
   "execution_count": 6,
   "id": "3be0ee6b-a8e0-4192-8653-927cb00c8eea",
   "metadata": {},
   "outputs": [],
   "source": [
    "def standardize(column):\n",
    "    \"\"\"Standardize the values in a column.\n",
    "\n",
    "    Args:\n",
    "      column (pandas Series): The data to standardize.\n",
    "\n",
    "    Returns:\n",
    "      pandas Series: the values as z-scores\n",
    "    \"\"\"\n",
    "    # Finish the function so that it returns the z-scores\n",
    "    z_score = (column - column.mean()) / column.std()\n",
    "    return z_score\n",
    "\n",
    "# Use the standardize() function to calculate the z-scores\n",
    "df['y1_z'] = standardize(df['y1_gpa'])\n",
    "df['y2_z'] = standardize(df['y2_gpa'])\n",
    "df['y3_z'] = standardize(df['y3_gpa'])\n",
    "df['y4_z'] = standardize(df['y4_gpa'])"
   ]
  },
  {
   "cell_type": "code",
   "execution_count": 7,
   "id": "06df0626-c5b6-4cf8-8848-0794f55431c8",
   "metadata": {},
   "outputs": [],
   "source": [
    "# violates \"do one thing\"\n",
    "\n",
    "def mean_and_median(values):\n",
    "  \"\"\"Get the mean and median of a sorted list of `values`\n",
    "\n",
    "  Args:\n",
    "    values (iterable of float): A list of numbers\n",
    "\n",
    "  Returns:\n",
    "    tuple (float, float): The mean and median\n",
    "  \"\"\"\n",
    "  mean = sum(values) / len(values)\n",
    "  values = sorted(values)\n",
    "  midpoint = int(len(values) / 2)\n",
    "  if len(values) % 2 == 0:\n",
    "    median = (values[midpoint - 1] + values[midpoint]) / 2\n",
    "  else:\n",
    "    median = values[midpoint]\n",
    "\n",
    "  return mean, median"
   ]
  },
  {
   "cell_type": "code",
   "execution_count": 8,
   "id": "703161c3-03f2-42b5-a104-674500548cf8",
   "metadata": {},
   "outputs": [],
   "source": [
    "def mean(values):\n",
    "    \"\"\"Get the mean of a sorted list of values\n",
    "  \n",
    "      Args:\n",
    "        values (iterable of float): A list of numbers\n",
    "  \n",
    "      Returns:\n",
    "        float\n",
    "    \"\"\"\n",
    "    # Write the mean() function\n",
    "    mean = sum(values) / len(values)\n",
    "    return mean"
   ]
  },
  {
   "cell_type": "code",
   "execution_count": 9,
   "id": "0e729df2-165e-4c11-973f-876f30cca7c8",
   "metadata": {},
   "outputs": [],
   "source": [
    "def median(values):\n",
    "    \"\"\"Get the median of a sorted list of values\n",
    "\n",
    "    Args:\n",
    "      values (iterable of float): A list of numbers\n",
    "\n",
    "    Returns:\n",
    "      float\n",
    "    \"\"\"\n",
    "    # Write the median() function\n",
    "    values = sorted(values)\n",
    "    midpoint = int(len(values) / 2)\n",
    "    if len(values) % 2 == 0:  # average the two middle values\n",
    "        median = (values[midpoint - 1] + values[midpoint]) / 2\n",
    "        # print(f\"values[midpoint - 1] = {values[midpoint - 1]}, values[midpoint + 1] = {values[midpoint + 1]}\")\n",
    "    else:\n",
    "        median = values[midpoint]\n",
    "        # print(f\"Odd number of values, midpoint = {midpoint}\")\n",
    "    return median"
   ]
  },
  {
   "cell_type": "code",
   "execution_count": 10,
   "id": "cd6716a9-7ff5-4264-ae42-7fda48081e0e",
   "metadata": {},
   "outputs": [
    {
     "data": {
      "text/plain": [
       "2.5"
      ]
     },
     "execution_count": 10,
     "metadata": {},
     "output_type": "execute_result"
    }
   ],
   "source": [
    "v = [1,2,3,4]\n",
    "\n",
    "median(v)"
   ]
  },
  {
   "cell_type": "markdown",
   "id": "c748f08c-b549-4d18-8822-5da5a2a5d432",
   "metadata": {},
   "source": [
    "## Best practice for default arguments\n",
    "\n",
    "Using a mutable variable as a default argument value is usually **NOT** a good idea as doing so often leads to unexpected or unintended behavior."
   ]
  },
  {
   "cell_type": "code",
   "execution_count": 11,
   "id": "7bd889d3-4645-45da-a177-f715e20d661b",
   "metadata": {},
   "outputs": [],
   "source": [
    "# Use an immutable variable for the default argument\n",
    "def better_add_column(values, df=None):\n",
    "  \"\"\"Add a column of `values` to a DataFrame `df`.\n",
    "  The column will be named \"col_<n>\" where \"n\" is\n",
    "  the numerical index of the column.\n",
    "\n",
    "  Args:\n",
    "    values (iterable): The values of the new column\n",
    "    df (DataFrame, optional): The DataFrame to update.\n",
    "      If no DataFrame is passed, one is created by default.\n",
    "\n",
    "  Returns:\n",
    "    DataFrame\n",
    "  \"\"\"\n",
    "  # Update the function to create a default DataFrame\n",
    "  if df is None:\n",
    "    df = pandas.DataFrame()\n",
    "  df['col_{}'.format(len(df.columns))] = values\n",
    "  return df"
   ]
  },
  {
   "cell_type": "markdown",
   "id": "573872cf-542a-47df-bb2c-cd526b1aac89",
   "metadata": {},
   "source": [
    "## Using Context Managers\n",
    "\n",
    "The `open` in the code below does three things:\n",
    "\n",
    "+ Sets up a context by opening a file\n",
    "+ Lets you run any code you want on that file\n",
    "+ Removes the context by closing the file\n",
    "\n",
    "Technically, a **context manager** is a **generator** that yeilds a single value."
   ]
  },
  {
   "cell_type": "code",
   "execution_count": 12,
   "id": "6523023d-c433-495c-8787-33225dabaaac",
   "metadata": {},
   "outputs": [
    {
     "name": "stdout",
     "output_type": "stream",
     "text": [
      "The is 231 characters long\n"
     ]
    }
   ],
   "source": [
    "# classic example of running context manager\n",
    "with open('./data/context_manager_example.txt') as file:\n",
    "    text = file.read()\n",
    "    char_count = len(text)\n",
    "# file is closed after reading and computing the len\n",
    "\n",
    "print(f\"The is {char_count} characters long\")  # outside of context"
   ]
  },
  {
   "cell_type": "code",
   "execution_count": 13,
   "id": "48d79159-ea54-474e-9f72-22374f81fb03",
   "metadata": {},
   "outputs": [
    {
     "name": "stdout",
     "output_type": "stream",
     "text": [
      "Lewis Carroll uses the word \"cat\" 24 times\n"
     ]
    }
   ],
   "source": [
    "# Open \"alice.txt\" and assign the file to \"file\"\n",
    "with open('./data/alice.txt') as file:\n",
    "  text = file.read()\n",
    "\n",
    "n = 0\n",
    "for word in text.split():\n",
    "  if word.lower() in ['cat', 'cats']:\n",
    "    n += 1\n",
    "\n",
    "print('Lewis Carroll uses the word \"cat\" {} times'.format(n))\n",
    "# print(text)"
   ]
  },
  {
   "cell_type": "code",
   "execution_count": 14,
   "id": "5c47a9e9-cf08-4c2e-9c37-7779cdb9ce9f",
   "metadata": {},
   "outputs": [],
   "source": [
    "import numpy as np\n",
    "import contextlib\n",
    "import time\n",
    "\n",
    "@contextlib.contextmanager\n",
    "def timer():\n",
    "    \"\"\"Time how long code in the context block takes to run.\"\"\"\n",
    "    t0 = time.time()\n",
    "    try:\n",
    "        yield  # return a value, but expect to finish the rest of the function at some point in the future\n",
    "    except:\n",
    "        raise\n",
    "    finally:\n",
    "        t1 = time.time()\n",
    "        print(f\"Elapsed: {(t1 - t0):.2f} seconds\\n\")\n",
    "\n",
    "def _process_pic(n_sec):\n",
    "    print('Processing', end='', flush=True)\n",
    "    for i in range(10):\n",
    "        print('.', end='' if i < 9 else 'done!\\\\n', flush=True)\n",
    "        time.sleep(n_sec)\n",
    "\n",
    "def get_image_from_instagram():\n",
    "    # simulate a process by generating a random number\n",
    "    return np.random.rand(84, 84)\n",
    "\n",
    "def process_with_numpy(p):\n",
    "    _process_pic(0.1521)  # make this simulated process take ~10X the passed in value in seconds\n",
    "\n",
    "def process_with_pytorch(p):\n",
    "    _process_pic(0.0328)  # make this simulated process take ~10X the passed in value in seconds"
   ]
  },
  {
   "cell_type": "code",
   "execution_count": 15,
   "id": "8bf43c6e-511c-4220-85ac-9e9bbb09c891",
   "metadata": {},
   "outputs": [
    {
     "name": "stdout",
     "output_type": "stream",
     "text": [
      "Numpy version\n",
      "Processing..........done!\\nElapsed: 1.53 seconds\n",
      "\n",
      "Pytorch version\n",
      "Processing..........done!\\nElapsed: 0.34 seconds\n",
      "\n"
     ]
    }
   ],
   "source": [
    "# run the fake process\n",
    "image = get_image_from_instagram()\n",
    "\n",
    "# Time how long process_with_numpy(image) takes to run\n",
    "with timer():\n",
    "  print('Numpy version')\n",
    "  process_with_numpy(image)\n",
    "\n",
    "# Time how long process_with_pytorch(image) takes to run\n",
    "with timer():\n",
    "  print('Pytorch version')\n",
    "  process_with_pytorch(image)"
   ]
  },
  {
   "cell_type": "code",
   "execution_count": 16,
   "id": "8a11ce0d-8efe-40c9-85d2-8118e6c6fc55",
   "metadata": {},
   "outputs": [
    {
     "name": "stdout",
     "output_type": "stream",
     "text": [
      "CHAPTER I. Down the Rabbit-Hole\n",
      "\n",
      "Alice was beginning to get very tired of sitting by her sister on the\n",
      "bank, and of having nothing to do: once or twice she had peeped into the\n",
      "book her sister was reading, but it had no pictures or conversations in\n",
      "it, 'and what is the use of a book,' thought Alice 'without pictures or\n",
      "conversations?'\n",
      "\n"
     ]
    }
   ],
   "source": [
    "@contextlib.contextmanager\n",
    "def open_read_only(filename):\n",
    "  \"\"\"Open a file in read-only mode.\n",
    "\n",
    "  Args:\n",
    "    filename (str): The location of the file to read\n",
    "\n",
    "  Yields:\n",
    "    file object\n",
    "  \"\"\"\n",
    "  read_only_file = open(filename, mode='r')\n",
    "  # Yield read_only_file so it can be assigned to my_file\n",
    "  yield read_only_file\n",
    "  # Close read_only_file\n",
    "  read_only_file.close()\n",
    "\n",
    "with open_read_only('./data/test_file1.txt') as my_file:\n",
    "  print(my_file.read())"
   ]
  },
  {
   "cell_type": "markdown",
   "id": "2bbf82f3-42f1-4c6a-8421-2950cfaa649a",
   "metadata": {},
   "source": [
    "## Nested Context Managers & Error Handeling\n",
    "\n",
    "These are useful when you have two tasks that rely on each other. For example:\n",
    "\n",
    "1. connecting to a data souces\n",
    "2. writing the results of some query on the source"
   ]
  },
  {
   "cell_type": "code",
   "execution_count": 17,
   "id": "e1cc342d-bbb4-4299-9065-7f6ff4690e7e",
   "metadata": {},
   "outputs": [],
   "source": [
    "# @contextlib.contextmanager\n",
    "# def stock(symbol):\n",
    "#   base = 140.00\n",
    "#   scale = 1.0\n",
    "#   mock = MockStock(base, scale)  # inspect.getsource(MockStock) doesn't work...\n",
    "#   print('Opening stock ticker for {}'.format(symbol))\n",
    "#   yield mock\n",
    "#   print('Closing stock ticker')"
   ]
  },
  {
   "cell_type": "code",
   "execution_count": 18,
   "id": "3459042b-6f86-4835-8299-0135d2773c71",
   "metadata": {},
   "outputs": [],
   "source": [
    "# Use the \"stock('NVDA')\" context manager\n",
    "# and assign the result to the variable \"nvda\"\n",
    "# with stock('NVDA') as nvda:\n",
    "#   # Open \"NVDA.txt\" for writing as f_out\n",
    "#   with open('NVDA.txt', 'w') as f_out:\n",
    "#     for _ in range(10):\n",
    "#       value = nvda.price()\n",
    "#       print('Logging ${:.2f} for NVDA'.format(value))\n",
    "#       f_out.write('{:.2f}\\n'.format(value))"
   ]
  },
  {
   "cell_type": "code",
   "execution_count": 19,
   "id": "cdd1228f-f026-4988-93d3-e515a17b411a",
   "metadata": {},
   "outputs": [],
   "source": [
    "def in_dir(directory):\n",
    "  \"\"\"Change current working directory to `directory`,\n",
    "  allow the user to run some code, and change back.\n",
    "\n",
    "  Args:\n",
    "    directory (str): The path to a directory to work in.\n",
    "  \"\"\"\n",
    "  current_dir = os.getcwd()\n",
    "  os.chdir(directory)\n",
    "\n",
    "  # Add code that lets you handle errors\n",
    "  try:\n",
    "    yield\n",
    "  # Ensure the directory is reset,\n",
    "  # whether there was an error or not\n",
    "  finally:\n",
    "    os.chdir(current_dir)"
   ]
  },
  {
   "cell_type": "markdown",
   "id": "60263030-468f-412a-ac6f-1c84d37e2ea4",
   "metadata": {},
   "source": [
    "## Functions are objects"
   ]
  },
  {
   "cell_type": "code",
   "execution_count": 20,
   "id": "6121ffb4-f011-48bd-b571-db2db490b594",
   "metadata": {},
   "outputs": [],
   "source": [
    "import random\n",
    "\n",
    "# create some data and some simple functions\n",
    "def load_data():\n",
    "    df = pd.DataFrame()\n",
    "    df['height'] = [72.1, 69.8, 63.2, 64.7]\n",
    "    df['weight'] = [198, 204, 164, 238]\n",
    "    return df\n",
    "\n",
    "def mean(data):\n",
    "    print(data.mean())\n",
    "\n",
    "def std(data):\n",
    "    print(data.std())\n",
    "\n",
    "def minimum(data):\n",
    "    print(data.min())\n",
    "\n",
    "def maximum(data):\n",
    "    print(data.max())\n",
    "\n",
    "def get_user_input(prompt='Type a command: '):\n",
    "    command = random.choice(['mean', 'std', 'minimum', 'maximum'])\n",
    "    print(prompt)\n",
    "    print('> {}'.format(command))\n",
    "    return command"
   ]
  },
  {
   "cell_type": "code",
   "execution_count": 21,
   "id": "7cbe23ad-b935-4cfd-b85e-e753b295f2e2",
   "metadata": {},
   "outputs": [
    {
     "name": "stdout",
     "output_type": "stream",
     "text": [
      "   height  weight\n",
      "0    72.1     198\n",
      "1    69.8     204\n",
      "2    63.2     164\n",
      "3    64.7     238\n",
      "Type a command: \n",
      "> mean\n",
      "height     67.45\n",
      "weight    201.00\n",
      "dtype: float64\n"
     ]
    }
   ],
   "source": [
    "# call a function from a dict of functions\n",
    "function_map = {\n",
    "  'mean': mean,\n",
    "  'std': std,\n",
    "  'minimum': minimum,\n",
    "  'maximum': maximum\n",
    "}\n",
    "\n",
    "data = load_data()\n",
    "print(data)\n",
    "\n",
    "func_name = get_user_input()\n",
    "\n",
    "# Call the chosen function and pass \"data\" as an argument\n",
    "function_map[func_name](data)"
   ]
  },
  {
   "cell_type": "markdown",
   "id": "47ef48b4-1b89-43c9-b603-db751fc56509",
   "metadata": {},
   "source": [
    "### Scenario: Reviewing a co-worker's code\n",
    "\n",
    "A co-worker is asking you to review some code that they've written and give them some tips on how to get it ready for production. You know that having a docstring is considered best practice for maintainable, reusable functions, so as a sanity check you decide to use this has_docstring() function on all of their functions."
   ]
  },
  {
   "cell_type": "code",
   "execution_count": 22,
   "id": "058f294f-36f3-4a9f-934e-53ddd99aa924",
   "metadata": {},
   "outputs": [],
   "source": [
    "# co-workers function\n",
    "def load_and_plot_data(filename):\n",
    "    \"\"\"Load a data frame and plot each column.\n",
    "    \n",
    "      Args:\n",
    "        filename (str): Path to a CSV file of data.\n",
    "      \n",
    "      Returns:\n",
    "        pandas.DataFrame\n",
    "    \"\"\"\n",
    "    df = pd.load_csv(filename, index_col=0)\n",
    "    df.hist()\n",
    "    return df"
   ]
  },
  {
   "cell_type": "code",
   "execution_count": 23,
   "id": "8d9167a0-7387-49fa-8be9-5e2fc60f85ba",
   "metadata": {},
   "outputs": [],
   "source": [
    "def has_docstring(func):\n",
    "  \"\"\"Check to see if the function `func` has a docstring.\n",
    "\n",
    "  Args:\n",
    "    func (callable): A function.\n",
    "\n",
    "  Returns:\n",
    "    bool\n",
    "  \"\"\"\n",
    "  return func.__doc__ is not None"
   ]
  },
  {
   "cell_type": "code",
   "execution_count": 24,
   "id": "12cf427a-18b3-4039-9297-7039d5d6bed7",
   "metadata": {},
   "outputs": [
    {
     "name": "stdout",
     "output_type": "stream",
     "text": [
      "load_and_plot_data() looks ok\n"
     ]
    }
   ],
   "source": [
    "# Call has_docstring() on the load_and_plot_data() function\n",
    "ok = has_docstring(load_and_plot_data)\n",
    "\n",
    "if not ok:\n",
    "  print(\"load_and_plot_data() doesn't have a docstring!\")\n",
    "else:\n",
    "  print(\"load_and_plot_data() looks ok\")"
   ]
  },
  {
   "cell_type": "markdown",
   "id": "a30e6cbf-ae00-4164-a71f-dbbbfa6ea2f9",
   "metadata": {},
   "source": [
    "### Returning functions for a math game\n",
    "\n",
    "**Scenarios:** You are building an educational math game where the player enters a math term, and your program returns a function that matches that term. For instance, if the user types \"add\", your program returns a function that adds two numbers. Implement the \"add\"  and \"subtract\" functions for this use case."
   ]
  },
  {
   "cell_type": "code",
   "execution_count": 25,
   "id": "01fa6e5e-df70-413c-868e-49eb5d47924c",
   "metadata": {},
   "outputs": [
    {
     "name": "stdout",
     "output_type": "stream",
     "text": [
      "5 + 2 = 7\n",
      "5 - 2 = 3\n"
     ]
    }
   ],
   "source": [
    "def create_math_function(func_name):\n",
    "  if func_name == 'add':\n",
    "    def add(a, b):\n",
    "      return a + b\n",
    "    return add\n",
    "  elif func_name == 'subtract':\n",
    "    # Define the subtract() function\n",
    "    def subtract(a, b):\n",
    "      return a - b\n",
    "    return subtract\n",
    "  else:\n",
    "    print(\"I don't know that one\")\n",
    "    \n",
    "add = create_math_function('add')\n",
    "print(f\"5 + 2 = {add(5, 2)}\")\n",
    "\n",
    "subtract = create_math_function('subtract')\n",
    "print(f\"5 - 2 = {subtract(5, 2)}\")"
   ]
  },
  {
   "cell_type": "markdown",
   "id": "510b2cdc-4f9f-48a5-8a01-e57750e3148f",
   "metadata": {},
   "source": [
    "## Closures\n",
    "\n",
    "A **closure** in Python is a tuple of variables that are no longer in scope, but that a function needs in order to run."
   ]
  },
  {
   "cell_type": "code",
   "execution_count": 26,
   "id": "e2f29504-3d8e-46ac-b0b5-7f31746ade34",
   "metadata": {},
   "outputs": [
    {
     "name": "stdout",
     "output_type": "stream",
     "text": [
      "5\n"
     ]
    }
   ],
   "source": [
    "def foo(): \n",
    "    a = 5 \n",
    "    def bar(): \n",
    "        print(a) \n",
    "    return bar\n",
    "\n",
    "func = foo()  # running foo returns the inner function bar\n",
    "func()        # running func runs the bar function, but a is in foo's scope but outside the scope of bar..."
   ]
  },
  {
   "cell_type": "code",
   "execution_count": 27,
   "id": "9f4352d6-4eaa-4b90-a2e2-feb35b774f3e",
   "metadata": {},
   "outputs": [
    {
     "name": "stdout",
     "output_type": "stream",
     "text": [
      "True\n",
      "True\n",
      "True\n"
     ]
    }
   ],
   "source": [
    "def return_a_func(arg1, arg2):\n",
    "  def new_func():\n",
    "    print(f\"arg1 was {arg1}\")\n",
    "    print(f\"arg2 was {arg2}\")\n",
    "  return new_func\n",
    "    \n",
    "my_func = return_a_func(2, 17)\n",
    "\n",
    "# Show that my_func()'s closure is not None\n",
    "print(my_func.__closure__ is not None)\n",
    "\n",
    "# Show that there are two variables in the closure\n",
    "print(len(my_func.__closure__) == 2)\n",
    "\n",
    "# Get the values of the variables in the closure\n",
    "closure_values = [\n",
    "  my_func.__closure__[i].cell_contents for i in range(2)\n",
    "]\n",
    "print(closure_values == [2, 17])"
   ]
  },
  {
   "cell_type": "markdown",
   "id": "f059e214-bc3e-4532-9fdf-45c171f9e8f9",
   "metadata": {},
   "source": [
    "## Decorators"
   ]
  },
  {
   "cell_type": "code",
   "execution_count": 28,
   "id": "813815db-8172-4d02-83d6-40d88adc5929",
   "metadata": {},
   "outputs": [
    {
     "name": "stdout",
     "output_type": "stream",
     "text": [
      "my_function was called with a=1, b=2, c=3\n",
      "6\n"
     ]
    }
   ],
   "source": [
    "import inspect\n",
    "\n",
    "def print_args(func):\n",
    "    sig = inspect.signature(func)\n",
    "    def wrapper(*args, **kwargs):\n",
    "        bound = sig.bind(*args, **kwargs).arguments\n",
    "        str_args = ', '.join(['{}={}'.format(k, v) for k, v in bound.items()])\n",
    "        print('{} was called with {}'.format(func.__name__, str_args))\n",
    "        return func(*args, **kwargs)\n",
    "    return wrapper\n",
    "\n",
    "# Decorate my_function() with the print_args() decorator\n",
    "@print_args\n",
    "def my_function(a, b, c):\n",
    "  print(a + b + c)\n",
    "\n",
    "my_function(1, 2, 3)"
   ]
  },
  {
   "cell_type": "code",
   "execution_count": 29,
   "id": "84200838-1299-40b4-a187-fa1684a45e62",
   "metadata": {},
   "outputs": [
    {
     "name": "stdout",
     "output_type": "stream",
     "text": [
      "Before multiply\n",
      "50\n",
      "After multiply\n"
     ]
    }
   ],
   "source": [
    "def print_before_and_after(func):\n",
    "  def wrapper(*args):\n",
    "    print('Before {}'.format(func.__name__))\n",
    "    # Call the function being decorated with *args\n",
    "    func(*args)\n",
    "    print('After {}'.format(func.__name__))\n",
    "  # Return the nested function\n",
    "  return wrapper\n",
    "\n",
    "@print_before_and_after\n",
    "def multiply(a, b):\n",
    "  print(a * b)\n",
    "\n",
    "multiply(5, 10)"
   ]
  },
  {
   "cell_type": "code",
   "execution_count": 30,
   "id": "27bb7ce1-63b4-4ef6-8537-5b864e67d8c7",
   "metadata": {},
   "outputs": [
    {
     "name": "stdout",
     "output_type": "stream",
     "text": [
      "108.0\n",
      "None\n"
     ]
    }
   ],
   "source": [
    "def parent_func():\n",
    "    def child_func(x = 100):\n",
    "        print(x * 1.08)\n",
    "    return child_func\n",
    "\n",
    "output = parent_func()\n",
    "print(output())"
   ]
  },
  {
   "cell_type": "code",
   "execution_count": 31,
   "id": "5fab6b70-ac9e-41e5-9d81-f8691a11ab36",
   "metadata": {},
   "outputs": [
    {
     "name": "stdout",
     "output_type": "stream",
     "text": [
      "calling foo()\n",
      "calling foo()\n",
      "foo() was called 2 times.\n"
     ]
    }
   ],
   "source": [
    "def counter(func):\n",
    "  def wrapper(*args, **kwargs):\n",
    "    wrapper.count += 1\n",
    "    # Call the function being decorated and return the result\n",
    "    return func(*args, **kwargs)\n",
    "  # Set count to 0 to initialize call count for each new decorated function\n",
    "  wrapper.count = 0\n",
    "  # Return the new decorated function\n",
    "  return wrapper\n",
    "\n",
    "# Decorate foo() with the counter() decorator\n",
    "@counter\n",
    "def foo():\n",
    "  print('calling foo()')\n",
    "  \n",
    "foo()\n",
    "foo()\n",
    "\n",
    "print('foo() was called {} times.'.format(foo.count))"
   ]
  },
  {
   "cell_type": "markdown",
   "id": "d1643d65-5ada-4338-aa8f-ddc68c8cbe4b",
   "metadata": {},
   "source": [
    "## Decorators and metadata\n",
    "\n",
    "### Preserving docstrings when decorating functions\n",
    "\n",
    "**Scenario:** Your friend has come to you with a problem. They've written some nifty decorators and added them to the functions in the open-source library they've been working on. However, they were running some tests and discovered that all of the docstrings have mysteriously disappeared from their decorated functions. Show your friend how to preserve docstrings and other metadata when writing decorators."
   ]
  },
  {
   "cell_type": "code",
   "execution_count": 32,
   "id": "93775b11-49f7-4c5d-b01a-399ed944a4b1",
   "metadata": {},
   "outputs": [
    {
     "name": "stdout",
     "output_type": "stream",
     "text": [
      "Hello\n",
      "30\n",
      "None\n"
     ]
    }
   ],
   "source": [
    "# replicate the problem your friend was seeing\n",
    "\n",
    "def add_hello(func):\n",
    "  def wrapper(*args, **kwargs):\n",
    "    print('Hello')\n",
    "    return func(*args, **kwargs)\n",
    "  return wrapper\n",
    "\n",
    "# Decorate print_sum() with the add_hello() decorator\n",
    "@add_hello\n",
    "def print_sum(a, b):\n",
    "  \"\"\"Adds two numbers and prints the sum\"\"\"\n",
    "  print(a + b)\n",
    "  \n",
    "print_sum(10, 20)\n",
    "# Define the docstring\n",
    "print_sum_docstring = print_sum.__doc__\n",
    "print(print_sum_docstring)"
   ]
  },
  {
   "cell_type": "code",
   "execution_count": 33,
   "id": "db1b579f-4fcf-4980-9145-54528b64286d",
   "metadata": {},
   "outputs": [
    {
     "name": "stdout",
     "output_type": "stream",
     "text": [
      "Hello\n",
      "30\n",
      "Print 'hello' and then call the decorated function.\n"
     ]
    }
   ],
   "source": [
    "# add a docstring to wrapper to show your friend that they are printing this docstring\n",
    "# and not the print_sum docstring\n",
    "\n",
    "def add_hello(func):\n",
    "  # Add a docstring to wrapper\n",
    "  def wrapper(*args, **kwargs):\n",
    "    \"\"\"Print 'hello' and then call the decorated function.\"\"\"\n",
    "    print('Hello')\n",
    "    return func(*args, **kwargs)\n",
    "  return wrapper\n",
    "\n",
    "@add_hello\n",
    "def print_sum(a, b):\n",
    "  \"\"\"Adds two numbers and prints the sum\"\"\"\n",
    "  print(a + b)\n",
    "  \n",
    "print_sum(10, 20)\n",
    "print_sum_docstring = print_sum.__doc__\n",
    "print(print_sum_docstring)"
   ]
  },
  {
   "cell_type": "code",
   "execution_count": 34,
   "id": "317ce909-622b-41af-8028-3ecfa11035d9",
   "metadata": {},
   "outputs": [
    {
     "name": "stdout",
     "output_type": "stream",
     "text": [
      "Hello\n",
      "30\n",
      "Adds two numbers and prints the sum\n"
     ]
    }
   ],
   "source": [
    "# Import the function you need to fix the problem\n",
    "from functools import wraps\n",
    "\n",
    "def add_hello(func):\n",
    "  # Decorate wrapper() so that it keeps func()'s metadata\n",
    "  @wraps(func)\n",
    "  def wrapper(*args, **kwargs):\n",
    "    \"\"\"Print 'hello' and then call the decorated function.\"\"\"\n",
    "    print('Hello')\n",
    "    return func(*args, **kwargs)\n",
    "  return wrapper\n",
    "  \n",
    "@add_hello\n",
    "def print_sum(a, b):\n",
    "  \"\"\"Adds two numbers and prints the sum\"\"\"\n",
    "  print(a + b)\n",
    "  \n",
    "print_sum(10, 20)\n",
    "print_sum_docstring = print_sum.__doc__\n",
    "print(print_sum_docstring)"
   ]
  },
  {
   "cell_type": "markdown",
   "id": "99bbf52f-9ad4-4359-ae7b-b5a3b4b46c9c",
   "metadata": {},
   "source": [
    "## Measuring decorator overhead\n",
    "\n",
    "**Scenario:** Your boss wrote a decorator called `check_everything()` that they think is amazing, and they are insisting you use it on your function. However, you've noticed that when you use it to decorate your functions, **it makes them run much slower**. You need to convince your boss that the decorator is adding too much processing time to your function. To do this, you are going to measure how long the decorated function takes to run and compare it to how long the undecorated function would have taken to run. This is the decorator in question:\n",
    "\n",
    "<code>\n",
    "def check_everything(func):\n",
    "  @wraps(func)\n",
    "  def wrapper(*args, **kwargs):\n",
    "    check_inputs(*args, **kwargs)\n",
    "    result = func(*args, **kwargs)\n",
    "    check_outputs(result)\n",
    "    return result\n",
    "  return wrapper\n",
    "</code>"
   ]
  },
  {
   "cell_type": "code",
   "execution_count": 35,
   "id": "2f28deb9-8252-4949-bc3e-164d0fda9480",
   "metadata": {},
   "outputs": [],
   "source": [
    "def check_everything(func):\n",
    "    @wraps(func)\n",
    "    def wrapper(*args, **kwargs):\n",
    "        check_inputs(*args, **kwargs)\n",
    "        result = func(*args, **kwargs)\n",
    "        check_outputs(result)\n",
    "        return result\n",
    "    return wrapper\n",
    "\n",
    "def check_inputs(a, *args, **kwargs):\n",
    "    for value in a:\n",
    "        time.sleep(0.01)\n",
    "    print('Finished checking inputs')\n",
    "\n",
    "def check_outputs(a, *args, **kwargs):\n",
    "    for value in a:\n",
    "        time.sleep(0.01)\n",
    "    print('Finished checking outputs')"
   ]
  },
  {
   "cell_type": "code",
   "execution_count": 36,
   "id": "d64a9087-1b52-4645-b600-421afc9dcc4d",
   "metadata": {},
   "outputs": [
    {
     "name": "stdout",
     "output_type": "stream",
     "text": [
      "Finished checking inputs\n",
      "Finished checking outputs\n",
      "Decorated time: 1.56562s\n",
      "Undecorated time: 0.00000s\n"
     ]
    }
   ],
   "source": [
    "# Call the original function instead of the decorated version by using an attribute of the function\n",
    "# that the wraps() statement in your boss's decorator added to the decorated function.\n",
    "@check_everything\n",
    "def duplicate(my_list):\n",
    "  \"\"\"Return a new list that repeats the input twice\"\"\"\n",
    "  return my_list + my_list\n",
    "\n",
    "t_start = time.time()\n",
    "duplicated_list = duplicate(list(range(50)))\n",
    "t_end = time.time()\n",
    "decorated_time = t_end - t_start\n",
    "\n",
    "t_start = time.time()\n",
    "# Call the original function instead of the decorated one\n",
    "duplicated_list = duplicate.__wrapped__(list(range(50)))\n",
    "t_end = time.time()\n",
    "undecorated_time = t_end - t_start\n",
    "\n",
    "print('Decorated time: {:.5f}s'.format(decorated_time))\n",
    "print('Undecorated time: {:.5f}s'.format(undecorated_time))"
   ]
  },
  {
   "cell_type": "markdown",
   "id": "d69d8baa-ffc9-4115-8bc0-7f45354c2508",
   "metadata": {},
   "source": [
    "## Decorators that take arguments"
   ]
  },
  {
   "cell_type": "code",
   "execution_count": 37,
   "id": "4b8dd1c2-bd5c-42dd-a9d7-3816393555c2",
   "metadata": {},
   "outputs": [
    {
     "name": "stdout",
     "output_type": "stream",
     "text": [
      "8\n",
      "8\n",
      "8\n"
     ]
    }
   ],
   "source": [
    "def run_three_times(func): \n",
    "    def wrapper(*args, **kwargs): \n",
    "        for i in range(3): \n",
    "            func(*args, **kwargs) \n",
    "    return wrapper\n",
    "\n",
    "@run_three_times \n",
    "def print_sum(a, b): \n",
    "    print(a + b)\n",
    "\n",
    "print_sum(3, 5) "
   ]
  },
  {
   "cell_type": "code",
   "execution_count": 38,
   "id": "1b48ba4c-0a5d-418b-b8fe-e34620d641fa",
   "metadata": {},
   "outputs": [],
   "source": [
    "# function that RETURNS as decorator\n",
    "def run_n_times(n):\n",
    "    \"\"\"Define and return a decorator\"\"\"\n",
    "    def decorator(func):\n",
    "        def wrapper(*args, **kwargs):\n",
    "            for i in range(n):\n",
    "                func(*args, **kwargs)\n",
    "        return wrapper\n",
    "    return decorator"
   ]
  },
  {
   "cell_type": "code",
   "execution_count": 39,
   "id": "2e6c50eb-bda9-4edb-88d1-05f466f31969",
   "metadata": {},
   "outputs": [
    {
     "name": "stdout",
     "output_type": "stream",
     "text": [
      "35\n",
      "35\n",
      "35\n",
      "35\n",
      "35\n",
      "35\n",
      "35\n",
      "35\n",
      "35\n",
      "35\n"
     ]
    }
   ],
   "source": [
    "# Make print_sum() run 10 times with the run_n_times() decorator\n",
    "@run_n_times(10)\n",
    "def print_sum(a, b):\n",
    "    print(a + b)\n",
    "\n",
    "print_sum(15, 20)"
   ]
  },
  {
   "cell_type": "code",
   "execution_count": 40,
   "id": "a3f8c586-4ea8-4875-a811-821799ca8220",
   "metadata": {},
   "outputs": [
    {
     "name": "stdout",
     "output_type": "stream",
     "text": [
      "104\n",
      "104\n",
      "104\n",
      "104\n",
      "104\n"
     ]
    }
   ],
   "source": [
    "# Use run_n_times() to create the run_five_times() decorator\n",
    "run_five_times = run_n_times(5)\n",
    "\n",
    "@run_five_times\n",
    "def print_sum(a, b):\n",
    "    print(a + b)\n",
    "\n",
    "print_sum(4, 100)"
   ]
  },
  {
   "cell_type": "code",
   "execution_count": 41,
   "id": "158c5fea-d69e-4bb4-902f-5d3f61e4d645",
   "metadata": {},
   "outputs": [
    {
     "name": "stdout",
     "output_type": "stream",
     "text": [
      "What is happening?!?!\n",
      "What is happening?!?!\n",
      "What is happening?!?!\n"
     ]
    }
   ],
   "source": [
    "# Modify the print() function to always run 3 times\n",
    "print = run_n_times(3)(print)\n",
    "\n",
    "print('What is happening?!?!')"
   ]
  },
  {
   "cell_type": "code",
   "execution_count": 42,
   "id": "aabc4b10-3234-41be-9d3e-2e137eea04c6",
   "metadata": {},
   "outputs": [
    {
     "name": "stdout",
     "output_type": "stream",
     "text": [
      "Return print to it's original behavior...\n"
     ]
    }
   ],
   "source": [
    "# original function is stored in the closure\n",
    "print = print.__closure__[0].cell_contents\n",
    "\n",
    "print(\"Return print to it's original behavior...\")"
   ]
  },
  {
   "cell_type": "markdown",
   "id": "8cf46bd8-da43-47a2-90f9-61e5c495446e",
   "metadata": {},
   "source": [
    "### HTML Generator\n",
    "\n",
    "**Scenario:** You are writing a script that generates HTML for a webpage on the fly. So far, you have written two decorators that will add bold or italics tags to any function that returns a string. You notice, however, that these two decorators look very similar. Instead of writing a bunch of other similar looking decorators, you want to create one decorator, html(), that can take any pair of opening and closing tags."
   ]
  },
  {
   "cell_type": "code",
   "execution_count": 43,
   "id": "0b020a34-0fc5-445e-b244-e61aa783fb0e",
   "metadata": {},
   "outputs": [],
   "source": [
    "def bold(func):\n",
    "    @wraps(func)\n",
    "    def wrapper(*args, **kwargs):\n",
    "        msg = func(*args, **kwargs)\n",
    "        return '<b>{}</b>'.format(msg)\n",
    "    return wrapper\n",
    "\n",
    "def italics(func):\n",
    "    @wraps(func)\n",
    "    def wrapper(*args, **kwargs):\n",
    "        msg = func(*args, **kwargs)\n",
    "        return '<i>{}</i>'.format(msg)\n",
    "    return wrapper\n"
   ]
  },
  {
   "cell_type": "code",
   "execution_count": 44,
   "id": "d4040f73-3c2b-4f89-85f1-b97053f75d8f",
   "metadata": {},
   "outputs": [],
   "source": [
    "def html(open_tag, close_tag):\n",
    "    def decorator(func):\n",
    "        @wraps(func)\n",
    "        def wrapper(*args, **kwargs):\n",
    "            msg = func(*args, **kwargs)\n",
    "            return '{}{}{}'.format(open_tag, msg, close_tag)\n",
    "        # Return the decorated function\n",
    "        return wrapper\n",
    "    # Return the decorator\n",
    "    return decorator"
   ]
  },
  {
   "cell_type": "code",
   "execution_count": 45,
   "id": "e4127f1f-fc30-4c36-87a2-1a618f5b2113",
   "metadata": {},
   "outputs": [
    {
     "name": "stdout",
     "output_type": "stream",
     "text": [
      "<b>Hello Alice!</b>\n"
     ]
    }
   ],
   "source": [
    "# Make hello() return bolded text\n",
    "@html('<b>', '</b>')\n",
    "def hello(name):\n",
    "    return 'Hello {}!'.format(name)\n",
    "\n",
    "print(hello('Alice'))"
   ]
  },
  {
   "cell_type": "code",
   "execution_count": 46,
   "id": "0d78fb3c-6662-48de-ada2-d63bdbf5ff82",
   "metadata": {},
   "outputs": [
    {
     "name": "stdout",
     "output_type": "stream",
     "text": [
      "<i>Goodbye Alice.</i>\n"
     ]
    }
   ],
   "source": [
    "# Make goodbye() return italicized text\n",
    "@html('<i>', '</i>')\n",
    "def goodbye(name):\n",
    "    return 'Goodbye {}.'.format(name)\n",
    "  \n",
    "print(goodbye('Alice'))"
   ]
  },
  {
   "cell_type": "code",
   "execution_count": 47,
   "id": "ada2280f-6bcb-45e3-9936-9653a21e3e0a",
   "metadata": {},
   "outputs": [
    {
     "name": "stdout",
     "output_type": "stream",
     "text": [
      "<div>\n",
      "<b>Hello Alice!</b>\n",
      "<i>Goodbye Alice.</i>\n",
      "</div>\n"
     ]
    }
   ],
   "source": [
    "# Wrap the result of hello_goodbye() in <div> and </div>\n",
    "@html('<div>', '</div>')\n",
    "def hello_goodbye(name):\n",
    "    return '\\n{}\\n{}\\n'.format(hello(name), goodbye(name))\n",
    "  \n",
    "print(hello_goodbye('Alice'))"
   ]
  },
  {
   "cell_type": "markdown",
   "id": "4c068d62-511f-4cc0-92b1-1c4cef4573fa",
   "metadata": {},
   "source": [
    "## Creating a timeout decorator\n",
    "\n",
    "Here, we'll create a decorator which raises an error when the decorated function runs longer than a specified time. Like before, we'll start by creating a decorator that raises an error after a fixed amount of time. Then we'll create a decorator which can be passed a variable time value."
   ]
  },
  {
   "cell_type": "code",
   "execution_count": 48,
   "id": "4e5d225e-fb3d-4d38-896c-ff3f1c7753fb",
   "metadata": {},
   "outputs": [],
   "source": [
    "# import signal\n",
    "\n",
    "# def timeout_in_5s(func): \n",
    "#     @wraps(func) \n",
    "#     def wrapper(*args, **kwargs): \n",
    "#         # Set an alarm for 5 seconds \n",
    "#         signal.alarm(5)  # only works on Linux, heavy sigh...\n",
    "#         try: \n",
    "#             # Call the decorated func \n",
    "#             return func(*args, **kwargs) \n",
    "#         finally: \n",
    "#             # Cancel alarm \n",
    "#             signal.alarm(0) \n",
    "#     return wrapper "
   ]
  },
  {
   "cell_type": "code",
   "execution_count": 49,
   "id": "588e348c-b017-4663-8666-067e87165372",
   "metadata": {},
   "outputs": [],
   "source": [
    "# @timeout_in_5s \n",
    "# def foo(): \n",
    "#     time.sleep(10) \n",
    "#     print('foo!')\n",
    "\n",
    "# foo()"
   ]
  },
  {
   "cell_type": "markdown",
   "id": "b0569b07-29f0-4b38-b6c9-0a28a31ec271",
   "metadata": {},
   "source": [
    "## Tag your functions\n",
    "\n",
    "Tagging something means that we have given that thing one or more strings that act as labels. For instance, we often tag emails or photos so that we can search for them later. We'll write a decorator that will let us tag functions with an arbitrary list of tags. We could use these tags for many things:\n",
    "\n",
    "+ Adding information about who has worked on the function, so a user can look up who to ask if they run into trouble using it.\n",
    "+ Labeling functions as \"experimental\" so that users know that the inputs and outputs might change in the future.\n",
    "+ Marking any functions that you plan to remove in a future version of the code.\n",
    "+ Etc.\n"
   ]
  },
  {
   "cell_type": "code",
   "execution_count": 50,
   "id": "66b0394e-c610-4c38-a319-fdb1a5237870",
   "metadata": {},
   "outputs": [
    {
     "name": "stdout",
     "output_type": "stream",
     "text": [
      "('test', 'this is a tag')\n"
     ]
    }
   ],
   "source": [
    "def tag(*tags):\n",
    "    # Define a new decorator, named \"decorator\", to return\n",
    "    def decorator(func):\n",
    "        # Ensure the decorated function keeps its metadata\n",
    "        @wraps(func)\n",
    "        def wrapper(*args, **kwargs):\n",
    "            # Call the function being decorated and return the result\n",
    "            return func(*args, **kwargs)\n",
    "        wrapper.tags = tags  # add a tags attribute to the function being decorated\n",
    "        return wrapper\n",
    "    # Return the new decorator\n",
    "    return decorator\n",
    "\n",
    "@tag('test', 'this is a tag')\n",
    "def foo():\n",
    "    pass\n",
    "\n",
    "print(foo.tags)"
   ]
  },
  {
   "cell_type": "markdown",
   "id": "d7692251-3858-4f4b-917f-979dd4e2cb05",
   "metadata": {},
   "source": [
    "## Check the return type\n",
    "\n",
    "Python's flexibility around data types is usually cited as one of the benefits of the language. It can sometimes cause problems though if incorrect data types go unnoticed. We've decided that in order to ensure our code is doing exactly what you want it to do, we will explicitly check the return types in all of our functions and make sure they're returning what we expect. To do that, we are going to create a decorator that checks if the return type of the decorated function is correct.\n"
   ]
  },
  {
   "cell_type": "code",
   "execution_count": 51,
   "id": "24b68d3c-fc1e-4d2e-9e7f-7f96d246f2d7",
   "metadata": {},
   "outputs": [
    {
     "name": "stdout",
     "output_type": "stream",
     "text": [
      "foo() did not return a dict!\n"
     ]
    }
   ],
   "source": [
    "def returns_dict(func):\n",
    "  # Complete the returns_dict() decorator\n",
    "    def wrapper(*args, **kwargs):\n",
    "        result = func(*args, **kwargs)\n",
    "        assert type(result) == dict  # nothing happens if True\n",
    "        return result\n",
    "    return wrapper\n",
    "\n",
    "@returns_dict\n",
    "def foo(value):\n",
    "    return value\n",
    "\n",
    "try:\n",
    "    print(foo([1,2,3]))\n",
    "except AssertionError:\n",
    "    print('foo() did not return a dict!')"
   ]
  },
  {
   "cell_type": "code",
   "execution_count": 53,
   "id": "091d7114-91e3-45f2-9709-0d64e64db90d",
   "metadata": {},
   "outputs": [
    {
     "name": "stdout",
     "output_type": "stream",
     "text": [
      "[1, 2, 3]\n"
     ]
    }
   ],
   "source": [
    "def returns(return_type):\n",
    "  # Complete the returns() decorator\n",
    "  def decorator(func):\n",
    "    def wrapper(*args, **kwargs):\n",
    "      result = func(*args, **kwargs)\n",
    "      assert type(result) == return_type\n",
    "      return result\n",
    "    return wrapper\n",
    "  return decorator\n",
    "  \n",
    "# @returns(dict)  # correctly returns: foo() did not return a dict!\n",
    "@returns(list)\n",
    "def foo(value):\n",
    "  return value\n",
    "\n",
    "try:\n",
    "  print(foo([1,2,3]))\n",
    "except AssertionError:\n",
    "  print('foo() did not return a dict!')"
   ]
  },
  {
   "cell_type": "code",
   "execution_count": null,
   "id": "3b49c225-d9b6-4973-ab1e-1d9877f63275",
   "metadata": {},
   "outputs": [],
   "source": []
  },
  {
   "cell_type": "code",
   "execution_count": null,
   "id": "8345c181-fd46-472e-b594-1480385b356b",
   "metadata": {},
   "outputs": [],
   "source": []
  },
  {
   "cell_type": "code",
   "execution_count": null,
   "id": "9de79909-e354-4760-a92a-3c169568b462",
   "metadata": {},
   "outputs": [],
   "source": []
  },
  {
   "cell_type": "code",
   "execution_count": null,
   "id": "78aa8f63-e1cf-46dd-83bf-9bacd1e27782",
   "metadata": {},
   "outputs": [],
   "source": []
  }
 ],
 "metadata": {
  "kernelspec": {
   "display_name": "Python 3 (ipykernel)",
   "language": "python",
   "name": "python3"
  },
  "language_info": {
   "codemirror_mode": {
    "name": "ipython",
    "version": 3
   },
   "file_extension": ".py",
   "mimetype": "text/x-python",
   "name": "python",
   "nbconvert_exporter": "python",
   "pygments_lexer": "ipython3",
   "version": "3.11.6"
  }
 },
 "nbformat": 4,
 "nbformat_minor": 5
}
