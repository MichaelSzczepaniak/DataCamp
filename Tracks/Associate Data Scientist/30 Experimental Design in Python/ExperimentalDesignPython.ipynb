{
 "cells": [
  {
   "cell_type": "markdown",
   "id": "68b65e1e-bc1b-4046-83b9-11b490e0e6ee",
   "metadata": {},
   "source": [
    "## Experimental Design\n",
    "\n",
    "+ A process\n",
    "+ An objective and controlled way to draw specific conclusions in reference to a hypothesis\n",
    "\n",
    "## Forming robust statements\n",
    "\n",
    "Lacking precision: *X probably had an effect on Y. There is likely some small risk of error*\n",
    "\n",
    "+ Precise and Quantified language\n",
    "  + More precise: *P-value analysis indicates X had an effect on Y with a 10% risk of Type I error (Type I error: incorrectly reject null hypothesis)*\n",
    "+ Goal: Experimental design and statistical analysis\n",
    "\n",
    "## Non-random assignment of subjects\n",
    "\n",
    "***Scenario***: An agricultural firm is conducting an experiment to measure how feeding sheep different types of grass affects their weight. They have asked for your help to properly set up the experiment. One of their managers has said you can perform the subject assignment by taking the top 250 rows from the DataFrame and that should be fine.\n",
    "\n",
    "We can clearly demonstrate why this might not be a good idea. Assign the subjects to two groups using non-random assignment (the first 250 rows) and observe the differences in descriptive statistics."
   ]
  },
  {
   "cell_type": "code",
   "execution_count": 1,
   "id": "5e3bc947-ca06-4809-b48d-aaff30426e2c",
   "metadata": {},
   "outputs": [
    {
     "data": {
      "text/html": [
       "<div>\n",
       "<style scoped>\n",
       "    .dataframe tbody tr th:only-of-type {\n",
       "        vertical-align: middle;\n",
       "    }\n",
       "\n",
       "    .dataframe tbody tr th {\n",
       "        vertical-align: top;\n",
       "    }\n",
       "\n",
       "    .dataframe thead th {\n",
       "        text-align: right;\n",
       "    }\n",
       "</style>\n",
       "<table border=\"1\" class=\"dataframe\">\n",
       "  <thead>\n",
       "    <tr style=\"text-align: right;\">\n",
       "      <th></th>\n",
       "      <th>id</th>\n",
       "      <th>weight</th>\n",
       "    </tr>\n",
       "  </thead>\n",
       "  <tbody>\n",
       "    <tr>\n",
       "      <th>0</th>\n",
       "      <td>262</td>\n",
       "      <td>39.07</td>\n",
       "    </tr>\n",
       "    <tr>\n",
       "      <th>1</th>\n",
       "      <td>74</td>\n",
       "      <td>44.04</td>\n",
       "    </tr>\n",
       "    <tr>\n",
       "      <th>2</th>\n",
       "      <td>471</td>\n",
       "      <td>46.58</td>\n",
       "    </tr>\n",
       "    <tr>\n",
       "      <th>3</th>\n",
       "      <td>382</td>\n",
       "      <td>48.01</td>\n",
       "    </tr>\n",
       "    <tr>\n",
       "      <th>4</th>\n",
       "      <td>442</td>\n",
       "      <td>48.46</td>\n",
       "    </tr>\n",
       "  </tbody>\n",
       "</table>\n",
       "</div>"
      ],
      "text/plain": [
       "    id  weight\n",
       "0  262   39.07\n",
       "1   74   44.04\n",
       "2  471   46.58\n",
       "3  382   48.01\n",
       "4  442   48.46"
      ]
     },
     "execution_count": 1,
     "metadata": {},
     "output_type": "execute_result"
    }
   ],
   "source": [
    "import numpy as np\n",
    "import pandas as pd\n",
    "\n",
    "weights = pd.read_fwf('./data/weights.txt')\n",
    "weights.set_index('idx', inplace=True)\n",
    "weights.reset_index(drop=True, inplace=True)\n",
    "weights.head()"
   ]
  },
  {
   "cell_type": "code",
   "execution_count": 2,
   "id": "9e5457e1-0f46-45ca-9b12-f85676c0c814",
   "metadata": {},
   "outputs": [
    {
     "name": "stdout",
     "output_type": "stream",
     "text": [
      "           group1      group2\n",
      "count  250.000000  250.000000\n",
      "mean    58.821560   71.287480\n",
      "std      4.503791    5.019958\n",
      "min     39.070000   65.100000\n",
      "25%     56.200000   67.490000\n",
      "50%     59.390000   70.115000\n",
      "75%     62.527500   73.770000\n",
      "max     65.100000   95.820000\n"
     ]
    }
   ],
   "source": [
    "# Non-random assignment\n",
    "group1_non_rand = weights.iloc[:250,]\n",
    "group2_non_rand = weights.iloc[250:,]\n",
    "\n",
    "# Compare descriptive statistics of groups\n",
    "# Compare descriptive statistics of groups\n",
    "compare_df_non_rand = pd.concat([group1_non_rand['weight'].describe(), group2_non_rand['weight'].describe()], axis=1)\n",
    "compare_df_non_rand.columns = ['group1', 'group2']\n",
    "\n",
    "# Print to assess\n",
    "print(compare_df_non_rand)"
   ]
  },
  {
   "cell_type": "code",
   "execution_count": 3,
   "id": "8324dfa3-4edb-42d8-bc55-b6dd38585702",
   "metadata": {},
   "outputs": [
    {
     "name": "stdout",
     "output_type": "stream",
     "text": [
      "           group1      group2\n",
      "count  250.000000  250.000000\n",
      "mean    64.499960   65.609080\n",
      "std      8.073025    7.596346\n",
      "min     39.070000   44.040000\n",
      "25%     58.660000   60.312500\n",
      "50%     64.620000   65.540000\n",
      "75%     69.957500   70.442500\n",
      "max     86.760000   95.820000\n"
     ]
    }
   ],
   "source": [
    "# Randomly assign half\n",
    "group1_random = weights.sample(n=250, random_state=42, replace=False)\n",
    "\n",
    "# Create second assignment\n",
    "group2_random = weights.drop(group1_random.index)\n",
    "\n",
    "# Compare assignments\n",
    "compare_df_random = pd.concat([group1_random['weight'].describe(), group2_random['weight'].describe()], axis=1)\n",
    "compare_df_random.columns = ['group1', 'group2']\n",
    "print(compare_df_random)"
   ]
  },
  {
   "cell_type": "markdown",
   "id": "981cfdcb-52e5-4a5f-bb6e-5e5c7da4a883",
   "metadata": {},
   "source": [
    "## Experimental data setup\n",
    "\n",
    "Dataset for the e-commerce example (`econ`) in video 2 is not provided.\n",
    "\n",
    "### Blocking on productivity\n",
    "\n",
    "Randomly create 2 equal-sized blocks of 50 each\n",
    "\n",
    "### Stratifying an experiment\n",
    "\n",
    "***Scenario:*** You are working with a government organization that wants to undertake an experiment around how some particular government policies impact the net wealth of individuals in a number of areas.\n",
    "\n",
    "They have approached you to help set up the experimental design. They have warned you that there is likely to be a small group of users who already have high net wealth and are concerned that this group might overshadow any experimental outcome observed. We know just what to do!"
   ]
  },
  {
   "cell_type": "code",
   "execution_count": 4,
   "id": "4cf189bf-4d96-45df-8235-4af87170fe32",
   "metadata": {},
   "outputs": [
    {
     "data": {
      "text/html": [
       "<div>\n",
       "<style scoped>\n",
       "    .dataframe tbody tr th:only-of-type {\n",
       "        vertical-align: middle;\n",
       "    }\n",
       "\n",
       "    .dataframe tbody tr th {\n",
       "        vertical-align: top;\n",
       "    }\n",
       "\n",
       "    .dataframe thead th {\n",
       "        text-align: right;\n",
       "    }\n",
       "</style>\n",
       "<table border=\"1\" class=\"dataframe\">\n",
       "  <thead>\n",
       "    <tr style=\"text-align: right;\">\n",
       "      <th></th>\n",
       "      <th>subject_id</th>\n",
       "    </tr>\n",
       "    <tr>\n",
       "      <th>index</th>\n",
       "      <th></th>\n",
       "    </tr>\n",
       "  </thead>\n",
       "  <tbody>\n",
       "    <tr>\n",
       "      <th>0</th>\n",
       "      <td>1</td>\n",
       "    </tr>\n",
       "    <tr>\n",
       "      <th>1</th>\n",
       "      <td>2</td>\n",
       "    </tr>\n",
       "    <tr>\n",
       "      <th>2</th>\n",
       "      <td>3</td>\n",
       "    </tr>\n",
       "    <tr>\n",
       "      <th>3</th>\n",
       "      <td>4</td>\n",
       "    </tr>\n",
       "    <tr>\n",
       "      <th>4</th>\n",
       "      <td>5</td>\n",
       "    </tr>\n",
       "  </tbody>\n",
       "</table>\n",
       "</div>"
      ],
      "text/plain": [
       "       subject_id\n",
       "index            \n",
       "0               1\n",
       "1               2\n",
       "2               3\n",
       "3               4\n",
       "4               5"
      ]
     },
     "execution_count": 4,
     "metadata": {},
     "output_type": "execute_result"
    }
   ],
   "source": [
    "productivity_subjects = pd.read_csv('./data/productivity_subjects.csv', index_col='index')\n",
    "productivity_subjects.head()"
   ]
  },
  {
   "cell_type": "code",
   "execution_count": 5,
   "id": "08cd7373-2b2b-404d-9882-8616e58e92af",
   "metadata": {},
   "outputs": [
    {
     "name": "stdout",
     "output_type": "stream",
     "text": [
      "block\n",
      "1    50\n",
      "2    50\n",
      "Name: count, dtype: int64\n"
     ]
    }
   ],
   "source": [
    "# Randomly assign half\n",
    "block_1 = productivity_subjects.sample(n=50, random_state=42, replace=False)\n",
    "\n",
    "# Set the block column\n",
    "block_1['block'] = 1\n",
    "\n",
    "# Create second assignment and label\n",
    "block_2 = productivity_subjects.drop(block_1.index)\n",
    "block_2['block'] = 2\n",
    "\n",
    "# Concatenate and print\n",
    "productivity_combined = pd.concat([block_1, block_2], axis=0)\n",
    "print(productivity_combined['block'].value_counts())"
   ]
  },
  {
   "cell_type": "code",
   "execution_count": 6,
   "id": "6d93f558-7e8b-409a-8dc7-750fa5b8b4b9",
   "metadata": {},
   "outputs": [
    {
     "data": {
      "text/html": [
       "<div>\n",
       "<style scoped>\n",
       "    .dataframe tbody tr th:only-of-type {\n",
       "        vertical-align: middle;\n",
       "    }\n",
       "\n",
       "    .dataframe tbody tr th {\n",
       "        vertical-align: top;\n",
       "    }\n",
       "\n",
       "    .dataframe thead th {\n",
       "        text-align: right;\n",
       "    }\n",
       "</style>\n",
       "<table border=\"1\" class=\"dataframe\">\n",
       "  <thead>\n",
       "    <tr style=\"text-align: right;\">\n",
       "      <th></th>\n",
       "      <th>net_wealth</th>\n",
       "      <th>service_involvement</th>\n",
       "      <th>high_wealth</th>\n",
       "    </tr>\n",
       "    <tr>\n",
       "      <th>index</th>\n",
       "      <th></th>\n",
       "      <th></th>\n",
       "      <th></th>\n",
       "    </tr>\n",
       "  </thead>\n",
       "  <tbody>\n",
       "    <tr>\n",
       "      <th>0</th>\n",
       "      <td>112820.451</td>\n",
       "      <td>19</td>\n",
       "      <td>0</td>\n",
       "    </tr>\n",
       "    <tr>\n",
       "      <th>1</th>\n",
       "      <td>106850.675</td>\n",
       "      <td>19</td>\n",
       "      <td>0</td>\n",
       "    </tr>\n",
       "    <tr>\n",
       "      <th>2</th>\n",
       "      <td>118590.331</td>\n",
       "      <td>19</td>\n",
       "      <td>0</td>\n",
       "    </tr>\n",
       "    <tr>\n",
       "      <th>3</th>\n",
       "      <td>184323.773</td>\n",
       "      <td>12</td>\n",
       "      <td>0</td>\n",
       "    </tr>\n",
       "    <tr>\n",
       "      <th>4</th>\n",
       "      <td>166439.516</td>\n",
       "      <td>10</td>\n",
       "      <td>0</td>\n",
       "    </tr>\n",
       "  </tbody>\n",
       "</table>\n",
       "</div>"
      ],
      "text/plain": [
       "       net_wealth  service_involvement  high_wealth\n",
       "index                                              \n",
       "0      112820.451                   19            0\n",
       "1      106850.675                   19            0\n",
       "2      118590.331                   19            0\n",
       "3      184323.773                   12            0\n",
       "4      166439.516                   10            0"
      ]
     },
     "execution_count": 6,
     "metadata": {},
     "output_type": "execute_result"
    }
   ],
   "source": [
    "wealth_data = pd.read_fwf('./data/wealth_data.txt', index_col='index')\n",
    "wealth_data.head()"
   ]
  },
  {
   "cell_type": "code",
   "execution_count": 7,
   "id": "c37e05e6-7c85-4430-a846-62f3db1aab5d",
   "metadata": {},
   "outputs": [
    {
     "name": "stdout",
     "output_type": "stream",
     "text": [
      "Block  T_C  high_wealth\n",
      "1      C    1              100\n",
      "       T    1              100\n",
      "2      C    0              900\n",
      "       T    0              900\n",
      "dtype: int64\n"
     ]
    }
   ],
   "source": [
    "# Create the first block\n",
    "strata_1 = wealth_data[wealth_data['high_wealth'] == 1].copy()\n",
    "strata_1['Block'] = 1\n",
    "\n",
    "# Create two groups assigning to Treatment or Control\n",
    "strata_1_g1 = strata_1.sample(n=100, replace=False)  # could use frac=0.5 instead of n=100\n",
    "strata_1_g1['T_C'] = 'T' \n",
    "strata_1_g2 = strata_1.drop(strata_1_g1.index)\n",
    "strata_1_g2['T_C'] = 'C'\n",
    "\n",
    "# Create the second block and assign groups\n",
    "strata_2 = wealth_data[wealth_data['high_wealth'] == 0].copy()\n",
    "strata_2['Block'] = 2\n",
    "\n",
    "strata_2_g1 = strata_2.sample(n=900, replace=False)  # could use frac=0.5 instead of n=900\n",
    "strata_2_g1['T_C'] = 'T'\n",
    "strata_2_g2 = strata_2.drop(strata_2_g1.index)\n",
    "strata_2_g2['T_C'] = 'C'\n",
    "\n",
    "# Concatenate the grouping work\n",
    "wealth_data_stratified = pd.concat([strata_1_g1, strata_1_g2, strata_2_g1, strata_2_g2])\n",
    "print(wealth_data_stratified.groupby(['Block','T_C', 'high_wealth']).size())"
   ]
  },
  {
   "cell_type": "markdown",
   "id": "f8ad0b45-d496-4e9a-887c-f802315402bf",
   "metadata": {},
   "source": [
    "## Visualizing normality in an agricultural experiment\n",
    "\n",
    "***Scenario:*** We have been contracted by an agricultural firm conducting an experiment on 50 chickens, divided into four groups, each fed a different diet. Weight measurements were taken every second day for 20 days.\n",
    "\n",
    "We'll analyze chicken_data to assess normality, which will determine the suitability of parametric statistical tests, beginning with a visual examination of the data distribution. "
   ]
  },
  {
   "cell_type": "code",
   "execution_count": 8,
   "id": "87ca70aa-571d-4f74-a851-d62017d88304",
   "metadata": {},
   "outputs": [
    {
     "data": {
      "text/html": [
       "<div>\n",
       "<style scoped>\n",
       "    .dataframe tbody tr th:only-of-type {\n",
       "        vertical-align: middle;\n",
       "    }\n",
       "\n",
       "    .dataframe tbody tr th {\n",
       "        vertical-align: top;\n",
       "    }\n",
       "\n",
       "    .dataframe thead th {\n",
       "        text-align: right;\n",
       "    }\n",
       "</style>\n",
       "<table border=\"1\" class=\"dataframe\">\n",
       "  <thead>\n",
       "    <tr style=\"text-align: right;\">\n",
       "      <th></th>\n",
       "      <th>weight</th>\n",
       "      <th>Time</th>\n",
       "      <th>Chick</th>\n",
       "      <th>Diet</th>\n",
       "    </tr>\n",
       "  </thead>\n",
       "  <tbody>\n",
       "    <tr>\n",
       "      <th>0</th>\n",
       "      <td>42</td>\n",
       "      <td>0</td>\n",
       "      <td>1</td>\n",
       "      <td>1</td>\n",
       "    </tr>\n",
       "    <tr>\n",
       "      <th>1</th>\n",
       "      <td>51</td>\n",
       "      <td>2</td>\n",
       "      <td>1</td>\n",
       "      <td>1</td>\n",
       "    </tr>\n",
       "    <tr>\n",
       "      <th>2</th>\n",
       "      <td>59</td>\n",
       "      <td>4</td>\n",
       "      <td>1</td>\n",
       "      <td>1</td>\n",
       "    </tr>\n",
       "    <tr>\n",
       "      <th>3</th>\n",
       "      <td>64</td>\n",
       "      <td>6</td>\n",
       "      <td>1</td>\n",
       "      <td>1</td>\n",
       "    </tr>\n",
       "    <tr>\n",
       "      <th>4</th>\n",
       "      <td>76</td>\n",
       "      <td>8</td>\n",
       "      <td>1</td>\n",
       "      <td>1</td>\n",
       "    </tr>\n",
       "  </tbody>\n",
       "</table>\n",
       "</div>"
      ],
      "text/plain": [
       "   weight  Time  Chick  Diet\n",
       "0      42     0      1     1\n",
       "1      51     2      1     1\n",
       "2      59     4      1     1\n",
       "3      64     6      1     1\n",
       "4      76     8      1     1"
      ]
     },
     "execution_count": 8,
     "metadata": {},
     "output_type": "execute_result"
    }
   ],
   "source": [
    "chicken_data = pd.read_csv('./data/chick_weight.csv')\n",
    "chicken_data.head()"
   ]
  },
  {
   "cell_type": "code",
   "execution_count": 9,
   "id": "10f96846-10fa-4e89-98e8-e035ee794f40",
   "metadata": {},
   "outputs": [
    {
     "data": {
      "image/png": "[encoded data removed]",
      "text/plain": [
       "<Figure size 500x500 with 1 Axes>"
      ]
     },
     "metadata": {},
     "output_type": "display_data"
    }
   ],
   "source": [
    "import matplotlib.pyplot as plt\n",
    "import seaborn as sns\n",
    "\n",
    "# Plot the distribution of the chickens' weight\n",
    "sns.displot(data=chicken_data, x='weight', kind=\"kde\")\n",
    "plt.show()"
   ]
  },
  {
   "cell_type": "code",
   "execution_count": 10,
   "id": "5c2891dd-fec0-46ca-8557-361870f158dd",
   "metadata": {},
   "outputs": [
    {
     "data": {
      "image/png": "[encoded data removed]",
      "text/plain": [
       "<Figure size 640x480 with 1 Axes>"
      ]
     },
     "metadata": {},
     "output_type": "display_data"
    }
   ],
   "source": [
    "from statsmodels.graphics.gofplots import qqplot\n",
    "from scipy.stats.distributions import norm\n",
    "# Plot the qq plot of the chickens' weight\n",
    "qqplot(data=chicken_data['weight'], line='s')\n",
    "plt.show()  # bow-shaped tails, not very normal looking"
   ]
  },
  {
   "cell_type": "code",
   "execution_count": 11,
   "id": "2c2b5100-1e8a-452e-8d75-47ceed9e2fea",
   "metadata": {},
   "outputs": [
    {
     "data": {
      "image/png": "[encoded data removed]",
      "text/plain": [
       "<Figure size 500x500 with 1 Axes>"
      ]
     },
     "metadata": {},
     "output_type": "display_data"
    }
   ],
   "source": [
    "# Subset the data and plot the weight of the subset\n",
    "subset_data = chicken_data[chicken_data['Time'] == 2]\n",
    "\n",
    "sns.displot(data=subset_data, x='weight', kind=\"kde\")\n",
    "plt.show()  # much more normal looking"
   ]
  },
  {
   "cell_type": "markdown",
   "id": "8b3d4b93-f088-42bd-931c-7b662834587f",
   "metadata": {},
   "source": [
    "## Analytical normality in an agricultural experiment\n",
    "\n",
    "Continuing from the previous work, visual inspections of the data indicate it may not be a normal dataset overall, but that the initial time point may be.\n",
    "\n",
    "Here, we'll use analytical methods to determine the normality of the dataset."
   ]
  },
  {
   "cell_type": "code",
   "execution_count": 12,
   "id": "77d00380-0b0c-4536-84f5-e88b1918116d",
   "metadata": {},
   "outputs": [
    {
     "name": "stdout",
     "output_type": "stream",
     "text": [
      "p: 0.0 test stat: 0.9087\n"
     ]
    }
   ],
   "source": [
    "from scipy.stats import shapiro\n",
    "from scipy.stats import anderson\n",
    "\n",
    "# Shapiro-Wilk normality test on the weight column\n",
    "test_statistic, p_value = shapiro(chicken_data['weight'])\n",
    "\n",
    "print(f\"p: {round(p_value, 4)} test stat: {round(test_statistic, 4)}\")"
   ]
  },
  {
   "cell_type": "markdown",
   "id": "63c724bb-fc92-412c-8d78-1a64e60a7e61",
   "metadata": {},
   "source": [
    "At significance level $\\alpha = 0.05$, we reject the $H_0$ (likely normal) in favor of the altenative (not normal)"
   ]
  },
  {
   "cell_type": "code",
   "execution_count": 13,
   "id": "fda1248b-679d-40a8-b97f-ef0614b3edf6",
   "metadata": {},
   "outputs": [
    {
     "name": "stdout",
     "output_type": "stream",
     "text": [
      "Test statistic: 14.6868\n",
      "Significance Levels: [15.  10.   5.   2.5  1. ]\n",
      "Critical Values: [0.572 0.652 0.782 0.912 1.085]\n"
     ]
    }
   ],
   "source": [
    "# Anderson-Darling test\n",
    "result = anderson(chicken_data['weight'], dist=\"norm\")\n",
    "\n",
    "print(f\"Test statistic: {round(result.statistic, 4)}\")\n",
    "print(f\"Significance Levels: {result.significance_level}\")\n",
    "print(f\"Critical Values: {result.critical_values}\")"
   ]
  },
  {
   "cell_type": "markdown",
   "id": "a4a5dbbd-b070-4455-b594-4b0db70d40ba",
   "metadata": {},
   "source": [
    "Since `14.6868` > `0.782`, reject $H_0$ (normal) in favor of altenative (not normal) at 5% significance level"
   ]
  },
  {
   "cell_type": "markdown",
   "id": "3430c40f-05c3-4d28-8042-cec52f61a245",
   "metadata": {},
   "source": [
    "## Understanding marketing campaign effectiveness\n",
    "\n",
    "***Scenario:*** You're a digital marketer analyzing data from a recent campaign to understand what messaging style and time of day yield the highest conversions. This analysis is crucial for guiding future marketing strategies, ensuring that the messages reach potential customers when they're most likely to engage. Here, we'll work with a dataset giving the outcomes of different messaging styles ('Casual' versus 'Formal') and times of day ('Morning' versus 'Evening') on conversion rates, a common scenario in marketing data analysis."
   ]
  },
  {
   "cell_type": "code",
   "execution_count": 14,
   "id": "922ba73d-a5d9-401a-9989-b653058b0a13",
   "metadata": {},
   "outputs": [
    {
     "name": "stdout",
     "output_type": "stream",
     "text": [
      "(950, 4)\n"
     ]
    },
    {
     "data": {
      "text/html": [
       "<div>\n",
       "<style scoped>\n",
       "    .dataframe tbody tr th:only-of-type {\n",
       "        vertical-align: middle;\n",
       "    }\n",
       "\n",
       "    .dataframe tbody tr th {\n",
       "        vertical-align: top;\n",
       "    }\n",
       "\n",
       "    .dataframe thead th {\n",
       "        text-align: right;\n",
       "    }\n",
       "</style>\n",
       "<table border=\"1\" class=\"dataframe\">\n",
       "  <thead>\n",
       "    <tr style=\"text-align: right;\">\n",
       "      <th></th>\n",
       "      <th>Messaging_Style</th>\n",
       "      <th>Time_of_Day</th>\n",
       "      <th>Click_Through_Rate</th>\n",
       "      <th>Conversions</th>\n",
       "    </tr>\n",
       "  </thead>\n",
       "  <tbody>\n",
       "    <tr>\n",
       "      <th>0</th>\n",
       "      <td>Casual</td>\n",
       "      <td>Morning</td>\n",
       "      <td>0.640465</td>\n",
       "      <td>500</td>\n",
       "    </tr>\n",
       "    <tr>\n",
       "      <th>1</th>\n",
       "      <td>Formal</td>\n",
       "      <td>Evening</td>\n",
       "      <td>0.698533</td>\n",
       "      <td>598</td>\n",
       "    </tr>\n",
       "    <tr>\n",
       "      <th>2</th>\n",
       "      <td>Casual</td>\n",
       "      <td>Morning</td>\n",
       "      <td>0.257834</td>\n",
       "      <td>234</td>\n",
       "    </tr>\n",
       "    <tr>\n",
       "      <th>3</th>\n",
       "      <td>Casual</td>\n",
       "      <td>Evening</td>\n",
       "      <td>0.922971</td>\n",
       "      <td>602</td>\n",
       "    </tr>\n",
       "    <tr>\n",
       "      <th>4</th>\n",
       "      <td>Casual</td>\n",
       "      <td>Morning</td>\n",
       "      <td>0.476893</td>\n",
       "      <td>314</td>\n",
       "    </tr>\n",
       "  </tbody>\n",
       "</table>\n",
       "</div>"
      ],
      "text/plain": [
       "  Messaging_Style Time_of_Day  Click_Through_Rate  Conversions\n",
       "0          Casual     Morning            0.640465          500\n",
       "1          Formal     Evening            0.698533          598\n",
       "2          Casual     Morning            0.257834          234\n",
       "3          Casual     Evening            0.922971          602\n",
       "4          Casual     Morning            0.476893          314"
      ]
     },
     "execution_count": 14,
     "metadata": {},
     "output_type": "execute_result"
    }
   ],
   "source": [
    "marketing_data = pd.read_feather('./data/marketing_data.feather')\n",
    "print(marketing_data.shape)\n",
    "marketing_data.head()"
   ]
  },
  {
   "cell_type": "code",
   "execution_count": 15,
   "id": "08bd8b89-0939-4f1d-b43b-ee71e72b9340",
   "metadata": {},
   "outputs": [
    {
     "name": "stdout",
     "output_type": "stream",
     "text": [
      "Time_of_Day         Evening     Morning\n",
      "Messaging_Style                        \n",
      "Casual           402.329004  401.133891\n",
      "Formal           432.913043  411.096000\n"
     ]
    }
   ],
   "source": [
    "# pivot table for marketing campaign data\n",
    "marketing_pivot = marketing_data.pivot_table(\n",
    "  values='Conversions', \n",
    "  index='Messaging_Style', \n",
    "  columns='Time_of_Day', \n",
    "  aggfunc='mean')\n",
    "\n",
    "# pivoted results\n",
    "print(marketing_pivot)"
   ]
  },
  {
   "cell_type": "code",
   "execution_count": 16,
   "id": "d3127af3-dbe4-4b22-a832-9c41f150a0c1",
   "metadata": {},
   "outputs": [
    {
     "data": {
      "image/png": "[encoded data removed]",
      "text/plain": [
       "<Figure size 640x480 with 2 Axes>"
      ]
     },
     "metadata": {},
     "output_type": "display_data"
    }
   ],
   "source": [
    "# visualize interactions with a heatmap\n",
    "sns.heatmap(marketing_pivot, \n",
    "            annot=True, \n",
    "            cmap='coolwarm',\n",
    "            fmt='g')\n",
    "\n",
    "plt.show()"
   ]
  },
  {
   "cell_type": "markdown",
   "id": "c16dc0e3-5c3b-4b4b-ac00-e0ac780b7bc0",
   "metadata": {},
   "source": [
    "## Implementing a randomized block design\n",
    "\n",
    "***Scenario:*** A manufacturing firm is interested in conducting some experiments on worker productivity. Previously, the two blocks were set randomly. While this can work, it can be better to group subjects based on similar characteristics.\n",
    "\n",
    "The DataFrame called `productivity` has 1300 subjects. It includes a worker `productivity_score` column based on units produced per hour. This column was binned into three groups to generate blocks based on similar productivity values. The firm would like to apply a new incentive program with three options (`Bonus`, `Profit Sharing` and `Work from Home`) throughout the firm with treatment applied randomly."
   ]
  },
  {
   "cell_type": "code",
   "execution_count": 17,
   "id": "bf0d9cc6-8eff-46bc-8630-2316685cafdb",
   "metadata": {},
   "outputs": [
    {
     "name": "stdout",
     "output_type": "stream",
     "text": [
      "<class 'pandas.core.frame.DataFrame'>\n",
      "RangeIndex: 1300 entries, 0 to 1299\n",
      "Data columns (total 3 columns):\n",
      " #   Column              Non-Null Count  Dtype  \n",
      "---  ------              --------------  -----  \n",
      " 0   subject_id          1300 non-null   int64  \n",
      " 1   productivity_score  1300 non-null   float64\n",
      " 2   block               1299 non-null   float64\n",
      "dtypes: float64(2), int64(1)\n",
      "memory usage: 30.6 KB\n",
      "None\n"
     ]
    },
    {
     "data": {
      "text/html": [
       "<div>\n",
       "<style scoped>\n",
       "    .dataframe tbody tr th:only-of-type {\n",
       "        vertical-align: middle;\n",
       "    }\n",
       "\n",
       "    .dataframe tbody tr th {\n",
       "        vertical-align: top;\n",
       "    }\n",
       "\n",
       "    .dataframe thead th {\n",
       "        text-align: right;\n",
       "    }\n",
       "</style>\n",
       "<table border=\"1\" class=\"dataframe\">\n",
       "  <thead>\n",
       "    <tr style=\"text-align: right;\">\n",
       "      <th></th>\n",
       "      <th>subject_id</th>\n",
       "      <th>productivity_score</th>\n",
       "      <th>block</th>\n",
       "    </tr>\n",
       "  </thead>\n",
       "  <tbody>\n",
       "    <tr>\n",
       "      <th>0</th>\n",
       "      <td>1</td>\n",
       "      <td>11.9</td>\n",
       "      <td>2.0</td>\n",
       "    </tr>\n",
       "    <tr>\n",
       "      <th>1</th>\n",
       "      <td>2</td>\n",
       "      <td>28.6</td>\n",
       "      <td>3.0</td>\n",
       "    </tr>\n",
       "    <tr>\n",
       "      <th>2</th>\n",
       "      <td>3</td>\n",
       "      <td>22.2</td>\n",
       "      <td>3.0</td>\n",
       "    </tr>\n",
       "    <tr>\n",
       "      <th>3</th>\n",
       "      <td>4</td>\n",
       "      <td>18.4</td>\n",
       "      <td>2.0</td>\n",
       "    </tr>\n",
       "    <tr>\n",
       "      <th>4</th>\n",
       "      <td>5</td>\n",
       "      <td>5.5</td>\n",
       "      <td>1.0</td>\n",
       "    </tr>\n",
       "  </tbody>\n",
       "</table>\n",
       "</div>"
      ],
      "text/plain": [
       "   subject_id  productivity_score  block\n",
       "0           1                11.9    2.0\n",
       "1           2                28.6    3.0\n",
       "2           3                22.2    3.0\n",
       "3           4                18.4    2.0\n",
       "4           5                 5.5    1.0"
      ]
     },
     "execution_count": 17,
     "metadata": {},
     "output_type": "execute_result"
    }
   ],
   "source": [
    "productivity = pd.read_fwf('./data/productivity_subjects2.txt')\n",
    "productivity.drop(\"idx\", axis=\"columns\", inplace=True)\n",
    "print(productivity.info())\n",
    "productivity.head()"
   ]
  },
  {
   "cell_type": "code",
   "execution_count": 18,
   "id": "9e9272a1-a237-4d2b-9423-e841e2c78c6a",
   "metadata": {},
   "outputs": [
    {
     "data": {
      "text/html": [
       "<div>\n",
       "<style scoped>\n",
       "    .dataframe tbody tr th:only-of-type {\n",
       "        vertical-align: middle;\n",
       "    }\n",
       "\n",
       "    .dataframe tbody tr th {\n",
       "        vertical-align: top;\n",
       "    }\n",
       "\n",
       "    .dataframe thead th {\n",
       "        text-align: right;\n",
       "    }\n",
       "</style>\n",
       "<table border=\"1\" class=\"dataframe\">\n",
       "  <thead>\n",
       "    <tr style=\"text-align: right;\">\n",
       "      <th></th>\n",
       "      <th>subject_id</th>\n",
       "      <th>productivity_score</th>\n",
       "      <th>block</th>\n",
       "      <th>Treatment</th>\n",
       "    </tr>\n",
       "  </thead>\n",
       "  <tbody>\n",
       "    <tr>\n",
       "      <th>0</th>\n",
       "      <td>17</td>\n",
       "      <td>9.8</td>\n",
       "      <td>1.0</td>\n",
       "      <td>Bonus</td>\n",
       "    </tr>\n",
       "    <tr>\n",
       "      <th>1</th>\n",
       "      <td>251</td>\n",
       "      <td>9.5</td>\n",
       "      <td>1.0</td>\n",
       "      <td>Profit Sharing</td>\n",
       "    </tr>\n",
       "    <tr>\n",
       "      <th>2</th>\n",
       "      <td>588</td>\n",
       "      <td>4.7</td>\n",
       "      <td>1.0</td>\n",
       "      <td>Work from Home</td>\n",
       "    </tr>\n",
       "    <tr>\n",
       "      <th>3</th>\n",
       "      <td>664</td>\n",
       "      <td>7.9</td>\n",
       "      <td>1.0</td>\n",
       "      <td>Work from Home</td>\n",
       "    </tr>\n",
       "    <tr>\n",
       "      <th>4</th>\n",
       "      <td>355</td>\n",
       "      <td>3.0</td>\n",
       "      <td>1.0</td>\n",
       "      <td>Profit Sharing</td>\n",
       "    </tr>\n",
       "  </tbody>\n",
       "</table>\n",
       "</div>"
      ],
      "text/plain": [
       "   subject_id  productivity_score  block       Treatment\n",
       "0          17                 9.8    1.0           Bonus\n",
       "1         251                 9.5    1.0  Profit Sharing\n",
       "2         588                 4.7    1.0  Work from Home\n",
       "3         664                 7.9    1.0  Work from Home\n",
       "4         355                 3.0    1.0  Profit Sharing"
      ]
     },
     "execution_count": 18,
     "metadata": {},
     "output_type": "execute_result"
    }
   ],
   "source": [
    "# Randomly assign workers to blocks\n",
    "# observed=False : show all values for categorical groupers\n",
    "prod_df = productivity.groupby('block', observed=False)[productivity.columns].apply(\n",
    "    lambda x: x.sample(frac=1)\n",
    ")\n",
    "\n",
    "# Reset the index\n",
    "prod_df = prod_df.reset_index(drop=True)\n",
    "\n",
    "# Assign treatment randomly\n",
    "prod_df['Treatment'] = np.random.choice(\n",
    "  ['Bonus', 'Profit Sharing', 'Work from Home'],\n",
    "  size=len(prod_df)\n",
    ")\n",
    "\n",
    "prod_df.head()"
   ]
  },
  {
   "cell_type": "code",
   "execution_count": 19,
   "id": "c1af5925-f280-4cad-84af-1eee1429e84b",
   "metadata": {},
   "outputs": [
    {
     "data": {
      "image/png": "[encoded data removed]",
      "text/plain": [
       "<Figure size 640x480 with 1 Axes>"
      ]
     },
     "metadata": {},
     "output_type": "display_data"
    }
   ],
   "source": [
    "# visualize how positivity_score varies within blocks\n",
    "sns.boxplot(x='block', \n",
    "            y='productivity_score', \n",
    "            hue='Treatment', \n",
    "            data=prod_df)\n",
    "\n",
    "plt.show()"
   ]
  },
  {
   "cell_type": "markdown",
   "id": "c781c2f1-a7e9-4aa3-a8b7-c20b4bb71697",
   "metadata": {},
   "source": [
    "## ANOVA within blocks of employees\n",
    "\n",
    "Building on the previous analyses with the manufacturing firm, where worker productivity was examined across different blocks and an incentive program was introduced, we'll now delving deeper into the data. The firm, equipped with a more comprehensive dataset in the productivity DataFrame, including 1200 additional employees and their productivity_score, has structured the workforce into three blocks based on productivity levels. Each employee has been randomly assigned one of three incentive options: `Bonus`, `Profit Sharing`, or `Work from Home`.\n",
    "\n",
    "Before assessing the full impact of these incentive treatments on productivity, it's crucial to verify that the initial treatment assignment was indeed random and equitable across the different productivity blocks. This step ensures that any observed differences in productivity post-treatment can be confidently attributed to the incentive programs themselves, rather than **pre-existing disparities** in the blocks."
   ]
  },
  {
   "cell_type": "code",
   "execution_count": 20,
   "id": "17430d53-3bf4-4d90-88fd-c36c9e2078ba",
   "metadata": {},
   "outputs": [
    {
     "name": "stdout",
     "output_type": "stream",
     "text": [
      "block 1: f_stat = 1.8382514541076234, p_value = 0.16039469084784136\n",
      "block 1: f_stat = 0.994809712159812, p_value = 0.3706296638481661\n",
      "block 1: f_stat = 2.0753500900749478, p_value = 0.12673938273581287\n"
     ]
    }
   ],
   "source": [
    "from scipy.stats import f_oneway\n",
    "\n",
    "# Perform the within blocks ANOVA, first grouping by block\n",
    "within_block_anova = prod_df.groupby('block')[prod_df.columns].apply(\n",
    "  # Set function\n",
    "  lambda x: f_oneway(\n",
    "    # Filter Treatment values based on outcome\n",
    "    x[x['Treatment'] == 'Bonus']['productivity_score'], \n",
    "    x[x['Treatment'] == 'Profit Sharing']['productivity_score'],\n",
    "    x[x['Treatment'] == 'Work from Home']['productivity_score'])\n",
    ")\n",
    "# print(type(within_block_anova), within_block_anova.index, type(within_block_anova.index))\n",
    "# print(within_block_anova)\n",
    "print(f\"block 1: f_stat = {within_block_anova[1][0]}, p_value = {within_block_anova[1][1]}\")\n",
    "print(f\"block 1: f_stat = {within_block_anova[2][0]}, p_value = {within_block_anova[2][1]}\")\n",
    "print(f\"block 1: f_stat = {within_block_anova[3][0]}, p_value = {within_block_anova[3][1]}\")"
   ]
  },
  {
   "cell_type": "markdown",
   "id": "741bc9aa-6dee-48a4-9b1d-fabbe194bbbf",
   "metadata": {},
   "source": [
    "At an $\\alpha = 0.05$, only `block` = 1 provide evidence that all 3 treatments are **not** the same."
   ]
  },
  {
   "cell_type": "markdown",
   "id": "37a1e901-bfb1-4d5b-9e0c-3612aebed1f7",
   "metadata": {},
   "source": [
    "## Covariate adjustment in experimental design with chick growth\n",
    "\n",
    "***Scenario:*** We are studying the growth patterns of chicks under various dietary regimens. The data from this study sheds light on the intricate relationship between their respective diets and the consequent impact on their weight. This data includes weight measurements of chicks at different ages, allowing for an exploration of covariate adjustment. `age` serves as a covariate, potentially influencing the outcome variable: the `weight` of the chicks.\n",
    "\n"
   ]
  },
  {
   "cell_type": "code",
   "execution_count": 21,
   "id": "9c890f5f-6be5-4008-8a84-8364e167b1e0",
   "metadata": {},
   "outputs": [
    {
     "name": "stdout",
     "output_type": "stream",
     "text": [
      "(578, 3) \n",
      "\n",
      "    Chick  Diet  weight\n",
      "0       1     1      42\n",
      "1       1     1      51\n",
      "2       1     1      59\n",
      "3       1     1      64\n",
      "4       1     1      76\n",
      "5       1     1      93\n",
      "6       1     1     106\n",
      "7       1     1     125\n",
      "8       1     1     149\n",
      "9       1     1     171\n",
      "10      1     1     199\n",
      "11      1     1     205\n",
      "12      2     1      40\n",
      "13      2     1      49\n",
      "14      2     1      58 \n",
      "\n",
      "(578, 2) \n",
      "\n",
      "    Chick  Time\n",
      "0       1     0\n",
      "1       1     2\n",
      "2       1     4\n",
      "3       1     6\n",
      "4       1     8\n",
      "5       1    10\n",
      "6       1    12\n",
      "7       1    14\n",
      "8       1    16\n",
      "9       1    18\n",
      "10      1    20\n",
      "11      1    21\n",
      "12      2     0\n",
      "13      2     2\n",
      "14      2     4 \n",
      "\n"
     ]
    }
   ],
   "source": [
    "exp_chick_data = pd.read_fwf('./data/exp_chick_data.txt')\n",
    "exp_chick_data.drop('idx', axis=\"columns\", inplace=True)\n",
    "print(exp_chick_data.shape, '\\n')\n",
    "print(exp_chick_data.head(15), '\\n')\n",
    "cov_chick_data = pd.read_fwf('./data/cov_chick_data.txt')\n",
    "cov_chick_data.drop('idx', axis=\"columns\", inplace=True)\n",
    "print(cov_chick_data.shape, '\\n')\n",
    "print(cov_chick_data.head(15), '\\n')"
   ]
  },
  {
   "cell_type": "code",
   "execution_count": 22,
   "id": "9845ad38-022e-4cfc-b1a6-755fa5aae375",
   "metadata": {},
   "outputs": [
    {
     "name": "stdout",
     "output_type": "stream",
     "text": [
      "     Chick  Diet  weight  Time\n",
      "0        1     1      42     0\n",
      "1        1     1      51     2\n",
      "2        1     1      59     4\n",
      "3        1     1      64     6\n",
      "4        1     1      76     8\n",
      "..     ...   ...     ...   ...\n",
      "573     50     4     175    14\n",
      "574     50     4     205    16\n",
      "575     50     4     234    18\n",
      "576     50     4     264    20\n",
      "577     50     4     264    21\n",
      "\n",
      "[578 rows x 4 columns]\n"
     ]
    }
   ],
   "source": [
    "# Join experimental and covariate data\n",
    "merged_chick_data = pd.merge(exp_chick_data, \n",
    "                             cov_chick_data, left_index=True, right_index=True)\n",
    "merged_chick_data.drop('Chick_y', axis=\"columns\", inplace=True)\n",
    "merged_chick_data.rename(columns={\"Chick_x\": \"Chick\"}, inplace=True)\n",
    "# Print the merged data\n",
    "print(merged_chick_data)"
   ]
  },
  {
   "cell_type": "code",
   "execution_count": 23,
   "id": "3e7e0095-ab2b-4eb0-9e29-3165f726fdd8",
   "metadata": {},
   "outputs": [
    {
     "name": "stdout",
     "output_type": "stream",
     "text": [
      "                            OLS Regression Results                            \n",
      "==============================================================================\n",
      "Dep. Variable:                 weight   R-squared:                       0.738\n",
      "Model:                            OLS   Adj. R-squared:                  0.737\n",
      "Method:                 Least Squares   F-statistic:                     809.2\n",
      "Date:                Tue, 17 Jun 2025   Prob (F-statistic):          6.77e-168\n",
      "Time:                        14:21:46   Log-Likelihood:                -2897.1\n",
      "No. Observations:                 578   AIC:                             5800.\n",
      "Df Residuals:                     575   BIC:                             5813.\n",
      "Df Model:                           2                                         \n",
      "Covariance Type:            nonrobust                                         \n",
      "==============================================================================\n",
      "                 coef    std err          t      P>|t|      [0.025      0.975]\n",
      "------------------------------------------------------------------------------\n",
      "Intercept      1.5428      4.043      0.382      0.703      -6.398       9.484\n",
      "Diet          11.7786      1.305      9.023      0.000       9.215      14.343\n",
      "Time           8.7653      0.225     39.030      0.000       8.324       9.206\n",
      "==============================================================================\n",
      "Omnibus:                       75.227   Durbin-Watson:                   0.415\n",
      "Prob(Omnibus):                  0.000   Jarque-Bera (JB):              235.091\n",
      "Skew:                           0.605   Prob(JB):                     8.92e-52\n",
      "Kurtosis:                       5.881   Cond. No.                         35.2\n",
      "==============================================================================\n",
      "\n",
      "Notes:\n",
      "[1] Standard Errors assume that the covariance matrix of the errors is correctly specified.\n"
     ]
    },
    {
     "data": {
      "image/png": "[encoded data removed]",
      "text/plain": [
       "<Figure size 558.875x500 with 1 Axes>"
      ]
     },
     "metadata": {},
     "output_type": "display_data"
    }
   ],
   "source": [
    "from statsmodels.formula.api import ols\n",
    "\n",
    "# ANCOVA with Diet and Time as predictors\n",
    "model = ols('weight ~ Diet + Time', data=merged_chick_data).fit()\n",
    "\n",
    "# Print a summary of the model\n",
    "print(model.summary())\n",
    "\n",
    "# Visualize Diet effects with Time adjustment\n",
    "sns.lmplot(x='Time', y='weight', \n",
    "           hue='Diet', \n",
    "           data=merged_chick_data)\n",
    "plt.show()"
   ]
  },
  {
   "cell_type": "markdown",
   "id": "7d151a4c-64d7-4aee-bac6-9ba2461fdfe1",
   "metadata": {},
   "source": [
    "## Choosing the right statistical test\n",
    "\n",
    "We'll focus on:  t-tests, ANOVA, and chi-square"
   ]
  },
  {
   "cell_type": "code",
   "execution_count": 24,
   "id": "5facc348-ec01-4ea4-b9e3-d7b991887a39",
   "metadata": {},
   "outputs": [
    {
     "name": "stdout",
     "output_type": "stream",
     "text": [
      "(300, 5)\n"
     ]
    },
    {
     "data": {
      "text/html": [
       "<div>\n",
       "<style scoped>\n",
       "    .dataframe tbody tr th:only-of-type {\n",
       "        vertical-align: middle;\n",
       "    }\n",
       "\n",
       "    .dataframe tbody tr th {\n",
       "        vertical-align: top;\n",
       "    }\n",
       "\n",
       "    .dataframe thead th {\n",
       "        text-align: right;\n",
       "    }\n",
       "</style>\n",
       "<table border=\"1\" class=\"dataframe\">\n",
       "  <thead>\n",
       "    <tr style=\"text-align: right;\">\n",
       "      <th></th>\n",
       "      <th>Athlete_ID</th>\n",
       "      <th>Training_Program</th>\n",
       "      <th>Diet_Type</th>\n",
       "      <th>Initial_Fitness</th>\n",
       "      <th>Performance_Inc</th>\n",
       "    </tr>\n",
       "  </thead>\n",
       "  <tbody>\n",
       "    <tr>\n",
       "      <th>0</th>\n",
       "      <td>1</td>\n",
       "      <td>Strength</td>\n",
       "      <td>Keto</td>\n",
       "      <td>Low</td>\n",
       "      <td>8.749524</td>\n",
       "    </tr>\n",
       "    <tr>\n",
       "      <th>1</th>\n",
       "      <td>2</td>\n",
       "      <td>HIIT</td>\n",
       "      <td>Plant-Based</td>\n",
       "      <td>High</td>\n",
       "      <td>9.452781</td>\n",
       "    </tr>\n",
       "    <tr>\n",
       "      <th>2</th>\n",
       "      <td>3</td>\n",
       "      <td>Strength</td>\n",
       "      <td>Plant-Based</td>\n",
       "      <td>Low</td>\n",
       "      <td>13.928506</td>\n",
       "    </tr>\n",
       "    <tr>\n",
       "      <th>3</th>\n",
       "      <td>4</td>\n",
       "      <td>Strength</td>\n",
       "      <td>Plant-Based</td>\n",
       "      <td>High</td>\n",
       "      <td>9.605557</td>\n",
       "    </tr>\n",
       "    <tr>\n",
       "      <th>4</th>\n",
       "      <td>5</td>\n",
       "      <td>HIIT</td>\n",
       "      <td>Plant-Based</td>\n",
       "      <td>Low</td>\n",
       "      <td>7.547894</td>\n",
       "    </tr>\n",
       "  </tbody>\n",
       "</table>\n",
       "</div>"
      ],
      "text/plain": [
       "   Athlete_ID Training_Program    Diet_Type Initial_Fitness  Performance_Inc\n",
       "0           1         Strength         Keto             Low         8.749524\n",
       "1           2             HIIT  Plant-Based            High         9.452781\n",
       "2           3         Strength  Plant-Based             Low        13.928506\n",
       "3           4         Strength  Plant-Based            High         9.605557\n",
       "4           5             HIIT  Plant-Based             Low         7.547894"
      ]
     },
     "execution_count": 24,
     "metadata": {},
     "output_type": "execute_result"
    }
   ],
   "source": [
    "athletic_perf_entire = pd.read_csv('./data/athletic_perf.csv')\n",
    "print(athletic_perf_entire.shape)\n",
    "athletic_perf_entire.head()"
   ]
  },
  {
   "cell_type": "code",
   "execution_count": 25,
   "id": "17009406-7552-4a8f-898b-25cc9ddced9e",
   "metadata": {},
   "outputs": [
    {
     "data": {
      "text/html": [
       "<div>\n",
       "<style scoped>\n",
       "    .dataframe tbody tr th:only-of-type {\n",
       "        vertical-align: middle;\n",
       "    }\n",
       "\n",
       "    .dataframe tbody tr th {\n",
       "        vertical-align: top;\n",
       "    }\n",
       "\n",
       "    .dataframe thead th {\n",
       "        text-align: right;\n",
       "    }\n",
       "</style>\n",
       "<table border=\"1\" class=\"dataframe\">\n",
       "  <thead>\n",
       "    <tr style=\"text-align: right;\">\n",
       "      <th></th>\n",
       "      <th>Athlete_ID</th>\n",
       "      <th>Training_Program</th>\n",
       "      <th>Diet_Type</th>\n",
       "      <th>Initial_Fitness</th>\n",
       "      <th>Performance_Inc</th>\n",
       "    </tr>\n",
       "  </thead>\n",
       "  <tbody>\n",
       "    <tr>\n",
       "      <th>29</th>\n",
       "      <td>30</td>\n",
       "      <td>Strength</td>\n",
       "      <td>Keto</td>\n",
       "      <td>Medium</td>\n",
       "      <td>7.384686</td>\n",
       "    </tr>\n",
       "    <tr>\n",
       "      <th>163</th>\n",
       "      <td>164</td>\n",
       "      <td>Endurance</td>\n",
       "      <td>Plant-Based</td>\n",
       "      <td>Medium</td>\n",
       "      <td>11.614835</td>\n",
       "    </tr>\n",
       "    <tr>\n",
       "      <th>166</th>\n",
       "      <td>167</td>\n",
       "      <td>Endurance</td>\n",
       "      <td>Plant-Based</td>\n",
       "      <td>High</td>\n",
       "      <td>9.113040</td>\n",
       "    </tr>\n",
       "    <tr>\n",
       "      <th>185</th>\n",
       "      <td>186</td>\n",
       "      <td>HIIT</td>\n",
       "      <td>High-Protein</td>\n",
       "      <td>Low</td>\n",
       "      <td>6.776078</td>\n",
       "    </tr>\n",
       "    <tr>\n",
       "      <th>288</th>\n",
       "      <td>289</td>\n",
       "      <td>Endurance</td>\n",
       "      <td>Keto</td>\n",
       "      <td>Low</td>\n",
       "      <td>11.039744</td>\n",
       "    </tr>\n",
       "  </tbody>\n",
       "</table>\n",
       "</div>"
      ],
      "text/plain": [
       "     Athlete_ID Training_Program     Diet_Type Initial_Fitness  \\\n",
       "29           30         Strength          Keto          Medium   \n",
       "163         164        Endurance   Plant-Based          Medium   \n",
       "166         167        Endurance   Plant-Based            High   \n",
       "185         186             HIIT  High-Protein             Low   \n",
       "288         289        Endurance          Keto             Low   \n",
       "\n",
       "     Performance_Inc  \n",
       "29          7.384686  \n",
       "163        11.614835  \n",
       "166         9.113040  \n",
       "185         6.776078  \n",
       "288        11.039744  "
      ]
     },
     "execution_count": 25,
     "metadata": {},
     "output_type": "execute_result"
    }
   ],
   "source": [
    "sample_example = [167, 289, 164, 30, 186]\n",
    "bool_mask = athletic_perf_entire['Athlete_ID'].isin(sample_example)\n",
    "athletic_perf_sample = athletic_perf_entire.loc[bool_mask, :]\n",
    "athletic_perf_sample"
   ]
  },
  {
   "cell_type": "markdown",
   "id": "30e8699e-3b9f-41b5-97aa-10cfa5f8c13d",
   "metadata": {},
   "source": [
    "### Independent samples t-test\n",
    "+ Comparing means of two groups\n",
    "+ **Assumptions:** normal distribution, equal variances\n",
    "+ Insufficient evidence of a difference in means at 5% significance"
   ]
  },
  {
   "cell_type": "code",
   "execution_count": 26,
   "id": "2be22fc5-8280-4e60-aae4-d58551dfe168",
   "metadata": {},
   "outputs": [
    {
     "name": "stdout",
     "output_type": "stream",
     "text": [
      "T-statistic: 0.20671020082912311, P-value: 0.8364563849070619\n"
     ]
    }
   ],
   "source": [
    "from scipy.stats import ttest_ind\n",
    "# group1 = athletic_perf_sample[athletic_perf_sample['Training_Program'] == 'HIIT']['Performance_Inc']\n",
    "# group2 = athletic_perf_sample[athletic_perf_sample['Training_Program'] == 'Endurance']['Performance_Inc']\n",
    "\n",
    "group1 = athletic_perf_entire[athletic_perf_entire['Training_Program'] == 'HIIT']['Performance_Inc']\n",
    "group2 = athletic_perf_entire[athletic_perf_entire['Training_Program'] == 'Endurance']['Performance_Inc']\n",
    "\n",
    "t_stat, p_val = ttest_ind(group1, group2)\n",
    "print(f\"T-statistic: {t_stat}, P-value: {p_val}\")"
   ]
  },
  {
   "cell_type": "markdown",
   "id": "8046064e-1dd7-4d7c-851f-10222e330fae",
   "metadata": {},
   "source": [
    "### One-way ANOVA\n",
    "+ Comparing means across multiple (>2) groups\n",
    "+ **Assumption:** equal variances among groups\n",
    "+ Insufficient evidence of a difference in means at 5% significance"
   ]
  },
  {
   "cell_type": "code",
   "execution_count": 27,
   "id": "e5c2e641-9d26-47ed-bf56-dc864aa4a16f",
   "metadata": {},
   "outputs": [
    {
     "name": "stdout",
     "output_type": "stream",
     "text": [
      "F-statistic: 1.5270022393256704, P-value: 0.21888590090505408\n"
     ]
    }
   ],
   "source": [
    "from scipy.stats import f_oneway\n",
    "\n",
    "f_stat, p_val = f_oneway(athletic_perf_entire.loc[athletic_perf_entire['Training_Program'] == 'HIIT', 'Performance_Inc'],\n",
    "                         athletic_perf_entire.loc[athletic_perf_entire['Training_Program'] == 'Endurance', 'Performance_Inc'],\n",
    "                         athletic_perf_entire.loc[athletic_perf_entire['Training_Program'] == 'Strength', 'Performance_Inc'])\n",
    "\n",
    "print(f\"F-statistic: {f_stat}, P-value: {p_val}\")"
   ]
  },
  {
   "cell_type": "markdown",
   "id": "20a7627b-a208-4a72-b27c-64115cc3f29c",
   "metadata": {},
   "source": [
    "## Chi-square test of association\n",
    "+ Testing relationships between categorical variables\n",
    "+ No assumptions about distributions\n",
    "+ Insufficient evidence of an association at 5% (alpha) significance"
   ]
  },
  {
   "cell_type": "code",
   "execution_count": 28,
   "id": "1c14bf27-df44-4925-ae17-86f77a618fa8",
   "metadata": {},
   "outputs": [
    {
     "data": {
      "text/html": [
       "<div>\n",
       "<style scoped>\n",
       "    .dataframe tbody tr th:only-of-type {\n",
       "        vertical-align: middle;\n",
       "    }\n",
       "\n",
       "    .dataframe tbody tr th {\n",
       "        vertical-align: top;\n",
       "    }\n",
       "\n",
       "    .dataframe thead th {\n",
       "        text-align: right;\n",
       "    }\n",
       "</style>\n",
       "<table border=\"1\" class=\"dataframe\">\n",
       "  <thead>\n",
       "    <tr style=\"text-align: right;\">\n",
       "      <th>Diet_Type</th>\n",
       "      <th>High-Protein</th>\n",
       "      <th>Keto</th>\n",
       "      <th>Plant-Based</th>\n",
       "    </tr>\n",
       "    <tr>\n",
       "      <th>Training_Program</th>\n",
       "      <th></th>\n",
       "      <th></th>\n",
       "      <th></th>\n",
       "    </tr>\n",
       "  </thead>\n",
       "  <tbody>\n",
       "    <tr>\n",
       "      <th>Endurance</th>\n",
       "      <td>33</td>\n",
       "      <td>28</td>\n",
       "      <td>33</td>\n",
       "    </tr>\n",
       "    <tr>\n",
       "      <th>HIIT</th>\n",
       "      <td>27</td>\n",
       "      <td>32</td>\n",
       "      <td>40</td>\n",
       "    </tr>\n",
       "    <tr>\n",
       "      <th>Strength</th>\n",
       "      <td>38</td>\n",
       "      <td>29</td>\n",
       "      <td>40</td>\n",
       "    </tr>\n",
       "  </tbody>\n",
       "</table>\n",
       "</div>"
      ],
      "text/plain": [
       "Diet_Type         High-Protein  Keto  Plant-Based\n",
       "Training_Program                                 \n",
       "Endurance                   33    28           33\n",
       "HIIT                        27    32           40\n",
       "Strength                    38    29           40"
      ]
     },
     "execution_count": 28,
     "metadata": {},
     "output_type": "execute_result"
    }
   ],
   "source": [
    "from scipy.stats import chi2_contingency \n",
    "\n",
    "contingency_table = pd.crosstab(athletic_perf_entire['Training_Program'], \n",
    "                                athletic_perf_entire['Diet_Type'])\n",
    "contingency_table"
   ]
  },
  {
   "cell_type": "code",
   "execution_count": 29,
   "id": "80371c0b-5e37-41f3-ace2-534a87dfaecb",
   "metadata": {},
   "outputs": [
    {
     "name": "stdout",
     "output_type": "stream",
     "text": [
      "Chi2-statistic: 2.154450885821988, P-value: 0.7073764021451128\n"
     ]
    }
   ],
   "source": [
    "chi2_stat, p_val, dof, expected = chi2_contingency(contingency_table) \n",
    "print(f\"Chi2-statistic: {chi2_stat}, P-value: {p_val}\") "
   ]
  },
  {
   "cell_type": "markdown",
   "id": "e9e77d44-7d21-443f-a600-c3bcf5d47217",
   "metadata": {},
   "source": [
    "## Choosing the right test: petrochemicals\n",
    "\n",
    "In a chemistry research lab, scientists are examining the efficiency of three well-known catalysts—Palladium (Pd), Platinum (Pt), and Nickel (Ni)—in facilitating a particular reaction. Each catalyst is used in a set of identical reactions under controlled conditions, and the time taken for each reaction to reach completion is meticulously recorded. Your goal is to compare the mean reaction times across the three catalyst groups to identify which catalyst, if any, has a significantly different reaction time."
   ]
  },
  {
   "cell_type": "code",
   "execution_count": 30,
   "id": "e300279f-87fb-45ec-a80d-2859971cb610",
   "metadata": {},
   "outputs": [
    {
     "data": {
      "text/html": [
       "<div>\n",
       "<style scoped>\n",
       "    .dataframe tbody tr th:only-of-type {\n",
       "        vertical-align: middle;\n",
       "    }\n",
       "\n",
       "    .dataframe tbody tr th {\n",
       "        vertical-align: top;\n",
       "    }\n",
       "\n",
       "    .dataframe thead th {\n",
       "        text-align: right;\n",
       "    }\n",
       "</style>\n",
       "<table border=\"1\" class=\"dataframe\">\n",
       "  <thead>\n",
       "    <tr style=\"text-align: right;\">\n",
       "      <th></th>\n",
       "      <th>Catalyst</th>\n",
       "      <th>Reaction_Time</th>\n",
       "    </tr>\n",
       "  </thead>\n",
       "  <tbody>\n",
       "    <tr>\n",
       "      <th>0</th>\n",
       "      <td>Palladium</td>\n",
       "      <td>47.483571</td>\n",
       "    </tr>\n",
       "    <tr>\n",
       "      <th>1</th>\n",
       "      <td>Palladium</td>\n",
       "      <td>44.308678</td>\n",
       "    </tr>\n",
       "    <tr>\n",
       "      <th>2</th>\n",
       "      <td>Palladium</td>\n",
       "      <td>48.238443</td>\n",
       "    </tr>\n",
       "    <tr>\n",
       "      <th>3</th>\n",
       "      <td>Palladium</td>\n",
       "      <td>52.615149</td>\n",
       "    </tr>\n",
       "    <tr>\n",
       "      <th>4</th>\n",
       "      <td>Palladium</td>\n",
       "      <td>43.829233</td>\n",
       "    </tr>\n",
       "  </tbody>\n",
       "</table>\n",
       "</div>"
      ],
      "text/plain": [
       "    Catalyst  Reaction_Time\n",
       "0  Palladium      47.483571\n",
       "1  Palladium      44.308678\n",
       "2  Palladium      48.238443\n",
       "3  Palladium      52.615149\n",
       "4  Palladium      43.829233"
      ]
     },
     "execution_count": 30,
     "metadata": {},
     "output_type": "execute_result"
    }
   ],
   "source": [
    "chemical_reactions = pd.read_csv('./data/chemical_reactions.csv')\n",
    "chemical_reactions.head()"
   ]
  },
  {
   "cell_type": "code",
   "execution_count": 31,
   "id": "af46b531-46ea-44a4-9528-53f297860d04",
   "metadata": {},
   "outputs": [
    {
     "name": "stdout",
     "output_type": "stream",
     "text": [
      "F-statistic: 478.7412625615453, P-value: 4.710677600047866e-151\n"
     ]
    }
   ],
   "source": [
    "catalyst_types = ['Palladium', 'Platinum', 'Nickel']\n",
    "\n",
    "# Collect reaction times for each catalyst into a list\n",
    "groups = [chemical_reactions[chemical_reactions['Catalyst'] == catalyst]['Reaction_Time'] for catalyst in catalyst_types]\n",
    "\n",
    "# Perform the one-way ANOVA across the three groups\n",
    "f_stat, p_val = f_oneway(*groups)\n",
    "print(f\"F-statistic: {f_stat}, P-value: {p_val}\")"
   ]
  },
  {
   "cell_type": "markdown",
   "id": "8bb388aa-c267-4db9-8b66-dd80d9d6b764",
   "metadata": {},
   "source": [
    "### Choosing the right test: human resources\n",
    "\n",
    "In human resources, it's essential to understand the relationships between different variables that might influence employee satisfaction or turnover. Consider a scenario where an HR department is interested in understanding the association between the department in which employees work and their participation in a new workplace wellness program. The HR team has compiled this data over the past two years and has asked you if there's any significant association between an employee's department and their enrolling in the wellness program."
   ]
  },
  {
   "cell_type": "code",
   "execution_count": 32,
   "id": "451e398e-b6f2-46b6-87b3-e918ee4abc22",
   "metadata": {},
   "outputs": [
    {
     "name": "stdout",
     "output_type": "stream",
     "text": [
      "Index(['Department', 'Wellness_Program_Status'], dtype='object')\n",
      "['Marketing' 'Sales' 'Engineering']\n"
     ]
    },
    {
     "data": {
      "text/html": [
       "<div>\n",
       "<style scoped>\n",
       "    .dataframe tbody tr th:only-of-type {\n",
       "        vertical-align: middle;\n",
       "    }\n",
       "\n",
       "    .dataframe tbody tr th {\n",
       "        vertical-align: top;\n",
       "    }\n",
       "\n",
       "    .dataframe thead th {\n",
       "        text-align: right;\n",
       "    }\n",
       "</style>\n",
       "<table border=\"1\" class=\"dataframe\">\n",
       "  <thead>\n",
       "    <tr style=\"text-align: right;\">\n",
       "      <th></th>\n",
       "      <th>Department</th>\n",
       "      <th>Wellness_Program_Status</th>\n",
       "    </tr>\n",
       "  </thead>\n",
       "  <tbody>\n",
       "    <tr>\n",
       "      <th>0</th>\n",
       "      <td>Marketing</td>\n",
       "      <td>Enrolled</td>\n",
       "    </tr>\n",
       "    <tr>\n",
       "      <th>1</th>\n",
       "      <td>Sales</td>\n",
       "      <td>Enrolled</td>\n",
       "    </tr>\n",
       "    <tr>\n",
       "      <th>2</th>\n",
       "      <td>Marketing</td>\n",
       "      <td>Not Enrolled</td>\n",
       "    </tr>\n",
       "    <tr>\n",
       "      <th>3</th>\n",
       "      <td>Marketing</td>\n",
       "      <td>Not Enrolled</td>\n",
       "    </tr>\n",
       "    <tr>\n",
       "      <th>4</th>\n",
       "      <td>Sales</td>\n",
       "      <td>Enrolled</td>\n",
       "    </tr>\n",
       "  </tbody>\n",
       "</table>\n",
       "</div>"
      ],
      "text/plain": [
       "  Department Wellness_Program_Status\n",
       "0  Marketing                Enrolled\n",
       "1      Sales                Enrolled\n",
       "2  Marketing            Not Enrolled\n",
       "3  Marketing            Not Enrolled\n",
       "4      Sales                Enrolled"
      ]
     },
     "execution_count": 32,
     "metadata": {},
     "output_type": "execute_result"
    }
   ],
   "source": [
    "hr_wellness = pd.read_csv('./data/hr_wellness.csv')\n",
    "print(hr_wellness.columns)\n",
    "print(hr_wellness['Department'].unique())\n",
    "hr_wellness.head()"
   ]
  },
  {
   "cell_type": "code",
   "execution_count": 33,
   "id": "10ce3131-b011-4ead-823d-153bed213b5b",
   "metadata": {},
   "outputs": [
    {
     "name": "stdout",
     "output_type": "stream",
     "text": [
      "Chi2-statistic: 3.4775739037369617, P-value: 0.17573344450112738\n"
     ]
    }
   ],
   "source": [
    "# create contingency table\n",
    "contingency_table = pd.crosstab(\n",
    "  hr_wellness['Department'], \n",
    "  hr_wellness['Wellness_Program_Status']\n",
    ")\n",
    "\n",
    "# perform chi-square test of association\n",
    "chi2_stat, p_val, dof, expected = chi2_contingency(contingency_table)\n",
    "print(f\"Chi2-statistic: {chi2_stat}, P-value: {p_val}\")"
   ]
  },
  {
   "cell_type": "markdown",
   "id": "ac5bdd9c-847c-49f0-b019-0b65de58235f",
   "metadata": {},
   "source": [
    "There's no significant association between department and enrollment in the wellness program, as the P-value is larger than `0.05`."
   ]
  },
  {
   "cell_type": "markdown",
   "id": "70ec9fa9-6d39-46c9-9326-b188b6b02221",
   "metadata": {},
   "source": [
    "## Choosing the right test: finance\n",
    "\n",
    "In the realm of finance, investment strategists are continually evaluating different approaches to maximize returns. Consider a scenario where a financial firm wishes to assess the effectiveness of two investment strategies: \"Quantitative Analysis\" and \"Fundamental Analysis\". The firm has applied each strategy to a separate set of investment portfolios for a year and now asks you to compare the annual returns to determine if there is any difference in strategy returns by comparing the mean returns of the two groups.\n",
    "\n",
    "This is job for the ***independent t-test***."
   ]
  },
  {
   "cell_type": "code",
   "execution_count": 34,
   "id": "ec62a117-0171-4a9b-8264-66b217585678",
   "metadata": {},
   "outputs": [
    {
     "name": "stdout",
     "output_type": "stream",
     "text": [
      "Index(['Strategy_Type', 'Annual_Return'], dtype='object')\n"
     ]
    },
    {
     "data": {
      "text/html": [
       "<div>\n",
       "<style scoped>\n",
       "    .dataframe tbody tr th:only-of-type {\n",
       "        vertical-align: middle;\n",
       "    }\n",
       "\n",
       "    .dataframe tbody tr th {\n",
       "        vertical-align: top;\n",
       "    }\n",
       "\n",
       "    .dataframe thead th {\n",
       "        text-align: right;\n",
       "    }\n",
       "</style>\n",
       "<table border=\"1\" class=\"dataframe\">\n",
       "  <thead>\n",
       "    <tr style=\"text-align: right;\">\n",
       "      <th></th>\n",
       "      <th>Strategy_Type</th>\n",
       "      <th>Annual_Return</th>\n",
       "    </tr>\n",
       "  </thead>\n",
       "  <tbody>\n",
       "    <tr>\n",
       "      <th>0</th>\n",
       "      <td>Quantitative</td>\n",
       "      <td>10.597379</td>\n",
       "    </tr>\n",
       "    <tr>\n",
       "      <th>1</th>\n",
       "      <td>Quantitative</td>\n",
       "      <td>1.656248</td>\n",
       "    </tr>\n",
       "    <tr>\n",
       "      <th>2</th>\n",
       "      <td>Quantitative</td>\n",
       "      <td>9.202100</td>\n",
       "    </tr>\n",
       "    <tr>\n",
       "      <th>3</th>\n",
       "      <td>Quantitative</td>\n",
       "      <td>3.980213</td>\n",
       "    </tr>\n",
       "    <tr>\n",
       "      <th>4</th>\n",
       "      <td>Quantitative</td>\n",
       "      <td>8.086720</td>\n",
       "    </tr>\n",
       "  </tbody>\n",
       "</table>\n",
       "</div>"
      ],
      "text/plain": [
       "  Strategy_Type  Annual_Return\n",
       "0  Quantitative      10.597379\n",
       "1  Quantitative       1.656248\n",
       "2  Quantitative       9.202100\n",
       "3  Quantitative       3.980213\n",
       "4  Quantitative       8.086720"
      ]
     },
     "execution_count": 34,
     "metadata": {},
     "output_type": "execute_result"
    }
   ],
   "source": [
    "investment_returns = pd.read_csv('./data/investment_returns.csv')\n",
    "print(investment_returns.columns)\n",
    "# print(investment_returns['Strategy_Type'].unique())  # ['Quantitative' 'Fundamental']\n",
    "investment_returns.head()"
   ]
  },
  {
   "cell_type": "code",
   "execution_count": 35,
   "id": "86b49583-49f2-4b29-8185-3a2768608ef3",
   "metadata": {},
   "outputs": [
    {
     "name": "stdout",
     "output_type": "stream",
     "text": [
      "T-statistic: 7.784788496693728, P-value: 2.0567003424807143e-14\n"
     ]
    }
   ],
   "source": [
    "from scipy.stats import ttest_ind\n",
    "\n",
    "# Separate the annual returns by strategy type\n",
    "quantitative_returns = investment_returns[investment_returns['Strategy_Type'] == 'Quantitative']['Annual_Return']\n",
    "fundamental_returns = investment_returns[investment_returns['Strategy_Type'] == 'Fundamental']['Annual_Return']\n",
    "\n",
    "# independent samples t-test between the two groups\n",
    "t_stat, p_val = ttest_ind(quantitative_returns, fundamental_returns)\n",
    "print(f\"T-statistic: {t_stat}, P-value: {p_val}\")"
   ]
  },
  {
   "cell_type": "markdown",
   "id": "768b4a7e-275c-4d5b-a2c0-658df71cc4e8",
   "metadata": {},
   "source": [
    "## Post-hoc analysis following ANOVA\n",
    "\n",
    "+ Tukey's HSD (Honest Significant Difference)\n",
    "  + Robust for multiple comparisons\n",
    "  + Best for broader comparisons\n",
    "+ Bonferroni Correction\n",
    "  + Adjusts p-values to control for Type I errors\n",
    "  + Best for focused tests"
   ]
  },
  {
   "cell_type": "markdown",
   "id": "d5375b45-5615-43b6-8d1a-140f02e2250e",
   "metadata": {},
   "source": [
    "## Anxiety treatments ANOVA\n",
    "\n",
    "***Senario:*** Psychologists conducted a study to compare the effectiveness of three types of therapy on reducing anxiety levels: Cognitive Behavioral Therapy (CBT), Dialectical Behavior Therapy (DBT), and Acceptance and Commitment Therapy (ACT). Participants were randomly assigned to one of the three therapy groups, and their anxiety levels were measured before and after the therapy sessions. The psychologists have asked you to determine if there are any significant differences in the effectiveness of these therapies."
   ]
  },
  {
   "cell_type": "code",
   "execution_count": 36,
   "id": "234c4122-fe4c-4fbd-b6c6-8996a8207880",
   "metadata": {},
   "outputs": [
    {
     "data": {
      "text/html": [
       "<div>\n",
       "<style scoped>\n",
       "    .dataframe tbody tr th:only-of-type {\n",
       "        vertical-align: middle;\n",
       "    }\n",
       "\n",
       "    .dataframe tbody tr th {\n",
       "        vertical-align: top;\n",
       "    }\n",
       "\n",
       "    .dataframe thead th {\n",
       "        text-align: right;\n",
       "    }\n",
       "</style>\n",
       "<table border=\"1\" class=\"dataframe\">\n",
       "  <thead>\n",
       "    <tr style=\"text-align: right;\">\n",
       "      <th></th>\n",
       "      <th>Therapy_Type</th>\n",
       "      <th>Anxiety_Reduction</th>\n",
       "    </tr>\n",
       "  </thead>\n",
       "  <tbody>\n",
       "    <tr>\n",
       "      <th>0</th>\n",
       "      <td>ACT</td>\n",
       "      <td>17.484</td>\n",
       "    </tr>\n",
       "    <tr>\n",
       "      <th>1</th>\n",
       "      <td>DBT</td>\n",
       "      <td>14.309</td>\n",
       "    </tr>\n",
       "    <tr>\n",
       "      <th>2</th>\n",
       "      <td>ACT</td>\n",
       "      <td>18.238</td>\n",
       "    </tr>\n",
       "    <tr>\n",
       "      <th>3</th>\n",
       "      <td>CBT</td>\n",
       "      <td>22.615</td>\n",
       "    </tr>\n",
       "    <tr>\n",
       "      <th>4</th>\n",
       "      <td>DBT</td>\n",
       "      <td>13.829</td>\n",
       "    </tr>\n",
       "  </tbody>\n",
       "</table>\n",
       "</div>"
      ],
      "text/plain": [
       "  Therapy_Type  Anxiety_Reduction\n",
       "0          ACT             17.484\n",
       "1          DBT             14.309\n",
       "2          ACT             18.238\n",
       "3          CBT             22.615\n",
       "4          DBT             13.829"
      ]
     },
     "execution_count": 36,
     "metadata": {},
     "output_type": "execute_result"
    }
   ],
   "source": [
    "therapy_outcomes = pd.read_fwf('./data/therapy_outcomes.txt')\n",
    "therapy_outcomes.drop('idx', axis='columns', inplace=True)\n",
    "therapy_outcomes.head()"
   ]
  },
  {
   "cell_type": "code",
   "execution_count": 37,
   "id": "ac666019-f7ac-428f-af2a-672ecc96d070",
   "metadata": {},
   "outputs": [
    {
     "name": "stdout",
     "output_type": "stream",
     "text": [
      "              Anxiety_Reduction\n",
      "Therapy_Type                   \n",
      "ACT                   14.929203\n",
      "CBT                   14.962154\n",
      "DBT                   15.729271\n"
     ]
    }
   ],
   "source": [
    "# Pivot to view the mean anxiety reduction for each therapy\n",
    "pivot_table = therapy_outcomes.pivot_table(\n",
    "    values='Anxiety_Reduction', \n",
    "    index='Therapy_Type', \n",
    "    aggfunc=\"mean\")\n",
    "print(pivot_table)"
   ]
  },
  {
   "cell_type": "markdown",
   "id": "df27befe-9f43-47de-b916-b7e5138b3bf2",
   "metadata": {},
   "source": [
    "### Are the difference between the mean shown above significant?\n",
    "\n",
    "+ Test with ANOVA\n",
    "+ Test with Tukey's HSD test"
   ]
  },
  {
   "cell_type": "code",
   "execution_count": 38,
   "id": "d6f101b8-5dd2-4ad1-b148-2d1235273f10",
   "metadata": {},
   "outputs": [
    {
     "name": "stdout",
     "output_type": "stream",
     "text": [
      "0.019577165206377665\n"
     ]
    }
   ],
   "source": [
    "# Create groups to prepare the data for ANOVA\n",
    "therapy_types = ['CBT', 'DBT', 'ACT']\n",
    "groups = [therapy_outcomes[therapy_outcomes['Therapy_Type'] == ttype]['Anxiety_Reduction']\n",
    "          for ttype in therapy_types]\n",
    "# Conduct ANOVA\n",
    "f_stat, p_val = f_oneway(*groups)\n",
    "print(p_val)"
   ]
  },
  {
   "cell_type": "markdown",
   "id": "4db38ff1-1f00-4260-a6c4-85dea9cd29f9",
   "metadata": {},
   "source": [
    "### Tukey's HSD test\n",
    "\n",
    "For the ***ANOVA***, since `0.0196` < `alpha = 0.05`, we reject the null hypothesis that all means are the same. However, we don't know which difference pair is significant. The ***Tukey's HSD test*** will shine some light on this question."
   ]
  },
  {
   "cell_type": "code",
   "execution_count": 39,
   "id": "ccf847c6-23af-4f3a-a9d1-5c7b728bfb9c",
   "metadata": {},
   "outputs": [
    {
     "name": "stdout",
     "output_type": "stream",
     "text": [
      "Multiple Comparison of Means - Tukey HSD, FWER=0.05\n",
      "===================================================\n",
      "group1 group2 meandiff p-adj   lower  upper  reject\n",
      "---------------------------------------------------\n",
      "   ACT    CBT    0.033 0.9941 -0.7136 0.7795  False\n",
      "   ACT    DBT   0.8001 0.0358  0.0418 1.5583   True\n",
      "   CBT    DBT   0.7671 0.0433  0.0181 1.5161   True\n",
      "---------------------------------------------------\n"
     ]
    }
   ],
   "source": [
    "from statsmodels.stats.multicomp import pairwise_tukeyhsd\n",
    "\n",
    "# Perform Tukey's HSD test\n",
    "tukey_results = pairwise_tukeyhsd(\n",
    "    therapy_outcomes[\"Anxiety_Reduction\"], \n",
    "    therapy_outcomes[\"Therapy_Type\"],\n",
    "    alpha=0.05\n",
    ")\n",
    "\n",
    "print(tukey_results)"
   ]
  },
  {
   "cell_type": "markdown",
   "id": "91f1a2a4-5458-4264-8f4f-78ed192adcb8",
   "metadata": {},
   "source": [
    "## Applying Bonferoni correction\n",
    "\n",
    "After identifying significant differences between therapy groups with Tukey's HSD, let's see if we can confirm our findings with the ***Bonferroni correction***. The Bonferroni correction is a conservative statistical adjustment used to counteract the problem of multiple comparisons. It reduces the chance of obtaining false-positive results by adjusting the significance level. In the context of our study on the effectiveness of CBT, DBT, and ACT, applying the Bonferroni correction will help ensure that the significant differences we observe between therapy groups are not due to chance."
   ]
  },
  {
   "cell_type": "code",
   "execution_count": 40,
   "id": "0fec0fcb-f442-4dea-9dd9-20c3c4db8b76",
   "metadata": {},
   "outputs": [
    {
     "name": "stdout",
     "output_type": "stream",
     "text": [
      "[0.04519159 1.         0.04606889]\n"
     ]
    }
   ],
   "source": [
    "from scipy.stats import ttest_ind \n",
    "from statsmodels.sandbox.stats.multicomp import multipletests\n",
    "\n",
    "p_values = []\n",
    "\n",
    "therapy_pairs = [('CBT', 'DBT'), ('CBT', 'ACT'), ('DBT', 'ACT')]\n",
    "\n",
    "# Conduct t-tests and collect P-values\n",
    "for pair in therapy_pairs:\n",
    "    group1 = therapy_outcomes[therapy_outcomes['Therapy_Type'] == pair[0]]['Anxiety_Reduction']\n",
    "    group2 = therapy_outcomes[therapy_outcomes['Therapy_Type'] == pair[1]]['Anxiety_Reduction']\n",
    "    t_stat, p_val = ttest_ind(group1, group2)\n",
    "    p_values.append(p_val)\n",
    "\n",
    "# Apply Bonferroni correction\n",
    "print(multipletests(p_values, alpha=0.05, method='bonferroni')[1])"
   ]
  },
  {
   "cell_type": "markdown",
   "id": "ab1a9c4f-f7a6-4884-ad65-a52fe493cdf0",
   "metadata": {},
   "source": [
    "Here, we again see that **ACT and CBT** (the middle of the three pairs) don't differ significantly from this experiment due to the corrected P-value of 1. This makes sense intuitively given that:\n",
    "\n",
    "ACT mean = 14.929203  \n",
    "CBT mean = 14.962154"
   ]
  },
  {
   "cell_type": "markdown",
   "id": "b0846340-b589-441b-a7fa-7cffd2c697d1",
   "metadata": {},
   "source": [
    "## P-values, alpha, and errors\n",
    "\n",
    "+ **P-values:** probability of observing our data if the null hypothesis was true\n",
    "+ α: threshold at which we consider our results *statistically significant*\n",
    "+ P-value ≤ α: Reject null in favor of alternative hypothesis\n",
    "\n",
    "## More on alpha\n",
    "+ Common values: 0.05, 0.01, and 0.10\n",
    "  + Reflecting a 5%, 1%, and 10% probability of making a Type I error\n",
    "+ Choosing an α\n",
    "  + Based on the context of the study\n",
    "  + Balancing a tolerance for Type I (rejecting $H_0$ when it is true) and Type II (failing to reject $H_0$ when it is false) errors\n",
    "+ Conventions:\n",
    "  + 0.05 (5%): Most common, used as a convention\n",
    "  + 0.01 (1%): More stringest testing, where **cost of Type I error is high**\n",
    "  + 0.10 (10%): Sometimes in preliminary studies, where **higher tolerance for Type I error**"
   ]
  },
  {
   "cell_type": "code",
   "execution_count": null,
   "id": "cb9697a0-7122-41b0-8766-d365f04b4383",
   "metadata": {},
   "outputs": [],
   "source": []
  },
  {
   "cell_type": "code",
   "execution_count": null,
   "id": "e11934e8-10dd-4fdf-ab4a-8cefc925db68",
   "metadata": {},
   "outputs": [],
   "source": []
  },
  {
   "cell_type": "code",
   "execution_count": null,
   "id": "c1da6cdd-8760-4753-969d-c401577886b9",
   "metadata": {},
   "outputs": [],
   "source": []
  },
  {
   "cell_type": "code",
   "execution_count": null,
   "id": "083ed06f-8b57-470b-a6fa-a82823e1e1d1",
   "metadata": {},
   "outputs": [],
   "source": []
  },
  {
   "cell_type": "code",
   "execution_count": null,
   "id": "4731ebf3-d498-4c80-a702-c5115393cb25",
   "metadata": {},
   "outputs": [],
   "source": []
  },
  {
   "cell_type": "code",
   "execution_count": null,
   "id": "1b12e934-ff04-496f-97bf-8c04853a42ce",
   "metadata": {},
   "outputs": [],
   "source": []
  }
 ],
 "metadata": {
  "kernelspec": {
   "display_name": "Python 3 (ipykernel)",
   "language": "python",
   "name": "python3"
  },
  "language_info": {
   "codemirror_mode": {
    "name": "ipython",
    "version": 3
   },
   "file_extension": ".py",
   "mimetype": "text/x-python",
   "name": "python",
   "nbconvert_exporter": "python",
   "pygments_lexer": "ipython3",
   "version": "3.11.6"
  }
 },
 "nbformat": 4,
 "nbformat_minor": 5
}
