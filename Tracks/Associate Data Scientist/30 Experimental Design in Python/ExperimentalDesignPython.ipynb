{
 "cells": [
  {
   "cell_type": "markdown",
   "id": "68b65e1e-bc1b-4046-83b9-11b490e0e6ee",
   "metadata": {},
   "source": [
    "## Experimental Design\n",
    "\n",
    "+ A process\n",
    "+ An objective and controlled way to draw specific conclusions in reference to a hypothesis\n",
    "\n",
    "## Forming robust statements\n",
    "\n",
    "Lacking precision: *X probably had an effect on Y. There is likely some small risk of error*\n",
    "\n",
    "+ Precise and Quantified language\n",
    "  + More precise: *P-value analysis indicates X had an effect on Y with a 10% risk of Type I error (Type I error: incorrectly reject null hypothesis)*\n",
    "+ Goal: Experimental design and statistical analysis\n",
    "\n",
    "## Non-random assignment of subjects\n",
    "\n",
    "***Scenario***: An agricultural firm is conducting an experiment to measure how feeding sheep different types of grass affects their weight. They have asked for your help to properly set up the experiment. One of their managers has said you can perform the subject assignment by taking the top 250 rows from the DataFrame and that should be fine.\n",
    "\n",
    "We can clearly demonstrate why this might not be a good idea. Assign the subjects to two groups using non-random assignment (the first 250 rows) and observe the differences in descriptive statistics."
   ]
  },
  {
   "cell_type": "code",
   "execution_count": 1,
   "id": "5e3bc947-ca06-4809-b48d-aaff30426e2c",
   "metadata": {},
   "outputs": [
    {
     "data": {
      "text/html": [
       "<div>\n",
       "<style scoped>\n",
       "    .dataframe tbody tr th:only-of-type {\n",
       "        vertical-align: middle;\n",
       "    }\n",
       "\n",
       "    .dataframe tbody tr th {\n",
       "        vertical-align: top;\n",
       "    }\n",
       "\n",
       "    .dataframe thead th {\n",
       "        text-align: right;\n",
       "    }\n",
       "</style>\n",
       "<table border=\"1\" class=\"dataframe\">\n",
       "  <thead>\n",
       "    <tr style=\"text-align: right;\">\n",
       "      <th></th>\n",
       "      <th>id</th>\n",
       "      <th>weight</th>\n",
       "    </tr>\n",
       "  </thead>\n",
       "  <tbody>\n",
       "    <tr>\n",
       "      <th>0</th>\n",
       "      <td>262</td>\n",
       "      <td>39.07</td>\n",
       "    </tr>\n",
       "    <tr>\n",
       "      <th>1</th>\n",
       "      <td>74</td>\n",
       "      <td>44.04</td>\n",
       "    </tr>\n",
       "    <tr>\n",
       "      <th>2</th>\n",
       "      <td>471</td>\n",
       "      <td>46.58</td>\n",
       "    </tr>\n",
       "    <tr>\n",
       "      <th>3</th>\n",
       "      <td>382</td>\n",
       "      <td>48.01</td>\n",
       "    </tr>\n",
       "    <tr>\n",
       "      <th>4</th>\n",
       "      <td>442</td>\n",
       "      <td>48.46</td>\n",
       "    </tr>\n",
       "  </tbody>\n",
       "</table>\n",
       "</div>"
      ],
      "text/plain": [
       "    id  weight\n",
       "0  262   39.07\n",
       "1   74   44.04\n",
       "2  471   46.58\n",
       "3  382   48.01\n",
       "4  442   48.46"
      ]
     },
     "execution_count": 1,
     "metadata": {},
     "output_type": "execute_result"
    }
   ],
   "source": [
    "import numpy as np\n",
    "import pandas as pd\n",
    "\n",
    "weights = pd.read_fwf('./data/weights.txt')\n",
    "weights.set_index('idx', inplace=True)\n",
    "weights.reset_index(drop=True, inplace=True)\n",
    "weights.head()"
   ]
  },
  {
   "cell_type": "code",
   "execution_count": 2,
   "id": "9e5457e1-0f46-45ca-9b12-f85676c0c814",
   "metadata": {},
   "outputs": [
    {
     "name": "stdout",
     "output_type": "stream",
     "text": [
      "           group1      group2\n",
      "count  250.000000  250.000000\n",
      "mean    58.821560   71.287480\n",
      "std      4.503791    5.019958\n",
      "min     39.070000   65.100000\n",
      "25%     56.200000   67.490000\n",
      "50%     59.390000   70.115000\n",
      "75%     62.527500   73.770000\n",
      "max     65.100000   95.820000\n"
     ]
    }
   ],
   "source": [
    "# Non-random assignment\n",
    "group1_non_rand = weights.iloc[:250,]\n",
    "group2_non_rand = weights.iloc[250:,]\n",
    "\n",
    "# Compare descriptive statistics of groups\n",
    "# Compare descriptive statistics of groups\n",
    "compare_df_non_rand = pd.concat([group1_non_rand['weight'].describe(), group2_non_rand['weight'].describe()], axis=1)\n",
    "compare_df_non_rand.columns = ['group1', 'group2']\n",
    "\n",
    "# Print to assess\n",
    "print(compare_df_non_rand)"
   ]
  },
  {
   "cell_type": "code",
   "execution_count": 3,
   "id": "8324dfa3-4edb-42d8-bc55-b6dd38585702",
   "metadata": {},
   "outputs": [
    {
     "name": "stdout",
     "output_type": "stream",
     "text": [
      "           group1      group2\n",
      "count  250.000000  250.000000\n",
      "mean    64.499960   65.609080\n",
      "std      8.073025    7.596346\n",
      "min     39.070000   44.040000\n",
      "25%     58.660000   60.312500\n",
      "50%     64.620000   65.540000\n",
      "75%     69.957500   70.442500\n",
      "max     86.760000   95.820000\n"
     ]
    }
   ],
   "source": [
    "# Randomly assign half\n",
    "group1_random = weights.sample(n=250, random_state=42, replace=False)\n",
    "\n",
    "# Create second assignment\n",
    "group2_random = weights.drop(group1_random.index)\n",
    "\n",
    "# Compare assignments\n",
    "compare_df_random = pd.concat([group1_random['weight'].describe(), group2_random['weight'].describe()], axis=1)\n",
    "compare_df_random.columns = ['group1', 'group2']\n",
    "print(compare_df_random)"
   ]
  },
  {
   "cell_type": "markdown",
   "id": "981cfdcb-52e5-4a5f-bb6e-5e5c7da4a883",
   "metadata": {},
   "source": [
    "## Experimental data setup\n",
    "\n",
    "Dataset for the e-commerce example (`econ`) in video 2 is not provided.\n",
    "\n",
    "### Blocking on productivity\n",
    "\n",
    "Randomly create 2 equal-sized blocks of 50 each\n",
    "\n",
    "### Stratifying an experiment\n",
    "\n",
    "***Scenario:*** You are working with a government organization that wants to undertake an experiment around how some particular government policies impact the net wealth of individuals in a number of areas.\n",
    "\n",
    "They have approached you to help set up the experimental design. They have warned you that there is likely to be a small group of users who already have high net wealth and are concerned that this group might overshadow any experimental outcome observed. We know just what to do!"
   ]
  },
  {
   "cell_type": "code",
   "execution_count": 4,
   "id": "4cf189bf-4d96-45df-8235-4af87170fe32",
   "metadata": {},
   "outputs": [
    {
     "data": {
      "text/html": [
       "<div>\n",
       "<style scoped>\n",
       "    .dataframe tbody tr th:only-of-type {\n",
       "        vertical-align: middle;\n",
       "    }\n",
       "\n",
       "    .dataframe tbody tr th {\n",
       "        vertical-align: top;\n",
       "    }\n",
       "\n",
       "    .dataframe thead th {\n",
       "        text-align: right;\n",
       "    }\n",
       "</style>\n",
       "<table border=\"1\" class=\"dataframe\">\n",
       "  <thead>\n",
       "    <tr style=\"text-align: right;\">\n",
       "      <th></th>\n",
       "      <th>subject_id</th>\n",
       "    </tr>\n",
       "    <tr>\n",
       "      <th>index</th>\n",
       "      <th></th>\n",
       "    </tr>\n",
       "  </thead>\n",
       "  <tbody>\n",
       "    <tr>\n",
       "      <th>0</th>\n",
       "      <td>1</td>\n",
       "    </tr>\n",
       "    <tr>\n",
       "      <th>1</th>\n",
       "      <td>2</td>\n",
       "    </tr>\n",
       "    <tr>\n",
       "      <th>2</th>\n",
       "      <td>3</td>\n",
       "    </tr>\n",
       "    <tr>\n",
       "      <th>3</th>\n",
       "      <td>4</td>\n",
       "    </tr>\n",
       "    <tr>\n",
       "      <th>4</th>\n",
       "      <td>5</td>\n",
       "    </tr>\n",
       "  </tbody>\n",
       "</table>\n",
       "</div>"
      ],
      "text/plain": [
       "       subject_id\n",
       "index            \n",
       "0               1\n",
       "1               2\n",
       "2               3\n",
       "3               4\n",
       "4               5"
      ]
     },
     "execution_count": 4,
     "metadata": {},
     "output_type": "execute_result"
    }
   ],
   "source": [
    "productivity_subjects = pd.read_csv('./data/productivity_subjects.csv', index_col='index')\n",
    "productivity_subjects.head()"
   ]
  },
  {
   "cell_type": "code",
   "execution_count": 5,
   "id": "08cd7373-2b2b-404d-9882-8616e58e92af",
   "metadata": {},
   "outputs": [
    {
     "name": "stdout",
     "output_type": "stream",
     "text": [
      "block\n",
      "1    50\n",
      "2    50\n",
      "Name: count, dtype: int64\n"
     ]
    }
   ],
   "source": [
    "# Randomly assign half\n",
    "block_1 = productivity_subjects.sample(n=50, random_state=42, replace=False)\n",
    "\n",
    "# Set the block column\n",
    "block_1['block'] = 1\n",
    "\n",
    "# Create second assignment and label\n",
    "block_2 = productivity_subjects.drop(block_1.index)\n",
    "block_2['block'] = 2\n",
    "\n",
    "# Concatenate and print\n",
    "productivity_combined = pd.concat([block_1, block_2], axis=0)\n",
    "print(productivity_combined['block'].value_counts())"
   ]
  },
  {
   "cell_type": "code",
   "execution_count": 6,
   "id": "6d93f558-7e8b-409a-8dc7-750fa5b8b4b9",
   "metadata": {},
   "outputs": [
    {
     "data": {
      "text/html": [
       "<div>\n",
       "<style scoped>\n",
       "    .dataframe tbody tr th:only-of-type {\n",
       "        vertical-align: middle;\n",
       "    }\n",
       "\n",
       "    .dataframe tbody tr th {\n",
       "        vertical-align: top;\n",
       "    }\n",
       "\n",
       "    .dataframe thead th {\n",
       "        text-align: right;\n",
       "    }\n",
       "</style>\n",
       "<table border=\"1\" class=\"dataframe\">\n",
       "  <thead>\n",
       "    <tr style=\"text-align: right;\">\n",
       "      <th></th>\n",
       "      <th>net_wealth</th>\n",
       "      <th>service_involvement</th>\n",
       "      <th>high_wealth</th>\n",
       "    </tr>\n",
       "    <tr>\n",
       "      <th>index</th>\n",
       "      <th></th>\n",
       "      <th></th>\n",
       "      <th></th>\n",
       "    </tr>\n",
       "  </thead>\n",
       "  <tbody>\n",
       "    <tr>\n",
       "      <th>0</th>\n",
       "      <td>112820.451</td>\n",
       "      <td>19</td>\n",
       "      <td>0</td>\n",
       "    </tr>\n",
       "    <tr>\n",
       "      <th>1</th>\n",
       "      <td>106850.675</td>\n",
       "      <td>19</td>\n",
       "      <td>0</td>\n",
       "    </tr>\n",
       "    <tr>\n",
       "      <th>2</th>\n",
       "      <td>118590.331</td>\n",
       "      <td>19</td>\n",
       "      <td>0</td>\n",
       "    </tr>\n",
       "    <tr>\n",
       "      <th>3</th>\n",
       "      <td>184323.773</td>\n",
       "      <td>12</td>\n",
       "      <td>0</td>\n",
       "    </tr>\n",
       "    <tr>\n",
       "      <th>4</th>\n",
       "      <td>166439.516</td>\n",
       "      <td>10</td>\n",
       "      <td>0</td>\n",
       "    </tr>\n",
       "  </tbody>\n",
       "</table>\n",
       "</div>"
      ],
      "text/plain": [
       "       net_wealth  service_involvement  high_wealth\n",
       "index                                              \n",
       "0      112820.451                   19            0\n",
       "1      106850.675                   19            0\n",
       "2      118590.331                   19            0\n",
       "3      184323.773                   12            0\n",
       "4      166439.516                   10            0"
      ]
     },
     "execution_count": 6,
     "metadata": {},
     "output_type": "execute_result"
    }
   ],
   "source": [
    "wealth_data = pd.read_fwf('./data/wealth_data.txt', index_col='index')\n",
    "wealth_data.head()"
   ]
  },
  {
   "cell_type": "code",
   "execution_count": 7,
   "id": "c37e05e6-7c85-4430-a846-62f3db1aab5d",
   "metadata": {},
   "outputs": [
    {
     "name": "stdout",
     "output_type": "stream",
     "text": [
      "Block  T_C  high_wealth\n",
      "1      C    1              100\n",
      "       T    1              100\n",
      "2      C    0              900\n",
      "       T    0              900\n",
      "dtype: int64\n"
     ]
    }
   ],
   "source": [
    "# Create the first block\n",
    "strata_1 = wealth_data[wealth_data['high_wealth'] == 1].copy()\n",
    "strata_1['Block'] = 1\n",
    "\n",
    "# Create two groups assigning to Treatment or Control\n",
    "strata_1_g1 = strata_1.sample(n=100, replace=False)  # could use frac=0.5 instead of n=100\n",
    "strata_1_g1['T_C'] = 'T' \n",
    "strata_1_g2 = strata_1.drop(strata_1_g1.index)\n",
    "strata_1_g2['T_C'] = 'C'\n",
    "\n",
    "# Create the second block and assign groups\n",
    "strata_2 = wealth_data[wealth_data['high_wealth'] == 0].copy()\n",
    "strata_2['Block'] = 2\n",
    "\n",
    "strata_2_g1 = strata_2.sample(n=900, replace=False)  # could use frac=0.5 instead of n=900\n",
    "strata_2_g1['T_C'] = 'T'\n",
    "strata_2_g2 = strata_2.drop(strata_2_g1.index)\n",
    "strata_2_g2['T_C'] = 'C'\n",
    "\n",
    "# Concatenate the grouping work\n",
    "wealth_data_stratified = pd.concat([strata_1_g1, strata_1_g2, strata_2_g1, strata_2_g2])\n",
    "print(wealth_data_stratified.groupby(['Block','T_C', 'high_wealth']).size())"
   ]
  },
  {
   "cell_type": "markdown",
   "id": "f8ad0b45-d496-4e9a-887c-f802315402bf",
   "metadata": {},
   "source": [
    "## Visualizing normality in an agricultural experiment\n",
    "\n",
    "***Scenario:*** We have been contracted by an agricultural firm conducting an experiment on 50 chickens, divided into four groups, each fed a different diet. Weight measurements were taken every second day for 20 days.\n",
    "\n",
    "We'll analyze chicken_data to assess normality, which will determine the suitability of parametric statistical tests, beginning with a visual examination of the data distribution. "
   ]
  },
  {
   "cell_type": "code",
   "execution_count": 8,
   "id": "87ca70aa-571d-4f74-a851-d62017d88304",
   "metadata": {},
   "outputs": [
    {
     "data": {
      "text/html": [
       "<div>\n",
       "<style scoped>\n",
       "    .dataframe tbody tr th:only-of-type {\n",
       "        vertical-align: middle;\n",
       "    }\n",
       "\n",
       "    .dataframe tbody tr th {\n",
       "        vertical-align: top;\n",
       "    }\n",
       "\n",
       "    .dataframe thead th {\n",
       "        text-align: right;\n",
       "    }\n",
       "</style>\n",
       "<table border=\"1\" class=\"dataframe\">\n",
       "  <thead>\n",
       "    <tr style=\"text-align: right;\">\n",
       "      <th></th>\n",
       "      <th>weight</th>\n",
       "      <th>Time</th>\n",
       "      <th>Chick</th>\n",
       "      <th>Diet</th>\n",
       "    </tr>\n",
       "  </thead>\n",
       "  <tbody>\n",
       "    <tr>\n",
       "      <th>0</th>\n",
       "      <td>42</td>\n",
       "      <td>0</td>\n",
       "      <td>1</td>\n",
       "      <td>1</td>\n",
       "    </tr>\n",
       "    <tr>\n",
       "      <th>1</th>\n",
       "      <td>51</td>\n",
       "      <td>2</td>\n",
       "      <td>1</td>\n",
       "      <td>1</td>\n",
       "    </tr>\n",
       "    <tr>\n",
       "      <th>2</th>\n",
       "      <td>59</td>\n",
       "      <td>4</td>\n",
       "      <td>1</td>\n",
       "      <td>1</td>\n",
       "    </tr>\n",
       "    <tr>\n",
       "      <th>3</th>\n",
       "      <td>64</td>\n",
       "      <td>6</td>\n",
       "      <td>1</td>\n",
       "      <td>1</td>\n",
       "    </tr>\n",
       "    <tr>\n",
       "      <th>4</th>\n",
       "      <td>76</td>\n",
       "      <td>8</td>\n",
       "      <td>1</td>\n",
       "      <td>1</td>\n",
       "    </tr>\n",
       "  </tbody>\n",
       "</table>\n",
       "</div>"
      ],
      "text/plain": [
       "   weight  Time  Chick  Diet\n",
       "0      42     0      1     1\n",
       "1      51     2      1     1\n",
       "2      59     4      1     1\n",
       "3      64     6      1     1\n",
       "4      76     8      1     1"
      ]
     },
     "execution_count": 8,
     "metadata": {},
     "output_type": "execute_result"
    }
   ],
   "source": [
    "chicken_data = pd.read_csv('./data/chick_weight.csv')\n",
    "chicken_data.head()"
   ]
  },
  {
   "cell_type": "code",
   "execution_count": 9,
   "id": "10f96846-10fa-4e89-98e8-e035ee794f40",
   "metadata": {},
   "outputs": [
    {
     "data": {
      "image/png": "[encoded data removed]",
      "text/plain": [
       "<Figure size 500x500 with 1 Axes>"
      ]
     },
     "metadata": {},
     "output_type": "display_data"
    }
   ],
   "source": [
    "import matplotlib.pyplot as plt\n",
    "import seaborn as sns\n",
    "\n",
    "# Plot the distribution of the chickens' weight\n",
    "sns.displot(data=chicken_data, x='weight', kind=\"kde\")\n",
    "plt.show()"
   ]
  },
  {
   "cell_type": "code",
   "execution_count": 10,
   "id": "5c2891dd-fec0-46ca-8557-361870f158dd",
   "metadata": {},
   "outputs": [
    {
     "data": {
      "image/png": "[encoded data removed]",
      "text/plain": [
       "<Figure size 640x480 with 1 Axes>"
      ]
     },
     "metadata": {},
     "output_type": "display_data"
    }
   ],
   "source": [
    "from statsmodels.graphics.gofplots import qqplot\n",
    "from scipy.stats.distributions import norm\n",
    "# Plot the qq plot of the chickens' weight\n",
    "qqplot(data=chicken_data['weight'], line='s')\n",
    "plt.show()  # bow-shaped tails, not very normal looking"
   ]
  },
  {
   "cell_type": "code",
   "execution_count": 11,
   "id": "2c2b5100-1e8a-452e-8d75-47ceed9e2fea",
   "metadata": {},
   "outputs": [
    {
     "data": {
      "image/png": "[encoded data removed]",
      "text/plain": [
       "<Figure size 500x500 with 1 Axes>"
      ]
     },
     "metadata": {},
     "output_type": "display_data"
    }
   ],
   "source": [
    "# Subset the data and plot the weight of the subset\n",
    "subset_data = chicken_data[chicken_data['Time'] == 2]\n",
    "\n",
    "sns.displot(data=subset_data, x='weight', kind=\"kde\")\n",
    "plt.show()  # much more normal looking"
   ]
  },
  {
   "cell_type": "markdown",
   "id": "8b3d4b93-f088-42bd-931c-7b662834587f",
   "metadata": {},
   "source": [
    "## Analytical normality in an agricultural experiment\n",
    "\n",
    "Continuing from the previous work, visual inspections of the data indicate it may not be a normal dataset overall, but that the initial time point may be.\n",
    "\n",
    "Here, we'll use analytical methods to determine the normality of the dataset."
   ]
  },
  {
   "cell_type": "code",
   "execution_count": 12,
   "id": "77d00380-0b0c-4536-84f5-e88b1918116d",
   "metadata": {},
   "outputs": [
    {
     "name": "stdout",
     "output_type": "stream",
     "text": [
      "p: 0.0 test stat: 0.9087\n"
     ]
    }
   ],
   "source": [
    "from scipy.stats import shapiro\n",
    "from scipy.stats import anderson\n",
    "\n",
    "# Shapiro-Wilk normality test on the weight column\n",
    "test_statistic, p_value = shapiro(chicken_data['weight'])\n",
    "\n",
    "print(f\"p: {round(p_value, 4)} test stat: {round(test_statistic, 4)}\")"
   ]
  },
  {
   "cell_type": "markdown",
   "id": "63c724bb-fc92-412c-8d78-1a64e60a7e61",
   "metadata": {},
   "source": [
    "At significance level $\\alpha = 0.05$, we reject the $H_0$ (likely normal) in favor of the altenative (not normal)"
   ]
  },
  {
   "cell_type": "code",
   "execution_count": 13,
   "id": "fda1248b-679d-40a8-b97f-ef0614b3edf6",
   "metadata": {},
   "outputs": [
    {
     "name": "stdout",
     "output_type": "stream",
     "text": [
      "Test statistic: 14.6868\n",
      "Significance Levels: [15.  10.   5.   2.5  1. ]\n",
      "Critical Values: [0.572 0.652 0.782 0.912 1.085]\n"
     ]
    }
   ],
   "source": [
    "# Anderson-Darling test\n",
    "result = anderson(chicken_data['weight'], dist=\"norm\")\n",
    "\n",
    "print(f\"Test statistic: {round(result.statistic, 4)}\")\n",
    "print(f\"Significance Levels: {result.significance_level}\")\n",
    "print(f\"Critical Values: {result.critical_values}\")"
   ]
  },
  {
   "cell_type": "markdown",
   "id": "a4a5dbbd-b070-4455-b594-4b0db70d40ba",
   "metadata": {},
   "source": [
    "Since `14.6868` > `0.782`, reject $H_0$ (normal) in favor of altenative (not normal) at 5% significance level"
   ]
  },
  {
   "cell_type": "markdown",
   "id": "3430c40f-05c3-4d28-8042-cec52f61a245",
   "metadata": {},
   "source": [
    "## Understanding marketing campaign effectiveness\n",
    "\n",
    "***Scenario:*** You're a digital marketer analyzing data from a recent campaign to understand what messaging style and time of day yield the highest conversions. This analysis is crucial for guiding future marketing strategies, ensuring that the messages reach potential customers when they're most likely to engage. Here, we'll work with a dataset giving the outcomes of different messaging styles ('Casual' versus 'Formal') and times of day ('Morning' versus 'Evening') on conversion rates, a common scenario in marketing data analysis."
   ]
  },
  {
   "cell_type": "code",
   "execution_count": 14,
   "id": "922ba73d-a5d9-401a-9989-b653058b0a13",
   "metadata": {},
   "outputs": [
    {
     "name": "stdout",
     "output_type": "stream",
     "text": [
      "(950, 4)\n"
     ]
    },
    {
     "data": {
      "text/html": [
       "<div>\n",
       "<style scoped>\n",
       "    .dataframe tbody tr th:only-of-type {\n",
       "        vertical-align: middle;\n",
       "    }\n",
       "\n",
       "    .dataframe tbody tr th {\n",
       "        vertical-align: top;\n",
       "    }\n",
       "\n",
       "    .dataframe thead th {\n",
       "        text-align: right;\n",
       "    }\n",
       "</style>\n",
       "<table border=\"1\" class=\"dataframe\">\n",
       "  <thead>\n",
       "    <tr style=\"text-align: right;\">\n",
       "      <th></th>\n",
       "      <th>Messaging_Style</th>\n",
       "      <th>Time_of_Day</th>\n",
       "      <th>Click_Through_Rate</th>\n",
       "      <th>Conversions</th>\n",
       "    </tr>\n",
       "  </thead>\n",
       "  <tbody>\n",
       "    <tr>\n",
       "      <th>0</th>\n",
       "      <td>Casual</td>\n",
       "      <td>Morning</td>\n",
       "      <td>0.640465</td>\n",
       "      <td>500</td>\n",
       "    </tr>\n",
       "    <tr>\n",
       "      <th>1</th>\n",
       "      <td>Formal</td>\n",
       "      <td>Evening</td>\n",
       "      <td>0.698533</td>\n",
       "      <td>598</td>\n",
       "    </tr>\n",
       "    <tr>\n",
       "      <th>2</th>\n",
       "      <td>Casual</td>\n",
       "      <td>Morning</td>\n",
       "      <td>0.257834</td>\n",
       "      <td>234</td>\n",
       "    </tr>\n",
       "    <tr>\n",
       "      <th>3</th>\n",
       "      <td>Casual</td>\n",
       "      <td>Evening</td>\n",
       "      <td>0.922971</td>\n",
       "      <td>602</td>\n",
       "    </tr>\n",
       "    <tr>\n",
       "      <th>4</th>\n",
       "      <td>Casual</td>\n",
       "      <td>Morning</td>\n",
       "      <td>0.476893</td>\n",
       "      <td>314</td>\n",
       "    </tr>\n",
       "  </tbody>\n",
       "</table>\n",
       "</div>"
      ],
      "text/plain": [
       "  Messaging_Style Time_of_Day  Click_Through_Rate  Conversions\n",
       "0          Casual     Morning            0.640465          500\n",
       "1          Formal     Evening            0.698533          598\n",
       "2          Casual     Morning            0.257834          234\n",
       "3          Casual     Evening            0.922971          602\n",
       "4          Casual     Morning            0.476893          314"
      ]
     },
     "execution_count": 14,
     "metadata": {},
     "output_type": "execute_result"
    }
   ],
   "source": [
    "marketing_data = pd.read_feather('./data/marketing_data.feather')\n",
    "print(marketing_data.shape)\n",
    "marketing_data.head()"
   ]
  },
  {
   "cell_type": "code",
   "execution_count": 15,
   "id": "08bd8b89-0939-4f1d-b43b-ee71e72b9340",
   "metadata": {},
   "outputs": [
    {
     "name": "stdout",
     "output_type": "stream",
     "text": [
      "Time_of_Day         Evening     Morning\n",
      "Messaging_Style                        \n",
      "Casual           402.329004  401.133891\n",
      "Formal           432.913043  411.096000\n"
     ]
    }
   ],
   "source": [
    "# pivot table for marketing campaign data\n",
    "marketing_pivot = marketing_data.pivot_table(\n",
    "  values='Conversions', \n",
    "  index='Messaging_Style', \n",
    "  columns='Time_of_Day', \n",
    "  aggfunc='mean')\n",
    "\n",
    "# pivoted results\n",
    "print(marketing_pivot)"
   ]
  },
  {
   "cell_type": "code",
   "execution_count": 16,
   "id": "d3127af3-dbe4-4b22-a832-9c41f150a0c1",
   "metadata": {},
   "outputs": [
    {
     "data": {
      "image/png": "[encoded data removed]",
      "text/plain": [
       "<Figure size 640x480 with 2 Axes>"
      ]
     },
     "metadata": {},
     "output_type": "display_data"
    }
   ],
   "source": [
    "# visualize interactions with a heatmap\n",
    "sns.heatmap(marketing_pivot, \n",
    "            annot=True, \n",
    "            cmap='coolwarm',\n",
    "            fmt='g')\n",
    "\n",
    "plt.show()"
   ]
  },
  {
   "cell_type": "markdown",
   "id": "c16dc0e3-5c3b-4b4b-ac00-e0ac780b7bc0",
   "metadata": {},
   "source": [
    "## Implementing a randomized block design\n",
    "\n",
    "***Scenario:*** A manufacturing firm is interested in conducting some experiments on worker productivity. Previously, the two blocks were set randomly. While this can work, it can be better to group subjects based on similar characteristics.\n",
    "\n",
    "The DataFrame called `productivity` has 1300 subjects. It includes a worker `productivity_score` column based on units produced per hour. This column was binned into three groups to generate blocks based on similar productivity values. The firm would like to apply a new incentive program with three options (`Bonus`, `Profit Sharing` and `Work from Home`) throughout the firm with treatment applied randomly."
   ]
  },
  {
   "cell_type": "code",
   "execution_count": 17,
   "id": "bf0d9cc6-8eff-46bc-8630-2316685cafdb",
   "metadata": {},
   "outputs": [
    {
     "name": "stdout",
     "output_type": "stream",
     "text": [
      "<class 'pandas.core.frame.DataFrame'>\n",
      "RangeIndex: 1300 entries, 0 to 1299\n",
      "Data columns (total 3 columns):\n",
      " #   Column              Non-Null Count  Dtype  \n",
      "---  ------              --------------  -----  \n",
      " 0   subject_id          1300 non-null   int64  \n",
      " 1   productivity_score  1300 non-null   float64\n",
      " 2   block               1299 non-null   float64\n",
      "dtypes: float64(2), int64(1)\n",
      "memory usage: 30.6 KB\n",
      "None\n"
     ]
    },
    {
     "data": {
      "text/html": [
       "<div>\n",
       "<style scoped>\n",
       "    .dataframe tbody tr th:only-of-type {\n",
       "        vertical-align: middle;\n",
       "    }\n",
       "\n",
       "    .dataframe tbody tr th {\n",
       "        vertical-align: top;\n",
       "    }\n",
       "\n",
       "    .dataframe thead th {\n",
       "        text-align: right;\n",
       "    }\n",
       "</style>\n",
       "<table border=\"1\" class=\"dataframe\">\n",
       "  <thead>\n",
       "    <tr style=\"text-align: right;\">\n",
       "      <th></th>\n",
       "      <th>subject_id</th>\n",
       "      <th>productivity_score</th>\n",
       "      <th>block</th>\n",
       "    </tr>\n",
       "  </thead>\n",
       "  <tbody>\n",
       "    <tr>\n",
       "      <th>0</th>\n",
       "      <td>1</td>\n",
       "      <td>11.9</td>\n",
       "      <td>2.0</td>\n",
       "    </tr>\n",
       "    <tr>\n",
       "      <th>1</th>\n",
       "      <td>2</td>\n",
       "      <td>28.6</td>\n",
       "      <td>3.0</td>\n",
       "    </tr>\n",
       "    <tr>\n",
       "      <th>2</th>\n",
       "      <td>3</td>\n",
       "      <td>22.2</td>\n",
       "      <td>3.0</td>\n",
       "    </tr>\n",
       "    <tr>\n",
       "      <th>3</th>\n",
       "      <td>4</td>\n",
       "      <td>18.4</td>\n",
       "      <td>2.0</td>\n",
       "    </tr>\n",
       "    <tr>\n",
       "      <th>4</th>\n",
       "      <td>5</td>\n",
       "      <td>5.5</td>\n",
       "      <td>1.0</td>\n",
       "    </tr>\n",
       "  </tbody>\n",
       "</table>\n",
       "</div>"
      ],
      "text/plain": [
       "   subject_id  productivity_score  block\n",
       "0           1                11.9    2.0\n",
       "1           2                28.6    3.0\n",
       "2           3                22.2    3.0\n",
       "3           4                18.4    2.0\n",
       "4           5                 5.5    1.0"
      ]
     },
     "execution_count": 17,
     "metadata": {},
     "output_type": "execute_result"
    }
   ],
   "source": [
    "productivity = pd.read_fwf('./data/productivity_subjects2.txt')\n",
    "productivity.drop(\"idx\", axis=\"columns\", inplace=True)\n",
    "print(productivity.info())\n",
    "productivity.head()"
   ]
  },
  {
   "cell_type": "code",
   "execution_count": 18,
   "id": "9e9272a1-a237-4d2b-9423-e841e2c78c6a",
   "metadata": {},
   "outputs": [
    {
     "data": {
      "text/html": [
       "<div>\n",
       "<style scoped>\n",
       "    .dataframe tbody tr th:only-of-type {\n",
       "        vertical-align: middle;\n",
       "    }\n",
       "\n",
       "    .dataframe tbody tr th {\n",
       "        vertical-align: top;\n",
       "    }\n",
       "\n",
       "    .dataframe thead th {\n",
       "        text-align: right;\n",
       "    }\n",
       "</style>\n",
       "<table border=\"1\" class=\"dataframe\">\n",
       "  <thead>\n",
       "    <tr style=\"text-align: right;\">\n",
       "      <th></th>\n",
       "      <th>subject_id</th>\n",
       "      <th>productivity_score</th>\n",
       "      <th>block</th>\n",
       "      <th>Treatment</th>\n",
       "    </tr>\n",
       "  </thead>\n",
       "  <tbody>\n",
       "    <tr>\n",
       "      <th>0</th>\n",
       "      <td>153</td>\n",
       "      <td>5.2</td>\n",
       "      <td>1.0</td>\n",
       "      <td>Work from Home</td>\n",
       "    </tr>\n",
       "    <tr>\n",
       "      <th>1</th>\n",
       "      <td>1257</td>\n",
       "      <td>6.8</td>\n",
       "      <td>1.0</td>\n",
       "      <td>Profit Sharing</td>\n",
       "    </tr>\n",
       "    <tr>\n",
       "      <th>2</th>\n",
       "      <td>348</td>\n",
       "      <td>2.3</td>\n",
       "      <td>1.0</td>\n",
       "      <td>Bonus</td>\n",
       "    </tr>\n",
       "    <tr>\n",
       "      <th>3</th>\n",
       "      <td>557</td>\n",
       "      <td>4.9</td>\n",
       "      <td>1.0</td>\n",
       "      <td>Work from Home</td>\n",
       "    </tr>\n",
       "    <tr>\n",
       "      <th>4</th>\n",
       "      <td>1120</td>\n",
       "      <td>4.8</td>\n",
       "      <td>1.0</td>\n",
       "      <td>Bonus</td>\n",
       "    </tr>\n",
       "  </tbody>\n",
       "</table>\n",
       "</div>"
      ],
      "text/plain": [
       "   subject_id  productivity_score  block       Treatment\n",
       "0         153                 5.2    1.0  Work from Home\n",
       "1        1257                 6.8    1.0  Profit Sharing\n",
       "2         348                 2.3    1.0           Bonus\n",
       "3         557                 4.9    1.0  Work from Home\n",
       "4        1120                 4.8    1.0           Bonus"
      ]
     },
     "execution_count": 18,
     "metadata": {},
     "output_type": "execute_result"
    }
   ],
   "source": [
    "# Randomly assign workers to blocks\n",
    "# observed=False : show all values for categorical groupers\n",
    "prod_df = productivity.groupby('block', observed=False)[productivity.columns].apply(\n",
    "    lambda x: x.sample(frac=1)\n",
    ")\n",
    "\n",
    "# Reset the index\n",
    "prod_df = prod_df.reset_index(drop=True)\n",
    "\n",
    "# Assign treatment randomly\n",
    "prod_df['Treatment'] = np.random.choice(\n",
    "  ['Bonus', 'Profit Sharing', 'Work from Home'],\n",
    "  size=len(prod_df)\n",
    ")\n",
    "\n",
    "prod_df.head()"
   ]
  },
  {
   "cell_type": "code",
   "execution_count": 19,
   "id": "c1af5925-f280-4cad-84af-1eee1429e84b",
   "metadata": {},
   "outputs": [
    {
     "data": {
      "image/png": "[encoded data removed]",
      "text/plain": [
       "<Figure size 640x480 with 1 Axes>"
      ]
     },
     "metadata": {},
     "output_type": "display_data"
    }
   ],
   "source": [
    "# visualize how positivity_score varies within blocks\n",
    "sns.boxplot(x='block', \n",
    "            y='productivity_score', \n",
    "            hue='Treatment', \n",
    "            data=prod_df)\n",
    "\n",
    "plt.show()"
   ]
  },
  {
   "cell_type": "markdown",
   "id": "c781c2f1-a7e9-4aa3-a8b7-c20b4bb71697",
   "metadata": {},
   "source": [
    "## ANOVA within blocks of employees\n",
    "\n",
    "Building on the previous analyses with the manufacturing firm, where worker productivity was examined across different blocks and an incentive program was introduced, we'll now delving deeper into the data. The firm, equipped with a more comprehensive dataset in the productivity DataFrame, including 1200 additional employees and their productivity_score, has structured the workforce into three blocks based on productivity levels. Each employee has been randomly assigned one of three incentive options: `Bonus`, `Profit Sharing`, or `Work from Home`.\n",
    "\n",
    "Before assessing the full impact of these incentive treatments on productivity, it's crucial to verify that the initial treatment assignment was indeed random and equitable across the different productivity blocks. This step ensures that any observed differences in productivity post-treatment can be confidently attributed to the incentive programs themselves, rather than **pre-existing disparities** in the blocks."
   ]
  },
  {
   "cell_type": "code",
   "execution_count": 20,
   "id": "17430d53-3bf4-4d90-88fd-c36c9e2078ba",
   "metadata": {},
   "outputs": [
    {
     "name": "stdout",
     "output_type": "stream",
     "text": [
      "block 1: f_stat = 0.12155824564439935, p_value = 0.8855711441984616\n",
      "block 1: f_stat = 1.5799929957982752, p_value = 0.2071508824088186\n",
      "block 1: f_stat = 0.12133480020911372, p_value = 0.8857669907301905\n"
     ]
    }
   ],
   "source": [
    "from scipy.stats import f_oneway\n",
    "\n",
    "# Perform the within blocks ANOVA, first grouping by block\n",
    "within_block_anova = prod_df.groupby('block')[prod_df.columns].apply(\n",
    "  # Set function\n",
    "  lambda x: f_oneway(\n",
    "    # Filter Treatment values based on outcome\n",
    "    x[x['Treatment'] == 'Bonus']['productivity_score'], \n",
    "    x[x['Treatment'] == 'Profit Sharing']['productivity_score'],\n",
    "    x[x['Treatment'] == 'Work from Home']['productivity_score'])\n",
    ")\n",
    "# print(type(within_block_anova), within_block_anova.index, type(within_block_anova.index))\n",
    "# print(within_block_anova)\n",
    "print(f\"block 1: f_stat = {within_block_anova[1][0]}, p_value = {within_block_anova[1][1]}\")\n",
    "print(f\"block 1: f_stat = {within_block_anova[2][0]}, p_value = {within_block_anova[2][1]}\")\n",
    "print(f\"block 1: f_stat = {within_block_anova[3][0]}, p_value = {within_block_anova[3][1]}\")"
   ]
  },
  {
   "cell_type": "markdown",
   "id": "741bc9aa-6dee-48a4-9b1d-fabbe194bbbf",
   "metadata": {},
   "source": [
    "At an $\\alpha = 0.05$, only `block` = 1 provide evidence that all 3 treatments are **not** the same."
   ]
  },
  {
   "cell_type": "code",
   "execution_count": null,
   "id": "d6f101b8-5dd2-4ad1-b148-2d1235273f10",
   "metadata": {},
   "outputs": [],
   "source": []
  },
  {
   "cell_type": "code",
   "execution_count": null,
   "id": "ccf847c6-23af-4f3a-a9d1-5c7b728bfb9c",
   "metadata": {},
   "outputs": [],
   "source": []
  },
  {
   "cell_type": "code",
   "execution_count": null,
   "id": "4731ebf3-d498-4c80-a702-c5115393cb25",
   "metadata": {},
   "outputs": [],
   "source": []
  },
  {
   "cell_type": "code",
   "execution_count": null,
   "id": "1b12e934-ff04-496f-97bf-8c04853a42ce",
   "metadata": {},
   "outputs": [],
   "source": []
  }
 ],
 "metadata": {
  "kernelspec": {
   "display_name": "Python 3 (ipykernel)",
   "language": "python",
   "name": "python3"
  },
  "language_info": {
   "codemirror_mode": {
    "name": "ipython",
    "version": 3
   },
   "file_extension": ".py",
   "mimetype": "text/x-python",
   "name": "python",
   "nbconvert_exporter": "python",
   "pygments_lexer": "ipython3",
   "version": "3.11.6"
  }
 },
 "nbformat": 4,
 "nbformat_minor": 5
}
