{
 "cells": [
  {
   "cell_type": "markdown",
   "id": "a09e6d54-bf3f-4632-b299-bd49d5c80d5f",
   "metadata": {},
   "source": [
    "![Two data scientists working on a dashboard.](hr-image-small.png)\n",
    "\n",
    "A common problem when creating models to generate business value from data is that the datasets can be so large that it can take days for the model to generate predictions. Ensuring that the dataset is stored as efficiently as possible is crucial for allowing these models to run on a more reasonable timescale without having to reduce the size of the dataset.\n",
    "\n",
    "In this scenario, we are asked by a training provider called *Training Data Ltd.* to clean up one of their largest customer datasets. This dataset will eventually be used to predict whether their students are looking for a new job or not, information that they will then use to direct them to prospective recruiters.\n",
    "\n",
    "We've been given access to `customer_train.csv`, which is a subset of their entire customer dataset, so weu can create a proof-of-concept of a much more efficient storage solution. The dataset contains anonymized student information, and whether they were looking for a new job or not during training:\n",
    "\n",
    "| Column                   | Description                                                                      |\n",
    "|------------------------- |--------------------------------------------------------------------------------- |\n",
    "| `student_id`             | A unique ID for each student.                                                    |\n",
    "| `city`                   | A code for the city the student lives in.                                        |\n",
    "| `city_development_index` | A scaled development index for the city.                                         |\n",
    "| `gender`                 | The student's gender.                                                            |\n",
    "| `relevant_experience`    | An indicator of the student's work relevant experience.                          |\n",
    "| `enrolled_university`    | The type of university course enrolled in (if any).                              |\n",
    "| `education_level`        | The student's education level.                                                   |\n",
    "| `major_discipline`       | The educational discipline of the student.                                       |\n",
    "| `experience`             | The student's total work experience (in years).                                  |\n",
    "| `company_size`           | The number of employees at the student's current employer.                       |\n",
    "| `company_type`           | The type of company employing the student.                                       |\n",
    "| `last_new_job`           | The number of years between the student's current and previous jobs.             |\n",
    "| `training_hours`         | The number of hours of training completed.                                       |\n",
    "| `job_change`             | An indicator of whether the student is looking for a new job (`1`) or not (`0`). |"
   ]
  },
  {
   "cell_type": "markdown",
   "id": "0dbb0b61-9ed8-44dc-9088-694dc1084230",
   "metadata": {},
   "source": [
    "project link:  https://projects.datacamp.com/projects/1600"
   ]
  },
  {
   "cell_type": "markdown",
   "id": "98cb9b7f-8de2-45c0-8b58-db96e5ef9c9f",
   "metadata": {},
   "source": [
    "## Requirements\n",
    "\n",
    "1) Columns containing categories with only two factors must be stored as Booleans (`bool`).\n",
    "2) Columns containing integers only must be stored as 32-bit integers (`int32`).\n",
    "3) Columns containing floats must be stored as 16-bit floats (`float16`).\n",
    "4) Columns containing nominal categorical data must be stored as the `category` data type.\n",
    "5) Columns containing ordinal categorical data must be stored as *ordered categories*, and not mapped to numerical values, with an order that reflects the natural order of the column.\n",
    "6) The DataFrame should be filtered to only contain students with *10 or more years* of experience at companies with *at least 1000 employees*, as their recruiter base is suited to more experienced professionals at enterprise companies."
   ]
  },
  {
   "cell_type": "code",
   "execution_count": 1,
   "id": "eda9c1b2-4e9a-41ac-8da6-d4c98775f986",
   "metadata": {
    "executionCancelledAt": null,
    "executionTime": null,
    "lastExecutedAt": null,
    "lastExecutedByKernel": null,
    "lastScheduledRunId": null,
    "lastSuccessfullyExecutedCode": null,
    "outputsMetadata": {
     "0": {
      "height": 241,
      "tableState": {
       "quickFilterText": ""
      },
      "type": "dataFrame"
     }
    }
   },
   "outputs": [
    {
     "data": {
      "text/html": [
       "<div>\n",
       "<style scoped>\n",
       "    .dataframe tbody tr th:only-of-type {\n",
       "        vertical-align: middle;\n",
       "    }\n",
       "\n",
       "    .dataframe tbody tr th {\n",
       "        vertical-align: top;\n",
       "    }\n",
       "\n",
       "    .dataframe thead th {\n",
       "        text-align: right;\n",
       "    }\n",
       "</style>\n",
       "<table border=\"1\" class=\"dataframe\">\n",
       "  <thead>\n",
       "    <tr style=\"text-align: right;\">\n",
       "      <th></th>\n",
       "      <th>student_id</th>\n",
       "      <th>city</th>\n",
       "      <th>city_development_index</th>\n",
       "      <th>gender</th>\n",
       "      <th>relevant_experience</th>\n",
       "      <th>enrolled_university</th>\n",
       "      <th>education_level</th>\n",
       "      <th>major_discipline</th>\n",
       "      <th>experience</th>\n",
       "      <th>company_size</th>\n",
       "      <th>company_type</th>\n",
       "      <th>last_new_job</th>\n",
       "      <th>training_hours</th>\n",
       "      <th>job_change</th>\n",
       "    </tr>\n",
       "  </thead>\n",
       "  <tbody>\n",
       "    <tr>\n",
       "      <th>0</th>\n",
       "      <td>8949</td>\n",
       "      <td>city_103</td>\n",
       "      <td>0.920</td>\n",
       "      <td>Male</td>\n",
       "      <td>Has relevant experience</td>\n",
       "      <td>no_enrollment</td>\n",
       "      <td>Graduate</td>\n",
       "      <td>STEM</td>\n",
       "      <td>&gt;20</td>\n",
       "      <td>NaN</td>\n",
       "      <td>NaN</td>\n",
       "      <td>1</td>\n",
       "      <td>36</td>\n",
       "      <td>1.0</td>\n",
       "    </tr>\n",
       "    <tr>\n",
       "      <th>1</th>\n",
       "      <td>29725</td>\n",
       "      <td>city_40</td>\n",
       "      <td>0.776</td>\n",
       "      <td>Male</td>\n",
       "      <td>No relevant experience</td>\n",
       "      <td>no_enrollment</td>\n",
       "      <td>Graduate</td>\n",
       "      <td>STEM</td>\n",
       "      <td>15</td>\n",
       "      <td>50-99</td>\n",
       "      <td>Pvt Ltd</td>\n",
       "      <td>&gt;4</td>\n",
       "      <td>47</td>\n",
       "      <td>0.0</td>\n",
       "    </tr>\n",
       "    <tr>\n",
       "      <th>2</th>\n",
       "      <td>11561</td>\n",
       "      <td>city_21</td>\n",
       "      <td>0.624</td>\n",
       "      <td>NaN</td>\n",
       "      <td>No relevant experience</td>\n",
       "      <td>Full time course</td>\n",
       "      <td>Graduate</td>\n",
       "      <td>STEM</td>\n",
       "      <td>5</td>\n",
       "      <td>NaN</td>\n",
       "      <td>NaN</td>\n",
       "      <td>never</td>\n",
       "      <td>83</td>\n",
       "      <td>0.0</td>\n",
       "    </tr>\n",
       "    <tr>\n",
       "      <th>3</th>\n",
       "      <td>33241</td>\n",
       "      <td>city_115</td>\n",
       "      <td>0.789</td>\n",
       "      <td>NaN</td>\n",
       "      <td>No relevant experience</td>\n",
       "      <td>NaN</td>\n",
       "      <td>Graduate</td>\n",
       "      <td>Business Degree</td>\n",
       "      <td>&lt;1</td>\n",
       "      <td>NaN</td>\n",
       "      <td>Pvt Ltd</td>\n",
       "      <td>never</td>\n",
       "      <td>52</td>\n",
       "      <td>1.0</td>\n",
       "    </tr>\n",
       "    <tr>\n",
       "      <th>4</th>\n",
       "      <td>666</td>\n",
       "      <td>city_162</td>\n",
       "      <td>0.767</td>\n",
       "      <td>Male</td>\n",
       "      <td>Has relevant experience</td>\n",
       "      <td>no_enrollment</td>\n",
       "      <td>Masters</td>\n",
       "      <td>STEM</td>\n",
       "      <td>&gt;20</td>\n",
       "      <td>50-99</td>\n",
       "      <td>Funded Startup</td>\n",
       "      <td>4</td>\n",
       "      <td>8</td>\n",
       "      <td>0.0</td>\n",
       "    </tr>\n",
       "  </tbody>\n",
       "</table>\n",
       "</div>"
      ],
      "text/plain": [
       "   student_id      city  city_development_index gender  \\\n",
       "0        8949  city_103                   0.920   Male   \n",
       "1       29725   city_40                   0.776   Male   \n",
       "2       11561   city_21                   0.624    NaN   \n",
       "3       33241  city_115                   0.789    NaN   \n",
       "4         666  city_162                   0.767   Male   \n",
       "\n",
       "       relevant_experience enrolled_university education_level  \\\n",
       "0  Has relevant experience       no_enrollment        Graduate   \n",
       "1   No relevant experience       no_enrollment        Graduate   \n",
       "2   No relevant experience    Full time course        Graduate   \n",
       "3   No relevant experience                 NaN        Graduate   \n",
       "4  Has relevant experience       no_enrollment         Masters   \n",
       "\n",
       "  major_discipline experience company_size    company_type last_new_job  \\\n",
       "0             STEM        >20          NaN             NaN            1   \n",
       "1             STEM         15        50-99         Pvt Ltd           >4   \n",
       "2             STEM          5          NaN             NaN        never   \n",
       "3  Business Degree         <1          NaN         Pvt Ltd        never   \n",
       "4             STEM        >20        50-99  Funded Startup            4   \n",
       "\n",
       "   training_hours  job_change  \n",
       "0              36         1.0  \n",
       "1              47         0.0  \n",
       "2              83         0.0  \n",
       "3              52         1.0  \n",
       "4               8         0.0  "
      ]
     },
     "execution_count": 1,
     "metadata": {},
     "output_type": "execute_result"
    }
   ],
   "source": [
    "# Import necessary libraries\n",
    "import pandas as pd\n",
    "import numpy as np\n",
    "\n",
    "# Load the dataset\n",
    "ds_jobs = pd.read_csv(\"customer_train.csv\")\n",
    "\n",
    "# View the dataset\n",
    "ds_jobs.head()"
   ]
  },
  {
   "cell_type": "markdown",
   "id": "2a7ec05c-f028-4cff-bd70-e2e40222dac8",
   "metadata": {},
   "source": [
    "We'll look at each column one-by-one and determine the appropriate conversion."
   ]
  },
  {
   "cell_type": "code",
   "execution_count": 2,
   "id": "9f1f73f7-b667-4a4f-9ffd-be06d847e939",
   "metadata": {},
   "outputs": [
    {
     "name": "stdout",
     "output_type": "stream",
     "text": [
      "total original memory usage before tranformation: 12391577 bytes \n",
      "\n",
      "<class 'pandas.core.frame.DataFrame'>\n",
      "RangeIndex: 19158 entries, 0 to 19157\n",
      "Data columns (total 14 columns):\n",
      " #   Column                  Non-Null Count  Dtype  \n",
      "---  ------                  --------------  -----  \n",
      " 0   student_id              19158 non-null  int64  \n",
      " 1   city                    19158 non-null  object \n",
      " 2   city_development_index  19158 non-null  float64\n",
      " 3   gender                  14650 non-null  object \n",
      " 4   relevant_experience     19158 non-null  object \n",
      " 5   enrolled_university     18772 non-null  object \n",
      " 6   education_level         18698 non-null  object \n",
      " 7   major_discipline        16345 non-null  object \n",
      " 8   experience              19093 non-null  object \n",
      " 9   company_size            13220 non-null  object \n",
      " 10  company_type            13018 non-null  object \n",
      " 11  last_new_job            18735 non-null  object \n",
      " 12  training_hours          19158 non-null  int64  \n",
      " 13  job_change              19158 non-null  float64\n",
      "dtypes: float64(2), int64(2), object(10)\n",
      "memory usage: 2.0+ MB\n",
      "None\n"
     ]
    }
   ],
   "source": [
    "# Create a copy of ds_jobs for transforming\n",
    "ds_jobs_transformed = ds_jobs.copy()\n",
    "\n",
    "init_memory = ds_jobs.memory_usage(index=False, deep=True)\n",
    "print(f\"total original memory usage before tranformation: {init_memory.sum()} bytes \\n\")\n",
    "print(ds_jobs_transformed.info())"
   ]
  },
  {
   "cell_type": "markdown",
   "id": "a5241fe6-03d6-4a2c-8fc9-8ac37d2a9fc8",
   "metadata": {},
   "source": [
    "## 1st row - `student_id`\n",
    "\n",
    "The number of unique `student_id` values = the number of rows, so we just need to convert the original `int64` values to `int32`."
   ]
  },
  {
   "cell_type": "code",
   "execution_count": 3,
   "id": "409ea99f-47d2-47f2-b9f2-b74a1213fce1",
   "metadata": {
    "scrolled": true
   },
   "outputs": [
    {
     "name": "stdout",
     "output_type": "stream",
     "text": [
      "number of row of the data:         19158\n",
      "number of unique student_id value: 19158\n"
     ]
    }
   ],
   "source": [
    "# 1st column - student_id\n",
    "print(f\"number of row of the data:         {ds_jobs_transformed.shape[0]}\")\n",
    "print(f\"number of unique student_id value: {len(ds_jobs_transformed['student_id'].unique())}\")"
   ]
  },
  {
   "cell_type": "code",
   "execution_count": 4,
   "id": "d2abe857-5822-46ee-8347-f4eb593ec402",
   "metadata": {},
   "outputs": [],
   "source": [
    "# since (student_id unique values) = (# of rows), we just need to convert from int64 to int32\n",
    "ds_jobs_transformed['student_id'] = ds_jobs_transformed['student_id'].astype(np.int32)"
   ]
  },
  {
   "cell_type": "markdown",
   "id": "40092636-8094-4bdc-bf38-42895cd0d0dc",
   "metadata": {},
   "source": [
    "### 2nd column - `city`\n",
    "\n",
    "This variable is categorical with 123 levels. It is **nominal** since there is no natural order, so we just need to convert this to a nominal categorical variable per **requirement 4.**"
   ]
  },
  {
   "cell_type": "code",
   "execution_count": 5,
   "id": "4e02e87d-e315-4d36-af22-689454f7348e",
   "metadata": {},
   "outputs": [
    {
     "name": "stdout",
     "output_type": "stream",
     "text": [
      "Total number of cities listed = 123. The top 5 most frequently listed are:\n",
      "city\n",
      "city_103    0.227320\n",
      "city_21     0.141038\n",
      "city_16     0.080019\n",
      "city_114    0.069736\n",
      "city_160    0.044107\n",
      "Name: proportion, dtype: float64\n",
      "city\n",
      "city_129    0.000157\n",
      "city_111    0.000157\n",
      "city_121    0.000157\n",
      "city_140    0.000052\n",
      "city_171    0.000052\n",
      "Name: proportion, dtype: float64\n"
     ]
    }
   ],
   "source": [
    "# 2nd column - city\n",
    "city_distribution = ds_jobs_transformed['city'].value_counts(normalize=True, dropna=False)\n",
    "print(f\"Total number of cities listed = {len(city_distribution)}. The top 5 most frequently listed are:\")\n",
    "print(city_distribution[:5])\n",
    "print(city_distribution[-5:])"
   ]
  },
  {
   "cell_type": "code",
   "execution_count": 6,
   "id": "7070a5f4-7195-4eac-998c-ace5a08badb0",
   "metadata": {},
   "outputs": [],
   "source": [
    "ds_jobs_transformed['city'] = ds_jobs_transformed['city'].astype(\"category\")"
   ]
  },
  {
   "cell_type": "markdown",
   "id": "195db10d-b235-467a-af16-8c22d9295846",
   "metadata": {},
   "source": [
    "## 3rd column - `city_development_index`\n",
    "\n",
    "This column originally came in as `float64` and is distributed between 0.448 and 0.949 as shown in the following two cells. Since this appears to be a continuous variable (histogram below), we need to convert this column from `float64` to `float16` per **requirment 3.**"
   ]
  },
  {
   "cell_type": "code",
   "execution_count": 7,
   "id": "8970a0ea-32df-4d18-8cc9-e053de3d8ec4",
   "metadata": {},
   "outputs": [
    {
     "name": "stdout",
     "output_type": "stream",
     "text": [
      "<class 'pandas.core.series.Series'>\n",
      "RangeIndex: 19158 entries, 0 to 19157\n",
      "Series name: city_development_index\n",
      "Non-Null Count  Dtype  \n",
      "--------------  -----  \n",
      "19158 non-null  float64\n",
      "dtypes: float64(1)\n",
      "memory usage: 149.8 KB\n",
      "None \n",
      "\n",
      "count    19158.000000\n",
      "mean         0.828848\n",
      "std          0.123362\n",
      "min          0.448000\n",
      "25%          0.740000\n",
      "50%          0.903000\n",
      "75%          0.920000\n",
      "max          0.949000\n",
      "Name: city_development_index, dtype: float64\n"
     ]
    },
    {
     "data": {
      "text/plain": [
       "<Axes: >"
      ]
     },
     "execution_count": 7,
     "metadata": {},
     "output_type": "execute_result"
    },
    {
     "data": {
      "image/png": "[encoded data removed]",
      "text/plain": [
       "<Figure size 640x480 with 1 Axes>"
      ]
     },
     "metadata": {},
     "output_type": "display_data"
    }
   ],
   "source": [
    "print(ds_jobs_transformed[\"city_development_index\"].info(), \"\\n\")\n",
    "print(ds_jobs_transformed[\"city_development_index\"].describe())\n",
    "ds_jobs_transformed[\"city_development_index\"].hist()  # these look like they really are floats, so convert to float16"
   ]
  },
  {
   "cell_type": "code",
   "execution_count": 8,
   "id": "a886f46d-0a29-4382-b181-af4f8dfa4872",
   "metadata": {},
   "outputs": [
    {
     "data": {
      "text/plain": [
       "student_id                   int32\n",
       "city                      category\n",
       "city_development_index     float16\n",
       "gender                      object\n",
       "relevant_experience         object\n",
       "enrolled_university         object\n",
       "education_level             object\n",
       "major_discipline            object\n",
       "experience                  object\n",
       "company_size                object\n",
       "company_type                object\n",
       "last_new_job                object\n",
       "training_hours               int64\n",
       "job_change                 float64\n",
       "dtype: object"
      ]
     },
     "execution_count": 8,
     "metadata": {},
     "output_type": "execute_result"
    }
   ],
   "source": [
    "ds_jobs_transformed[\"city_development_index\"] = ds_jobs_transformed[\"city_development_index\"].astype(np.float16)\n",
    "ds_jobs_transformed.dtypes"
   ]
  },
  {
   "cell_type": "markdown",
   "id": "c7ce6f67-32e9-4a64-bb42-c2ae8ee6733d",
   "metadata": {},
   "source": [
    "## 4th column - `gender`\n",
    "\n",
    "This column comes in originally as a string (`object`). The second largest category are missing values at 23.5%\n",
    "\n",
    "The `Male` category makes up 69% of the entries. The `Female` category makes up about 6.5% and `Other` makes up less tha 0.1%. Since this has 3 level and no obvious order, we need to convert this to a *nominal* categorical column per **requirement 4.**"
   ]
  },
  {
   "cell_type": "code",
   "execution_count": 9,
   "id": "c5312460-4ab6-44a8-884e-1c7812ff43f5",
   "metadata": {},
   "outputs": [
    {
     "data": {
      "text/plain": [
       "gender\n",
       "Male      0.690103\n",
       "NaN       0.235306\n",
       "Female    0.064621\n",
       "Other     0.009970\n",
       "Name: proportion, dtype: float64"
      ]
     },
     "execution_count": 9,
     "metadata": {},
     "output_type": "execute_result"
    }
   ],
   "source": [
    "ds_jobs_transformed['gender'].value_counts(normalize=True, dropna=False)"
   ]
  },
  {
   "cell_type": "code",
   "execution_count": 10,
   "id": "b73fd9a8-edd8-48b8-890a-687953155161",
   "metadata": {},
   "outputs": [],
   "source": [
    "ds_jobs_transformed['gender'] = ds_jobs_transformed['gender'].astype(\"category\")"
   ]
  },
  {
   "cell_type": "markdown",
   "id": "57c70f6f-18c7-4472-9c5d-c79609587821",
   "metadata": {},
   "source": [
    "## 5th column - `relevant_experience`\n",
    "\n",
    "This column comes in originally as a string (`object`). There are only two values: `Has relevant experience` and `No relevant experience`, so this is a binary variable which falls under **requirement 1.**  Thinking in terms of modeling this data, it makes the most sense to map `Has relevant experience` to 1 or *True* and `No relevant experience` to 0 or *False*."
   ]
  },
  {
   "cell_type": "code",
   "execution_count": 11,
   "id": "27c723f0-fa5d-4407-94e5-afa4f5f723ff",
   "metadata": {},
   "outputs": [
    {
     "name": "stdout",
     "output_type": "stream",
     "text": [
      "relevant_experience\n",
      "Has relevant experience    13792\n",
      "No relevant experience      5366\n",
      "Name: count, dtype: int64 \n",
      "\n"
     ]
    },
    {
     "data": {
      "text/plain": [
       "relevant_experience\n",
       "True     13792\n",
       "False     5366\n",
       "Name: count, dtype: int64"
      ]
     },
     "execution_count": 11,
     "metadata": {},
     "output_type": "execute_result"
    }
   ],
   "source": [
    "print(ds_jobs[\"relevant_experience\"].value_counts(dropna=False), \"\\n\")  # no missing values in this col\n",
    "# map 1 to having experience, 0 to not having experience\n",
    "ds_jobs_transformed[\"relevant_experience\"] = np.where(\n",
    "    ds_jobs_transformed[\"relevant_experience\"].str.contains(\"Has\", regex=False), 1, 0).astype(bool)\n",
    "ds_jobs_transformed[\"relevant_experience\"].value_counts()"
   ]
  },
  {
   "cell_type": "markdown",
   "id": "02a4ff00-3a33-48ef-910e-a4f859b955cf",
   "metadata": {},
   "source": [
    "## 6th column - `enrolled_university`\n",
    "\n",
    "This variable is categorical with three levels: `no_enrollment`, `Part time course` and `Full time course`. If we think in terms of *degree of enrollment*, then these categories could be considered ordinal is the following sense:\n",
    "\n",
    "`no_enrollment` < `Part time course` < `Full time course`\n",
    "\n",
    "Under these assumptions, the conversion will be governed by **requirement 5.**"
   ]
  },
  {
   "cell_type": "code",
   "execution_count": 12,
   "id": "3e023bb0-4473-47bb-b289-13515359da6b",
   "metadata": {},
   "outputs": [
    {
     "name": "stdout",
     "output_type": "stream",
     "text": [
      "enrolled_university\n",
      "no_enrollment       13817\n",
      "Full time course     3757\n",
      "Part time course     1198\n",
      "NaN                   386\n",
      "Name: count, dtype: int64 \n",
      "\n"
     ]
    },
    {
     "data": {
      "text/plain": [
       "enrolled_university\n",
       "Full time course     3757\n",
       "Part time course     1198\n",
       "no_enrollment       13817\n",
       "Name: enrolled_university, dtype: int64"
      ]
     },
     "execution_count": 12,
     "metadata": {},
     "output_type": "execute_result"
    }
   ],
   "source": [
    "print(ds_jobs_transformed['enrolled_university'].value_counts(dropna=False), \"\\n\")  # a few NaNs...\n",
    "\n",
    "ds_jobs_transformed.groupby(by=['enrolled_university'], observed=True)['enrolled_university'].count()  # BEFORE conversion"
   ]
  },
  {
   "cell_type": "code",
   "execution_count": 13,
   "id": "5c14739f-1292-4dc4-a106-9d4fb19fefee",
   "metadata": {},
   "outputs": [
    {
     "data": {
      "text/plain": [
       "enrolled_university\n",
       "no_enrollment       13817\n",
       "Part time course     1198\n",
       "Full time course     3757\n",
       "Name: enrolled_university, dtype: int64"
      ]
     },
     "execution_count": 13,
     "metadata": {},
     "output_type": "execute_result"
    }
   ],
   "source": [
    "# convert to ordinal categorical\n",
    "ds_jobs_transformed[\"enrolled_university\"] = ds_jobs_transformed[\"enrolled_university\"].astype(\"category\")\n",
    "ds_jobs_transformed[\"enrolled_university\"] = ds_jobs_transformed[\"enrolled_university\"].cat.reorder_categories(\n",
    "    new_categories = ['no_enrollment', 'Part time course', 'Full time course'],\n",
    "    ordered=True\n",
    ")\n",
    "\n",
    "ds_jobs_transformed.groupby(by=['enrolled_university'], observed=True)['enrolled_university'].count() # AFTER conversion"
   ]
  },
  {
   "cell_type": "markdown",
   "id": "fd224831-4e13-4a1e-8578-93cb1e813418",
   "metadata": {},
   "source": [
    "## 7th column - `education_level`\n",
    "\n",
    "This is another ordinal categorical variable, but with five levels. If we think in terms of *amount of education*, then these categories could be considered ordinal is the following sense:\n",
    "\n",
    "`Primary School` < `High School` < `Graduate` < `Masters` < `Phd`\n",
    "\n",
    "Under these assumptions, the conversion will be governed by **requirement 5.**"
   ]
  },
  {
   "cell_type": "code",
   "execution_count": 14,
   "id": "e8bdabd6-d4d8-4a5e-9ae5-8b3087cc7519",
   "metadata": {},
   "outputs": [
    {
     "data": {
      "text/plain": [
       "education_level\n",
       "Graduate          11598\n",
       "Masters            4361\n",
       "High School        2017\n",
       "NaN                 460\n",
       "Phd                 414\n",
       "Primary School      308\n",
       "Name: count, dtype: int64"
      ]
     },
     "execution_count": 14,
     "metadata": {},
     "output_type": "execute_result"
    }
   ],
   "source": [
    "ds_jobs_transformed['education_level'].value_counts(dropna=False)"
   ]
  },
  {
   "cell_type": "code",
   "execution_count": 15,
   "id": "af55fa91-d343-4885-8aab-8673b12099e3",
   "metadata": {},
   "outputs": [
    {
     "name": "stdout",
     "output_type": "stream",
     "text": [
      "education_level\n",
      "Graduate          11598\n",
      "High School        2017\n",
      "Masters            4361\n",
      "Phd                 414\n",
      "Primary School      308\n",
      "Name: education_level, dtype: int64 \n",
      "\n",
      "education_level\n",
      "Primary School      308\n",
      "High School        2017\n",
      "Graduate          11598\n",
      "Masters            4361\n",
      "Phd                 414\n",
      "Name: education_level, dtype: int64\n"
     ]
    }
   ],
   "source": [
    "print(ds_jobs_transformed.groupby(by=['education_level'], observed=True)['education_level'].count(), \"\\n\") # BEFORE conversion\n",
    "\n",
    "# convert to ordinal categorical\n",
    "ds_jobs_transformed[\"education_level\"] = ds_jobs_transformed[\"education_level\"].astype(\"category\")\n",
    "ds_jobs_transformed[\"education_level\"] = ds_jobs_transformed[\"education_level\"].cat.reorder_categories(\n",
    "    new_categories = ['Primary School', 'High School', 'Graduate', 'Masters', 'Phd'],\n",
    "    ordered=True\n",
    ")\n",
    "\n",
    "print(ds_jobs_transformed.groupby(by=['education_level'], observed=True)['education_level'].count()) # AFTER conversion"
   ]
  },
  {
   "cell_type": "markdown",
   "id": "8ac5eea2-4e62-4832-a19f-9ffad08d8c94",
   "metadata": {},
   "source": [
    "## 8th column - `major_discipline`\n",
    "\n",
    "This is a categorical variable with six levels and no obvious order. So, we need to convert this to a *nominal* categorical column per **requirement 4.**"
   ]
  },
  {
   "cell_type": "code",
   "execution_count": 16,
   "id": "a6783fef-4f3b-43d6-b894-9d4c487f7feb",
   "metadata": {},
   "outputs": [
    {
     "data": {
      "text/plain": [
       "major_discipline\n",
       "STEM               14492\n",
       "NaN                 2813\n",
       "Humanities           669\n",
       "Other                381\n",
       "Business Degree      327\n",
       "Arts                 253\n",
       "No Major             223\n",
       "Name: count, dtype: int64"
      ]
     },
     "execution_count": 16,
     "metadata": {},
     "output_type": "execute_result"
    }
   ],
   "source": [
    "ds_jobs_transformed[\"major_discipline\"].value_counts(dropna=False)  # lot of NaNs"
   ]
  },
  {
   "cell_type": "code",
   "execution_count": 17,
   "id": "88ae3b5e-5c19-4f37-b808-74c2dbe99d05",
   "metadata": {},
   "outputs": [],
   "source": [
    "ds_jobs_transformed[\"major_discipline\"] = ds_jobs_transformed[\"major_discipline\"].astype(\"category\")"
   ]
  },
  {
   "cell_type": "markdown",
   "id": "1fab9971-0cda-4e39-9774-7c9ba8a085ff",
   "metadata": {},
   "source": [
    "## 9th column - `experience`\n",
    "\n",
    "This is another ordinal categorical variable, but with many levels. The level naturally order themselves from low values (less experience) to high values (more experience).\n",
    "\n",
    "Under these assumptions, the conversion will be governed by **requirement 5.**"
   ]
  },
  {
   "cell_type": "code",
   "execution_count": 18,
   "id": "6ffadf0b-a8b7-49d8-ad9f-e8d4a32de212",
   "metadata": {
    "scrolled": true
   },
   "outputs": [
    {
     "name": "stdout",
     "output_type": "stream",
     "text": [
      "experience\n",
      "1       549\n",
      "10      985\n",
      "11      664\n",
      "12      494\n",
      "13      399\n",
      "14      586\n",
      "15      686\n",
      "16      508\n",
      "17      342\n",
      "18      280\n",
      "19      304\n",
      "2      1127\n",
      "20      148\n",
      "3      1354\n",
      "4      1403\n",
      "5      1430\n",
      "6      1216\n",
      "7      1028\n",
      "8       802\n",
      "9       980\n",
      "<1      522\n",
      ">20    3286\n",
      "Name: experience, dtype: int64 \n",
      "\n",
      "experience\n",
      "<1      522\n",
      "1       549\n",
      "2      1127\n",
      "3      1354\n",
      "4      1403\n",
      "5      1430\n",
      "6      1216\n",
      "7      1028\n",
      "8       802\n",
      "9       980\n",
      "10      985\n",
      "11      664\n",
      "12      494\n",
      "13      399\n",
      "14      586\n",
      "15      686\n",
      "16      508\n",
      "17      342\n",
      "18      280\n",
      "19      304\n",
      "20      148\n",
      ">20    3286\n",
      "Name: experience, dtype: int64\n"
     ]
    }
   ],
   "source": [
    "ordered_experience = ['<1', '1', '2', '3', '4', '5', '6', '7',\n",
    "                      '8', '9', '10', '11', '12', '13', '14',\n",
    "                      '15', '16', '17', '18', '19', '20', '>20']\n",
    "print(ds_jobs_transformed.groupby(by=['experience'], observed=True)['experience'].count(), \"\\n\") # BEFORE conversion\n",
    "\n",
    "ds_jobs_transformed['experience'] = ds_jobs_transformed['experience'].astype('category')\n",
    "ds_jobs_transformed['experience'] = ds_jobs_transformed['experience'].cat.reorder_categories(\n",
    "    new_categories = ordered_experience,\n",
    "    ordered=True\n",
    ")\n",
    "\n",
    "print(ds_jobs_transformed.groupby(by=['experience'], observed=True)['experience'].count()) # AFTER conversion"
   ]
  },
  {
   "cell_type": "markdown",
   "id": "8eb2976d-885b-4259-b6eb-384839d86c0e",
   "metadata": {},
   "source": [
    "## 10th column - `company_size`\n",
    "\n",
    "Catigorical and ordinal"
   ]
  },
  {
   "cell_type": "code",
   "execution_count": 19,
   "id": "e22e5057-bafd-4f33-8c91-6130f726cac5",
   "metadata": {},
   "outputs": [
    {
     "name": "stdout",
     "output_type": "stream",
     "text": [
      "company_size\n",
      "10-49        1471\n",
      "100-499      2571\n",
      "1000-4999    1328\n",
      "10000+       2019\n",
      "50-99        3083\n",
      "500-999       877\n",
      "5000-9999     563\n",
      "<10          1308\n",
      "Name: company_size, dtype: int64 \n",
      "\n",
      "company_size\n",
      "<10          1308\n",
      "10-49        1471\n",
      "50-99        3083\n",
      "100-499      2571\n",
      "500-999       877\n",
      "1000-4999    1328\n",
      "5000-9999     563\n",
      "10000+       2019\n",
      "Name: company_size, dtype: int64 \n",
      "\n"
     ]
    }
   ],
   "source": [
    "print(ds_jobs_transformed.groupby(by=['company_size'], observed=True)['company_size'].count(), \"\\n\") # BEFORE conversion\n",
    "\n",
    "ordered_company_size = ['<10', '10-49', '50-99', '100-499', '500-999', '1000-4999', '5000-9999', '10000+']\n",
    "ds_jobs_transformed['company_size'] = ds_jobs_transformed['company_size'].astype('category')\n",
    "ds_jobs_transformed['company_size'] = ds_jobs_transformed['company_size'].cat.reorder_categories(\n",
    "    new_categories = ordered_company_size,\n",
    "    ordered=True\n",
    ")\n",
    "\n",
    "print(ds_jobs_transformed.groupby(by=['company_size'], observed=True)['company_size'].count(), \"\\n\") # AFTER conversion"
   ]
  },
  {
   "cell_type": "markdown",
   "id": "2649d101-d9a1-40b2-924e-2a79c35e306c",
   "metadata": {},
   "source": [
    "## 11th column - `company_type`\n",
    "\n",
    "Categorical, nominal"
   ]
  },
  {
   "cell_type": "code",
   "execution_count": 20,
   "id": "53bc8880-596d-4b47-a624-3d6a4112ba01",
   "metadata": {},
   "outputs": [
    {
     "name": "stdout",
     "output_type": "stream",
     "text": [
      "company_type\n",
      "Pvt Ltd                9817\n",
      "Funded Startup         1001\n",
      "Public Sector           955\n",
      "Early Stage Startup     603\n",
      "NGO                     521\n",
      "Other                   121\n",
      "Name: count, dtype: int64\n"
     ]
    }
   ],
   "source": [
    "print(ds_jobs_transformed['company_type'].value_counts())\n",
    "\n",
    "ds_jobs_transformed['company_type'] = ds_jobs_transformed['company_type'].astype('category')"
   ]
  },
  {
   "cell_type": "markdown",
   "id": "e8665b31-bfb0-4ae1-b5a0-30fedbba87dc",
   "metadata": {},
   "source": [
    "## 12th column - `last_new_job`\n",
    "\n",
    "Categorical, oridinal"
   ]
  },
  {
   "cell_type": "code",
   "execution_count": 21,
   "id": "90aa8702-d4f0-4a56-9fa5-1c6ff7f10634",
   "metadata": {},
   "outputs": [
    {
     "name": "stdout",
     "output_type": "stream",
     "text": [
      "last_new_job\n",
      "1        8040\n",
      "2        2900\n",
      "3        1024\n",
      "4        1029\n",
      ">4       3290\n",
      "never    2452\n",
      "Name: last_new_job, dtype: int64 \n",
      "\n",
      "last_new_job\n",
      "never    2452\n",
      "1        8040\n",
      "2        2900\n",
      "3        1024\n",
      "4        1029\n",
      ">4       3290\n",
      "Name: last_new_job, dtype: int64 \n",
      "\n"
     ]
    }
   ],
   "source": [
    "print(ds_jobs_transformed.groupby(by=['last_new_job'], observed=True)['last_new_job'].count(), \"\\n\") # BEFORE conversion\n",
    "\n",
    "ordered_last_new_job = ['never', '1', '2', '3', '4', '>4']\n",
    "ds_jobs_transformed['last_new_job'] = ds_jobs_transformed['last_new_job'].astype('category')\n",
    "ds_jobs_transformed['last_new_job'] = ds_jobs_transformed['last_new_job'].cat.reorder_categories(\n",
    "    new_categories = ordered_last_new_job,\n",
    "    ordered = True\n",
    ")\n",
    "\n",
    "print(ds_jobs_transformed.groupby(by=['last_new_job'], observed=True)['last_new_job'].count(), \"\\n\") # AFTER conversion"
   ]
  },
  {
   "cell_type": "markdown",
   "id": "c3ce6f0a-a84a-4832-8e2c-9b41c0015e44",
   "metadata": {},
   "source": [
    "## 13th column - `training_hours`\n",
    "\n",
    "Continuous variable that comes in as `int64`, so the conversion falls under **requirement 2.**"
   ]
  },
  {
   "cell_type": "code",
   "execution_count": 22,
   "id": "974051a3-37a2-4a8a-a5e6-7cd0d2a80c2b",
   "metadata": {},
   "outputs": [
    {
     "data": {
      "text/plain": [
       "<Axes: >"
      ]
     },
     "execution_count": 22,
     "metadata": {},
     "output_type": "execute_result"
    },
    {
     "data": {
      "image/png": "[encoded data removed]",
      "text/plain": [
       "<Figure size 640x480 with 1 Axes>"
      ]
     },
     "metadata": {},
     "output_type": "display_data"
    }
   ],
   "source": [
    "ds_jobs_transformed['training_hours'].hist()"
   ]
  },
  {
   "cell_type": "code",
   "execution_count": 23,
   "id": "c3bdbbe4-0800-4e15-ae5f-2612ca7c35e1",
   "metadata": {},
   "outputs": [
    {
     "data": {
      "text/plain": [
       "student_id                   int32\n",
       "city                      category\n",
       "city_development_index     float16\n",
       "gender                    category\n",
       "relevant_experience           bool\n",
       "enrolled_university       category\n",
       "education_level           category\n",
       "major_discipline          category\n",
       "experience                category\n",
       "company_size              category\n",
       "company_type              category\n",
       "last_new_job              category\n",
       "training_hours               int32\n",
       "job_change                 float64\n",
       "dtype: object"
      ]
     },
     "execution_count": 23,
     "metadata": {},
     "output_type": "execute_result"
    }
   ],
   "source": [
    "ds_jobs_transformed['training_hours'] = ds_jobs_transformed['training_hours'].astype(np.int32)\n",
    "ds_jobs_transformed.dtypes"
   ]
  },
  {
   "cell_type": "markdown",
   "id": "bc5d6d9b-e643-4d8a-87d5-2176e25e08c7",
   "metadata": {},
   "source": [
    "## 14th columns - `job_change`\n",
    "\n",
    "Categorical, binary: 1 = new job, 0 = not. This conversion falls under **requirement 1.**"
   ]
  },
  {
   "cell_type": "code",
   "execution_count": 24,
   "id": "13757e62-aca2-48f4-b569-a838af11bdd5",
   "metadata": {},
   "outputs": [
    {
     "data": {
      "text/plain": [
       "job_change\n",
       "0.0    14381\n",
       "1.0     4777\n",
       "Name: count, dtype: int64"
      ]
     },
     "execution_count": 24,
     "metadata": {},
     "output_type": "execute_result"
    }
   ],
   "source": [
    "ds_jobs_transformed[\"job_change\"].value_counts()"
   ]
  },
  {
   "cell_type": "code",
   "execution_count": 25,
   "id": "ec3c1819-31db-49be-b382-71bd650aef8b",
   "metadata": {},
   "outputs": [
    {
     "data": {
      "text/plain": [
       "student_id                   int32\n",
       "city                      category\n",
       "city_development_index     float16\n",
       "gender                    category\n",
       "relevant_experience           bool\n",
       "enrolled_university       category\n",
       "education_level           category\n",
       "major_discipline          category\n",
       "experience                category\n",
       "company_size              category\n",
       "company_type              category\n",
       "last_new_job              category\n",
       "training_hours               int32\n",
       "job_change                    bool\n",
       "dtype: object"
      ]
     },
     "execution_count": 25,
     "metadata": {},
     "output_type": "execute_result"
    }
   ],
   "source": [
    "# convert to bool as required\n",
    "ds_jobs_transformed[\"job_change\"] = ds_jobs_transformed[\"job_change\"].astype(bool)\n",
    "# check our final results\n",
    "ds_jobs_transformed.dtypes"
   ]
  },
  {
   "cell_type": "markdown",
   "id": "ee301591-4e2a-41db-b144-e900bf51ae64",
   "metadata": {},
   "source": [
    "## Compare the difference before and after conversions\n",
    "\n",
    "We see almost 2 orders of magnitude drop in size from the above conversions."
   ]
  },
  {
   "cell_type": "code",
   "execution_count": 26,
   "id": "b5de2fbe-66b3-4ed9-8562-abeefb5b0aa0",
   "metadata": {},
   "outputs": [
    {
     "name": "stdout",
     "output_type": "stream",
     "text": [
      "total original memory usage BEFORE tranformation: 12391577 bytes\n",
      "total original memory usage AFTER tranformation:    419837 bytes\n"
     ]
    }
   ],
   "source": [
    "print(f\"total original memory usage BEFORE tranformation: {init_memory.sum()} bytes\")\n",
    "\n",
    "after_conversion_memory = ds_jobs_transformed.memory_usage(index=False, deep=True)\n",
    "print(f\"total original memory usage AFTER tranformation:    {after_conversion_memory.sum()} bytes\")"
   ]
  },
  {
   "cell_type": "markdown",
   "id": "22c0e6e9-cc11-4038-9c9a-106d4c7f9ba1",
   "metadata": {},
   "source": [
    "## Filter students\n",
    "\n",
    "+ 10 or more years of experience\n",
    "+ at companies with at least 1000 employees"
   ]
  },
  {
   "cell_type": "code",
   "execution_count": 27,
   "id": "7175a21f-41fe-4349-9848-82dba5c98103",
   "metadata": {},
   "outputs": [
    {
     "data": {
      "text/plain": [
       "(19158, 14)"
      ]
     },
     "execution_count": 27,
     "metadata": {},
     "output_type": "execute_result"
    }
   ],
   "source": [
    "# before filtering\n",
    "ds_jobs_transformed.shape"
   ]
  },
  {
   "cell_type": "code",
   "execution_count": 28,
   "id": "e78a5e99-7ccb-49a0-8e23-39bbd6d4cdc0",
   "metadata": {},
   "outputs": [
    {
     "name": "stdout",
     "output_type": "stream",
     "text": [
      "(8682, 14)\n"
     ]
    },
    {
     "data": {
      "text/html": [
       "<div>\n",
       "<style scoped>\n",
       "    .dataframe tbody tr th:only-of-type {\n",
       "        vertical-align: middle;\n",
       "    }\n",
       "\n",
       "    .dataframe tbody tr th {\n",
       "        vertical-align: top;\n",
       "    }\n",
       "\n",
       "    .dataframe thead th {\n",
       "        text-align: right;\n",
       "    }\n",
       "</style>\n",
       "<table border=\"1\" class=\"dataframe\">\n",
       "  <thead>\n",
       "    <tr style=\"text-align: right;\">\n",
       "      <th></th>\n",
       "      <th>student_id</th>\n",
       "      <th>city</th>\n",
       "      <th>city_development_index</th>\n",
       "      <th>gender</th>\n",
       "      <th>relevant_experience</th>\n",
       "      <th>enrolled_university</th>\n",
       "      <th>education_level</th>\n",
       "      <th>major_discipline</th>\n",
       "      <th>experience</th>\n",
       "      <th>company_size</th>\n",
       "      <th>company_type</th>\n",
       "      <th>last_new_job</th>\n",
       "      <th>training_hours</th>\n",
       "      <th>job_change</th>\n",
       "    </tr>\n",
       "  </thead>\n",
       "  <tbody>\n",
       "    <tr>\n",
       "      <th>0</th>\n",
       "      <td>8949</td>\n",
       "      <td>city_103</td>\n",
       "      <td>0.919922</td>\n",
       "      <td>Male</td>\n",
       "      <td>True</td>\n",
       "      <td>no_enrollment</td>\n",
       "      <td>Graduate</td>\n",
       "      <td>STEM</td>\n",
       "      <td>&gt;20</td>\n",
       "      <td>NaN</td>\n",
       "      <td>NaN</td>\n",
       "      <td>1</td>\n",
       "      <td>36</td>\n",
       "      <td>True</td>\n",
       "    </tr>\n",
       "    <tr>\n",
       "      <th>1</th>\n",
       "      <td>29725</td>\n",
       "      <td>city_40</td>\n",
       "      <td>0.775879</td>\n",
       "      <td>Male</td>\n",
       "      <td>False</td>\n",
       "      <td>no_enrollment</td>\n",
       "      <td>Graduate</td>\n",
       "      <td>STEM</td>\n",
       "      <td>15</td>\n",
       "      <td>50-99</td>\n",
       "      <td>Pvt Ltd</td>\n",
       "      <td>&gt;4</td>\n",
       "      <td>47</td>\n",
       "      <td>False</td>\n",
       "    </tr>\n",
       "    <tr>\n",
       "      <th>4</th>\n",
       "      <td>666</td>\n",
       "      <td>city_162</td>\n",
       "      <td>0.767090</td>\n",
       "      <td>Male</td>\n",
       "      <td>True</td>\n",
       "      <td>no_enrollment</td>\n",
       "      <td>Masters</td>\n",
       "      <td>STEM</td>\n",
       "      <td>&gt;20</td>\n",
       "      <td>50-99</td>\n",
       "      <td>Funded Startup</td>\n",
       "      <td>4</td>\n",
       "      <td>8</td>\n",
       "      <td>False</td>\n",
       "    </tr>\n",
       "    <tr>\n",
       "      <th>5</th>\n",
       "      <td>21651</td>\n",
       "      <td>city_176</td>\n",
       "      <td>0.764160</td>\n",
       "      <td>NaN</td>\n",
       "      <td>True</td>\n",
       "      <td>Part time course</td>\n",
       "      <td>Graduate</td>\n",
       "      <td>STEM</td>\n",
       "      <td>11</td>\n",
       "      <td>NaN</td>\n",
       "      <td>NaN</td>\n",
       "      <td>1</td>\n",
       "      <td>24</td>\n",
       "      <td>True</td>\n",
       "    </tr>\n",
       "    <tr>\n",
       "      <th>7</th>\n",
       "      <td>402</td>\n",
       "      <td>city_46</td>\n",
       "      <td>0.762207</td>\n",
       "      <td>Male</td>\n",
       "      <td>True</td>\n",
       "      <td>no_enrollment</td>\n",
       "      <td>Graduate</td>\n",
       "      <td>STEM</td>\n",
       "      <td>13</td>\n",
       "      <td>&lt;10</td>\n",
       "      <td>Pvt Ltd</td>\n",
       "      <td>&gt;4</td>\n",
       "      <td>18</td>\n",
       "      <td>True</td>\n",
       "    </tr>\n",
       "  </tbody>\n",
       "</table>\n",
       "</div>"
      ],
      "text/plain": [
       "   student_id      city  city_development_index gender  relevant_experience  \\\n",
       "0        8949  city_103                0.919922   Male                 True   \n",
       "1       29725   city_40                0.775879   Male                False   \n",
       "4         666  city_162                0.767090   Male                 True   \n",
       "5       21651  city_176                0.764160    NaN                 True   \n",
       "7         402   city_46                0.762207   Male                 True   \n",
       "\n",
       "  enrolled_university education_level major_discipline experience  \\\n",
       "0       no_enrollment        Graduate             STEM        >20   \n",
       "1       no_enrollment        Graduate             STEM         15   \n",
       "4       no_enrollment         Masters             STEM        >20   \n",
       "5    Part time course        Graduate             STEM         11   \n",
       "7       no_enrollment        Graduate             STEM         13   \n",
       "\n",
       "  company_size    company_type last_new_job  training_hours  job_change  \n",
       "0          NaN             NaN            1              36        True  \n",
       "1        50-99         Pvt Ltd           >4              47       False  \n",
       "4        50-99  Funded Startup            4               8       False  \n",
       "5          NaN             NaN            1              24        True  \n",
       "7          <10         Pvt Ltd           >4              18        True  "
      ]
     },
     "execution_count": 28,
     "metadata": {},
     "output_type": "execute_result"
    }
   ],
   "source": [
    "ds_jobs_transformed_experience = ds_jobs_transformed.loc[ds_jobs_transformed['experience'] >= '10']\n",
    "print(ds_jobs_transformed_experience.shape)\n",
    "ds_jobs_transformed_experience.head()"
   ]
  },
  {
   "cell_type": "code",
   "execution_count": 29,
   "id": "b45f69e5-7243-4053-9c73-8dfb78ed80a3",
   "metadata": {},
   "outputs": [
    {
     "name": "stdout",
     "output_type": "stream",
     "text": [
      "(2201, 14)\n"
     ]
    },
    {
     "data": {
      "text/html": [
       "<div>\n",
       "<style scoped>\n",
       "    .dataframe tbody tr th:only-of-type {\n",
       "        vertical-align: middle;\n",
       "    }\n",
       "\n",
       "    .dataframe tbody tr th {\n",
       "        vertical-align: top;\n",
       "    }\n",
       "\n",
       "    .dataframe thead th {\n",
       "        text-align: right;\n",
       "    }\n",
       "</style>\n",
       "<table border=\"1\" class=\"dataframe\">\n",
       "  <thead>\n",
       "    <tr style=\"text-align: right;\">\n",
       "      <th></th>\n",
       "      <th>student_id</th>\n",
       "      <th>city</th>\n",
       "      <th>city_development_index</th>\n",
       "      <th>gender</th>\n",
       "      <th>relevant_experience</th>\n",
       "      <th>enrolled_university</th>\n",
       "      <th>education_level</th>\n",
       "      <th>major_discipline</th>\n",
       "      <th>experience</th>\n",
       "      <th>company_size</th>\n",
       "      <th>company_type</th>\n",
       "      <th>last_new_job</th>\n",
       "      <th>training_hours</th>\n",
       "      <th>job_change</th>\n",
       "    </tr>\n",
       "  </thead>\n",
       "  <tbody>\n",
       "    <tr>\n",
       "      <th>9</th>\n",
       "      <td>699</td>\n",
       "      <td>city_103</td>\n",
       "      <td>0.919922</td>\n",
       "      <td>NaN</td>\n",
       "      <td>True</td>\n",
       "      <td>no_enrollment</td>\n",
       "      <td>Graduate</td>\n",
       "      <td>STEM</td>\n",
       "      <td>17</td>\n",
       "      <td>10000+</td>\n",
       "      <td>Pvt Ltd</td>\n",
       "      <td>&gt;4</td>\n",
       "      <td>123</td>\n",
       "      <td>False</td>\n",
       "    </tr>\n",
       "    <tr>\n",
       "      <th>12</th>\n",
       "      <td>25619</td>\n",
       "      <td>city_61</td>\n",
       "      <td>0.913086</td>\n",
       "      <td>Male</td>\n",
       "      <td>True</td>\n",
       "      <td>no_enrollment</td>\n",
       "      <td>Graduate</td>\n",
       "      <td>STEM</td>\n",
       "      <td>&gt;20</td>\n",
       "      <td>1000-4999</td>\n",
       "      <td>Pvt Ltd</td>\n",
       "      <td>3</td>\n",
       "      <td>23</td>\n",
       "      <td>False</td>\n",
       "    </tr>\n",
       "    <tr>\n",
       "      <th>31</th>\n",
       "      <td>22293</td>\n",
       "      <td>city_103</td>\n",
       "      <td>0.919922</td>\n",
       "      <td>Male</td>\n",
       "      <td>True</td>\n",
       "      <td>Part time course</td>\n",
       "      <td>Graduate</td>\n",
       "      <td>STEM</td>\n",
       "      <td>19</td>\n",
       "      <td>5000-9999</td>\n",
       "      <td>Pvt Ltd</td>\n",
       "      <td>&gt;4</td>\n",
       "      <td>141</td>\n",
       "      <td>False</td>\n",
       "    </tr>\n",
       "    <tr>\n",
       "      <th>34</th>\n",
       "      <td>26494</td>\n",
       "      <td>city_16</td>\n",
       "      <td>0.910156</td>\n",
       "      <td>Male</td>\n",
       "      <td>True</td>\n",
       "      <td>no_enrollment</td>\n",
       "      <td>Graduate</td>\n",
       "      <td>Business Degree</td>\n",
       "      <td>12</td>\n",
       "      <td>5000-9999</td>\n",
       "      <td>Pvt Ltd</td>\n",
       "      <td>3</td>\n",
       "      <td>145</td>\n",
       "      <td>False</td>\n",
       "    </tr>\n",
       "    <tr>\n",
       "      <th>40</th>\n",
       "      <td>2547</td>\n",
       "      <td>city_114</td>\n",
       "      <td>0.925781</td>\n",
       "      <td>Female</td>\n",
       "      <td>True</td>\n",
       "      <td>Full time course</td>\n",
       "      <td>Masters</td>\n",
       "      <td>STEM</td>\n",
       "      <td>16</td>\n",
       "      <td>1000-4999</td>\n",
       "      <td>Public Sector</td>\n",
       "      <td>2</td>\n",
       "      <td>14</td>\n",
       "      <td>False</td>\n",
       "    </tr>\n",
       "  </tbody>\n",
       "</table>\n",
       "</div>"
      ],
      "text/plain": [
       "    student_id      city  city_development_index  gender  relevant_experience  \\\n",
       "9          699  city_103                0.919922     NaN                 True   \n",
       "12       25619   city_61                0.913086    Male                 True   \n",
       "31       22293  city_103                0.919922    Male                 True   \n",
       "34       26494   city_16                0.910156    Male                 True   \n",
       "40        2547  city_114                0.925781  Female                 True   \n",
       "\n",
       "   enrolled_university education_level major_discipline experience  \\\n",
       "9        no_enrollment        Graduate             STEM         17   \n",
       "12       no_enrollment        Graduate             STEM        >20   \n",
       "31    Part time course        Graduate             STEM         19   \n",
       "34       no_enrollment        Graduate  Business Degree         12   \n",
       "40    Full time course         Masters             STEM         16   \n",
       "\n",
       "   company_size   company_type last_new_job  training_hours  job_change  \n",
       "9        10000+        Pvt Ltd           >4             123       False  \n",
       "12    1000-4999        Pvt Ltd            3              23       False  \n",
       "31    5000-9999        Pvt Ltd           >4             141       False  \n",
       "34    5000-9999        Pvt Ltd            3             145       False  \n",
       "40    1000-4999  Public Sector            2              14       False  "
      ]
     },
     "execution_count": 29,
     "metadata": {},
     "output_type": "execute_result"
    }
   ],
   "source": [
    "ds_jobs_transformed = ds_jobs_transformed_experience.loc[ds_jobs_transformed_experience['company_size'] >= '1000-4999']\n",
    "print(ds_jobs_transformed.shape)\n",
    "ds_jobs_transformed.head()"
   ]
  },
  {
   "cell_type": "code",
   "execution_count": null,
   "id": "5a13efbf-6de3-4556-b441-0450d5f4173c",
   "metadata": {},
   "outputs": [],
   "source": []
  },
  {
   "cell_type": "code",
   "execution_count": null,
   "id": "1ab4c728-1eb7-4c9a-bffa-62cedec01940",
   "metadata": {},
   "outputs": [],
   "source": []
  }
 ],
 "metadata": {
  "editor": "DataCamp Workspace",
  "kernelspec": {
   "display_name": "Python 3 (ipykernel)",
   "language": "python",
   "name": "python3"
  },
  "language_info": {
   "codemirror_mode": {
    "name": "ipython",
    "version": 3
   },
   "file_extension": ".py",
   "mimetype": "text/x-python",
   "name": "python",
   "nbconvert_exporter": "python",
   "pygments_lexer": "ipython3",
   "version": "3.11.6"
  }
 },
 "nbformat": 4,
 "nbformat_minor": 5
}
