{
 "cells": [
  {
   "cell_type": "markdown",
   "id": "a09e6d54-bf3f-4632-b299-bd49d5c80d5f",
   "metadata": {},
   "source": [
    "![Two data scientists working on a dashboard.](hr-image-small.png)\n",
    "\n",
    "A common problem when creating models to generate business value from data is that the datasets can be so large that it can take days for the model to generate predictions. Ensuring that your dataset is stored as efficiently as possible is crucial for allowing these models to run on a more reasonable timescale without having to reduce the size of the dataset.\n",
    "\n",
    "You've been hired by a major online data science training provider called *Training Data Ltd.* to clean up one of their largest customer datasets. This dataset will eventually be used to predict whether their students are looking for a new job or not, information that they will then use to direct them to prospective recruiters.\n",
    "\n",
    "You've been given access to `customer_train.csv`, which is a subset of their entire customer dataset, so you can create a proof-of-concept of a much more efficient storage solution. The dataset contains anonymized student information, and whether they were looking for a new job or not during training:\n",
    "\n",
    "| Column                   | Description                                                                      |\n",
    "|------------------------- |--------------------------------------------------------------------------------- |\n",
    "| `student_id`             | A unique ID for each student.                                                    |\n",
    "| `city`                   | A code for the city the student lives in.                                        |\n",
    "| `city_development_index` | A scaled development index for the city.                                         |\n",
    "| `gender`                 | The student's gender.                                                            |\n",
    "| `relevant_experience`    | An indicator of the student's work relevant experience.                          |\n",
    "| `enrolled_university`    | The type of university course enrolled in (if any).                              |\n",
    "| `education_level`        | The student's education level.                                                   |\n",
    "| `major_discipline`       | The educational discipline of the student.                                       |\n",
    "| `experience`             | The student's total work experience (in years).                                  |\n",
    "| `company_size`           | The number of employees at the student's current employer.                       |\n",
    "| `company_type`           | The type of company employing the student.                                       |\n",
    "| `last_new_job`           | The number of years between the student's current and previous jobs.             |\n",
    "| `training_hours`         | The number of hours of training completed.                                       |\n",
    "| `job_change`             | An indicator of whether the student is looking for a new job (`1`) or not (`0`). |"
   ]
  },
  {
   "cell_type": "markdown",
   "id": "0dbb0b61-9ed8-44dc-9088-694dc1084230",
   "metadata": {},
   "source": [
    "project link:  https://projects.datacamp.com/projects/1600"
   ]
  },
  {
   "cell_type": "markdown",
   "id": "98cb9b7f-8de2-45c0-8b58-db96e5ef9c9f",
   "metadata": {},
   "source": [
    "## Requirements\n",
    "\n",
    "1) Columns containing categories with only two factors must be stored as Booleans (`bool`).\n",
    "2) Columns containing integers only must be stored as 32-bit integers (`int32`).\n",
    "3) Columns containing floats must be stored as 16-bit floats (`float16`).\n",
    "4) Columns containing nominal categorical data must be stored as the `category` data type.\n",
    "5) Columns containing ordinal categorical data must be stored as *ordered categories*, and not mapped to numerical values, with an order that reflects the natural order of the column.\n",
    "6) The DataFrame should be filtered to only contain students with *10 or more years* of experience at companies with *at least 1000 employees*, as their recruiter base is suited to more experienced professionals at enterprise companies."
   ]
  },
  {
   "cell_type": "code",
   "execution_count": 1,
   "id": "eda9c1b2-4e9a-41ac-8da6-d4c98775f986",
   "metadata": {
    "executionCancelledAt": null,
    "executionTime": null,
    "lastExecutedAt": null,
    "lastExecutedByKernel": null,
    "lastScheduledRunId": null,
    "lastSuccessfullyExecutedCode": null,
    "outputsMetadata": {
     "0": {
      "height": 241,
      "tableState": {
       "quickFilterText": ""
      },
      "type": "dataFrame"
     }
    }
   },
   "outputs": [
    {
     "data": {
      "text/html": [
       "<div>\n",
       "<style scoped>\n",
       "    .dataframe tbody tr th:only-of-type {\n",
       "        vertical-align: middle;\n",
       "    }\n",
       "\n",
       "    .dataframe tbody tr th {\n",
       "        vertical-align: top;\n",
       "    }\n",
       "\n",
       "    .dataframe thead th {\n",
       "        text-align: right;\n",
       "    }\n",
       "</style>\n",
       "<table border=\"1\" class=\"dataframe\">\n",
       "  <thead>\n",
       "    <tr style=\"text-align: right;\">\n",
       "      <th></th>\n",
       "      <th>student_id</th>\n",
       "      <th>city</th>\n",
       "      <th>city_development_index</th>\n",
       "      <th>gender</th>\n",
       "      <th>relevant_experience</th>\n",
       "      <th>enrolled_university</th>\n",
       "      <th>education_level</th>\n",
       "      <th>major_discipline</th>\n",
       "      <th>experience</th>\n",
       "      <th>company_size</th>\n",
       "      <th>company_type</th>\n",
       "      <th>last_new_job</th>\n",
       "      <th>training_hours</th>\n",
       "      <th>job_change</th>\n",
       "    </tr>\n",
       "  </thead>\n",
       "  <tbody>\n",
       "    <tr>\n",
       "      <th>0</th>\n",
       "      <td>8949</td>\n",
       "      <td>city_103</td>\n",
       "      <td>0.920</td>\n",
       "      <td>Male</td>\n",
       "      <td>Has relevant experience</td>\n",
       "      <td>no_enrollment</td>\n",
       "      <td>Graduate</td>\n",
       "      <td>STEM</td>\n",
       "      <td>&gt;20</td>\n",
       "      <td>NaN</td>\n",
       "      <td>NaN</td>\n",
       "      <td>1</td>\n",
       "      <td>36</td>\n",
       "      <td>1.0</td>\n",
       "    </tr>\n",
       "    <tr>\n",
       "      <th>1</th>\n",
       "      <td>29725</td>\n",
       "      <td>city_40</td>\n",
       "      <td>0.776</td>\n",
       "      <td>Male</td>\n",
       "      <td>No relevant experience</td>\n",
       "      <td>no_enrollment</td>\n",
       "      <td>Graduate</td>\n",
       "      <td>STEM</td>\n",
       "      <td>15</td>\n",
       "      <td>50-99</td>\n",
       "      <td>Pvt Ltd</td>\n",
       "      <td>&gt;4</td>\n",
       "      <td>47</td>\n",
       "      <td>0.0</td>\n",
       "    </tr>\n",
       "    <tr>\n",
       "      <th>2</th>\n",
       "      <td>11561</td>\n",
       "      <td>city_21</td>\n",
       "      <td>0.624</td>\n",
       "      <td>NaN</td>\n",
       "      <td>No relevant experience</td>\n",
       "      <td>Full time course</td>\n",
       "      <td>Graduate</td>\n",
       "      <td>STEM</td>\n",
       "      <td>5</td>\n",
       "      <td>NaN</td>\n",
       "      <td>NaN</td>\n",
       "      <td>never</td>\n",
       "      <td>83</td>\n",
       "      <td>0.0</td>\n",
       "    </tr>\n",
       "    <tr>\n",
       "      <th>3</th>\n",
       "      <td>33241</td>\n",
       "      <td>city_115</td>\n",
       "      <td>0.789</td>\n",
       "      <td>NaN</td>\n",
       "      <td>No relevant experience</td>\n",
       "      <td>NaN</td>\n",
       "      <td>Graduate</td>\n",
       "      <td>Business Degree</td>\n",
       "      <td>&lt;1</td>\n",
       "      <td>NaN</td>\n",
       "      <td>Pvt Ltd</td>\n",
       "      <td>never</td>\n",
       "      <td>52</td>\n",
       "      <td>1.0</td>\n",
       "    </tr>\n",
       "    <tr>\n",
       "      <th>4</th>\n",
       "      <td>666</td>\n",
       "      <td>city_162</td>\n",
       "      <td>0.767</td>\n",
       "      <td>Male</td>\n",
       "      <td>Has relevant experience</td>\n",
       "      <td>no_enrollment</td>\n",
       "      <td>Masters</td>\n",
       "      <td>STEM</td>\n",
       "      <td>&gt;20</td>\n",
       "      <td>50-99</td>\n",
       "      <td>Funded Startup</td>\n",
       "      <td>4</td>\n",
       "      <td>8</td>\n",
       "      <td>0.0</td>\n",
       "    </tr>\n",
       "  </tbody>\n",
       "</table>\n",
       "</div>"
      ],
      "text/plain": [
       "   student_id      city  city_development_index gender  \\\n",
       "0        8949  city_103                   0.920   Male   \n",
       "1       29725   city_40                   0.776   Male   \n",
       "2       11561   city_21                   0.624    NaN   \n",
       "3       33241  city_115                   0.789    NaN   \n",
       "4         666  city_162                   0.767   Male   \n",
       "\n",
       "       relevant_experience enrolled_university education_level  \\\n",
       "0  Has relevant experience       no_enrollment        Graduate   \n",
       "1   No relevant experience       no_enrollment        Graduate   \n",
       "2   No relevant experience    Full time course        Graduate   \n",
       "3   No relevant experience                 NaN        Graduate   \n",
       "4  Has relevant experience       no_enrollment         Masters   \n",
       "\n",
       "  major_discipline experience company_size    company_type last_new_job  \\\n",
       "0             STEM        >20          NaN             NaN            1   \n",
       "1             STEM         15        50-99         Pvt Ltd           >4   \n",
       "2             STEM          5          NaN             NaN        never   \n",
       "3  Business Degree         <1          NaN         Pvt Ltd        never   \n",
       "4             STEM        >20        50-99  Funded Startup            4   \n",
       "\n",
       "   training_hours  job_change  \n",
       "0              36         1.0  \n",
       "1              47         0.0  \n",
       "2              83         0.0  \n",
       "3              52         1.0  \n",
       "4               8         0.0  "
      ]
     },
     "execution_count": 1,
     "metadata": {},
     "output_type": "execute_result"
    }
   ],
   "source": [
    "# Import necessary libraries\n",
    "import pandas as pd\n",
    "import numpy as np\n",
    "\n",
    "# Load the dataset\n",
    "ds_jobs = pd.read_csv(\"customer_train.csv\")\n",
    "\n",
    "# View the dataset\n",
    "ds_jobs.head()"
   ]
  },
  {
   "cell_type": "code",
   "execution_count": 2,
   "id": "9f1f73f7-b667-4a4f-9ffd-be06d847e939",
   "metadata": {},
   "outputs": [
    {
     "name": "stdout",
     "output_type": "stream",
     "text": [
      "total original memory usage before tranformation: 12391577 bytes \n",
      "\n",
      "<class 'pandas.core.frame.DataFrame'>\n",
      "RangeIndex: 19158 entries, 0 to 19157\n",
      "Data columns (total 14 columns):\n",
      " #   Column                  Non-Null Count  Dtype  \n",
      "---  ------                  --------------  -----  \n",
      " 0   student_id              19158 non-null  int64  \n",
      " 1   city                    19158 non-null  object \n",
      " 2   city_development_index  19158 non-null  float64\n",
      " 3   gender                  14650 non-null  object \n",
      " 4   relevant_experience     19158 non-null  object \n",
      " 5   enrolled_university     18772 non-null  object \n",
      " 6   education_level         18698 non-null  object \n",
      " 7   major_discipline        16345 non-null  object \n",
      " 8   experience              19093 non-null  object \n",
      " 9   company_size            13220 non-null  object \n",
      " 10  company_type            13018 non-null  object \n",
      " 11  last_new_job            18735 non-null  object \n",
      " 12  training_hours          19158 non-null  int64  \n",
      " 13  job_change              19158 non-null  float64\n",
      "dtypes: float64(2), int64(2), object(10)\n",
      "memory usage: 2.0+ MB\n",
      "None\n"
     ]
    }
   ],
   "source": [
    "# Create a copy of ds_jobs for transforming\n",
    "ds_jobs_transformed = ds_jobs.copy()\n",
    "\n",
    "init_memory = ds_jobs_transformed.memory_usage(index=False, deep=True)\n",
    "print(f\"total original memory usage before tranformation: {init_memory.sum()} bytes \\n\")\n",
    "print(ds_jobs_transformed.info())"
   ]
  },
  {
   "cell_type": "code",
   "execution_count": 3,
   "id": "409ea99f-47d2-47f2-b9f2-b74a1213fce1",
   "metadata": {
    "scrolled": true
   },
   "outputs": [
    {
     "name": "stdout",
     "output_type": "stream",
     "text": [
      "city\n",
      "city_103    4355\n",
      "city_21     2702\n",
      "city_16     1533\n",
      "city_114    1336\n",
      "city_160     845\n",
      "            ... \n",
      "city_129       3\n",
      "city_111       3\n",
      "city_121       3\n",
      "city_140       1\n",
      "city_171       1\n",
      "Name: count, Length: 123, dtype: int64 \n",
      "\n",
      "gender\n",
      "Male      13221\n",
      "Female     1238\n",
      "Other       191\n",
      "Name: count, dtype: int64 \n",
      "\n",
      "relevant_experience\n",
      "Has relevant experience    13792\n",
      "No relevant experience      5366\n",
      "Name: count, dtype: int64 \n",
      "\n",
      "enrolled_university\n",
      "no_enrollment       13817\n",
      "Full time course     3757\n",
      "Part time course     1198\n",
      "Name: count, dtype: int64 \n",
      "\n",
      "education_level\n",
      "Graduate          11598\n",
      "Masters            4361\n",
      "High School        2017\n",
      "Phd                 414\n",
      "Primary School      308\n",
      "Name: count, dtype: int64 \n",
      "\n",
      "major_discipline\n",
      "STEM               14492\n",
      "Humanities           669\n",
      "Other                381\n",
      "Business Degree      327\n",
      "Arts                 253\n",
      "No Major             223\n",
      "Name: count, dtype: int64 \n",
      "\n",
      "experience\n",
      ">20    3286\n",
      "5      1430\n",
      "4      1403\n",
      "3      1354\n",
      "6      1216\n",
      "2      1127\n",
      "7      1028\n",
      "10      985\n",
      "9       980\n",
      "8       802\n",
      "15      686\n",
      "11      664\n",
      "14      586\n",
      "1       549\n",
      "<1      522\n",
      "16      508\n",
      "12      494\n",
      "13      399\n",
      "17      342\n",
      "19      304\n",
      "18      280\n",
      "20      148\n",
      "Name: count, dtype: int64 \n",
      "\n",
      "company_size\n",
      "50-99        3083\n",
      "100-499      2571\n",
      "10000+       2019\n",
      "10-49        1471\n",
      "1000-4999    1328\n",
      "<10          1308\n",
      "500-999       877\n",
      "5000-9999     563\n",
      "Name: count, dtype: int64 \n",
      "\n",
      "company_type\n",
      "Pvt Ltd                9817\n",
      "Funded Startup         1001\n",
      "Public Sector           955\n",
      "Early Stage Startup     603\n",
      "NGO                     521\n",
      "Other                   121\n",
      "Name: count, dtype: int64 \n",
      "\n",
      "last_new_job\n",
      "1        8040\n",
      ">4       3290\n",
      "2        2900\n",
      "never    2452\n",
      "4        1029\n",
      "3        1024\n",
      "Name: count, dtype: int64 \n",
      "\n"
     ]
    }
   ],
   "source": [
    "# make a list of the columns that are categorical\n",
    "string_cols = [\"city\", \"gender\", \"relevant_experience\", \"enrolled_university\", \"education_level\",\n",
    "               \"major_discipline\", \"experience\", \"company_size\", \"company_type\", \"last_new_job\"]\n",
    "\n",
    "for s_col in string_cols:\n",
    "    print(ds_jobs_transformed[s_col].value_counts(), \"\\n\")"
   ]
  },
  {
   "cell_type": "markdown",
   "id": "57c70f6f-18c7-4472-9c5d-c79609587821",
   "metadata": {},
   "source": [
    "## 1. Columns containing categories with only two factors must be stored as Booleans (bool)."
   ]
  },
  {
   "cell_type": "code",
   "execution_count": 4,
   "id": "3ba89f9a-8585-4fd6-89f7-3a60df0bc0f1",
   "metadata": {},
   "outputs": [
    {
     "name": "stdout",
     "output_type": "stream",
     "text": [
      "city has 123 factors\n",
      "gender has 4 factors\n",
      "relevant_experience has 2 factors\n",
      "enrolled_university has 4 factors\n",
      "education_level has 6 factors\n",
      "major_discipline has 7 factors\n",
      "experience has 23 factors\n",
      "company_size has 9 factors\n",
      "company_type has 7 factors\n",
      "last_new_job has 7 factors\n"
     ]
    }
   ],
   "source": [
    "# which string columns are binary?\n",
    "for s_col in string_cols:\n",
    "    print(f\"{s_col} has {len(ds_jobs_transformed[s_col].unique())} factors\")"
   ]
  },
  {
   "cell_type": "code",
   "execution_count": 5,
   "id": "e8bdabd6-d4d8-4a5e-9ae5-8b3087cc7519",
   "metadata": {},
   "outputs": [
    {
     "name": "stdout",
     "output_type": "stream",
     "text": [
      "relevant_experience\n",
      "Has relevant experience    13792\n",
      "No relevant experience      5366\n",
      "Name: count, dtype: int64 \n",
      "\n"
     ]
    }
   ],
   "source": [
    "# before conversion\n",
    "print(ds_jobs[\"relevant_experience\"].value_counts(), \"\\n\")"
   ]
  },
  {
   "cell_type": "code",
   "execution_count": 6,
   "id": "af55fa91-d343-4885-8aab-8673b12099e3",
   "metadata": {},
   "outputs": [
    {
     "data": {
      "text/plain": [
       "relevant_experience\n",
       "True     13792\n",
       "False     5366\n",
       "Name: count, dtype: int64"
      ]
     },
     "execution_count": 6,
     "metadata": {},
     "output_type": "execute_result"
    }
   ],
   "source": [
    "# map 1 to having experience, 0 to not having experience\n",
    "ds_jobs_transformed[\"relevant_experience\"] = np.where(\n",
    "    ds_jobs_transformed[\"relevant_experience\"].str.contains(\"Has\", regex=False), 1, 0).astype(bool)\n",
    "ds_jobs_transformed[\"relevant_experience\"].value_counts()"
   ]
  },
  {
   "cell_type": "code",
   "execution_count": 13,
   "id": "2a81c325-8fbb-40d0-9a7c-6bf8f307e902",
   "metadata": {},
   "outputs": [
    {
     "data": {
      "text/plain": [
       "enrolled_university\n",
       "no_enrollment       13817\n",
       "Full time course     3757\n",
       "Part time course     1198\n",
       "Name: count, dtype: int64"
      ]
     },
     "execution_count": 13,
     "metadata": {},
     "output_type": "execute_result"
    }
   ],
   "source": [
    "# suspect that enrolled_university might be binary, so let's check\n",
    "ds_jobs_transformed[\"enrolled_university\"].value_counts()  # looks like this variable has 3 levels"
   ]
  },
  {
   "cell_type": "code",
   "execution_count": null,
   "id": "a6783fef-4f3b-43d6-b894-9d4c487f7feb",
   "metadata": {},
   "outputs": [],
   "source": []
  },
  {
   "cell_type": "code",
   "execution_count": null,
   "id": "88ae3b5e-5c19-4f37-b808-74c2dbe99d05",
   "metadata": {},
   "outputs": [],
   "source": []
  },
  {
   "cell_type": "code",
   "execution_count": null,
   "id": "e355b63d-8dcd-44c8-b6ec-994b9b4a0346",
   "metadata": {},
   "outputs": [],
   "source": []
  },
  {
   "cell_type": "code",
   "execution_count": null,
   "id": "6ffadf0b-a8b7-49d8-ad9f-e8d4a32de212",
   "metadata": {},
   "outputs": [],
   "source": []
  },
  {
   "cell_type": "code",
   "execution_count": null,
   "id": "974051a3-37a2-4a8a-a5e6-7cd0d2a80c2b",
   "metadata": {},
   "outputs": [],
   "source": []
  },
  {
   "cell_type": "code",
   "execution_count": null,
   "id": "c3bdbbe4-0800-4e15-ae5f-2612ca7c35e1",
   "metadata": {},
   "outputs": [],
   "source": []
  },
  {
   "cell_type": "code",
   "execution_count": null,
   "id": "f24c0656-c809-4102-9020-95c671b39cee",
   "metadata": {},
   "outputs": [],
   "source": []
  },
  {
   "cell_type": "markdown",
   "id": "2c8fc4c3-1fc2-46ae-b8b1-a8e9137bfafe",
   "metadata": {},
   "source": [
    "## 2. Columns containing integers only must be stored as 32-bit integers (int32).\n",
    "\n",
    "There are only 2 integer columns: `student_id` and `training_hours`"
   ]
  },
  {
   "cell_type": "code",
   "execution_count": 7,
   "id": "13757e62-aca2-48f4-b569-a838af11bdd5",
   "metadata": {},
   "outputs": [
    {
     "data": {
      "text/plain": [
       "student_id                  int32\n",
       "city                       object\n",
       "city_development_index    float64\n",
       "gender                     object\n",
       "relevant_experience          bool\n",
       "enrolled_university        object\n",
       "education_level            object\n",
       "major_discipline           object\n",
       "experience                 object\n",
       "company_size               object\n",
       "company_type               object\n",
       "last_new_job               object\n",
       "training_hours              int32\n",
       "job_change                float64\n",
       "dtype: object"
      ]
     },
     "execution_count": 7,
     "metadata": {},
     "output_type": "execute_result"
    }
   ],
   "source": [
    "ds_jobs_transformed['student_id'] = ds_jobs_transformed['student_id'].astype(np.int32)\n",
    "ds_jobs_transformed['training_hours'] = ds_jobs_transformed['training_hours'].astype(np.int32)\n",
    "ds_jobs_transformed.dtypes"
   ]
  },
  {
   "cell_type": "markdown",
   "id": "f07bde1a-9632-415b-9e7c-596d4c606160",
   "metadata": {},
   "source": [
    "## 3. Columns containing floats must be stored as 16-bit floats (float16).\n",
    "\n",
    "There are only 2 float columns: `city_development_index` and `job_change`.\n",
    "\n",
    "Let's take a quick look at how these are distributed to see if they are really float values"
   ]
  },
  {
   "cell_type": "code",
   "execution_count": 8,
   "id": "a818bab7-933c-461f-b7e7-eedf930150d3",
   "metadata": {},
   "outputs": [
    {
     "data": {
      "text/plain": [
       "<Axes: >"
      ]
     },
     "execution_count": 8,
     "metadata": {},
     "output_type": "execute_result"
    },
    {
     "data": {
      "image/png": "[encoded data removed]",
      "text/plain": [
       "<Figure size 640x480 with 1 Axes>"
      ]
     },
     "metadata": {},
     "output_type": "display_data"
    }
   ],
   "source": [
    "ds_jobs_transformed[\"city_development_index\"].hist()  # these look like they really are floats, so convert to float16"
   ]
  },
  {
   "cell_type": "code",
   "execution_count": 9,
   "id": "c4bc1674-6583-4ffb-9f6f-a27f7e0c9464",
   "metadata": {},
   "outputs": [
    {
     "data": {
      "text/plain": [
       "student_id                  int32\n",
       "city                       object\n",
       "city_development_index    float16\n",
       "gender                     object\n",
       "relevant_experience          bool\n",
       "enrolled_university        object\n",
       "education_level            object\n",
       "major_discipline           object\n",
       "experience                 object\n",
       "company_size               object\n",
       "company_type               object\n",
       "last_new_job               object\n",
       "training_hours              int32\n",
       "job_change                float64\n",
       "dtype: object"
      ]
     },
     "execution_count": 9,
     "metadata": {},
     "output_type": "execute_result"
    }
   ],
   "source": [
    "ds_jobs_transformed[\"city_development_index\"] = ds_jobs_transformed[\"city_development_index\"].astype(np.float16)\n",
    "ds_jobs_transformed.dtypes"
   ]
  },
  {
   "cell_type": "code",
   "execution_count": 10,
   "id": "816d381e-ec41-41f4-909b-11ef4e33e48d",
   "metadata": {},
   "outputs": [
    {
     "data": {
      "text/plain": [
       "<Axes: >"
      ]
     },
     "execution_count": 10,
     "metadata": {},
     "output_type": "execute_result"
    },
    {
     "data": {
      "image/png": "[encoded data removed]",
      "text/plain": [
       "<Figure size 640x480 with 1 Axes>"
      ]
     },
     "metadata": {},
     "output_type": "display_data"
    }
   ],
   "source": [
    "ds_jobs_transformed[\"job_change\"].hist()  # this columns looks like it's actually binary 1 or 0"
   ]
  },
  {
   "cell_type": "code",
   "execution_count": 11,
   "id": "dd70739e-b97f-429f-96d3-1901f5c6c5fd",
   "metadata": {},
   "outputs": [
    {
     "data": {
      "text/plain": [
       "job_change\n",
       "0.0    14381\n",
       "1.0     4777\n",
       "Name: count, dtype: int64"
      ]
     },
     "execution_count": 11,
     "metadata": {},
     "output_type": "execute_result"
    }
   ],
   "source": [
    "ds_jobs_transformed[\"job_change\"].value_counts()  # sure enough, this column is indeed binary"
   ]
  },
  {
   "cell_type": "code",
   "execution_count": 12,
   "id": "ec3c1819-31db-49be-b382-71bd650aef8b",
   "metadata": {},
   "outputs": [
    {
     "data": {
      "text/plain": [
       "student_id                  int32\n",
       "city                       object\n",
       "city_development_index    float16\n",
       "gender                     object\n",
       "relevant_experience          bool\n",
       "enrolled_university        object\n",
       "education_level            object\n",
       "major_discipline           object\n",
       "experience                 object\n",
       "company_size               object\n",
       "company_type               object\n",
       "last_new_job               object\n",
       "training_hours              int32\n",
       "job_change                   bool\n",
       "dtype: object"
      ]
     },
     "execution_count": 12,
     "metadata": {},
     "output_type": "execute_result"
    }
   ],
   "source": [
    "# convert to bool as required\n",
    "ds_jobs_transformed[\"job_change\"] = ds_jobs_transformed[\"job_change\"].astype(bool)\n",
    "ds_jobs_transformed.dtypes"
   ]
  },
  {
   "cell_type": "code",
   "execution_count": null,
   "id": "065aeab9-161a-4d11-83eb-3e28e3c6ce3c",
   "metadata": {},
   "outputs": [],
   "source": []
  },
  {
   "cell_type": "code",
   "execution_count": null,
   "id": "b5de2fbe-66b3-4ed9-8562-abeefb5b0aa0",
   "metadata": {},
   "outputs": [],
   "source": []
  },
  {
   "cell_type": "code",
   "execution_count": null,
   "id": "69499e54-841d-42f1-bc6a-dde4faa92132",
   "metadata": {},
   "outputs": [],
   "source": []
  },
  {
   "cell_type": "code",
   "execution_count": null,
   "id": "7175a21f-41fe-4349-9848-82dba5c98103",
   "metadata": {},
   "outputs": [],
   "source": []
  },
  {
   "cell_type": "code",
   "execution_count": null,
   "id": "e78a5e99-7ccb-49a0-8e23-39bbd6d4cdc0",
   "metadata": {},
   "outputs": [],
   "source": []
  },
  {
   "cell_type": "code",
   "execution_count": null,
   "id": "b45f69e5-7243-4053-9c73-8dfb78ed80a3",
   "metadata": {},
   "outputs": [],
   "source": []
  },
  {
   "cell_type": "code",
   "execution_count": null,
   "id": "5a13efbf-6de3-4556-b441-0450d5f4173c",
   "metadata": {},
   "outputs": [],
   "source": []
  },
  {
   "cell_type": "code",
   "execution_count": null,
   "id": "1ab4c728-1eb7-4c9a-bffa-62cedec01940",
   "metadata": {},
   "outputs": [],
   "source": []
  }
 ],
 "metadata": {
  "editor": "DataCamp Workspace",
  "kernelspec": {
   "display_name": "Python 3 (ipykernel)",
   "language": "python",
   "name": "python3"
  },
  "language_info": {
   "codemirror_mode": {
    "name": "ipython",
    "version": 3
   },
   "file_extension": ".py",
   "mimetype": "text/x-python",
   "name": "python",
   "nbconvert_exporter": "python",
   "pygments_lexer": "ipython3",
   "version": "3.11.6"
  }
 },
 "nbformat": 4,
 "nbformat_minor": 5
}
