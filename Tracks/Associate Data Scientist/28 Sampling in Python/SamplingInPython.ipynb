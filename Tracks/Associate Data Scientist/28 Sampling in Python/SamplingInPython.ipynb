{
 "cells": [
  {
   "cell_type": "markdown",
   "id": "a6ded269-deb8-4ac1-891e-1610bcf2d9f5",
   "metadata": {},
   "source": [
    "## Sampling in Python\n",
    "\n",
    "+ population vs. sample\n",
    "+ working with feather files\n",
    "  + nice tutorial here: https://www.askpython.com/python-modules/pandas/load-using-read_feather"
   ]
  },
  {
   "cell_type": "markdown",
   "id": "db29bac7-b38a-4b6f-b7cd-c1cc9b61e7f6",
   "metadata": {},
   "source": [
    "### Spotify data"
   ]
  },
  {
   "cell_type": "code",
   "execution_count": 1,
   "id": "e22eae05-1b4f-4775-81c7-ec940d7f1177",
   "metadata": {},
   "outputs": [
    {
     "name": "stdout",
     "output_type": "stream",
     "text": [
      "Index(['acousticness', 'artists', 'danceability', 'duration_ms',\n",
      "       'duration_minutes', 'energy', 'explicit', 'id', 'instrumentalness',\n",
      "       'key', 'liveness', 'loudness', 'mode', 'name', 'popularity',\n",
      "       'release_date', 'speechiness', 'tempo', 'valence', 'year'],\n",
      "      dtype='object')\n"
     ]
    }
   ],
   "source": [
    "import pandas as pd\n",
    "import numpy as np\n",
    "\n",
    "spotify_population = pd.read_feather('./data/spotify_2000_2020.feather')\n",
    "print(spotify_population.columns)\n",
    "# print(spotify_population.head())"
   ]
  },
  {
   "cell_type": "code",
   "execution_count": 2,
   "id": "3df5b6ed-40ac-47a0-b887-91bb7997b7b9",
   "metadata": {},
   "outputs": [
    {
     "name": "stdout",
     "output_type": "stream",
     "text": [
      "       acousticness                      artists  danceability  duration_ms  \\\n",
      "33009         0.282                ['Nicky Jam']         0.832     198707.0   \n",
      "28824         0.656  ['GoldLink', 'Hare Squead']         0.885     183760.0   \n",
      "15073         0.139             ['Chris Tomlin']         0.471     266587.0   \n",
      "27464         0.139        ['Hawthorne Heights']         0.434     239520.0   \n",
      "15684         0.408            ['Carlos Y Jose']         0.661     207673.0   \n",
      "\n",
      "       duration_minutes  energy  explicit                      id  \\\n",
      "33009          3.311783   0.608       0.0  5Fim1gaXBgsiFfsQAfQSDS   \n",
      "28824          3.062667   0.595       1.0  564oa00vY05d1uYnTEAAmE   \n",
      "15073          4.443117   0.626       0.0  2JdhRRTl3ee6pQQupVQqyb   \n",
      "27464          3.992000   0.556       0.0  0AySNcxAWo6RKotzZgvm96   \n",
      "15684          3.461217   0.485       0.0  3FJjpxv95LLjQPIVrPhntF   \n",
      "\n",
      "       instrumentalness  key  liveness  loudness  mode                  name  \\\n",
      "33009          0.000000  6.0    0.0761    -6.042   0.0     Hasta el Amanecer   \n",
      "28824          0.000004  7.0    0.1050    -5.487   1.0         Herside Story   \n",
      "15073          0.000000  1.0    0.0753    -5.686   1.0  How Great Is Our God   \n",
      "27464          0.000011  1.0    0.1130    -6.905   0.0               Niki Fm   \n",
      "15684          0.000002  8.0    0.0815    -3.278   1.0        Gabino Barrera   \n",
      "\n",
      "       popularity release_date  speechiness    tempo  valence    year  \n",
      "33009        71.0   2017-01-20       0.0385   94.013    0.589  2017.0  \n",
      "28824        69.0   2017-03-24       0.2860  148.034    0.754  2017.0  \n",
      "15073        42.0   2004-01-01       0.0279  152.008    0.305  2004.0  \n",
      "27464        52.0         2004       0.0344  111.987    0.251  2004.0  \n",
      "15684        47.0   2010-09-30       0.0354  117.039    0.767  2010.0  \n",
      "3.8521519140900073\n",
      "3.8318633666666666\n"
     ]
    }
   ],
   "source": [
    "# Sample 1000 rows from spotify_population\n",
    "spotify_sample = spotify_population.sample(n=1000)\n",
    "\n",
    "# Print the sample\n",
    "print(spotify_sample.head())\n",
    "\n",
    "# Calculate the mean duration in mins from spotify_population\n",
    "mean_dur_pop = spotify_population[\"duration_minutes\"].mean()\n",
    "\n",
    "# Calculate the mean duration in mins from spotify_sample\n",
    "mean_dur_samp = spotify_sample[\"duration_minutes\"].mean()\n",
    "\n",
    "# Print the means\n",
    "print(mean_dur_pop)\n",
    "print(mean_dur_samp)"
   ]
  },
  {
   "cell_type": "code",
   "execution_count": 3,
   "id": "0e911ef0-f3e2-4996-a3a4-62d5b7673c8c",
   "metadata": {},
   "outputs": [
    {
     "name": "stdout",
     "output_type": "stream",
     "text": [
      "-7.366856851353947\n",
      "-7.387589999999999\n"
     ]
    }
   ],
   "source": [
    "# Create a pandas Series from the loudness column of spotify_population\n",
    "loudness_pop = spotify_population[\"loudness\"]\n",
    "\n",
    "# Sample 100 values of loudness_pop\n",
    "loudness_samp = spotify_population[\"loudness\"].sample(n=100)\n",
    "\n",
    "# Calculate the mean of loudness_pop\n",
    "mean_loudness_pop = loudness_pop.mean()\n",
    "\n",
    "# Calculate the mean of loudness_samp\n",
    "mean_loudness_samp = loudness_samp.mean()\n",
    "\n",
    "print(mean_loudness_pop)\n",
    "print(mean_loudness_samp)"
   ]
  },
  {
   "cell_type": "markdown",
   "id": "b8a52ded-90ad-4ddb-a10b-2c7bc64b1118",
   "metadata": {},
   "source": [
    "### Are these finding generalizable?\n",
    "\n",
    "The left distribution below represents the population. The right distribution is from a sample of unknown origin. Does the sample look like it came from the population on the left?... Unlikely."
   ]
  },
  {
   "cell_type": "code",
   "execution_count": 4,
   "id": "7d8c1fe6-7f79-40b9-a781-0e5c00c026aa",
   "metadata": {},
   "outputs": [
    {
     "data": {
      "image/png": "[encoded data removed]",
      "text/plain": [
       "<Figure size 1200x400 with 2 Axes>"
      ]
     },
     "metadata": {},
     "output_type": "display_data"
    }
   ],
   "source": [
    "import matplotlib.pyplot as plt\n",
    "\n",
    "# read in spotify_mysterious_sample\n",
    "spotify_mysterious_sample = pd.read_csv(\"./data/spotify_mysterious_sample1.csv\")\n",
    "\n",
    "fig, ax = plt.subplots(nrows=1, ncols=2, figsize=(12, 4))\n",
    "\n",
    "ax[0].hist(spotify_population[\"acousticness\"], bins=np.arange(0, 1.01, 0.01))\n",
    "ax[1].hist(spotify_mysterious_sample['acousticness'], bins=np.arange(0, 1.01, 0.01))\n",
    "\n",
    "ax[0].set_title(\"Population\")\n",
    "ax[0].set_xlabel(\"acousticness\")\n",
    "ax[0].set_ylabel(\"Count\")\n",
    "\n",
    "ax[1].set_title(\"Unknown Sample\")\n",
    "ax[1].set_xlabel(\"acousticness\")\n",
    "\n",
    "# Visualize these distributions side-by-side\n",
    "plt.show()"
   ]
  },
  {
   "cell_type": "markdown",
   "id": "ab982832-fa5c-4c46-8bd5-15a97e263ea6",
   "metadata": {},
   "source": [
    "### How about these two?\n",
    "\n",
    "The sample of the right looks much more likely to have come from the population on the left."
   ]
  },
  {
   "cell_type": "code",
   "execution_count": 5,
   "id": "497d241c-ef7a-464d-85f3-a1e349fd9e7c",
   "metadata": {},
   "outputs": [
    {
     "data": {
      "image/png": "[encoded data removed]",
      "text/plain": [
       "<Figure size 1200x400 with 2 Axes>"
      ]
     },
     "metadata": {},
     "output_type": "display_data"
    }
   ],
   "source": [
    "fig, ax = plt.subplots(nrows=1, ncols=2, figsize=(12, 4))\n",
    "\n",
    "# read in spotify_mysterious_sample2\n",
    "spotify_mysterious_sample2 = pd.read_csv(\"./data/spotify_mysterious_sample2.csv\")\n",
    "\n",
    "ax[0].hist(spotify_population['duration_minutes'], bins=np.arange(0, 15.5, 0.5))\n",
    "ax[1].hist(spotify_mysterious_sample2['duration_minutes'], bins=np.arange(0, 15.5, 0.5))\n",
    "\n",
    "ax[0].set_title(\"Population\")\n",
    "ax[0].set_xlabel(\"Duration (mins)\")\n",
    "ax[0].set_ylabel(\"Count\")\n",
    "\n",
    "ax[1].set_title(\"Unknown Sample\")\n",
    "ax[1].set_xlabel(\"Duration (mins)\")\n",
    "\n",
    "# Visualize these distributions side-by-side\n",
    "plt.show()"
   ]
  },
  {
   "cell_type": "markdown",
   "id": "c7644fb4-a313-4d3a-b12f-a4c03fb54960",
   "metadata": {},
   "source": [
    "## Pseudo-random number generation"
   ]
  },
  {
   "cell_type": "code",
   "execution_count": 6,
   "id": "6cffbc0e-c360-476b-aa40-5c529b2b1e40",
   "metadata": {},
   "outputs": [
    {
     "data": {
      "image/png": "[encoded data removed]",
      "text/plain": [
       "<Figure size 640x480 with 1 Axes>"
      ]
     },
     "metadata": {},
     "output_type": "display_data"
    }
   ],
   "source": [
    "# Generate random numbers from a Uniform(-3, 3)\n",
    "uniforms = np.random.uniform(low=-3, high=3, size=5000)\n",
    "\n",
    "# Generate random numbers from a Normal(5, 2)\n",
    "normals = np.random.normal(loc=5, scale=2, size=5000)\n",
    "\n",
    "# Plot a histogram of uniform values, binwidth 0.25\n",
    "plt.hist(uniforms, bins=np.arange(-3, 3.25, 0.25))\n",
    "plt.show()"
   ]
  },
  {
   "cell_type": "code",
   "execution_count": 7,
   "id": "2e2b033a-93f1-4420-be02-824cce4e690f",
   "metadata": {},
   "outputs": [
    {
     "data": {
      "image/png": "[encoded data removed]",
      "text/plain": [
       "<Figure size 640x480 with 1 Axes>"
      ]
     },
     "metadata": {},
     "output_type": "display_data"
    }
   ],
   "source": [
    "# Plot a histogram of normal values, binwidth 0.5\n",
    "plt.hist(normals, bins=np.arange(-2, 13.5, 0.5))\n",
    "plt.show()"
   ]
  },
  {
   "cell_type": "code",
   "execution_count": 8,
   "id": "c309ad27-d3a7-4894-8c1e-58edeaf2d513",
   "metadata": {},
   "outputs": [
    {
     "name": "stdout",
     "output_type": "stream",
     "text": [
      "[-1.0856306   0.99734545  0.2829785  -1.50629471 -0.57860025]\n",
      "[ 1.65143654 -2.42667924 -0.42891263  1.26593626 -0.8667404 ]\n"
     ]
    }
   ],
   "source": [
    "import numpy as np\n",
    "np.random.seed(123)\n",
    "x = np.random.normal(size=5)\n",
    "y = np.random.normal(size=5)\n",
    "print(x)\n",
    "print(y)"
   ]
  },
  {
   "cell_type": "code",
   "execution_count": 9,
   "id": "41aa460a-acb1-4772-aaac-856f880d1408",
   "metadata": {},
   "outputs": [
    {
     "name": "stdout",
     "output_type": "stream",
     "text": [
      "[-1.0856306   0.99734545  0.2829785  -1.50629471 -0.57860025]\n",
      "[-1.0856306   0.99734545  0.2829785  -1.50629471 -0.57860025]\n"
     ]
    }
   ],
   "source": [
    "# setting the seed to the same value can be used to ensure reproducibility\n",
    "np.random.seed(123)\n",
    "x = np.random.normal(size=5)\n",
    "np.random.seed(123)\n",
    "y = np.random.normal(size=5)\n",
    "print(x)\n",
    "print(y)"
   ]
  },
  {
   "cell_type": "code",
   "execution_count": 10,
   "id": "3ce72e86-8b22-4a6d-91fc-621f8936cbeb",
   "metadata": {},
   "outputs": [
    {
     "name": "stdout",
     "output_type": "stream",
     "text": [
      "[-1.0856306   0.99734545  0.2829785  -1.50629471 -0.57860025]\n",
      "[-0.6681285  -0.49820952  0.61857582  0.56869225  1.35050948]\n"
     ]
    }
   ],
   "source": [
    "# setting the seed to different values will generate different sets of random values\n",
    "np.random.seed(123)\n",
    "x = np.random.normal(size=5)\n",
    "np.random.seed(456)\n",
    "y = np.random.normal(size=5)\n",
    "print(x)\n",
    "print(y)"
   ]
  },
  {
   "cell_type": "markdown",
   "id": "252e6fc0-f280-48c3-acd3-d028d5c82ad2",
   "metadata": {},
   "source": [
    "## Simple random and systematic sampling\n",
    "\n",
    "+ As shown earlier, use Pandas `.sample()` method to do simple sampling\n",
    "+ *Systematic sampling* samples the population at regular intervals\n",
    "  + must define the interval\n",
    "  + in our coffee example, we need to select every _267th_ coffee in the dataset\n",
    "+ The problem with systematic sampling is that it can introduce **bias** into any statistics we compute (e.g. `aftertaste` is higher in earlier rows and decreases as we move down the dataset)\n",
    "  + *Systematic sampling* is safer to use when there is not pattern across the dataset such as what we saw with `aftertaste`.\n",
    "  + We can ensure *systematic sampling* is safe by randomizing the row order before sampling. Pass the `frac` parameter to the `sample` method to do this.\n",
    "  + When we randomize the rows and use *systematic sampling*, we essentially are back to a **simple random sampling scenario**."
   ]
  },
  {
   "cell_type": "code",
   "execution_count": 11,
   "id": "abbfffec-bdae-4edc-93e7-f42666dc915a",
   "metadata": {},
   "outputs": [
    {
     "data": {
      "text/html": [
       "<div>\n",
       "<style scoped>\n",
       "    .dataframe tbody tr th:only-of-type {\n",
       "        vertical-align: middle;\n",
       "    }\n",
       "\n",
       "    .dataframe tbody tr th {\n",
       "        vertical-align: top;\n",
       "    }\n",
       "\n",
       "    .dataframe thead th {\n",
       "        text-align: right;\n",
       "    }\n",
       "</style>\n",
       "<table border=\"1\" class=\"dataframe\">\n",
       "  <thead>\n",
       "    <tr style=\"text-align: right;\">\n",
       "      <th></th>\n",
       "      <th>total_cup_points</th>\n",
       "      <th>species</th>\n",
       "      <th>owner</th>\n",
       "      <th>country_of_origin</th>\n",
       "      <th>farm_name</th>\n",
       "      <th>lot_number</th>\n",
       "      <th>mill</th>\n",
       "      <th>ico_number</th>\n",
       "      <th>company</th>\n",
       "      <th>altitude</th>\n",
       "      <th>...</th>\n",
       "      <th>color</th>\n",
       "      <th>category_two_defects</th>\n",
       "      <th>expiration</th>\n",
       "      <th>certification_body</th>\n",
       "      <th>certification_address</th>\n",
       "      <th>certification_contact</th>\n",
       "      <th>unit_of_measurement</th>\n",
       "      <th>altitude_low_meters</th>\n",
       "      <th>altitude_high_meters</th>\n",
       "      <th>altitude_mean_meters</th>\n",
       "    </tr>\n",
       "  </thead>\n",
       "  <tbody>\n",
       "    <tr>\n",
       "      <th>437</th>\n",
       "      <td>83.25</td>\n",
       "      <td>Arabica</td>\n",
       "      <td>exportadora de cafe condor s.a</td>\n",
       "      <td>Colombia</td>\n",
       "      <td>None</td>\n",
       "      <td>None</td>\n",
       "      <td>trilladora bonanza - armenia quindioa</td>\n",
       "      <td>3-68-0205</td>\n",
       "      <td>None</td>\n",
       "      <td>1600-1800msnm</td>\n",
       "      <td>...</td>\n",
       "      <td>None</td>\n",
       "      <td>0.0</td>\n",
       "      <td>June 13th, 2012</td>\n",
       "      <td>Almacafé</td>\n",
       "      <td>e493c36c2d076bf273064f7ac23ad562af257a25</td>\n",
       "      <td>70d3c0c26f89e00fdae6fb39ff54f0d2eb1c38ab</td>\n",
       "      <td>m</td>\n",
       "      <td>1600.0</td>\n",
       "      <td>1800.0</td>\n",
       "      <td>1700.0</td>\n",
       "    </tr>\n",
       "    <tr>\n",
       "      <th>285</th>\n",
       "      <td>83.83</td>\n",
       "      <td>Arabica</td>\n",
       "      <td>ipanema coffees</td>\n",
       "      <td>Brazil</td>\n",
       "      <td>fazenda rio verde</td>\n",
       "      <td>None</td>\n",
       "      <td>ipanema coffees</td>\n",
       "      <td>002/4177/0121</td>\n",
       "      <td>ipanema coffees</td>\n",
       "      <td>1260</td>\n",
       "      <td>...</td>\n",
       "      <td>Green</td>\n",
       "      <td>0.0</td>\n",
       "      <td>December 26th, 2014</td>\n",
       "      <td>Specialty Coffee Association</td>\n",
       "      <td>36d0d00a3724338ba7937c52a378d085f2172daa</td>\n",
       "      <td>0878a7d4b9d35ddbf0fe2ce69a2062cceb45a660</td>\n",
       "      <td>m</td>\n",
       "      <td>1260.0</td>\n",
       "      <td>1260.0</td>\n",
       "      <td>1260.0</td>\n",
       "    </tr>\n",
       "    <tr>\n",
       "      <th>784</th>\n",
       "      <td>82.08</td>\n",
       "      <td>Arabica</td>\n",
       "      <td>cafe politico</td>\n",
       "      <td>Colombia</td>\n",
       "      <td>None</td>\n",
       "      <td>None</td>\n",
       "      <td>None</td>\n",
       "      <td>3-59-1656</td>\n",
       "      <td>cafe politico</td>\n",
       "      <td>None</td>\n",
       "      <td>...</td>\n",
       "      <td>Green</td>\n",
       "      <td>0.0</td>\n",
       "      <td>September 12th, 2015</td>\n",
       "      <td>Specialty Coffee Association</td>\n",
       "      <td>36d0d00a3724338ba7937c52a378d085f2172daa</td>\n",
       "      <td>0878a7d4b9d35ddbf0fe2ce69a2062cceb45a660</td>\n",
       "      <td>m</td>\n",
       "      <td>NaN</td>\n",
       "      <td>NaN</td>\n",
       "      <td>NaN</td>\n",
       "    </tr>\n",
       "    <tr>\n",
       "      <th>648</th>\n",
       "      <td>82.58</td>\n",
       "      <td>Arabica</td>\n",
       "      <td>exportadora de cafe condor s.a</td>\n",
       "      <td>Colombia</td>\n",
       "      <td>None</td>\n",
       "      <td>None</td>\n",
       "      <td>trilladora boananza</td>\n",
       "      <td>3-68-0140</td>\n",
       "      <td>exportadora de cafe condor s.a</td>\n",
       "      <td>1750 msnm</td>\n",
       "      <td>...</td>\n",
       "      <td>Green</td>\n",
       "      <td>0.0</td>\n",
       "      <td>February 27th, 2014</td>\n",
       "      <td>Almacafé</td>\n",
       "      <td>e493c36c2d076bf273064f7ac23ad562af257a25</td>\n",
       "      <td>70d3c0c26f89e00fdae6fb39ff54f0d2eb1c38ab</td>\n",
       "      <td>m</td>\n",
       "      <td>1750.0</td>\n",
       "      <td>1750.0</td>\n",
       "      <td>1750.0</td>\n",
       "    </tr>\n",
       "    <tr>\n",
       "      <th>155</th>\n",
       "      <td>84.58</td>\n",
       "      <td>Arabica</td>\n",
       "      <td>exportadora de cafe condor s.a</td>\n",
       "      <td>Colombia</td>\n",
       "      <td>various</td>\n",
       "      <td>None</td>\n",
       "      <td>trilladora boananza</td>\n",
       "      <td>3-68-0005</td>\n",
       "      <td>exportadora de cafe condor s.a</td>\n",
       "      <td>1800 msnm</td>\n",
       "      <td>...</td>\n",
       "      <td>Green</td>\n",
       "      <td>6.0</td>\n",
       "      <td>October 9th, 2013</td>\n",
       "      <td>Almacafé</td>\n",
       "      <td>e493c36c2d076bf273064f7ac23ad562af257a25</td>\n",
       "      <td>70d3c0c26f89e00fdae6fb39ff54f0d2eb1c38ab</td>\n",
       "      <td>m</td>\n",
       "      <td>1800.0</td>\n",
       "      <td>1800.0</td>\n",
       "      <td>1800.0</td>\n",
       "    </tr>\n",
       "  </tbody>\n",
       "</table>\n",
       "<p>5 rows × 43 columns</p>\n",
       "</div>"
      ],
      "text/plain": [
       "     total_cup_points  species                           owner  \\\n",
       "437             83.25  Arabica  exportadora de cafe condor s.a   \n",
       "285             83.83  Arabica                 ipanema coffees   \n",
       "784             82.08  Arabica                   cafe politico   \n",
       "648             82.58  Arabica  exportadora de cafe condor s.a   \n",
       "155             84.58  Arabica  exportadora de cafe condor s.a   \n",
       "\n",
       "    country_of_origin          farm_name lot_number  \\\n",
       "437          Colombia               None       None   \n",
       "285            Brazil  fazenda rio verde       None   \n",
       "784          Colombia               None       None   \n",
       "648          Colombia               None       None   \n",
       "155          Colombia            various       None   \n",
       "\n",
       "                                      mill     ico_number  \\\n",
       "437  trilladora bonanza - armenia quindioa      3-68-0205   \n",
       "285                        ipanema coffees  002/4177/0121   \n",
       "784                                   None      3-59-1656   \n",
       "648                    trilladora boananza      3-68-0140   \n",
       "155                    trilladora boananza      3-68-0005   \n",
       "\n",
       "                            company       altitude  ...  color  \\\n",
       "437                            None  1600-1800msnm  ...   None   \n",
       "285                 ipanema coffees           1260  ...  Green   \n",
       "784                   cafe politico           None  ...  Green   \n",
       "648  exportadora de cafe condor s.a      1750 msnm  ...  Green   \n",
       "155  exportadora de cafe condor s.a      1800 msnm  ...  Green   \n",
       "\n",
       "    category_two_defects            expiration            certification_body  \\\n",
       "437                  0.0       June 13th, 2012                      Almacafé   \n",
       "285                  0.0   December 26th, 2014  Specialty Coffee Association   \n",
       "784                  0.0  September 12th, 2015  Specialty Coffee Association   \n",
       "648                  0.0   February 27th, 2014                      Almacafé   \n",
       "155                  6.0     October 9th, 2013                      Almacafé   \n",
       "\n",
       "                        certification_address  \\\n",
       "437  e493c36c2d076bf273064f7ac23ad562af257a25   \n",
       "285  36d0d00a3724338ba7937c52a378d085f2172daa   \n",
       "784  36d0d00a3724338ba7937c52a378d085f2172daa   \n",
       "648  e493c36c2d076bf273064f7ac23ad562af257a25   \n",
       "155  e493c36c2d076bf273064f7ac23ad562af257a25   \n",
       "\n",
       "                        certification_contact unit_of_measurement  \\\n",
       "437  70d3c0c26f89e00fdae6fb39ff54f0d2eb1c38ab                   m   \n",
       "285  0878a7d4b9d35ddbf0fe2ce69a2062cceb45a660                   m   \n",
       "784  0878a7d4b9d35ddbf0fe2ce69a2062cceb45a660                   m   \n",
       "648  70d3c0c26f89e00fdae6fb39ff54f0d2eb1c38ab                   m   \n",
       "155  70d3c0c26f89e00fdae6fb39ff54f0d2eb1c38ab                   m   \n",
       "\n",
       "    altitude_low_meters altitude_high_meters altitude_mean_meters  \n",
       "437              1600.0               1800.0               1700.0  \n",
       "285              1260.0               1260.0               1260.0  \n",
       "784                 NaN                  NaN                  NaN  \n",
       "648              1750.0               1750.0               1750.0  \n",
       "155              1800.0               1800.0               1800.0  \n",
       "\n",
       "[5 rows x 43 columns]"
      ]
     },
     "execution_count": 11,
     "metadata": {},
     "output_type": "execute_result"
    }
   ],
   "source": [
    "# simple sampling\n",
    "coffee_ratings = pd.read_feather('./data/coffee_ratings_full.feather')\n",
    "coffee_ratings.sample(n=5, random_state=19000113)"
   ]
  },
  {
   "cell_type": "code",
   "execution_count": 12,
   "id": "7199bd98-54a3-46c1-9ecb-7643f1191db2",
   "metadata": {},
   "outputs": [
    {
     "name": "stdout",
     "output_type": "stream",
     "text": [
      "1338\n",
      "267\n"
     ]
    }
   ],
   "source": [
    "# systematic sampling - define the interval\n",
    "sample_size = 5\n",
    "pop_size = len(coffee_ratings)\n",
    "print(pop_size)\n",
    "interval = pop_size // sample_size  # note: integer division because we want a whole number\n",
    "print(interval)"
   ]
  },
  {
   "cell_type": "code",
   "execution_count": 13,
   "id": "bbe87c99-94f7-422c-abf0-ae8b83e140d3",
   "metadata": {},
   "outputs": [
    {
     "data": {
      "text/html": [
       "<div>\n",
       "<style scoped>\n",
       "    .dataframe tbody tr th:only-of-type {\n",
       "        vertical-align: middle;\n",
       "    }\n",
       "\n",
       "    .dataframe tbody tr th {\n",
       "        vertical-align: top;\n",
       "    }\n",
       "\n",
       "    .dataframe thead th {\n",
       "        text-align: right;\n",
       "    }\n",
       "</style>\n",
       "<table border=\"1\" class=\"dataframe\">\n",
       "  <thead>\n",
       "    <tr style=\"text-align: right;\">\n",
       "      <th></th>\n",
       "      <th>total_cup_points</th>\n",
       "      <th>species</th>\n",
       "      <th>owner</th>\n",
       "      <th>country_of_origin</th>\n",
       "      <th>farm_name</th>\n",
       "      <th>lot_number</th>\n",
       "      <th>mill</th>\n",
       "      <th>ico_number</th>\n",
       "      <th>company</th>\n",
       "      <th>altitude</th>\n",
       "      <th>...</th>\n",
       "      <th>color</th>\n",
       "      <th>category_two_defects</th>\n",
       "      <th>expiration</th>\n",
       "      <th>certification_body</th>\n",
       "      <th>certification_address</th>\n",
       "      <th>certification_contact</th>\n",
       "      <th>unit_of_measurement</th>\n",
       "      <th>altitude_low_meters</th>\n",
       "      <th>altitude_high_meters</th>\n",
       "      <th>altitude_mean_meters</th>\n",
       "    </tr>\n",
       "  </thead>\n",
       "  <tbody>\n",
       "    <tr>\n",
       "      <th>0</th>\n",
       "      <td>90.58</td>\n",
       "      <td>Arabica</td>\n",
       "      <td>metad plc</td>\n",
       "      <td>Ethiopia</td>\n",
       "      <td>metad plc</td>\n",
       "      <td>None</td>\n",
       "      <td>metad plc</td>\n",
       "      <td>2014/2015</td>\n",
       "      <td>metad agricultural developmet plc</td>\n",
       "      <td>1950-2200</td>\n",
       "      <td>...</td>\n",
       "      <td>Green</td>\n",
       "      <td>0.0</td>\n",
       "      <td>April 3rd, 2016</td>\n",
       "      <td>METAD Agricultural Development plc</td>\n",
       "      <td>309fcf77415a3661ae83e027f7e5f05dad786e44</td>\n",
       "      <td>19fef5a731de2db57d16da10287413f5f99bc2dd</td>\n",
       "      <td>m</td>\n",
       "      <td>1950.0</td>\n",
       "      <td>2200.0</td>\n",
       "      <td>2075.0</td>\n",
       "    </tr>\n",
       "    <tr>\n",
       "      <th>267</th>\n",
       "      <td>83.92</td>\n",
       "      <td>Arabica</td>\n",
       "      <td>federacion nacional de cafeteros</td>\n",
       "      <td>Colombia</td>\n",
       "      <td>None</td>\n",
       "      <td>None</td>\n",
       "      <td>None</td>\n",
       "      <td>01-1969</td>\n",
       "      <td>federacion nacional de cafeteros</td>\n",
       "      <td>None</td>\n",
       "      <td>...</td>\n",
       "      <td>None</td>\n",
       "      <td>1.0</td>\n",
       "      <td>March 11th, 2016</td>\n",
       "      <td>Almacafé</td>\n",
       "      <td>e493c36c2d076bf273064f7ac23ad562af257a25</td>\n",
       "      <td>70d3c0c26f89e00fdae6fb39ff54f0d2eb1c38ab</td>\n",
       "      <td>m</td>\n",
       "      <td>NaN</td>\n",
       "      <td>NaN</td>\n",
       "      <td>NaN</td>\n",
       "    </tr>\n",
       "    <tr>\n",
       "      <th>534</th>\n",
       "      <td>82.92</td>\n",
       "      <td>Arabica</td>\n",
       "      <td>consejo salvadoreño del café</td>\n",
       "      <td>El Salvador</td>\n",
       "      <td>santa josefita</td>\n",
       "      <td>1-198</td>\n",
       "      <td>beneficio cuzcachapa</td>\n",
       "      <td>09-030-273</td>\n",
       "      <td>soc. coop. cuzcachapa de r.l.</td>\n",
       "      <td>1350</td>\n",
       "      <td>...</td>\n",
       "      <td>Green</td>\n",
       "      <td>1.0</td>\n",
       "      <td>August 28th, 2018</td>\n",
       "      <td>Salvadoran Coffee Council</td>\n",
       "      <td>3d4987e3b91399dbb3938b5bdf53893b6ef45be1</td>\n",
       "      <td>27b21e368fb8291cbea02c60623fe6c98f84524d</td>\n",
       "      <td>m</td>\n",
       "      <td>1350.0</td>\n",
       "      <td>1350.0</td>\n",
       "      <td>1350.0</td>\n",
       "    </tr>\n",
       "    <tr>\n",
       "      <th>801</th>\n",
       "      <td>82.00</td>\n",
       "      <td>Arabica</td>\n",
       "      <td>lin, che-hao krude 林哲豪</td>\n",
       "      <td>Taiwan</td>\n",
       "      <td>you siang coffee farmtainan, taiwan 台灣台南優香咖啡</td>\n",
       "      <td>None</td>\n",
       "      <td>you siang coffee farmtainan, taiwan 台灣台南優香咖啡</td>\n",
       "      <td>Taiwan</td>\n",
       "      <td>red on tree co., ltd.</td>\n",
       "      <td>600m</td>\n",
       "      <td>...</td>\n",
       "      <td>Green</td>\n",
       "      <td>0.0</td>\n",
       "      <td>July 22nd, 2015</td>\n",
       "      <td>Specialty Coffee Association</td>\n",
       "      <td>36d0d00a3724338ba7937c52a378d085f2172daa</td>\n",
       "      <td>0878a7d4b9d35ddbf0fe2ce69a2062cceb45a660</td>\n",
       "      <td>m</td>\n",
       "      <td>600.0</td>\n",
       "      <td>600.0</td>\n",
       "      <td>600.0</td>\n",
       "    </tr>\n",
       "    <tr>\n",
       "      <th>1068</th>\n",
       "      <td>80.50</td>\n",
       "      <td>Arabica</td>\n",
       "      <td>cqi taiwan icp cqi台灣合作夥伴</td>\n",
       "      <td>Taiwan</td>\n",
       "      <td>王秋金</td>\n",
       "      <td>1</td>\n",
       "      <td>non</td>\n",
       "      <td>None</td>\n",
       "      <td>王秋金</td>\n",
       "      <td>50</td>\n",
       "      <td>...</td>\n",
       "      <td>Blue-Green</td>\n",
       "      <td>0.0</td>\n",
       "      <td>December 8th, 2018</td>\n",
       "      <td>Blossom Valley International</td>\n",
       "      <td>fc45352eee499d8470cf94c9827922fb745bf815</td>\n",
       "      <td>de73fc9412358b523d3a641501e542f31d2668b0</td>\n",
       "      <td>m</td>\n",
       "      <td>50.0</td>\n",
       "      <td>50.0</td>\n",
       "      <td>50.0</td>\n",
       "    </tr>\n",
       "    <tr>\n",
       "      <th>1335</th>\n",
       "      <td>77.17</td>\n",
       "      <td>Robusta</td>\n",
       "      <td>james moore</td>\n",
       "      <td>United States</td>\n",
       "      <td>fazenda cazengo</td>\n",
       "      <td>None</td>\n",
       "      <td>cafe cazengo</td>\n",
       "      <td>None</td>\n",
       "      <td>global opportunity fund</td>\n",
       "      <td>795 meters</td>\n",
       "      <td>...</td>\n",
       "      <td>None</td>\n",
       "      <td>6.0</td>\n",
       "      <td>December 23rd, 2015</td>\n",
       "      <td>Specialty Coffee Association</td>\n",
       "      <td>ff7c18ad303d4b603ac3f8cff7e611ffc735e720</td>\n",
       "      <td>352d0cf7f3e9be14dad7df644ad65efc27605ae2</td>\n",
       "      <td>m</td>\n",
       "      <td>795.0</td>\n",
       "      <td>795.0</td>\n",
       "      <td>795.0</td>\n",
       "    </tr>\n",
       "  </tbody>\n",
       "</table>\n",
       "<p>6 rows × 43 columns</p>\n",
       "</div>"
      ],
      "text/plain": [
       "      total_cup_points  species                             owner  \\\n",
       "0                90.58  Arabica                         metad plc   \n",
       "267              83.92  Arabica  federacion nacional de cafeteros   \n",
       "534              82.92  Arabica      consejo salvadoreño del café   \n",
       "801              82.00  Arabica            lin, che-hao krude 林哲豪   \n",
       "1068             80.50  Arabica          cqi taiwan icp cqi台灣合作夥伴   \n",
       "1335             77.17  Robusta                       james moore   \n",
       "\n",
       "     country_of_origin                                     farm_name  \\\n",
       "0             Ethiopia                                     metad plc   \n",
       "267           Colombia                                          None   \n",
       "534        El Salvador                                santa josefita   \n",
       "801             Taiwan  you siang coffee farmtainan, taiwan 台灣台南優香咖啡   \n",
       "1068            Taiwan                                           王秋金   \n",
       "1335     United States                               fazenda cazengo   \n",
       "\n",
       "     lot_number                                          mill  ico_number  \\\n",
       "0          None                                     metad plc   2014/2015   \n",
       "267        None                                          None     01-1969   \n",
       "534       1-198                          beneficio cuzcachapa  09-030-273   \n",
       "801        None  you siang coffee farmtainan, taiwan 台灣台南優香咖啡      Taiwan   \n",
       "1068          1                                           non        None   \n",
       "1335       None                                  cafe cazengo        None   \n",
       "\n",
       "                                company    altitude  ...       color  \\\n",
       "0     metad agricultural developmet plc   1950-2200  ...       Green   \n",
       "267    federacion nacional de cafeteros        None  ...        None   \n",
       "534       soc. coop. cuzcachapa de r.l.        1350  ...       Green   \n",
       "801               red on tree co., ltd.        600m  ...       Green   \n",
       "1068                                王秋金          50  ...  Blue-Green   \n",
       "1335            global opportunity fund  795 meters  ...        None   \n",
       "\n",
       "     category_two_defects           expiration  \\\n",
       "0                     0.0      April 3rd, 2016   \n",
       "267                   1.0     March 11th, 2016   \n",
       "534                   1.0    August 28th, 2018   \n",
       "801                   0.0      July 22nd, 2015   \n",
       "1068                  0.0   December 8th, 2018   \n",
       "1335                  6.0  December 23rd, 2015   \n",
       "\n",
       "                      certification_body  \\\n",
       "0     METAD Agricultural Development plc   \n",
       "267                             Almacafé   \n",
       "534            Salvadoran Coffee Council   \n",
       "801         Specialty Coffee Association   \n",
       "1068        Blossom Valley International   \n",
       "1335        Specialty Coffee Association   \n",
       "\n",
       "                         certification_address  \\\n",
       "0     309fcf77415a3661ae83e027f7e5f05dad786e44   \n",
       "267   e493c36c2d076bf273064f7ac23ad562af257a25   \n",
       "534   3d4987e3b91399dbb3938b5bdf53893b6ef45be1   \n",
       "801   36d0d00a3724338ba7937c52a378d085f2172daa   \n",
       "1068  fc45352eee499d8470cf94c9827922fb745bf815   \n",
       "1335  ff7c18ad303d4b603ac3f8cff7e611ffc735e720   \n",
       "\n",
       "                         certification_contact unit_of_measurement  \\\n",
       "0     19fef5a731de2db57d16da10287413f5f99bc2dd                   m   \n",
       "267   70d3c0c26f89e00fdae6fb39ff54f0d2eb1c38ab                   m   \n",
       "534   27b21e368fb8291cbea02c60623fe6c98f84524d                   m   \n",
       "801   0878a7d4b9d35ddbf0fe2ce69a2062cceb45a660                   m   \n",
       "1068  de73fc9412358b523d3a641501e542f31d2668b0                   m   \n",
       "1335  352d0cf7f3e9be14dad7df644ad65efc27605ae2                   m   \n",
       "\n",
       "     altitude_low_meters altitude_high_meters altitude_mean_meters  \n",
       "0                 1950.0               2200.0               2075.0  \n",
       "267                  NaN                  NaN                  NaN  \n",
       "534               1350.0               1350.0               1350.0  \n",
       "801                600.0                600.0                600.0  \n",
       "1068                50.0                 50.0                 50.0  \n",
       "1335               795.0                795.0                795.0  \n",
       "\n",
       "[6 rows x 43 columns]"
      ]
     },
     "execution_count": 13,
     "metadata": {},
     "output_type": "execute_result"
    }
   ],
   "source": [
    "systematic_coffee_sample = coffee_ratings.iloc[::interval]\n",
    "systematic_coffee_sample"
   ]
  },
  {
   "cell_type": "code",
   "execution_count": 14,
   "id": "caa22482-c067-4e09-92fa-2c1e7f6e5d96",
   "metadata": {},
   "outputs": [
    {
     "data": {
      "image/png": "[encoded data removed]",
      "text/plain": [
       "<Figure size 640x480 with 1 Axes>"
      ]
     },
     "metadata": {},
     "output_type": "display_data"
    }
   ],
   "source": [
    "coffee_ratings_with_id = coffee_ratings.reset_index() \n",
    "coffee_ratings_with_id.plot(x=\"index\", y=\"aftertaste\", kind=\"scatter\") \n",
    "plt.show() "
   ]
  },
  {
   "cell_type": "code",
   "execution_count": 15,
   "id": "92f8b559-19ed-4526-ab73-58dea8283b60",
   "metadata": {},
   "outputs": [
    {
     "data": {
      "image/png": "[encoded data removed]",
      "text/plain": [
       "<Figure size 640x480 with 1 Axes>"
      ]
     },
     "metadata": {},
     "output_type": "display_data"
    }
   ],
   "source": [
    "# shuffle the rows to ensure a same systematic sampling\n",
    "shuffled = coffee_ratings.sample(frac=1)  # proportion of the dataset to return in the sample, 1 means randomly sample the whole dataset\n",
    "shuffled = shuffled.reset_index(drop=True).reset_index()  # need reset the index so that row numbers are reordered\n",
    "# replotting shows that we've mitigated the original order bias\n",
    "shuffled.plot(x=\"index\", y=\"aftertaste\", kind=\"scatter\") \n",
    "plt.show() "
   ]
  },
  {
   "cell_type": "markdown",
   "id": "c002d797-897e-4514-b3b9-499e496e3468",
   "metadata": {},
   "source": [
    "## Sampling from the attrition data"
   ]
  },
  {
   "cell_type": "code",
   "execution_count": 16,
   "id": "bbaa4856-1d56-406b-8445-d82f0699bd16",
   "metadata": {},
   "outputs": [
    {
     "data": {
      "text/plain": [
       "(1470, 31)"
      ]
     },
     "execution_count": 16,
     "metadata": {},
     "output_type": "execute_result"
    }
   ],
   "source": [
    "attrition_pop = pd.read_feather('./data/attrition.feather')\n",
    "attrition_pop.shape"
   ]
  },
  {
   "cell_type": "code",
   "execution_count": 17,
   "id": "60d914bf-48c4-4cd2-8fd7-7744ab3e32c8",
   "metadata": {},
   "outputs": [
    {
     "data": {
      "text/html": [
       "<div>\n",
       "<style scoped>\n",
       "    .dataframe tbody tr th:only-of-type {\n",
       "        vertical-align: middle;\n",
       "    }\n",
       "\n",
       "    .dataframe tbody tr th {\n",
       "        vertical-align: top;\n",
       "    }\n",
       "\n",
       "    .dataframe thead th {\n",
       "        text-align: right;\n",
       "    }\n",
       "</style>\n",
       "<table border=\"1\" class=\"dataframe\">\n",
       "  <thead>\n",
       "    <tr style=\"text-align: right;\">\n",
       "      <th></th>\n",
       "      <th>Age</th>\n",
       "      <th>Attrition</th>\n",
       "      <th>BusinessTravel</th>\n",
       "      <th>DailyRate</th>\n",
       "      <th>Department</th>\n",
       "      <th>DistanceFromHome</th>\n",
       "      <th>Education</th>\n",
       "      <th>EducationField</th>\n",
       "      <th>EnvironmentSatisfaction</th>\n",
       "      <th>Gender</th>\n",
       "      <th>...</th>\n",
       "      <th>PerformanceRating</th>\n",
       "      <th>RelationshipSatisfaction</th>\n",
       "      <th>StockOptionLevel</th>\n",
       "      <th>TotalWorkingYears</th>\n",
       "      <th>TrainingTimesLastYear</th>\n",
       "      <th>WorkLifeBalance</th>\n",
       "      <th>YearsAtCompany</th>\n",
       "      <th>YearsInCurrentRole</th>\n",
       "      <th>YearsSinceLastPromotion</th>\n",
       "      <th>YearsWithCurrManager</th>\n",
       "    </tr>\n",
       "  </thead>\n",
       "  <tbody>\n",
       "    <tr>\n",
       "      <th>1134</th>\n",
       "      <td>35</td>\n",
       "      <td>0.0</td>\n",
       "      <td>Travel_Rarely</td>\n",
       "      <td>583</td>\n",
       "      <td>Research_Development</td>\n",
       "      <td>25</td>\n",
       "      <td>Master</td>\n",
       "      <td>Medical</td>\n",
       "      <td>High</td>\n",
       "      <td>Female</td>\n",
       "      <td>...</td>\n",
       "      <td>Excellent</td>\n",
       "      <td>High</td>\n",
       "      <td>1</td>\n",
       "      <td>16</td>\n",
       "      <td>3</td>\n",
       "      <td>Good</td>\n",
       "      <td>16</td>\n",
       "      <td>10</td>\n",
       "      <td>10</td>\n",
       "      <td>1</td>\n",
       "    </tr>\n",
       "    <tr>\n",
       "      <th>1150</th>\n",
       "      <td>52</td>\n",
       "      <td>0.0</td>\n",
       "      <td>Non-Travel</td>\n",
       "      <td>585</td>\n",
       "      <td>Sales</td>\n",
       "      <td>29</td>\n",
       "      <td>Master</td>\n",
       "      <td>Life_Sciences</td>\n",
       "      <td>Low</td>\n",
       "      <td>Male</td>\n",
       "      <td>...</td>\n",
       "      <td>Excellent</td>\n",
       "      <td>Medium</td>\n",
       "      <td>2</td>\n",
       "      <td>16</td>\n",
       "      <td>3</td>\n",
       "      <td>Good</td>\n",
       "      <td>9</td>\n",
       "      <td>8</td>\n",
       "      <td>0</td>\n",
       "      <td>0</td>\n",
       "    </tr>\n",
       "    <tr>\n",
       "      <th>531</th>\n",
       "      <td>33</td>\n",
       "      <td>0.0</td>\n",
       "      <td>Travel_Rarely</td>\n",
       "      <td>931</td>\n",
       "      <td>Research_Development</td>\n",
       "      <td>14</td>\n",
       "      <td>Bachelor</td>\n",
       "      <td>Medical</td>\n",
       "      <td>Very_High</td>\n",
       "      <td>Female</td>\n",
       "      <td>...</td>\n",
       "      <td>Excellent</td>\n",
       "      <td>Very_High</td>\n",
       "      <td>1</td>\n",
       "      <td>8</td>\n",
       "      <td>5</td>\n",
       "      <td>Better</td>\n",
       "      <td>8</td>\n",
       "      <td>7</td>\n",
       "      <td>1</td>\n",
       "      <td>6</td>\n",
       "    </tr>\n",
       "    <tr>\n",
       "      <th>395</th>\n",
       "      <td>31</td>\n",
       "      <td>0.0</td>\n",
       "      <td>Travel_Rarely</td>\n",
       "      <td>1332</td>\n",
       "      <td>Research_Development</td>\n",
       "      <td>11</td>\n",
       "      <td>College</td>\n",
       "      <td>Medical</td>\n",
       "      <td>High</td>\n",
       "      <td>Male</td>\n",
       "      <td>...</td>\n",
       "      <td>Excellent</td>\n",
       "      <td>Very_High</td>\n",
       "      <td>0</td>\n",
       "      <td>6</td>\n",
       "      <td>2</td>\n",
       "      <td>Good</td>\n",
       "      <td>6</td>\n",
       "      <td>5</td>\n",
       "      <td>0</td>\n",
       "      <td>1</td>\n",
       "    </tr>\n",
       "    <tr>\n",
       "      <th>392</th>\n",
       "      <td>29</td>\n",
       "      <td>0.0</td>\n",
       "      <td>Travel_Rarely</td>\n",
       "      <td>942</td>\n",
       "      <td>Research_Development</td>\n",
       "      <td>15</td>\n",
       "      <td>Below_College</td>\n",
       "      <td>Life_Sciences</td>\n",
       "      <td>Medium</td>\n",
       "      <td>Female</td>\n",
       "      <td>...</td>\n",
       "      <td>Excellent</td>\n",
       "      <td>Low</td>\n",
       "      <td>1</td>\n",
       "      <td>6</td>\n",
       "      <td>2</td>\n",
       "      <td>Good</td>\n",
       "      <td>5</td>\n",
       "      <td>4</td>\n",
       "      <td>1</td>\n",
       "      <td>3</td>\n",
       "    </tr>\n",
       "  </tbody>\n",
       "</table>\n",
       "<p>5 rows × 31 columns</p>\n",
       "</div>"
      ],
      "text/plain": [
       "      Age  Attrition BusinessTravel  DailyRate            Department  \\\n",
       "1134   35        0.0  Travel_Rarely        583  Research_Development   \n",
       "1150   52        0.0     Non-Travel        585                 Sales   \n",
       "531    33        0.0  Travel_Rarely        931  Research_Development   \n",
       "395    31        0.0  Travel_Rarely       1332  Research_Development   \n",
       "392    29        0.0  Travel_Rarely        942  Research_Development   \n",
       "\n",
       "      DistanceFromHome      Education EducationField EnvironmentSatisfaction  \\\n",
       "1134                25         Master        Medical                    High   \n",
       "1150                29         Master  Life_Sciences                     Low   \n",
       "531                 14       Bachelor        Medical               Very_High   \n",
       "395                 11        College        Medical                    High   \n",
       "392                 15  Below_College  Life_Sciences                  Medium   \n",
       "\n",
       "      Gender  ...  PerformanceRating RelationshipSatisfaction  \\\n",
       "1134  Female  ...          Excellent                     High   \n",
       "1150    Male  ...          Excellent                   Medium   \n",
       "531   Female  ...          Excellent                Very_High   \n",
       "395     Male  ...          Excellent                Very_High   \n",
       "392   Female  ...          Excellent                      Low   \n",
       "\n",
       "      StockOptionLevel TotalWorkingYears TrainingTimesLastYear  \\\n",
       "1134                 1                16                     3   \n",
       "1150                 2                16                     3   \n",
       "531                  1                 8                     5   \n",
       "395                  0                 6                     2   \n",
       "392                  1                 6                     2   \n",
       "\n",
       "     WorkLifeBalance  YearsAtCompany  YearsInCurrentRole  \\\n",
       "1134            Good              16                  10   \n",
       "1150            Good               9                   8   \n",
       "531           Better               8                   7   \n",
       "395             Good               6                   5   \n",
       "392             Good               5                   4   \n",
       "\n",
       "      YearsSinceLastPromotion YearsWithCurrManager  \n",
       "1134                       10                    1  \n",
       "1150                        0                    0  \n",
       "531                         1                    6  \n",
       "395                         0                    1  \n",
       "392                         1                    3  \n",
       "\n",
       "[5 rows x 31 columns]"
      ]
     },
     "execution_count": 17,
     "metadata": {},
     "output_type": "execute_result"
    }
   ],
   "source": [
    "# Sample 70 rows using simple random sampling and set the seed\n",
    "attrition_samp = attrition_pop.sample(n=70, random_state=18900217)\n",
    "\n",
    "# Print the sample\n",
    "attrition_samp.head()"
   ]
  },
  {
   "cell_type": "markdown",
   "id": "05cf1d7e-4c11-44e6-bede-99e3902516e5",
   "metadata": {},
   "source": [
    "### Systematic sampling of the attrition data"
   ]
  },
  {
   "cell_type": "code",
   "execution_count": 18,
   "id": "1645bd88-b49b-4f5e-abce-bf3a8cb02d2b",
   "metadata": {},
   "outputs": [
    {
     "name": "stdout",
     "output_type": "stream",
     "text": [
      "    Age  Attrition BusinessTravel  DailyRate            Department  \\\n",
      "0    21        0.0  Travel_Rarely        391  Research_Development   \n",
      "21   19        0.0  Travel_Rarely       1181  Research_Development   \n",
      "42   45        0.0  Travel_Rarely        252  Research_Development   \n",
      "63   23        0.0  Travel_Rarely        373  Research_Development   \n",
      "84   30        1.0  Travel_Rarely        945                 Sales   \n",
      "\n",
      "    DistanceFromHome      Education EducationField EnvironmentSatisfaction  \\\n",
      "0                 15        College  Life_Sciences                    High   \n",
      "21                 3  Below_College        Medical                  Medium   \n",
      "42                 2       Bachelor  Life_Sciences                  Medium   \n",
      "63                 1        College  Life_Sciences               Very_High   \n",
      "84                 9       Bachelor        Medical                  Medium   \n",
      "\n",
      "    Gender  ...  PerformanceRating RelationshipSatisfaction  StockOptionLevel  \\\n",
      "0     Male  ...          Excellent                Very_High                 0   \n",
      "21  Female  ...          Excellent                Very_High                 0   \n",
      "42  Female  ...          Excellent                Very_High                 0   \n",
      "63    Male  ...        Outstanding                Very_High                 1   \n",
      "84    Male  ...          Excellent                     High                 0   \n",
      "\n",
      "   TotalWorkingYears TrainingTimesLastYear WorkLifeBalance  YearsAtCompany  \\\n",
      "0                  0                     6          Better               0   \n",
      "21                 1                     3          Better               1   \n",
      "42                 1                     3          Better               1   \n",
      "63                 1                     2          Better               1   \n",
      "84                 1                     3            Good               1   \n",
      "\n",
      "    YearsInCurrentRole  YearsSinceLastPromotion YearsWithCurrManager  \n",
      "0                    0                        0                    0  \n",
      "21                   0                        0                    0  \n",
      "42                   0                        0                    0  \n",
      "63                   0                        0                    1  \n",
      "84                   0                        0                    0  \n",
      "\n",
      "[5 rows x 31 columns]\n"
     ]
    }
   ],
   "source": [
    "# Set the sample size to 70\n",
    "sample_size = 70\n",
    "\n",
    "# Calculate the population size from attrition_pop\n",
    "pop_size = len(attrition_pop)\n",
    "\n",
    "# Calculate the interval\n",
    "interval = pop_size // sample_size\n",
    "\n",
    "# Systematically sample 70 rows\n",
    "attrition_sys_samp = attrition_pop.iloc[::interval]\n",
    "\n",
    "# Print the sample\n",
    "print(attrition_sys_samp.head())"
   ]
  },
  {
   "cell_type": "code",
   "execution_count": 19,
   "id": "7e315ab3-2482-40f4-811c-0e1e5a4d5a55",
   "metadata": {},
   "outputs": [
    {
     "data": {
      "image/png": "[encoded data removed]",
      "text/plain": [
       "<Figure size 640x480 with 1 Axes>"
      ]
     },
     "metadata": {},
     "output_type": "display_data"
    }
   ],
   "source": [
    "# Add an index column to attrition_pop\n",
    "attrition_pop_id = attrition_pop.reset_index()\n",
    "\n",
    "# Plot YearsAtCompany vs. index for attrition_pop_id\n",
    "attrition_pop_id.plot(x=\"index\", y=\"YearsAtCompany\", kind=\"scatter\")\n",
    "plt.show()"
   ]
  },
  {
   "cell_type": "code",
   "execution_count": 20,
   "id": "f9384538-65fa-485f-b311-91c659cc0583",
   "metadata": {},
   "outputs": [
    {
     "data": {
      "image/png": "[encoded data removed]",
      "text/plain": [
       "<Figure size 640x480 with 1 Axes>"
      ]
     },
     "metadata": {},
     "output_type": "display_data"
    }
   ],
   "source": [
    "# Shuffle the rows of attrition_pop\n",
    "attrition_shuffled = attrition_pop.sample(frac=1)\n",
    "\n",
    "# Reset the row indexes and create an index column\n",
    "attrition_shuffled = attrition_shuffled.reset_index(drop=True).reset_index()\n",
    "\n",
    "# Plot YearsAtCompany vs. index for attrition_shuffled\n",
    "attrition_shuffled.plot(x=\"index\", y=\"YearsAtCompany\", kind=\"scatter\")\n",
    "plt.show()"
   ]
  },
  {
   "cell_type": "markdown",
   "id": "7ad729e5-aaea-4712-8ff5-9a26f86662cd",
   "metadata": {},
   "source": [
    "## Stratified and weighted random sampling\n",
    "\n",
    "Stratified sampling is used when we are sampling from a population that contains a number of **subgroups**.\n"
   ]
  },
  {
   "cell_type": "code",
   "execution_count": 21,
   "id": "fafca355-572c-487c-8861-4dd825d4d7c1",
   "metadata": {},
   "outputs": [
    {
     "name": "stdout",
     "output_type": "stream",
     "text": [
      "There are 37 unique origins in the coffee dataset. These origins are:\n",
      "['Ethiopia' 'Guatemala' 'Brazil' 'Peru' 'United States'\n",
      " 'United States (Hawaii)' 'Indonesia' 'China' 'Costa Rica' 'Mexico'\n",
      " 'Uganda' 'Honduras' 'Taiwan' 'Nicaragua' 'Tanzania, United Republic Of'\n",
      " 'Kenya' 'Thailand' 'Colombia' 'Panama' 'Papua New Guinea' 'El Salvador'\n",
      " 'Japan' 'Ecuador' 'United States (Puerto Rico)' 'Haiti' 'Burundi'\n",
      " 'Vietnam' 'Philippines' 'Rwanda' 'Malawi' 'Laos' 'Zambia' 'Myanmar'\n",
      " 'Mauritius' 'Cote d?Ivoire' None 'India']\n"
     ]
    }
   ],
   "source": [
    "coffee_origins = coffee_ratings['country_of_origin'].unique()\n",
    "print(f\"There are {len(coffee_origins)} unique origins in the coffee dataset. These origins are:\")\n",
    "print(coffee_origins)"
   ]
  },
  {
   "cell_type": "code",
   "execution_count": 22,
   "id": "221fc4de-a386-49e1-8432-cfc7047ebb76",
   "metadata": {},
   "outputs": [
    {
     "data": {
      "text/plain": [
       "country_of_origin\n",
       "Mexico                    236\n",
       "Colombia                  183\n",
       "Guatemala                 181\n",
       "Brazil                    132\n",
       "Taiwan                     75\n",
       "United States (Hawaii)     73\n",
       "Name: count, dtype: int64"
      ]
     },
     "execution_count": 22,
     "metadata": {},
     "output_type": "execute_result"
    }
   ],
   "source": [
    "top_counts = coffee_ratings['country_of_origin'].value_counts()\n",
    "top_counts.head(6)"
   ]
  },
  {
   "cell_type": "code",
   "execution_count": 23,
   "id": "0756fcce-43a0-450a-9615-f78e0c95fc43",
   "metadata": {},
   "outputs": [
    {
     "data": {
      "text/plain": [
       "country_of_origin\n",
       "Mexico                    0.250000\n",
       "Guatemala                 0.204545\n",
       "Colombia                  0.181818\n",
       "Brazil                    0.181818\n",
       "United States (Hawaii)    0.102273\n",
       "Taiwan                    0.079545\n",
       "Name: proportion, dtype: float64"
      ]
     },
     "execution_count": 23,
     "metadata": {},
     "output_type": "execute_result"
    }
   ],
   "source": [
    "top_6_countries = [\"Mexico\", \"Colombia\", \"Guatemala\", \"Brazil\", \"Taiwan\", \"United States (Hawaii)\"]\n",
    "# create binary filter vector\n",
    "top_6_subset = coffee_ratings['country_of_origin'].isin(top_6_countries)\n",
    "# top 6 subset of the population\n",
    "coffee_ratings_top_6 = coffee_ratings[top_6_subset]\n",
    "# a 10% sample from the top 5 subset\n",
    "coffee_ratings_top_6_sample = coffee_ratings_top_6.sample(frac=0.1, random_state=2021)\n",
    "# look at the proportions of the 10% sample\n",
    "coffee_ratings_top_6_sample['country_of_origin'].value_counts(normalize=True)"
   ]
  },
  {
   "cell_type": "code",
   "execution_count": 24,
   "id": "9197dd52-fda8-47a8-ae60-3d7fb4ce3b4f",
   "metadata": {},
   "outputs": [
    {
     "data": {
      "text/plain": [
       "country_of_origin\n",
       "Mexico                    0.268182\n",
       "Colombia                  0.207955\n",
       "Guatemala                 0.205682\n",
       "Brazil                    0.150000\n",
       "Taiwan                    0.085227\n",
       "United States (Hawaii)    0.082955\n",
       "Name: proportion, dtype: float64"
      ]
     },
     "execution_count": 24,
     "metadata": {},
     "output_type": "execute_result"
    }
   ],
   "source": [
    "# look at the proportions from the population\n",
    "coffee_ratings_top_6['country_of_origin'].value_counts(normalize=True)"
   ]
  },
  {
   "cell_type": "markdown",
   "id": "bc958b4f-75be-4af4-8dfa-d9e58b697fad",
   "metadata": {},
   "source": [
    "In this sample, Taiwanese coffees form a **disproportionally low** percentage. This mismatch could lead to problems in our analysis. This is why, ideally, we would like the proportions of our sample to be the same as what we see in population."
   ]
  },
  {
   "cell_type": "code",
   "execution_count": 25,
   "id": "85d34aaf-1d52-4966-92e9-d6d1ebea942b",
   "metadata": {},
   "outputs": [
    {
     "data": {
      "text/plain": [
       "country_of_origin\n",
       "Mexico                    0.272727\n",
       "Colombia                  0.204545\n",
       "Guatemala                 0.204545\n",
       "Brazil                    0.147727\n",
       "Taiwan                    0.090909\n",
       "United States (Hawaii)    0.079545\n",
       "Name: proportion, dtype: float64"
      ]
     },
     "execution_count": 25,
     "metadata": {},
     "output_type": "execute_result"
    }
   ],
   "source": [
    "# proportional stratified sampling - run groupby before sample\n",
    "coffee_ratings_strat = coffee_ratings_top_6.groupby('country_of_origin').sample(frac=0.1, random_state=2021)\n",
    "coffee_ratings_strat['country_of_origin'].value_counts(normalize=True)"
   ]
  },
  {
   "cell_type": "markdown",
   "id": "ff41a111-219d-470f-ae6b-f9a75a11ca0a",
   "metadata": {},
   "source": [
    "### Notice how this above distribution more closely matches that of the population...\n",
    "\n",
    "+ One variation of stratified sampling is sample **equal counts** from each group rather than equal proportions.\n",
    "+ Another variation is **weighted random sampling** which requires us to specify weights to adjust the relative probability of a row being sampled\n",
    "  + For example, suppose we wanted a higher proportion of Taiwanese coffees in the sample than in the population\n",
    "  + Another example - weighted sampling is commoin in political polling, where we need to correct for under or over-represention of demographic groups"
   ]
  },
  {
   "cell_type": "code",
   "execution_count": 26,
   "id": "34b0ccbd-0b98-4fd6-a94b-6ab3964da539",
   "metadata": {},
   "outputs": [
    {
     "data": {
      "text/plain": [
       "country_of_origin\n",
       "Brazil                    0.166667\n",
       "Colombia                  0.166667\n",
       "Guatemala                 0.166667\n",
       "Mexico                    0.166667\n",
       "Taiwan                    0.166667\n",
       "United States (Hawaii)    0.166667\n",
       "Name: proportion, dtype: float64"
      ]
     },
     "execution_count": 26,
     "metadata": {},
     "output_type": "execute_result"
    }
   ],
   "source": [
    "# equal counts stratified sampling - take a sample of 15 from each group\n",
    "coffee_ratings_strat = coffee_ratings_top_6.groupby('country_of_origin').sample(n=15, random_state=2021)\n",
    "# equal proportions from each group - since there are 6 group, each group will have 1/6 of the overall sample\n",
    "coffee_ratings_strat['country_of_origin'].value_counts(normalize=True)"
   ]
  },
  {
   "cell_type": "code",
   "execution_count": 27,
   "id": "411bd3cb-a92c-4733-9579-8f698bc32564",
   "metadata": {},
   "outputs": [
    {
     "data": {
      "text/plain": [
       "country_of_origin\n",
       "Mexico                    0.306818\n",
       "Taiwan                    0.193182\n",
       "Brazil                    0.147727\n",
       "Colombia                  0.136364\n",
       "Guatemala                 0.136364\n",
       "United States (Hawaii)    0.079545\n",
       "Name: proportion, dtype: float64"
      ]
     },
     "execution_count": 27,
     "metadata": {},
     "output_type": "execute_result"
    }
   ],
   "source": [
    "coffee_ratings_weight = coffee_ratings_top_6.copy()  # need the copy here to avoid SettingWithCopyWarning\n",
    "condition = coffee_ratings_weight['country_of_origin'] == \"Taiwan\"\n",
    "# make selecting Taiwanese coffee twice as likely\n",
    "coffee_ratings_weight['weight'] = np.where(condition, 2, 1)\n",
    "# resample using the new weighting\n",
    "coffee_ratings_weight = coffee_ratings_weight.sample(frac=0.1, weights='weight')\n",
    "# Taiwan now has about 2x the proportion that it has for the population\n",
    "coffee_ratings_weight['country_of_origin'].value_counts(normalize=True)"
   ]
  },
  {
   "cell_type": "markdown",
   "id": "d5d8a99c-1fe3-4d63-a63c-aa3ea3009efd",
   "metadata": {},
   "source": [
    "## Proportional stratified sampling\n",
    "\n",
    "If we are interested in subgroups within the population, then we may need to carefully control the counts of each subgroup within the population. Proportional stratified sampling results in subgroup sizes within the sample that are representative of the subgroup sizes within the population. It is equivalent to performing a simple random sample on each subgroup."
   ]
  },
  {
   "cell_type": "code",
   "execution_count": 28,
   "id": "5d52d063-58c9-461c-a159-210cf9f2d106",
   "metadata": {},
   "outputs": [
    {
     "name": "stdout",
     "output_type": "stream",
     "text": [
      "Education\n",
      "Bachelor         0.389116\n",
      "Master           0.270748\n",
      "College          0.191837\n",
      "Below_College    0.115646\n",
      "Doctor           0.032653\n",
      "Name: proportion, dtype: float64 \n",
      "\n",
      "      Age  Attrition     BusinessTravel  DailyRate            Department  \\\n",
      "1191   53        0.0      Travel_Rarely        238                 Sales   \n",
      "407    29        0.0  Travel_Frequently        995  Research_Development   \n",
      "1233   59        0.0  Travel_Frequently       1225                 Sales   \n",
      "366    37        0.0      Travel_Rarely        571  Research_Development   \n",
      "702    31        0.0  Travel_Frequently        163  Research_Development   \n",
      "...   ...        ...                ...        ...                   ...   \n",
      "733    38        0.0  Travel_Frequently        653  Research_Development   \n",
      "1061   44        0.0  Travel_Frequently        602       Human_Resources   \n",
      "1307   41        0.0      Travel_Rarely       1276                 Sales   \n",
      "1060   33        0.0      Travel_Rarely        516  Research_Development   \n",
      "177    29        0.0      Travel_Rarely        738  Research_Development   \n",
      "\n",
      "      DistanceFromHome      Education    EducationField  \\\n",
      "1191                 1  Below_College           Medical   \n",
      "407                  2  Below_College     Life_Sciences   \n",
      "1233                 1  Below_College     Life_Sciences   \n",
      "366                 10  Below_College     Life_Sciences   \n",
      "702                 24  Below_College  Technical_Degree   \n",
      "...                ...            ...               ...   \n",
      "733                 29         Doctor     Life_Sciences   \n",
      "1061                 1         Doctor   Human_Resources   \n",
      "1307                 2         Doctor     Life_Sciences   \n",
      "1060                 8         Doctor     Life_Sciences   \n",
      "177                  9         Doctor             Other   \n",
      "\n",
      "     EnvironmentSatisfaction  Gender  ...  PerformanceRating  \\\n",
      "1191               Very_High  Female  ...        Outstanding   \n",
      "407                      Low    Male  ...          Excellent   \n",
      "1233                     Low  Female  ...          Excellent   \n",
      "366                Very_High  Female  ...          Excellent   \n",
      "702                Very_High  Female  ...        Outstanding   \n",
      "...                      ...     ...  ...                ...   \n",
      "733                Very_High  Female  ...          Excellent   \n",
      "1061                     Low    Male  ...          Excellent   \n",
      "1307                  Medium  Female  ...          Excellent   \n",
      "1060               Very_High    Male  ...          Excellent   \n",
      "177                   Medium    Male  ...          Excellent   \n",
      "\n",
      "     RelationshipSatisfaction  StockOptionLevel TotalWorkingYears  \\\n",
      "1191                Very_High                 0                18   \n",
      "407                 Very_High                 1                 6   \n",
      "1233                Very_High                 0                20   \n",
      "366                    Medium                 2                 6   \n",
      "702                 Very_High                 0                 9   \n",
      "...                       ...               ...               ...   \n",
      "733                 Very_High                 0                10   \n",
      "1061                     High                 0                14   \n",
      "1307                   Medium                 1                22   \n",
      "1060                      Low                 0                14   \n",
      "177                      High                 0                 4   \n",
      "\n",
      "     TrainingTimesLastYear WorkLifeBalance  YearsAtCompany  \\\n",
      "1191                     2            Best              14   \n",
      "407                      0            Best               6   \n",
      "1233                     2            Good               4   \n",
      "366                      3            Good               5   \n",
      "702                      3            Good               5   \n",
      "...                    ...             ...             ...   \n",
      "733                      2          Better              10   \n",
      "1061                     3          Better              10   \n",
      "1307                     2          Better              18   \n",
      "1060                     6          Better               0   \n",
      "177                      2          Better               3   \n",
      "\n",
      "      YearsInCurrentRole  YearsSinceLastPromotion YearsWithCurrManager  \n",
      "1191                   7                        8                   10  \n",
      "407                    4                        1                    3  \n",
      "1233                   3                        1                    3  \n",
      "366                    3                        4                    3  \n",
      "702                    4                        1                    4  \n",
      "...                  ...                      ...                  ...  \n",
      "733                    3                        9                    9  \n",
      "1061                   7                        0                    2  \n",
      "1307                  16                       11                    8  \n",
      "1060                   0                        0                    0  \n",
      "177                    2                        2                    2  \n",
      "\n",
      "[588 rows x 31 columns] \n",
      "\n",
      "Education\n",
      "Bachelor         0.389456\n",
      "Master           0.270408\n",
      "College          0.192177\n",
      "Below_College    0.115646\n",
      "Doctor           0.032313\n",
      "Name: proportion, dtype: float64\n"
     ]
    }
   ],
   "source": [
    "# Proportion of employees by Education level\n",
    "education_counts_pop = attrition_pop[\"Education\"].value_counts(normalize=True)\n",
    "\n",
    "# Print education_counts_pop\n",
    "print(education_counts_pop, \"\\n\")\n",
    "\n",
    "# Proportional stratified sampling for 40% of each Education group - need to set observed=False to avoid FutureWarning\n",
    "attrition_strat = attrition_pop.groupby(\"Education\", observed=False)\\\n",
    "    .sample(frac=0.4, random_state=2022)\n",
    "\n",
    "# Print the sample\n",
    "print(attrition_strat, \"\\n\")\n",
    "\n",
    "# Calculate the Education level proportions from attrition_strat\n",
    "education_counts_strat = attrition_strat['Education'].value_counts(normalize=True)\n",
    "\n",
    "# Print education_counts_strat\n",
    "print(education_counts_strat)"
   ]
  },
  {
   "cell_type": "markdown",
   "id": "691c73d2-e305-4780-8052-e0a549dae6e3",
   "metadata": {},
   "source": [
    "## Equal counts stratified sampling\n",
    "\n",
    "If one subgroup is larger than another subgroup in the population, but we don't want to reflect that difference in our analysis, then we can use **equal counts stratified sampling** to generate samples where each subgroup has the same amount of data. For example, if we are analyzing blood types, O is the most common blood type worldwide, but we may wish to have equal amounts of O, A, B, and AB in our sample."
   ]
  },
  {
   "cell_type": "code",
   "execution_count": 29,
   "id": "fdc0284a-0e8b-4e43-a91a-aacc28bc858a",
   "metadata": {},
   "outputs": [
    {
     "name": "stdout",
     "output_type": "stream",
     "text": [
      "Education\n",
      "Below_College    0.2\n",
      "College          0.2\n",
      "Bachelor         0.2\n",
      "Master           0.2\n",
      "Doctor           0.2\n",
      "Name: proportion, dtype: float64\n"
     ]
    }
   ],
   "source": [
    "# Get 30 employees from each Education group\n",
    "attrition_eq = attrition_pop.groupby('Education', observed=False)\\\n",
    "\t.sample(n=30, random_state=2022)      \n",
    "\n",
    "# Get the proportions from attrition_eq\n",
    "education_counts_eq = attrition_eq['Education'].value_counts(normalize=True)\n",
    "\n",
    "# Print the results\n",
    "print(education_counts_eq)"
   ]
  },
  {
   "cell_type": "markdown",
   "id": "a760ad91-bd71-4d85-bd6b-ffb7dd91383b",
   "metadata": {},
   "source": [
    "## Weighted sampling\n",
    "\n",
    "Stratified sampling provides rules about the probability of picking rows from our dataset at the subgroup level. A generalization of this is weighted sampling, which lets us specify rules about the probability of picking rows at the row level. The probability of picking any given row is proportional to the weight value for that row."
   ]
  },
  {
   "cell_type": "code",
   "execution_count": 30,
   "id": "6921a060-c958-4e5b-92ba-947af5db3857",
   "metadata": {},
   "outputs": [
    {
     "data": {
      "image/png": "[encoded data removed]",
      "text/plain": [
       "<Figure size 640x480 with 1 Axes>"
      ]
     },
     "metadata": {},
     "output_type": "display_data"
    }
   ],
   "source": [
    "# Plot YearsAtCompany from attrition_pop as a histogram\n",
    "ax = attrition_pop[\"YearsAtCompany\"].hist(bins = np.arange(0, 41, 1))\n",
    "ax.set_xlabel(\"Years at company\")\n",
    "ax.set_ylabel(\"Count\")\n",
    "plt.show()"
   ]
  },
  {
   "cell_type": "code",
   "execution_count": 31,
   "id": "fec69283-8492-484a-bde1-c8f36dfd99d3",
   "metadata": {},
   "outputs": [
    {
     "data": {
      "image/png": "[encoded data removed]",
      "text/plain": [
       "<Figure size 640x480 with 1 Axes>"
      ]
     },
     "metadata": {},
     "output_type": "display_data"
    },
    {
     "data": {
      "image/png": "[encoded data removed]",
      "text/plain": [
       "<Figure size 640x480 with 1 Axes>"
      ]
     },
     "metadata": {},
     "output_type": "display_data"
    }
   ],
   "source": [
    "# Plot YearsAtCompany from attrition_pop as a histogram\n",
    "ax_top = attrition_pop['YearsAtCompany'].hist(bins=np.arange(0, 41, 1))\n",
    "ax_top.set_title(\"Population\")\n",
    "ax_top.set_ylabel(\"Count\")\n",
    "plt.show()\n",
    "\n",
    "# Sample 400 employees weighted by YearsAtCompany\n",
    "attrition_weight = attrition_pop.sample(n=400, weights=\"YearsAtCompany\")\n",
    "\n",
    "# Plot YearsAtCompany weighted sample\n",
    "ax_bot = attrition_weight[\"YearsAtCompany\"].hist(bins=np.arange(0, 41, 1))\n",
    "ax_bot.set_title(\"Weighted Sample\")\n",
    "ax_bot.set_ylabel(\"Count\")\n",
    "ax_bot.set_xlabel(\"Year at company\")\n",
    "plt.show()"
   ]
  },
  {
   "cell_type": "markdown",
   "id": "6de1ebf0-7a62-4a49-b99b-4308c0a75aba",
   "metadata": {},
   "source": [
    "## Cluster sampling\n",
    "\n",
    "One problem with stratified sampling is that we need to collect datafrom each subgroup. Since collecting this data is often expensive, it would be useful to have an alternative. **Cluster sampling** uses random sampling to select **some** of the subgroups and then uses random sampling within only those subgroups. These are the steps we follow for cluster sampling:\n",
    "\n",
    "1. sample for subgroups\n",
    "2. sample each of the selected groups in 1."
   ]
  },
  {
   "cell_type": "code",
   "execution_count": 32,
   "id": "1ec58e42-c016-410e-8271-ce87125b8d5c",
   "metadata": {},
   "outputs": [
    {
     "name": "stdout",
     "output_type": "stream",
     "text": [
      "There are 28 (exluding `None` and `Other`) varieties of coffee in the dataset.\n",
      "\n",
      "[None 'Other' 'Bourbon' 'Catimor' 'Ethiopian Yirgacheffe' 'Caturra' 'SL14'\n",
      " 'Sumatra' 'SL34' 'Hawaiian Kona' 'Yellow Bourbon' 'SL28' 'Gesha' 'Catuai'\n",
      " 'Pacamara' 'Typica' 'Sumatra Lintong' 'Mundo Novo' 'Java' 'Peaberry'\n",
      " 'Pacas' 'Mandheling' 'Ruiru 11' 'Arusha' 'Ethiopian Heirlooms'\n",
      " 'Moka Peaberry' 'Sulawesi' 'Blue Mountain' 'Marigojipe' 'Pache Comun']\n"
     ]
    }
   ],
   "source": [
    "varieties_pop = coffee_ratings['variety'].unique()\n",
    "print(f\"There are {len(varieties_pop) - 2} (exluding `None` and `Other`) varieties of coffee in the dataset.\\n\")\n",
    "print(varieties_pop)"
   ]
  },
  {
   "cell_type": "code",
   "execution_count": 33,
   "id": "82d8140b-624b-4302-b8ca-a066012bd6d2",
   "metadata": {},
   "outputs": [
    {
     "name": "stdout",
     "output_type": "stream",
     "text": [
      "['Mundo Novo', 'Bourbon', 'Pacas']\n",
      "cluster sample count: 272\n",
      "Row count of cluster sample BEFORE removing unused categories: 272\n",
      "Row count of cluster sample AFTER removing unused categories: 272\n"
     ]
    },
    {
     "data": {
      "text/html": [
       "<div>\n",
       "<style scoped>\n",
       "    .dataframe tbody tr th:only-of-type {\n",
       "        vertical-align: middle;\n",
       "    }\n",
       "\n",
       "    .dataframe tbody tr th {\n",
       "        vertical-align: top;\n",
       "    }\n",
       "\n",
       "    .dataframe thead th {\n",
       "        text-align: right;\n",
       "    }\n",
       "</style>\n",
       "<table border=\"1\" class=\"dataframe\">\n",
       "  <thead>\n",
       "    <tr style=\"text-align: right;\">\n",
       "      <th></th>\n",
       "      <th>total_cup_points</th>\n",
       "      <th>species</th>\n",
       "      <th>owner</th>\n",
       "      <th>country_of_origin</th>\n",
       "      <th>farm_name</th>\n",
       "      <th>lot_number</th>\n",
       "      <th>mill</th>\n",
       "      <th>ico_number</th>\n",
       "      <th>company</th>\n",
       "      <th>altitude</th>\n",
       "      <th>...</th>\n",
       "      <th>color</th>\n",
       "      <th>category_two_defects</th>\n",
       "      <th>expiration</th>\n",
       "      <th>certification_body</th>\n",
       "      <th>certification_address</th>\n",
       "      <th>certification_contact</th>\n",
       "      <th>unit_of_measurement</th>\n",
       "      <th>altitude_low_meters</th>\n",
       "      <th>altitude_high_meters</th>\n",
       "      <th>altitude_mean_meters</th>\n",
       "    </tr>\n",
       "  </thead>\n",
       "  <tbody>\n",
       "    <tr>\n",
       "      <th>575</th>\n",
       "      <td>82.83</td>\n",
       "      <td>Arabica</td>\n",
       "      <td>juan luis alvarado romero</td>\n",
       "      <td>Guatemala</td>\n",
       "      <td>agropecuaria quiagral</td>\n",
       "      <td>None</td>\n",
       "      <td>beneficio ixchel</td>\n",
       "      <td>11/23/0934</td>\n",
       "      <td>unex guatemala, s.a.</td>\n",
       "      <td>4300</td>\n",
       "      <td>...</td>\n",
       "      <td>Green</td>\n",
       "      <td>10.0</td>\n",
       "      <td>July 9th, 2013</td>\n",
       "      <td>Asociacion Nacional Del Café</td>\n",
       "      <td>b1f20fe3a819fd6b2ee0eb8fdc3da256604f1e53</td>\n",
       "      <td>724f04ad10ed31dbb9d260f0dfd221ba48be8a95</td>\n",
       "      <td>ft</td>\n",
       "      <td>1310.64</td>\n",
       "      <td>1310.64</td>\n",
       "      <td>1310.64</td>\n",
       "    </tr>\n",
       "    <tr>\n",
       "      <th>560</th>\n",
       "      <td>82.83</td>\n",
       "      <td>Arabica</td>\n",
       "      <td>juan luis alvarado romero</td>\n",
       "      <td>Guatemala</td>\n",
       "      <td>piamonte</td>\n",
       "      <td>11/23/0513</td>\n",
       "      <td>beneficio ixchel</td>\n",
       "      <td>11/23/0513</td>\n",
       "      <td>unex guatemala, s.a.</td>\n",
       "      <td>1700</td>\n",
       "      <td>...</td>\n",
       "      <td>Green</td>\n",
       "      <td>2.0</td>\n",
       "      <td>June 22nd, 2018</td>\n",
       "      <td>Asociacion Nacional Del Café</td>\n",
       "      <td>b1f20fe3a819fd6b2ee0eb8fdc3da256604f1e53</td>\n",
       "      <td>724f04ad10ed31dbb9d260f0dfd221ba48be8a95</td>\n",
       "      <td>m</td>\n",
       "      <td>1700.00</td>\n",
       "      <td>1700.00</td>\n",
       "      <td>1700.00</td>\n",
       "    </tr>\n",
       "    <tr>\n",
       "      <th>524</th>\n",
       "      <td>83.00</td>\n",
       "      <td>Arabica</td>\n",
       "      <td>juan luis alvarado romero</td>\n",
       "      <td>Guatemala</td>\n",
       "      <td>la igualdad</td>\n",
       "      <td>None</td>\n",
       "      <td>beneficio la igualdad</td>\n",
       "      <td>11/194/07</td>\n",
       "      <td>nuevos mercados, s.a.</td>\n",
       "      <td>4500</td>\n",
       "      <td>...</td>\n",
       "      <td>Green</td>\n",
       "      <td>2.0</td>\n",
       "      <td>April 27th, 2013</td>\n",
       "      <td>Asociacion Nacional Del Café</td>\n",
       "      <td>b1f20fe3a819fd6b2ee0eb8fdc3da256604f1e53</td>\n",
       "      <td>724f04ad10ed31dbb9d260f0dfd221ba48be8a95</td>\n",
       "      <td>ft</td>\n",
       "      <td>1371.60</td>\n",
       "      <td>1371.60</td>\n",
       "      <td>1371.60</td>\n",
       "    </tr>\n",
       "    <tr>\n",
       "      <th>1140</th>\n",
       "      <td>79.83</td>\n",
       "      <td>Arabica</td>\n",
       "      <td>juan luis alvarado romero</td>\n",
       "      <td>Guatemala</td>\n",
       "      <td>piamonte</td>\n",
       "      <td>11/23/0639</td>\n",
       "      <td>beneficio ixchel</td>\n",
       "      <td>11/23/0639</td>\n",
       "      <td>unex guatemala, s.a.</td>\n",
       "      <td>1700</td>\n",
       "      <td>...</td>\n",
       "      <td>Green</td>\n",
       "      <td>2.0</td>\n",
       "      <td>August 22nd, 2018</td>\n",
       "      <td>Asociacion Nacional Del Café</td>\n",
       "      <td>b1f20fe3a819fd6b2ee0eb8fdc3da256604f1e53</td>\n",
       "      <td>724f04ad10ed31dbb9d260f0dfd221ba48be8a95</td>\n",
       "      <td>m</td>\n",
       "      <td>1700.00</td>\n",
       "      <td>1700.00</td>\n",
       "      <td>1700.00</td>\n",
       "    </tr>\n",
       "    <tr>\n",
       "      <th>318</th>\n",
       "      <td>83.67</td>\n",
       "      <td>Arabica</td>\n",
       "      <td>ipanema coffees</td>\n",
       "      <td>Brazil</td>\n",
       "      <td>capoeirinha</td>\n",
       "      <td>008/16A</td>\n",
       "      <td>dry mill</td>\n",
       "      <td>002/1660/0106</td>\n",
       "      <td>ipanema coffees</td>\n",
       "      <td>934</td>\n",
       "      <td>...</td>\n",
       "      <td>Green</td>\n",
       "      <td>3.0</td>\n",
       "      <td>August 16th, 2017</td>\n",
       "      <td>Brazil Specialty Coffee Association</td>\n",
       "      <td>3297cfa4c538e3dd03f72cc4082c54f7999e1f9d</td>\n",
       "      <td>8900f0bf1d0b2bafe6807a73562c7677d57eb980</td>\n",
       "      <td>m</td>\n",
       "      <td>934.00</td>\n",
       "      <td>934.00</td>\n",
       "      <td>934.00</td>\n",
       "    </tr>\n",
       "    <tr>\n",
       "      <th>1137</th>\n",
       "      <td>79.92</td>\n",
       "      <td>Arabica</td>\n",
       "      <td>jesus carlos cadena valdivia</td>\n",
       "      <td>Mexico</td>\n",
       "      <td>finca huehuetecpan</td>\n",
       "      <td>None</td>\n",
       "      <td>cosautlan de carvajal, veracruz, méxico</td>\n",
       "      <td>1104387103</td>\n",
       "      <td>cafetalera la asunción s.a. de c.v.</td>\n",
       "      <td>1250</td>\n",
       "      <td>...</td>\n",
       "      <td>Green</td>\n",
       "      <td>0.0</td>\n",
       "      <td>July 11th, 2013</td>\n",
       "      <td>AMECAFE</td>\n",
       "      <td>59e396ad6e22a1c22b248f958e1da2bd8af85272</td>\n",
       "      <td>0eb4ee5b3f47b20b049548a2fd1e7d4a2b70d0a7</td>\n",
       "      <td>m</td>\n",
       "      <td>1250.00</td>\n",
       "      <td>1250.00</td>\n",
       "      <td>1250.00</td>\n",
       "    </tr>\n",
       "    <tr>\n",
       "      <th>987</th>\n",
       "      <td>81.08</td>\n",
       "      <td>Arabica</td>\n",
       "      <td>gregorio sebba</td>\n",
       "      <td>Brazil</td>\n",
       "      <td>fazenda são josé mirante</td>\n",
       "      <td>14</td>\n",
       "      <td>garca armazens</td>\n",
       "      <td>None</td>\n",
       "      <td>garca armazens</td>\n",
       "      <td>695</td>\n",
       "      <td>...</td>\n",
       "      <td>Green</td>\n",
       "      <td>8.0</td>\n",
       "      <td>June 21st, 2018</td>\n",
       "      <td>Specialty Coffee Association</td>\n",
       "      <td>36d0d00a3724338ba7937c52a378d085f2172daa</td>\n",
       "      <td>0878a7d4b9d35ddbf0fe2ce69a2062cceb45a660</td>\n",
       "      <td>m</td>\n",
       "      <td>695.00</td>\n",
       "      <td>695.00</td>\n",
       "      <td>695.00</td>\n",
       "    </tr>\n",
       "    <tr>\n",
       "      <th>1201</th>\n",
       "      <td>79.00</td>\n",
       "      <td>Arabica</td>\n",
       "      <td>gonzalo de aquino flores</td>\n",
       "      <td>Mexico</td>\n",
       "      <td>None</td>\n",
       "      <td>None</td>\n",
       "      <td>iliatenco, guerrero</td>\n",
       "      <td>0</td>\n",
       "      <td>café monteabuelo s.a. de c.v.</td>\n",
       "      <td>1300</td>\n",
       "      <td>...</td>\n",
       "      <td>None</td>\n",
       "      <td>12.0</td>\n",
       "      <td>September 17th, 2013</td>\n",
       "      <td>AMECAFE</td>\n",
       "      <td>59e396ad6e22a1c22b248f958e1da2bd8af85272</td>\n",
       "      <td>0eb4ee5b3f47b20b049548a2fd1e7d4a2b70d0a7</td>\n",
       "      <td>m</td>\n",
       "      <td>1300.00</td>\n",
       "      <td>1300.00</td>\n",
       "      <td>1300.00</td>\n",
       "    </tr>\n",
       "    <tr>\n",
       "      <th>713</th>\n",
       "      <td>82.33</td>\n",
       "      <td>Arabica</td>\n",
       "      <td>bourbon specialty coffees</td>\n",
       "      <td>Brazil</td>\n",
       "      <td>None</td>\n",
       "      <td>None</td>\n",
       "      <td>None</td>\n",
       "      <td>002/4542/0478</td>\n",
       "      <td>bourbon specialty coffees</td>\n",
       "      <td>None</td>\n",
       "      <td>...</td>\n",
       "      <td>Green</td>\n",
       "      <td>10.0</td>\n",
       "      <td>April 19th, 2016</td>\n",
       "      <td>Brazil Specialty Coffee Association</td>\n",
       "      <td>3297cfa4c538e3dd03f72cc4082c54f7999e1f9d</td>\n",
       "      <td>8900f0bf1d0b2bafe6807a73562c7677d57eb980</td>\n",
       "      <td>m</td>\n",
       "      <td>NaN</td>\n",
       "      <td>NaN</td>\n",
       "      <td>NaN</td>\n",
       "    </tr>\n",
       "    <tr>\n",
       "      <th>864</th>\n",
       "      <td>81.75</td>\n",
       "      <td>Arabica</td>\n",
       "      <td>sergio landa alarcon</td>\n",
       "      <td>Mexico</td>\n",
       "      <td>finca tepictla</td>\n",
       "      <td>None</td>\n",
       "      <td>tepictla y xalapa veracruz</td>\n",
       "      <td>1104372561</td>\n",
       "      <td>None</td>\n",
       "      <td>1250</td>\n",
       "      <td>...</td>\n",
       "      <td>Green</td>\n",
       "      <td>23.0</td>\n",
       "      <td>September 10th, 2013</td>\n",
       "      <td>AMECAFE</td>\n",
       "      <td>59e396ad6e22a1c22b248f958e1da2bd8af85272</td>\n",
       "      <td>0eb4ee5b3f47b20b049548a2fd1e7d4a2b70d0a7</td>\n",
       "      <td>m</td>\n",
       "      <td>1250.00</td>\n",
       "      <td>1250.00</td>\n",
       "      <td>1250.00</td>\n",
       "    </tr>\n",
       "    <tr>\n",
       "      <th>1024</th>\n",
       "      <td>80.92</td>\n",
       "      <td>Arabica</td>\n",
       "      <td>juan luis alvarado romero</td>\n",
       "      <td>Guatemala</td>\n",
       "      <td>el morito</td>\n",
       "      <td>None</td>\n",
       "      <td>el morito</td>\n",
       "      <td>11/972/29</td>\n",
       "      <td>armajaro guatemala, s. a.</td>\n",
       "      <td>5000 ft.</td>\n",
       "      <td>...</td>\n",
       "      <td>Green</td>\n",
       "      <td>5.0</td>\n",
       "      <td>June 10th, 2015</td>\n",
       "      <td>Asociacion Nacional Del Café</td>\n",
       "      <td>b1f20fe3a819fd6b2ee0eb8fdc3da256604f1e53</td>\n",
       "      <td>724f04ad10ed31dbb9d260f0dfd221ba48be8a95</td>\n",
       "      <td>ft</td>\n",
       "      <td>1524.00</td>\n",
       "      <td>1524.00</td>\n",
       "      <td>1524.00</td>\n",
       "    </tr>\n",
       "    <tr>\n",
       "      <th>717</th>\n",
       "      <td>82.33</td>\n",
       "      <td>Arabica</td>\n",
       "      <td>juan luis alvarado romero</td>\n",
       "      <td>Guatemala</td>\n",
       "      <td>el morito</td>\n",
       "      <td>None</td>\n",
       "      <td>el morito</td>\n",
       "      <td>11/972/28</td>\n",
       "      <td>armajaro guatemala, s. a.</td>\n",
       "      <td>5000 ft.</td>\n",
       "      <td>...</td>\n",
       "      <td>Green</td>\n",
       "      <td>3.0</td>\n",
       "      <td>June 10th, 2015</td>\n",
       "      <td>Asociacion Nacional Del Café</td>\n",
       "      <td>b1f20fe3a819fd6b2ee0eb8fdc3da256604f1e53</td>\n",
       "      <td>724f04ad10ed31dbb9d260f0dfd221ba48be8a95</td>\n",
       "      <td>ft</td>\n",
       "      <td>1524.00</td>\n",
       "      <td>1524.00</td>\n",
       "      <td>1524.00</td>\n",
       "    </tr>\n",
       "    <tr>\n",
       "      <th>1236</th>\n",
       "      <td>78.00</td>\n",
       "      <td>Arabica</td>\n",
       "      <td>cafes finos de exportacion s de r.l.</td>\n",
       "      <td>Honduras</td>\n",
       "      <td>various</td>\n",
       "      <td>None</td>\n",
       "      <td>cafes finos de exportacion s. de r.l.</td>\n",
       "      <td>13-117-88</td>\n",
       "      <td>cafes finos de exportacion s de r.l.</td>\n",
       "      <td>1350</td>\n",
       "      <td>...</td>\n",
       "      <td>Green</td>\n",
       "      <td>6.0</td>\n",
       "      <td>May 15th, 2015</td>\n",
       "      <td>Instituto Hondureño del Café</td>\n",
       "      <td>b4660a57e9f8cc613ae5b8f02bfce8634c763ab4</td>\n",
       "      <td>7f521ca403540f81ec99daec7da19c2788393880</td>\n",
       "      <td>m</td>\n",
       "      <td>1350.00</td>\n",
       "      <td>1350.00</td>\n",
       "      <td>1350.00</td>\n",
       "    </tr>\n",
       "    <tr>\n",
       "      <th>610</th>\n",
       "      <td>82.67</td>\n",
       "      <td>Arabica</td>\n",
       "      <td>consejo salvadoreño del café</td>\n",
       "      <td>El Salvador</td>\n",
       "      <td>el barbaro</td>\n",
       "      <td>1</td>\n",
       "      <td>santa adelaida</td>\n",
       "      <td>09-0488-001</td>\n",
       "      <td>consejo salvadoreño del café</td>\n",
       "      <td>1200</td>\n",
       "      <td>...</td>\n",
       "      <td>Green</td>\n",
       "      <td>7.0</td>\n",
       "      <td>March 29th, 2017</td>\n",
       "      <td>Salvadoran Coffee Council</td>\n",
       "      <td>3d4987e3b91399dbb3938b5bdf53893b6ef45be1</td>\n",
       "      <td>27b21e368fb8291cbea02c60623fe6c98f84524d</td>\n",
       "      <td>m</td>\n",
       "      <td>1200.00</td>\n",
       "      <td>1200.00</td>\n",
       "      <td>1200.00</td>\n",
       "    </tr>\n",
       "    <tr>\n",
       "      <th>1293</th>\n",
       "      <td>73.42</td>\n",
       "      <td>Arabica</td>\n",
       "      <td>cafes finos de exportacion s de r.l.</td>\n",
       "      <td>Honduras</td>\n",
       "      <td>various</td>\n",
       "      <td>None</td>\n",
       "      <td>cafes finos de exportacion s. de r.l.</td>\n",
       "      <td>13-117-88</td>\n",
       "      <td>cafes finos de exportacion s de r.l.</td>\n",
       "      <td>1350</td>\n",
       "      <td>...</td>\n",
       "      <td>Green</td>\n",
       "      <td>16.0</td>\n",
       "      <td>April 26th, 2015</td>\n",
       "      <td>Instituto Hondureño del Café</td>\n",
       "      <td>b4660a57e9f8cc613ae5b8f02bfce8634c763ab4</td>\n",
       "      <td>7f521ca403540f81ec99daec7da19c2788393880</td>\n",
       "      <td>m</td>\n",
       "      <td>1350.00</td>\n",
       "      <td>1350.00</td>\n",
       "      <td>1350.00</td>\n",
       "    </tr>\n",
       "  </tbody>\n",
       "</table>\n",
       "<p>15 rows × 43 columns</p>\n",
       "</div>"
      ],
      "text/plain": [
       "      total_cup_points  species                                 owner  \\\n",
       "575              82.83  Arabica             juan luis alvarado romero   \n",
       "560              82.83  Arabica             juan luis alvarado romero   \n",
       "524              83.00  Arabica             juan luis alvarado romero   \n",
       "1140             79.83  Arabica             juan luis alvarado romero   \n",
       "318              83.67  Arabica                       ipanema coffees   \n",
       "1137             79.92  Arabica          jesus carlos cadena valdivia   \n",
       "987              81.08  Arabica                        gregorio sebba   \n",
       "1201             79.00  Arabica              gonzalo de aquino flores   \n",
       "713              82.33  Arabica             bourbon specialty coffees   \n",
       "864              81.75  Arabica                  sergio landa alarcon   \n",
       "1024             80.92  Arabica             juan luis alvarado romero   \n",
       "717              82.33  Arabica             juan luis alvarado romero   \n",
       "1236             78.00  Arabica  cafes finos de exportacion s de r.l.   \n",
       "610              82.67  Arabica          consejo salvadoreño del café   \n",
       "1293             73.42  Arabica  cafes finos de exportacion s de r.l.   \n",
       "\n",
       "     country_of_origin                 farm_name  lot_number  \\\n",
       "575          Guatemala     agropecuaria quiagral        None   \n",
       "560          Guatemala                  piamonte  11/23/0513   \n",
       "524          Guatemala               la igualdad        None   \n",
       "1140         Guatemala                  piamonte  11/23/0639   \n",
       "318             Brazil               capoeirinha     008/16A   \n",
       "1137            Mexico        finca huehuetecpan        None   \n",
       "987             Brazil  fazenda são josé mirante          14   \n",
       "1201            Mexico                      None        None   \n",
       "713             Brazil                      None        None   \n",
       "864             Mexico            finca tepictla        None   \n",
       "1024         Guatemala                 el morito        None   \n",
       "717          Guatemala                 el morito        None   \n",
       "1236          Honduras                   various        None   \n",
       "610        El Salvador                el barbaro           1   \n",
       "1293          Honduras                   various        None   \n",
       "\n",
       "                                         mill     ico_number  \\\n",
       "575                          beneficio ixchel     11/23/0934   \n",
       "560                          beneficio ixchel     11/23/0513   \n",
       "524                     beneficio la igualdad      11/194/07   \n",
       "1140                         beneficio ixchel     11/23/0639   \n",
       "318                                  dry mill  002/1660/0106   \n",
       "1137  cosautlan de carvajal, veracruz, méxico     1104387103   \n",
       "987                            garca armazens           None   \n",
       "1201                      iliatenco, guerrero              0   \n",
       "713                                      None  002/4542/0478   \n",
       "864                tepictla y xalapa veracruz     1104372561   \n",
       "1024                                el morito      11/972/29   \n",
       "717                                 el morito      11/972/28   \n",
       "1236    cafes finos de exportacion s. de r.l.      13-117-88   \n",
       "610                            santa adelaida    09-0488-001   \n",
       "1293    cafes finos de exportacion s. de r.l.      13-117-88   \n",
       "\n",
       "                                   company  altitude  ...  color  \\\n",
       "575                   unex guatemala, s.a.      4300  ...  Green   \n",
       "560                   unex guatemala, s.a.      1700  ...  Green   \n",
       "524                  nuevos mercados, s.a.      4500  ...  Green   \n",
       "1140                  unex guatemala, s.a.      1700  ...  Green   \n",
       "318                        ipanema coffees       934  ...  Green   \n",
       "1137   cafetalera la asunción s.a. de c.v.      1250  ...  Green   \n",
       "987                         garca armazens       695  ...  Green   \n",
       "1201         café monteabuelo s.a. de c.v.      1300  ...   None   \n",
       "713              bourbon specialty coffees      None  ...  Green   \n",
       "864                                   None      1250  ...  Green   \n",
       "1024             armajaro guatemala, s. a.  5000 ft.  ...  Green   \n",
       "717              armajaro guatemala, s. a.  5000 ft.  ...  Green   \n",
       "1236  cafes finos de exportacion s de r.l.      1350  ...  Green   \n",
       "610           consejo salvadoreño del café      1200  ...  Green   \n",
       "1293  cafes finos de exportacion s de r.l.      1350  ...  Green   \n",
       "\n",
       "     category_two_defects            expiration  \\\n",
       "575                  10.0        July 9th, 2013   \n",
       "560                   2.0       June 22nd, 2018   \n",
       "524                   2.0      April 27th, 2013   \n",
       "1140                  2.0     August 22nd, 2018   \n",
       "318                   3.0     August 16th, 2017   \n",
       "1137                  0.0       July 11th, 2013   \n",
       "987                   8.0       June 21st, 2018   \n",
       "1201                 12.0  September 17th, 2013   \n",
       "713                  10.0      April 19th, 2016   \n",
       "864                  23.0  September 10th, 2013   \n",
       "1024                  5.0       June 10th, 2015   \n",
       "717                   3.0       June 10th, 2015   \n",
       "1236                  6.0        May 15th, 2015   \n",
       "610                   7.0      March 29th, 2017   \n",
       "1293                 16.0      April 26th, 2015   \n",
       "\n",
       "                       certification_body  \\\n",
       "575          Asociacion Nacional Del Café   \n",
       "560          Asociacion Nacional Del Café   \n",
       "524          Asociacion Nacional Del Café   \n",
       "1140         Asociacion Nacional Del Café   \n",
       "318   Brazil Specialty Coffee Association   \n",
       "1137                              AMECAFE   \n",
       "987          Specialty Coffee Association   \n",
       "1201                              AMECAFE   \n",
       "713   Brazil Specialty Coffee Association   \n",
       "864                               AMECAFE   \n",
       "1024         Asociacion Nacional Del Café   \n",
       "717          Asociacion Nacional Del Café   \n",
       "1236         Instituto Hondureño del Café   \n",
       "610             Salvadoran Coffee Council   \n",
       "1293         Instituto Hondureño del Café   \n",
       "\n",
       "                         certification_address  \\\n",
       "575   b1f20fe3a819fd6b2ee0eb8fdc3da256604f1e53   \n",
       "560   b1f20fe3a819fd6b2ee0eb8fdc3da256604f1e53   \n",
       "524   b1f20fe3a819fd6b2ee0eb8fdc3da256604f1e53   \n",
       "1140  b1f20fe3a819fd6b2ee0eb8fdc3da256604f1e53   \n",
       "318   3297cfa4c538e3dd03f72cc4082c54f7999e1f9d   \n",
       "1137  59e396ad6e22a1c22b248f958e1da2bd8af85272   \n",
       "987   36d0d00a3724338ba7937c52a378d085f2172daa   \n",
       "1201  59e396ad6e22a1c22b248f958e1da2bd8af85272   \n",
       "713   3297cfa4c538e3dd03f72cc4082c54f7999e1f9d   \n",
       "864   59e396ad6e22a1c22b248f958e1da2bd8af85272   \n",
       "1024  b1f20fe3a819fd6b2ee0eb8fdc3da256604f1e53   \n",
       "717   b1f20fe3a819fd6b2ee0eb8fdc3da256604f1e53   \n",
       "1236  b4660a57e9f8cc613ae5b8f02bfce8634c763ab4   \n",
       "610   3d4987e3b91399dbb3938b5bdf53893b6ef45be1   \n",
       "1293  b4660a57e9f8cc613ae5b8f02bfce8634c763ab4   \n",
       "\n",
       "                         certification_contact unit_of_measurement  \\\n",
       "575   724f04ad10ed31dbb9d260f0dfd221ba48be8a95                  ft   \n",
       "560   724f04ad10ed31dbb9d260f0dfd221ba48be8a95                   m   \n",
       "524   724f04ad10ed31dbb9d260f0dfd221ba48be8a95                  ft   \n",
       "1140  724f04ad10ed31dbb9d260f0dfd221ba48be8a95                   m   \n",
       "318   8900f0bf1d0b2bafe6807a73562c7677d57eb980                   m   \n",
       "1137  0eb4ee5b3f47b20b049548a2fd1e7d4a2b70d0a7                   m   \n",
       "987   0878a7d4b9d35ddbf0fe2ce69a2062cceb45a660                   m   \n",
       "1201  0eb4ee5b3f47b20b049548a2fd1e7d4a2b70d0a7                   m   \n",
       "713   8900f0bf1d0b2bafe6807a73562c7677d57eb980                   m   \n",
       "864   0eb4ee5b3f47b20b049548a2fd1e7d4a2b70d0a7                   m   \n",
       "1024  724f04ad10ed31dbb9d260f0dfd221ba48be8a95                  ft   \n",
       "717   724f04ad10ed31dbb9d260f0dfd221ba48be8a95                  ft   \n",
       "1236  7f521ca403540f81ec99daec7da19c2788393880                   m   \n",
       "610   27b21e368fb8291cbea02c60623fe6c98f84524d                   m   \n",
       "1293  7f521ca403540f81ec99daec7da19c2788393880                   m   \n",
       "\n",
       "     altitude_low_meters altitude_high_meters altitude_mean_meters  \n",
       "575              1310.64              1310.64              1310.64  \n",
       "560              1700.00              1700.00              1700.00  \n",
       "524              1371.60              1371.60              1371.60  \n",
       "1140             1700.00              1700.00              1700.00  \n",
       "318               934.00               934.00               934.00  \n",
       "1137             1250.00              1250.00              1250.00  \n",
       "987               695.00               695.00               695.00  \n",
       "1201             1300.00              1300.00              1300.00  \n",
       "713                  NaN                  NaN                  NaN  \n",
       "864              1250.00              1250.00              1250.00  \n",
       "1024             1524.00              1524.00              1524.00  \n",
       "717              1524.00              1524.00              1524.00  \n",
       "1236             1350.00              1350.00              1350.00  \n",
       "610              1200.00              1200.00              1200.00  \n",
       "1293             1350.00              1350.00              1350.00  \n",
       "\n",
       "[15 rows x 43 columns]"
      ]
     },
     "execution_count": 33,
     "metadata": {},
     "output_type": "execute_result"
    }
   ],
   "source": [
    "# 1. sample for subgroups - select 3 subgroups for this example\n",
    "import random\n",
    "random.seed(2025)\n",
    "varieties_samp = random.sample(list(varieties_pop), k=3)\n",
    "print(varieties_samp)  # no seed was set in the lecture video, so results will differ\n",
    "\n",
    "# 2. sample each of the selected groups\n",
    "variety_condition = coffee_ratings['variety'].isin(varieties_samp)  # create binary vector to use for filtering\n",
    "print(f\"cluster sample count: {variety_condition.sum()}\")\n",
    "coffee_ratings_cluster = coffee_ratings[variety_condition]\n",
    "print(f\"Row count of cluster sample BEFORE removing unused categories: {coffee_ratings_cluster.shape[0]}\")\n",
    "# ensure that isin filtering removes levels with 0 rows - prevents error if attempting to sample from a category with no samples in it\n",
    "coffee_ratings_cluster.loc[:, ['variety']] = coffee_ratings_cluster['variety'].astype('category').cat.remove_unused_categories()\n",
    "print(f\"Row count of cluster sample AFTER removing unused categories: {coffee_ratings_cluster.shape[0]}\")\n",
    "# equal count sampling within the selected varieties\n",
    "coffee_ratings_cluster_sample = coffee_ratings_cluster.groupby(\"variety\")\\\n",
    "                                    .sample(n=5, random_state=2021)\n",
    "coffee_ratings_cluster_sample  # n x k = 5 x 3 = 15 rows"
   ]
  },
  {
   "cell_type": "markdown",
   "id": "bdc60a69-abb6-4003-b836-4f5adc3c4131",
   "metadata": {},
   "source": [
    "## Cluster sampling is a special case of multistage sampling\n",
    "\n",
    "We used 2 stages in the previous example, but we could have used more than 2. For example, countrywide surveys may sample from nested subgroups such as states, counties, cities, and neighborhoods."
   ]
  },
  {
   "cell_type": "code",
   "execution_count": 34,
   "id": "2684f64a-6b41-41e0-89fb-316aadc1c1a9",
   "metadata": {},
   "outputs": [
    {
     "name": "stdout",
     "output_type": "stream",
     "text": [
      "['Research_Director', 'Research_Scientist', 'Human_Resources', 'Manager']\n",
      "    Age  Attrition BusinessTravel  DailyRate            Department  \\\n",
      "0    21        0.0  Travel_Rarely        391  Research_Development   \n",
      "5    27        0.0     Non-Travel        443  Research_Development   \n",
      "6    18        0.0     Non-Travel        287  Research_Development   \n",
      "10   18        0.0     Non-Travel       1431  Research_Development   \n",
      "17   31        0.0  Travel_Rarely       1082  Research_Development   \n",
      "\n",
      "    DistanceFromHome Education EducationField EnvironmentSatisfaction  Gender  \\\n",
      "0                 15   College  Life_Sciences                    High    Male   \n",
      "5                  3  Bachelor        Medical               Very_High    Male   \n",
      "6                  5   College  Life_Sciences                  Medium    Male   \n",
      "10                14  Bachelor        Medical                  Medium  Female   \n",
      "17                 1    Master        Medical                    High    Male   \n",
      "\n",
      "    ...  PerformanceRating RelationshipSatisfaction  StockOptionLevel  \\\n",
      "0   ...          Excellent                Very_High                 0   \n",
      "5   ...          Excellent                     High                 3   \n",
      "6   ...          Excellent                Very_High                 0   \n",
      "10  ...          Excellent                     High                 0   \n",
      "17  ...          Excellent                   Medium                 0   \n",
      "\n",
      "   TotalWorkingYears TrainingTimesLastYear WorkLifeBalance  YearsAtCompany  \\\n",
      "0                  0                     6          Better               0   \n",
      "5                  0                     6            Good               0   \n",
      "6                  0                     2          Better               0   \n",
      "10                 0                     4             Bad               0   \n",
      "17                 1                     4          Better               1   \n",
      "\n",
      "    YearsInCurrentRole  YearsSinceLastPromotion YearsWithCurrManager  \n",
      "0                    0                        0                    0  \n",
      "5                    0                        0                    0  \n",
      "6                    0                        0                    0  \n",
      "10                   0                        0                    0  \n",
      "17                   1                        1                    0  \n",
      "\n",
      "[5 rows x 31 columns]\n"
     ]
    }
   ],
   "source": [
    "# cluster sampling on attrition data\n",
    "random.seed(19790801)\n",
    "\n",
    "# Create a list of unique JobRole values\n",
    "job_roles_pop = list(attrition_pop['JobRole'].unique())\n",
    "\n",
    "# Randomly sample 4 JobRole types\n",
    "job_roles_samp = random.sample(job_roles_pop, k=4)\n",
    "\n",
    "# Print the result\n",
    "print(job_roles_samp)\n",
    "\n",
    "# Filter for rows where JobRole is in job_roles_samp\n",
    "attrition_pop['JobRole'] = attrition_pop['JobRole'].astype('category')\n",
    "jobrole_condition = attrition_pop['JobRole'].isin(job_roles_samp)\n",
    "\n",
    "attrition_filtered = attrition_pop[jobrole_condition]\n",
    "attrition_filtered.loc[:, ['JobRole']] = attrition_filtered['JobRole'].astype('category')\n",
    "\n",
    "# Print the result\n",
    "print(attrition_filtered.head())"
   ]
  },
  {
   "cell_type": "code",
   "execution_count": 35,
   "id": "91f95d04-6fe0-4fc6-80a1-d913dbe1d39f",
   "metadata": {},
   "outputs": [
    {
     "name": "stdout",
     "output_type": "stream",
     "text": [
      "<class 'pandas.core.frame.DataFrame'>\n",
      "Index: 526 entries, 0 to 1469\n",
      "Data columns (total 31 columns):\n",
      " #   Column                    Non-Null Count  Dtype   \n",
      "---  ------                    --------------  -----   \n",
      " 0   Age                       526 non-null    int32   \n",
      " 1   Attrition                 526 non-null    float64 \n",
      " 2   BusinessTravel            526 non-null    category\n",
      " 3   DailyRate                 526 non-null    int32   \n",
      " 4   Department                526 non-null    category\n",
      " 5   DistanceFromHome          526 non-null    int32   \n",
      " 6   Education                 526 non-null    category\n",
      " 7   EducationField            526 non-null    category\n",
      " 8   EnvironmentSatisfaction   526 non-null    category\n",
      " 9   Gender                    526 non-null    category\n",
      " 10  HourlyRate                526 non-null    int32   \n",
      " 11  JobInvolvement            526 non-null    category\n",
      " 12  JobLevel                  526 non-null    int32   \n",
      " 13  JobRole                   526 non-null    category\n",
      " 14  JobSatisfaction           526 non-null    category\n",
      " 15  MaritalStatus             526 non-null    category\n",
      " 16  MonthlyIncome             526 non-null    int32   \n",
      " 17  MonthlyRate               526 non-null    int32   \n",
      " 18  NumCompaniesWorked        526 non-null    int32   \n",
      " 19  OverTime                  526 non-null    category\n",
      " 20  PercentSalaryHike         526 non-null    int32   \n",
      " 21  PerformanceRating         526 non-null    category\n",
      " 22  RelationshipSatisfaction  526 non-null    category\n",
      " 23  StockOptionLevel          526 non-null    int32   \n",
      " 24  TotalWorkingYears         526 non-null    int32   \n",
      " 25  TrainingTimesLastYear     526 non-null    int32   \n",
      " 26  WorkLifeBalance           526 non-null    category\n",
      " 27  YearsAtCompany            526 non-null    int32   \n",
      " 28  YearsInCurrentRole        526 non-null    int32   \n",
      " 29  YearsSinceLastPromotion   526 non-null    int32   \n",
      " 30  YearsWithCurrManager      526 non-null    int32   \n",
      "dtypes: category(14), float64(1), int32(16)\n",
      "memory usage: 50.9 KB\n"
     ]
    }
   ],
   "source": [
    "attrition_filtered.info()"
   ]
  },
  {
   "cell_type": "code",
   "execution_count": 36,
   "id": "d7405e3b-5605-453c-ba5e-ba4593bc94b2",
   "metadata": {},
   "outputs": [
    {
     "name": "stdout",
     "output_type": "stream",
     "text": [
      "JobRole\n",
      "Research_Scientist    292\n",
      "Manager               102\n",
      "Research_Director      80\n",
      "Human_Resources        52\n",
      "Name: count, dtype: int64 \n",
      "\n",
      "      Age  Attrition     BusinessTravel  DailyRate       Department  \\\n",
      "1348   44        1.0      Travel_Rarely       1376  Human_Resources   \n",
      "886    41        0.0         Non-Travel        552  Human_Resources   \n",
      "983    39        0.0      Travel_Rarely        141  Human_Resources   \n",
      "88     27        1.0  Travel_Frequently       1337  Human_Resources   \n",
      "189    34        0.0      Travel_Rarely        829  Human_Resources   \n",
      "\n",
      "      DistanceFromHome Education   EducationField EnvironmentSatisfaction  \\\n",
      "1348                 1   College          Medical                  Medium   \n",
      "886                  4  Bachelor  Human_Resources                    High   \n",
      "983                  3  Bachelor  Human_Resources                    High   \n",
      "88                  22  Bachelor  Human_Resources                     Low   \n",
      "189                  3   College  Human_Resources                    High   \n",
      "\n",
      "      Gender  ...  PerformanceRating RelationshipSatisfaction  \\\n",
      "1348    Male  ...          Excellent                Very_High   \n",
      "886     Male  ...          Excellent                   Medium   \n",
      "983   Female  ...          Excellent                     High   \n",
      "88    Female  ...          Excellent                      Low   \n",
      "189     Male  ...          Excellent                     High   \n",
      "\n",
      "      StockOptionLevel TotalWorkingYears TrainingTimesLastYear  \\\n",
      "1348                 1                24                     1   \n",
      "886                  1                10                     4   \n",
      "983                  1                12                     3   \n",
      "88                   0                 1                     2   \n",
      "189                  1                 4                     1   \n",
      "\n",
      "     WorkLifeBalance  YearsAtCompany  YearsInCurrentRole  \\\n",
      "1348          Better              20                   6   \n",
      "886           Better               3                   2   \n",
      "983              Bad               8                   3   \n",
      "88            Better               1                   0   \n",
      "189              Bad               3                   2   \n",
      "\n",
      "      YearsSinceLastPromotion YearsWithCurrManager  \n",
      "1348                        3                    6  \n",
      "886                         1                    2  \n",
      "983                         3                    6  \n",
      "88                          0                    0  \n",
      "189                         0                    2  \n",
      "\n",
      "[5 rows x 31 columns]\n"
     ]
    },
    {
     "name": "stderr",
     "output_type": "stream",
     "text": [
      "C:\\Users\\Owner\\AppData\\Local\\Temp\\ipykernel_18616\\663922893.py:5: FutureWarning: Setting an item of incompatible dtype is deprecated and will raise in a future error of pandas. Value '['Research_Scientist', 'Research_Scientist', 'Research_Scientist', 'Research_Scientist', 'Research_Scientist', ..., 'Manager', 'Manager', 'Manager', 'Manager', 'Research_Director']\n",
      "Length: 526\n",
      "Categories (4, object): ['Human_Resources', 'Manager', 'Research_Director', 'Research_Scientist']' has dtype incompatible with category, please explicitly cast to a compatible dtype first.\n",
      "  attrition_filtered.loc[:, ['JobRole']] = attrition_filtered['JobRole']\\\n"
     ]
    }
   ],
   "source": [
    "# Remove categories with no rows\n",
    "# attrition_filtered['JobRole'] = attrition_filtered['JobRole'].cat.remove_unused_categories()  # generates SettingWithCopyWarning\n",
    "# attrition_filtered.loc[:, ['JobRole']] = attrition_filtered['JobRole'].cat.remove_unused_categories() # FutureWarning even though JobRole is dtype category\n",
    "# manually remove the unsused categories because remove_unused_categories isn't working as expected\n",
    "attrition_filtered.loc[:, ['JobRole']] = attrition_filtered['JobRole']\\\n",
    "    .cat.remove_categories(removals = [\"Healthcare_Representative\", \"Laboratory_Technician\",\n",
    "                                       \"Manufacturing_Director\", \"Sales_Executive\", \"Sales_Representative\"])\n",
    "# above 3 lines generate FutureWarning ...please explicitly cast to a compatible dtype first, but JobRoles is dtype category\n",
    "\n",
    "print(attrition_filtered[\"JobRole\"].value_counts(), '\\n')\n",
    "\n",
    "# Randomly sample 10 employees from each sampled job role\n",
    "# attrition_clust = attrition_filtered.groupby(\"JobRole\").sample(n=10, random_state=2022)  # generates FutureWarning: The default of observed=False is deprecated\n",
    "attrition_clust = attrition_filtered.groupby(\"JobRole\", observed=False).sample(n=10, random_state=2022)\n",
    "\n",
    "# Print the sample\n",
    "print(attrition_clust.head())"
   ]
  },
  {
   "cell_type": "markdown",
   "id": "a99169fd-0396-454a-899e-e003181f8404",
   "metadata": {},
   "source": [
    "## Review of sampling techniques"
   ]
  },
  {
   "cell_type": "code",
   "execution_count": 37,
   "id": "d098f6e5-2036-411c-ad7f-562ed01ae874",
   "metadata": {},
   "outputs": [
    {
     "data": {
      "text/plain": [
       "(880, 8)"
      ]
     },
     "execution_count": 37,
     "metadata": {},
     "output_type": "execute_result"
    }
   ],
   "source": [
    "top_counted_countries = [\"Mexico\", \"Colombia\", \"Guatemala\", \"Brazil\", \"Taiwan\", \"United States (Hawaii)\"]\n",
    "columns_of_interest = [\"total_cup_points\", \"variety\", \"country_of_origin\", \"aroma\", \"flavor\",\n",
    "                       \"aftertaste\", \"body\", \"balance\"]\n",
    "\n",
    "# print(coffee_ratings.columns)\n",
    "coffee_ratings = coffee_ratings.loc[:, columns_of_interest]  # need this to get same result as shown in slide\n",
    "\n",
    "subset_condition = coffee_ratings['country_of_origin'].isin(top_counted_countries)\n",
    "coffee_ratings_top = coffee_ratings[subset_condition]\n",
    "\n",
    "coffee_ratings_top.shape"
   ]
  },
  {
   "cell_type": "code",
   "execution_count": 38,
   "id": "a2aed90c-f1fe-4ece-93b5-b9dfaa1df887",
   "metadata": {},
   "outputs": [
    {
     "data": {
      "text/plain": [
       "(293, 8)"
      ]
     },
     "execution_count": 38,
     "metadata": {},
     "output_type": "execute_result"
    }
   ],
   "source": [
    "# simple random sampling\n",
    "coffee_ratings_srs = coffee_ratings_top.sample(frac=1/3, random_state=2021)\n",
    "coffee_ratings_srs.shape  # 880 * 1/3 = 293.333... (round down, floor)"
   ]
  },
  {
   "cell_type": "code",
   "execution_count": 39,
   "id": "1dcd4ddf-4d40-4278-a63b-26ae1acb4376",
   "metadata": {},
   "outputs": [
    {
     "data": {
      "text/plain": [
       "(293, 8)"
      ]
     },
     "execution_count": 39,
     "metadata": {},
     "output_type": "execute_result"
    }
   ],
   "source": [
    "# stratified sampling - groupby the subgroup before doing a simple random sampling on each subgroup\n",
    "coffee_ratings_strat = coffee_ratings_top.groupby(\"country_of_origin\")\\\n",
    "    .sample(frac=1/3, random_state=2021)  # note that frac here is still over the total number of sample\n",
    "coffee_ratings_strat.shape                # which is why we should get the same number as with simple"
   ]
  },
  {
   "cell_type": "code",
   "execution_count": 40,
   "id": "80fe197c-a3f1-45aa-9085-7843e84b65c3",
   "metadata": {},
   "outputs": [],
   "source": [
    "# pd.set_option('display.max_rows', None)\n",
    "# coffee_ratings_strat.to_csv('./data/coffee_ratings_strat.csv')"
   ]
  },
  {
   "cell_type": "markdown",
   "id": "ce9847d7-64a0-4ff1-8d33-b0035a7a6a26",
   "metadata": {},
   "source": [
    "### Warning, the code provided in this lecture turns out to be super brittle...\n",
    "\n",
    "Several adaptations have been made so that it doesn't generate errors"
   ]
  },
  {
   "cell_type": "code",
   "execution_count": 41,
   "id": "6e43eac6-0ec7-499a-9634-81a285686ba4",
   "metadata": {},
   "outputs": [
    {
     "data": {
      "text/plain": [
       "country_of_origin\n",
       "Mexico                    236\n",
       "Colombia                  183\n",
       "Guatemala                 181\n",
       "Brazil                    132\n",
       "Taiwan                     75\n",
       "United States (Hawaii)     73\n",
       "Name: count, dtype: int64"
      ]
     },
     "execution_count": 41,
     "metadata": {},
     "output_type": "execute_result"
    }
   ],
   "source": [
    "coffee_ratings_top['country_of_origin'].value_counts()"
   ]
  },
  {
   "cell_type": "code",
   "execution_count": 42,
   "id": "7cba4b98-f803-4f37-afaa-0375335d3f3e",
   "metadata": {},
   "outputs": [
    {
     "name": "stdout",
     "output_type": "stream",
     "text": [
      "Countries selected for cluster sampling: ['Colombia', 'Mexico']\n"
     ]
    }
   ],
   "source": [
    "# cluster sampling\n",
    "# random.seed(2021)\n",
    "# top_countries_samp = random.sample(top_counted_countries, k=2)  # select 2 groups at random\n",
    "top_countries_samp = [\"Colombia\", \"Mexico\"]  # so we get same thing as slides\n",
    "print(f\"Countries selected for cluster sampling: {top_countries_samp}\")\n",
    "top_condition = coffee_ratings_top['country_of_origin'].isin(top_countries_samp)  # filter for the selected groups\n",
    "coffee_ratings_cluster = coffee_ratings_top[top_condition]"
   ]
  },
  {
   "cell_type": "code",
   "execution_count": 43,
   "id": "48d2b593-00df-470a-a094-87a746f6172f",
   "metadata": {},
   "outputs": [
    {
     "name": "stdout",
     "output_type": "stream",
     "text": [
      "There are 880 samples in coffee_ratings_top\n",
      "There are 419 samples in coffee_ratings_cluster\n",
      "country_of_origin\n",
      "Colombia    146\n",
      "Mexico      146\n",
      "Name: count, dtype: int64\n",
      "(292, 8)\n"
     ]
    }
   ],
   "source": [
    "# remove unused categories to avoid attempting to sample from an empty category\n",
    "# coffee_ratings_cluster['country_of_origin'] = coffee_ratings_cluster['country_of_origin'].cat.remove_unused_categories()\n",
    "\n",
    "print(f\"There are {len(coffee_ratings_top)} samples in coffee_ratings_top\")\n",
    "print(f\"There are {len(coffee_ratings_cluster)} samples in coffee_ratings_cluster\")\n",
    "\n",
    "coffee_ratings_clust = coffee_ratings_cluster.groupby(\"country_of_origin\")\\\n",
    "    .sample(n=len(coffee_ratings_top) // 6)\n",
    "\n",
    "print(coffee_ratings_clust[\"country_of_origin\"].value_counts())\n",
    "print(coffee_ratings_clust.shape)"
   ]
  },
  {
   "cell_type": "markdown",
   "id": "b73ff308-07a0-496a-9e6b-58edefb7c70a",
   "metadata": {},
   "source": [
    "### Compare population mean with 3 sample means"
   ]
  },
  {
   "cell_type": "code",
   "execution_count": 44,
   "id": "213ce75c-4550-4f50-bde9-341ac0a8076b",
   "metadata": {},
   "outputs": [
    {
     "name": "stdout",
     "output_type": "stream",
     "text": [
      "population mean: 81.94700000000002\n",
      "simple random sample mean: 81.91331058020478\n",
      "stratified sample mean: 81.92566552901025\n",
      "cluster sample mean: 82.03171232876713\n"
     ]
    }
   ],
   "source": [
    "print(f\"population mean: {coffee_ratings_top['total_cup_points'].mean()}\")\n",
    "print(f\"simple random sample mean: {coffee_ratings_srs['total_cup_points'].mean()}\")\n",
    "print(f\"stratified sample mean: {coffee_ratings_strat['total_cup_points'].mean()}\")\n",
    "print(f\"cluster sample mean: {coffee_ratings_clust['total_cup_points'].mean()}\")  # not bad for having about half the samples of the other 2 methods"
   ]
  },
  {
   "cell_type": "markdown",
   "id": "1d3a820e-bd3e-432c-a2c1-9b224eece90a",
   "metadata": {},
   "source": [
    "## Mean cup points by country: simple random\n"
   ]
  },
  {
   "cell_type": "code",
   "execution_count": 45,
   "id": "e85288ed-6f4c-486b-8fd0-b08a40cd8ad0",
   "metadata": {},
   "outputs": [
    {
     "name": "stdout",
     "output_type": "stream",
     "text": [
      "country_of_origin\n",
      "Brazil                    82.405909\n",
      "Colombia                  83.106557\n",
      "Guatemala                 81.846575\n",
      "Mexico                    80.890085\n",
      "Taiwan                    82.001333\n",
      "United States (Hawaii)    81.820411\n",
      "Name: total_cup_points, dtype: float64 \n",
      "\n",
      "country_of_origin\n",
      "Brazil                    82.251875\n",
      "Colombia                  82.961014\n",
      "Guatemala                 81.392917\n",
      "Mexico                    81.152000\n",
      "Taiwan                    81.957391\n",
      "United States (Hawaii)    81.766400\n",
      "Name: total_cup_points, dtype: float64 \n",
      "\n"
     ]
    }
   ],
   "source": [
    "print(coffee_ratings_top.groupby(\"country_of_origin\")['total_cup_points'].mean(), '\\n')\n",
    "print(coffee_ratings_srs.groupby(\"country_of_origin\")['total_cup_points'].mean(), '\\n')"
   ]
  },
  {
   "cell_type": "markdown",
   "id": "a027844e-ed86-4ba2-8799-e157ae3f9561",
   "metadata": {},
   "source": [
    "## Mean cup points by country: stratified"
   ]
  },
  {
   "cell_type": "code",
   "execution_count": 46,
   "id": "34f0ca51-d335-4568-a014-83223e14bca1",
   "metadata": {},
   "outputs": [
    {
     "name": "stdout",
     "output_type": "stream",
     "text": [
      "country_of_origin\n",
      "Brazil                    82.405909\n",
      "Colombia                  83.106557\n",
      "Guatemala                 81.846575\n",
      "Mexico                    80.890085\n",
      "Taiwan                    82.001333\n",
      "United States (Hawaii)    81.820411\n",
      "Name: total_cup_points, dtype: float64 \n",
      "\n",
      "country_of_origin\n",
      "Brazil                    82.499773\n",
      "Colombia                  83.288197\n",
      "Guatemala                 81.727667\n",
      "Mexico                    80.994684\n",
      "Taiwan                    81.846800\n",
      "United States (Hawaii)    81.051667\n",
      "Name: total_cup_points, dtype: float64 \n",
      "\n"
     ]
    }
   ],
   "source": [
    "print(coffee_ratings_top.groupby(\"country_of_origin\")['total_cup_points'].mean(), '\\n')\n",
    "print(coffee_ratings_strat.groupby(\"country_of_origin\")['total_cup_points'].mean(), '\\n')"
   ]
  },
  {
   "cell_type": "markdown",
   "id": "b8570786-7906-4b99-9dcb-406c655eda6d",
   "metadata": {},
   "source": [
    "## Mean cup points by country: cluster"
   ]
  },
  {
   "cell_type": "code",
   "execution_count": 47,
   "id": "777f580e-73f7-4cc8-9c72-7b778cd86fa3",
   "metadata": {},
   "outputs": [
    {
     "name": "stdout",
     "output_type": "stream",
     "text": [
      "country_of_origin\n",
      "Brazil                    82.405909\n",
      "Colombia                  83.106557\n",
      "Guatemala                 81.846575\n",
      "Mexico                    80.890085\n",
      "Taiwan                    82.001333\n",
      "United States (Hawaii)    81.820411\n",
      "Name: total_cup_points, dtype: float64 \n",
      "\n",
      "country_of_origin\n",
      "Colombia    83.010753\n",
      "Mexico      81.052671\n",
      "Name: total_cup_points, dtype: float64 \n",
      "\n"
     ]
    }
   ],
   "source": [
    "print(coffee_ratings_top.groupby(\"country_of_origin\")['total_cup_points'].mean(), '\\n')\n",
    "print(coffee_ratings_clust.groupby(\"country_of_origin\")['total_cup_points'].mean(), '\\n')"
   ]
  },
  {
   "cell_type": "code",
   "execution_count": null,
   "id": "858b4201-6e9f-416f-b91d-e2d4982ca73a",
   "metadata": {},
   "outputs": [],
   "source": []
  },
  {
   "cell_type": "code",
   "execution_count": null,
   "id": "719bcb39-5c36-4166-b7d2-546a7a4d882c",
   "metadata": {},
   "outputs": [],
   "source": []
  },
  {
   "cell_type": "code",
   "execution_count": null,
   "id": "32df3417-a8e9-4889-b11a-27453444b8c5",
   "metadata": {},
   "outputs": [],
   "source": []
  },
  {
   "cell_type": "code",
   "execution_count": null,
   "id": "cdd0ae91-2bae-4ecb-b7c3-950cc4cd9f4e",
   "metadata": {},
   "outputs": [],
   "source": []
  },
  {
   "cell_type": "code",
   "execution_count": null,
   "id": "601487a4-3060-4403-9c71-86a14b62f3f5",
   "metadata": {},
   "outputs": [],
   "source": []
  },
  {
   "cell_type": "code",
   "execution_count": null,
   "id": "eecfd401-1764-4047-b8c6-477aa99d4fb1",
   "metadata": {},
   "outputs": [],
   "source": []
  },
  {
   "cell_type": "code",
   "execution_count": null,
   "id": "2fa9f0bd-c404-4d32-8919-baf7e1e562eb",
   "metadata": {},
   "outputs": [],
   "source": []
  }
 ],
 "metadata": {
  "kernelspec": {
   "display_name": "Python 3 (ipykernel)",
   "language": "python",
   "name": "python3"
  },
  "language_info": {
   "codemirror_mode": {
    "name": "ipython",
    "version": 3
   },
   "file_extension": ".py",
   "mimetype": "text/x-python",
   "name": "python",
   "nbconvert_exporter": "python",
   "pygments_lexer": "ipython3",
   "version": "3.11.6"
  }
 },
 "nbformat": 4,
 "nbformat_minor": 5
}
