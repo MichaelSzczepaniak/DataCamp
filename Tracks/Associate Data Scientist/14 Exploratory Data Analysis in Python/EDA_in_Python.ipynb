{
 "cells": [
  {
   "cell_type": "markdown",
   "id": "62e38e10-0cfb-4e68-a514-504b242a364d",
   "metadata": {},
   "source": [
    "## EDA Overview\n",
    "\n",
    "+ count categorical instances\n",
    "+ summarize numerical columns\n",
    "+ visualize numerical data"
   ]
  },
  {
   "cell_type": "code",
   "execution_count": 1,
   "id": "176a591a-ffdb-402f-86e3-b7ec6b567284",
   "metadata": {},
   "outputs": [
    {
     "data": {
      "text/html": [
       "<div>\n",
       "<style scoped>\n",
       "    .dataframe tbody tr th:only-of-type {\n",
       "        vertical-align: middle;\n",
       "    }\n",
       "\n",
       "    .dataframe tbody tr th {\n",
       "        vertical-align: top;\n",
       "    }\n",
       "\n",
       "    .dataframe thead th {\n",
       "        text-align: right;\n",
       "    }\n",
       "</style>\n",
       "<table border=\"1\" class=\"dataframe\">\n",
       "  <thead>\n",
       "    <tr style=\"text-align: right;\">\n",
       "      <th></th>\n",
       "      <th>name</th>\n",
       "      <th>author</th>\n",
       "      <th>rating</th>\n",
       "      <th>year</th>\n",
       "      <th>genre</th>\n",
       "    </tr>\n",
       "  </thead>\n",
       "  <tbody>\n",
       "    <tr>\n",
       "      <th>0</th>\n",
       "      <td>10-Day Green Smoothie Cleanse</td>\n",
       "      <td>JJ Smith</td>\n",
       "      <td>4.7</td>\n",
       "      <td>2016</td>\n",
       "      <td>Non Fiction</td>\n",
       "    </tr>\n",
       "    <tr>\n",
       "      <th>1</th>\n",
       "      <td>11/22/63: A Novel</td>\n",
       "      <td>Stephen King</td>\n",
       "      <td>4.6</td>\n",
       "      <td>2011</td>\n",
       "      <td>Fiction</td>\n",
       "    </tr>\n",
       "    <tr>\n",
       "      <th>2</th>\n",
       "      <td>12 Rules for Life: An Antidote to Chaos</td>\n",
       "      <td>Jordan B. Peterson</td>\n",
       "      <td>4.7</td>\n",
       "      <td>2018</td>\n",
       "      <td>Non Fiction</td>\n",
       "    </tr>\n",
       "    <tr>\n",
       "      <th>3</th>\n",
       "      <td>1984 (Signet Classics)</td>\n",
       "      <td>George Orwell</td>\n",
       "      <td>4.7</td>\n",
       "      <td>2017</td>\n",
       "      <td>Fiction</td>\n",
       "    </tr>\n",
       "    <tr>\n",
       "      <th>4</th>\n",
       "      <td>5,000 Awesome Facts (About Everything!) (Natio...</td>\n",
       "      <td>National Geographic Kids</td>\n",
       "      <td>4.8</td>\n",
       "      <td>2019</td>\n",
       "      <td>Childrens</td>\n",
       "    </tr>\n",
       "  </tbody>\n",
       "</table>\n",
       "</div>"
      ],
      "text/plain": [
       "                                                name  \\\n",
       "0                      10-Day Green Smoothie Cleanse   \n",
       "1                                  11/22/63: A Novel   \n",
       "2            12 Rules for Life: An Antidote to Chaos   \n",
       "3                             1984 (Signet Classics)   \n",
       "4  5,000 Awesome Facts (About Everything!) (Natio...   \n",
       "\n",
       "                     author  rating  year        genre  \n",
       "0                  JJ Smith     4.7  2016  Non Fiction  \n",
       "1              Stephen King     4.6  2011      Fiction  \n",
       "2        Jordan B. Peterson     4.7  2018  Non Fiction  \n",
       "3             George Orwell     4.7  2017      Fiction  \n",
       "4  National Geographic Kids     4.8  2019    Childrens  "
      ]
     },
     "execution_count": 1,
     "metadata": {},
     "output_type": "execute_result"
    }
   ],
   "source": [
    "import pandas as pd\n",
    "import numpy as np\n",
    "\n",
    "df_books = pd.read_csv(\"./data/clean_books.csv\")\n",
    "df_books.head()"
   ]
  },
  {
   "cell_type": "code",
   "execution_count": 2,
   "id": "09e42eef-02df-42c2-b6c2-d39905764b15",
   "metadata": {},
   "outputs": [
    {
     "name": "stdout",
     "output_type": "stream",
     "text": [
      "(350, 5)\n",
      "<class 'pandas.core.frame.DataFrame'>\n",
      "RangeIndex: 350 entries, 0 to 349\n",
      "Data columns (total 5 columns):\n",
      " #   Column  Non-Null Count  Dtype  \n",
      "---  ------  --------------  -----  \n",
      " 0   name    350 non-null    object \n",
      " 1   author  350 non-null    object \n",
      " 2   rating  350 non-null    float64\n",
      " 3   year    350 non-null    int64  \n",
      " 4   genre   350 non-null    object \n",
      "dtypes: float64(1), int64(1), object(3)\n",
      "memory usage: 13.8+ KB\n"
     ]
    }
   ],
   "source": [
    "# summarize missing values\n",
    "print(df_books.shape)  # 350 rows, 5 cols\n",
    "df_books.info()        # since we have 350 rows, no missing values"
   ]
  },
  {
   "cell_type": "code",
   "execution_count": 3,
   "id": "d617481d-7e20-40ad-b664-2034c2a54237",
   "metadata": {},
   "outputs": [
    {
     "name": "stdout",
     "output_type": "stream",
     "text": [
      "<class 'pandas.core.series.Series'>\n"
     ]
    },
    {
     "data": {
      "text/plain": [
       "genre\n",
       "Non Fiction    179\n",
       "Fiction        131\n",
       "Childrens       40\n",
       "Name: count, dtype: int64"
      ]
     },
     "execution_count": 3,
     "metadata": {},
     "output_type": "execute_result"
    }
   ],
   "source": [
    "# count number of unique instances of categorical variables\n",
    "genre_counts = df_books.value_counts(\"genre\")\n",
    "print(type(genre_counts))  # value_counts returns a series\n",
    "genre_counts"
   ]
  },
  {
   "cell_type": "code",
   "execution_count": 4,
   "id": "af3e6478-597c-4c4a-b9a6-2a3e3022b195",
   "metadata": {},
   "outputs": [
    {
     "data": {
      "text/html": [
       "<div>\n",
       "<style scoped>\n",
       "    .dataframe tbody tr th:only-of-type {\n",
       "        vertical-align: middle;\n",
       "    }\n",
       "\n",
       "    .dataframe tbody tr th {\n",
       "        vertical-align: top;\n",
       "    }\n",
       "\n",
       "    .dataframe thead th {\n",
       "        text-align: right;\n",
       "    }\n",
       "</style>\n",
       "<table border=\"1\" class=\"dataframe\">\n",
       "  <thead>\n",
       "    <tr style=\"text-align: right;\">\n",
       "      <th></th>\n",
       "      <th>rating</th>\n",
       "      <th>year</th>\n",
       "    </tr>\n",
       "  </thead>\n",
       "  <tbody>\n",
       "    <tr>\n",
       "      <th>count</th>\n",
       "      <td>350.000000</td>\n",
       "      <td>350.000000</td>\n",
       "    </tr>\n",
       "    <tr>\n",
       "      <th>mean</th>\n",
       "      <td>4.608571</td>\n",
       "      <td>2013.508571</td>\n",
       "    </tr>\n",
       "    <tr>\n",
       "      <th>std</th>\n",
       "      <td>0.226941</td>\n",
       "      <td>3.284711</td>\n",
       "    </tr>\n",
       "    <tr>\n",
       "      <th>min</th>\n",
       "      <td>3.300000</td>\n",
       "      <td>2009.000000</td>\n",
       "    </tr>\n",
       "    <tr>\n",
       "      <th>25%</th>\n",
       "      <td>4.500000</td>\n",
       "      <td>2010.000000</td>\n",
       "    </tr>\n",
       "    <tr>\n",
       "      <th>50%</th>\n",
       "      <td>4.600000</td>\n",
       "      <td>2013.000000</td>\n",
       "    </tr>\n",
       "    <tr>\n",
       "      <th>75%</th>\n",
       "      <td>4.800000</td>\n",
       "      <td>2016.000000</td>\n",
       "    </tr>\n",
       "    <tr>\n",
       "      <th>max</th>\n",
       "      <td>4.900000</td>\n",
       "      <td>2019.000000</td>\n",
       "    </tr>\n",
       "  </tbody>\n",
       "</table>\n",
       "</div>"
      ],
      "text/plain": [
       "           rating         year\n",
       "count  350.000000   350.000000\n",
       "mean     4.608571  2013.508571\n",
       "std      0.226941     3.284711\n",
       "min      3.300000  2009.000000\n",
       "25%      4.500000  2010.000000\n",
       "50%      4.600000  2013.000000\n",
       "75%      4.800000  2016.000000\n",
       "max      4.900000  2019.000000"
      ]
     },
     "execution_count": 4,
     "metadata": {},
     "output_type": "execute_result"
    }
   ],
   "source": [
    "# summary stats for numerical columns\n",
    "df_books.describe()"
   ]
  },
  {
   "cell_type": "code",
   "execution_count": 5,
   "id": "0369433c-e121-4f67-b88f-0dfc710de67b",
   "metadata": {},
   "outputs": [
    {
     "data": {
      "image/png": "[encoded data removed]",
      "text/plain": [
       "<Figure size 640x480 with 1 Axes>"
      ]
     },
     "metadata": {},
     "output_type": "display_data"
    }
   ],
   "source": [
    "import seaborn as sns\n",
    "import matplotlib.pyplot as plt\n",
    "# visualize distribution\n",
    "sns.histplot(data=df_books, x=\"rating\")\n",
    "plt.show()  # same call whether using seaborn or matplotlib"
   ]
  },
  {
   "cell_type": "code",
   "execution_count": 6,
   "id": "765075df-7980-4c86-bfc8-d8ff18182da9",
   "metadata": {},
   "outputs": [
    {
     "data": {
      "image/png": "[encoded data removed]",
      "text/plain": [
       "<Figure size 640x480 with 1 Axes>"
      ]
     },
     "metadata": {},
     "output_type": "display_data"
    }
   ],
   "source": [
    "# default bin size doesn't make sense practically, so set it something that does\n",
    "sns.histplot(data=df_books, x=\"rating\", binwidth=0.1)\n",
    "plt.show()"
   ]
  },
  {
   "cell_type": "markdown",
   "id": "5337fbcb-f1e8-4fbf-bab8-d797ca3cb3c3",
   "metadata": {},
   "source": [
    "## Functions for initial exploration\n",
    "\n",
    "Let's say we are researching unemployment rates worldwide and have been given a new dataset to work with. Since we've never seen the data before, first task is to use a few pandas functions to learn about this new data."
   ]
  },
  {
   "cell_type": "code",
   "execution_count": 7,
   "id": "e2d16961-783a-4420-9cc5-dc711a551dd8",
   "metadata": {},
   "outputs": [
    {
     "data": {
      "text/html": [
       "<div>\n",
       "<style scoped>\n",
       "    .dataframe tbody tr th:only-of-type {\n",
       "        vertical-align: middle;\n",
       "    }\n",
       "\n",
       "    .dataframe tbody tr th {\n",
       "        vertical-align: top;\n",
       "    }\n",
       "\n",
       "    .dataframe thead th {\n",
       "        text-align: right;\n",
       "    }\n",
       "</style>\n",
       "<table border=\"1\" class=\"dataframe\">\n",
       "  <thead>\n",
       "    <tr style=\"text-align: right;\">\n",
       "      <th></th>\n",
       "      <th>country_code</th>\n",
       "      <th>country_name</th>\n",
       "      <th>continent</th>\n",
       "      <th>2010</th>\n",
       "      <th>2011</th>\n",
       "      <th>2012</th>\n",
       "      <th>2013</th>\n",
       "      <th>2014</th>\n",
       "      <th>2015</th>\n",
       "      <th>2016</th>\n",
       "      <th>2017</th>\n",
       "      <th>2018</th>\n",
       "      <th>2019</th>\n",
       "      <th>2020</th>\n",
       "      <th>2021</th>\n",
       "    </tr>\n",
       "  </thead>\n",
       "  <tbody>\n",
       "    <tr>\n",
       "      <th>0</th>\n",
       "      <td>AFG</td>\n",
       "      <td>Afghanistan</td>\n",
       "      <td>Asia</td>\n",
       "      <td>11.35</td>\n",
       "      <td>11.05</td>\n",
       "      <td>11.34</td>\n",
       "      <td>11.19</td>\n",
       "      <td>11.14</td>\n",
       "      <td>11.13</td>\n",
       "      <td>11.16</td>\n",
       "      <td>11.18</td>\n",
       "      <td>11.15</td>\n",
       "      <td>11.22</td>\n",
       "      <td>11.71</td>\n",
       "      <td>13.28</td>\n",
       "    </tr>\n",
       "    <tr>\n",
       "      <th>1</th>\n",
       "      <td>AGO</td>\n",
       "      <td>Angola</td>\n",
       "      <td>Africa</td>\n",
       "      <td>9.43</td>\n",
       "      <td>7.36</td>\n",
       "      <td>7.35</td>\n",
       "      <td>7.37</td>\n",
       "      <td>7.37</td>\n",
       "      <td>7.39</td>\n",
       "      <td>7.41</td>\n",
       "      <td>7.41</td>\n",
       "      <td>7.42</td>\n",
       "      <td>7.42</td>\n",
       "      <td>8.33</td>\n",
       "      <td>8.53</td>\n",
       "    </tr>\n",
       "    <tr>\n",
       "      <th>2</th>\n",
       "      <td>ALB</td>\n",
       "      <td>Albania</td>\n",
       "      <td>Europe</td>\n",
       "      <td>14.09</td>\n",
       "      <td>13.48</td>\n",
       "      <td>13.38</td>\n",
       "      <td>15.87</td>\n",
       "      <td>18.05</td>\n",
       "      <td>17.19</td>\n",
       "      <td>15.42</td>\n",
       "      <td>13.62</td>\n",
       "      <td>12.30</td>\n",
       "      <td>11.47</td>\n",
       "      <td>13.33</td>\n",
       "      <td>11.82</td>\n",
       "    </tr>\n",
       "    <tr>\n",
       "      <th>3</th>\n",
       "      <td>ARE</td>\n",
       "      <td>United Arab Emirates</td>\n",
       "      <td>Asia</td>\n",
       "      <td>2.48</td>\n",
       "      <td>2.30</td>\n",
       "      <td>2.18</td>\n",
       "      <td>2.04</td>\n",
       "      <td>1.91</td>\n",
       "      <td>1.77</td>\n",
       "      <td>1.64</td>\n",
       "      <td>2.46</td>\n",
       "      <td>2.35</td>\n",
       "      <td>2.23</td>\n",
       "      <td>3.19</td>\n",
       "      <td>3.36</td>\n",
       "    </tr>\n",
       "    <tr>\n",
       "      <th>4</th>\n",
       "      <td>ARG</td>\n",
       "      <td>Argentina</td>\n",
       "      <td>South America</td>\n",
       "      <td>7.71</td>\n",
       "      <td>7.18</td>\n",
       "      <td>7.22</td>\n",
       "      <td>7.10</td>\n",
       "      <td>7.27</td>\n",
       "      <td>7.52</td>\n",
       "      <td>8.11</td>\n",
       "      <td>8.35</td>\n",
       "      <td>9.22</td>\n",
       "      <td>9.84</td>\n",
       "      <td>11.46</td>\n",
       "      <td>10.90</td>\n",
       "    </tr>\n",
       "  </tbody>\n",
       "</table>\n",
       "</div>"
      ],
      "text/plain": [
       "  country_code          country_name      continent   2010   2011   2012  \\\n",
       "0          AFG           Afghanistan           Asia  11.35  11.05  11.34   \n",
       "1          AGO                Angola         Africa   9.43   7.36   7.35   \n",
       "2          ALB               Albania         Europe  14.09  13.48  13.38   \n",
       "3          ARE  United Arab Emirates           Asia   2.48   2.30   2.18   \n",
       "4          ARG             Argentina  South America   7.71   7.18   7.22   \n",
       "\n",
       "    2013   2014   2015   2016   2017   2018   2019   2020   2021  \n",
       "0  11.19  11.14  11.13  11.16  11.18  11.15  11.22  11.71  13.28  \n",
       "1   7.37   7.37   7.39   7.41   7.41   7.42   7.42   8.33   8.53  \n",
       "2  15.87  18.05  17.19  15.42  13.62  12.30  11.47  13.33  11.82  \n",
       "3   2.04   1.91   1.77   1.64   2.46   2.35   2.23   3.19   3.36  \n",
       "4   7.10   7.27   7.52   8.11   8.35   9.22   9.84  11.46  10.90  "
      ]
     },
     "execution_count": 7,
     "metadata": {},
     "output_type": "execute_result"
    }
   ],
   "source": [
    "df_unemployment = pd.read_csv(\"./data/clean_unemployment.csv\")\n",
    "df_unemployment.head()"
   ]
  },
  {
   "cell_type": "code",
   "execution_count": 8,
   "id": "ac8daa49-66bc-4956-9f20-07d3354aebe6",
   "metadata": {},
   "outputs": [
    {
     "name": "stdout",
     "output_type": "stream",
     "text": [
      "(182, 15)\n",
      "<class 'pandas.core.frame.DataFrame'>\n",
      "RangeIndex: 182 entries, 0 to 181\n",
      "Data columns (total 15 columns):\n",
      " #   Column        Non-Null Count  Dtype  \n",
      "---  ------        --------------  -----  \n",
      " 0   country_code  182 non-null    object \n",
      " 1   country_name  182 non-null    object \n",
      " 2   continent     177 non-null    object \n",
      " 3   2010          182 non-null    float64\n",
      " 4   2011          182 non-null    float64\n",
      " 5   2012          182 non-null    float64\n",
      " 6   2013          182 non-null    float64\n",
      " 7   2014          182 non-null    float64\n",
      " 8   2015          182 non-null    float64\n",
      " 9   2016          182 non-null    float64\n",
      " 10  2017          182 non-null    float64\n",
      " 11  2018          182 non-null    float64\n",
      " 12  2019          182 non-null    float64\n",
      " 13  2020          182 non-null    float64\n",
      " 14  2021          182 non-null    float64\n",
      "dtypes: float64(12), object(3)\n",
      "memory usage: 21.5+ KB\n"
     ]
    }
   ],
   "source": [
    "# checking summary of non-missing values\n",
    "print(df_unemployment.shape)\n",
    "df_unemployment.info()  # row count = non-null counts, so no missing values"
   ]
  },
  {
   "cell_type": "code",
   "execution_count": 9,
   "id": "5bf9db24-356f-4664-9101-b54ee9a95baa",
   "metadata": {},
   "outputs": [
    {
     "data": {
      "text/html": [
       "<div>\n",
       "<style scoped>\n",
       "    .dataframe tbody tr th:only-of-type {\n",
       "        vertical-align: middle;\n",
       "    }\n",
       "\n",
       "    .dataframe tbody tr th {\n",
       "        vertical-align: top;\n",
       "    }\n",
       "\n",
       "    .dataframe thead th {\n",
       "        text-align: right;\n",
       "    }\n",
       "</style>\n",
       "<table border=\"1\" class=\"dataframe\">\n",
       "  <thead>\n",
       "    <tr style=\"text-align: right;\">\n",
       "      <th></th>\n",
       "      <th>2010</th>\n",
       "      <th>2011</th>\n",
       "      <th>2012</th>\n",
       "      <th>2013</th>\n",
       "      <th>2014</th>\n",
       "      <th>2015</th>\n",
       "      <th>2016</th>\n",
       "      <th>2017</th>\n",
       "      <th>2018</th>\n",
       "      <th>2019</th>\n",
       "      <th>2020</th>\n",
       "      <th>2021</th>\n",
       "    </tr>\n",
       "  </thead>\n",
       "  <tbody>\n",
       "    <tr>\n",
       "      <th>count</th>\n",
       "      <td>182.000000</td>\n",
       "      <td>182.000000</td>\n",
       "      <td>182.000000</td>\n",
       "      <td>182.000000</td>\n",
       "      <td>182.000000</td>\n",
       "      <td>182.000000</td>\n",
       "      <td>182.000000</td>\n",
       "      <td>182.000000</td>\n",
       "      <td>182.000000</td>\n",
       "      <td>182.000000</td>\n",
       "      <td>182.000000</td>\n",
       "      <td>182.000000</td>\n",
       "    </tr>\n",
       "    <tr>\n",
       "      <th>mean</th>\n",
       "      <td>8.409286</td>\n",
       "      <td>8.315440</td>\n",
       "      <td>8.317967</td>\n",
       "      <td>8.344780</td>\n",
       "      <td>8.179670</td>\n",
       "      <td>8.058901</td>\n",
       "      <td>7.925879</td>\n",
       "      <td>7.668626</td>\n",
       "      <td>7.426429</td>\n",
       "      <td>7.243736</td>\n",
       "      <td>8.420934</td>\n",
       "      <td>8.390879</td>\n",
       "    </tr>\n",
       "    <tr>\n",
       "      <th>std</th>\n",
       "      <td>6.248887</td>\n",
       "      <td>6.266795</td>\n",
       "      <td>6.367270</td>\n",
       "      <td>6.416041</td>\n",
       "      <td>6.284241</td>\n",
       "      <td>6.161170</td>\n",
       "      <td>6.045439</td>\n",
       "      <td>5.902152</td>\n",
       "      <td>5.818915</td>\n",
       "      <td>5.696573</td>\n",
       "      <td>6.040915</td>\n",
       "      <td>6.067192</td>\n",
       "    </tr>\n",
       "    <tr>\n",
       "      <th>min</th>\n",
       "      <td>0.450000</td>\n",
       "      <td>0.320000</td>\n",
       "      <td>0.480000</td>\n",
       "      <td>0.250000</td>\n",
       "      <td>0.200000</td>\n",
       "      <td>0.170000</td>\n",
       "      <td>0.150000</td>\n",
       "      <td>0.140000</td>\n",
       "      <td>0.110000</td>\n",
       "      <td>0.100000</td>\n",
       "      <td>0.210000</td>\n",
       "      <td>0.260000</td>\n",
       "    </tr>\n",
       "    <tr>\n",
       "      <th>25%</th>\n",
       "      <td>4.015000</td>\n",
       "      <td>3.775000</td>\n",
       "      <td>3.742500</td>\n",
       "      <td>3.692500</td>\n",
       "      <td>3.625000</td>\n",
       "      <td>3.662500</td>\n",
       "      <td>3.800000</td>\n",
       "      <td>3.690000</td>\n",
       "      <td>3.625000</td>\n",
       "      <td>3.487500</td>\n",
       "      <td>4.285000</td>\n",
       "      <td>4.335000</td>\n",
       "    </tr>\n",
       "    <tr>\n",
       "      <th>50%</th>\n",
       "      <td>6.965000</td>\n",
       "      <td>6.805000</td>\n",
       "      <td>6.690000</td>\n",
       "      <td>6.395000</td>\n",
       "      <td>6.450000</td>\n",
       "      <td>6.170000</td>\n",
       "      <td>5.925000</td>\n",
       "      <td>5.650000</td>\n",
       "      <td>5.375000</td>\n",
       "      <td>5.240000</td>\n",
       "      <td>6.695000</td>\n",
       "      <td>6.425000</td>\n",
       "    </tr>\n",
       "    <tr>\n",
       "      <th>75%</th>\n",
       "      <td>10.957500</td>\n",
       "      <td>11.045000</td>\n",
       "      <td>11.285000</td>\n",
       "      <td>11.310000</td>\n",
       "      <td>10.695000</td>\n",
       "      <td>10.215000</td>\n",
       "      <td>10.245000</td>\n",
       "      <td>10.315000</td>\n",
       "      <td>9.257500</td>\n",
       "      <td>9.445000</td>\n",
       "      <td>11.155000</td>\n",
       "      <td>10.840000</td>\n",
       "    </tr>\n",
       "    <tr>\n",
       "      <th>max</th>\n",
       "      <td>32.020000</td>\n",
       "      <td>31.380000</td>\n",
       "      <td>31.020000</td>\n",
       "      <td>29.000000</td>\n",
       "      <td>28.030000</td>\n",
       "      <td>27.690000</td>\n",
       "      <td>26.540000</td>\n",
       "      <td>27.040000</td>\n",
       "      <td>26.910000</td>\n",
       "      <td>28.470000</td>\n",
       "      <td>29.220000</td>\n",
       "      <td>33.560000</td>\n",
       "    </tr>\n",
       "  </tbody>\n",
       "</table>\n",
       "</div>"
      ],
      "text/plain": [
       "             2010        2011        2012        2013        2014        2015  \\\n",
       "count  182.000000  182.000000  182.000000  182.000000  182.000000  182.000000   \n",
       "mean     8.409286    8.315440    8.317967    8.344780    8.179670    8.058901   \n",
       "std      6.248887    6.266795    6.367270    6.416041    6.284241    6.161170   \n",
       "min      0.450000    0.320000    0.480000    0.250000    0.200000    0.170000   \n",
       "25%      4.015000    3.775000    3.742500    3.692500    3.625000    3.662500   \n",
       "50%      6.965000    6.805000    6.690000    6.395000    6.450000    6.170000   \n",
       "75%     10.957500   11.045000   11.285000   11.310000   10.695000   10.215000   \n",
       "max     32.020000   31.380000   31.020000   29.000000   28.030000   27.690000   \n",
       "\n",
       "             2016        2017        2018        2019        2020        2021  \n",
       "count  182.000000  182.000000  182.000000  182.000000  182.000000  182.000000  \n",
       "mean     7.925879    7.668626    7.426429    7.243736    8.420934    8.390879  \n",
       "std      6.045439    5.902152    5.818915    5.696573    6.040915    6.067192  \n",
       "min      0.150000    0.140000    0.110000    0.100000    0.210000    0.260000  \n",
       "25%      3.800000    3.690000    3.625000    3.487500    4.285000    4.335000  \n",
       "50%      5.925000    5.650000    5.375000    5.240000    6.695000    6.425000  \n",
       "75%     10.245000   10.315000    9.257500    9.445000   11.155000   10.840000  \n",
       "max     26.540000   27.040000   26.910000   28.470000   29.220000   33.560000  "
      ]
     },
     "execution_count": 9,
     "metadata": {},
     "output_type": "execute_result"
    }
   ],
   "source": [
    "# summary stats for numerical columns\n",
    "df_unemployment.describe()"
   ]
  },
  {
   "cell_type": "markdown",
   "id": "1bdfe2da-f97f-4c87-b1d9-2774e3142aa0",
   "metadata": {},
   "source": [
    "## Counting categorical values\n",
    "\n",
    "The unemployment DataFrame contains 182 rows of country data including `country_code`, `country_name`, `continent`, and unemployment percentages from 2010 through 2021.\n",
    "\n",
    "Let's explore the categorical data contained in unemployment to understand the data that it contains related to each continent."
   ]
  },
  {
   "cell_type": "code",
   "execution_count": 10,
   "id": "cec42277-3893-491d-a602-b316915f9c98",
   "metadata": {},
   "outputs": [
    {
     "data": {
      "text/plain": [
       "continent\n",
       "Africa           53\n",
       "Asia             47\n",
       "Europe           39\n",
       "North America    18\n",
       "South America    12\n",
       "Oceania           8\n",
       "Name: count, dtype: int64"
      ]
     },
     "execution_count": 10,
     "metadata": {},
     "output_type": "execute_result"
    }
   ],
   "source": [
    "# Count the values associated with each continent in unemployment\n",
    "df_unemployment['continent'].value_counts()"
   ]
  },
  {
   "cell_type": "markdown",
   "id": "7c1d9612-952e-462f-8339-ca9c07f39b15",
   "metadata": {},
   "source": [
    "## Global unemployment in 2021\n",
    "\n",
    "What was typical unemployment in a given year? What was the minimum and maximum unemployment rate, and what did the distribution of the unemployment rates look like across the world?"
   ]
  },
  {
   "cell_type": "code",
   "execution_count": 11,
   "id": "7b10046d-2d54-432d-b28e-1b7edca1333c",
   "metadata": {},
   "outputs": [
    {
     "data": {
      "image/png": "[encoded data removed]",
      "text/plain": [
       "<Figure size 640x480 with 1 Axes>"
      ]
     },
     "metadata": {},
     "output_type": "display_data"
    }
   ],
   "source": [
    "# histogram of 2021 unemployment, full percent in each bin\n",
    "sns.histplot(df_unemployment, x=\"2021\", binwidth=1.0)\n",
    "plt.show()"
   ]
  },
  {
   "cell_type": "markdown",
   "id": "1f46c37e-e8ef-4dc8-adea-e3c7e83ad44e",
   "metadata": {},
   "source": [
    "## Data Validation\n",
    "\n",
    "We can use the `astype()` method to change dtypes and check those types with the `dtypes` attribute.\n",
    "\n",
    "### Validating categorical data\n",
    "\n",
    "Checking is a column has values we expect:"
   ]
  },
  {
   "cell_type": "code",
   "execution_count": 12,
   "id": "a4c33719-68f8-41db-920a-f1cd144dd66d",
   "metadata": {},
   "outputs": [
    {
     "name": "stdout",
     "output_type": "stream",
     "text": [
      "<class 'pandas.core.series.Series'>\n"
     ]
    },
    {
     "data": {
      "text/plain": [
       "0     True\n",
       "1     True\n",
       "2     True\n",
       "3     True\n",
       "4    False\n",
       "Name: genre, dtype: bool"
      ]
     },
     "execution_count": 12,
     "metadata": {},
     "output_type": "execute_result"
    }
   ],
   "source": [
    "genre_filter = df_books[\"genre\"].isin([\"Fiction\", \"Non Fiction\"])  # some values are false, so these aren't the only genres\n",
    "print(type(genre_filter))  # boolean Series\n",
    "genre_filter.head()"
   ]
  },
  {
   "cell_type": "code",
   "execution_count": 13,
   "id": "bd23924e-b8cb-477a-96c8-9f084e128379",
   "metadata": {},
   "outputs": [
    {
     "data": {
      "text/plain": [
       "0    False\n",
       "1    False\n",
       "2    False\n",
       "3    False\n",
       "4     True\n",
       "Name: genre, dtype: bool"
      ]
     },
     "execution_count": 13,
     "metadata": {},
     "output_type": "execute_result"
    }
   ],
   "source": [
    "not_fic_nonfic = ~df_books[\"genre\"].isin([\"Fiction\", \"Non Fiction\"])  # can invert the logic to get another perspective\n",
    "not_fic_nonfic.head()"
   ]
  },
  {
   "cell_type": "code",
   "execution_count": 14,
   "id": "51412366-8530-4880-b2a8-c6baf13c5dc0",
   "metadata": {},
   "outputs": [
    {
     "data": {
      "text/html": [
       "<div>\n",
       "<style scoped>\n",
       "    .dataframe tbody tr th:only-of-type {\n",
       "        vertical-align: middle;\n",
       "    }\n",
       "\n",
       "    .dataframe tbody tr th {\n",
       "        vertical-align: top;\n",
       "    }\n",
       "\n",
       "    .dataframe thead th {\n",
       "        text-align: right;\n",
       "    }\n",
       "</style>\n",
       "<table border=\"1\" class=\"dataframe\">\n",
       "  <thead>\n",
       "    <tr style=\"text-align: right;\">\n",
       "      <th></th>\n",
       "      <th>name</th>\n",
       "      <th>author</th>\n",
       "      <th>rating</th>\n",
       "      <th>year</th>\n",
       "      <th>genre</th>\n",
       "    </tr>\n",
       "  </thead>\n",
       "  <tbody>\n",
       "    <tr>\n",
       "      <th>0</th>\n",
       "      <td>10-Day Green Smoothie Cleanse</td>\n",
       "      <td>JJ Smith</td>\n",
       "      <td>4.7</td>\n",
       "      <td>2016</td>\n",
       "      <td>Non Fiction</td>\n",
       "    </tr>\n",
       "    <tr>\n",
       "      <th>1</th>\n",
       "      <td>11/22/63: A Novel</td>\n",
       "      <td>Stephen King</td>\n",
       "      <td>4.6</td>\n",
       "      <td>2011</td>\n",
       "      <td>Fiction</td>\n",
       "    </tr>\n",
       "    <tr>\n",
       "      <th>2</th>\n",
       "      <td>12 Rules for Life: An Antidote to Chaos</td>\n",
       "      <td>Jordan B. Peterson</td>\n",
       "      <td>4.7</td>\n",
       "      <td>2018</td>\n",
       "      <td>Non Fiction</td>\n",
       "    </tr>\n",
       "    <tr>\n",
       "      <th>3</th>\n",
       "      <td>1984 (Signet Classics)</td>\n",
       "      <td>George Orwell</td>\n",
       "      <td>4.7</td>\n",
       "      <td>2017</td>\n",
       "      <td>Fiction</td>\n",
       "    </tr>\n",
       "    <tr>\n",
       "      <th>5</th>\n",
       "      <td>A Dance with Dragons (A Song of Ice and Fire)</td>\n",
       "      <td>George R. R. Martin</td>\n",
       "      <td>4.4</td>\n",
       "      <td>2011</td>\n",
       "      <td>Fiction</td>\n",
       "    </tr>\n",
       "  </tbody>\n",
       "</table>\n",
       "</div>"
      ],
      "text/plain": [
       "                                            name               author  rating  \\\n",
       "0                  10-Day Green Smoothie Cleanse             JJ Smith     4.7   \n",
       "1                              11/22/63: A Novel         Stephen King     4.6   \n",
       "2        12 Rules for Life: An Antidote to Chaos   Jordan B. Peterson     4.7   \n",
       "3                         1984 (Signet Classics)        George Orwell     4.7   \n",
       "5  A Dance with Dragons (A Song of Ice and Fire)  George R. R. Martin     4.4   \n",
       "\n",
       "   year        genre  \n",
       "0  2016  Non Fiction  \n",
       "1  2011      Fiction  \n",
       "2  2018  Non Fiction  \n",
       "3  2017      Fiction  \n",
       "5  2011      Fiction  "
      ]
     },
     "execution_count": 14,
     "metadata": {},
     "output_type": "execute_result"
    }
   ],
   "source": [
    "# filter for the genres we want\n",
    "is_fic_or_nonfic = df_books[df_books[\"genre\"].isin([\"Fiction\", \"Non Fiction\"])]\n",
    "is_fic_or_nonfic.head()"
   ]
  },
  {
   "cell_type": "code",
   "execution_count": 15,
   "id": "4271ebcb-f57d-44bf-9d54-7ecbbebb9eb0",
   "metadata": {},
   "outputs": [
    {
     "data": {
      "text/html": [
       "<div>\n",
       "<style scoped>\n",
       "    .dataframe tbody tr th:only-of-type {\n",
       "        vertical-align: middle;\n",
       "    }\n",
       "\n",
       "    .dataframe tbody tr th {\n",
       "        vertical-align: top;\n",
       "    }\n",
       "\n",
       "    .dataframe thead th {\n",
       "        text-align: right;\n",
       "    }\n",
       "</style>\n",
       "<table border=\"1\" class=\"dataframe\">\n",
       "  <thead>\n",
       "    <tr style=\"text-align: right;\">\n",
       "      <th></th>\n",
       "      <th>rating</th>\n",
       "      <th>year</th>\n",
       "    </tr>\n",
       "  </thead>\n",
       "  <tbody>\n",
       "    <tr>\n",
       "      <th>0</th>\n",
       "      <td>4.7</td>\n",
       "      <td>2016</td>\n",
       "    </tr>\n",
       "    <tr>\n",
       "      <th>1</th>\n",
       "      <td>4.6</td>\n",
       "      <td>2011</td>\n",
       "    </tr>\n",
       "    <tr>\n",
       "      <th>2</th>\n",
       "      <td>4.7</td>\n",
       "      <td>2018</td>\n",
       "    </tr>\n",
       "    <tr>\n",
       "      <th>3</th>\n",
       "      <td>4.7</td>\n",
       "      <td>2017</td>\n",
       "    </tr>\n",
       "    <tr>\n",
       "      <th>4</th>\n",
       "      <td>4.8</td>\n",
       "      <td>2019</td>\n",
       "    </tr>\n",
       "  </tbody>\n",
       "</table>\n",
       "</div>"
      ],
      "text/plain": [
       "   rating  year\n",
       "0     4.7  2016\n",
       "1     4.6  2011\n",
       "2     4.7  2018\n",
       "3     4.7  2017\n",
       "4     4.8  2019"
      ]
     },
     "execution_count": 15,
     "metadata": {},
     "output_type": "execute_result"
    }
   ],
   "source": [
    "# which columns contain numerical data?\n",
    "df_books.select_dtypes(\"number\").head()  # just rating and year are numeric"
   ]
  },
  {
   "cell_type": "code",
   "execution_count": 16,
   "id": "7166a255-e51b-411c-9514-d28a308f9c57",
   "metadata": {},
   "outputs": [
    {
     "name": "stdout",
     "output_type": "stream",
     "text": [
      "2009 2019\n"
     ]
    }
   ],
   "source": [
    "# validating numerical data\n",
    "print(df_books[\"year\"].min(), df_books[\"year\"].max())"
   ]
  },
  {
   "cell_type": "code",
   "execution_count": 17,
   "id": "5ade88fa-8f6d-4f09-b0d0-273282f8c806",
   "metadata": {},
   "outputs": [
    {
     "data": {
      "image/png": "[encoded data removed]",
      "text/plain": [
       "<Figure size 640x480 with 1 Axes>"
      ]
     },
     "metadata": {},
     "output_type": "display_data"
    }
   ],
   "source": [
    "# quick viz of distribution\n",
    "sns.boxplot(data=df_books, x=\"year\")\n",
    "plt.show()"
   ]
  },
  {
   "cell_type": "code",
   "execution_count": 18,
   "id": "85b2383a-94c8-4d1d-94dc-3fcdfa18703e",
   "metadata": {},
   "outputs": [
    {
     "data": {
      "image/png": "[encoded data removed]",
      "text/plain": [
       "<Figure size 640x480 with 1 Axes>"
      ]
     },
     "metadata": {},
     "output_type": "display_data"
    }
   ],
   "source": [
    "# year distributions by genre\n",
    "sns.boxplot(data=df_books, x=\"year\", y=\"genre\", hue=\"genre\")\n",
    "plt.show()  # childrens books come later"
   ]
  },
  {
   "cell_type": "markdown",
   "id": "184b24ac-4219-42d4-ba71-319db8177d60",
   "metadata": {},
   "source": [
    "## Validating continents\n",
    "\n",
    "What if the data on unemployment from countries in Oceania was not reliable, and you'd like to identify and exclude these countries from your unemployment data? The `.isin()` function can help with this.\n",
    "\n",
    "Let's identify countries that are not in Oceania. These countries should return `True` while countries in Oceania should return `False`. This will set us up to use the results of `.isin()` to quickly filter out Oceania countries using Boolean indexing. "
   ]
  },
  {
   "cell_type": "code",
   "execution_count": 19,
   "id": "3f233401-16ec-431f-a91d-6f3f58e5f30d",
   "metadata": {},
   "outputs": [
    {
     "data": {
      "text/html": [
       "<div>\n",
       "<style scoped>\n",
       "    .dataframe tbody tr th:only-of-type {\n",
       "        vertical-align: middle;\n",
       "    }\n",
       "\n",
       "    .dataframe tbody tr th {\n",
       "        vertical-align: top;\n",
       "    }\n",
       "\n",
       "    .dataframe thead th {\n",
       "        text-align: right;\n",
       "    }\n",
       "</style>\n",
       "<table border=\"1\" class=\"dataframe\">\n",
       "  <thead>\n",
       "    <tr style=\"text-align: right;\">\n",
       "      <th></th>\n",
       "      <th>country_code</th>\n",
       "      <th>country_name</th>\n",
       "      <th>continent</th>\n",
       "      <th>2010</th>\n",
       "      <th>2011</th>\n",
       "      <th>2012</th>\n",
       "      <th>2013</th>\n",
       "      <th>2014</th>\n",
       "      <th>2015</th>\n",
       "      <th>2016</th>\n",
       "      <th>2017</th>\n",
       "      <th>2018</th>\n",
       "      <th>2019</th>\n",
       "      <th>2020</th>\n",
       "      <th>2021</th>\n",
       "    </tr>\n",
       "  </thead>\n",
       "  <tbody>\n",
       "    <tr>\n",
       "      <th>0</th>\n",
       "      <td>AFG</td>\n",
       "      <td>Afghanistan</td>\n",
       "      <td>Asia</td>\n",
       "      <td>11.35</td>\n",
       "      <td>11.05</td>\n",
       "      <td>11.34</td>\n",
       "      <td>11.19</td>\n",
       "      <td>11.14</td>\n",
       "      <td>11.13</td>\n",
       "      <td>11.16</td>\n",
       "      <td>11.18</td>\n",
       "      <td>11.15</td>\n",
       "      <td>11.22</td>\n",
       "      <td>11.71</td>\n",
       "      <td>13.28</td>\n",
       "    </tr>\n",
       "    <tr>\n",
       "      <th>1</th>\n",
       "      <td>AGO</td>\n",
       "      <td>Angola</td>\n",
       "      <td>Africa</td>\n",
       "      <td>9.43</td>\n",
       "      <td>7.36</td>\n",
       "      <td>7.35</td>\n",
       "      <td>7.37</td>\n",
       "      <td>7.37</td>\n",
       "      <td>7.39</td>\n",
       "      <td>7.41</td>\n",
       "      <td>7.41</td>\n",
       "      <td>7.42</td>\n",
       "      <td>7.42</td>\n",
       "      <td>8.33</td>\n",
       "      <td>8.53</td>\n",
       "    </tr>\n",
       "    <tr>\n",
       "      <th>2</th>\n",
       "      <td>ALB</td>\n",
       "      <td>Albania</td>\n",
       "      <td>Europe</td>\n",
       "      <td>14.09</td>\n",
       "      <td>13.48</td>\n",
       "      <td>13.38</td>\n",
       "      <td>15.87</td>\n",
       "      <td>18.05</td>\n",
       "      <td>17.19</td>\n",
       "      <td>15.42</td>\n",
       "      <td>13.62</td>\n",
       "      <td>12.30</td>\n",
       "      <td>11.47</td>\n",
       "      <td>13.33</td>\n",
       "      <td>11.82</td>\n",
       "    </tr>\n",
       "    <tr>\n",
       "      <th>3</th>\n",
       "      <td>ARE</td>\n",
       "      <td>United Arab Emirates</td>\n",
       "      <td>Asia</td>\n",
       "      <td>2.48</td>\n",
       "      <td>2.30</td>\n",
       "      <td>2.18</td>\n",
       "      <td>2.04</td>\n",
       "      <td>1.91</td>\n",
       "      <td>1.77</td>\n",
       "      <td>1.64</td>\n",
       "      <td>2.46</td>\n",
       "      <td>2.35</td>\n",
       "      <td>2.23</td>\n",
       "      <td>3.19</td>\n",
       "      <td>3.36</td>\n",
       "    </tr>\n",
       "    <tr>\n",
       "      <th>4</th>\n",
       "      <td>ARG</td>\n",
       "      <td>Argentina</td>\n",
       "      <td>South America</td>\n",
       "      <td>7.71</td>\n",
       "      <td>7.18</td>\n",
       "      <td>7.22</td>\n",
       "      <td>7.10</td>\n",
       "      <td>7.27</td>\n",
       "      <td>7.52</td>\n",
       "      <td>8.11</td>\n",
       "      <td>8.35</td>\n",
       "      <td>9.22</td>\n",
       "      <td>9.84</td>\n",
       "      <td>11.46</td>\n",
       "      <td>10.90</td>\n",
       "    </tr>\n",
       "  </tbody>\n",
       "</table>\n",
       "</div>"
      ],
      "text/plain": [
       "  country_code          country_name      continent   2010   2011   2012  \\\n",
       "0          AFG           Afghanistan           Asia  11.35  11.05  11.34   \n",
       "1          AGO                Angola         Africa   9.43   7.36   7.35   \n",
       "2          ALB               Albania         Europe  14.09  13.48  13.38   \n",
       "3          ARE  United Arab Emirates           Asia   2.48   2.30   2.18   \n",
       "4          ARG             Argentina  South America   7.71   7.18   7.22   \n",
       "\n",
       "    2013   2014   2015   2016   2017   2018   2019   2020   2021  \n",
       "0  11.19  11.14  11.13  11.16  11.18  11.15  11.22  11.71  13.28  \n",
       "1   7.37   7.37   7.39   7.41   7.41   7.42   7.42   8.33   8.53  \n",
       "2  15.87  18.05  17.19  15.42  13.62  12.30  11.47  13.33  11.82  \n",
       "3   2.04   1.91   1.77   1.64   2.46   2.35   2.23   3.19   3.36  \n",
       "4   7.10   7.27   7.52   8.11   8.35   9.22   9.84  11.46  10.90  "
      ]
     },
     "execution_count": 19,
     "metadata": {},
     "output_type": "execute_result"
    }
   ],
   "source": [
    "# Define a Series describing whether each continent is outside of Oceania\n",
    "not_oceania = ~df_unemployment[\"continent\"].isin([\"Oceania\"])\n",
    "\n",
    "# Print some unemployment without records related to countries in Oceania\n",
    "df_unemployment[not_oceania].head()"
   ]
  },
  {
   "cell_type": "code",
   "execution_count": 20,
   "id": "0bf2a39c-841b-4284-8a1e-18e1ac3a5bac",
   "metadata": {},
   "outputs": [
    {
     "name": "stdout",
     "output_type": "stream",
     "text": [
      "0.26 33.56\n"
     ]
    },
    {
     "data": {
      "image/png": "[encoded data removed]",
      "text/plain": [
       "<Figure size 640x480 with 1 Axes>"
      ]
     },
     "metadata": {},
     "output_type": "display_data"
    }
   ],
   "source": [
    "# Print the minimum and maximum unemployment rates during 2021\n",
    "print(df_unemployment['2021'].min(), df_unemployment['2021'].max())\n",
    "\n",
    "# Create a boxplot of 2021 unemployment rates, broken down by continent\n",
    "sns.boxplot(data=df_unemployment, x=\"2021\", y=\"continent\", hue=\"continent\")\n",
    "plt.show()"
   ]
  },
  {
   "cell_type": "markdown",
   "id": "9875c02a-7d92-44f3-992b-411ce91c3c3c",
   "metadata": {},
   "source": [
    "## Data summarization\n",
    "\n",
    "Exploring groups of data using `groupby()` chained with an aggregate function"
   ]
  },
  {
   "cell_type": "code",
   "execution_count": 21,
   "id": "48599d71-3c33-48dd-95c4-9e8a0edb8dee",
   "metadata": {},
   "outputs": [
    {
     "data": {
      "text/html": [
       "<div>\n",
       "<style scoped>\n",
       "    .dataframe tbody tr th:only-of-type {\n",
       "        vertical-align: middle;\n",
       "    }\n",
       "\n",
       "    .dataframe tbody tr th {\n",
       "        vertical-align: top;\n",
       "    }\n",
       "\n",
       "    .dataframe thead th {\n",
       "        text-align: right;\n",
       "    }\n",
       "</style>\n",
       "<table border=\"1\" class=\"dataframe\">\n",
       "  <thead>\n",
       "    <tr style=\"text-align: right;\">\n",
       "      <th></th>\n",
       "      <th>rating</th>\n",
       "      <th>year</th>\n",
       "    </tr>\n",
       "    <tr>\n",
       "      <th>genre</th>\n",
       "      <th></th>\n",
       "      <th></th>\n",
       "    </tr>\n",
       "  </thead>\n",
       "  <tbody>\n",
       "    <tr>\n",
       "      <th>Childrens</th>\n",
       "      <td>4.780000</td>\n",
       "      <td>2015.075000</td>\n",
       "    </tr>\n",
       "    <tr>\n",
       "      <th>Fiction</th>\n",
       "      <td>4.570229</td>\n",
       "      <td>2013.022901</td>\n",
       "    </tr>\n",
       "    <tr>\n",
       "      <th>Non Fiction</th>\n",
       "      <td>4.598324</td>\n",
       "      <td>2013.513966</td>\n",
       "    </tr>\n",
       "  </tbody>\n",
       "</table>\n",
       "</div>"
      ],
      "text/plain": [
       "               rating         year\n",
       "genre                             \n",
       "Childrens    4.780000  2015.075000\n",
       "Fiction      4.570229  2013.022901\n",
       "Non Fiction  4.598324  2013.513966"
      ]
     },
     "execution_count": 21,
     "metadata": {},
     "output_type": "execute_result"
    }
   ],
   "source": [
    "df_books.groupby(\"genre\")[[\"rating\", \"year\"]].mean()"
   ]
  },
  {
   "cell_type": "code",
   "execution_count": 22,
   "id": "7e900f42-c01f-439d-9eb2-fb9459b8732d",
   "metadata": {},
   "outputs": [
    {
     "data": {
      "text/html": [
       "<div>\n",
       "<style scoped>\n",
       "    .dataframe tbody tr th:only-of-type {\n",
       "        vertical-align: middle;\n",
       "    }\n",
       "\n",
       "    .dataframe tbody tr th {\n",
       "        vertical-align: top;\n",
       "    }\n",
       "\n",
       "    .dataframe thead th {\n",
       "        text-align: right;\n",
       "    }\n",
       "</style>\n",
       "<table border=\"1\" class=\"dataframe\">\n",
       "  <thead>\n",
       "    <tr style=\"text-align: right;\">\n",
       "      <th></th>\n",
       "      <th>rating</th>\n",
       "      <th>year</th>\n",
       "    </tr>\n",
       "  </thead>\n",
       "  <tbody>\n",
       "    <tr>\n",
       "      <th>mean</th>\n",
       "      <td>4.608571</td>\n",
       "      <td>2013.508571</td>\n",
       "    </tr>\n",
       "    <tr>\n",
       "      <th>std</th>\n",
       "      <td>0.226941</td>\n",
       "      <td>3.284711</td>\n",
       "    </tr>\n",
       "  </tbody>\n",
       "</table>\n",
       "</div>"
      ],
      "text/plain": [
       "        rating         year\n",
       "mean  4.608571  2013.508571\n",
       "std   0.226941     3.284711"
      ]
     },
     "execution_count": 22,
     "metadata": {},
     "output_type": "execute_result"
    }
   ],
   "source": [
    "df_books[[\"rating\", \"year\"]].agg([\"mean\", \"std\"])"
   ]
  },
  {
   "cell_type": "code",
   "execution_count": 23,
   "id": "16d0f37f-c47a-4dbd-8cdf-54331ba8c40a",
   "metadata": {},
   "outputs": [
    {
     "data": {
      "text/html": [
       "<div>\n",
       "<style scoped>\n",
       "    .dataframe tbody tr th:only-of-type {\n",
       "        vertical-align: middle;\n",
       "    }\n",
       "\n",
       "    .dataframe tbody tr th {\n",
       "        vertical-align: top;\n",
       "    }\n",
       "\n",
       "    .dataframe thead th {\n",
       "        text-align: right;\n",
       "    }\n",
       "</style>\n",
       "<table border=\"1\" class=\"dataframe\">\n",
       "  <thead>\n",
       "    <tr style=\"text-align: right;\">\n",
       "      <th></th>\n",
       "      <th>rating</th>\n",
       "      <th>year</th>\n",
       "    </tr>\n",
       "  </thead>\n",
       "  <tbody>\n",
       "    <tr>\n",
       "      <th>mean</th>\n",
       "      <td>4.608571</td>\n",
       "      <td>NaN</td>\n",
       "    </tr>\n",
       "    <tr>\n",
       "      <th>std</th>\n",
       "      <td>0.226941</td>\n",
       "      <td>NaN</td>\n",
       "    </tr>\n",
       "    <tr>\n",
       "      <th>median</th>\n",
       "      <td>NaN</td>\n",
       "      <td>2013.0</td>\n",
       "    </tr>\n",
       "  </tbody>\n",
       "</table>\n",
       "</div>"
      ],
      "text/plain": [
       "          rating    year\n",
       "mean    4.608571     NaN\n",
       "std     0.226941     NaN\n",
       "median       NaN  2013.0"
      ]
     },
     "execution_count": 23,
     "metadata": {},
     "output_type": "execute_result"
    }
   ],
   "source": [
    "df_books.agg({\"rating\": [\"mean\", \"std\"], \"year\": [\"median\"]})  # keys are columns, values are agg functions to apply"
   ]
  },
  {
   "cell_type": "code",
   "execution_count": 24,
   "id": "ca5fc678-2df7-41e2-b020-1419cb2c298f",
   "metadata": {},
   "outputs": [
    {
     "data": {
      "text/html": [
       "<div>\n",
       "<style scoped>\n",
       "    .dataframe tbody tr th:only-of-type {\n",
       "        vertical-align: middle;\n",
       "    }\n",
       "\n",
       "    .dataframe tbody tr th {\n",
       "        vertical-align: top;\n",
       "    }\n",
       "\n",
       "    .dataframe thead th {\n",
       "        text-align: right;\n",
       "    }\n",
       "</style>\n",
       "<table border=\"1\" class=\"dataframe\">\n",
       "  <thead>\n",
       "    <tr style=\"text-align: right;\">\n",
       "      <th></th>\n",
       "      <th>mean_rating</th>\n",
       "      <th>std_rating</th>\n",
       "      <th>median_year</th>\n",
       "    </tr>\n",
       "    <tr>\n",
       "      <th>genre</th>\n",
       "      <th></th>\n",
       "      <th></th>\n",
       "      <th></th>\n",
       "    </tr>\n",
       "  </thead>\n",
       "  <tbody>\n",
       "    <tr>\n",
       "      <th>Childrens</th>\n",
       "      <td>4.780000</td>\n",
       "      <td>0.122370</td>\n",
       "      <td>2015.0</td>\n",
       "    </tr>\n",
       "    <tr>\n",
       "      <th>Fiction</th>\n",
       "      <td>4.570229</td>\n",
       "      <td>0.281123</td>\n",
       "      <td>2013.0</td>\n",
       "    </tr>\n",
       "    <tr>\n",
       "      <th>Non Fiction</th>\n",
       "      <td>4.598324</td>\n",
       "      <td>0.179411</td>\n",
       "      <td>2013.0</td>\n",
       "    </tr>\n",
       "  </tbody>\n",
       "</table>\n",
       "</div>"
      ],
      "text/plain": [
       "             mean_rating  std_rating  median_year\n",
       "genre                                            \n",
       "Childrens       4.780000    0.122370       2015.0\n",
       "Fiction         4.570229    0.281123       2013.0\n",
       "Non Fiction     4.598324    0.179411       2013.0"
      ]
     },
     "execution_count": 24,
     "metadata": {},
     "output_type": "execute_result"
    }
   ],
   "source": [
    "# create rows in summary by passing named tuples to agg\n",
    "df_books.groupby(\"genre\").agg(\n",
    "    mean_rating=(\"rating\", \"mean\"),\n",
    "    std_rating=(\"rating\", \"std\"),\n",
    "    median_year=(\"year\", \"median\")\n",
    ")"
   ]
  },
  {
   "cell_type": "code",
   "execution_count": 25,
   "id": "49cd0015-7e3a-4693-b7ad-2da96c5d6305",
   "metadata": {},
   "outputs": [
    {
     "data": {
      "image/png": "[encoded data removed]",
      "text/plain": [
       "<Figure size 640x480 with 1 Axes>"
      ]
     },
     "metadata": {},
     "output_type": "display_data"
    }
   ],
   "source": [
    "# visualize with barplot, mean gets calc'd automaticall\n",
    "sns.barplot(data=df_books, x=\"genre\", y=\"rating\", hue=\"genre\")  # groups by x param, provided 95% CI\n",
    "plt.show()"
   ]
  },
  {
   "cell_type": "code",
   "execution_count": 26,
   "id": "861524da-627c-4c38-b3e1-fb58f733dcf6",
   "metadata": {},
   "outputs": [],
   "source": [
    "# print(df_unemployment.agg([\"mean\", \"std\"]))  # correct in the DC environment, but not here\n",
    "\n",
    "# Print yearly mean and standard deviation grouped by continent\n",
    "# print(unemployment.groupby(\"continent\").agg([\"mean\", \"std\"]))  # correct in the DC environment, but not here"
   ]
  },
  {
   "cell_type": "code",
   "execution_count": 27,
   "id": "2ced9ac2-0bcc-4c66-8b16-dcfe081a9854",
   "metadata": {},
   "outputs": [
    {
     "name": "stdout",
     "output_type": "stream",
     "text": [
      "<class 'pandas.core.frame.DataFrame'>\n",
      "               mean_rate_2021  std_rate_2021\n",
      "continent                                   \n",
      "Africa              10.473585       8.131636\n",
      "Asia                 6.906170       5.414745\n",
      "Europe               7.414872       3.947825\n",
      "North America        9.155000       5.076482\n",
      "Oceania              4.280000       2.671522\n",
      "South America        9.924167       3.611624\n"
     ]
    }
   ],
   "source": [
    "# using named tuples to create agg'd col's\n",
    "continent_summary = df_unemployment.groupby(\"continent\").agg(\n",
    "    mean_rate_2021=(\"2021\", \"mean\"),  # Create the mean_rate_2021 column\n",
    "    std_rate_2021=(\"2021\", \"std\")     # Create the std_rate_2021 column\n",
    ")\n",
    "print(type(continent_summary))\n",
    "print(continent_summary)"
   ]
  },
  {
   "cell_type": "code",
   "execution_count": 28,
   "id": "026e1c49-f596-49c3-9b74-057674536fe5",
   "metadata": {},
   "outputs": [
    {
     "data": {
      "image/png": "[encoded data removed]",
      "text/plain": [
       "<Figure size 640x480 with 1 Axes>"
      ]
     },
     "metadata": {},
     "output_type": "display_data"
    }
   ],
   "source": [
    "# Create a bar plot of continents and their average unemployment\n",
    "sns.barplot(data=df_unemployment, x=\"continent\", y=\"2021\", hue=\"continent\", legend=False)\n",
    "plt.show()"
   ]
  },
  {
   "cell_type": "markdown",
   "id": "6426f695-46f3-4beb-8f1e-7e0cd5fd5a99",
   "metadata": {},
   "source": [
    "## Dealing with missing values\n"
   ]
  },
  {
   "cell_type": "code",
   "execution_count": 29,
   "id": "99cc6c7f-29a8-4cb7-aa3f-238e7fe5b441",
   "metadata": {},
   "outputs": [
    {
     "data": {
      "text/html": [
       "<div>\n",
       "<style scoped>\n",
       "    .dataframe tbody tr th:only-of-type {\n",
       "        vertical-align: middle;\n",
       "    }\n",
       "\n",
       "    .dataframe tbody tr th {\n",
       "        vertical-align: top;\n",
       "    }\n",
       "\n",
       "    .dataframe thead th {\n",
       "        text-align: right;\n",
       "    }\n",
       "</style>\n",
       "<table border=\"1\" class=\"dataframe\">\n",
       "  <thead>\n",
       "    <tr style=\"text-align: right;\">\n",
       "      <th></th>\n",
       "      <th>Working_Year</th>\n",
       "      <th>Designation</th>\n",
       "      <th>Experience</th>\n",
       "      <th>Employment_Status</th>\n",
       "      <th>Employee_Location</th>\n",
       "      <th>Company_Size</th>\n",
       "      <th>Remote_Working_Ratio</th>\n",
       "      <th>Salary_USD</th>\n",
       "    </tr>\n",
       "  </thead>\n",
       "  <tbody>\n",
       "    <tr>\n",
       "      <th>0</th>\n",
       "      <td>2020</td>\n",
       "      <td>Data Scientist</td>\n",
       "      <td>Mid</td>\n",
       "      <td>FT</td>\n",
       "      <td>DE</td>\n",
       "      <td>L</td>\n",
       "      <td>0</td>\n",
       "      <td>76227.0</td>\n",
       "    </tr>\n",
       "    <tr>\n",
       "      <th>1</th>\n",
       "      <td>2020</td>\n",
       "      <td>Machine Learning Scientist</td>\n",
       "      <td>Senior</td>\n",
       "      <td>FT</td>\n",
       "      <td>JP</td>\n",
       "      <td>S</td>\n",
       "      <td>0</td>\n",
       "      <td>248257.0</td>\n",
       "    </tr>\n",
       "    <tr>\n",
       "      <th>2</th>\n",
       "      <td>2020</td>\n",
       "      <td>Big Data Engineer</td>\n",
       "      <td>Senior</td>\n",
       "      <td>FT</td>\n",
       "      <td>GB</td>\n",
       "      <td>M</td>\n",
       "      <td>50</td>\n",
       "      <td>104100.0</td>\n",
       "    </tr>\n",
       "    <tr>\n",
       "      <th>3</th>\n",
       "      <td>2020</td>\n",
       "      <td>Product Data Analyst</td>\n",
       "      <td>Mid</td>\n",
       "      <td>FT</td>\n",
       "      <td>HN</td>\n",
       "      <td>S</td>\n",
       "      <td>0</td>\n",
       "      <td>19097.0</td>\n",
       "    </tr>\n",
       "    <tr>\n",
       "      <th>4</th>\n",
       "      <td>2020</td>\n",
       "      <td>Machine Learning Engineer</td>\n",
       "      <td>Senior</td>\n",
       "      <td>FT</td>\n",
       "      <td>US</td>\n",
       "      <td>L</td>\n",
       "      <td>50</td>\n",
       "      <td>143225.0</td>\n",
       "    </tr>\n",
       "  </tbody>\n",
       "</table>\n",
       "</div>"
      ],
      "text/plain": [
       "   Working_Year                 Designation Experience Employment_Status  \\\n",
       "0          2020              Data Scientist        Mid                FT   \n",
       "1          2020  Machine Learning Scientist     Senior                FT   \n",
       "2          2020           Big Data Engineer     Senior                FT   \n",
       "3          2020        Product Data Analyst        Mid                FT   \n",
       "4          2020   Machine Learning Engineer     Senior                FT   \n",
       "\n",
       "  Employee_Location Company_Size  Remote_Working_Ratio  Salary_USD  \n",
       "0                DE            L                     0     76227.0  \n",
       "1                JP            S                     0    248257.0  \n",
       "2                GB            M                    50    104100.0  \n",
       "3                HN            S                     0     19097.0  \n",
       "4                US            L                    50    143225.0  "
      ]
     },
     "execution_count": 29,
     "metadata": {},
     "output_type": "execute_result"
    }
   ],
   "source": [
    "df_salaries = pd.read_csv(\"./data/ds_salaries_clean.csv\")\n",
    "df_salaries.head()"
   ]
  },
  {
   "cell_type": "code",
   "execution_count": 30,
   "id": "3642eee1-9a57-41be-a2fc-9407aee2a84b",
   "metadata": {},
   "outputs": [
    {
     "data": {
      "image/png": "[encoded data removed]",
      "text/plain": [
       "<Figure size 640x480 with 1 Axes>"
      ]
     },
     "metadata": {},
     "output_type": "display_data"
    }
   ],
   "source": [
    "sns.boxplot(data=df_salaries, x=\"Experience\", y=\"Salary_USD\", hue=\"Experience\")\n",
    "\n",
    "plt.show()"
   ]
  },
  {
   "cell_type": "code",
   "execution_count": 31,
   "id": "b87ce86a-1a46-478a-8962-20762cc538e9",
   "metadata": {},
   "outputs": [
    {
     "name": "stdout",
     "output_type": "stream",
     "text": [
      "(607, 8) 607\n",
      "Working_Year            0\n",
      "Designation             0\n",
      "Experience              0\n",
      "Employment_Status       0\n",
      "Employee_Location       0\n",
      "Company_Size            0\n",
      "Remote_Working_Ratio    0\n",
      "Salary_USD              0\n",
      "dtype: int64\n"
     ]
    }
   ],
   "source": [
    "# check for missing values - nothing missing in the cleaned version of the data provided\n",
    "print(df_salaries.shape, len(df_salaries))  # len on dataframe --> row count = df.shape[0]\n",
    "print(df_salaries.isna().sum())"
   ]
  },
  {
   "cell_type": "markdown",
   "id": "ff01d6f1-e8bf-4731-95da-25a2a619ea1e",
   "metadata": {},
   "source": [
    "## Removing columns with too many missing values\n",
    "\n",
    "We can use boolean indexing to determine which rows to drop based on a pre-computed `threshold`.\n",
    "Start by looking for columns that have a small number of missing value:\n",
    "\n",
    "`cols_to_drop = df.columns[df.isna().sum() <= threshold]`\n",
    "\n",
    "We can then use this boolean vector to drop col's with missing values above our threshold:\n",
    "\n",
    "`df.dropna(subset=cols_to_drop, inplace=True)`\n",
    "\n",
    "## Imputing a summary statistic\n",
    "\n",
    "After removing columns with too many missing values (typically > 95% of total values in the column), we can impute missing values using a summary statistic (e.g. `mode`)\n",
    "\n",
    "`cols_with_missing_values = df.columns[salaries.isna().sum() > 0]`  \n",
    "`    print(cols_with_missing_values)`  \n",
    "\n",
    "`for col in cols_with_missing_values[:-1]:`  \n",
    "`    df[col].fillna(df[col].mode()[0])  # mode method returns a series with a single value, so we must index the 1st item to pull it out`\n"
   ]
  },
  {
   "cell_type": "code",
   "execution_count": 32,
   "id": "fd77ef52-8f0d-43e2-9a2e-b2249c482aee",
   "metadata": {},
   "outputs": [
    {
     "data": {
      "text/html": [
       "<div>\n",
       "<style scoped>\n",
       "    .dataframe tbody tr th:only-of-type {\n",
       "        vertical-align: middle;\n",
       "    }\n",
       "\n",
       "    .dataframe tbody tr th {\n",
       "        vertical-align: top;\n",
       "    }\n",
       "\n",
       "    .dataframe thead th {\n",
       "        text-align: right;\n",
       "    }\n",
       "</style>\n",
       "<table border=\"1\" class=\"dataframe\">\n",
       "  <thead>\n",
       "    <tr style=\"text-align: right;\">\n",
       "      <th></th>\n",
       "      <th>Working_Year</th>\n",
       "      <th>Designation</th>\n",
       "      <th>Experience</th>\n",
       "      <th>Employment_Status</th>\n",
       "      <th>Employee_Location</th>\n",
       "      <th>Company_Size</th>\n",
       "      <th>Remote_Working_Ratio</th>\n",
       "      <th>Salary_USD</th>\n",
       "    </tr>\n",
       "  </thead>\n",
       "  <tbody>\n",
       "    <tr>\n",
       "      <th>6</th>\n",
       "      <td>2020</td>\n",
       "      <td>Lead Data Scientist</td>\n",
       "      <td>Senior</td>\n",
       "      <td>FT</td>\n",
       "      <td>US</td>\n",
       "      <td>S</td>\n",
       "      <td>100</td>\n",
       "      <td>181418.0</td>\n",
       "    </tr>\n",
       "    <tr>\n",
       "      <th>7</th>\n",
       "      <td>2020</td>\n",
       "      <td>Data Scientist</td>\n",
       "      <td>Mid</td>\n",
       "      <td>FT</td>\n",
       "      <td>DE</td>\n",
       "      <td>L</td>\n",
       "      <td>50</td>\n",
       "      <td>NaN</td>\n",
       "    </tr>\n",
       "    <tr>\n",
       "      <th>8</th>\n",
       "      <td>2020</td>\n",
       "      <td>Machine Learning Scientist</td>\n",
       "      <td>Senior</td>\n",
       "      <td>FT</td>\n",
       "      <td>JP</td>\n",
       "      <td>S</td>\n",
       "      <td>50</td>\n",
       "      <td>NaN</td>\n",
       "    </tr>\n",
       "    <tr>\n",
       "      <th>9</th>\n",
       "      <td>2020</td>\n",
       "      <td>Big Data Engineer</td>\n",
       "      <td>Senior</td>\n",
       "      <td>FT</td>\n",
       "      <td>GB</td>\n",
       "      <td>M</td>\n",
       "      <td>0</td>\n",
       "      <td>NaN</td>\n",
       "    </tr>\n",
       "    <tr>\n",
       "      <th>10</th>\n",
       "      <td>2020</td>\n",
       "      <td>Product Data Analyst</td>\n",
       "      <td>Mid</td>\n",
       "      <td>FT</td>\n",
       "      <td>HN</td>\n",
       "      <td>S</td>\n",
       "      <td>100</td>\n",
       "      <td>NaN</td>\n",
       "    </tr>\n",
       "    <tr>\n",
       "      <th>11</th>\n",
       "      <td>2020</td>\n",
       "      <td>Machine Learning Engineer</td>\n",
       "      <td>Senior</td>\n",
       "      <td>FT</td>\n",
       "      <td>US</td>\n",
       "      <td>L</td>\n",
       "      <td>0</td>\n",
       "      <td>NaN</td>\n",
       "    </tr>\n",
       "    <tr>\n",
       "      <th>12</th>\n",
       "      <td>2020</td>\n",
       "      <td>Data Analyst</td>\n",
       "      <td>Entry</td>\n",
       "      <td>FT</td>\n",
       "      <td>US</td>\n",
       "      <td>L</td>\n",
       "      <td>0</td>\n",
       "      <td>NaN</td>\n",
       "    </tr>\n",
       "    <tr>\n",
       "      <th>13</th>\n",
       "      <td>2020</td>\n",
       "      <td>Lead Data Scientist</td>\n",
       "      <td>Senior</td>\n",
       "      <td>FT</td>\n",
       "      <td>US</td>\n",
       "      <td>S</td>\n",
       "      <td>100</td>\n",
       "      <td>NaN</td>\n",
       "    </tr>\n",
       "    <tr>\n",
       "      <th>14</th>\n",
       "      <td>2020</td>\n",
       "      <td>Data Scientist</td>\n",
       "      <td>Mid</td>\n",
       "      <td>FT</td>\n",
       "      <td>HU</td>\n",
       "      <td>L</td>\n",
       "      <td>50</td>\n",
       "      <td>34121.0</td>\n",
       "    </tr>\n",
       "    <tr>\n",
       "      <th>15</th>\n",
       "      <td>2020</td>\n",
       "      <td>Business Data Analyst</td>\n",
       "      <td>Mid</td>\n",
       "      <td>FT</td>\n",
       "      <td>US</td>\n",
       "      <td>L</td>\n",
       "      <td>100</td>\n",
       "      <td>128903.0</td>\n",
       "    </tr>\n",
       "  </tbody>\n",
       "</table>\n",
       "</div>"
      ],
      "text/plain": [
       "    Working_Year                 Designation Experience Employment_Status  \\\n",
       "6           2020         Lead Data Scientist     Senior                FT   \n",
       "7           2020              Data Scientist        Mid                FT   \n",
       "8           2020  Machine Learning Scientist     Senior                FT   \n",
       "9           2020           Big Data Engineer     Senior                FT   \n",
       "10          2020        Product Data Analyst        Mid                FT   \n",
       "11          2020   Machine Learning Engineer     Senior                FT   \n",
       "12          2020                Data Analyst      Entry                FT   \n",
       "13          2020         Lead Data Scientist     Senior                FT   \n",
       "14          2020              Data Scientist        Mid                FT   \n",
       "15          2020       Business Data Analyst        Mid                FT   \n",
       "\n",
       "   Employee_Location Company_Size  Remote_Working_Ratio  Salary_USD  \n",
       "6                 US            S                   100    181418.0  \n",
       "7                 DE            L                    50         NaN  \n",
       "8                 JP            S                    50         NaN  \n",
       "9                 GB            M                     0         NaN  \n",
       "10                HN            S                   100         NaN  \n",
       "11                US            L                     0         NaN  \n",
       "12                US            L                     0         NaN  \n",
       "13                US            S                   100         NaN  \n",
       "14                HU            L                    50     34121.0  \n",
       "15                US            L                   100    128903.0  "
      ]
     },
     "execution_count": 32,
     "metadata": {},
     "output_type": "execute_result"
    }
   ],
   "source": [
    "# added 7 rows with missing salaries to test\n",
    "df_sals_w_missing = pd.read_csv('./data/ds_salaries_with_missing.csv')\n",
    "df_sals_w_missing.iloc[6:16, :]  # notice missing salaries in rows 7-13"
   ]
  },
  {
   "cell_type": "code",
   "execution_count": 33,
   "id": "2b316f62-79ae-4dca-aae6-cefafb970ec8",
   "metadata": {},
   "outputs": [
    {
     "name": "stdout",
     "output_type": "stream",
     "text": [
      "<class 'pandas.core.series.Series'>\n",
      "Working_Year            False\n",
      "Designation             False\n",
      "Experience              False\n",
      "Employment_Status       False\n",
      "Employee_Location       False\n",
      "Company_Size            False\n",
      "Remote_Working_Ratio    False\n",
      "Salary_USD               True\n",
      "dtype: bool\n"
     ]
    },
    {
     "data": {
      "text/plain": [
       "Index(['Salary_USD'], dtype='object')"
      ]
     },
     "execution_count": 33,
     "metadata": {},
     "output_type": "execute_result"
    }
   ],
   "source": [
    "does_col_have_missing = df_sals_w_missing.isna().sum() > 0\n",
    "print(type(does_col_have_missing))  # create boolean series, index = col name, value = col has missing values? (True/False)\n",
    "print(does_col_have_missing)        # no other columns but Salary_USD have missing values\n",
    "cols_with_missing_values = df_sals_w_missing.columns[df_sals_w_missing.isna().sum() > 0]\n",
    "cols_with_missing_values"
   ]
  },
  {
   "cell_type": "code",
   "execution_count": 34,
   "id": "5b989806-8444-450a-98e7-54f0d54c5aa8",
   "metadata": {},
   "outputs": [
    {
     "name": "stdout",
     "output_type": "stream",
     "text": [
      "<class 'pandas.core.series.Series'> 95483.0\n",
      "0    95483.0\n",
      "Name: Salary_USD, dtype: float64\n"
     ]
    }
   ],
   "source": [
    "my_agg = df_salaries['Salary_USD'].mode()  # mean = 107225.84, median = 96982.0, mode = 95483.0\n",
    "print(type(my_agg), my_agg[0])\n",
    "print(my_agg)"
   ]
  },
  {
   "cell_type": "markdown",
   "id": "ad036da5-c87b-471e-8a58-519db3249c55",
   "metadata": {},
   "source": [
    "## Imputing by a sub-group\n",
    "\n",
    "A general pattern to impute by sub-grouping:\n",
    "\n",
    "`df_dict = df.groupby(\"grouping_col\")[\"col_to_agg\"].median().to_dict()`  \n",
    "`# impute col_to_agg column based on median for each group in grouping_col`  \n",
    "`df[\"col_to_agg\"] = salaries[\"col_to_agg\"].fillna(df[\"grouping_col\"].map(df_dict))`"
   ]
  },
  {
   "cell_type": "code",
   "execution_count": 35,
   "id": "34b76025-20b4-4300-8133-e05eb6ea1eb8",
   "metadata": {},
   "outputs": [
    {
     "name": "stdout",
     "output_type": "stream",
     "text": [
      "{'Entry': 53948.0, 'Executive': 163694.5, 'Mid': 73465.0, 'Senior': 129380.0}\n"
     ]
    }
   ],
   "source": [
    "# impute missing salaries based on median of the \"Experience\" column - start by getting medians of each experience group\n",
    "salaries_dict = df_sals_w_missing.groupby(\"Experience\")[\"Salary_USD\"].median().to_dict()\n",
    "print(salaries_dict)  # Entry < Mid < Senior < Executive which makes sense"
   ]
  },
  {
   "cell_type": "code",
   "execution_count": 36,
   "id": "d6912585-5be9-41ea-94c2-28403602aa36",
   "metadata": {},
   "outputs": [
    {
     "data": {
      "text/html": [
       "<div>\n",
       "<style scoped>\n",
       "    .dataframe tbody tr th:only-of-type {\n",
       "        vertical-align: middle;\n",
       "    }\n",
       "\n",
       "    .dataframe tbody tr th {\n",
       "        vertical-align: top;\n",
       "    }\n",
       "\n",
       "    .dataframe thead th {\n",
       "        text-align: right;\n",
       "    }\n",
       "</style>\n",
       "<table border=\"1\" class=\"dataframe\">\n",
       "  <thead>\n",
       "    <tr style=\"text-align: right;\">\n",
       "      <th></th>\n",
       "      <th>Working_Year</th>\n",
       "      <th>Designation</th>\n",
       "      <th>Experience</th>\n",
       "      <th>Employment_Status</th>\n",
       "      <th>Employee_Location</th>\n",
       "      <th>Company_Size</th>\n",
       "      <th>Remote_Working_Ratio</th>\n",
       "      <th>Salary_USD</th>\n",
       "    </tr>\n",
       "  </thead>\n",
       "  <tbody>\n",
       "    <tr>\n",
       "      <th>6</th>\n",
       "      <td>2020</td>\n",
       "      <td>Lead Data Scientist</td>\n",
       "      <td>Senior</td>\n",
       "      <td>FT</td>\n",
       "      <td>US</td>\n",
       "      <td>S</td>\n",
       "      <td>100</td>\n",
       "      <td>181418.0</td>\n",
       "    </tr>\n",
       "    <tr>\n",
       "      <th>7</th>\n",
       "      <td>2020</td>\n",
       "      <td>Data Scientist</td>\n",
       "      <td>Mid</td>\n",
       "      <td>FT</td>\n",
       "      <td>DE</td>\n",
       "      <td>L</td>\n",
       "      <td>50</td>\n",
       "      <td>73465.0</td>\n",
       "    </tr>\n",
       "    <tr>\n",
       "      <th>8</th>\n",
       "      <td>2020</td>\n",
       "      <td>Machine Learning Scientist</td>\n",
       "      <td>Senior</td>\n",
       "      <td>FT</td>\n",
       "      <td>JP</td>\n",
       "      <td>S</td>\n",
       "      <td>50</td>\n",
       "      <td>129380.0</td>\n",
       "    </tr>\n",
       "    <tr>\n",
       "      <th>9</th>\n",
       "      <td>2020</td>\n",
       "      <td>Big Data Engineer</td>\n",
       "      <td>Senior</td>\n",
       "      <td>FT</td>\n",
       "      <td>GB</td>\n",
       "      <td>M</td>\n",
       "      <td>0</td>\n",
       "      <td>129380.0</td>\n",
       "    </tr>\n",
       "    <tr>\n",
       "      <th>10</th>\n",
       "      <td>2020</td>\n",
       "      <td>Product Data Analyst</td>\n",
       "      <td>Mid</td>\n",
       "      <td>FT</td>\n",
       "      <td>HN</td>\n",
       "      <td>S</td>\n",
       "      <td>100</td>\n",
       "      <td>73465.0</td>\n",
       "    </tr>\n",
       "    <tr>\n",
       "      <th>11</th>\n",
       "      <td>2020</td>\n",
       "      <td>Machine Learning Engineer</td>\n",
       "      <td>Senior</td>\n",
       "      <td>FT</td>\n",
       "      <td>US</td>\n",
       "      <td>L</td>\n",
       "      <td>0</td>\n",
       "      <td>129380.0</td>\n",
       "    </tr>\n",
       "    <tr>\n",
       "      <th>12</th>\n",
       "      <td>2020</td>\n",
       "      <td>Data Analyst</td>\n",
       "      <td>Entry</td>\n",
       "      <td>FT</td>\n",
       "      <td>US</td>\n",
       "      <td>L</td>\n",
       "      <td>0</td>\n",
       "      <td>53948.0</td>\n",
       "    </tr>\n",
       "    <tr>\n",
       "      <th>13</th>\n",
       "      <td>2020</td>\n",
       "      <td>Lead Data Scientist</td>\n",
       "      <td>Senior</td>\n",
       "      <td>FT</td>\n",
       "      <td>US</td>\n",
       "      <td>S</td>\n",
       "      <td>100</td>\n",
       "      <td>129380.0</td>\n",
       "    </tr>\n",
       "    <tr>\n",
       "      <th>14</th>\n",
       "      <td>2020</td>\n",
       "      <td>Data Scientist</td>\n",
       "      <td>Mid</td>\n",
       "      <td>FT</td>\n",
       "      <td>HU</td>\n",
       "      <td>L</td>\n",
       "      <td>50</td>\n",
       "      <td>34121.0</td>\n",
       "    </tr>\n",
       "    <tr>\n",
       "      <th>15</th>\n",
       "      <td>2020</td>\n",
       "      <td>Business Data Analyst</td>\n",
       "      <td>Mid</td>\n",
       "      <td>FT</td>\n",
       "      <td>US</td>\n",
       "      <td>L</td>\n",
       "      <td>100</td>\n",
       "      <td>128903.0</td>\n",
       "    </tr>\n",
       "  </tbody>\n",
       "</table>\n",
       "</div>"
      ],
      "text/plain": [
       "    Working_Year                 Designation Experience Employment_Status  \\\n",
       "6           2020         Lead Data Scientist     Senior                FT   \n",
       "7           2020              Data Scientist        Mid                FT   \n",
       "8           2020  Machine Learning Scientist     Senior                FT   \n",
       "9           2020           Big Data Engineer     Senior                FT   \n",
       "10          2020        Product Data Analyst        Mid                FT   \n",
       "11          2020   Machine Learning Engineer     Senior                FT   \n",
       "12          2020                Data Analyst      Entry                FT   \n",
       "13          2020         Lead Data Scientist     Senior                FT   \n",
       "14          2020              Data Scientist        Mid                FT   \n",
       "15          2020       Business Data Analyst        Mid                FT   \n",
       "\n",
       "   Employee_Location Company_Size  Remote_Working_Ratio  Salary_USD  \n",
       "6                 US            S                   100    181418.0  \n",
       "7                 DE            L                    50     73465.0  \n",
       "8                 JP            S                    50    129380.0  \n",
       "9                 GB            M                     0    129380.0  \n",
       "10                HN            S                   100     73465.0  \n",
       "11                US            L                     0    129380.0  \n",
       "12                US            L                     0     53948.0  \n",
       "13                US            S                   100    129380.0  \n",
       "14                HU            L                    50     34121.0  \n",
       "15                US            L                   100    128903.0  "
      ]
     },
     "execution_count": 36,
     "metadata": {},
     "output_type": "execute_result"
    }
   ],
   "source": [
    "# now impute by sub-group (\"Experience\" in our example)\n",
    "df_sals_w_missing[\"Salary_USD\"] = df_sals_w_missing[\"Salary_USD\"].fillna(df_sals_w_missing[\"Experience\"].map(salaries_dict))\n",
    "# check - missing values now populated with medians\n",
    "df_sals_w_missing.iloc[6:16, :]"
   ]
  },
  {
   "cell_type": "markdown",
   "id": "cfc3bfe2-8912-468e-88d7-b32979b7e10d",
   "metadata": {},
   "source": [
    "## Using thresholds with the planes data\n",
    "\n",
    "When a **column** has a small number of missing values, it usually ok to just delete these rows. This threshold is typically 5%, but is domain-sensitive."
   ]
  },
  {
   "cell_type": "code",
   "execution_count": 37,
   "id": "69707eac-068d-4c20-bf49-84881079d256",
   "metadata": {},
   "outputs": [
    {
     "data": {
      "text/html": [
       "<div>\n",
       "<style scoped>\n",
       "    .dataframe tbody tr th:only-of-type {\n",
       "        vertical-align: middle;\n",
       "    }\n",
       "\n",
       "    .dataframe tbody tr th {\n",
       "        vertical-align: top;\n",
       "    }\n",
       "\n",
       "    .dataframe thead th {\n",
       "        text-align: right;\n",
       "    }\n",
       "</style>\n",
       "<table border=\"1\" class=\"dataframe\">\n",
       "  <thead>\n",
       "    <tr style=\"text-align: right;\">\n",
       "      <th></th>\n",
       "      <th>Airline</th>\n",
       "      <th>Date_of_Journey</th>\n",
       "      <th>Source</th>\n",
       "      <th>Destination</th>\n",
       "      <th>Route</th>\n",
       "      <th>Dep_Time</th>\n",
       "      <th>Arrival_Time</th>\n",
       "      <th>Duration</th>\n",
       "      <th>Total_Stops</th>\n",
       "      <th>Additional_Info</th>\n",
       "      <th>Price</th>\n",
       "    </tr>\n",
       "  </thead>\n",
       "  <tbody>\n",
       "    <tr>\n",
       "      <th>0</th>\n",
       "      <td>Jet Airways</td>\n",
       "      <td>9/06/2019</td>\n",
       "      <td>Delhi</td>\n",
       "      <td>Cochin</td>\n",
       "      <td>DEL → LKO → BOM → COK</td>\n",
       "      <td>09:25</td>\n",
       "      <td>04:25 10 Jun</td>\n",
       "      <td>19h</td>\n",
       "      <td>2 stops</td>\n",
       "      <td>No info</td>\n",
       "      <td>13882.0</td>\n",
       "    </tr>\n",
       "    <tr>\n",
       "      <th>1</th>\n",
       "      <td>IndiGo</td>\n",
       "      <td>12/05/2019</td>\n",
       "      <td>Kolkata</td>\n",
       "      <td>Banglore</td>\n",
       "      <td>CCU → NAG → BLR</td>\n",
       "      <td>18:05</td>\n",
       "      <td>23:30</td>\n",
       "      <td>5h 25m</td>\n",
       "      <td>1 stop</td>\n",
       "      <td>No info</td>\n",
       "      <td>6218.0</td>\n",
       "    </tr>\n",
       "    <tr>\n",
       "      <th>2</th>\n",
       "      <td>IndiGo</td>\n",
       "      <td>01/03/2019</td>\n",
       "      <td>Banglore</td>\n",
       "      <td>New Delhi</td>\n",
       "      <td>BLR → NAG → DEL</td>\n",
       "      <td>16:50</td>\n",
       "      <td>21:35</td>\n",
       "      <td>4h 45m</td>\n",
       "      <td>1 stop</td>\n",
       "      <td>No info</td>\n",
       "      <td>13302.0</td>\n",
       "    </tr>\n",
       "    <tr>\n",
       "      <th>3</th>\n",
       "      <td>SpiceJet</td>\n",
       "      <td>24/06/2019</td>\n",
       "      <td>Kolkata</td>\n",
       "      <td>Banglore</td>\n",
       "      <td>CCU → BLR</td>\n",
       "      <td>09:00</td>\n",
       "      <td>11:25</td>\n",
       "      <td>2h 25m</td>\n",
       "      <td>non-stop</td>\n",
       "      <td>No info</td>\n",
       "      <td>3873.0</td>\n",
       "    </tr>\n",
       "    <tr>\n",
       "      <th>4</th>\n",
       "      <td>Jet Airways</td>\n",
       "      <td>12/03/2019</td>\n",
       "      <td>Banglore</td>\n",
       "      <td>New Delhi</td>\n",
       "      <td>BLR → BOM → DEL</td>\n",
       "      <td>18:55</td>\n",
       "      <td>10:25 13 Mar</td>\n",
       "      <td>15h 30m</td>\n",
       "      <td>1 stop</td>\n",
       "      <td>In-flight meal not included</td>\n",
       "      <td>11087.0</td>\n",
       "    </tr>\n",
       "  </tbody>\n",
       "</table>\n",
       "</div>"
      ],
      "text/plain": [
       "       Airline Date_of_Journey    Source Destination                  Route  \\\n",
       "0  Jet Airways       9/06/2019     Delhi      Cochin  DEL → LKO → BOM → COK   \n",
       "1       IndiGo      12/05/2019   Kolkata    Banglore        CCU → NAG → BLR   \n",
       "2       IndiGo      01/03/2019  Banglore   New Delhi        BLR → NAG → DEL   \n",
       "3     SpiceJet      24/06/2019   Kolkata    Banglore              CCU → BLR   \n",
       "4  Jet Airways      12/03/2019  Banglore   New Delhi        BLR → BOM → DEL   \n",
       "\n",
       "  Dep_Time  Arrival_Time Duration Total_Stops              Additional_Info  \\\n",
       "0    09:25  04:25 10 Jun      19h     2 stops                      No info   \n",
       "1    18:05         23:30   5h 25m      1 stop                      No info   \n",
       "2    16:50         21:35   4h 45m      1 stop                      No info   \n",
       "3    09:00         11:25   2h 25m    non-stop                      No info   \n",
       "4    18:55  10:25 13 Mar  15h 30m      1 stop  In-flight meal not included   \n",
       "\n",
       "     Price  \n",
       "0  13882.0  \n",
       "1   6218.0  \n",
       "2  13302.0  \n",
       "3   3873.0  \n",
       "4  11087.0  "
      ]
     },
     "execution_count": 37,
     "metadata": {},
     "output_type": "execute_result"
    }
   ],
   "source": [
    "df_planes = pd.read_csv('./data/planes.csv')\n",
    "df_planes.head()"
   ]
  },
  {
   "cell_type": "code",
   "execution_count": 38,
   "id": "9eb1d5d8-95c6-435c-bf63-b46d774499d2",
   "metadata": {},
   "outputs": [
    {
     "name": "stdout",
     "output_type": "stream",
     "text": [
      "(10660, 11)\n",
      "5% threshold is 533 values\n",
      "The following columns have less than 5% missing values:\n",
      "Index(['Airline', 'Date_of_Journey', 'Source', 'Destination', 'Route',\n",
      "       'Dep_Time', 'Arrival_Time', 'Duration', 'Total_Stops'],\n",
      "      dtype='object')\n",
      "after dropping\n",
      "Airline              0\n",
      "Date_of_Journey      0\n",
      "Source               0\n",
      "Destination          0\n",
      "Route                0\n",
      "Dep_Time             0\n",
      "Arrival_Time         0\n",
      "Duration             0\n",
      "Total_Stops          0\n",
      "Additional_Info    300\n",
      "Price              368\n",
      "dtype: int64\n",
      "(8508, 11)\n"
     ]
    }
   ],
   "source": [
    "print(df_planes.shape)  # (10660, 11), DataCamp exercise: (8508, 11)\n",
    "df_planes.head()\n",
    "# compute 5% theshold\n",
    "threshold = int(df_planes.shape[0] * 0.05) # or len(df_planes) * 0.05\n",
    "print(f\"5% threshold is {threshold} values\")  # 533\n",
    "cols_to_drop = df_planes.columns[df_planes.isna().sum() <= threshold]\n",
    "print(\"The following columns have less than 5% missing values:\")\n",
    "print(cols_to_drop)  # ['Airline', 'Date_of_Journey', 'Source', 'Destination', 'Route', 'Dep_Time', 'Arrival_Time', 'Duration', 'Total_Stops']\n",
    "df_planes.dropna(subset=cols_to_drop, inplace=True)  # remove all **ROWS** that have missing values in the specified columns: cols_to_drop\n",
    "print(f\"after dropping\")\n",
    "print(df_planes.isna().sum())\n",
    "print(df_planes.shape)"
   ]
  },
  {
   "cell_type": "markdown",
   "id": "67bb8a6c-4a74-4f0e-9598-86779cc39477",
   "metadata": {},
   "source": [
    "## Strategies for remaining missing data\n",
    "\n",
    "The five percent criteria works fine for the planes dataset, eliminating missing values from nine out of 11 columns. Now, we need to decide what to do with the `Additional_Info` and `Price` columns, which are missing 300 and 368 values respectively.\n",
    "\n",
    "First take a look at what \"Additional_Info\" contains, then visualize the price of plane tickets by different airlines. "
   ]
  },
  {
   "cell_type": "code",
   "execution_count": 39,
   "id": "ec55e7fb-01be-4dce-9f38-29f55ce36c8e",
   "metadata": {},
   "outputs": [
    {
     "name": "stdout",
     "output_type": "stream",
     "text": [
      "(8508, 11)\n",
      "Additional_Info\n",
      "No info                         6399\n",
      "In-flight meal not included     1525\n",
      "No check-in baggage included     258\n",
      "1 Long layover                    14\n",
      "Change airports                    7\n",
      "No Info                            2\n",
      "Business class                     1\n",
      "Red-eye flight                     1\n",
      "2 Long layover                     1\n",
      "Name: count, dtype: int64\n"
     ]
    }
   ],
   "source": [
    "# Check the values of the Additional_Info column\n",
    "print(df_planes.shape)  # (8508, 11)\n",
    "print(df_planes[\"Additional_Info\"].value_counts())"
   ]
  },
  {
   "cell_type": "code",
   "execution_count": 40,
   "id": "f7017b03-5d32-4759-92fb-14d2fd1554c0",
   "metadata": {},
   "outputs": [
    {
     "name": "stdout",
     "output_type": "stream",
     "text": [
      "Additional_Info\n",
      "No info                         6399\n",
      "In-flight meal not included     1525\n",
      "No check-in baggage included     258\n",
      "1 Long layover                    14\n",
      "Change airports                    7\n",
      "No Info                            2\n",
      "Business class                     1\n",
      "Red-eye flight                     1\n",
      "2 Long layover                     1\n",
      "Name: count, dtype: int64\n"
     ]
    },
    {
     "data": {
      "image/png": "[encoded data removed]",
      "text/plain": [
       "<Figure size 640x480 with 1 Axes>"
      ]
     },
     "metadata": {},
     "output_type": "display_data"
    }
   ],
   "source": [
    "# Check the values of the Additional_Info column\n",
    "print(df_planes[\"Additional_Info\"].value_counts())\n",
    "\n",
    "# Create a box plot of Price by Airline\n",
    "sns.boxplot(data=df_planes, x=\"Price\", y=\"Airline\", hue=\"Airline\")\n",
    "\n",
    "plt.show()"
   ]
  },
  {
   "cell_type": "code",
   "execution_count": 41,
   "id": "6490d061-0098-4550-866b-24ed7769312d",
   "metadata": {},
   "outputs": [
    {
     "name": "stdout",
     "output_type": "stream",
     "text": [
      "Airline\n",
      "Air Asia              5192.0\n",
      "Air India             9443.0\n",
      "GoAir                 5003.5\n",
      "IndiGo                5054.0\n",
      "Jet Airways          11507.0\n",
      "Multiple carriers    10197.0\n",
      "SpiceJet              3873.0\n",
      "Vistara               8028.0\n",
      "Name: Price, dtype: float64\n",
      "\n",
      "Airline              0\n",
      "Date_of_Journey      0\n",
      "Source               0\n",
      "Destination          0\n",
      "Route                0\n",
      "Dep_Time             0\n",
      "Arrival_Time         0\n",
      "Duration             0\n",
      "Total_Stops          0\n",
      "Additional_Info    300\n",
      "Price                0\n",
      "dtype: int64\n"
     ]
    }
   ],
   "source": [
    "# Calculate median plane ticket prices by Airline\n",
    "airline_prices = df_planes.groupby(\"Airline\")[\"Price\"].median()\n",
    "\n",
    "print(airline_prices)\n",
    "print()\n",
    "\n",
    "# Convert to a dictionary\n",
    "prices_dict = airline_prices.to_dict()\n",
    "\n",
    "# Map the dictionary to missing values of Price by Airline\n",
    "df_planes[\"Price\"] = df_planes[\"Price\"].fillna(df_planes[\"Airline\"].map(prices_dict))\n",
    "\n",
    "# Check for missing values\n",
    "print(df_planes.isna().sum())"
   ]
  },
  {
   "cell_type": "markdown",
   "id": "b676c6b0-3704-4907-a0b3-203f20e00bf3",
   "metadata": {},
   "source": [
    "## Working with categorical data\n",
    "\n",
    "Back to the data on salaries for this one..."
   ]
  },
  {
   "cell_type": "code",
   "execution_count": 42,
   "id": "1a1d58e3-551f-4b6a-88a3-023e042a8010",
   "metadata": {},
   "outputs": [
    {
     "data": {
      "text/html": [
       "<div>\n",
       "<style scoped>\n",
       "    .dataframe tbody tr th:only-of-type {\n",
       "        vertical-align: middle;\n",
       "    }\n",
       "\n",
       "    .dataframe tbody tr th {\n",
       "        vertical-align: top;\n",
       "    }\n",
       "\n",
       "    .dataframe thead th {\n",
       "        text-align: right;\n",
       "    }\n",
       "</style>\n",
       "<table border=\"1\" class=\"dataframe\">\n",
       "  <thead>\n",
       "    <tr style=\"text-align: right;\">\n",
       "      <th></th>\n",
       "      <th>Designation</th>\n",
       "      <th>Experience</th>\n",
       "      <th>Employment_Status</th>\n",
       "      <th>Employee_Location</th>\n",
       "      <th>Company_Size</th>\n",
       "    </tr>\n",
       "  </thead>\n",
       "  <tbody>\n",
       "    <tr>\n",
       "      <th>0</th>\n",
       "      <td>Data Scientist</td>\n",
       "      <td>Mid</td>\n",
       "      <td>FT</td>\n",
       "      <td>DE</td>\n",
       "      <td>L</td>\n",
       "    </tr>\n",
       "    <tr>\n",
       "      <th>1</th>\n",
       "      <td>Machine Learning Scientist</td>\n",
       "      <td>Senior</td>\n",
       "      <td>FT</td>\n",
       "      <td>JP</td>\n",
       "      <td>S</td>\n",
       "    </tr>\n",
       "    <tr>\n",
       "      <th>2</th>\n",
       "      <td>Big Data Engineer</td>\n",
       "      <td>Senior</td>\n",
       "      <td>FT</td>\n",
       "      <td>GB</td>\n",
       "      <td>M</td>\n",
       "    </tr>\n",
       "    <tr>\n",
       "      <th>3</th>\n",
       "      <td>Product Data Analyst</td>\n",
       "      <td>Mid</td>\n",
       "      <td>FT</td>\n",
       "      <td>HN</td>\n",
       "      <td>S</td>\n",
       "    </tr>\n",
       "    <tr>\n",
       "      <th>4</th>\n",
       "      <td>Machine Learning Engineer</td>\n",
       "      <td>Senior</td>\n",
       "      <td>FT</td>\n",
       "      <td>US</td>\n",
       "      <td>L</td>\n",
       "    </tr>\n",
       "  </tbody>\n",
       "</table>\n",
       "</div>"
      ],
      "text/plain": [
       "                  Designation Experience Employment_Status Employee_Location  \\\n",
       "0              Data Scientist        Mid                FT                DE   \n",
       "1  Machine Learning Scientist     Senior                FT                JP   \n",
       "2           Big Data Engineer     Senior                FT                GB   \n",
       "3        Product Data Analyst        Mid                FT                HN   \n",
       "4   Machine Learning Engineer     Senior                FT                US   \n",
       "\n",
       "  Company_Size  \n",
       "0            L  \n",
       "1            S  \n",
       "2            M  \n",
       "3            S  \n",
       "4            L  "
      ]
     },
     "execution_count": 42,
     "metadata": {},
     "output_type": "execute_result"
    }
   ],
   "source": [
    "df_salaries.select_dtypes(\"object\").head()  # preview non-numeric columns"
   ]
  },
  {
   "cell_type": "code",
   "execution_count": 43,
   "id": "5b9bad1b-fc0f-4a7e-9425-9fd2bbfaeb05",
   "metadata": {},
   "outputs": [
    {
     "name": "stdout",
     "output_type": "stream",
     "text": [
      "(607, 8)\n",
      "(475, 8)\n"
     ]
    },
    {
     "data": {
      "text/plain": [
       "Designation\n",
       "Data Scientist                143\n",
       "Data Engineer                 132\n",
       "Data Analyst                   97\n",
       "Machine Learning Engineer      41\n",
       "Research Scientist             16\n",
       "Data Science Manager           12\n",
       "Data Architect                 11\n",
       "Big Data Engineer               8\n",
       "Machine Learning Scientist      8\n",
       "Principal Data Scientist        7\n",
       "Name: count, dtype: int64"
      ]
     },
     "execution_count": 43,
     "metadata": {},
     "output_type": "execute_result"
    }
   ],
   "source": [
    "# look at frequency of of the top 10 Designation (aka job title) categories\n",
    "print(df_salaries.shape)\n",
    "top_10_jobs = df_salaries[\"Designation\"].value_counts()[:10]\n",
    "df_salaries_top_10 = df_salaries.loc[df_salaries[\"Designation\"].isin(top_10_jobs.index), :]\n",
    "print(df_salaries_top_10.shape)\n",
    "top_10_jobs"
   ]
  },
  {
   "cell_type": "code",
   "execution_count": 44,
   "id": "19a40dba-ddbe-4a72-a312-0108ff62a07d",
   "metadata": {},
   "outputs": [
    {
     "data": {
      "image/png": "[encoded data removed]",
      "text/plain": [
       "<Figure size 500x500 with 1 Axes>"
      ]
     },
     "metadata": {},
     "output_type": "display_data"
    }
   ],
   "source": [
    "category_order = top_10_jobs.index\n",
    "top10plot = sns.catplot(x=\"Designation\", data=df_salaries_top_10, kind=\"count\", order=category_order, hue=\"Designation\")\n",
    "# https://stackoverflow.com/questions/63909351/how-to-rotate-xticklabels-in-a-seaborn-catplot\n",
    "top10plot.set_xticklabels(rotation=90)\n",
    "plt.show()"
   ]
  },
  {
   "cell_type": "code",
   "execution_count": 45,
   "id": "48880518-4e65-4c5f-b93e-0f66f8266a1d",
   "metadata": {},
   "outputs": [
    {
     "data": {
      "text/plain": [
       "50"
      ]
     },
     "execution_count": 45,
     "metadata": {},
     "output_type": "execute_result"
    }
   ],
   "source": [
    "# count number of unique job titles\n",
    "df_salaries[\"Designation\"].nunique()  # 50, which is why I only looked at the top 10"
   ]
  },
  {
   "cell_type": "markdown",
   "id": "03ef7ab5-cf5c-4ec7-af20-9c43d01a1ecf",
   "metadata": {},
   "source": [
    "## Extracting value from categories\n",
    "\n",
    "Construct boolean vectors which can be used for filtering"
   ]
  },
  {
   "cell_type": "code",
   "execution_count": 46,
   "id": "c667627a-710b-4df5-ad4e-f734b491f5e2",
   "metadata": {},
   "outputs": [
    {
     "data": {
      "text/plain": [
       "0     True\n",
       "1     True\n",
       "2    False\n",
       "3    False\n",
       "4    False\n",
       "Name: Designation, dtype: bool"
      ]
     },
     "execution_count": 46,
     "metadata": {},
     "output_type": "execute_result"
    }
   ],
   "source": [
    "# search column for specific string or multiple strings\n",
    "bool_filter_sci = df_salaries[\"Designation\"].str.contains(\"Scientist\")\n",
    "bool_filter_sci.head()"
   ]
  },
  {
   "cell_type": "markdown",
   "id": "0e601ce1-cbcd-46d7-a0c9-8251174806e7",
   "metadata": {},
   "source": [
    "### Using regex with `contains`"
   ]
  },
  {
   "cell_type": "code",
   "execution_count": 47,
   "id": "e3c34e65-5acf-4cd5-bfa7-be14025bb4b0",
   "metadata": {},
   "outputs": [
    {
     "data": {
      "text/plain": [
       "0    False\n",
       "1     True\n",
       "2    False\n",
       "3    False\n",
       "4     True\n",
       "Name: Designation, dtype: bool"
      ]
     },
     "execution_count": 47,
     "metadata": {},
     "output_type": "execute_result"
    }
   ],
   "source": [
    "# finding multiple phrases in a string\n",
    "bool_filter_ml_ai = df_salaries[\"Designation\"].str.contains(\"Machine Learning|AI\")  # | acts as \"OR\"\n",
    "bool_filter_ml_ai.head()"
   ]
  },
  {
   "cell_type": "code",
   "execution_count": 48,
   "id": "ef6ebc3c-9064-45b1-a2d8-58cacade12f6",
   "metadata": {},
   "outputs": [
    {
     "data": {
      "text/plain": [
       "0     True\n",
       "1    False\n",
       "2    False\n",
       "3    False\n",
       "4    False\n",
       "Name: Designation, dtype: bool"
      ]
     },
     "execution_count": 48,
     "metadata": {},
     "output_type": "execute_result"
    }
   ],
   "source": [
    "bool_filter_start_data = df_salaries[\"Designation\"].str.contains(\"^Data\")  # starts with \"Data\"\n",
    "bool_filter_start_data.head()"
   ]
  },
  {
   "cell_type": "markdown",
   "id": "7cfb15d7-75be-4f36-95ab-299de7ae4d2d",
   "metadata": {},
   "source": [
    "## Finding multiple phrases in strings"
   ]
  },
  {
   "cell_type": "code",
   "execution_count": 49,
   "id": "4ea608ae-f7ae-4363-8951-b1626f7500c5",
   "metadata": {},
   "outputs": [
    {
     "data": {
      "text/html": [
       "<div>\n",
       "<style scoped>\n",
       "    .dataframe tbody tr th:only-of-type {\n",
       "        vertical-align: middle;\n",
       "    }\n",
       "\n",
       "    .dataframe tbody tr th {\n",
       "        vertical-align: top;\n",
       "    }\n",
       "\n",
       "    .dataframe thead th {\n",
       "        text-align: right;\n",
       "    }\n",
       "</style>\n",
       "<table border=\"1\" class=\"dataframe\">\n",
       "  <thead>\n",
       "    <tr style=\"text-align: right;\">\n",
       "      <th></th>\n",
       "      <th>Designation</th>\n",
       "      <th>Job_Category</th>\n",
       "    </tr>\n",
       "  </thead>\n",
       "  <tbody>\n",
       "    <tr>\n",
       "      <th>0</th>\n",
       "      <td>Data Scientist</td>\n",
       "      <td>Data Science</td>\n",
       "    </tr>\n",
       "    <tr>\n",
       "      <th>1</th>\n",
       "      <td>Machine Learning Scientist</td>\n",
       "      <td>Machine Learning</td>\n",
       "    </tr>\n",
       "    <tr>\n",
       "      <th>2</th>\n",
       "      <td>Big Data Engineer</td>\n",
       "      <td>Data Engineering</td>\n",
       "    </tr>\n",
       "    <tr>\n",
       "      <th>3</th>\n",
       "      <td>Product Data Analyst</td>\n",
       "      <td>Data Analytics</td>\n",
       "    </tr>\n",
       "    <tr>\n",
       "      <th>4</th>\n",
       "      <td>Machine Learning Engineer</td>\n",
       "      <td>Machine Learning</td>\n",
       "    </tr>\n",
       "  </tbody>\n",
       "</table>\n",
       "</div>"
      ],
      "text/plain": [
       "                  Designation      Job_Category\n",
       "0              Data Scientist      Data Science\n",
       "1  Machine Learning Scientist  Machine Learning\n",
       "2           Big Data Engineer  Data Engineering\n",
       "3        Product Data Analyst    Data Analytics\n",
       "4   Machine Learning Engineer  Machine Learning"
      ]
     },
     "execution_count": 49,
     "metadata": {},
     "output_type": "execute_result"
    }
   ],
   "source": [
    "job_categories = [\"Data Science\", \"Data Analytics\", \"Data Engineering\", \"Machine Learning\", \"Managerial\", \"Consultant\"]\n",
    "\n",
    "data_science = \"Data Scientist|NLP\"                          # condition to map to \"Data Science\" job category\n",
    "data_analyst = \"Analyst|Analytics\"                           # condition to map to \"Data Analytics\" job category\n",
    "data_engineer = \"Data Engineer|ETL|Architect|Infrastructure\" # condition to map to \"Data Engineering\" job category\n",
    "ml_engineer = \"Machine Learning|ML|Big Data|AI\"              # condition to map to \"Machine Learning\" job category\n",
    "manager = \"Manager|Head|Director|Lead|Principal|Staff\"       # condition to map to \"Managerial\" job category\n",
    "consultant = \"Consultant|Freelance\"                          # condition to map to \"Consultant\" job category\n",
    "\n",
    "# create list of boolean series which form the coditions we want to filter on\n",
    "conditions = [\n",
    "    (df_salaries[\"Designation\"].str.contains(data_science)),\n",
    "    (df_salaries[\"Designation\"].str.contains(data_analyst)),\n",
    "    (df_salaries[\"Designation\"].str.contains(data_engineer)),\n",
    "    (df_salaries[\"Designation\"].str.contains(ml_engineer)),\n",
    "    (df_salaries[\"Designation\"].str.contains(manager)),\n",
    "    (df_salaries[\"Designation\"].str.contains(consultant))\n",
    "]\n",
    "\n",
    "# create new column\n",
    "df_salaries[\"Job_Category\"] = np.select(\n",
    "    conditions,\n",
    "    job_categories,  # list of arrays to the search for the condtions in\n",
    "    default=\"Other\"  # when a value in conditions list is not found, use this value\n",
    ")\n",
    "\n",
    "df_salaries.loc[:, [\"Designation\", \"Job_Category\"]].head()"
   ]
  },
  {
   "cell_type": "code",
   "execution_count": 50,
   "id": "6e3d6e1e-36fc-4c25-bedb-9f0f1770085c",
   "metadata": {},
   "outputs": [
    {
     "name": "stderr",
     "output_type": "stream",
     "text": [
      "C:\\Users\\Owner\\AppData\\Local\\Temp\\ipykernel_8792\\1990904672.py:4: UserWarning: set_ticklabels() should only be used with a fixed number of ticks, i.e. after set_ticks() or using a FixedLocator.\n",
      "  cats_count_plot.set_xticklabels(cats_count_plot.get_xticklabels(), rotation=90)\n"
     ]
    },
    {
     "data": {
      "image/png": "[encoded data removed]",
      "text/plain": [
       "<Figure size 640x480 with 1 Axes>"
      ]
     },
     "metadata": {},
     "output_type": "display_data"
    }
   ],
   "source": [
    "# visualize new category counts\n",
    "cats_count_plot = sns.countplot(data=df_salaries, x=\"Job_Category\", hue=\"Job_Category\")\n",
    "# https://www.statology.org/seaborn-rotate-axis-labels/\n",
    "cats_count_plot.set_xticklabels(cats_count_plot.get_xticklabels(), rotation=90)\n",
    "plt.show()"
   ]
  },
  {
   "cell_type": "markdown",
   "id": "4f209313-3c71-422b-b8ba-67b23c9474d9",
   "metadata": {},
   "source": [
    "## Back to planes data"
   ]
  },
  {
   "cell_type": "code",
   "execution_count": 51,
   "id": "00b79c50-6969-426b-8fd5-73358b47b153",
   "metadata": {},
   "outputs": [
    {
     "name": "stdout",
     "output_type": "stream",
     "text": [
      "Number of unique values in Airline column:  8\n",
      "Number of unique values in Date_of_Journey column:  44\n",
      "Number of unique values in Source column:  5\n",
      "Number of unique values in Destination column:  6\n",
      "Number of unique values in Route column:  122\n",
      "Number of unique values in Dep_Time column:  218\n",
      "Number of unique values in Arrival_Time column:  1220\n",
      "Number of unique values in Duration column:  362\n",
      "Number of unique values in Total_Stops column:  5\n",
      "Number of unique values in Additional_Info column:  9\n"
     ]
    }
   ],
   "source": [
    "# Filter the DataFrame for object columns\n",
    "non_numeric = df_planes.select_dtypes(\"object\")\n",
    "\n",
    "# Loop through columns\n",
    "for col in non_numeric.columns:\n",
    "    # Print the number of unique values\n",
    "    print(f\"Number of unique values in {col} column: \", non_numeric[col].nunique())"
   ]
  },
  {
   "cell_type": "code",
   "execution_count": 52,
   "id": "44e929dc-8d5a-4990-a37a-85051e15c8cb",
   "metadata": {},
   "outputs": [
    {
     "data": {
      "text/html": [
       "<div>\n",
       "<style scoped>\n",
       "    .dataframe tbody tr th:only-of-type {\n",
       "        vertical-align: middle;\n",
       "    }\n",
       "\n",
       "    .dataframe tbody tr th {\n",
       "        vertical-align: top;\n",
       "    }\n",
       "\n",
       "    .dataframe thead th {\n",
       "        text-align: right;\n",
       "    }\n",
       "</style>\n",
       "<table border=\"1\" class=\"dataframe\">\n",
       "  <thead>\n",
       "    <tr style=\"text-align: right;\">\n",
       "      <th></th>\n",
       "      <th>Airline</th>\n",
       "      <th>Date_of_Journey</th>\n",
       "      <th>Source</th>\n",
       "      <th>Destination</th>\n",
       "      <th>Route</th>\n",
       "      <th>Dep_Time</th>\n",
       "      <th>Arrival_Time</th>\n",
       "      <th>Duration</th>\n",
       "      <th>Total_Stops</th>\n",
       "      <th>Additional_Info</th>\n",
       "      <th>Price</th>\n",
       "    </tr>\n",
       "  </thead>\n",
       "  <tbody>\n",
       "    <tr>\n",
       "      <th>6458</th>\n",
       "      <td>Air India</td>\n",
       "      <td>6/03/2019</td>\n",
       "      <td>Mumbai</td>\n",
       "      <td>Hyderabad</td>\n",
       "      <td>BOM → GOI → PNQ → HYD</td>\n",
       "      <td>16:50</td>\n",
       "      <td>16:55</td>\n",
       "      <td>5m</td>\n",
       "      <td>2 stops</td>\n",
       "      <td>No info</td>\n",
       "      <td>9443.0</td>\n",
       "    </tr>\n",
       "  </tbody>\n",
       "</table>\n",
       "</div>"
      ],
      "text/plain": [
       "        Airline Date_of_Journey  Source Destination                  Route  \\\n",
       "6458  Air India       6/03/2019  Mumbai   Hyderabad  BOM → GOI → PNQ → HYD   \n",
       "\n",
       "     Dep_Time Arrival_Time Duration Total_Stops Additional_Info   Price  \n",
       "6458    16:50        16:55       5m     2 stops         No info  9443.0  "
      ]
     },
     "execution_count": 52,
     "metadata": {},
     "output_type": "execute_result"
    }
   ],
   "source": [
    "# are there duration values with just minutes designated?\n",
    "only_m = df_planes[\"Duration\"].str.contains(\"h\") == False\n",
    "df_planes_only_m = df_planes.loc[only_m]\n",
    "df_planes_only_m"
   ]
  },
  {
   "cell_type": "code",
   "execution_count": 53,
   "id": "5dbbefe9-332c-40c1-8a81-0eaec6156f00",
   "metadata": {},
   "outputs": [
    {
     "data": {
      "text/html": [
       "<div>\n",
       "<style scoped>\n",
       "    .dataframe tbody tr th:only-of-type {\n",
       "        vertical-align: middle;\n",
       "    }\n",
       "\n",
       "    .dataframe tbody tr th {\n",
       "        vertical-align: top;\n",
       "    }\n",
       "\n",
       "    .dataframe thead th {\n",
       "        text-align: right;\n",
       "    }\n",
       "</style>\n",
       "<table border=\"1\" class=\"dataframe\">\n",
       "  <thead>\n",
       "    <tr style=\"text-align: right;\">\n",
       "      <th></th>\n",
       "      <th>Airline</th>\n",
       "      <th>Date_of_Journey</th>\n",
       "      <th>Source</th>\n",
       "      <th>Destination</th>\n",
       "      <th>Route</th>\n",
       "      <th>Dep_Time</th>\n",
       "      <th>Arrival_Time</th>\n",
       "      <th>Duration</th>\n",
       "      <th>Total_Stops</th>\n",
       "      <th>Additional_Info</th>\n",
       "      <th>Price</th>\n",
       "    </tr>\n",
       "  </thead>\n",
       "  <tbody>\n",
       "    <tr>\n",
       "      <th>0</th>\n",
       "      <td>Jet Airways</td>\n",
       "      <td>9/06/2019</td>\n",
       "      <td>Delhi</td>\n",
       "      <td>Cochin</td>\n",
       "      <td>DEL → LKO → BOM → COK</td>\n",
       "      <td>09:25</td>\n",
       "      <td>04:25 10 Jun</td>\n",
       "      <td>19h</td>\n",
       "      <td>2 stops</td>\n",
       "      <td>No info</td>\n",
       "      <td>13882.0</td>\n",
       "    </tr>\n",
       "    <tr>\n",
       "      <th>16</th>\n",
       "      <td>Air India</td>\n",
       "      <td>12/06/2019</td>\n",
       "      <td>Delhi</td>\n",
       "      <td>Cochin</td>\n",
       "      <td>DEL → CCU → BOM → COK</td>\n",
       "      <td>20:15</td>\n",
       "      <td>19:15 13 Jun</td>\n",
       "      <td>23h</td>\n",
       "      <td>2 stops</td>\n",
       "      <td>No info</td>\n",
       "      <td>13381.0</td>\n",
       "    </tr>\n",
       "    <tr>\n",
       "      <th>31</th>\n",
       "      <td>Jet Airways</td>\n",
       "      <td>15/06/2019</td>\n",
       "      <td>Delhi</td>\n",
       "      <td>Cochin</td>\n",
       "      <td>DEL → NAG → BOM → COK</td>\n",
       "      <td>14:35</td>\n",
       "      <td>12:35 16 Jun</td>\n",
       "      <td>22h</td>\n",
       "      <td>2 stops</td>\n",
       "      <td>In-flight meal not included</td>\n",
       "      <td>10919.0</td>\n",
       "    </tr>\n",
       "    <tr>\n",
       "      <th>42</th>\n",
       "      <td>Multiple carriers</td>\n",
       "      <td>21/03/2019</td>\n",
       "      <td>Delhi</td>\n",
       "      <td>Cochin</td>\n",
       "      <td>DEL → BOM → COK</td>\n",
       "      <td>09:00</td>\n",
       "      <td>21:00</td>\n",
       "      <td>12h</td>\n",
       "      <td>1 stop</td>\n",
       "      <td>No info</td>\n",
       "      <td>13062.0</td>\n",
       "    </tr>\n",
       "    <tr>\n",
       "      <th>51</th>\n",
       "      <td>IndiGo</td>\n",
       "      <td>18/06/2019</td>\n",
       "      <td>Banglore</td>\n",
       "      <td>Delhi</td>\n",
       "      <td>BLR → DEL</td>\n",
       "      <td>21:15</td>\n",
       "      <td>00:15 19 Jun</td>\n",
       "      <td>3h</td>\n",
       "      <td>non-stop</td>\n",
       "      <td>No info</td>\n",
       "      <td>3943.0</td>\n",
       "    </tr>\n",
       "  </tbody>\n",
       "</table>\n",
       "</div>"
      ],
      "text/plain": [
       "              Airline Date_of_Journey    Source Destination  \\\n",
       "0         Jet Airways       9/06/2019     Delhi      Cochin   \n",
       "16          Air India      12/06/2019     Delhi      Cochin   \n",
       "31        Jet Airways      15/06/2019     Delhi      Cochin   \n",
       "42  Multiple carriers      21/03/2019     Delhi      Cochin   \n",
       "51             IndiGo      18/06/2019  Banglore       Delhi   \n",
       "\n",
       "                    Route Dep_Time  Arrival_Time Duration Total_Stops  \\\n",
       "0   DEL → LKO → BOM → COK    09:25  04:25 10 Jun      19h     2 stops   \n",
       "16  DEL → CCU → BOM → COK    20:15  19:15 13 Jun      23h     2 stops   \n",
       "31  DEL → NAG → BOM → COK    14:35  12:35 16 Jun      22h     2 stops   \n",
       "42        DEL → BOM → COK    09:00         21:00      12h      1 stop   \n",
       "51              BLR → DEL    21:15  00:15 19 Jun       3h    non-stop   \n",
       "\n",
       "                Additional_Info    Price  \n",
       "0                       No info  13882.0  \n",
       "16                      No info  13381.0  \n",
       "31  In-flight meal not included  10919.0  \n",
       "42                      No info  13062.0  \n",
       "51                      No info   3943.0  "
      ]
     },
     "execution_count": 53,
     "metadata": {},
     "output_type": "execute_result"
    }
   ],
   "source": [
    "ends_with_h = df_planes[\"Duration\"].str.contains(\"h$\")  # 821 duration values don't have minutes designated\n",
    "df_planes_no_m = df_planes.loc[ends_with_h]\n",
    "df_planes_no_m.head()"
   ]
  },
  {
   "cell_type": "code",
   "execution_count": 54,
   "id": "121e2f6b-ca04-4dad-9bbb-4f67c31b6c82",
   "metadata": {},
   "outputs": [],
   "source": [
    "# Create a list of categories we'll use to group Duration values\n",
    "flight_categories = [\"Short-haul\", \"Medium\", \"Long-haul\"]\n",
    "\n",
    "# Create short_flights\n",
    "short_flights = \"^0h|^1h|^2h|^3h|^4h\"\n",
    "\n",
    "# Create medium_flights\n",
    "medium_flights = \"^5h|^6h|^7h|^8h|^9h\"\n",
    "\n",
    "# Create long_flights\n",
    "long_flights = \"^10h|^11h|^12h|^13h|^14h|^15h|^16h\"  # same result with preceding ^ or not"
   ]
  },
  {
   "cell_type": "code",
   "execution_count": 55,
   "id": "6a07801b-7352-42c0-b921-79ea082133bc",
   "metadata": {},
   "outputs": [
    {
     "data": {
      "image/png": "[encoded data removed]",
      "text/plain": [
       "<Figure size 640x480 with 1 Axes>"
      ]
     },
     "metadata": {},
     "output_type": "display_data"
    }
   ],
   "source": [
    "# Create conditions for values in flight_categories to be created\n",
    "conditions = [\n",
    "    (df_planes[\"Duration\"].str.contains(short_flights)),\n",
    "    (df_planes[\"Duration\"].str.contains(medium_flights)),\n",
    "    (df_planes[\"Duration\"].str.contains(long_flights))\n",
    "]\n",
    "\n",
    "# Apply the conditions list to the flight_categories\n",
    "df_planes[\"Duration_Category\"] = np.select(conditions, \n",
    "                                          flight_categories,\n",
    "                                          default=\"Extreme duration\")\n",
    "\n",
    "# Plot the counts of each category\n",
    "sns.countplot(data=df_planes, x=\"Duration_Category\", hue=\"Duration_Category\")\n",
    "plt.show()"
   ]
  },
  {
   "cell_type": "markdown",
   "id": "dad06d19-4785-4602-8447-6d936bcc5768",
   "metadata": {},
   "source": [
    "## Working with numeric data\n",
    "\n",
    "Like they often do, this Data Camp course works with data sets that are not made available for download. For this section, the `ds_salaries_clean.csv` is provided, but this file has a `Salary_USD` column (field) which was computed from a `Salary_In_Rupees` column which does not exist in the provided **csv** file. This column is *reverse engineered* so we can follow along with the video examples by following these steps:\n",
    "\n",
    "1. convert USD to Rupees assuming a conversion: 1 Indian Rupee = 0.012 US Dollars\n",
    "2. convert this float value to a string\n",
    "3. format to 2 decimal places with , every 3 decimal places"
   ]
  },
  {
   "cell_type": "code",
   "execution_count": 56,
   "id": "0fa0d0f5-2d94-4fe5-a111-8ddce2e9d600",
   "metadata": {},
   "outputs": [
    {
     "name": "stdout",
     "output_type": "stream",
     "text": [
      "<class 'pandas.core.frame.DataFrame'>\n",
      "RangeIndex: 607 entries, 0 to 606\n",
      "Data columns (total 9 columns):\n",
      " #   Column                Non-Null Count  Dtype  \n",
      "---  ------                --------------  -----  \n",
      " 0   Working_Year          607 non-null    int64  \n",
      " 1   Designation           607 non-null    object \n",
      " 2   Experience            607 non-null    object \n",
      " 3   Employment_Status     607 non-null    object \n",
      " 4   Employee_Location     607 non-null    object \n",
      " 5   Company_Size          607 non-null    object \n",
      " 6   Remote_Working_Ratio  607 non-null    int64  \n",
      " 7   Salary_USD            607 non-null    float64\n",
      " 8   Job_Category          607 non-null    object \n",
      "dtypes: float64(1), int64(2), object(6)\n",
      "memory usage: 42.8+ KB\n"
     ]
    }
   ],
   "source": [
    "df_salaries.info() # Salary_USD os float64"
   ]
  },
  {
   "cell_type": "code",
   "execution_count": 57,
   "id": "7c8bf5c3-2054-4d48-b23a-3553af2a47c2",
   "metadata": {},
   "outputs": [
    {
     "data": {
      "text/html": [
       "<div>\n",
       "<style scoped>\n",
       "    .dataframe tbody tr th:only-of-type {\n",
       "        vertical-align: middle;\n",
       "    }\n",
       "\n",
       "    .dataframe tbody tr th {\n",
       "        vertical-align: top;\n",
       "    }\n",
       "\n",
       "    .dataframe thead th {\n",
       "        text-align: right;\n",
       "    }\n",
       "</style>\n",
       "<table border=\"1\" class=\"dataframe\">\n",
       "  <thead>\n",
       "    <tr style=\"text-align: right;\">\n",
       "      <th></th>\n",
       "      <th>Working_Year</th>\n",
       "      <th>Designation</th>\n",
       "      <th>Experience</th>\n",
       "      <th>Employment_Status</th>\n",
       "      <th>Employee_Location</th>\n",
       "      <th>Company_Size</th>\n",
       "      <th>Remote_Working_Ratio</th>\n",
       "      <th>Salary_USD</th>\n",
       "      <th>Job_Category</th>\n",
       "      <th>Salary_In_Rupees</th>\n",
       "    </tr>\n",
       "  </thead>\n",
       "  <tbody>\n",
       "    <tr>\n",
       "      <th>0</th>\n",
       "      <td>2020</td>\n",
       "      <td>Data Scientist</td>\n",
       "      <td>Mid</td>\n",
       "      <td>FT</td>\n",
       "      <td>DE</td>\n",
       "      <td>L</td>\n",
       "      <td>0</td>\n",
       "      <td>76227.0</td>\n",
       "      <td>Data Science</td>\n",
       "      <td>6,352,250.00</td>\n",
       "    </tr>\n",
       "    <tr>\n",
       "      <th>1</th>\n",
       "      <td>2020</td>\n",
       "      <td>Machine Learning Scientist</td>\n",
       "      <td>Senior</td>\n",
       "      <td>FT</td>\n",
       "      <td>JP</td>\n",
       "      <td>S</td>\n",
       "      <td>0</td>\n",
       "      <td>248257.0</td>\n",
       "      <td>Machine Learning</td>\n",
       "      <td>20,688,083.33</td>\n",
       "    </tr>\n",
       "    <tr>\n",
       "      <th>2</th>\n",
       "      <td>2020</td>\n",
       "      <td>Big Data Engineer</td>\n",
       "      <td>Senior</td>\n",
       "      <td>FT</td>\n",
       "      <td>GB</td>\n",
       "      <td>M</td>\n",
       "      <td>50</td>\n",
       "      <td>104100.0</td>\n",
       "      <td>Data Engineering</td>\n",
       "      <td>8,675,000.00</td>\n",
       "    </tr>\n",
       "    <tr>\n",
       "      <th>3</th>\n",
       "      <td>2020</td>\n",
       "      <td>Product Data Analyst</td>\n",
       "      <td>Mid</td>\n",
       "      <td>FT</td>\n",
       "      <td>HN</td>\n",
       "      <td>S</td>\n",
       "      <td>0</td>\n",
       "      <td>19097.0</td>\n",
       "      <td>Data Analytics</td>\n",
       "      <td>1,591,416.67</td>\n",
       "    </tr>\n",
       "    <tr>\n",
       "      <th>4</th>\n",
       "      <td>2020</td>\n",
       "      <td>Machine Learning Engineer</td>\n",
       "      <td>Senior</td>\n",
       "      <td>FT</td>\n",
       "      <td>US</td>\n",
       "      <td>L</td>\n",
       "      <td>50</td>\n",
       "      <td>143225.0</td>\n",
       "      <td>Machine Learning</td>\n",
       "      <td>11,935,416.67</td>\n",
       "    </tr>\n",
       "  </tbody>\n",
       "</table>\n",
       "</div>"
      ],
      "text/plain": [
       "   Working_Year                 Designation Experience Employment_Status  \\\n",
       "0          2020              Data Scientist        Mid                FT   \n",
       "1          2020  Machine Learning Scientist     Senior                FT   \n",
       "2          2020           Big Data Engineer     Senior                FT   \n",
       "3          2020        Product Data Analyst        Mid                FT   \n",
       "4          2020   Machine Learning Engineer     Senior                FT   \n",
       "\n",
       "  Employee_Location Company_Size  Remote_Working_Ratio  Salary_USD  \\\n",
       "0                DE            L                     0     76227.0   \n",
       "1                JP            S                     0    248257.0   \n",
       "2                GB            M                    50    104100.0   \n",
       "3                HN            S                     0     19097.0   \n",
       "4                US            L                    50    143225.0   \n",
       "\n",
       "       Job_Category Salary_In_Rupees  \n",
       "0      Data Science     6,352,250.00  \n",
       "1  Machine Learning    20,688,083.33  \n",
       "2  Data Engineering     8,675,000.00  \n",
       "3    Data Analytics     1,591,416.67  \n",
       "4  Machine Learning    11,935,416.67  "
      ]
     },
     "execution_count": 57,
     "metadata": {},
     "output_type": "execute_result"
    }
   ],
   "source": [
    "# assume 1 Indian Rupee = 0.012 US Dollars\n",
    "# the lambda function converts to string and formats: the , adds the comma every 3 decimals, the .2f rounts to 2 decimals\n",
    "df_salaries[\"Salary_In_Rupees\"] = (df_salaries[\"Salary_USD\"] / 0.012).map(lambda x: f'{x:,.2f}')\n",
    "df_salaries.head()"
   ]
  },
  {
   "cell_type": "code",
   "execution_count": 58,
   "id": "b50e5bbc-7ed8-4885-b187-1972e40528fb",
   "metadata": {},
   "outputs": [
    {
     "data": {
      "text/plain": [
       "Index(['Working_Year', 'Designation', 'Experience', 'Employment_Status',\n",
       "       'Employee_Location', 'Company_Size', 'Remote_Working_Ratio',\n",
       "       'Salary_USD', 'Job_Category', 'Salary_In_Rupees'],\n",
       "      dtype='object')"
      ]
     },
     "execution_count": 58,
     "metadata": {},
     "output_type": "execute_result"
    }
   ],
   "source": [
    "df_salaries.columns\n",
    "# df_salaries.info()"
   ]
  },
  {
   "cell_type": "code",
   "execution_count": 59,
   "id": "5a454740-75f5-441f-8559-a88d199bf934",
   "metadata": {},
   "outputs": [],
   "source": [
    "reversed_columns = ['Working_Year', 'Designation', 'Experience', 'Employment_Status',\n",
    "                    'Employee_Location', 'Company_Size', 'Remote_Working_Ratio',\n",
    "                    'Job_Category', 'Salary_In_Rupees']\n",
    "\n",
    "df_salary_rupees = df_salaries.loc[:, reversed_columns]\n",
    "# now write it out for future reference\n",
    "df_salary_rupees.to_csv(\"./data/ds_salaries_rupees.csv\")"
   ]
  },
  {
   "cell_type": "code",
   "execution_count": 60,
   "id": "a15865ec-ffca-404e-801a-dea68d4b2b5e",
   "metadata": {},
   "outputs": [
    {
     "data": {
      "text/plain": [
       "0     6352250.00\n",
       "1    20688083.33\n",
       "2     8675000.00\n",
       "3     1591416.67\n",
       "4    11935416.67\n",
       "Name: Salary_In_Rupees, dtype: object"
      ]
     },
     "execution_count": 60,
     "metadata": {},
     "output_type": "execute_result"
    }
   ],
   "source": [
    "# now go the other way - start by removing the , chars in the string\n",
    "df_salary_rupees[\"Salary_In_Rupees\"] = df_salary_rupees[\"Salary_In_Rupees\"].str.replace(\",\", \"\")\n",
    "df_salary_rupees[\"Salary_In_Rupees\"].head()"
   ]
  },
  {
   "cell_type": "code",
   "execution_count": 61,
   "id": "f7bacc9d-bf3d-4ec8-990c-9a1f557262d7",
   "metadata": {},
   "outputs": [
    {
     "data": {
      "text/html": [
       "<div>\n",
       "<style scoped>\n",
       "    .dataframe tbody tr th:only-of-type {\n",
       "        vertical-align: middle;\n",
       "    }\n",
       "\n",
       "    .dataframe tbody tr th {\n",
       "        vertical-align: top;\n",
       "    }\n",
       "\n",
       "    .dataframe thead th {\n",
       "        text-align: right;\n",
       "    }\n",
       "</style>\n",
       "<table border=\"1\" class=\"dataframe\">\n",
       "  <thead>\n",
       "    <tr style=\"text-align: right;\">\n",
       "      <th></th>\n",
       "      <th>Working_Year</th>\n",
       "      <th>Designation</th>\n",
       "      <th>Experience</th>\n",
       "      <th>Employment_Status</th>\n",
       "      <th>Employee_Location</th>\n",
       "      <th>Company_Size</th>\n",
       "      <th>Remote_Working_Ratio</th>\n",
       "      <th>Job_Category</th>\n",
       "      <th>Salary_In_Rupees</th>\n",
       "      <th>Salary_USD</th>\n",
       "    </tr>\n",
       "  </thead>\n",
       "  <tbody>\n",
       "    <tr>\n",
       "      <th>0</th>\n",
       "      <td>2020</td>\n",
       "      <td>Data Scientist</td>\n",
       "      <td>Mid</td>\n",
       "      <td>FT</td>\n",
       "      <td>DE</td>\n",
       "      <td>L</td>\n",
       "      <td>0</td>\n",
       "      <td>Data Science</td>\n",
       "      <td>6352250.00</td>\n",
       "      <td>76227.00000</td>\n",
       "    </tr>\n",
       "    <tr>\n",
       "      <th>1</th>\n",
       "      <td>2020</td>\n",
       "      <td>Machine Learning Scientist</td>\n",
       "      <td>Senior</td>\n",
       "      <td>FT</td>\n",
       "      <td>JP</td>\n",
       "      <td>S</td>\n",
       "      <td>0</td>\n",
       "      <td>Machine Learning</td>\n",
       "      <td>20688083.33</td>\n",
       "      <td>248256.99996</td>\n",
       "    </tr>\n",
       "    <tr>\n",
       "      <th>2</th>\n",
       "      <td>2020</td>\n",
       "      <td>Big Data Engineer</td>\n",
       "      <td>Senior</td>\n",
       "      <td>FT</td>\n",
       "      <td>GB</td>\n",
       "      <td>M</td>\n",
       "      <td>50</td>\n",
       "      <td>Data Engineering</td>\n",
       "      <td>8675000.00</td>\n",
       "      <td>104100.00000</td>\n",
       "    </tr>\n",
       "    <tr>\n",
       "      <th>3</th>\n",
       "      <td>2020</td>\n",
       "      <td>Product Data Analyst</td>\n",
       "      <td>Mid</td>\n",
       "      <td>FT</td>\n",
       "      <td>HN</td>\n",
       "      <td>S</td>\n",
       "      <td>0</td>\n",
       "      <td>Data Analytics</td>\n",
       "      <td>1591416.67</td>\n",
       "      <td>19097.00004</td>\n",
       "    </tr>\n",
       "    <tr>\n",
       "      <th>4</th>\n",
       "      <td>2020</td>\n",
       "      <td>Machine Learning Engineer</td>\n",
       "      <td>Senior</td>\n",
       "      <td>FT</td>\n",
       "      <td>US</td>\n",
       "      <td>L</td>\n",
       "      <td>50</td>\n",
       "      <td>Machine Learning</td>\n",
       "      <td>11935416.67</td>\n",
       "      <td>143225.00004</td>\n",
       "    </tr>\n",
       "    <tr>\n",
       "      <th>5</th>\n",
       "      <td>2020</td>\n",
       "      <td>Data Analyst</td>\n",
       "      <td>Entry</td>\n",
       "      <td>FT</td>\n",
       "      <td>US</td>\n",
       "      <td>L</td>\n",
       "      <td>100</td>\n",
       "      <td>Data Analytics</td>\n",
       "      <td>5729000.00</td>\n",
       "      <td>68748.00000</td>\n",
       "    </tr>\n",
       "    <tr>\n",
       "      <th>6</th>\n",
       "      <td>2020</td>\n",
       "      <td>Lead Data Scientist</td>\n",
       "      <td>Senior</td>\n",
       "      <td>FT</td>\n",
       "      <td>US</td>\n",
       "      <td>S</td>\n",
       "      <td>100</td>\n",
       "      <td>Data Science</td>\n",
       "      <td>15118166.67</td>\n",
       "      <td>181418.00004</td>\n",
       "    </tr>\n",
       "    <tr>\n",
       "      <th>7</th>\n",
       "      <td>2020</td>\n",
       "      <td>Data Scientist</td>\n",
       "      <td>Mid</td>\n",
       "      <td>FT</td>\n",
       "      <td>HU</td>\n",
       "      <td>L</td>\n",
       "      <td>50</td>\n",
       "      <td>Data Science</td>\n",
       "      <td>2843416.67</td>\n",
       "      <td>34121.00004</td>\n",
       "    </tr>\n",
       "    <tr>\n",
       "      <th>8</th>\n",
       "      <td>2020</td>\n",
       "      <td>Business Data Analyst</td>\n",
       "      <td>Mid</td>\n",
       "      <td>FT</td>\n",
       "      <td>US</td>\n",
       "      <td>L</td>\n",
       "      <td>100</td>\n",
       "      <td>Data Analytics</td>\n",
       "      <td>10741916.67</td>\n",
       "      <td>128903.00004</td>\n",
       "    </tr>\n",
       "    <tr>\n",
       "      <th>9</th>\n",
       "      <td>2020</td>\n",
       "      <td>Lead Data Engineer</td>\n",
       "      <td>Senior</td>\n",
       "      <td>FT</td>\n",
       "      <td>NZ</td>\n",
       "      <td>S</td>\n",
       "      <td>50</td>\n",
       "      <td>Data Engineering</td>\n",
       "      <td>9946166.67</td>\n",
       "      <td>119354.00004</td>\n",
       "    </tr>\n",
       "  </tbody>\n",
       "</table>\n",
       "</div>"
      ],
      "text/plain": [
       "   Working_Year                 Designation Experience Employment_Status  \\\n",
       "0          2020              Data Scientist        Mid                FT   \n",
       "1          2020  Machine Learning Scientist     Senior                FT   \n",
       "2          2020           Big Data Engineer     Senior                FT   \n",
       "3          2020        Product Data Analyst        Mid                FT   \n",
       "4          2020   Machine Learning Engineer     Senior                FT   \n",
       "5          2020                Data Analyst      Entry                FT   \n",
       "6          2020         Lead Data Scientist     Senior                FT   \n",
       "7          2020              Data Scientist        Mid                FT   \n",
       "8          2020       Business Data Analyst        Mid                FT   \n",
       "9          2020          Lead Data Engineer     Senior                FT   \n",
       "\n",
       "  Employee_Location Company_Size  Remote_Working_Ratio      Job_Category  \\\n",
       "0                DE            L                     0      Data Science   \n",
       "1                JP            S                     0  Machine Learning   \n",
       "2                GB            M                    50  Data Engineering   \n",
       "3                HN            S                     0    Data Analytics   \n",
       "4                US            L                    50  Machine Learning   \n",
       "5                US            L                   100    Data Analytics   \n",
       "6                US            S                   100      Data Science   \n",
       "7                HU            L                    50      Data Science   \n",
       "8                US            L                   100    Data Analytics   \n",
       "9                NZ            S                    50  Data Engineering   \n",
       "\n",
       "   Salary_In_Rupees    Salary_USD  \n",
       "0        6352250.00   76227.00000  \n",
       "1       20688083.33  248256.99996  \n",
       "2        8675000.00  104100.00000  \n",
       "3        1591416.67   19097.00004  \n",
       "4       11935416.67  143225.00004  \n",
       "5        5729000.00   68748.00000  \n",
       "6       15118166.67  181418.00004  \n",
       "7        2843416.67   34121.00004  \n",
       "8       10741916.67  128903.00004  \n",
       "9        9946166.67  119354.00004  "
      ]
     },
     "execution_count": 61,
     "metadata": {},
     "output_type": "execute_result"
    }
   ],
   "source": [
    "# convert to float\n",
    "df_salary_rupees[\"Salary_In_Rupees\"] = df_salary_rupees[\"Salary_In_Rupees\"].astype(float)\n",
    "df_salary_rupees[\"Salary_USD\"] = df_salary_rupees[\"Salary_In_Rupees\"] * 0.012\n",
    "df_salary_rupees.head(10)  # close to values in video"
   ]
  },
  {
   "cell_type": "code",
   "execution_count": 62,
   "id": "a0660372-8d29-4e3c-9344-ddd5a2647418",
   "metadata": {},
   "outputs": [
    {
     "name": "stdout",
     "output_type": "stream",
     "text": [
      "<class 'pandas.core.series.Series'>\n"
     ]
    },
    {
     "data": {
      "text/plain": [
       "Company_Size\n",
       "L    113857.282831\n",
       "M    111625.328218\n",
       "S     74126.313254\n",
       "Name: Salary_USD, dtype: float64"
      ]
     },
     "execution_count": 62,
     "metadata": {},
     "output_type": "execute_result"
    }
   ],
   "source": [
    "# average salary by size of company\n",
    "sal_mean_by_size = df_salary_rupees.groupby(\"Company_Size\")[\"Salary_USD\"].mean()\n",
    "print(type(sal_mean_by_size))\n",
    "sal_mean_by_size"
   ]
  },
  {
   "cell_type": "code",
   "execution_count": 63,
   "id": "09fb2b71-d29b-409c-a484-cc63d9db42aa",
   "metadata": {},
   "outputs": [
    {
     "name": "stdout",
     "output_type": "stream",
     "text": [
      "<class 'pandas.core.series.Series'>\n"
     ]
    },
    {
     "data": {
      "text/plain": [
       "Experience\n",
       "Entry         42390.355187\n",
       "Executive    111783.576783\n",
       "Mid           61014.876758\n",
       "Senior        55086.264068\n",
       "Name: Salary_USD, dtype: float64"
      ]
     },
     "execution_count": 63,
     "metadata": {},
     "output_type": "execute_result"
    }
   ],
   "source": [
    "# create new column of std dev of Salary_USD, where values conditioned on Experience column\n",
    "sal_stddev_by_exp = df_salary_rupees.groupby(\"Experience\")[\"Salary_USD\"].std()\n",
    "print(type(sal_stddev_by_exp))\n",
    "sal_stddev_by_exp"
   ]
  },
  {
   "cell_type": "code",
   "execution_count": 64,
   "id": "bddf09a2-7729-4a9b-92d3-a78727aa7eb6",
   "metadata": {},
   "outputs": [
    {
     "data": {
      "text/html": [
       "<div>\n",
       "<style scoped>\n",
       "    .dataframe tbody tr th:only-of-type {\n",
       "        vertical-align: middle;\n",
       "    }\n",
       "\n",
       "    .dataframe tbody tr th {\n",
       "        vertical-align: top;\n",
       "    }\n",
       "\n",
       "    .dataframe thead th {\n",
       "        text-align: right;\n",
       "    }\n",
       "</style>\n",
       "<table border=\"1\" class=\"dataframe\">\n",
       "  <thead>\n",
       "    <tr style=\"text-align: right;\">\n",
       "      <th></th>\n",
       "      <th>Working_Year</th>\n",
       "      <th>Designation</th>\n",
       "      <th>Experience</th>\n",
       "      <th>Employment_Status</th>\n",
       "      <th>Employee_Location</th>\n",
       "      <th>Company_Size</th>\n",
       "      <th>Remote_Working_Ratio</th>\n",
       "      <th>Job_Category</th>\n",
       "      <th>Salary_In_Rupees</th>\n",
       "      <th>Salary_USD</th>\n",
       "      <th>Salary_USD_std</th>\n",
       "    </tr>\n",
       "  </thead>\n",
       "  <tbody>\n",
       "    <tr>\n",
       "      <th>0</th>\n",
       "      <td>2020</td>\n",
       "      <td>Data Scientist</td>\n",
       "      <td>Mid</td>\n",
       "      <td>FT</td>\n",
       "      <td>DE</td>\n",
       "      <td>L</td>\n",
       "      <td>0</td>\n",
       "      <td>Data Science</td>\n",
       "      <td>6352250.00</td>\n",
       "      <td>76227.00000</td>\n",
       "      <td>61014.876758</td>\n",
       "    </tr>\n",
       "    <tr>\n",
       "      <th>1</th>\n",
       "      <td>2020</td>\n",
       "      <td>Machine Learning Scientist</td>\n",
       "      <td>Senior</td>\n",
       "      <td>FT</td>\n",
       "      <td>JP</td>\n",
       "      <td>S</td>\n",
       "      <td>0</td>\n",
       "      <td>Machine Learning</td>\n",
       "      <td>20688083.33</td>\n",
       "      <td>248256.99996</td>\n",
       "      <td>55086.264068</td>\n",
       "    </tr>\n",
       "    <tr>\n",
       "      <th>2</th>\n",
       "      <td>2020</td>\n",
       "      <td>Big Data Engineer</td>\n",
       "      <td>Senior</td>\n",
       "      <td>FT</td>\n",
       "      <td>GB</td>\n",
       "      <td>M</td>\n",
       "      <td>50</td>\n",
       "      <td>Data Engineering</td>\n",
       "      <td>8675000.00</td>\n",
       "      <td>104100.00000</td>\n",
       "      <td>55086.264068</td>\n",
       "    </tr>\n",
       "    <tr>\n",
       "      <th>3</th>\n",
       "      <td>2020</td>\n",
       "      <td>Product Data Analyst</td>\n",
       "      <td>Mid</td>\n",
       "      <td>FT</td>\n",
       "      <td>HN</td>\n",
       "      <td>S</td>\n",
       "      <td>0</td>\n",
       "      <td>Data Analytics</td>\n",
       "      <td>1591416.67</td>\n",
       "      <td>19097.00004</td>\n",
       "      <td>61014.876758</td>\n",
       "    </tr>\n",
       "    <tr>\n",
       "      <th>4</th>\n",
       "      <td>2020</td>\n",
       "      <td>Machine Learning Engineer</td>\n",
       "      <td>Senior</td>\n",
       "      <td>FT</td>\n",
       "      <td>US</td>\n",
       "      <td>L</td>\n",
       "      <td>50</td>\n",
       "      <td>Machine Learning</td>\n",
       "      <td>11935416.67</td>\n",
       "      <td>143225.00004</td>\n",
       "      <td>55086.264068</td>\n",
       "    </tr>\n",
       "    <tr>\n",
       "      <th>5</th>\n",
       "      <td>2020</td>\n",
       "      <td>Data Analyst</td>\n",
       "      <td>Entry</td>\n",
       "      <td>FT</td>\n",
       "      <td>US</td>\n",
       "      <td>L</td>\n",
       "      <td>100</td>\n",
       "      <td>Data Analytics</td>\n",
       "      <td>5729000.00</td>\n",
       "      <td>68748.00000</td>\n",
       "      <td>42390.355187</td>\n",
       "    </tr>\n",
       "    <tr>\n",
       "      <th>6</th>\n",
       "      <td>2020</td>\n",
       "      <td>Lead Data Scientist</td>\n",
       "      <td>Senior</td>\n",
       "      <td>FT</td>\n",
       "      <td>US</td>\n",
       "      <td>S</td>\n",
       "      <td>100</td>\n",
       "      <td>Data Science</td>\n",
       "      <td>15118166.67</td>\n",
       "      <td>181418.00004</td>\n",
       "      <td>55086.264068</td>\n",
       "    </tr>\n",
       "    <tr>\n",
       "      <th>7</th>\n",
       "      <td>2020</td>\n",
       "      <td>Data Scientist</td>\n",
       "      <td>Mid</td>\n",
       "      <td>FT</td>\n",
       "      <td>HU</td>\n",
       "      <td>L</td>\n",
       "      <td>50</td>\n",
       "      <td>Data Science</td>\n",
       "      <td>2843416.67</td>\n",
       "      <td>34121.00004</td>\n",
       "      <td>61014.876758</td>\n",
       "    </tr>\n",
       "    <tr>\n",
       "      <th>8</th>\n",
       "      <td>2020</td>\n",
       "      <td>Business Data Analyst</td>\n",
       "      <td>Mid</td>\n",
       "      <td>FT</td>\n",
       "      <td>US</td>\n",
       "      <td>L</td>\n",
       "      <td>100</td>\n",
       "      <td>Data Analytics</td>\n",
       "      <td>10741916.67</td>\n",
       "      <td>128903.00004</td>\n",
       "      <td>61014.876758</td>\n",
       "    </tr>\n",
       "    <tr>\n",
       "      <th>9</th>\n",
       "      <td>2020</td>\n",
       "      <td>Lead Data Engineer</td>\n",
       "      <td>Senior</td>\n",
       "      <td>FT</td>\n",
       "      <td>NZ</td>\n",
       "      <td>S</td>\n",
       "      <td>50</td>\n",
       "      <td>Data Engineering</td>\n",
       "      <td>9946166.67</td>\n",
       "      <td>119354.00004</td>\n",
       "      <td>55086.264068</td>\n",
       "    </tr>\n",
       "  </tbody>\n",
       "</table>\n",
       "</div>"
      ],
      "text/plain": [
       "   Working_Year                 Designation Experience Employment_Status  \\\n",
       "0          2020              Data Scientist        Mid                FT   \n",
       "1          2020  Machine Learning Scientist     Senior                FT   \n",
       "2          2020           Big Data Engineer     Senior                FT   \n",
       "3          2020        Product Data Analyst        Mid                FT   \n",
       "4          2020   Machine Learning Engineer     Senior                FT   \n",
       "5          2020                Data Analyst      Entry                FT   \n",
       "6          2020         Lead Data Scientist     Senior                FT   \n",
       "7          2020              Data Scientist        Mid                FT   \n",
       "8          2020       Business Data Analyst        Mid                FT   \n",
       "9          2020          Lead Data Engineer     Senior                FT   \n",
       "\n",
       "  Employee_Location Company_Size  Remote_Working_Ratio      Job_Category  \\\n",
       "0                DE            L                     0      Data Science   \n",
       "1                JP            S                     0  Machine Learning   \n",
       "2                GB            M                    50  Data Engineering   \n",
       "3                HN            S                     0    Data Analytics   \n",
       "4                US            L                    50  Machine Learning   \n",
       "5                US            L                   100    Data Analytics   \n",
       "6                US            S                   100      Data Science   \n",
       "7                HU            L                    50      Data Science   \n",
       "8                US            L                   100    Data Analytics   \n",
       "9                NZ            S                    50  Data Engineering   \n",
       "\n",
       "   Salary_In_Rupees    Salary_USD  Salary_USD_std  \n",
       "0        6352250.00   76227.00000    61014.876758  \n",
       "1       20688083.33  248256.99996    55086.264068  \n",
       "2        8675000.00  104100.00000    55086.264068  \n",
       "3        1591416.67   19097.00004    61014.876758  \n",
       "4       11935416.67  143225.00004    55086.264068  \n",
       "5        5729000.00   68748.00000    42390.355187  \n",
       "6       15118166.67  181418.00004    55086.264068  \n",
       "7        2843416.67   34121.00004    61014.876758  \n",
       "8       10741916.67  128903.00004    61014.876758  \n",
       "9        9946166.67  119354.00004    55086.264068  "
      ]
     },
     "execution_count": 64,
     "metadata": {},
     "output_type": "execute_result"
    }
   ],
   "source": [
    "df_sal_with_sd = pd.merge(df_salary_rupees, sal_stddev_by_exp, how='inner', left_on=\"Experience\", right_index=True, suffixes=(None, '_std'))\n",
    "df_sal_with_sd.head(10)"
   ]
  },
  {
   "cell_type": "code",
   "execution_count": 65,
   "id": "6122ef46-1e7d-45b7-9ff9-a884ef105ff8",
   "metadata": {},
   "outputs": [
    {
     "data": {
      "text/html": [
       "<div>\n",
       "<style scoped>\n",
       "    .dataframe tbody tr th:only-of-type {\n",
       "        vertical-align: middle;\n",
       "    }\n",
       "\n",
       "    .dataframe tbody tr th {\n",
       "        vertical-align: top;\n",
       "    }\n",
       "\n",
       "    .dataframe thead th {\n",
       "        text-align: right;\n",
       "    }\n",
       "</style>\n",
       "<table border=\"1\" class=\"dataframe\">\n",
       "  <thead>\n",
       "    <tr style=\"text-align: right;\">\n",
       "      <th></th>\n",
       "      <th>Working_Year</th>\n",
       "      <th>Designation</th>\n",
       "      <th>Experience</th>\n",
       "      <th>Employment_Status</th>\n",
       "      <th>Employee_Location</th>\n",
       "      <th>Company_Size</th>\n",
       "      <th>Remote_Working_Ratio</th>\n",
       "      <th>Job_Category</th>\n",
       "      <th>Salary_In_Rupees</th>\n",
       "      <th>Salary_USD</th>\n",
       "      <th>std_dev</th>\n",
       "    </tr>\n",
       "  </thead>\n",
       "  <tbody>\n",
       "    <tr>\n",
       "      <th>0</th>\n",
       "      <td>2020</td>\n",
       "      <td>Data Scientist</td>\n",
       "      <td>Mid</td>\n",
       "      <td>FT</td>\n",
       "      <td>DE</td>\n",
       "      <td>L</td>\n",
       "      <td>0</td>\n",
       "      <td>Data Science</td>\n",
       "      <td>6352250.00</td>\n",
       "      <td>76227.00000</td>\n",
       "      <td>61014.876758</td>\n",
       "    </tr>\n",
       "    <tr>\n",
       "      <th>1</th>\n",
       "      <td>2020</td>\n",
       "      <td>Machine Learning Scientist</td>\n",
       "      <td>Senior</td>\n",
       "      <td>FT</td>\n",
       "      <td>JP</td>\n",
       "      <td>S</td>\n",
       "      <td>0</td>\n",
       "      <td>Machine Learning</td>\n",
       "      <td>20688083.33</td>\n",
       "      <td>248256.99996</td>\n",
       "      <td>55086.264068</td>\n",
       "    </tr>\n",
       "    <tr>\n",
       "      <th>2</th>\n",
       "      <td>2020</td>\n",
       "      <td>Big Data Engineer</td>\n",
       "      <td>Senior</td>\n",
       "      <td>FT</td>\n",
       "      <td>GB</td>\n",
       "      <td>M</td>\n",
       "      <td>50</td>\n",
       "      <td>Data Engineering</td>\n",
       "      <td>8675000.00</td>\n",
       "      <td>104100.00000</td>\n",
       "      <td>55086.264068</td>\n",
       "    </tr>\n",
       "    <tr>\n",
       "      <th>3</th>\n",
       "      <td>2020</td>\n",
       "      <td>Product Data Analyst</td>\n",
       "      <td>Mid</td>\n",
       "      <td>FT</td>\n",
       "      <td>HN</td>\n",
       "      <td>S</td>\n",
       "      <td>0</td>\n",
       "      <td>Data Analytics</td>\n",
       "      <td>1591416.67</td>\n",
       "      <td>19097.00004</td>\n",
       "      <td>61014.876758</td>\n",
       "    </tr>\n",
       "    <tr>\n",
       "      <th>4</th>\n",
       "      <td>2020</td>\n",
       "      <td>Machine Learning Engineer</td>\n",
       "      <td>Senior</td>\n",
       "      <td>FT</td>\n",
       "      <td>US</td>\n",
       "      <td>L</td>\n",
       "      <td>50</td>\n",
       "      <td>Machine Learning</td>\n",
       "      <td>11935416.67</td>\n",
       "      <td>143225.00004</td>\n",
       "      <td>55086.264068</td>\n",
       "    </tr>\n",
       "    <tr>\n",
       "      <th>5</th>\n",
       "      <td>2020</td>\n",
       "      <td>Data Analyst</td>\n",
       "      <td>Entry</td>\n",
       "      <td>FT</td>\n",
       "      <td>US</td>\n",
       "      <td>L</td>\n",
       "      <td>100</td>\n",
       "      <td>Data Analytics</td>\n",
       "      <td>5729000.00</td>\n",
       "      <td>68748.00000</td>\n",
       "      <td>42390.355187</td>\n",
       "    </tr>\n",
       "    <tr>\n",
       "      <th>6</th>\n",
       "      <td>2020</td>\n",
       "      <td>Lead Data Scientist</td>\n",
       "      <td>Senior</td>\n",
       "      <td>FT</td>\n",
       "      <td>US</td>\n",
       "      <td>S</td>\n",
       "      <td>100</td>\n",
       "      <td>Data Science</td>\n",
       "      <td>15118166.67</td>\n",
       "      <td>181418.00004</td>\n",
       "      <td>55086.264068</td>\n",
       "    </tr>\n",
       "    <tr>\n",
       "      <th>7</th>\n",
       "      <td>2020</td>\n",
       "      <td>Data Scientist</td>\n",
       "      <td>Mid</td>\n",
       "      <td>FT</td>\n",
       "      <td>HU</td>\n",
       "      <td>L</td>\n",
       "      <td>50</td>\n",
       "      <td>Data Science</td>\n",
       "      <td>2843416.67</td>\n",
       "      <td>34121.00004</td>\n",
       "      <td>61014.876758</td>\n",
       "    </tr>\n",
       "    <tr>\n",
       "      <th>8</th>\n",
       "      <td>2020</td>\n",
       "      <td>Business Data Analyst</td>\n",
       "      <td>Mid</td>\n",
       "      <td>FT</td>\n",
       "      <td>US</td>\n",
       "      <td>L</td>\n",
       "      <td>100</td>\n",
       "      <td>Data Analytics</td>\n",
       "      <td>10741916.67</td>\n",
       "      <td>128903.00004</td>\n",
       "      <td>61014.876758</td>\n",
       "    </tr>\n",
       "    <tr>\n",
       "      <th>9</th>\n",
       "      <td>2020</td>\n",
       "      <td>Lead Data Engineer</td>\n",
       "      <td>Senior</td>\n",
       "      <td>FT</td>\n",
       "      <td>NZ</td>\n",
       "      <td>S</td>\n",
       "      <td>50</td>\n",
       "      <td>Data Engineering</td>\n",
       "      <td>9946166.67</td>\n",
       "      <td>119354.00004</td>\n",
       "      <td>55086.264068</td>\n",
       "    </tr>\n",
       "  </tbody>\n",
       "</table>\n",
       "</div>"
      ],
      "text/plain": [
       "   Working_Year                 Designation Experience Employment_Status  \\\n",
       "0          2020              Data Scientist        Mid                FT   \n",
       "1          2020  Machine Learning Scientist     Senior                FT   \n",
       "2          2020           Big Data Engineer     Senior                FT   \n",
       "3          2020        Product Data Analyst        Mid                FT   \n",
       "4          2020   Machine Learning Engineer     Senior                FT   \n",
       "5          2020                Data Analyst      Entry                FT   \n",
       "6          2020         Lead Data Scientist     Senior                FT   \n",
       "7          2020              Data Scientist        Mid                FT   \n",
       "8          2020       Business Data Analyst        Mid                FT   \n",
       "9          2020          Lead Data Engineer     Senior                FT   \n",
       "\n",
       "  Employee_Location Company_Size  Remote_Working_Ratio      Job_Category  \\\n",
       "0                DE            L                     0      Data Science   \n",
       "1                JP            S                     0  Machine Learning   \n",
       "2                GB            M                    50  Data Engineering   \n",
       "3                HN            S                     0    Data Analytics   \n",
       "4                US            L                    50  Machine Learning   \n",
       "5                US            L                   100    Data Analytics   \n",
       "6                US            S                   100      Data Science   \n",
       "7                HU            L                    50      Data Science   \n",
       "8                US            L                   100    Data Analytics   \n",
       "9                NZ            S                    50  Data Engineering   \n",
       "\n",
       "   Salary_In_Rupees    Salary_USD       std_dev  \n",
       "0        6352250.00   76227.00000  61014.876758  \n",
       "1       20688083.33  248256.99996  55086.264068  \n",
       "2        8675000.00  104100.00000  55086.264068  \n",
       "3        1591416.67   19097.00004  61014.876758  \n",
       "4       11935416.67  143225.00004  55086.264068  \n",
       "5        5729000.00   68748.00000  42390.355187  \n",
       "6       15118166.67  181418.00004  55086.264068  \n",
       "7        2843416.67   34121.00004  61014.876758  \n",
       "8       10741916.67  128903.00004  61014.876758  \n",
       "9        9946166.67  119354.00004  55086.264068  "
      ]
     },
     "execution_count": 65,
     "metadata": {},
     "output_type": "execute_result"
    }
   ],
   "source": [
    "# another way to do the same thing\n",
    "df_salary_rupees[\"std_dev\"] = df_salary_rupees.groupby(\"Experience\")[\"Salary_USD\"].transform(lambda x: x.std())\n",
    "df_salary_rupees.head(10)"
   ]
  },
  {
   "cell_type": "code",
   "execution_count": 66,
   "id": "9fbb624d-2aca-4e44-802f-b651ec6e4061",
   "metadata": {},
   "outputs": [
    {
     "name": "stdout",
     "output_type": "stream",
     "text": [
      "Experience  std_dev      \n",
      "Senior      55086.264068     280\n",
      "Mid         61014.876758     213\n",
      "Entry       42390.355187      88\n",
      "Executive   111783.576783     26\n",
      "Name: count, dtype: int64\n"
     ]
    }
   ],
   "source": [
    "# counts of combinations of columns\n",
    "print(df_salary_rupees[[\"Experience\", \"std_dev\"]].value_counts())  # 4 because these 2 map 1:1"
   ]
  },
  {
   "cell_type": "code",
   "execution_count": 67,
   "id": "851e8138-0fbc-44a9-a311-3c5dbe5f8918",
   "metadata": {},
   "outputs": [
    {
     "data": {
      "text/html": [
       "<div>\n",
       "<style scoped>\n",
       "    .dataframe tbody tr th:only-of-type {\n",
       "        vertical-align: middle;\n",
       "    }\n",
       "\n",
       "    .dataframe tbody tr th {\n",
       "        vertical-align: top;\n",
       "    }\n",
       "\n",
       "    .dataframe thead th {\n",
       "        text-align: right;\n",
       "    }\n",
       "</style>\n",
       "<table border=\"1\" class=\"dataframe\">\n",
       "  <thead>\n",
       "    <tr style=\"text-align: right;\">\n",
       "      <th></th>\n",
       "      <th>Working_Year</th>\n",
       "      <th>Designation</th>\n",
       "      <th>Experience</th>\n",
       "      <th>Employment_Status</th>\n",
       "      <th>Employee_Location</th>\n",
       "      <th>Company_Size</th>\n",
       "      <th>Remote_Working_Ratio</th>\n",
       "      <th>Job_Category</th>\n",
       "      <th>Salary_In_Rupees</th>\n",
       "      <th>Salary_USD</th>\n",
       "      <th>std_dev</th>\n",
       "      <th>median_by_comp_size</th>\n",
       "    </tr>\n",
       "  </thead>\n",
       "  <tbody>\n",
       "    <tr>\n",
       "      <th>0</th>\n",
       "      <td>2020</td>\n",
       "      <td>Data Scientist</td>\n",
       "      <td>Mid</td>\n",
       "      <td>FT</td>\n",
       "      <td>DE</td>\n",
       "      <td>L</td>\n",
       "      <td>0</td>\n",
       "      <td>Data Science</td>\n",
       "      <td>6352250.00</td>\n",
       "      <td>76227.00000</td>\n",
       "      <td>61014.876758</td>\n",
       "      <td>95483.00004</td>\n",
       "    </tr>\n",
       "    <tr>\n",
       "      <th>1</th>\n",
       "      <td>2020</td>\n",
       "      <td>Machine Learning Scientist</td>\n",
       "      <td>Senior</td>\n",
       "      <td>FT</td>\n",
       "      <td>JP</td>\n",
       "      <td>S</td>\n",
       "      <td>0</td>\n",
       "      <td>Machine Learning</td>\n",
       "      <td>20688083.33</td>\n",
       "      <td>248256.99996</td>\n",
       "      <td>55086.264068</td>\n",
       "      <td>62064.00000</td>\n",
       "    </tr>\n",
       "    <tr>\n",
       "      <th>2</th>\n",
       "      <td>2020</td>\n",
       "      <td>Big Data Engineer</td>\n",
       "      <td>Senior</td>\n",
       "      <td>FT</td>\n",
       "      <td>GB</td>\n",
       "      <td>M</td>\n",
       "      <td>50</td>\n",
       "      <td>Data Engineering</td>\n",
       "      <td>8675000.00</td>\n",
       "      <td>104100.00000</td>\n",
       "      <td>55086.264068</td>\n",
       "      <td>108076.00002</td>\n",
       "    </tr>\n",
       "    <tr>\n",
       "      <th>3</th>\n",
       "      <td>2020</td>\n",
       "      <td>Product Data Analyst</td>\n",
       "      <td>Mid</td>\n",
       "      <td>FT</td>\n",
       "      <td>HN</td>\n",
       "      <td>S</td>\n",
       "      <td>0</td>\n",
       "      <td>Data Analytics</td>\n",
       "      <td>1591416.67</td>\n",
       "      <td>19097.00004</td>\n",
       "      <td>61014.876758</td>\n",
       "      <td>62064.00000</td>\n",
       "    </tr>\n",
       "    <tr>\n",
       "      <th>4</th>\n",
       "      <td>2020</td>\n",
       "      <td>Machine Learning Engineer</td>\n",
       "      <td>Senior</td>\n",
       "      <td>FT</td>\n",
       "      <td>US</td>\n",
       "      <td>L</td>\n",
       "      <td>50</td>\n",
       "      <td>Machine Learning</td>\n",
       "      <td>11935416.67</td>\n",
       "      <td>143225.00004</td>\n",
       "      <td>55086.264068</td>\n",
       "      <td>95483.00004</td>\n",
       "    </tr>\n",
       "  </tbody>\n",
       "</table>\n",
       "</div>"
      ],
      "text/plain": [
       "   Working_Year                 Designation Experience Employment_Status  \\\n",
       "0          2020              Data Scientist        Mid                FT   \n",
       "1          2020  Machine Learning Scientist     Senior                FT   \n",
       "2          2020           Big Data Engineer     Senior                FT   \n",
       "3          2020        Product Data Analyst        Mid                FT   \n",
       "4          2020   Machine Learning Engineer     Senior                FT   \n",
       "\n",
       "  Employee_Location Company_Size  Remote_Working_Ratio      Job_Category  \\\n",
       "0                DE            L                     0      Data Science   \n",
       "1                JP            S                     0  Machine Learning   \n",
       "2                GB            M                    50  Data Engineering   \n",
       "3                HN            S                     0    Data Analytics   \n",
       "4                US            L                    50  Machine Learning   \n",
       "\n",
       "   Salary_In_Rupees    Salary_USD       std_dev  median_by_comp_size  \n",
       "0        6352250.00   76227.00000  61014.876758          95483.00004  \n",
       "1       20688083.33  248256.99996  55086.264068          62064.00000  \n",
       "2        8675000.00  104100.00000  55086.264068         108076.00002  \n",
       "3        1591416.67   19097.00004  61014.876758          62064.00000  \n",
       "4       11935416.67  143225.00004  55086.264068          95483.00004  "
      ]
     },
     "execution_count": 67,
     "metadata": {},
     "output_type": "execute_result"
    }
   ],
   "source": [
    "# something similar - company size for example\n",
    "df_salary_rupees[\"median_by_comp_size\"] = df_salary_rupees.groupby(\"Company_Size\") \\\n",
    "                                          [\"Salary_USD\"].transform(lambda x: x.median())\n",
    "df_salary_rupees.head(5)"
   ]
  },
  {
   "attachments": {},
   "cell_type": "markdown",
   "id": "95aa8724-1352-4a25-8e21-5ac4bab2d012",
   "metadata": {},
   "source": [
    "## Cleaning the flight data\n",
    "\n",
    "The data used in the following exercise is not provide. In this case, the `Duration` column in the exercise is in the format `1234.567h`. In the data provided, this column is formatted as `12h 34m`. So to follow along with the exercise, we first created two columns `duration_h` and `duration_m` which we'll use to create a column called `Duration_h_float` which is in the format of what is shown in the exercise.\n",
    "\n",
    "### A few important notes\n",
    "\n",
    "Since all rows with missing duration values were removed in cell 38, don't need to worry about this. However, some duration values only have a value for **hours** (e.g. `h`) so we need to handle cases were the minutes are missing. In addition, there appears to be one record with only **minutes** designated as shown in **cell 52 above**. The first thing we'll do is drop this row because the duration is obviously incorrect because a 5 minute flight is not likely and instances of the same route range from around 4hrs to 12hrs.\n"
   ]
  },
  {
   "cell_type": "code",
   "execution_count": 68,
   "id": "9771704b-8fd7-43cb-98e7-dd8d4cb4a898",
   "metadata": {},
   "outputs": [
    {
     "name": "stdout",
     "output_type": "stream",
     "text": [
      "row count BEFORE removal: 8508\n",
      "row count AFTER removal: 8507\n"
     ]
    }
   ],
   "source": [
    "# remove 5 min flight with the filter created in cell 52\n",
    "print(f\"row count BEFORE removal: {df_planes.shape[0]}\")\n",
    "df_planes_cleaned = df_planes.loc[only_m == False].copy()\n",
    "print(f\"row count AFTER removal: {df_planes_cleaned.shape[0]}\")  # problematic row is now gone\n",
    "# df_planes_cleaned.to_csv('./data/cleaned_planes.csv')"
   ]
  },
  {
   "cell_type": "code",
   "execution_count": 69,
   "id": "ebe0da67-bc45-4cc1-b1d6-72e050757b48",
   "metadata": {},
   "outputs": [
    {
     "name": "stdout",
     "output_type": "stream",
     "text": [
      "14\n",
      "0\n",
      "33\n"
     ]
    }
   ],
   "source": [
    "# write function we can pass to apply in order to parse the duration column\n",
    "def parse_m(s):\n",
    "    return_m = 0\n",
    "    raw_parse = s.split(\"h\")\n",
    "    # if minutes are specified, remove the m and convert to in\n",
    "    if len(raw_parse) > 1:\n",
    "        try:\n",
    "            return_m = int(raw_parse[1].replace(\"m\", \"\"))\n",
    "        except ValueError:\n",
    "            return_m = 0\n",
    "            \n",
    "    # if no minutes specified, return the default 0\n",
    "    return(int(return_m))\n",
    "\n",
    "# test\n",
    "some_strings = [\"12h 14m\", \"9h\", \"2h 33m\"]\n",
    "for s in some_strings:\n",
    "    print(parse_m(s))"
   ]
  },
  {
   "cell_type": "code",
   "execution_count": 70,
   "id": "7deb92a2-2fd6-45be-8159-947b978e2397",
   "metadata": {},
   "outputs": [
    {
     "name": "stdout",
     "output_type": "stream",
     "text": [
      "12\n",
      "9\n",
      "2\n"
     ]
    }
   ],
   "source": [
    "def parse_h(s):\n",
    "    \n",
    "    parsed_str = s.split(\"h\")\n",
    "    return(int(parsed_str[0]))\n",
    "\n",
    "# test\n",
    "for s in some_strings:\n",
    "    print(parse_h(s))"
   ]
  },
  {
   "cell_type": "code",
   "execution_count": 71,
   "id": "78c7867e-aa2c-4c9f-b14d-17ef3bb68769",
   "metadata": {},
   "outputs": [
    {
     "data": {
      "text/html": [
       "<div>\n",
       "<style scoped>\n",
       "    .dataframe tbody tr th:only-of-type {\n",
       "        vertical-align: middle;\n",
       "    }\n",
       "\n",
       "    .dataframe tbody tr th {\n",
       "        vertical-align: top;\n",
       "    }\n",
       "\n",
       "    .dataframe thead th {\n",
       "        text-align: right;\n",
       "    }\n",
       "</style>\n",
       "<table border=\"1\" class=\"dataframe\">\n",
       "  <thead>\n",
       "    <tr style=\"text-align: right;\">\n",
       "      <th></th>\n",
       "      <th>Airline</th>\n",
       "      <th>Date_of_Journey</th>\n",
       "      <th>Source</th>\n",
       "      <th>Destination</th>\n",
       "      <th>Route</th>\n",
       "      <th>Dep_Time</th>\n",
       "      <th>Arrival_Time</th>\n",
       "      <th>Duration</th>\n",
       "      <th>Total_Stops</th>\n",
       "      <th>Additional_Info</th>\n",
       "      <th>Price</th>\n",
       "      <th>Duration_Category</th>\n",
       "      <th>Duration_h</th>\n",
       "    </tr>\n",
       "  </thead>\n",
       "  <tbody>\n",
       "    <tr>\n",
       "      <th>0</th>\n",
       "      <td>Jet Airways</td>\n",
       "      <td>9/06/2019</td>\n",
       "      <td>Delhi</td>\n",
       "      <td>Cochin</td>\n",
       "      <td>DEL → LKO → BOM → COK</td>\n",
       "      <td>09:25</td>\n",
       "      <td>04:25 10 Jun</td>\n",
       "      <td>19h</td>\n",
       "      <td>2 stops</td>\n",
       "      <td>No info</td>\n",
       "      <td>13882.0</td>\n",
       "      <td>Extreme duration</td>\n",
       "      <td>19.0h</td>\n",
       "    </tr>\n",
       "    <tr>\n",
       "      <th>1</th>\n",
       "      <td>IndiGo</td>\n",
       "      <td>12/05/2019</td>\n",
       "      <td>Kolkata</td>\n",
       "      <td>Banglore</td>\n",
       "      <td>CCU → NAG → BLR</td>\n",
       "      <td>18:05</td>\n",
       "      <td>23:30</td>\n",
       "      <td>5h 25m</td>\n",
       "      <td>1 stop</td>\n",
       "      <td>No info</td>\n",
       "      <td>6218.0</td>\n",
       "      <td>Medium</td>\n",
       "      <td>5.416666666666667h</td>\n",
       "    </tr>\n",
       "    <tr>\n",
       "      <th>2</th>\n",
       "      <td>IndiGo</td>\n",
       "      <td>01/03/2019</td>\n",
       "      <td>Banglore</td>\n",
       "      <td>New Delhi</td>\n",
       "      <td>BLR → NAG → DEL</td>\n",
       "      <td>16:50</td>\n",
       "      <td>21:35</td>\n",
       "      <td>4h 45m</td>\n",
       "      <td>1 stop</td>\n",
       "      <td>No info</td>\n",
       "      <td>13302.0</td>\n",
       "      <td>Short-haul</td>\n",
       "      <td>4.75h</td>\n",
       "    </tr>\n",
       "    <tr>\n",
       "      <th>3</th>\n",
       "      <td>SpiceJet</td>\n",
       "      <td>24/06/2019</td>\n",
       "      <td>Kolkata</td>\n",
       "      <td>Banglore</td>\n",
       "      <td>CCU → BLR</td>\n",
       "      <td>09:00</td>\n",
       "      <td>11:25</td>\n",
       "      <td>2h 25m</td>\n",
       "      <td>non-stop</td>\n",
       "      <td>No info</td>\n",
       "      <td>3873.0</td>\n",
       "      <td>Short-haul</td>\n",
       "      <td>2.4166666666666665h</td>\n",
       "    </tr>\n",
       "    <tr>\n",
       "      <th>4</th>\n",
       "      <td>Jet Airways</td>\n",
       "      <td>12/03/2019</td>\n",
       "      <td>Banglore</td>\n",
       "      <td>New Delhi</td>\n",
       "      <td>BLR → BOM → DEL</td>\n",
       "      <td>18:55</td>\n",
       "      <td>10:25 13 Mar</td>\n",
       "      <td>15h 30m</td>\n",
       "      <td>1 stop</td>\n",
       "      <td>In-flight meal not included</td>\n",
       "      <td>11087.0</td>\n",
       "      <td>Long-haul</td>\n",
       "      <td>15.5h</td>\n",
       "    </tr>\n",
       "    <tr>\n",
       "      <th>5</th>\n",
       "      <td>Jet Airways</td>\n",
       "      <td>01/03/2019</td>\n",
       "      <td>Banglore</td>\n",
       "      <td>New Delhi</td>\n",
       "      <td>BLR → BOM → DEL</td>\n",
       "      <td>08:00</td>\n",
       "      <td>05:05 02 Mar</td>\n",
       "      <td>21h 5m</td>\n",
       "      <td>1 stop</td>\n",
       "      <td>No info</td>\n",
       "      <td>22270.0</td>\n",
       "      <td>Extreme duration</td>\n",
       "      <td>21.083333333333332h</td>\n",
       "    </tr>\n",
       "    <tr>\n",
       "      <th>6</th>\n",
       "      <td>Jet Airways</td>\n",
       "      <td>12/03/2019</td>\n",
       "      <td>Banglore</td>\n",
       "      <td>New Delhi</td>\n",
       "      <td>BLR → BOM → DEL</td>\n",
       "      <td>08:55</td>\n",
       "      <td>10:25 13 Mar</td>\n",
       "      <td>25h 30m</td>\n",
       "      <td>1 stop</td>\n",
       "      <td>In-flight meal not included</td>\n",
       "      <td>11087.0</td>\n",
       "      <td>Extreme duration</td>\n",
       "      <td>25.5h</td>\n",
       "    </tr>\n",
       "    <tr>\n",
       "      <th>7</th>\n",
       "      <td>Multiple carriers</td>\n",
       "      <td>27/05/2019</td>\n",
       "      <td>Delhi</td>\n",
       "      <td>Cochin</td>\n",
       "      <td>DEL → BOM → COK</td>\n",
       "      <td>11:25</td>\n",
       "      <td>19:15</td>\n",
       "      <td>7h 50m</td>\n",
       "      <td>1 stop</td>\n",
       "      <td>No info</td>\n",
       "      <td>8625.0</td>\n",
       "      <td>Medium</td>\n",
       "      <td>7.833333333333333h</td>\n",
       "    </tr>\n",
       "    <tr>\n",
       "      <th>8</th>\n",
       "      <td>Air India</td>\n",
       "      <td>1/06/2019</td>\n",
       "      <td>Delhi</td>\n",
       "      <td>Cochin</td>\n",
       "      <td>DEL → BLR → COK</td>\n",
       "      <td>09:45</td>\n",
       "      <td>23:00</td>\n",
       "      <td>13h 15m</td>\n",
       "      <td>1 stop</td>\n",
       "      <td>No info</td>\n",
       "      <td>8907.0</td>\n",
       "      <td>Long-haul</td>\n",
       "      <td>13.25h</td>\n",
       "    </tr>\n",
       "    <tr>\n",
       "      <th>9</th>\n",
       "      <td>IndiGo</td>\n",
       "      <td>18/04/2019</td>\n",
       "      <td>Kolkata</td>\n",
       "      <td>Banglore</td>\n",
       "      <td>CCU → BLR</td>\n",
       "      <td>20:20</td>\n",
       "      <td>22:55</td>\n",
       "      <td>2h 35m</td>\n",
       "      <td>non-stop</td>\n",
       "      <td>No info</td>\n",
       "      <td>4174.0</td>\n",
       "      <td>Short-haul</td>\n",
       "      <td>2.5833333333333335h</td>\n",
       "    </tr>\n",
       "  </tbody>\n",
       "</table>\n",
       "</div>"
      ],
      "text/plain": [
       "             Airline Date_of_Journey    Source Destination  \\\n",
       "0        Jet Airways       9/06/2019     Delhi      Cochin   \n",
       "1             IndiGo      12/05/2019   Kolkata    Banglore   \n",
       "2             IndiGo      01/03/2019  Banglore   New Delhi   \n",
       "3           SpiceJet      24/06/2019   Kolkata    Banglore   \n",
       "4        Jet Airways      12/03/2019  Banglore   New Delhi   \n",
       "5        Jet Airways      01/03/2019  Banglore   New Delhi   \n",
       "6        Jet Airways      12/03/2019  Banglore   New Delhi   \n",
       "7  Multiple carriers      27/05/2019     Delhi      Cochin   \n",
       "8          Air India       1/06/2019     Delhi      Cochin   \n",
       "9             IndiGo      18/04/2019   Kolkata    Banglore   \n",
       "\n",
       "                   Route Dep_Time  Arrival_Time Duration Total_Stops  \\\n",
       "0  DEL → LKO → BOM → COK    09:25  04:25 10 Jun      19h     2 stops   \n",
       "1        CCU → NAG → BLR    18:05         23:30   5h 25m      1 stop   \n",
       "2        BLR → NAG → DEL    16:50         21:35   4h 45m      1 stop   \n",
       "3              CCU → BLR    09:00         11:25   2h 25m    non-stop   \n",
       "4        BLR → BOM → DEL    18:55  10:25 13 Mar  15h 30m      1 stop   \n",
       "5        BLR → BOM → DEL    08:00  05:05 02 Mar   21h 5m      1 stop   \n",
       "6        BLR → BOM → DEL    08:55  10:25 13 Mar  25h 30m      1 stop   \n",
       "7        DEL → BOM → COK    11:25         19:15   7h 50m      1 stop   \n",
       "8        DEL → BLR → COK    09:45         23:00  13h 15m      1 stop   \n",
       "9              CCU → BLR    20:20         22:55   2h 35m    non-stop   \n",
       "\n",
       "               Additional_Info    Price Duration_Category           Duration_h  \n",
       "0                      No info  13882.0  Extreme duration                19.0h  \n",
       "1                      No info   6218.0            Medium   5.416666666666667h  \n",
       "2                      No info  13302.0        Short-haul                4.75h  \n",
       "3                      No info   3873.0        Short-haul  2.4166666666666665h  \n",
       "4  In-flight meal not included  11087.0         Long-haul                15.5h  \n",
       "5                      No info  22270.0  Extreme duration  21.083333333333332h  \n",
       "6  In-flight meal not included  11087.0  Extreme duration                25.5h  \n",
       "7                      No info   8625.0            Medium   7.833333333333333h  \n",
       "8                      No info   8907.0         Long-haul               13.25h  \n",
       "9                      No info   4174.0        Short-haul  2.5833333333333335h  "
      ]
     },
     "execution_count": 71,
     "metadata": {},
     "output_type": "execute_result"
    }
   ],
   "source": [
    "# create separate hours and minutes columns\n",
    "df_planes_cleaned[\"Duration_h_int\"] = df_planes_cleaned[\"Duration\"].apply(parse_h)\n",
    "df_planes_cleaned[\"Duration_m_int\"] = df_planes_cleaned[\"Duration\"].apply(parse_m)\n",
    "df_planes_cleaned[\"Duration_h_float\"] = df_planes_cleaned[\"Duration_h_int\"] + (df_planes_cleaned[\"Duration_m_int\"] / 60.)\n",
    "df_planes_cleaned[\"Duration_h\"] = df_planes_cleaned[\"Duration_h_float\"].astype(str) + \"h\"\n",
    "# drop the columns used for the calculations\n",
    "df_planes_cleaned.drop(columns=[\"Duration_h_int\", \"Duration_m_int\", \"Duration_h_float\"], inplace=True)\n",
    "df_planes_cleaned.head(10)"
   ]
  },
  {
   "cell_type": "markdown",
   "id": "02328172-0322-4692-809e-9be995539781",
   "metadata": {},
   "source": [
    "## Duration is now in the form to do the exercise..."
   ]
  },
  {
   "cell_type": "code",
   "execution_count": 72,
   "id": "c416cbbe-aaea-4a08-b628-22d5e60ccca4",
   "metadata": {},
   "outputs": [
    {
     "name": "stdout",
     "output_type": "stream",
     "text": [
      "0                  19.0h\n",
      "1     5.416666666666667h\n",
      "2                  4.75h\n",
      "3    2.4166666666666665h\n",
      "4                  15.5h\n",
      "Name: Duration_h, dtype: object\n"
     ]
    },
    {
     "data": {
      "image/png": "[encoded data removed]",
      "text/plain": [
       "<Figure size 640x480 with 1 Axes>"
      ]
     },
     "metadata": {},
     "output_type": "display_data"
    }
   ],
   "source": [
    "# Preview the column\n",
    "print(df_planes_cleaned[\"Duration_h\"].head())\n",
    "\n",
    "# Remove the string character and overwrite existing Duration column\n",
    "df_planes_cleaned[\"Duration\"] = df_planes_cleaned[\"Duration_h\"].astype(str).str.replace(\"h\", \"\")\n",
    "\n",
    "# Convert to float data type\n",
    "df_planes_cleaned[\"Duration\"] = df_planes_cleaned[\"Duration\"].astype(float)\n",
    "\n",
    "# Plot a histogram\n",
    "sns.histplot(data=df_planes_cleaned, x=\"Duration\")\n",
    "plt.show()"
   ]
  },
  {
   "cell_type": "code",
   "execution_count": 73,
   "id": "96c52305-5f88-47eb-8541-b3d926abd7f3",
   "metadata": {},
   "outputs": [
    {
     "name": "stdout",
     "output_type": "stream",
     "text": [
      "Airline            airline_price_st_dev\n",
      "Jet Airways        4159.846432             3082\n",
      "IndiGo             2245.529140             1632\n",
      "Air India          3693.930002             1398\n",
      "Multiple carriers  3558.323763              959\n",
      "SpiceJet           1798.900648              653\n",
      "Vistara            2888.915498              376\n",
      "Air Asia           1979.826234              260\n",
      "GoAir              2764.926625              147\n",
      "Name: count, dtype: int64\n"
     ]
    }
   ],
   "source": [
    "# Price standard deviation by Airline\n",
    "df_planes_cleaned[\"airline_price_st_dev\"] = df_planes_cleaned.groupby(\"Airline\")[\"Price\"].transform(lambda x: x.std())\n",
    "\n",
    "print(df_planes_cleaned[[\"Airline\", \"airline_price_st_dev\"]].value_counts())"
   ]
  },
  {
   "cell_type": "code",
   "execution_count": 74,
   "id": "ec0b5354-af79-423a-9610-c85cb64d9d94",
   "metadata": {},
   "outputs": [
    {
     "name": "stdout",
     "output_type": "stream",
     "text": [
      "Airline            airline_median_duration\n",
      "Jet Airways        13.333333                  3082\n",
      "IndiGo             2.916667                   1632\n",
      "Air India          15.708333                  1398\n",
      "Multiple carriers  10.250000                   959\n",
      "SpiceJet           2.500000                    653\n",
      "Vistara            3.166667                    376\n",
      "Air Asia           2.833333                    260\n",
      "GoAir              2.916667                    147\n",
      "Name: count, dtype: int64\n"
     ]
    }
   ],
   "source": [
    "# Median Duration by Airline\n",
    "df_planes_cleaned[\"airline_median_duration\"] = df_planes_cleaned.groupby(\"Airline\")[\"Duration\"].transform(lambda x: x.median())\n",
    "\n",
    "print(df_planes_cleaned[[\"Airline\",\"airline_median_duration\"]].value_counts())"
   ]
  },
  {
   "cell_type": "code",
   "execution_count": 75,
   "id": "7a4a0b56-be56-40cf-9b61-086153b82868",
   "metadata": {},
   "outputs": [
    {
     "name": "stdout",
     "output_type": "stream",
     "text": [
      "Destination  price_destination_mean\n",
      "Cochin       10473.585927              3631\n",
      "Banglore     9093.622872               2291\n",
      "Delhi        5248.541082                998\n",
      "New Delhi    11579.306944               720\n",
      "Hyderabad    5182.693405                561\n",
      "Kolkata      4907.156863                306\n",
      "Name: count, dtype: int64\n"
     ]
    }
   ],
   "source": [
    "# Mean Price by Destination\n",
    "df_planes_cleaned[\"price_destination_mean\"] = df_planes_cleaned.groupby(\"Destination\")[\"Price\"].transform(lambda x: x.mean())\n",
    "\n",
    "print(df_planes_cleaned[[\"Destination\",\"price_destination_mean\"]].value_counts())"
   ]
  },
  {
   "cell_type": "markdown",
   "id": "33b8138e-701f-446c-859d-6639f7f34c01",
   "metadata": {},
   "source": [
    "## Identifying outliers"
   ]
  },
  {
   "cell_type": "code",
   "execution_count": 76,
   "id": "9f72bcaa-5f0c-4373-85ee-d8441a5c5f81",
   "metadata": {},
   "outputs": [
    {
     "data": {
      "image/png": "[encoded data removed]",
      "text/plain": [
       "<Figure size 640x480 with 1 Axes>"
      ]
     },
     "metadata": {},
     "output_type": "display_data"
    }
   ],
   "source": [
    "# Plot a histogram of flight prices\n",
    "sns.histplot(data=df_planes_cleaned, x=\"Price\")\n",
    "plt.show()"
   ]
  },
  {
   "cell_type": "code",
   "execution_count": 77,
   "id": "2ac2f695-8ae6-4b52-acd7-dfbc18c646bd",
   "metadata": {},
   "outputs": [
    {
     "data": {
      "text/plain": [
       "count                    8507\n",
       "unique                    361\n",
       "top       2.8333333333333335h\n",
       "freq                      425\n",
       "Name: Duration_h, dtype: object"
      ]
     },
     "execution_count": 77,
     "metadata": {},
     "output_type": "execute_result"
    }
   ],
   "source": [
    "# Display descriptive statistics for flight duration\n",
    "df_planes_cleaned[\"Duration_h\"].describe()"
   ]
  },
  {
   "cell_type": "markdown",
   "id": "a213f06f-a42c-4574-8ca1-762c514d54ae",
   "metadata": {},
   "source": [
    "## Which columns have outliers: Price, Duration, Both, Neither?\n",
    "\n",
    "<code>\n",
    "In [2]: planes[\"Duration\"].describe()\n",
    "Out[2]:\n",
    "\n",
    "count    10446.000\n",
    "mean        10.724\n",
    "std          8.472\n",
    "min          0.083\n",
    "25%          2.833\n",
    "50%          8.667\n",
    "75%         15.500\n",
    "max         47.667\n",
    "Name: Duration, dtype: float64\n",
    "\n",
    "\n",
    "In [3]: planes[\"Price\"].describe()\n",
    "Out[3]:\n",
    "\n",
    "count    10044.000\n",
    "mean      9044.411\n",
    "std       4472.305\n",
    "min       1759.000\n",
    "25%       5276.750\n",
    "50%       8366.000\n",
    "75%      12373.000\n",
    "max      54826.000\n",
    "Name: Price, dtype: float64\n",
    "</code>\n",
    "\n",
    "From the cell below, looks like **both**"
   ]
  },
  {
   "cell_type": "code",
   "execution_count": 78,
   "id": "b003b3f1-0599-4cef-bd54-a6065e400a2f",
   "metadata": {},
   "outputs": [
    {
     "name": "stdout",
     "output_type": "stream",
     "text": [
      "DURATION upper outlier bound = 34.5005\n",
      "DURATION lower outlier bound = -16.167499999999997\n",
      "PRICE upper outlier bound = 23017.375\n",
      "PRICE lower outlier bound = -5367.625\n"
     ]
    }
   ],
   "source": [
    "# first compute IRQ: 75th %ile - 25th %ile\n",
    "irq_duration = 15.500 - 2.833\n",
    "irq_price = 12373.000 - 5276.750\n",
    "\n",
    "outlier_upper_duration = 15.500 + (1.5 * irq_duration)\n",
    "outlier_lower_duration = 2.833 - (1.5 * irq_duration)\n",
    "\n",
    "outlier_upper_price = 12373 + (1.5 * irq_price)\n",
    "outlier_lower_price =  5276.750 - (1.5 * irq_price)\n",
    "\n",
    "print(f\"DURATION upper outlier bound = {outlier_upper_duration}\")\n",
    "print(f\"DURATION lower outlier bound = {outlier_lower_duration}\")\n",
    "\n",
    "print(f\"PRICE upper outlier bound = {outlier_upper_price}\")\n",
    "print(f\"PRICE lower outlier bound = {outlier_lower_price}\")"
   ]
  },
  {
   "cell_type": "code",
   "execution_count": 79,
   "id": "a5dc45c6-8396-4cab-ab6f-70406dfc158e",
   "metadata": {},
   "outputs": [
    {
     "name": "stdout",
     "output_type": "stream",
     "text": [
      "count     8437.000000\n",
      "mean      8877.399016\n",
      "std       4002.070680\n",
      "min       1759.000000\n",
      "25%       5224.000000\n",
      "50%       8372.000000\n",
      "75%      12121.000000\n",
      "max      22270.000000\n",
      "Name: Price, dtype: float64\n"
     ]
    }
   ],
   "source": [
    "# repeat on our cleaned data\n",
    "# Find the 75th and 25th percentiles\n",
    "price_seventy_fifth = df_planes_cleaned[\"Price\"].quantile(0.75)\n",
    "price_twenty_fifth = df_planes_cleaned[\"Price\"].quantile(0.25)\n",
    "\n",
    "# Calculate iqr\n",
    "prices_iqr = price_seventy_fifth - price_twenty_fifth\n",
    "\n",
    "# Calculate the thresholds\n",
    "upper = price_seventy_fifth + (1.5 * prices_iqr)\n",
    "lower = price_twenty_fifth - (1.5 * prices_iqr)\n",
    "\n",
    "# Subset the data\n",
    "df_planes_clean_no_outliers = df_planes_cleaned[(df_planes_cleaned[\"Price\"] > lower) & (df_planes_cleaned[\"Price\"] < upper)]\n",
    "\n",
    "print(df_planes_clean_no_outliers[\"Price\"].describe())"
   ]
  },
  {
   "cell_type": "markdown",
   "id": "9f570bb8-9ec0-4f7f-83d2-ebd0ff7b1c1c",
   "metadata": {},
   "source": [
    "## Trends over time - looking at divorce data"
   ]
  },
  {
   "cell_type": "code",
   "execution_count": 80,
   "id": "da9b10cd-8001-46d2-9e5e-b15c42ac2798",
   "metadata": {},
   "outputs": [
    {
     "name": "stdout",
     "output_type": "stream",
     "text": [
      "divorce_date         datetime64[ns]\n",
      "dob_man              datetime64[ns]\n",
      "education_man                object\n",
      "income_man                  float64\n",
      "dob_woman            datetime64[ns]\n",
      "education_woman              object\n",
      "income_woman                float64\n",
      "marriage_date        datetime64[ns]\n",
      "marriage_duration           float64\n",
      "num_kids                    float64\n",
      "dtype: object\n"
     ]
    }
   ],
   "source": [
    "# specify the columns that should be treated as dates\n",
    "df_divorce = pd.read_csv(\"./data/divorce.csv\", parse_dates= [\"divorce_date\", \"dob_man\", \"dob_woman\", \"marriage_date\"])\n",
    "print(df_divorce.dtypes)"
   ]
  },
  {
   "cell_type": "code",
   "execution_count": 81,
   "id": "a1b46916-a299-425d-8b1d-fda0d6a2518c",
   "metadata": {},
   "outputs": [
    {
     "name": "stdout",
     "output_type": "stream",
     "text": [
      "divorce_date         datetime64[ns]\n",
      "dob_man              datetime64[ns]\n",
      "education_man                object\n",
      "income_man                  float64\n",
      "dob_woman            datetime64[ns]\n",
      "education_woman              object\n",
      "income_woman                float64\n",
      "marriage_date                object\n",
      "marriage_duration           float64\n",
      "num_kids                    float64\n",
      "dtype: object\n"
     ]
    }
   ],
   "source": [
    "# say we overlooked a column that should be a date...\n",
    "df_divorce = pd.read_csv(\"./data/divorce.csv\", parse_dates= [\"divorce_date\", \"dob_man\", \"dob_woman\"])\n",
    "print(df_divorce.dtypes)"
   ]
  },
  {
   "cell_type": "code",
   "execution_count": 82,
   "id": "2d6eeaea-14cc-4592-a45c-fbe8f67ea18b",
   "metadata": {},
   "outputs": [
    {
     "name": "stdout",
     "output_type": "stream",
     "text": [
      "divorce_date         datetime64[ns]\n",
      "dob_man              datetime64[ns]\n",
      "education_man                object\n",
      "income_man                  float64\n",
      "dob_woman            datetime64[ns]\n",
      "education_woman              object\n",
      "income_woman                float64\n",
      "marriage_date        datetime64[ns]\n",
      "marriage_duration           float64\n",
      "num_kids                    float64\n",
      "dtype: object\n"
     ]
    }
   ],
   "source": [
    "# convert the overlooked column\n",
    "df_divorce[\"marriage_date\"] = pd.to_datetime(df_divorce[\"marriage_date\"])\n",
    "print(df_divorce.dtypes)"
   ]
  },
  {
   "cell_type": "code",
   "execution_count": 83,
   "id": "1f39b3d3-e8f4-4c50-87b8-7597c5a4d55b",
   "metadata": {},
   "outputs": [
    {
     "data": {
      "text/plain": [
       "<Axes: xlabel='marriage_year', ylabel='num_kids'>"
      ]
     },
     "execution_count": 83,
     "metadata": {},
     "output_type": "execute_result"
    },
    {
     "data": {
      "image/png": "[encoded data removed]",
      "text/plain": [
       "<Figure size 640x480 with 1 Axes>"
      ]
     },
     "metadata": {},
     "output_type": "display_data"
    }
   ],
   "source": [
    "# Define the marriage_year column\n",
    "df_divorce[\"marriage_year\"] = df_divorce[\"marriage_date\"].dt.year\n",
    "sns.lineplot(data=df_divorce, x=\"marriage_year\", y=\"num_kids\")"
   ]
  },
  {
   "cell_type": "markdown",
   "id": "d19ed8b8-fc9f-4eab-a934-195ff2f4eee1",
   "metadata": {},
   "source": [
    "## Stronger correlation between year of marriage and duration than number of children "
   ]
  },
  {
   "cell_type": "code",
   "execution_count": 90,
   "id": "bb09d9f6-abc5-4d2e-bc9f-bd9c0051a5eb",
   "metadata": {},
   "outputs": [
    {
     "data": {
      "image/png": "[encoded data removed]",
      "text/plain": [
       "<Figure size 700x350 with 2 Axes>"
      ]
     },
     "metadata": {},
     "output_type": "display_data"
    }
   ],
   "source": [
    "# https://www.tutorialspoint.com/how-to-plot-two-seaborn-lmplots-side-by-side-matplotlib\n",
    "plt.rcParams[\"figure.figsize\"] = [7.00, 3.50]\n",
    "plt.rcParams[\"figure.autolayout\"] = True\n",
    "fig, ax = plt.subplots(1, 2)\n",
    "sns.lineplot(data=df_divorce, x=\"marriage_year\", y=\"num_kids\", ax=ax[0])\n",
    "sns.lineplot(data=df_divorce, x=\"marriage_year\", y=\"marriage_duration\", ax=ax[1])\n",
    "plt.show()"
   ]
  },
  {
   "cell_type": "markdown",
   "id": "750bad46-5e3d-4726-a485-d2d023e1070a",
   "metadata": {},
   "source": [
    "## Correlation between pairs of variables\n",
    "\n",
    "[`dataframe.corr(method='pearson', min_periods=1, numeric_only=False)`](https://pandas.pydata.org/pandas-docs/stable/reference/api/pandas.DataFrame.corr.html)\n",
    "\n",
    "The course demos an example under an older version of pandas where the default value for the `numeric_only` parameter was set `True` which I thought was a sensible choice. However, as of pandas `2.0.0`, this default was changed to `False`. Not sure what motivated this choice, but it is what it is..."
   ]
  },
  {
   "cell_type": "code",
   "execution_count": 84,
   "id": "90954421-b6e6-497e-bd09-556a52df3df0",
   "metadata": {},
   "outputs": [
    {
     "data": {
      "text/html": [
       "<div>\n",
       "<style scoped>\n",
       "    .dataframe tbody tr th:only-of-type {\n",
       "        vertical-align: middle;\n",
       "    }\n",
       "\n",
       "    .dataframe tbody tr th {\n",
       "        vertical-align: top;\n",
       "    }\n",
       "\n",
       "    .dataframe thead th {\n",
       "        text-align: right;\n",
       "    }\n",
       "</style>\n",
       "<table border=\"1\" class=\"dataframe\">\n",
       "  <thead>\n",
       "    <tr style=\"text-align: right;\">\n",
       "      <th></th>\n",
       "      <th>income_man</th>\n",
       "      <th>income_woman</th>\n",
       "      <th>marriage_duration</th>\n",
       "      <th>num_kids</th>\n",
       "      <th>marriage_year</th>\n",
       "    </tr>\n",
       "  </thead>\n",
       "  <tbody>\n",
       "    <tr>\n",
       "      <th>income_man</th>\n",
       "      <td>1.000000</td>\n",
       "      <td>0.318047</td>\n",
       "      <td>0.085321</td>\n",
       "      <td>0.040848</td>\n",
       "      <td>0.019170</td>\n",
       "    </tr>\n",
       "    <tr>\n",
       "      <th>income_woman</th>\n",
       "      <td>0.318047</td>\n",
       "      <td>1.000000</td>\n",
       "      <td>0.078677</td>\n",
       "      <td>-0.018015</td>\n",
       "      <td>0.026433</td>\n",
       "    </tr>\n",
       "    <tr>\n",
       "      <th>marriage_duration</th>\n",
       "      <td>0.085321</td>\n",
       "      <td>0.078677</td>\n",
       "      <td>1.000000</td>\n",
       "      <td>0.447358</td>\n",
       "      <td>-0.812469</td>\n",
       "    </tr>\n",
       "    <tr>\n",
       "      <th>num_kids</th>\n",
       "      <td>0.040848</td>\n",
       "      <td>-0.018015</td>\n",
       "      <td>0.447358</td>\n",
       "      <td>1.000000</td>\n",
       "      <td>-0.461495</td>\n",
       "    </tr>\n",
       "    <tr>\n",
       "      <th>marriage_year</th>\n",
       "      <td>0.019170</td>\n",
       "      <td>0.026433</td>\n",
       "      <td>-0.812469</td>\n",
       "      <td>-0.461495</td>\n",
       "      <td>1.000000</td>\n",
       "    </tr>\n",
       "  </tbody>\n",
       "</table>\n",
       "</div>"
      ],
      "text/plain": [
       "                   income_man  income_woman  marriage_duration  num_kids  \\\n",
       "income_man           1.000000      0.318047           0.085321  0.040848   \n",
       "income_woman         0.318047      1.000000           0.078677 -0.018015   \n",
       "marriage_duration    0.085321      0.078677           1.000000  0.447358   \n",
       "num_kids             0.040848     -0.018015           0.447358  1.000000   \n",
       "marriage_year        0.019170      0.026433          -0.812469 -0.461495   \n",
       "\n",
       "                   marriage_year  \n",
       "income_man              0.019170  \n",
       "income_woman            0.026433  \n",
       "marriage_duration      -0.812469  \n",
       "num_kids               -0.461495  \n",
       "marriage_year           1.000000  "
      ]
     },
     "execution_count": 84,
     "metadata": {},
     "output_type": "execute_result"
    }
   ],
   "source": [
    "df_divorce.corr(numeric_only=True)  # need to pass numeric_only=True because default in newer versions of pandas = False (which doesn't make sense to me...)"
   ]
  },
  {
   "cell_type": "code",
   "execution_count": 87,
   "id": "351e692d-c7c5-4295-9d9e-4c6d22a6a0f0",
   "metadata": {},
   "outputs": [
    {
     "data": {
      "image/png": "[encoded data removed]",
      "text/plain": [
       "<Figure size 640x480 with 2 Axes>"
      ]
     },
     "metadata": {},
     "output_type": "display_data"
    }
   ],
   "source": [
    "sns.heatmap(df_divorce.corr(numeric_only=True), annot=True)  # annot=True adds the value for each cell\n",
    "plt.show()"
   ]
  },
  {
   "cell_type": "code",
   "execution_count": null,
   "id": "3f182781-fd51-4c09-b423-7ba3433fc3a6",
   "metadata": {},
   "outputs": [],
   "source": []
  },
  {
   "cell_type": "code",
   "execution_count": null,
   "id": "aae167f0-ec96-44e6-b39d-caa93a2c4874",
   "metadata": {},
   "outputs": [],
   "source": []
  },
  {
   "cell_type": "code",
   "execution_count": null,
   "id": "11cca9e5-3a64-40ba-9033-98f387972280",
   "metadata": {},
   "outputs": [],
   "source": []
  },
  {
   "cell_type": "code",
   "execution_count": null,
   "id": "aed5914b-4d03-4c29-a893-ab42c08a9f4e",
   "metadata": {},
   "outputs": [],
   "source": []
  },
  {
   "cell_type": "code",
   "execution_count": null,
   "id": "3a483142-ad24-4bf5-b73a-66489653856d",
   "metadata": {},
   "outputs": [],
   "source": []
  },
  {
   "cell_type": "code",
   "execution_count": null,
   "id": "cb38cc33-f08b-4f73-a183-5598e1cdbccc",
   "metadata": {},
   "outputs": [],
   "source": []
  },
  {
   "cell_type": "code",
   "execution_count": null,
   "id": "a41050c7-a4e4-4c1a-aa84-be552f7eb1e5",
   "metadata": {},
   "outputs": [],
   "source": []
  }
 ],
 "metadata": {
  "kernelspec": {
   "display_name": "Python 3 (ipykernel)",
   "language": "python",
   "name": "python3"
  },
  "language_info": {
   "codemirror_mode": {
    "name": "ipython",
    "version": 3
   },
   "file_extension": ".py",
   "mimetype": "text/x-python",
   "name": "python",
   "nbconvert_exporter": "python",
   "pygments_lexer": "ipython3",
   "version": "3.11.6"
  }
 },
 "nbformat": 4,
 "nbformat_minor": 5
}
