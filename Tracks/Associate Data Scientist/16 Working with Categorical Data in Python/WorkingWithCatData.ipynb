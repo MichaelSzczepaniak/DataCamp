{
 "cells": [
  {
   "cell_type": "markdown",
   "id": "9b552f37-e8d1-45a5-9ee6-b91245649be6",
   "metadata": {},
   "source": [
    "## Working with categorical data\n",
    "\n",
    "https://app.datacamp.com/learn/courses/working-with-categorical-data-in-python\n",
    "\n",
    "\n"
   ]
  },
  {
   "cell_type": "code",
   "execution_count": 1,
   "id": "c8e70228-56c1-47cd-8829-7ba24e4f2f73",
   "metadata": {},
   "outputs": [
    {
     "name": "stdout",
     "output_type": "stream",
     "text": [
      "<class 'pandas.core.frame.DataFrame'>\n",
      "RangeIndex: 32561 entries, 0 to 32560\n",
      "Data columns (total 15 columns):\n",
      " #   Column           Non-Null Count  Dtype \n",
      "---  ------           --------------  ----- \n",
      " 0   Age              32561 non-null  int64 \n",
      " 1   Workclass        32561 non-null  object\n",
      " 2   fnlgwt           32561 non-null  int64 \n",
      " 3   Education        32561 non-null  object\n",
      " 4   Education Num    32561 non-null  int64 \n",
      " 5   Marital Status   32561 non-null  object\n",
      " 6   Occupation       32561 non-null  object\n",
      " 7   Relationship     32561 non-null  object\n",
      " 8   Race             32561 non-null  object\n",
      " 9   Sex              32561 non-null  object\n",
      " 10  Capital Gain     32561 non-null  int64 \n",
      " 11  Capital Loss     32561 non-null  int64 \n",
      " 12  Hours/Week       32561 non-null  int64 \n",
      " 13  Country          32561 non-null  object\n",
      " 14  Above/Below 50k  32561 non-null  object\n",
      "dtypes: int64(6), object(9)\n",
      "memory usage: 3.7+ MB\n"
     ]
    }
   ],
   "source": [
    "import pandas as pd\n",
    "import numpy as np\n",
    "\n",
    "df_adults = pd.read_csv('./data/adult.csv')\n",
    "df_adults.info()"
   ]
  },
  {
   "cell_type": "code",
   "execution_count": 2,
   "id": "58454967-8c7d-4cfc-a220-05f948180a1b",
   "metadata": {},
   "outputs": [
    {
     "data": {
      "text/plain": [
       "count                   32561\n",
       "unique                      7\n",
       "top        Married-civ-spouse\n",
       "freq                    14976\n",
       "Name: Marital Status, dtype: object"
      ]
     },
     "execution_count": 2,
     "metadata": {},
     "output_type": "execute_result"
    }
   ],
   "source": [
    "df_adults[\"Marital Status\"].describe()  # 7 levels/cat's"
   ]
  },
  {
   "cell_type": "code",
   "execution_count": 3,
   "id": "34a8d1d9-0b29-4b0c-9276-b01928c96d10",
   "metadata": {},
   "outputs": [
    {
     "data": {
      "text/plain": [
       "Marital Status\n",
       "Married-civ-spouse       14976\n",
       "Never-married            10683\n",
       "Divorced                  4443\n",
       "Separated                 1025\n",
       "Widowed                    993\n",
       "Married-spouse-absent      418\n",
       "Married-AF-spouse           23\n",
       "Name: count, dtype: int64"
      ]
     },
     "execution_count": 3,
     "metadata": {},
     "output_type": "execute_result"
    }
   ],
   "source": [
    "df_adults[\"Marital Status\"].value_counts()  # raw counts per level"
   ]
  },
  {
   "cell_type": "code",
   "execution_count": 4,
   "id": "8892b322-0257-4aef-bd34-febc071d0b22",
   "metadata": {},
   "outputs": [
    {
     "data": {
      "text/plain": [
       "Marital Status\n",
       "Married-civ-spouse       0.459937\n",
       "Never-married            0.328092\n",
       "Divorced                 0.136452\n",
       "Separated                0.031479\n",
       "Widowed                  0.030497\n",
       "Married-spouse-absent    0.012837\n",
       "Married-AF-spouse        0.000706\n",
       "Name: proportion, dtype: float64"
      ]
     },
     "execution_count": 4,
     "metadata": {},
     "output_type": "execute_result"
    }
   ],
   "source": [
    "df_adults[\"Marital Status\"].value_counts(normalize=True)  # relative frequencies"
   ]
  },
  {
   "cell_type": "code",
   "execution_count": 5,
   "id": "35a1935a-bfb4-43c6-bfd4-0c317b75ae4a",
   "metadata": {},
   "outputs": [
    {
     "name": "stdout",
     "output_type": "stream",
     "text": [
      "count      32561\n",
      "unique         2\n",
      "top        <=50K\n",
      "freq       24720\n",
      "Name: Above/Below 50k, dtype: object \n",
      "\n",
      "Above/Below 50k\n",
      "<=50K    24720\n",
      ">50K      7841\n",
      "Name: count, dtype: int64 \n",
      "\n",
      "Above/Below 50k\n",
      "<=50K    0.75919\n",
      ">50K     0.24081\n",
      "Name: proportion, dtype: float64\n"
     ]
    }
   ],
   "source": [
    "# Explore the Above/Below 50k variable\n",
    "print(df_adults[\"Above/Below 50k\"].describe(), \"\\n\")\n",
    "\n",
    "# Print a frequency table of \"Above/Below 50k\"\n",
    "print(df_adults[\"Above/Below 50k\"].value_counts(), \"\\n\")\n",
    "\n",
    "# Print relative frequency values\n",
    "print(df_adults[\"Above/Below 50k\"].value_counts(normalize=True))"
   ]
  },
  {
   "cell_type": "code",
   "execution_count": 6,
   "id": "769b8a42-e171-4f30-8fc6-0b41fd9f5887",
   "metadata": {},
   "outputs": [
    {
     "data": {
      "text/plain": [
       "Age                 int64\n",
       "Workclass          object\n",
       "fnlgwt              int64\n",
       "Education          object\n",
       "Education Num       int64\n",
       "Marital Status     object\n",
       "Occupation         object\n",
       "Relationship       object\n",
       "Race               object\n",
       "Sex                object\n",
       "Capital Gain        int64\n",
       "Capital Loss        int64\n",
       "Hours/Week          int64\n",
       "Country            object\n",
       "Above/Below 50k    object\n",
       "dtype: object"
      ]
     },
     "execution_count": 6,
     "metadata": {},
     "output_type": "execute_result"
    }
   ],
   "source": [
    "df_adults.dtypes"
   ]
  },
  {
   "cell_type": "code",
   "execution_count": 7,
   "id": "96657caf-1845-4e2a-92af-3bd8484b440a",
   "metadata": {},
   "outputs": [
    {
     "name": "stdout",
     "output_type": "stream",
     "text": [
      "object\n",
      "260488\n"
     ]
    }
   ],
   "source": [
    "print(df_adults[\"Marital Status\"].dtype)  # NOTE sigular dtype because working with a series (not a dataframe), 'O' = object\n",
    "print(df_adults[\"Marital Status\"].nbytes)  #"
   ]
  },
  {
   "cell_type": "code",
   "execution_count": 8,
   "id": "a8e530da-19b9-4e28-9844-ceb8353332db",
   "metadata": {},
   "outputs": [
    {
     "name": "stdout",
     "output_type": "stream",
     "text": [
      "category\n",
      "32617\n"
     ]
    }
   ],
   "source": [
    "# convert to categorical type\n",
    "df_adults[\"Marital Status\"] = df_adults[\"Marital Status\"].astype(\"category\")\n",
    "print(df_adults[\"Marital Status\"].dtype)  # displayes the levels\n",
    "                                          # \"ordered=False\" because no order has been specified\n",
    "print(df_adults[\"Marital Status\"].nbytes)  # big memor savings! 260488 >> 32617"
   ]
  },
  {
   "cell_type": "markdown",
   "id": "3e0486fa-6a9e-4d76-925f-8ab2260b119b",
   "metadata": {},
   "source": [
    "## Creating a Categorical Series\n",
    "\n",
    "+ series that do **NOT** have a logical order\n",
    "+ series that **DO** have a logical order\n",
    "\n",
    "## Why use Categorical dtype?\n",
    "\n",
    "+ big memory saver - compare previous 2 cells above\n",
    "\n",
    "## Best practice of setting dtypes\n",
    "\n",
    "If you know the `dtype` of the columns you are reading in advance, it is best practice to specify them in the read."
   ]
  },
  {
   "cell_type": "code",
   "execution_count": 9,
   "id": "0a8e4c8a-d308-4be0-86b0-fbd21bd83fb5",
   "metadata": {},
   "outputs": [
    {
     "name": "stdout",
     "output_type": "stream",
     "text": [
      "0    A\n",
      "1    A\n",
      "2    C\n",
      "3    B\n",
      "4    C\n",
      "5    A\n",
      "dtype: category\n",
      "Categories (3, object): ['A', 'B', 'C']\n"
     ]
    }
   ],
   "source": [
    "my_data = [\"A\", \"A\", \"C\", \"B\", \"C\", \"A\"]\n",
    "# if series does not have a logical order\n",
    "my_series1 = pd.Series(my_data, dtype=\"category\")\n",
    "print(my_series1)"
   ]
  },
  {
   "cell_type": "code",
   "execution_count": 10,
   "id": "dbf2b702-5de7-459c-98b3-4cd66ca45a33",
   "metadata": {},
   "outputs": [
    {
     "name": "stdout",
     "output_type": "stream",
     "text": [
      "['A', 'A', 'C', 'B', 'C', 'A']\n",
      "Categories (3, object): ['C' < 'B' < 'A']\n"
     ]
    }
   ],
   "source": [
    "# if series does have a logical order (ordinal)\n",
    "my_series2 = pd.Categorical(my_data, categories=[\"C\", \"B\", \"A\"], ordered=True)  # lowest to highest: 'C' < 'B' < 'A'\n",
    "print(my_series2)"
   ]
  },
  {
   "cell_type": "code",
   "execution_count": 11,
   "id": "d3c7ec05-e026-4743-98d1-91b4d09e181d",
   "metadata": {},
   "outputs": [
    {
     "name": "stdout",
     "output_type": "stream",
     "text": [
      "category\n"
     ]
    }
   ],
   "source": [
    "# specify dtype if you know in advance\n",
    "adult_types = {\"Marital Status\" : \"category\"}\n",
    "df_adult = pd.read_csv(\"./data/adult.csv\", dtype=adult_types)\n",
    "print(df_adult[\"Marital Status\"].dtype)"
   ]
  },
  {
   "cell_type": "markdown",
   "id": "5c7ee50e-ae3c-49c9-bbfb-5d35f5d65f0e",
   "metadata": {},
   "source": [
    "## Grouping data by category\n",
    "\n",
    "<code>\n",
    "adult = pd.read_csv(\"data/adult.csv\")\n",
    "\n",
    "adult1 = adult[adult[\"Above/Below 50k\"] == \" <=50K\"] \n",
    "adult2 = adult[adult[\"Above/Below 50k\"] == \" >50K\"]\n",
    "</code>\n",
    "\n",
    "The last two lines can replace by a one-liner using `group_by`"
   ]
  },
  {
   "cell_type": "code",
   "execution_count": 12,
   "id": "518b253e-bde3-4ed3-92d3-79880e6037b1",
   "metadata": {},
   "outputs": [
    {
     "data": {
      "text/html": [
       "<div>\n",
       "<style scoped>\n",
       "    .dataframe tbody tr th:only-of-type {\n",
       "        vertical-align: middle;\n",
       "    }\n",
       "\n",
       "    .dataframe tbody tr th {\n",
       "        vertical-align: top;\n",
       "    }\n",
       "\n",
       "    .dataframe thead th {\n",
       "        text-align: right;\n",
       "    }\n",
       "</style>\n",
       "<table border=\"1\" class=\"dataframe\">\n",
       "  <thead>\n",
       "    <tr style=\"text-align: right;\">\n",
       "      <th></th>\n",
       "      <th>Age</th>\n",
       "      <th>fnlgwt</th>\n",
       "      <th>Education Num</th>\n",
       "      <th>Capital Gain</th>\n",
       "      <th>Capital Loss</th>\n",
       "      <th>Hours/Week</th>\n",
       "    </tr>\n",
       "    <tr>\n",
       "      <th>Above/Below 50k</th>\n",
       "      <th></th>\n",
       "      <th></th>\n",
       "      <th></th>\n",
       "      <th></th>\n",
       "      <th></th>\n",
       "      <th></th>\n",
       "    </tr>\n",
       "  </thead>\n",
       "  <tbody>\n",
       "    <tr>\n",
       "      <th>&lt;=50K</th>\n",
       "      <td>36.783738</td>\n",
       "      <td>190340.86517</td>\n",
       "      <td>9.595065</td>\n",
       "      <td>148.752468</td>\n",
       "      <td>53.142921</td>\n",
       "      <td>38.840210</td>\n",
       "    </tr>\n",
       "    <tr>\n",
       "      <th>&gt;50K</th>\n",
       "      <td>44.249841</td>\n",
       "      <td>188005.00000</td>\n",
       "      <td>11.611657</td>\n",
       "      <td>4006.142456</td>\n",
       "      <td>195.001530</td>\n",
       "      <td>45.473026</td>\n",
       "    </tr>\n",
       "  </tbody>\n",
       "</table>\n",
       "</div>"
      ],
      "text/plain": [
       "                       Age        fnlgwt  Education Num  Capital Gain  \\\n",
       "Above/Below 50k                                                         \n",
       "<=50K            36.783738  190340.86517       9.595065    148.752468   \n",
       ">50K             44.249841  188005.00000      11.611657   4006.142456   \n",
       "\n",
       "                 Capital Loss  Hours/Week  \n",
       "Above/Below 50k                            \n",
       "<=50K               53.142921   38.840210  \n",
       ">50K               195.001530   45.473026  "
      ]
     },
     "execution_count": 12,
     "metadata": {},
     "output_type": "execute_result"
    }
   ],
   "source": [
    "groupby_object = df_adult.groupby(by=[\"Above/Below 50k\"])\n",
    "\n",
    "groupby_object.mean(numeric_only=True)  # remember to specify numeric_only parameter (course code is incorrect for newer versions of pandas)"
   ]
  },
  {
   "cell_type": "code",
   "execution_count": 13,
   "id": "da445ef7-0891-4bc7-88f2-470e12da6fa8",
   "metadata": {},
   "outputs": [
    {
     "data": {
      "text/html": [
       "<div>\n",
       "<style scoped>\n",
       "    .dataframe tbody tr th:only-of-type {\n",
       "        vertical-align: middle;\n",
       "    }\n",
       "\n",
       "    .dataframe tbody tr th {\n",
       "        vertical-align: top;\n",
       "    }\n",
       "\n",
       "    .dataframe thead th {\n",
       "        text-align: right;\n",
       "    }\n",
       "</style>\n",
       "<table border=\"1\" class=\"dataframe\">\n",
       "  <thead>\n",
       "    <tr style=\"text-align: right;\">\n",
       "      <th></th>\n",
       "      <th>Age</th>\n",
       "      <th>Education Num</th>\n",
       "    </tr>\n",
       "    <tr>\n",
       "      <th>Above/Below 50k</th>\n",
       "      <th></th>\n",
       "      <th></th>\n",
       "    </tr>\n",
       "  </thead>\n",
       "  <tbody>\n",
       "    <tr>\n",
       "      <th>&lt;=50K</th>\n",
       "      <td>24720</td>\n",
       "      <td>24720</td>\n",
       "    </tr>\n",
       "    <tr>\n",
       "      <th>&gt;50K</th>\n",
       "      <td>7841</td>\n",
       "      <td>7841</td>\n",
       "    </tr>\n",
       "  </tbody>\n",
       "</table>\n",
       "</div>"
      ],
      "text/plain": [
       "                   Age  Education Num\n",
       "Above/Below 50k                      \n",
       "<=50K            24720          24720\n",
       ">50K              7841           7841"
      ]
     },
     "execution_count": 13,
     "metadata": {},
     "output_type": "execute_result"
    }
   ],
   "source": [
    "df_adult.groupby(by=[\"Above/Below 50k\"])[['Age', 'Education Num']].count()"
   ]
  },
  {
   "cell_type": "code",
   "execution_count": 14,
   "id": "25120c1c-df13-4f00-bea4-6e46fa8e09d3",
   "metadata": {},
   "outputs": [
    {
     "data": {
      "text/html": [
       "<div>\n",
       "<style scoped>\n",
       "    .dataframe tbody tr th:only-of-type {\n",
       "        vertical-align: middle;\n",
       "    }\n",
       "\n",
       "    .dataframe tbody tr th {\n",
       "        vertical-align: top;\n",
       "    }\n",
       "\n",
       "    .dataframe thead th {\n",
       "        text-align: right;\n",
       "    }\n",
       "</style>\n",
       "<table border=\"1\" class=\"dataframe\">\n",
       "  <thead>\n",
       "    <tr style=\"text-align: right;\">\n",
       "      <th></th>\n",
       "      <th>Age</th>\n",
       "      <th>Education Num</th>\n",
       "    </tr>\n",
       "    <tr>\n",
       "      <th>Above/Below 50k</th>\n",
       "      <th></th>\n",
       "      <th></th>\n",
       "    </tr>\n",
       "  </thead>\n",
       "  <tbody>\n",
       "    <tr>\n",
       "      <th>&lt;=50K</th>\n",
       "      <td>909294</td>\n",
       "      <td>237190</td>\n",
       "    </tr>\n",
       "    <tr>\n",
       "      <th>&gt;50K</th>\n",
       "      <td>346963</td>\n",
       "      <td>91047</td>\n",
       "    </tr>\n",
       "  </tbody>\n",
       "</table>\n",
       "</div>"
      ],
      "text/plain": [
       "                    Age  Education Num\n",
       "Above/Below 50k                       \n",
       "<=50K            909294         237190\n",
       ">50K             346963          91047"
      ]
     },
     "execution_count": 14,
     "metadata": {},
     "output_type": "execute_result"
    }
   ],
   "source": [
    "# option 1: specify column, especially on large datasets (course code is incorrect for newer versions of pandas)\n",
    "df_adult.groupby(by=[\"Above/Below 50k\"])[['Age', 'Education Num']].sum()"
   ]
  },
  {
   "cell_type": "code",
   "execution_count": 15,
   "id": "4dfa1045-d934-4213-b034-7b8d99ab2c74",
   "metadata": {},
   "outputs": [
    {
     "data": {
      "text/html": [
       "<div>\n",
       "<style scoped>\n",
       "    .dataframe tbody tr th:only-of-type {\n",
       "        vertical-align: middle;\n",
       "    }\n",
       "\n",
       "    .dataframe tbody tr th {\n",
       "        vertical-align: top;\n",
       "    }\n",
       "\n",
       "    .dataframe thead th {\n",
       "        text-align: right;\n",
       "    }\n",
       "</style>\n",
       "<table border=\"1\" class=\"dataframe\">\n",
       "  <thead>\n",
       "    <tr style=\"text-align: right;\">\n",
       "      <th></th>\n",
       "      <th>Age</th>\n",
       "      <th>Education Num</th>\n",
       "    </tr>\n",
       "    <tr>\n",
       "      <th>Above/Below 50k</th>\n",
       "      <th></th>\n",
       "      <th></th>\n",
       "    </tr>\n",
       "  </thead>\n",
       "  <tbody>\n",
       "    <tr>\n",
       "      <th>&lt;=50K</th>\n",
       "      <td>909294</td>\n",
       "      <td>237190</td>\n",
       "    </tr>\n",
       "    <tr>\n",
       "      <th>&gt;50K</th>\n",
       "      <td>346963</td>\n",
       "      <td>91047</td>\n",
       "    </tr>\n",
       "  </tbody>\n",
       "</table>\n",
       "</div>"
      ],
      "text/plain": [
       "                    Age  Education Num\n",
       "Above/Below 50k                       \n",
       "<=50K            909294         237190\n",
       ">50K             346963          91047"
      ]
     },
     "execution_count": 15,
     "metadata": {},
     "output_type": "execute_result"
    }
   ],
   "source": [
    "# option 2: course code leaves out \"numeric_only=True\"\n",
    "df_adult.groupby(by=[\"Above/Below 50k\"]).sum(numeric_only=True)[['Age', 'Education Num']] "
   ]
  },
  {
   "cell_type": "markdown",
   "id": "ccfd61c9-b4be-4ef3-ad0e-08934cf97373",
   "metadata": {},
   "source": [
    "## Be mindful of the order of calculation\n",
    "\n",
    "In the above 2 examples, option 1 tends to be much faster because with option 2, you're doing the computation on all columns and then displaying the 2 you want (`Age` and `Education Num`). With option 1, you are calculating on just the columns you want to display.\n",
    "\n",
    "## Groupby on multiple columns\n",
    "\n",
    "Specifying more than one column to `group_by` creates groups with all the combination of the specified columns, so be careful here as well."
   ]
  },
  {
   "cell_type": "code",
   "execution_count": 16,
   "id": "074ebaa9-5c92-4fda-bb12-f61ea09d0e13",
   "metadata": {},
   "outputs": [
    {
     "data": {
      "text/plain": [
       "Above/Below 50k  Marital Status       \n",
       "<=50K            Divorced                  3980\n",
       "                 Married-AF-spouse           13\n",
       "                 Married-civ-spouse        8284\n",
       "                 Married-spouse-absent      384\n",
       "                 Never-married            10192\n",
       "                 Separated                  959\n",
       "                 Widowed                    908\n",
       ">50K             Divorced                   463\n",
       "                 Married-AF-spouse           10\n",
       "                 Married-civ-spouse        6692\n",
       "                 Married-spouse-absent       34\n",
       "                 Never-married              491\n",
       "                 Separated                   66\n",
       "                 Widowed                     85\n",
       "dtype: int64"
      ]
     },
     "execution_count": 16,
     "metadata": {},
     "output_type": "execute_result"
    }
   ],
   "source": [
    "df_adult.groupby(by=[\"Above/Below 50k\", \"Marital Status\"], observed=False).size()  # looks like all combinations are observed\n",
    "# NOTICE:  Married-AF-spouse only had 10 instances!"
   ]
  },
  {
   "cell_type": "markdown",
   "id": "62cd4c4c-b07f-4fdc-933c-3ea2d981cb70",
   "metadata": {},
   "source": [
    "## "
   ]
  },
  {
   "cell_type": "code",
   "execution_count": 17,
   "id": "4d64b964-2a1e-4733-8041-aae5169fe059",
   "metadata": {},
   "outputs": [
    {
     "name": "stdout",
     "output_type": "stream",
     "text": [
      "Sex     Above/Below 50k\n",
      "Female  <=50K               9592\n",
      "        >50K                1179\n",
      "Male    <=50K              15128\n",
      "        >50K                6662\n",
      "dtype: int64\n"
     ]
    }
   ],
   "source": [
    "# Group the adult dataset by \"Sex\" and \"Above/Below 50k\"\n",
    "gb = df_adult.groupby(by=[\"Sex\", \"Above/Below 50k\"])\n",
    "\n",
    "# Print out how many rows are in each created group\n",
    "print(gb.size())"
   ]
  },
  {
   "cell_type": "code",
   "execution_count": 18,
   "id": "e6afbaaf-e607-409a-9996-9345e31c73bd",
   "metadata": {},
   "outputs": [
    {
     "data": {
      "text/html": [
       "<div>\n",
       "<style scoped>\n",
       "    .dataframe tbody tr th:only-of-type {\n",
       "        vertical-align: middle;\n",
       "    }\n",
       "\n",
       "    .dataframe tbody tr th {\n",
       "        vertical-align: top;\n",
       "    }\n",
       "\n",
       "    .dataframe thead th {\n",
       "        text-align: right;\n",
       "    }\n",
       "</style>\n",
       "<table border=\"1\" class=\"dataframe\">\n",
       "  <thead>\n",
       "    <tr style=\"text-align: right;\">\n",
       "      <th>Above/Below 50k</th>\n",
       "      <th>&lt;=50K</th>\n",
       "      <th>&gt;50K</th>\n",
       "      <th>All</th>\n",
       "    </tr>\n",
       "    <tr>\n",
       "      <th>Sex</th>\n",
       "      <th></th>\n",
       "      <th></th>\n",
       "      <th></th>\n",
       "    </tr>\n",
       "  </thead>\n",
       "  <tbody>\n",
       "    <tr>\n",
       "      <th>Female</th>\n",
       "      <td>9592</td>\n",
       "      <td>1179</td>\n",
       "      <td>10771</td>\n",
       "    </tr>\n",
       "    <tr>\n",
       "      <th>Male</th>\n",
       "      <td>15128</td>\n",
       "      <td>6662</td>\n",
       "      <td>21790</td>\n",
       "    </tr>\n",
       "    <tr>\n",
       "      <th>All</th>\n",
       "      <td>24720</td>\n",
       "      <td>7841</td>\n",
       "      <td>32561</td>\n",
       "    </tr>\n",
       "  </tbody>\n",
       "</table>\n",
       "</div>"
      ],
      "text/plain": [
       "Above/Below 50k   <=50K   >50K    All\n",
       "Sex                                  \n",
       " Female            9592   1179  10771\n",
       " Male             15128   6662  21790\n",
       "All               24720   7841  32561"
      ]
     },
     "execution_count": 18,
     "metadata": {},
     "output_type": "execute_result"
    }
   ],
   "source": [
    "# https://pandas.pydata.org/pandas-docs/stable/reference/api/pandas.crosstab.html\n",
    "# margins parameter displays totals of rows and columns of contingency table\n",
    "pd.crosstab(df_adult[\"Sex\"], df_adult[\"Above/Below 50k\"], margins=True)"
   ]
  },
  {
   "cell_type": "code",
   "execution_count": 19,
   "id": "eb1dccf4-c204-42eb-83dd-e54051106cff",
   "metadata": {},
   "outputs": [
    {
     "data": {
      "text/html": [
       "<div>\n",
       "<style scoped>\n",
       "    .dataframe tbody tr th:only-of-type {\n",
       "        vertical-align: middle;\n",
       "    }\n",
       "\n",
       "    .dataframe tbody tr th {\n",
       "        vertical-align: top;\n",
       "    }\n",
       "\n",
       "    .dataframe thead th {\n",
       "        text-align: right;\n",
       "    }\n",
       "</style>\n",
       "<table border=\"1\" class=\"dataframe\">\n",
       "  <thead>\n",
       "    <tr style=\"text-align: right;\">\n",
       "      <th>Above/Below 50k</th>\n",
       "      <th>&lt;=50K</th>\n",
       "      <th>&gt;50K</th>\n",
       "    </tr>\n",
       "    <tr>\n",
       "      <th>Sex</th>\n",
       "      <th></th>\n",
       "      <th></th>\n",
       "    </tr>\n",
       "  </thead>\n",
       "  <tbody>\n",
       "    <tr>\n",
       "      <th>Female</th>\n",
       "      <td>0.294586</td>\n",
       "      <td>0.036209</td>\n",
       "    </tr>\n",
       "    <tr>\n",
       "      <th>Male</th>\n",
       "      <td>0.464605</td>\n",
       "      <td>0.204601</td>\n",
       "    </tr>\n",
       "  </tbody>\n",
       "</table>\n",
       "</div>"
      ],
      "text/plain": [
       "Above/Below 50k     <=50K      >50K\n",
       "Sex                                \n",
       "Female           0.294586  0.036209\n",
       "Male             0.464605  0.204601"
      ]
     },
     "execution_count": 19,
     "metadata": {},
     "output_type": "execute_result"
    }
   ],
   "source": [
    "pd.crosstab(df_adult[\"Sex\"], df_adult[\"Above/Below 50k\"], normalize=True)"
   ]
  },
  {
   "cell_type": "code",
   "execution_count": 20,
   "id": "4bbd52d3-59b1-4277-8b54-d32893a09cbb",
   "metadata": {},
   "outputs": [
    {
     "name": "stdout",
     "output_type": "stream",
     "text": [
      "                              Age         fnlgwt  Education Num  Capital Gain  \\\n",
      "Sex    Above/Below 50k                                                          \n",
      "Female <=50K            36.210801  185999.381359       9.820475    121.986134   \n",
      "       >50K             42.125530  183687.406277      11.787108   4200.389313   \n",
      "Male   <=50K            37.147012  193093.609268       9.452142    165.723823   \n",
      "       >50K             44.625788  188769.101321      11.580606   3971.765836   \n",
      "\n",
      "                        Capital Loss  Hours/Week  \n",
      "Sex    Above/Below 50k                            \n",
      "Female <=50K               47.364470   35.916701  \n",
      "       >50K               173.648855   40.426633  \n",
      "Male   <=50K               56.806782   40.693879  \n",
      "       >50K               198.780396   46.366106  \n"
     ]
    }
   ],
   "source": [
    "# Print out the mean of each group for all columns\n",
    "print(gb.mean(numeric_only=True))"
   ]
  },
  {
   "cell_type": "markdown",
   "id": "ff8e377b-ca7e-470a-9aaa-7d0e23abfc83",
   "metadata": {},
   "source": [
    "## Using pandas functions effectively\n",
    "\n",
    "To efficiently compute a statistic (e.g. mean) for each group in a dataframe:\n",
    "\n",
    "1. create the grouping\n",
    "2. compute the statistic on the variable of interest for that group\n",
    "\n",
    "An example of effiently computing the mean hours per week for each (\"Education\", \"Above/Below 50k\") grouping is shown in the next cell.\n",
    "\n",
    "### The inefficient way...\n",
    "\n",
    "The **inefficient** way to do the same thing would be to compute the means of all the numeric variables by the grouping and then filter for the variable we want. This would be done by substituting the following line for the last line of in the `code` cell that follows:  \n",
    "<code>\n",
    "df_adult.groupby(by=[\"Education\", \"Above/Below 50k\"]).mean()[[\"Hours/Week\"]] \n",
    "</code>\n",
    "\n"
   ]
  },
  {
   "cell_type": "code",
   "execution_count": 21,
   "id": "7c953c84-aad6-4004-8b1d-569266656a46",
   "metadata": {
    "scrolled": true
   },
   "outputs": [
    {
     "name": "stdout",
     "output_type": "stream",
     "text": [
      "Education     Above/Below 50k\n",
      "10th          <=50K              36.574053\n",
      "              >50K               43.774194\n",
      "11th          <=50K              33.322870\n",
      "              >50K               45.133333\n",
      "12th          <=50K              35.035000\n",
      "              >50K               44.818182\n",
      "1st-4th       <=50K              37.864198\n",
      "              >50K               48.833333\n",
      "5th-6th       <=50K              38.539432\n",
      "              >50K               46.000000\n",
      "7th-8th       <=50K              38.830033\n",
      "              >50K               47.500000\n",
      "9th           <=50K              37.667351\n",
      "              >50K               44.851852\n",
      "Assoc-acdm    <=50K              39.264339\n",
      "              >50K               44.256604\n",
      "Assoc-voc     <=50K              40.817826\n",
      "              >50K               43.853186\n",
      "Bachelors     <=50K              40.586152\n",
      "              >50K               45.475462\n",
      "Doctorate     <=50K              45.429907\n",
      "              >50K               47.513072\n",
      "HS-grad       <=50K              39.727510\n",
      "              >50K               45.042985\n",
      "Masters       <=50K              41.223822\n",
      "              >50K               45.917623\n",
      "Preschool     <=50K              36.647059\n",
      "Prof-school   <=50K              42.816993\n",
      "              >50K               49.092199\n",
      "Some-college  <=50K              37.450203\n",
      "              >50K               44.820476\n",
      "Name: Hours/Week, dtype: float64\n"
     ]
    }
   ],
   "source": [
    "# Create a list of user-selected variables\n",
    "user_list = [\"Education\", \"Above/Below 50k\"]\n",
    "\n",
    "# Create a GroupBy object using this list\n",
    "gb = df_adult.groupby(by=user_list)\n",
    "\n",
    "# Find the mean for the variable \"Hours/Week\" for each group efficiently\n",
    "# i.e. only compute the mean after filtering for the data we are interested in\n",
    "print(gb[\"Hours/Week\"].mean())"
   ]
  },
  {
   "cell_type": "markdown",
   "id": "d2e95c4b-b5a7-412e-b8ae-95580120f3b8",
   "metadata": {},
   "source": [
    "## Setting category variables\n",
    "\n",
    "The `.cat` accessor objects let's us access and manipulate the categories of a categorical `Series`. They take the form `Series.cat.method_name`. Common parameters to pass these methods are:\n",
    "\n",
    "+ new_categories - a list of categories\n",
    "+ inples: Boolean - whether or not the update should overwrite the Series\n",
    "+ ordered: Boolean - whether or not the categorical is treated as an orderd categorical\n",
    "\n",
    "## Categorical Methods\n",
    "\n",
    "+ `cat.set_categories()` - Can be used to set the order of categories. All values not specified in this method are dropped\n",
    "+ `cat.add_categories()` - Does not change the value of any data in the DataFrame. Categories not listed in this method are left alone\n",
    "+ `cat.remove_categories` -  Values matching categories listed are set to `NaN`"
   ]
  },
  {
   "cell_type": "code",
   "execution_count": 22,
   "id": "25e52a13-9ad8-42c3-bcc9-fc5786de961d",
   "metadata": {},
   "outputs": [
    {
     "name": "stdout",
     "output_type": "stream",
     "text": [
      "<class 'pandas.core.frame.DataFrame'>\n",
      "RangeIndex: 2937 entries, 0 to 2936\n",
      "Data columns (total 19 columns):\n",
      " #   Column             Non-Null Count  Dtype  \n",
      "---  ------             --------------  -----  \n",
      " 0   ID                 2937 non-null   int64  \n",
      " 1   name               2845 non-null   object \n",
      " 2   age                2937 non-null   float64\n",
      " 3   sex                2937 non-null   object \n",
      " 4   breed              2937 non-null   object \n",
      " 5   date_found         2937 non-null   object \n",
      " 6   adoptable_from     2937 non-null   object \n",
      " 7   posted             2937 non-null   object \n",
      " 8   color              2937 non-null   object \n",
      " 9   coat               2937 non-null   object \n",
      " 10  size               2937 non-null   object \n",
      " 11  neutered           1852 non-null   object \n",
      " 12  housebroken        460 non-null    object \n",
      " 13  likes_people       1999 non-null   object \n",
      " 14  likes_children     1219 non-null   object \n",
      " 15  get_along_males    1633 non-null   object \n",
      " 16  get_along_females  1673 non-null   object \n",
      " 17  get_along_cats     431 non-null    object \n",
      " 18  keep_in            1916 non-null   object \n",
      "dtypes: float64(1), int64(1), object(17)\n",
      "memory usage: 436.1+ KB\n"
     ]
    }
   ],
   "source": [
    "df_dogs = pd.read_csv(\"./data/ShelterDogs.csv\")\n",
    "df_dogs.info()"
   ]
  },
  {
   "cell_type": "code",
   "execution_count": 23,
   "id": "b400364f-8a6b-459e-93fd-106af2ffe524",
   "metadata": {},
   "outputs": [
    {
     "data": {
      "text/plain": [
       "coat\n",
       "short         1972\n",
       "medium         565\n",
       "wirehaired     220\n",
       "long           180\n",
       "Name: count, dtype: int64"
      ]
     },
     "execution_count": 23,
     "metadata": {},
     "output_type": "execute_result"
    }
   ],
   "source": [
    "# convert coat to a categorical variable and look at frequency distribution\n",
    "df_dogs[\"coat\"] = df_dogs[\"coat\"].astype(\"category\")\n",
    "df_dogs[\"coat\"].value_counts(dropna=False)  # passing dropna=False to check for missing values"
   ]
  },
  {
   "cell_type": "code",
   "execution_count": 24,
   "id": "4d9cefa5-9fd3-4ff5-a113-1a2aff519c40",
   "metadata": {},
   "outputs": [
    {
     "data": {
      "text/plain": [
       "coat\n",
       "short     1972\n",
       "medium     565\n",
       "NaN        220\n",
       "long       180\n",
       "Name: count, dtype: int64"
      ]
     },
     "execution_count": 24,
     "metadata": {},
     "output_type": "execute_result"
    }
   ],
   "source": [
    "df_dogs[\"coat\"] = df_dogs[\"coat\"].cat.set_categories(\n",
    "    new_categories = [\"short\", \"medium\", \"long\"],  # hair length\n",
    "    ordered = True\n",
    ")\n",
    "# drop the values that aren't one of our specified categories above\n",
    "df_dogs[\"coat\"].value_counts(dropna=False)"
   ]
  },
  {
   "cell_type": "code",
   "execution_count": 25,
   "id": "b57154b7-fa4b-4417-92ca-fff888d71aec",
   "metadata": {},
   "outputs": [
    {
     "data": {
      "text/plain": [
       "0     short\n",
       "1     short\n",
       "2     short\n",
       "3    medium\n",
       "4     short\n",
       "Name: coat, dtype: category\n",
       "Categories (3, object): ['short' < 'medium' < 'long']"
      ]
     },
     "execution_count": 25,
     "metadata": {},
     "output_type": "execute_result"
    }
   ],
   "source": [
    "df_dogs[\"coat\"].head()"
   ]
  },
  {
   "cell_type": "code",
   "execution_count": 26,
   "id": "11d8d33b-a890-41f9-afae-5394ca0b2b77",
   "metadata": {},
   "outputs": [
    {
     "data": {
      "text/plain": [
       "likes_people\n",
       "yes    1991\n",
       "NaN     938\n",
       "no        8\n",
       "Name: count, dtype: int64"
      ]
     },
     "execution_count": 26,
     "metadata": {},
     "output_type": "execute_result"
    }
   ],
   "source": [
    "df_dogs[\"likes_people\"].value_counts(dropna=False)"
   ]
  },
  {
   "cell_type": "code",
   "execution_count": 27,
   "id": "fcc3860f-7f31-45c9-a987-3e715b654774",
   "metadata": {},
   "outputs": [
    {
     "data": {
      "text/plain": [
       "Index(['no', 'yes', 'did not check', 'could not tell'], dtype='object')"
      ]
     },
     "execution_count": 27,
     "metadata": {},
     "output_type": "execute_result"
    }
   ],
   "source": [
    "# add category that maps to NaN\n",
    "df_dogs[\"likes_people\"] = df_dogs[\"likes_people\"].astype(\"category\")\n",
    "df_dogs[\"likes_people\"] = df_dogs[\"likes_people\"].cat.add_categories(\n",
    "    new_categories=[\"did not check\", \"could not tell\"]\n",
    ")\n",
    "df_dogs[\"likes_people\"].cat.categories"
   ]
  },
  {
   "cell_type": "code",
   "execution_count": 28,
   "id": "17708b90-ad09-4e45-9b6f-7de7f18b090e",
   "metadata": {},
   "outputs": [
    {
     "data": {
      "text/plain": [
       "likes_people\n",
       "yes               1991\n",
       "NaN                938\n",
       "no                   8\n",
       "did not check        0\n",
       "could not tell       0\n",
       "Name: count, dtype: int64"
      ]
     },
     "execution_count": 28,
     "metadata": {},
     "output_type": "execute_result"
    }
   ],
   "source": [
    "# we've created the new categories, but have not set any values to these new categories\n",
    "df_dogs[\"likes_people\"].value_counts(dropna=False)"
   ]
  },
  {
   "cell_type": "code",
   "execution_count": 29,
   "id": "aadbc5e0-7da8-4f19-b91b-5eaaab8af09c",
   "metadata": {},
   "outputs": [
    {
     "data": {
      "text/plain": [
       "Index(['long', 'medium', 'short'], dtype='object')"
      ]
     },
     "execution_count": 29,
     "metadata": {},
     "output_type": "execute_result"
    }
   ],
   "source": [
    "# removing categories sets them to NaN\n",
    "df_dogs = pd.read_csv(\"./data/ShelterDogs.csv\")  # reread so we can drop wirehaired category\n",
    "df_dogs[\"coat\"] = df_dogs[\"coat\"].astype(\"category\")\n",
    "df_dogs[\"coat\"] = df_dogs[\"coat\"].cat.remove_categories(removals=[\"wirehaired\"])\n",
    "df_dogs[\"coat\"].cat.categories"
   ]
  },
  {
   "cell_type": "code",
   "execution_count": null,
   "id": "118f606e-2a31-4b9c-8582-19bd84d0742e",
   "metadata": {},
   "outputs": [],
   "source": []
  },
  {
   "cell_type": "code",
   "execution_count": null,
   "id": "26fa50be-81e2-46aa-b254-cdcb70601f10",
   "metadata": {},
   "outputs": [],
   "source": []
  },
  {
   "cell_type": "code",
   "execution_count": null,
   "id": "4ebc12b4-23e3-451c-925a-404346524c75",
   "metadata": {},
   "outputs": [],
   "source": []
  },
  {
   "cell_type": "code",
   "execution_count": null,
   "id": "20bcbc14-c0eb-4bfc-b5fb-61f5207979c6",
   "metadata": {},
   "outputs": [],
   "source": []
  },
  {
   "cell_type": "code",
   "execution_count": null,
   "id": "e4016a90-2459-4728-b027-2a6c85bf2ce5",
   "metadata": {},
   "outputs": [],
   "source": []
  },
  {
   "cell_type": "code",
   "execution_count": null,
   "id": "fed8f626-876a-4ea6-bcb0-7b6489d392e7",
   "metadata": {},
   "outputs": [],
   "source": []
  },
  {
   "cell_type": "code",
   "execution_count": null,
   "id": "de1e8127-a333-4fbb-9e48-57999d6fe2cc",
   "metadata": {},
   "outputs": [],
   "source": []
  }
 ],
 "metadata": {
  "kernelspec": {
   "display_name": "Python 3 (ipykernel)",
   "language": "python",
   "name": "python3"
  },
  "language_info": {
   "codemirror_mode": {
    "name": "ipython",
    "version": 3
   },
   "file_extension": ".py",
   "mimetype": "text/x-python",
   "name": "python",
   "nbconvert_exporter": "python",
   "pygments_lexer": "ipython3",
   "version": "3.11.6"
  }
 },
 "nbformat": 4,
 "nbformat_minor": 5
}
